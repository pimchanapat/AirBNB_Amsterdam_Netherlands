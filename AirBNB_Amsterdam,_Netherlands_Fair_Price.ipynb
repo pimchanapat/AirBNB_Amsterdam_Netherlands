{
  "cells": [
    {
      "cell_type": "code",
      "execution_count": null,
      "metadata": {
        "id": "39h0Fyqq_7yW"
      },
      "outputs": [],
      "source": [
        "import pandas as pd\n",
        "import numpy as np\n",
        "import seaborn as sns\n",
        "import matplotlib.pyplot as plt"
      ]
    },
    {
      "cell_type": "code",
      "execution_count": null,
      "metadata": {
        "id": "Ujt7Foz2AJOL",
        "colab": {
          "base_uri": "https://localhost:8080/"
        },
        "outputId": "3d24454e-6b36-4d6c-80b1-f59018b4b0f5"
      },
      "outputs": [
        {
          "output_type": "stream",
          "name": "stdout",
          "text": [
            "Mounted at /content/drive\n"
          ]
        }
      ],
      "source": [
        "from google.colab import drive\n",
        "drive.mount('/content/drive')"
      ]
    },
    {
      "cell_type": "markdown",
      "metadata": {
        "id": "zNS8rgxoMnaC"
      },
      "source": [
        "###Load"
      ]
    },
    {
      "cell_type": "code",
      "source": [
        "listing = \"/content/drive/MyDrive/Project - KDAI/Data Mining/AirBNB/listingszip1.csv\"\n",
        "neighbour = \"/content/drive/MyDrive/Project - KDAI/Data Mining/AirBNB/neighbourhoods.csv\"\n",
        "neighbourjson = \"/content/drive/MyDrive/Project - KDAI/Data Mining/AirBNB/neighbourhoods.geojson\"\n",
        "\n",
        "ls=pd.read_csv(listing)\n",
        "nb=pd.read_csv(neighbourjson)"
      ],
      "metadata": {
        "id": "TwvLDHOyTHSg"
      },
      "execution_count": null,
      "outputs": []
    },
    {
      "cell_type": "code",
      "execution_count": null,
      "metadata": {
        "id": "u93OSboeAOoJ"
      },
      "outputs": [],
      "source": [
        "# #Ton\n",
        "# calendar= \"/content/drive/MyDrive/AIrBNB/calendar.csv\"\n",
        "# #listing = \"/content/drive/MyDrive/AIrBNB/listingszip.csv\"\n",
        "# listing = \"/content/drive/MyDrive/AIrBNB/fairprice.csv\"\n",
        "# neighbour = \"/content/drive/MyDrive/AIrBNB/neighbourhoods.csv\"\n",
        "# neighbourjson = \"/content/drive/MyDrive/AIrBNB/neighbourhoods.geojson\"\n",
        "# review = \"/content/drive/MyDrive/AIrBNB/reviewszip.csv\"\n",
        "# #listing = \"/content/drive/MyDrive/AIrBNB/listingsziptest.csv\"\n",
        "\n",
        "\n",
        "# cd=pd.read_csv(calendar)\n",
        "# ls=pd.read_csv(listing)\n",
        "# nb=pd.read_csv(neighbour)\n",
        "# rv=pd.read_csv(review)"
      ]
    },
    {
      "cell_type": "code",
      "source": [
        "#Mew\n",
        "\n",
        "# #Ton\n",
        "# calendar= \"/content/drive/MyDrive/AIrBNB/calendar.csv\"\n",
        "# listing = \"/content/drive/MyDrive/AIrBNB/listingszip.csv\"\n",
        "# neighbour = \"/content/drive/MyDrive/AIrBNB/neighbourhoods.csv\"\n",
        "# neighbourjson = \"/content/drive/MyDrive/AIrBNB/neighbourhoods.geojson\"\n",
        "# review = \"/content/drive/MyDrive/AIrBNB/reviewszip.csv\"\n",
        "# #listing = \"/content/drive/MyDrive/AIrBNB/listingsziptest.csv\"\n",
        "\n",
        "\n",
        "# cd=pd.read_csv(calendar)\n",
        "# ls=pd.read_csv(listing)\n",
        "# nb=pd.read_csv(neighbour)\n",
        "# rv=pd.read_csv(review)"
      ],
      "metadata": {
        "id": "LpJtcz9HX1tp"
      },
      "execution_count": null,
      "outputs": []
    },
    {
      "cell_type": "markdown",
      "metadata": {
        "id": "1VcP1w9tjq-e"
      },
      "source": [
        "##Explore Data"
      ]
    },
    {
      "cell_type": "code",
      "execution_count": null,
      "metadata": {
        "id": "eUux8NSiAgnm",
        "colab": {
          "base_uri": "https://localhost:8080/"
        },
        "outputId": "02f724b8-a382-4ba3-e794-c1e57c3d2c85"
      },
      "outputs": [
        {
          "output_type": "execute_result",
          "data": {
            "text/plain": [
              "           id                           listing_url     scrape_id  \\\n",
              "0  12345678.0                                     0  0.000000e+00   \n",
              "1   2780062.0  https://www.airbnb.com/rooms/2780062           NaN   \n",
              "2      2818.0     https://www.airbnb.com/rooms/2818  2.022091e+13   \n",
              "3     20168.0    https://www.airbnb.com/rooms/20168  2.022091e+13   \n",
              "4     27886.0    https://www.airbnb.com/rooms/27886  2.022091e+13   \n",
              "\n",
              "  last_scraped           source  \\\n",
              "0            0                0   \n",
              "1          NaN              NaN   \n",
              "2   2022-09-07      city scrape   \n",
              "3   2022-09-07  previous scrape   \n",
              "4   2022-09-07      city scrape   \n",
              "\n",
              "                                                name  \\\n",
              "0                                                  0   \n",
              "1                               The Studio Sixty Six   \n",
              "2           Quiet Garden View Room & Super Fast WiFi   \n",
              "3       Studio with private bathroom in the centre 1   \n",
              "4  Romantic, stylish B&B houseboat in canal district   \n",
              "\n",
              "                                         description  \\\n",
              "0  1 King bed Room size: 22 m^2/237 ft^2 Non smoking   \n",
              "1  Cosy 17th century studio with a minimalist/mod...   \n",
              "2  Quiet Garden View Room & Super Fast WiFi<br />...   \n",
              "3  17th century Dutch townhouse in the heart of t...   \n",
              "4  Stylish and romantic houseboat on fantastic hi...   \n",
              "\n",
              "                               neighborhood_overview  \\\n",
              "0                                                  0   \n",
              "1                                                NaN   \n",
              "2  Indische Buurt (\"Indies Neighborhood\") is a ne...   \n",
              "3  Located just in between famous central canals....   \n",
              "4         Central, quiet, safe, clean and beautiful.   \n",
              "\n",
              "                                         picture_url  host_id  ...  \\\n",
              "0                                                  0      0.0  ...   \n",
              "1                                                NaN      NaN  ...   \n",
              "2  https://a0.muscache.com/pictures/10272854/8dcc...   3159.0  ...   \n",
              "3  https://a0.muscache.com/pictures/69979628/fd6a...  59484.0  ...   \n",
              "4  https://a0.muscache.com/pictures/02c2da9d-660e...  97647.0  ...   \n",
              "\n",
              "  review_scores_communication review_scores_location review_scores_value  \\\n",
              "0                        0.00                   0.00                0.00   \n",
              "1                        4.90                   5.00                4.80   \n",
              "2                        4.98                   4.69                4.82   \n",
              "3                        4.62                   4.87                4.49   \n",
              "4                        0.00                   0.00                0.00   \n",
              "\n",
              "                    license instant_bookable calculated_host_listings_count  \\\n",
              "0                         0                0                              0   \n",
              "1  0363 A187 BBA0 D9F1 DE2A                t                              1   \n",
              "2  0363 5F3A 5684 6750 D14D                t                              1   \n",
              "3  0363 CBB3 2C10 0C2A 1E29                t                              2   \n",
              "4                         0                0                              0   \n",
              "\n",
              "  calculated_host_listings_count_entire_homes  \\\n",
              "0                                           0   \n",
              "1                                           0   \n",
              "2                                           0   \n",
              "3                                           0   \n",
              "4                                           0   \n",
              "\n",
              "  calculated_host_listings_count_private_rooms  \\\n",
              "0                                            0   \n",
              "1                                            1   \n",
              "2                                            1   \n",
              "3                                            2   \n",
              "4                                            0   \n",
              "\n",
              "  calculated_host_listings_count_shared_rooms reviews_per_month  \n",
              "0                                           0              0.00  \n",
              "1                                           0              1.21  \n",
              "2                                           0              1.86  \n",
              "3                                           0              2.22  \n",
              "4                                           0              0.00  \n",
              "\n",
              "[5 rows x 75 columns]"
            ],
            "text/html": [
              "\n",
              "  <div id=\"df-d77573bb-7692-4ec3-8092-f40ebbec5ef3\">\n",
              "    <div class=\"colab-df-container\">\n",
              "      <div>\n",
              "<style scoped>\n",
              "    .dataframe tbody tr th:only-of-type {\n",
              "        vertical-align: middle;\n",
              "    }\n",
              "\n",
              "    .dataframe tbody tr th {\n",
              "        vertical-align: top;\n",
              "    }\n",
              "\n",
              "    .dataframe thead th {\n",
              "        text-align: right;\n",
              "    }\n",
              "</style>\n",
              "<table border=\"1\" class=\"dataframe\">\n",
              "  <thead>\n",
              "    <tr style=\"text-align: right;\">\n",
              "      <th></th>\n",
              "      <th>id</th>\n",
              "      <th>listing_url</th>\n",
              "      <th>scrape_id</th>\n",
              "      <th>last_scraped</th>\n",
              "      <th>source</th>\n",
              "      <th>name</th>\n",
              "      <th>description</th>\n",
              "      <th>neighborhood_overview</th>\n",
              "      <th>picture_url</th>\n",
              "      <th>host_id</th>\n",
              "      <th>...</th>\n",
              "      <th>review_scores_communication</th>\n",
              "      <th>review_scores_location</th>\n",
              "      <th>review_scores_value</th>\n",
              "      <th>license</th>\n",
              "      <th>instant_bookable</th>\n",
              "      <th>calculated_host_listings_count</th>\n",
              "      <th>calculated_host_listings_count_entire_homes</th>\n",
              "      <th>calculated_host_listings_count_private_rooms</th>\n",
              "      <th>calculated_host_listings_count_shared_rooms</th>\n",
              "      <th>reviews_per_month</th>\n",
              "    </tr>\n",
              "  </thead>\n",
              "  <tbody>\n",
              "    <tr>\n",
              "      <th>0</th>\n",
              "      <td>12345678.0</td>\n",
              "      <td>0</td>\n",
              "      <td>0.000000e+00</td>\n",
              "      <td>0</td>\n",
              "      <td>0</td>\n",
              "      <td>0</td>\n",
              "      <td>1 King bed Room size: 22 m^2/237 ft^2 Non smoking</td>\n",
              "      <td>0</td>\n",
              "      <td>0</td>\n",
              "      <td>0.0</td>\n",
              "      <td>...</td>\n",
              "      <td>0.00</td>\n",
              "      <td>0.00</td>\n",
              "      <td>0.00</td>\n",
              "      <td>0</td>\n",
              "      <td>0</td>\n",
              "      <td>0</td>\n",
              "      <td>0</td>\n",
              "      <td>0</td>\n",
              "      <td>0</td>\n",
              "      <td>0.00</td>\n",
              "    </tr>\n",
              "    <tr>\n",
              "      <th>1</th>\n",
              "      <td>2780062.0</td>\n",
              "      <td>https://www.airbnb.com/rooms/2780062</td>\n",
              "      <td>NaN</td>\n",
              "      <td>NaN</td>\n",
              "      <td>NaN</td>\n",
              "      <td>The Studio Sixty Six</td>\n",
              "      <td>Cosy 17th century studio with a minimalist/mod...</td>\n",
              "      <td>NaN</td>\n",
              "      <td>NaN</td>\n",
              "      <td>NaN</td>\n",
              "      <td>...</td>\n",
              "      <td>4.90</td>\n",
              "      <td>5.00</td>\n",
              "      <td>4.80</td>\n",
              "      <td>0363 A187 BBA0 D9F1 DE2A</td>\n",
              "      <td>t</td>\n",
              "      <td>1</td>\n",
              "      <td>0</td>\n",
              "      <td>1</td>\n",
              "      <td>0</td>\n",
              "      <td>1.21</td>\n",
              "    </tr>\n",
              "    <tr>\n",
              "      <th>2</th>\n",
              "      <td>2818.0</td>\n",
              "      <td>https://www.airbnb.com/rooms/2818</td>\n",
              "      <td>2.022091e+13</td>\n",
              "      <td>2022-09-07</td>\n",
              "      <td>city scrape</td>\n",
              "      <td>Quiet Garden View Room &amp; Super Fast WiFi</td>\n",
              "      <td>Quiet Garden View Room &amp; Super Fast WiFi&lt;br /&gt;...</td>\n",
              "      <td>Indische Buurt (\"Indies Neighborhood\") is a ne...</td>\n",
              "      <td>https://a0.muscache.com/pictures/10272854/8dcc...</td>\n",
              "      <td>3159.0</td>\n",
              "      <td>...</td>\n",
              "      <td>4.98</td>\n",
              "      <td>4.69</td>\n",
              "      <td>4.82</td>\n",
              "      <td>0363 5F3A 5684 6750 D14D</td>\n",
              "      <td>t</td>\n",
              "      <td>1</td>\n",
              "      <td>0</td>\n",
              "      <td>1</td>\n",
              "      <td>0</td>\n",
              "      <td>1.86</td>\n",
              "    </tr>\n",
              "    <tr>\n",
              "      <th>3</th>\n",
              "      <td>20168.0</td>\n",
              "      <td>https://www.airbnb.com/rooms/20168</td>\n",
              "      <td>2.022091e+13</td>\n",
              "      <td>2022-09-07</td>\n",
              "      <td>previous scrape</td>\n",
              "      <td>Studio with private bathroom in the centre 1</td>\n",
              "      <td>17th century Dutch townhouse in the heart of t...</td>\n",
              "      <td>Located just in between famous central canals....</td>\n",
              "      <td>https://a0.muscache.com/pictures/69979628/fd6a...</td>\n",
              "      <td>59484.0</td>\n",
              "      <td>...</td>\n",
              "      <td>4.62</td>\n",
              "      <td>4.87</td>\n",
              "      <td>4.49</td>\n",
              "      <td>0363 CBB3 2C10 0C2A 1E29</td>\n",
              "      <td>t</td>\n",
              "      <td>2</td>\n",
              "      <td>0</td>\n",
              "      <td>2</td>\n",
              "      <td>0</td>\n",
              "      <td>2.22</td>\n",
              "    </tr>\n",
              "    <tr>\n",
              "      <th>4</th>\n",
              "      <td>27886.0</td>\n",
              "      <td>https://www.airbnb.com/rooms/27886</td>\n",
              "      <td>2.022091e+13</td>\n",
              "      <td>2022-09-07</td>\n",
              "      <td>city scrape</td>\n",
              "      <td>Romantic, stylish B&amp;B houseboat in canal district</td>\n",
              "      <td>Stylish and romantic houseboat on fantastic hi...</td>\n",
              "      <td>Central, quiet, safe, clean and beautiful.</td>\n",
              "      <td>https://a0.muscache.com/pictures/02c2da9d-660e...</td>\n",
              "      <td>97647.0</td>\n",
              "      <td>...</td>\n",
              "      <td>0.00</td>\n",
              "      <td>0.00</td>\n",
              "      <td>0.00</td>\n",
              "      <td>0</td>\n",
              "      <td>0</td>\n",
              "      <td>0</td>\n",
              "      <td>0</td>\n",
              "      <td>0</td>\n",
              "      <td>0</td>\n",
              "      <td>0.00</td>\n",
              "    </tr>\n",
              "  </tbody>\n",
              "</table>\n",
              "<p>5 rows × 75 columns</p>\n",
              "</div>\n",
              "      <button class=\"colab-df-convert\" onclick=\"convertToInteractive('df-d77573bb-7692-4ec3-8092-f40ebbec5ef3')\"\n",
              "              title=\"Convert this dataframe to an interactive table.\"\n",
              "              style=\"display:none;\">\n",
              "        \n",
              "  <svg xmlns=\"http://www.w3.org/2000/svg\" height=\"24px\"viewBox=\"0 0 24 24\"\n",
              "       width=\"24px\">\n",
              "    <path d=\"M0 0h24v24H0V0z\" fill=\"none\"/>\n",
              "    <path d=\"M18.56 5.44l.94 2.06.94-2.06 2.06-.94-2.06-.94-.94-2.06-.94 2.06-2.06.94zm-11 1L8.5 8.5l.94-2.06 2.06-.94-2.06-.94L8.5 2.5l-.94 2.06-2.06.94zm10 10l.94 2.06.94-2.06 2.06-.94-2.06-.94-.94-2.06-.94 2.06-2.06.94z\"/><path d=\"M17.41 7.96l-1.37-1.37c-.4-.4-.92-.59-1.43-.59-.52 0-1.04.2-1.43.59L10.3 9.45l-7.72 7.72c-.78.78-.78 2.05 0 2.83L4 21.41c.39.39.9.59 1.41.59.51 0 1.02-.2 1.41-.59l7.78-7.78 2.81-2.81c.8-.78.8-2.07 0-2.86zM5.41 20L4 18.59l7.72-7.72 1.47 1.35L5.41 20z\"/>\n",
              "  </svg>\n",
              "      </button>\n",
              "      \n",
              "  <style>\n",
              "    .colab-df-container {\n",
              "      display:flex;\n",
              "      flex-wrap:wrap;\n",
              "      gap: 12px;\n",
              "    }\n",
              "\n",
              "    .colab-df-convert {\n",
              "      background-color: #E8F0FE;\n",
              "      border: none;\n",
              "      border-radius: 50%;\n",
              "      cursor: pointer;\n",
              "      display: none;\n",
              "      fill: #1967D2;\n",
              "      height: 32px;\n",
              "      padding: 0 0 0 0;\n",
              "      width: 32px;\n",
              "    }\n",
              "\n",
              "    .colab-df-convert:hover {\n",
              "      background-color: #E2EBFA;\n",
              "      box-shadow: 0px 1px 2px rgba(60, 64, 67, 0.3), 0px 1px 3px 1px rgba(60, 64, 67, 0.15);\n",
              "      fill: #174EA6;\n",
              "    }\n",
              "\n",
              "    [theme=dark] .colab-df-convert {\n",
              "      background-color: #3B4455;\n",
              "      fill: #D2E3FC;\n",
              "    }\n",
              "\n",
              "    [theme=dark] .colab-df-convert:hover {\n",
              "      background-color: #434B5C;\n",
              "      box-shadow: 0px 1px 3px 1px rgba(0, 0, 0, 0.15);\n",
              "      filter: drop-shadow(0px 1px 2px rgba(0, 0, 0, 0.3));\n",
              "      fill: #FFFFFF;\n",
              "    }\n",
              "  </style>\n",
              "\n",
              "      <script>\n",
              "        const buttonEl =\n",
              "          document.querySelector('#df-d77573bb-7692-4ec3-8092-f40ebbec5ef3 button.colab-df-convert');\n",
              "        buttonEl.style.display =\n",
              "          google.colab.kernel.accessAllowed ? 'block' : 'none';\n",
              "\n",
              "        async function convertToInteractive(key) {\n",
              "          const element = document.querySelector('#df-d77573bb-7692-4ec3-8092-f40ebbec5ef3');\n",
              "          const dataTable =\n",
              "            await google.colab.kernel.invokeFunction('convertToInteractive',\n",
              "                                                     [key], {});\n",
              "          if (!dataTable) return;\n",
              "\n",
              "          const docLinkHtml = 'Like what you see? Visit the ' +\n",
              "            '<a target=\"_blank\" href=https://colab.research.google.com/notebooks/data_table.ipynb>data table notebook</a>'\n",
              "            + ' to learn more about interactive tables.';\n",
              "          element.innerHTML = '';\n",
              "          dataTable['output_type'] = 'display_data';\n",
              "          await google.colab.output.renderOutput(dataTable, element);\n",
              "          const docLink = document.createElement('div');\n",
              "          docLink.innerHTML = docLinkHtml;\n",
              "          element.appendChild(docLink);\n",
              "        }\n",
              "      </script>\n",
              "    </div>\n",
              "  </div>\n",
              "  "
            ]
          },
          "metadata": {},
          "execution_count": 8
        }
      ],
      "source": [
        "ls.head()"
      ]
    },
    {
      "cell_type": "code",
      "execution_count": null,
      "metadata": {
        "id": "KEC4VdDBB_Ks",
        "colab": {
          "base_uri": "https://localhost:8080/"
        },
        "outputId": "5a448ead-1b4c-46c1-910f-e79c433b2287"
      },
      "outputs": [
        {
          "output_type": "execute_result",
          "data": {
            "text/plain": [
              "                                 listing_url last_scraped       source  \\\n",
              "count                                   6895         6894         6894   \n",
              "unique                                  6894            3            3   \n",
              "top     https://www.airbnb.com/rooms/2780062   2022-09-07  city scrape   \n",
              "freq                                       2         6892         4332   \n",
              "\n",
              "                                                name  \\\n",
              "count                                           6895   \n",
              "unique                                          6820   \n",
              "top     Residences | 2-Bedrooms | Serviced Apartment   \n",
              "freq                                              11   \n",
              "\n",
              "                                              description  \\\n",
              "count                                                6879   \n",
              "unique                                               6779   \n",
              "top     This private apartment (not a room) is fully e...   \n",
              "freq                                                    7   \n",
              "\n",
              "                                    neighborhood_overview  \\\n",
              "count                                                4629   \n",
              "unique                                               4184   \n",
              "top     Traditionally a blue collar neighbourhood just...   \n",
              "freq                                                   19   \n",
              "\n",
              "                                              picture_url  \\\n",
              "count                                                6894   \n",
              "unique                                               6810   \n",
              "top     https://a0.muscache.com/pictures/d6ffe619-9708...   \n",
              "freq                                                    7   \n",
              "\n",
              "                                          host_url host_name  host_since  ...  \\\n",
              "count                                         6894      6895        6895  ...   \n",
              "unique                                        5770      2824        2658  ...   \n",
              "top     https://www.airbnb.com/users/show/14574533     Peter  2014-04-22  ...   \n",
              "freq                                            21        51          25  ...   \n",
              "\n",
              "              room_type bathrooms_text  \\\n",
              "count              6895           6880   \n",
              "unique                5             24   \n",
              "top     Entire home/apt         1 bath   \n",
              "freq               4922           2795   \n",
              "\n",
              "                                                amenities    price  \\\n",
              "count                                                6895     6895   \n",
              "unique                                               6695      591   \n",
              "top     [\"Wifi\", \"Shampoo\", \"TV\", \"Heating\", \"Long ter...  $150.00   \n",
              "freq                                                    9      253   \n",
              "\n",
              "       has_availability calendar_last_scraped first_review last_review  \\\n",
              "count              6895                  6894         6248        6249   \n",
              "unique                3                     3         2284         855   \n",
              "top                   t            2022-09-07   2022-05-29  2022-09-04   \n",
              "freq               6875                  6892           27         261   \n",
              "\n",
              "       license instant_bookable  \n",
              "count     6451             6895  \n",
              "unique    5412                3  \n",
              "top     Exempt                f  \n",
              "freq       605             4761  \n",
              "\n",
              "[4 rows x 35 columns]"
            ],
            "text/html": [
              "\n",
              "  <div id=\"df-eb3fff5a-0966-45b3-ab34-d511f9009c6a\">\n",
              "    <div class=\"colab-df-container\">\n",
              "      <div>\n",
              "<style scoped>\n",
              "    .dataframe tbody tr th:only-of-type {\n",
              "        vertical-align: middle;\n",
              "    }\n",
              "\n",
              "    .dataframe tbody tr th {\n",
              "        vertical-align: top;\n",
              "    }\n",
              "\n",
              "    .dataframe thead th {\n",
              "        text-align: right;\n",
              "    }\n",
              "</style>\n",
              "<table border=\"1\" class=\"dataframe\">\n",
              "  <thead>\n",
              "    <tr style=\"text-align: right;\">\n",
              "      <th></th>\n",
              "      <th>listing_url</th>\n",
              "      <th>last_scraped</th>\n",
              "      <th>source</th>\n",
              "      <th>name</th>\n",
              "      <th>description</th>\n",
              "      <th>neighborhood_overview</th>\n",
              "      <th>picture_url</th>\n",
              "      <th>host_url</th>\n",
              "      <th>host_name</th>\n",
              "      <th>host_since</th>\n",
              "      <th>...</th>\n",
              "      <th>room_type</th>\n",
              "      <th>bathrooms_text</th>\n",
              "      <th>amenities</th>\n",
              "      <th>price</th>\n",
              "      <th>has_availability</th>\n",
              "      <th>calendar_last_scraped</th>\n",
              "      <th>first_review</th>\n",
              "      <th>last_review</th>\n",
              "      <th>license</th>\n",
              "      <th>instant_bookable</th>\n",
              "    </tr>\n",
              "  </thead>\n",
              "  <tbody>\n",
              "    <tr>\n",
              "      <th>count</th>\n",
              "      <td>6895</td>\n",
              "      <td>6894</td>\n",
              "      <td>6894</td>\n",
              "      <td>6895</td>\n",
              "      <td>6879</td>\n",
              "      <td>4629</td>\n",
              "      <td>6894</td>\n",
              "      <td>6894</td>\n",
              "      <td>6895</td>\n",
              "      <td>6895</td>\n",
              "      <td>...</td>\n",
              "      <td>6895</td>\n",
              "      <td>6880</td>\n",
              "      <td>6895</td>\n",
              "      <td>6895</td>\n",
              "      <td>6895</td>\n",
              "      <td>6894</td>\n",
              "      <td>6248</td>\n",
              "      <td>6249</td>\n",
              "      <td>6451</td>\n",
              "      <td>6895</td>\n",
              "    </tr>\n",
              "    <tr>\n",
              "      <th>unique</th>\n",
              "      <td>6894</td>\n",
              "      <td>3</td>\n",
              "      <td>3</td>\n",
              "      <td>6820</td>\n",
              "      <td>6779</td>\n",
              "      <td>4184</td>\n",
              "      <td>6810</td>\n",
              "      <td>5770</td>\n",
              "      <td>2824</td>\n",
              "      <td>2658</td>\n",
              "      <td>...</td>\n",
              "      <td>5</td>\n",
              "      <td>24</td>\n",
              "      <td>6695</td>\n",
              "      <td>591</td>\n",
              "      <td>3</td>\n",
              "      <td>3</td>\n",
              "      <td>2284</td>\n",
              "      <td>855</td>\n",
              "      <td>5412</td>\n",
              "      <td>3</td>\n",
              "    </tr>\n",
              "    <tr>\n",
              "      <th>top</th>\n",
              "      <td>https://www.airbnb.com/rooms/2780062</td>\n",
              "      <td>2022-09-07</td>\n",
              "      <td>city scrape</td>\n",
              "      <td>Residences | 2-Bedrooms | Serviced Apartment</td>\n",
              "      <td>This private apartment (not a room) is fully e...</td>\n",
              "      <td>Traditionally a blue collar neighbourhood just...</td>\n",
              "      <td>https://a0.muscache.com/pictures/d6ffe619-9708...</td>\n",
              "      <td>https://www.airbnb.com/users/show/14574533</td>\n",
              "      <td>Peter</td>\n",
              "      <td>2014-04-22</td>\n",
              "      <td>...</td>\n",
              "      <td>Entire home/apt</td>\n",
              "      <td>1 bath</td>\n",
              "      <td>[\"Wifi\", \"Shampoo\", \"TV\", \"Heating\", \"Long ter...</td>\n",
              "      <td>$150.00</td>\n",
              "      <td>t</td>\n",
              "      <td>2022-09-07</td>\n",
              "      <td>2022-05-29</td>\n",
              "      <td>2022-09-04</td>\n",
              "      <td>Exempt</td>\n",
              "      <td>f</td>\n",
              "    </tr>\n",
              "    <tr>\n",
              "      <th>freq</th>\n",
              "      <td>2</td>\n",
              "      <td>6892</td>\n",
              "      <td>4332</td>\n",
              "      <td>11</td>\n",
              "      <td>7</td>\n",
              "      <td>19</td>\n",
              "      <td>7</td>\n",
              "      <td>21</td>\n",
              "      <td>51</td>\n",
              "      <td>25</td>\n",
              "      <td>...</td>\n",
              "      <td>4922</td>\n",
              "      <td>2795</td>\n",
              "      <td>9</td>\n",
              "      <td>253</td>\n",
              "      <td>6875</td>\n",
              "      <td>6892</td>\n",
              "      <td>27</td>\n",
              "      <td>261</td>\n",
              "      <td>605</td>\n",
              "      <td>4761</td>\n",
              "    </tr>\n",
              "  </tbody>\n",
              "</table>\n",
              "<p>4 rows × 35 columns</p>\n",
              "</div>\n",
              "      <button class=\"colab-df-convert\" onclick=\"convertToInteractive('df-eb3fff5a-0966-45b3-ab34-d511f9009c6a')\"\n",
              "              title=\"Convert this dataframe to an interactive table.\"\n",
              "              style=\"display:none;\">\n",
              "        \n",
              "  <svg xmlns=\"http://www.w3.org/2000/svg\" height=\"24px\"viewBox=\"0 0 24 24\"\n",
              "       width=\"24px\">\n",
              "    <path d=\"M0 0h24v24H0V0z\" fill=\"none\"/>\n",
              "    <path d=\"M18.56 5.44l.94 2.06.94-2.06 2.06-.94-2.06-.94-.94-2.06-.94 2.06-2.06.94zm-11 1L8.5 8.5l.94-2.06 2.06-.94-2.06-.94L8.5 2.5l-.94 2.06-2.06.94zm10 10l.94 2.06.94-2.06 2.06-.94-2.06-.94-.94-2.06-.94 2.06-2.06.94z\"/><path d=\"M17.41 7.96l-1.37-1.37c-.4-.4-.92-.59-1.43-.59-.52 0-1.04.2-1.43.59L10.3 9.45l-7.72 7.72c-.78.78-.78 2.05 0 2.83L4 21.41c.39.39.9.59 1.41.59.51 0 1.02-.2 1.41-.59l7.78-7.78 2.81-2.81c.8-.78.8-2.07 0-2.86zM5.41 20L4 18.59l7.72-7.72 1.47 1.35L5.41 20z\"/>\n",
              "  </svg>\n",
              "      </button>\n",
              "      \n",
              "  <style>\n",
              "    .colab-df-container {\n",
              "      display:flex;\n",
              "      flex-wrap:wrap;\n",
              "      gap: 12px;\n",
              "    }\n",
              "\n",
              "    .colab-df-convert {\n",
              "      background-color: #E8F0FE;\n",
              "      border: none;\n",
              "      border-radius: 50%;\n",
              "      cursor: pointer;\n",
              "      display: none;\n",
              "      fill: #1967D2;\n",
              "      height: 32px;\n",
              "      padding: 0 0 0 0;\n",
              "      width: 32px;\n",
              "    }\n",
              "\n",
              "    .colab-df-convert:hover {\n",
              "      background-color: #E2EBFA;\n",
              "      box-shadow: 0px 1px 2px rgba(60, 64, 67, 0.3), 0px 1px 3px 1px rgba(60, 64, 67, 0.15);\n",
              "      fill: #174EA6;\n",
              "    }\n",
              "\n",
              "    [theme=dark] .colab-df-convert {\n",
              "      background-color: #3B4455;\n",
              "      fill: #D2E3FC;\n",
              "    }\n",
              "\n",
              "    [theme=dark] .colab-df-convert:hover {\n",
              "      background-color: #434B5C;\n",
              "      box-shadow: 0px 1px 3px 1px rgba(0, 0, 0, 0.15);\n",
              "      filter: drop-shadow(0px 1px 2px rgba(0, 0, 0, 0.3));\n",
              "      fill: #FFFFFF;\n",
              "    }\n",
              "  </style>\n",
              "\n",
              "      <script>\n",
              "        const buttonEl =\n",
              "          document.querySelector('#df-eb3fff5a-0966-45b3-ab34-d511f9009c6a button.colab-df-convert');\n",
              "        buttonEl.style.display =\n",
              "          google.colab.kernel.accessAllowed ? 'block' : 'none';\n",
              "\n",
              "        async function convertToInteractive(key) {\n",
              "          const element = document.querySelector('#df-eb3fff5a-0966-45b3-ab34-d511f9009c6a');\n",
              "          const dataTable =\n",
              "            await google.colab.kernel.invokeFunction('convertToInteractive',\n",
              "                                                     [key], {});\n",
              "          if (!dataTable) return;\n",
              "\n",
              "          const docLinkHtml = 'Like what you see? Visit the ' +\n",
              "            '<a target=\"_blank\" href=https://colab.research.google.com/notebooks/data_table.ipynb>data table notebook</a>'\n",
              "            + ' to learn more about interactive tables.';\n",
              "          element.innerHTML = '';\n",
              "          dataTable['output_type'] = 'display_data';\n",
              "          await google.colab.output.renderOutput(dataTable, element);\n",
              "          const docLink = document.createElement('div');\n",
              "          docLink.innerHTML = docLinkHtml;\n",
              "          element.appendChild(docLink);\n",
              "        }\n",
              "      </script>\n",
              "    </div>\n",
              "  </div>\n",
              "  "
            ]
          },
          "metadata": {},
          "execution_count": 9
        }
      ],
      "source": [
        "ls.describe(include=\"object\")"
      ]
    },
    {
      "cell_type": "code",
      "execution_count": null,
      "metadata": {
        "id": "CXpcqG4IApAf",
        "colab": {
          "base_uri": "https://localhost:8080/"
        },
        "outputId": "c274b8e1-fe70-4a4a-a652-b1961c0a9aeb"
      },
      "outputs": [
        {
          "output_type": "stream",
          "name": "stdout",
          "text": [
            "<class 'pandas.core.frame.DataFrame'>\n",
            "RangeIndex: 6895 entries, 0 to 6894\n",
            "Data columns (total 75 columns):\n",
            " #   Column                                        Non-Null Count  Dtype  \n",
            "---  ------                                        --------------  -----  \n",
            " 0   id                                            6895 non-null   float64\n",
            " 1   listing_url                                   6895 non-null   object \n",
            " 2   scrape_id                                     6894 non-null   float64\n",
            " 3   last_scraped                                  6894 non-null   object \n",
            " 4   source                                        6894 non-null   object \n",
            " 5   name                                          6895 non-null   object \n",
            " 6   description                                   6879 non-null   object \n",
            " 7   neighborhood_overview                         4629 non-null   object \n",
            " 8   picture_url                                   6894 non-null   object \n",
            " 9   host_id                                       6894 non-null   float64\n",
            " 10  host_url                                      6894 non-null   object \n",
            " 11  host_name                                     6895 non-null   object \n",
            " 12  host_since                                    6895 non-null   object \n",
            " 13  host_location                                 6124 non-null   object \n",
            " 14  host_about                                    4130 non-null   object \n",
            " 15  host_response_time                            5238 non-null   object \n",
            " 16  host_response_rate                            5238 non-null   object \n",
            " 17  host_acceptance_rate                          6033 non-null   object \n",
            " 18  host_is_superhost                             6887 non-null   object \n",
            " 19  host_thumbnail_url                            6894 non-null   object \n",
            " 20  host_picture_url                              6894 non-null   object \n",
            " 21  host_neighbourhood                            3097 non-null   object \n",
            " 22  host_listings_count                           6895 non-null   int64  \n",
            " 23  host_total_listings_count                     6895 non-null   int64  \n",
            " 24  host_verifications                            6895 non-null   object \n",
            " 25  host_has_profile_pic                          6895 non-null   object \n",
            " 26  host_identity_verified                        6895 non-null   object \n",
            " 27  neighbourhood                                 4630 non-null   object \n",
            " 28  neighbourhood_cleansed                        6894 non-null   object \n",
            " 29  neighbourhood_group_cleansed                  1 non-null      float64\n",
            " 30  latitude                                      6895 non-null   float64\n",
            " 31  longitude                                     6895 non-null   float64\n",
            " 32  property_type                                 6895 non-null   object \n",
            " 33  room_type                                     6895 non-null   object \n",
            " 34  accommodates                                  6895 non-null   int64  \n",
            " 35  bathrooms                                     2 non-null      float64\n",
            " 36  bathrooms_text                                6880 non-null   object \n",
            " 37  bedrooms                                      6580 non-null   float64\n",
            " 38  beds                                          6794 non-null   float64\n",
            " 39  amenities                                     6895 non-null   object \n",
            " 40  price                                         6895 non-null   object \n",
            " 41  minimum_nights                                6895 non-null   int64  \n",
            " 42  maximum_nights                                6895 non-null   int64  \n",
            " 43  minimum_minimum_nights                        6892 non-null   float64\n",
            " 44  maximum_minimum_nights                        6892 non-null   float64\n",
            " 45  minimum_maximum_nights                        6892 non-null   float64\n",
            " 46  maximum_maximum_nights                        6892 non-null   float64\n",
            " 47  minimum_nights_avg_ntm                        6892 non-null   float64\n",
            " 48  maximum_nights_avg_ntm                        6892 non-null   float64\n",
            " 49  calendar_updated                              1 non-null      float64\n",
            " 50  has_availability                              6895 non-null   object \n",
            " 51  availability_30                               6895 non-null   int64  \n",
            " 52  availability_60                               6895 non-null   int64  \n",
            " 53  availability_90                               6895 non-null   int64  \n",
            " 54  availability_365                              6895 non-null   int64  \n",
            " 55  calendar_last_scraped                         6894 non-null   object \n",
            " 56  number_of_reviews                             6895 non-null   int64  \n",
            " 57  number_of_reviews_ltm                         6895 non-null   int64  \n",
            " 58  number_of_reviews_l30d                        6895 non-null   int64  \n",
            " 59  first_review                                  6248 non-null   object \n",
            " 60  last_review                                   6249 non-null   object \n",
            " 61  review_scores_rating                          6249 non-null   float64\n",
            " 62  review_scores_accuracy                        6244 non-null   float64\n",
            " 63  review_scores_cleanliness                     6244 non-null   float64\n",
            " 64  review_scores_checkin                         6244 non-null   float64\n",
            " 65  review_scores_communication                   6244 non-null   float64\n",
            " 66  review_scores_location                        6244 non-null   float64\n",
            " 67  review_scores_value                           6244 non-null   float64\n",
            " 68  license                                       6451 non-null   object \n",
            " 69  instant_bookable                              6895 non-null   object \n",
            " 70  calculated_host_listings_count                6895 non-null   int64  \n",
            " 71  calculated_host_listings_count_entire_homes   6895 non-null   int64  \n",
            " 72  calculated_host_listings_count_private_rooms  6895 non-null   int64  \n",
            " 73  calculated_host_listings_count_shared_rooms   6895 non-null   int64  \n",
            " 74  reviews_per_month                             6249 non-null   float64\n",
            "dtypes: float64(24), int64(16), object(35)\n",
            "memory usage: 3.9+ MB\n"
          ]
        }
      ],
      "source": [
        "ls.info()"
      ]
    },
    {
      "cell_type": "code",
      "source": [
        "ls.shape"
      ],
      "metadata": {
        "id": "vA_SGML7pp9A",
        "colab": {
          "base_uri": "https://localhost:8080/"
        },
        "outputId": "dc8f34c8-3357-4354-b548-d74e279ad8d7"
      },
      "execution_count": null,
      "outputs": [
        {
          "output_type": "execute_result",
          "data": {
            "text/plain": [
              "(6895, 75)"
            ]
          },
          "metadata": {},
          "execution_count": 11
        }
      ]
    },
    {
      "cell_type": "markdown",
      "metadata": {
        "id": "fV8ZtcCBBDaN"
      },
      "source": [
        "##Drop feature"
      ]
    },
    {
      "cell_type": "code",
      "execution_count": null,
      "metadata": {
        "id": "EQtBRk4aAvMY"
      },
      "outputs": [],
      "source": [
        "#NoValue\n",
        "ls.drop(columns=\"bathrooms\" , inplace=True)\n",
        "ls.drop(columns=\"neighbourhood_group_cleansed\" , inplace=True)\n",
        "ls.drop(columns=\"calendar_updated\" , inplace=True)"
      ]
    },
    {
      "cell_type": "code",
      "execution_count": null,
      "metadata": {
        "id": "48EFD91lAzzq"
      },
      "outputs": [],
      "source": [
        "#unqiue\n",
        "ls.drop(columns=\"listing_url\" , inplace=True)\n",
        "ls.drop(columns=\"picture_url\" , inplace=True)\n",
        "ls.drop(columns=\"host_url\" , inplace=True)\n",
        "ls.drop(columns=\"host_thumbnail_url\" , inplace=True)\n",
        "ls.drop(columns=\"host_picture_url\" , inplace=True)\n",
        "#NoRev\n",
        "ls.drop(columns=\"minimum_minimum_nights\" , inplace=True)\n",
        "ls.drop(columns=\"maximum_minimum_nights\" , inplace=True)\n",
        "ls.drop(columns=\"minimum_maximum_nights\" , inplace=True)\n",
        "ls.drop(columns=\"maximum_maximum_nights\" , inplace=True)"
      ]
    },
    {
      "cell_type": "code",
      "execution_count": null,
      "metadata": {
        "id": "yI3aAIB7Bf1n"
      },
      "outputs": [],
      "source": [
        "ls.drop(columns=\"description\" , inplace=True)\n",
        "ls.drop(columns=\"name\" , inplace=True)\n",
        "ls.drop(columns=\"neighborhood_overview\" , inplace=True)\n",
        "ls.drop(columns=\"host_about\" , inplace=True)\n",
        "ls.drop(columns=\"scrape_id\" , inplace=True)\n",
        "ls.drop(columns=\"host_name\" , inplace=True)\n",
        "ls.drop(columns=\"calendar_last_scraped\" , inplace=True)\n",
        "ls.drop(columns=\"first_review\" , inplace=True)\n",
        "ls.drop(columns=\"minimum_nights_avg_ntm\" , inplace=True)\n",
        "ls.drop(columns=\"maximum_nights_avg_ntm\" , inplace=True)\n",
        "ls.drop(columns=\"host_verifications\" , inplace=True)\n",
        "ls.drop(columns=\"host_neighbourhood\" , inplace=True)\n",
        "ls.drop(columns=\"neighbourhood\" , inplace=True)\n",
        "\n"
      ]
    },
    {
      "cell_type": "code",
      "execution_count": null,
      "metadata": {
        "id": "q6UCaa5NkBSO"
      },
      "outputs": [],
      "source": [
        "ls.drop(columns=\"last_scraped\" , inplace=True)\n",
        "ls.drop(columns=\"host_id\" , inplace=True)\n",
        "ls.drop(columns=\"host_location\" , inplace=True)\n",
        "ls.drop(columns=\"latitude\" , inplace=True)\n",
        "ls.drop(columns=\"longitude\" , inplace=True)\n",
        "ls.drop(columns=\"host_since\" , inplace=True)"
      ]
    },
    {
      "cell_type": "markdown",
      "source": [
        "##Isnull"
      ],
      "metadata": {
        "id": "JFh0UekmpDqG"
      }
    },
    {
      "cell_type": "code",
      "source": [
        "null = [\"host_response_time\",\"host_response_rate\",\"host_acceptance_rate\",\"host_is_superhost\",\"bathrooms_text\",\"bedrooms\",\"beds\",\"last_review\",\"review_scores_rating\",\"review_scores_accuracy\",\"review_scores_cleanliness\",\"review_scores_checkin\",\"review_scores_communication\",\"review_scores_location\",\"review_scores_value\",\"license\",\"reviews_per_month\"]"
      ],
      "metadata": {
        "id": "Ym322LkNlsbJ"
      },
      "execution_count": null,
      "outputs": []
    },
    {
      "cell_type": "code",
      "source": [
        "for i in null:\n",
        "  ls[i].fillna(ls[i].value_counts().idxmax(),inplace=True)"
      ],
      "metadata": {
        "id": "_HhXTh_zn-uN"
      },
      "execution_count": null,
      "outputs": []
    },
    {
      "cell_type": "code",
      "source": [
        "ls.isnull().sum()"
      ],
      "metadata": {
        "id": "eXveGMZdlaYZ",
        "colab": {
          "base_uri": "https://localhost:8080/"
        },
        "outputId": "eac2f120-6eb3-46ed-daba-55efb13d28bf"
      },
      "execution_count": null,
      "outputs": [
        {
          "output_type": "execute_result",
          "data": {
            "text/plain": [
              "id                                              0\n",
              "source                                          1\n",
              "host_response_time                              0\n",
              "host_response_rate                              0\n",
              "host_acceptance_rate                            0\n",
              "host_is_superhost                               0\n",
              "host_listings_count                             0\n",
              "host_total_listings_count                       0\n",
              "host_has_profile_pic                            0\n",
              "host_identity_verified                          0\n",
              "neighbourhood_cleansed                          1\n",
              "property_type                                   0\n",
              "room_type                                       0\n",
              "accommodates                                    0\n",
              "bathrooms_text                                  0\n",
              "bedrooms                                        0\n",
              "beds                                            0\n",
              "amenities                                       0\n",
              "price                                           0\n",
              "minimum_nights                                  0\n",
              "maximum_nights                                  0\n",
              "has_availability                                0\n",
              "availability_30                                 0\n",
              "availability_60                                 0\n",
              "availability_90                                 0\n",
              "availability_365                                0\n",
              "number_of_reviews                               0\n",
              "number_of_reviews_ltm                           0\n",
              "number_of_reviews_l30d                          0\n",
              "last_review                                     0\n",
              "review_scores_rating                            0\n",
              "review_scores_accuracy                          0\n",
              "review_scores_cleanliness                       0\n",
              "review_scores_checkin                           0\n",
              "review_scores_communication                     0\n",
              "review_scores_location                          0\n",
              "review_scores_value                             0\n",
              "license                                         0\n",
              "instant_bookable                                0\n",
              "calculated_host_listings_count                  0\n",
              "calculated_host_listings_count_entire_homes     0\n",
              "calculated_host_listings_count_private_rooms    0\n",
              "calculated_host_listings_count_shared_rooms     0\n",
              "reviews_per_month                               0\n",
              "dtype: int64"
            ]
          },
          "metadata": {},
          "execution_count": 18
        }
      ]
    },
    {
      "cell_type": "code",
      "source": [
        "ls['last_review'] = pd.to_datetime(ls.last_review)\n",
        "ls[\"last_review_month\"] = ls['last_review'].dt.month\n",
        "ls[\"last_review_day\"] = ls['last_review'].dt.weekday\n",
        "ls[\"last_review_year\"] = ls['last_review'].dt.year"
      ],
      "metadata": {
        "id": "kQXK1G0UsMqi"
      },
      "execution_count": null,
      "outputs": []
    },
    {
      "cell_type": "code",
      "source": [
        "ls.drop(columns=\"last_review\" , inplace=True)"
      ],
      "metadata": {
        "id": "trj_Hv23wP5D"
      },
      "execution_count": null,
      "outputs": []
    },
    {
      "cell_type": "code",
      "source": [
        "ls.info()"
      ],
      "metadata": {
        "id": "U4fHQrMJshgX",
        "colab": {
          "base_uri": "https://localhost:8080/"
        },
        "outputId": "aad21b13-4947-458a-9ccb-dc48267a199c"
      },
      "execution_count": null,
      "outputs": [
        {
          "output_type": "stream",
          "name": "stdout",
          "text": [
            "<class 'pandas.core.frame.DataFrame'>\n",
            "RangeIndex: 6895 entries, 0 to 6894\n",
            "Data columns (total 46 columns):\n",
            " #   Column                                        Non-Null Count  Dtype  \n",
            "---  ------                                        --------------  -----  \n",
            " 0   id                                            6895 non-null   float64\n",
            " 1   source                                        6894 non-null   object \n",
            " 2   host_response_time                            6895 non-null   object \n",
            " 3   host_response_rate                            6895 non-null   object \n",
            " 4   host_acceptance_rate                          6895 non-null   object \n",
            " 5   host_is_superhost                             6895 non-null   object \n",
            " 6   host_listings_count                           6895 non-null   int64  \n",
            " 7   host_total_listings_count                     6895 non-null   int64  \n",
            " 8   host_has_profile_pic                          6895 non-null   object \n",
            " 9   host_identity_verified                        6895 non-null   object \n",
            " 10  neighbourhood_cleansed                        6894 non-null   object \n",
            " 11  property_type                                 6895 non-null   object \n",
            " 12  room_type                                     6895 non-null   object \n",
            " 13  accommodates                                  6895 non-null   int64  \n",
            " 14  bathrooms_text                                6895 non-null   object \n",
            " 15  bedrooms                                      6895 non-null   float64\n",
            " 16  beds                                          6895 non-null   float64\n",
            " 17  amenities                                     6895 non-null   object \n",
            " 18  price                                         6895 non-null   object \n",
            " 19  minimum_nights                                6895 non-null   int64  \n",
            " 20  maximum_nights                                6895 non-null   int64  \n",
            " 21  has_availability                              6895 non-null   object \n",
            " 22  availability_30                               6895 non-null   int64  \n",
            " 23  availability_60                               6895 non-null   int64  \n",
            " 24  availability_90                               6895 non-null   int64  \n",
            " 25  availability_365                              6895 non-null   int64  \n",
            " 26  number_of_reviews                             6895 non-null   int64  \n",
            " 27  number_of_reviews_ltm                         6895 non-null   int64  \n",
            " 28  number_of_reviews_l30d                        6895 non-null   int64  \n",
            " 29  review_scores_rating                          6895 non-null   float64\n",
            " 30  review_scores_accuracy                        6895 non-null   float64\n",
            " 31  review_scores_cleanliness                     6895 non-null   float64\n",
            " 32  review_scores_checkin                         6895 non-null   float64\n",
            " 33  review_scores_communication                   6895 non-null   float64\n",
            " 34  review_scores_location                        6895 non-null   float64\n",
            " 35  review_scores_value                           6895 non-null   float64\n",
            " 36  license                                       6895 non-null   object \n",
            " 37  instant_bookable                              6895 non-null   object \n",
            " 38  calculated_host_listings_count                6895 non-null   int64  \n",
            " 39  calculated_host_listings_count_entire_homes   6895 non-null   int64  \n",
            " 40  calculated_host_listings_count_private_rooms  6895 non-null   int64  \n",
            " 41  calculated_host_listings_count_shared_rooms   6895 non-null   int64  \n",
            " 42  reviews_per_month                             6895 non-null   float64\n",
            " 43  last_review_month                             6895 non-null   int64  \n",
            " 44  last_review_day                               6895 non-null   int64  \n",
            " 45  last_review_year                              6895 non-null   int64  \n",
            "dtypes: float64(11), int64(19), object(16)\n",
            "memory usage: 2.4+ MB\n"
          ]
        }
      ]
    },
    {
      "cell_type": "markdown",
      "metadata": {
        "id": "J12usjGpL_ZL"
      },
      "source": [
        "##Bathrooms_text"
      ]
    },
    {
      "cell_type": "markdown",
      "metadata": {
        "id": "1jnOf3kXMEhB"
      },
      "source": [
        "จัดการข้อมูล Bathrooms_text โดยแจกออกมาเป็น bathrooms ที่เป็นตัวเลข และ Bathroom type"
      ]
    },
    {
      "cell_type": "code",
      "execution_count": null,
      "metadata": {
        "id": "7ACyr8R7POmw",
        "colab": {
          "base_uri": "https://localhost:8080/"
        },
        "outputId": "e9b9eb0e-5565-4f1d-c7b2-ff1d83d69ad3"
      },
      "outputs": [
        {
          "output_type": "execute_result",
          "data": {
            "text/plain": [
              "0                      0\n",
              "1              1.5 baths\n",
              "2       1.5 shared baths\n",
              "3         1 private bath\n",
              "4              1.5 baths\n",
              "              ...       \n",
              "6890           2.5 baths\n",
              "6891             3 baths\n",
              "6892             2 baths\n",
              "6893             2 baths\n",
              "6894             2 baths\n",
              "Name: bathrooms_text, Length: 6895, dtype: object"
            ]
          },
          "metadata": {},
          "execution_count": 22
        }
      ],
      "source": [
        "ls['bathrooms_text']"
      ]
    },
    {
      "cell_type": "code",
      "execution_count": null,
      "metadata": {
        "id": "BLe2Z50tPX6b",
        "colab": {
          "base_uri": "https://localhost:8080/"
        },
        "outputId": "e13c0ded-3d08-4fb3-cecb-f28ee193a0d0"
      },
      "outputs": [
        {
          "output_type": "execute_result",
          "data": {
            "text/plain": [
              "1 bath               2810\n",
              "1.5 baths            1925\n",
              "1 private bath        847\n",
              "2 baths               411\n",
              "1 shared bath         347\n",
              "1.5 shared baths      198\n",
              "2.5 baths             157\n",
              "3 baths                79\n",
              "3.5 baths              25\n",
              "0 shared baths         18\n",
              "Shared half-bath       17\n",
              "0 baths                15\n",
              "Half-bath               8\n",
              "2 shared baths          8\n",
              "4.5 baths               7\n",
              "Private half-bath       4\n",
              "5 baths                 4\n",
              "4 baths                 4\n",
              "3 shared baths          4\n",
              "5.5 baths               2\n",
              "4 shared baths          2\n",
              "17 baths                1\n",
              "0                       1\n",
              "3.5 shared baths        1\n",
              "Name: bathrooms_text, dtype: int64"
            ]
          },
          "metadata": {},
          "execution_count": 23
        }
      ],
      "source": [
        "ls['bathrooms_text'].value_counts()"
      ]
    },
    {
      "cell_type": "code",
      "execution_count": null,
      "metadata": {
        "id": "zFJXgy3cPXkZ"
      },
      "outputs": [],
      "source": [
        "ls['bathrooms_text'] = ls['bathrooms_text'].fillna('1 bath')"
      ]
    },
    {
      "cell_type": "markdown",
      "metadata": {
        "id": "lLDTLZJOMRJG"
      },
      "source": [
        "######Bathroom_text convert to bathrooms"
      ]
    },
    {
      "cell_type": "code",
      "execution_count": null,
      "metadata": {
        "id": "B5sN0R4OAGvn"
      },
      "outputs": [],
      "source": [
        "ls['bathrooms_text'] = ls['bathrooms_text'].str.replace(r'half|Half', \"0.5\" , regex=True)\n",
        "\n"
      ]
    },
    {
      "cell_type": "code",
      "execution_count": null,
      "metadata": {
        "id": "xMx4ULfGGuPK",
        "colab": {
          "base_uri": "https://localhost:8080/"
        },
        "outputId": "cae7261e-9cd8-4693-c67f-aba26263dfe6"
      },
      "outputs": [
        {
          "output_type": "execute_result",
          "data": {
            "text/plain": [
              "1 bath              2810\n",
              "1.5 baths           1925\n",
              "1 private bath       847\n",
              "2 baths              411\n",
              "1 shared bath        347\n",
              "1.5 shared baths     198\n",
              "2.5 baths            157\n",
              "3 baths               79\n",
              "3.5 baths             25\n",
              "0 shared baths        18\n",
              "Shared 0.5-bath       17\n",
              "0 baths               15\n",
              "0.5-bath               8\n",
              "2 shared baths         8\n",
              "4.5 baths              7\n",
              "Private 0.5-bath       4\n",
              "5 baths                4\n",
              "4 baths                4\n",
              "3 shared baths         4\n",
              "5.5 baths              2\n",
              "4 shared baths         2\n",
              "17 baths               1\n",
              "0                      1\n",
              "3.5 shared baths       1\n",
              "Name: bathrooms_text, dtype: int64"
            ]
          },
          "metadata": {},
          "execution_count": 26
        }
      ],
      "source": [
        "ls['bathrooms_text'].value_counts()"
      ]
    },
    {
      "cell_type": "code",
      "execution_count": null,
      "metadata": {
        "id": "eQ-qloUhBZAc"
      },
      "outputs": [],
      "source": [
        "ls['bathrooms'] = ls['bathrooms_text'].str.extract(r'([\\d]*[.][\\d]+|[\\d]+)')\n"
      ]
    },
    {
      "cell_type": "code",
      "execution_count": null,
      "metadata": {
        "id": "c2sBZF6gBiQt",
        "colab": {
          "base_uri": "https://localhost:8080/"
        },
        "outputId": "0050183a-eede-41ec-be00-fff6d431deb4"
      },
      "outputs": [
        {
          "output_type": "execute_result",
          "data": {
            "text/plain": [
              "1      4004\n",
              "1.5    2123\n",
              "2       419\n",
              "2.5     157\n",
              "3        83\n",
              "0        34\n",
              "0.5      29\n",
              "3.5      26\n",
              "4.5       7\n",
              "4         6\n",
              "5         4\n",
              "5.5       2\n",
              "17        1\n",
              "Name: bathrooms, dtype: int64"
            ]
          },
          "metadata": {},
          "execution_count": 28
        }
      ],
      "source": [
        "ls['bathrooms'].value_counts()"
      ]
    },
    {
      "cell_type": "markdown",
      "metadata": {
        "id": "nfNHw-AQMa6N"
      },
      "source": [
        "######Bathroom_text convert to bathrooms_type"
      ]
    },
    {
      "cell_type": "code",
      "execution_count": null,
      "metadata": {
        "id": "HnQ5uFl-lt9p",
        "colab": {
          "base_uri": "https://localhost:8080/"
        },
        "outputId": "d6bbdd1f-78b3-479e-df68-b60a13ec9416"
      },
      "outputs": [
        {
          "output_type": "execute_result",
          "data": {
            "text/plain": [
              "              id    bathrooms_text bathrooms bathrooms_type\n",
              "43      291752.0            1 bath         1            NaN\n",
              "49      308028.0  Private 0.5-bath       0.5        Private\n",
              "1313  10564421.0          0.5-bath       0.5            NaN\n",
              "1444  12392592.0   Shared 0.5-bath       0.5         Shared"
            ],
            "text/html": [
              "\n",
              "  <div id=\"df-86af35f6-9a7e-44bd-ac8e-c3aa1a36ff0b\">\n",
              "    <div class=\"colab-df-container\">\n",
              "      <div>\n",
              "<style scoped>\n",
              "    .dataframe tbody tr th:only-of-type {\n",
              "        vertical-align: middle;\n",
              "    }\n",
              "\n",
              "    .dataframe tbody tr th {\n",
              "        vertical-align: top;\n",
              "    }\n",
              "\n",
              "    .dataframe thead th {\n",
              "        text-align: right;\n",
              "    }\n",
              "</style>\n",
              "<table border=\"1\" class=\"dataframe\">\n",
              "  <thead>\n",
              "    <tr style=\"text-align: right;\">\n",
              "      <th></th>\n",
              "      <th>id</th>\n",
              "      <th>bathrooms_text</th>\n",
              "      <th>bathrooms</th>\n",
              "      <th>bathrooms_type</th>\n",
              "    </tr>\n",
              "  </thead>\n",
              "  <tbody>\n",
              "    <tr>\n",
              "      <th>43</th>\n",
              "      <td>291752.0</td>\n",
              "      <td>1 bath</td>\n",
              "      <td>1</td>\n",
              "      <td>NaN</td>\n",
              "    </tr>\n",
              "    <tr>\n",
              "      <th>49</th>\n",
              "      <td>308028.0</td>\n",
              "      <td>Private 0.5-bath</td>\n",
              "      <td>0.5</td>\n",
              "      <td>Private</td>\n",
              "    </tr>\n",
              "    <tr>\n",
              "      <th>1313</th>\n",
              "      <td>10564421.0</td>\n",
              "      <td>0.5-bath</td>\n",
              "      <td>0.5</td>\n",
              "      <td>NaN</td>\n",
              "    </tr>\n",
              "    <tr>\n",
              "      <th>1444</th>\n",
              "      <td>12392592.0</td>\n",
              "      <td>Shared 0.5-bath</td>\n",
              "      <td>0.5</td>\n",
              "      <td>Shared</td>\n",
              "    </tr>\n",
              "  </tbody>\n",
              "</table>\n",
              "</div>\n",
              "      <button class=\"colab-df-convert\" onclick=\"convertToInteractive('df-86af35f6-9a7e-44bd-ac8e-c3aa1a36ff0b')\"\n",
              "              title=\"Convert this dataframe to an interactive table.\"\n",
              "              style=\"display:none;\">\n",
              "        \n",
              "  <svg xmlns=\"http://www.w3.org/2000/svg\" height=\"24px\"viewBox=\"0 0 24 24\"\n",
              "       width=\"24px\">\n",
              "    <path d=\"M0 0h24v24H0V0z\" fill=\"none\"/>\n",
              "    <path d=\"M18.56 5.44l.94 2.06.94-2.06 2.06-.94-2.06-.94-.94-2.06-.94 2.06-2.06.94zm-11 1L8.5 8.5l.94-2.06 2.06-.94-2.06-.94L8.5 2.5l-.94 2.06-2.06.94zm10 10l.94 2.06.94-2.06 2.06-.94-2.06-.94-.94-2.06-.94 2.06-2.06.94z\"/><path d=\"M17.41 7.96l-1.37-1.37c-.4-.4-.92-.59-1.43-.59-.52 0-1.04.2-1.43.59L10.3 9.45l-7.72 7.72c-.78.78-.78 2.05 0 2.83L4 21.41c.39.39.9.59 1.41.59.51 0 1.02-.2 1.41-.59l7.78-7.78 2.81-2.81c.8-.78.8-2.07 0-2.86zM5.41 20L4 18.59l7.72-7.72 1.47 1.35L5.41 20z\"/>\n",
              "  </svg>\n",
              "      </button>\n",
              "      \n",
              "  <style>\n",
              "    .colab-df-container {\n",
              "      display:flex;\n",
              "      flex-wrap:wrap;\n",
              "      gap: 12px;\n",
              "    }\n",
              "\n",
              "    .colab-df-convert {\n",
              "      background-color: #E8F0FE;\n",
              "      border: none;\n",
              "      border-radius: 50%;\n",
              "      cursor: pointer;\n",
              "      display: none;\n",
              "      fill: #1967D2;\n",
              "      height: 32px;\n",
              "      padding: 0 0 0 0;\n",
              "      width: 32px;\n",
              "    }\n",
              "\n",
              "    .colab-df-convert:hover {\n",
              "      background-color: #E2EBFA;\n",
              "      box-shadow: 0px 1px 2px rgba(60, 64, 67, 0.3), 0px 1px 3px 1px rgba(60, 64, 67, 0.15);\n",
              "      fill: #174EA6;\n",
              "    }\n",
              "\n",
              "    [theme=dark] .colab-df-convert {\n",
              "      background-color: #3B4455;\n",
              "      fill: #D2E3FC;\n",
              "    }\n",
              "\n",
              "    [theme=dark] .colab-df-convert:hover {\n",
              "      background-color: #434B5C;\n",
              "      box-shadow: 0px 1px 3px 1px rgba(0, 0, 0, 0.15);\n",
              "      filter: drop-shadow(0px 1px 2px rgba(0, 0, 0, 0.3));\n",
              "      fill: #FFFFFF;\n",
              "    }\n",
              "  </style>\n",
              "\n",
              "      <script>\n",
              "        const buttonEl =\n",
              "          document.querySelector('#df-86af35f6-9a7e-44bd-ac8e-c3aa1a36ff0b button.colab-df-convert');\n",
              "        buttonEl.style.display =\n",
              "          google.colab.kernel.accessAllowed ? 'block' : 'none';\n",
              "\n",
              "        async function convertToInteractive(key) {\n",
              "          const element = document.querySelector('#df-86af35f6-9a7e-44bd-ac8e-c3aa1a36ff0b');\n",
              "          const dataTable =\n",
              "            await google.colab.kernel.invokeFunction('convertToInteractive',\n",
              "                                                     [key], {});\n",
              "          if (!dataTable) return;\n",
              "\n",
              "          const docLinkHtml = 'Like what you see? Visit the ' +\n",
              "            '<a target=\"_blank\" href=https://colab.research.google.com/notebooks/data_table.ipynb>data table notebook</a>'\n",
              "            + ' to learn more about interactive tables.';\n",
              "          element.innerHTML = '';\n",
              "          dataTable['output_type'] = 'display_data';\n",
              "          await google.colab.output.renderOutput(dataTable, element);\n",
              "          const docLink = document.createElement('div');\n",
              "          docLink.innerHTML = docLinkHtml;\n",
              "          element.appendChild(docLink);\n",
              "        }\n",
              "      </script>\n",
              "    </div>\n",
              "  </div>\n",
              "  "
            ]
          },
          "metadata": {},
          "execution_count": 29
        }
      ],
      "source": [
        "array = [308028, 12392592,10564421,291752]\n",
        "ls['bathrooms_type'] = ls['bathrooms_text'].str.extract(r'(Private|private|Shared|shared)')\n",
        "ls[['id','bathrooms_text','bathrooms','bathrooms_type']].loc[ls['id'].isin(array)]\n"
      ]
    },
    {
      "cell_type": "code",
      "execution_count": null,
      "metadata": {
        "id": "J7sBuAHbmHr_"
      },
      "outputs": [],
      "source": [
        "ls['bathrooms_type'] = ls['bathrooms_type'].fillna('private')\n",
        "ls['bathrooms_type'] = ls['bathrooms_type'].str.replace(r'Private', 'private', regex=True)\n",
        "ls['bathrooms_type'] = ls['bathrooms_type'].str.replace(r'Shared', 'shared', regex=True)"
      ]
    },
    {
      "cell_type": "code",
      "execution_count": null,
      "metadata": {
        "id": "mZOebJ0ymPZG",
        "colab": {
          "base_uri": "https://localhost:8080/"
        },
        "outputId": "99eed2c3-5be3-4c5f-f73d-6dd1436f4e65"
      },
      "outputs": [
        {
          "output_type": "execute_result",
          "data": {
            "text/plain": [
              "              id    bathrooms_text bathrooms bathrooms_type\n",
              "43      291752.0            1 bath         1        private\n",
              "49      308028.0  Private 0.5-bath       0.5        private\n",
              "1313  10564421.0          0.5-bath       0.5        private\n",
              "1444  12392592.0   Shared 0.5-bath       0.5         shared"
            ],
            "text/html": [
              "\n",
              "  <div id=\"df-34984e6c-8e2c-4910-9fbe-8dbee33854ff\">\n",
              "    <div class=\"colab-df-container\">\n",
              "      <div>\n",
              "<style scoped>\n",
              "    .dataframe tbody tr th:only-of-type {\n",
              "        vertical-align: middle;\n",
              "    }\n",
              "\n",
              "    .dataframe tbody tr th {\n",
              "        vertical-align: top;\n",
              "    }\n",
              "\n",
              "    .dataframe thead th {\n",
              "        text-align: right;\n",
              "    }\n",
              "</style>\n",
              "<table border=\"1\" class=\"dataframe\">\n",
              "  <thead>\n",
              "    <tr style=\"text-align: right;\">\n",
              "      <th></th>\n",
              "      <th>id</th>\n",
              "      <th>bathrooms_text</th>\n",
              "      <th>bathrooms</th>\n",
              "      <th>bathrooms_type</th>\n",
              "    </tr>\n",
              "  </thead>\n",
              "  <tbody>\n",
              "    <tr>\n",
              "      <th>43</th>\n",
              "      <td>291752.0</td>\n",
              "      <td>1 bath</td>\n",
              "      <td>1</td>\n",
              "      <td>private</td>\n",
              "    </tr>\n",
              "    <tr>\n",
              "      <th>49</th>\n",
              "      <td>308028.0</td>\n",
              "      <td>Private 0.5-bath</td>\n",
              "      <td>0.5</td>\n",
              "      <td>private</td>\n",
              "    </tr>\n",
              "    <tr>\n",
              "      <th>1313</th>\n",
              "      <td>10564421.0</td>\n",
              "      <td>0.5-bath</td>\n",
              "      <td>0.5</td>\n",
              "      <td>private</td>\n",
              "    </tr>\n",
              "    <tr>\n",
              "      <th>1444</th>\n",
              "      <td>12392592.0</td>\n",
              "      <td>Shared 0.5-bath</td>\n",
              "      <td>0.5</td>\n",
              "      <td>shared</td>\n",
              "    </tr>\n",
              "  </tbody>\n",
              "</table>\n",
              "</div>\n",
              "      <button class=\"colab-df-convert\" onclick=\"convertToInteractive('df-34984e6c-8e2c-4910-9fbe-8dbee33854ff')\"\n",
              "              title=\"Convert this dataframe to an interactive table.\"\n",
              "              style=\"display:none;\">\n",
              "        \n",
              "  <svg xmlns=\"http://www.w3.org/2000/svg\" height=\"24px\"viewBox=\"0 0 24 24\"\n",
              "       width=\"24px\">\n",
              "    <path d=\"M0 0h24v24H0V0z\" fill=\"none\"/>\n",
              "    <path d=\"M18.56 5.44l.94 2.06.94-2.06 2.06-.94-2.06-.94-.94-2.06-.94 2.06-2.06.94zm-11 1L8.5 8.5l.94-2.06 2.06-.94-2.06-.94L8.5 2.5l-.94 2.06-2.06.94zm10 10l.94 2.06.94-2.06 2.06-.94-2.06-.94-.94-2.06-.94 2.06-2.06.94z\"/><path d=\"M17.41 7.96l-1.37-1.37c-.4-.4-.92-.59-1.43-.59-.52 0-1.04.2-1.43.59L10.3 9.45l-7.72 7.72c-.78.78-.78 2.05 0 2.83L4 21.41c.39.39.9.59 1.41.59.51 0 1.02-.2 1.41-.59l7.78-7.78 2.81-2.81c.8-.78.8-2.07 0-2.86zM5.41 20L4 18.59l7.72-7.72 1.47 1.35L5.41 20z\"/>\n",
              "  </svg>\n",
              "      </button>\n",
              "      \n",
              "  <style>\n",
              "    .colab-df-container {\n",
              "      display:flex;\n",
              "      flex-wrap:wrap;\n",
              "      gap: 12px;\n",
              "    }\n",
              "\n",
              "    .colab-df-convert {\n",
              "      background-color: #E8F0FE;\n",
              "      border: none;\n",
              "      border-radius: 50%;\n",
              "      cursor: pointer;\n",
              "      display: none;\n",
              "      fill: #1967D2;\n",
              "      height: 32px;\n",
              "      padding: 0 0 0 0;\n",
              "      width: 32px;\n",
              "    }\n",
              "\n",
              "    .colab-df-convert:hover {\n",
              "      background-color: #E2EBFA;\n",
              "      box-shadow: 0px 1px 2px rgba(60, 64, 67, 0.3), 0px 1px 3px 1px rgba(60, 64, 67, 0.15);\n",
              "      fill: #174EA6;\n",
              "    }\n",
              "\n",
              "    [theme=dark] .colab-df-convert {\n",
              "      background-color: #3B4455;\n",
              "      fill: #D2E3FC;\n",
              "    }\n",
              "\n",
              "    [theme=dark] .colab-df-convert:hover {\n",
              "      background-color: #434B5C;\n",
              "      box-shadow: 0px 1px 3px 1px rgba(0, 0, 0, 0.15);\n",
              "      filter: drop-shadow(0px 1px 2px rgba(0, 0, 0, 0.3));\n",
              "      fill: #FFFFFF;\n",
              "    }\n",
              "  </style>\n",
              "\n",
              "      <script>\n",
              "        const buttonEl =\n",
              "          document.querySelector('#df-34984e6c-8e2c-4910-9fbe-8dbee33854ff button.colab-df-convert');\n",
              "        buttonEl.style.display =\n",
              "          google.colab.kernel.accessAllowed ? 'block' : 'none';\n",
              "\n",
              "        async function convertToInteractive(key) {\n",
              "          const element = document.querySelector('#df-34984e6c-8e2c-4910-9fbe-8dbee33854ff');\n",
              "          const dataTable =\n",
              "            await google.colab.kernel.invokeFunction('convertToInteractive',\n",
              "                                                     [key], {});\n",
              "          if (!dataTable) return;\n",
              "\n",
              "          const docLinkHtml = 'Like what you see? Visit the ' +\n",
              "            '<a target=\"_blank\" href=https://colab.research.google.com/notebooks/data_table.ipynb>data table notebook</a>'\n",
              "            + ' to learn more about interactive tables.';\n",
              "          element.innerHTML = '';\n",
              "          dataTable['output_type'] = 'display_data';\n",
              "          await google.colab.output.renderOutput(dataTable, element);\n",
              "          const docLink = document.createElement('div');\n",
              "          docLink.innerHTML = docLinkHtml;\n",
              "          element.appendChild(docLink);\n",
              "        }\n",
              "      </script>\n",
              "    </div>\n",
              "  </div>\n",
              "  "
            ]
          },
          "metadata": {},
          "execution_count": 31
        }
      ],
      "source": [
        "ls[['id','bathrooms_text','bathrooms','bathrooms_type']].loc[ls['id'].isin(array)]"
      ]
    },
    {
      "cell_type": "code",
      "execution_count": null,
      "metadata": {
        "id": "_-7T4UMCmYL0"
      },
      "outputs": [],
      "source": [
        "ls = ls.drop(['bathrooms_text'], axis=1)"
      ]
    },
    {
      "cell_type": "markdown",
      "metadata": {
        "id": "Ws_kl-KgMv7R"
      },
      "source": [
        "##Amenities (Word Cloud)"
      ]
    },
    {
      "cell_type": "markdown",
      "metadata": {
        "id": "Y9Jv5VJaM4ao"
      },
      "source": [
        "ทำการจัดการข้อมูล amenities และทำ word cloud เพื่อแยกสิ่งอำนวยความสะดวกที่ host นิยมใช้มากสุด และทำการแยก features ออกมา"
      ]
    },
    {
      "cell_type": "markdown",
      "metadata": {
        "id": "JqQmtV69NB5G"
      },
      "source": [
        "######Convert amenities to equip"
      ]
    },
    {
      "cell_type": "code",
      "execution_count": null,
      "metadata": {
        "id": "u8glGYKkUjCy",
        "colab": {
          "base_uri": "https://localhost:8080/"
        },
        "outputId": "a76b2df9-0caf-4991-bfbf-cf00eea03e66"
      },
      "outputs": [
        {
          "output_type": "execute_result",
          "data": {
            "text/plain": [
              "0                 No\n",
              "1       Coffee maker\n",
              "2                 No\n",
              "3                 No\n",
              "4       Coffee maker\n",
              "            ...     \n",
              "6890    Coffee maker\n",
              "6891    Coffee maker\n",
              "6892    Coffee maker\n",
              "6893    Coffee maker\n",
              "6894    Coffee maker\n",
              "Name: coffee_maker, Length: 6895, dtype: object"
            ]
          },
          "metadata": {},
          "execution_count": 33
        }
      ],
      "source": [
        "ls['hot_water'] = ls['amenities'].str.extract(r'(Hot water)')\n",
        "ls['hot_water'] = ls['hot_water'].fillna(\"No\")\n",
        "ls['hot_water']\n",
        "\n",
        "ls['hair_dryer'] = ls['amenities'].str.extract(r'(Hair dryer)')\n",
        "ls['hair_dryer'] = ls['hair_dryer'].fillna(\"No\")\n",
        "ls['hair_dryer']\n",
        "\n",
        "ls['smoke_alarm'] = ls['amenities'].str.extract(r'(Smoke alarm)')\n",
        "ls['smoke_alarm'] = ls['smoke_alarm'].fillna(\"No\")\n",
        "ls['smoke_alarm']\n",
        "\n",
        "ls['bed_lines'] = ls['amenities'].str.extract(r'(Bed linens)')\n",
        "ls['bed_lines'] = ls['bed_lines'].fillna(\"No\")\n",
        "ls['bed_lines']\n",
        "\n",
        "ls['coffee_maker'] = ls['amenities'].str.extract(r'(Coffee maker)')\n",
        "ls['coffee_maker'] = ls['coffee_maker'].fillna(\"No\")\n",
        "ls['coffee_maker']\n",
        "\n"
      ]
    },
    {
      "cell_type": "code",
      "execution_count": null,
      "metadata": {
        "id": "5BSl8E-1fMIy",
        "colab": {
          "base_uri": "https://localhost:8080/"
        },
        "outputId": "054bb48b-bbdf-4116-9ea9-5f1f3368a96e"
      },
      "outputs": [
        {
          "output_type": "execute_result",
          "data": {
            "text/plain": [
              "0                     No\n",
              "1                     No\n",
              "2                     No\n",
              "3                     No\n",
              "4                     No\n",
              "              ...       \n",
              "6890                  No\n",
              "6891                  No\n",
              "6892                  No\n",
              "6893                  No\n",
              "6894    Air conditioning\n",
              "Name: Air_conditioning, Length: 6895, dtype: object"
            ]
          },
          "metadata": {},
          "execution_count": 34
        }
      ],
      "source": [
        "ls['wifi'] = ls['amenities'].str.extract(r'(Wifi)')\n",
        "ls['wifi'] = ls['wifi'].fillna(\"No\")\n",
        "ls['wifi']\n",
        "\n",
        "ls['Cable_TV'] = ls['amenities'].str.extract(r'(Cable TV)')\n",
        "ls['Cable_TV'] = ls['Cable_TV'].fillna(\"No\")\n",
        "ls['Cable_TV']\n",
        "\n",
        "ls['Heating'] = ls['amenities'].str.extract(r'(Heating)')\n",
        "ls['Heating'] = ls['Heating'].fillna(\"No\")\n",
        "ls['Heating']\n",
        "\n",
        "\n",
        "ls['Bathtub'] = ls['amenities'].str.extract(r'(Bathtub)')\n",
        "ls['Bathtub'] = ls['Bathtub'].fillna(\"No\")\n",
        "ls['Bathtub']\n",
        "\n",
        "ls['Air_conditioning'] = ls['amenities'].str.extract(r'(Air conditioning)')\n",
        "ls['Air_conditioning'] = ls['Air_conditioning'].fillna(\"No\")\n",
        "ls['Air_conditioning']\n",
        "\n"
      ]
    },
    {
      "cell_type": "markdown",
      "metadata": {
        "id": "ADp9bV8yPk05"
      },
      "source": [
        "######Convert amenities to amenities amount"
      ]
    },
    {
      "cell_type": "code",
      "execution_count": null,
      "metadata": {
        "id": "GPaAivXKfKB0"
      },
      "outputs": [],
      "source": [
        "ls[\"amenities\"] = ls[\"amenities\"].str.lower()"
      ]
    },
    {
      "cell_type": "code",
      "execution_count": null,
      "metadata": {
        "id": "ORJb5DXafYlv"
      },
      "outputs": [],
      "source": [
        "ls[\"amenities\"] = ls[\"amenities\"].apply(eval)"
      ]
    },
    {
      "cell_type": "code",
      "execution_count": null,
      "metadata": {
        "id": "qGKN7JOGd0a3"
      },
      "outputs": [],
      "source": [
        "ls[\"count_amenities\"] = ls[\"amenities\"].str.len()"
      ]
    },
    {
      "cell_type": "code",
      "execution_count": null,
      "metadata": {
        "id": "hi4Mb3mFd4CJ",
        "colab": {
          "base_uri": "https://localhost:8080/"
        },
        "outputId": "0d95a54f-6fc0-469f-a657-458cde05f4a2"
      },
      "outputs": [
        {
          "output_type": "execute_result",
          "data": {
            "text/plain": [
              "           id           source host_response_time host_response_rate  \\\n",
              "0  12345678.0                0                  0                 0%   \n",
              "1   2780062.0              NaN     within an hour               100%   \n",
              "2      2818.0      city scrape     within an hour               100%   \n",
              "3     20168.0  previous scrape     within an hour               100%   \n",
              "4     27886.0      city scrape     within an hour               100%   \n",
              "\n",
              "  host_acceptance_rate host_is_superhost  host_listings_count  \\\n",
              "0                   0%                 0                    0   \n",
              "1                 100%                 t                    1   \n",
              "2                 100%                 t                    1   \n",
              "3                  98%                 f                    5   \n",
              "4                 100%                 f                    1   \n",
              "\n",
              "   host_total_listings_count host_has_profile_pic host_identity_verified  ...  \\\n",
              "0                          0                    0                      0  ...   \n",
              "1                          1                    t                      t  ...   \n",
              "2                          1                    t                      t  ...   \n",
              "3                          5                    t                      t  ...   \n",
              "4                          1                    t                      t  ...   \n",
              "\n",
              "   hair_dryer  smoke_alarm   bed_lines  coffee_maker  wifi  Cable_TV  Heating  \\\n",
              "0          No           No          No            No    No        No  Heating   \n",
              "1  Hair dryer  Smoke alarm  Bed linens  Coffee maker  Wifi        No  Heating   \n",
              "2  Hair dryer  Smoke alarm  Bed linens            No    No        No       No   \n",
              "3  Hair dryer  Smoke alarm  Bed linens            No  Wifi        No  Heating   \n",
              "4  Hair dryer  Smoke alarm  Bed linens  Coffee maker  Wifi  Cable TV       No   \n",
              "\n",
              "  Bathtub  Air_conditioning  count_amenities  \n",
              "0      No                No               10  \n",
              "1      No                No               46  \n",
              "2      No                No               40  \n",
              "3      No                No               16  \n",
              "4      No                No               44  \n",
              "\n",
              "[5 rows x 58 columns]"
            ],
            "text/html": [
              "\n",
              "  <div id=\"df-92689eee-cf9a-4381-9193-49f46828423a\">\n",
              "    <div class=\"colab-df-container\">\n",
              "      <div>\n",
              "<style scoped>\n",
              "    .dataframe tbody tr th:only-of-type {\n",
              "        vertical-align: middle;\n",
              "    }\n",
              "\n",
              "    .dataframe tbody tr th {\n",
              "        vertical-align: top;\n",
              "    }\n",
              "\n",
              "    .dataframe thead th {\n",
              "        text-align: right;\n",
              "    }\n",
              "</style>\n",
              "<table border=\"1\" class=\"dataframe\">\n",
              "  <thead>\n",
              "    <tr style=\"text-align: right;\">\n",
              "      <th></th>\n",
              "      <th>id</th>\n",
              "      <th>source</th>\n",
              "      <th>host_response_time</th>\n",
              "      <th>host_response_rate</th>\n",
              "      <th>host_acceptance_rate</th>\n",
              "      <th>host_is_superhost</th>\n",
              "      <th>host_listings_count</th>\n",
              "      <th>host_total_listings_count</th>\n",
              "      <th>host_has_profile_pic</th>\n",
              "      <th>host_identity_verified</th>\n",
              "      <th>...</th>\n",
              "      <th>hair_dryer</th>\n",
              "      <th>smoke_alarm</th>\n",
              "      <th>bed_lines</th>\n",
              "      <th>coffee_maker</th>\n",
              "      <th>wifi</th>\n",
              "      <th>Cable_TV</th>\n",
              "      <th>Heating</th>\n",
              "      <th>Bathtub</th>\n",
              "      <th>Air_conditioning</th>\n",
              "      <th>count_amenities</th>\n",
              "    </tr>\n",
              "  </thead>\n",
              "  <tbody>\n",
              "    <tr>\n",
              "      <th>0</th>\n",
              "      <td>12345678.0</td>\n",
              "      <td>0</td>\n",
              "      <td>0</td>\n",
              "      <td>0%</td>\n",
              "      <td>0%</td>\n",
              "      <td>0</td>\n",
              "      <td>0</td>\n",
              "      <td>0</td>\n",
              "      <td>0</td>\n",
              "      <td>0</td>\n",
              "      <td>...</td>\n",
              "      <td>No</td>\n",
              "      <td>No</td>\n",
              "      <td>No</td>\n",
              "      <td>No</td>\n",
              "      <td>No</td>\n",
              "      <td>No</td>\n",
              "      <td>Heating</td>\n",
              "      <td>No</td>\n",
              "      <td>No</td>\n",
              "      <td>10</td>\n",
              "    </tr>\n",
              "    <tr>\n",
              "      <th>1</th>\n",
              "      <td>2780062.0</td>\n",
              "      <td>NaN</td>\n",
              "      <td>within an hour</td>\n",
              "      <td>100%</td>\n",
              "      <td>100%</td>\n",
              "      <td>t</td>\n",
              "      <td>1</td>\n",
              "      <td>1</td>\n",
              "      <td>t</td>\n",
              "      <td>t</td>\n",
              "      <td>...</td>\n",
              "      <td>Hair dryer</td>\n",
              "      <td>Smoke alarm</td>\n",
              "      <td>Bed linens</td>\n",
              "      <td>Coffee maker</td>\n",
              "      <td>Wifi</td>\n",
              "      <td>No</td>\n",
              "      <td>Heating</td>\n",
              "      <td>No</td>\n",
              "      <td>No</td>\n",
              "      <td>46</td>\n",
              "    </tr>\n",
              "    <tr>\n",
              "      <th>2</th>\n",
              "      <td>2818.0</td>\n",
              "      <td>city scrape</td>\n",
              "      <td>within an hour</td>\n",
              "      <td>100%</td>\n",
              "      <td>100%</td>\n",
              "      <td>t</td>\n",
              "      <td>1</td>\n",
              "      <td>1</td>\n",
              "      <td>t</td>\n",
              "      <td>t</td>\n",
              "      <td>...</td>\n",
              "      <td>Hair dryer</td>\n",
              "      <td>Smoke alarm</td>\n",
              "      <td>Bed linens</td>\n",
              "      <td>No</td>\n",
              "      <td>No</td>\n",
              "      <td>No</td>\n",
              "      <td>No</td>\n",
              "      <td>No</td>\n",
              "      <td>No</td>\n",
              "      <td>40</td>\n",
              "    </tr>\n",
              "    <tr>\n",
              "      <th>3</th>\n",
              "      <td>20168.0</td>\n",
              "      <td>previous scrape</td>\n",
              "      <td>within an hour</td>\n",
              "      <td>100%</td>\n",
              "      <td>98%</td>\n",
              "      <td>f</td>\n",
              "      <td>5</td>\n",
              "      <td>5</td>\n",
              "      <td>t</td>\n",
              "      <td>t</td>\n",
              "      <td>...</td>\n",
              "      <td>Hair dryer</td>\n",
              "      <td>Smoke alarm</td>\n",
              "      <td>Bed linens</td>\n",
              "      <td>No</td>\n",
              "      <td>Wifi</td>\n",
              "      <td>No</td>\n",
              "      <td>Heating</td>\n",
              "      <td>No</td>\n",
              "      <td>No</td>\n",
              "      <td>16</td>\n",
              "    </tr>\n",
              "    <tr>\n",
              "      <th>4</th>\n",
              "      <td>27886.0</td>\n",
              "      <td>city scrape</td>\n",
              "      <td>within an hour</td>\n",
              "      <td>100%</td>\n",
              "      <td>100%</td>\n",
              "      <td>f</td>\n",
              "      <td>1</td>\n",
              "      <td>1</td>\n",
              "      <td>t</td>\n",
              "      <td>t</td>\n",
              "      <td>...</td>\n",
              "      <td>Hair dryer</td>\n",
              "      <td>Smoke alarm</td>\n",
              "      <td>Bed linens</td>\n",
              "      <td>Coffee maker</td>\n",
              "      <td>Wifi</td>\n",
              "      <td>Cable TV</td>\n",
              "      <td>No</td>\n",
              "      <td>No</td>\n",
              "      <td>No</td>\n",
              "      <td>44</td>\n",
              "    </tr>\n",
              "  </tbody>\n",
              "</table>\n",
              "<p>5 rows × 58 columns</p>\n",
              "</div>\n",
              "      <button class=\"colab-df-convert\" onclick=\"convertToInteractive('df-92689eee-cf9a-4381-9193-49f46828423a')\"\n",
              "              title=\"Convert this dataframe to an interactive table.\"\n",
              "              style=\"display:none;\">\n",
              "        \n",
              "  <svg xmlns=\"http://www.w3.org/2000/svg\" height=\"24px\"viewBox=\"0 0 24 24\"\n",
              "       width=\"24px\">\n",
              "    <path d=\"M0 0h24v24H0V0z\" fill=\"none\"/>\n",
              "    <path d=\"M18.56 5.44l.94 2.06.94-2.06 2.06-.94-2.06-.94-.94-2.06-.94 2.06-2.06.94zm-11 1L8.5 8.5l.94-2.06 2.06-.94-2.06-.94L8.5 2.5l-.94 2.06-2.06.94zm10 10l.94 2.06.94-2.06 2.06-.94-2.06-.94-.94-2.06-.94 2.06-2.06.94z\"/><path d=\"M17.41 7.96l-1.37-1.37c-.4-.4-.92-.59-1.43-.59-.52 0-1.04.2-1.43.59L10.3 9.45l-7.72 7.72c-.78.78-.78 2.05 0 2.83L4 21.41c.39.39.9.59 1.41.59.51 0 1.02-.2 1.41-.59l7.78-7.78 2.81-2.81c.8-.78.8-2.07 0-2.86zM5.41 20L4 18.59l7.72-7.72 1.47 1.35L5.41 20z\"/>\n",
              "  </svg>\n",
              "      </button>\n",
              "      \n",
              "  <style>\n",
              "    .colab-df-container {\n",
              "      display:flex;\n",
              "      flex-wrap:wrap;\n",
              "      gap: 12px;\n",
              "    }\n",
              "\n",
              "    .colab-df-convert {\n",
              "      background-color: #E8F0FE;\n",
              "      border: none;\n",
              "      border-radius: 50%;\n",
              "      cursor: pointer;\n",
              "      display: none;\n",
              "      fill: #1967D2;\n",
              "      height: 32px;\n",
              "      padding: 0 0 0 0;\n",
              "      width: 32px;\n",
              "    }\n",
              "\n",
              "    .colab-df-convert:hover {\n",
              "      background-color: #E2EBFA;\n",
              "      box-shadow: 0px 1px 2px rgba(60, 64, 67, 0.3), 0px 1px 3px 1px rgba(60, 64, 67, 0.15);\n",
              "      fill: #174EA6;\n",
              "    }\n",
              "\n",
              "    [theme=dark] .colab-df-convert {\n",
              "      background-color: #3B4455;\n",
              "      fill: #D2E3FC;\n",
              "    }\n",
              "\n",
              "    [theme=dark] .colab-df-convert:hover {\n",
              "      background-color: #434B5C;\n",
              "      box-shadow: 0px 1px 3px 1px rgba(0, 0, 0, 0.15);\n",
              "      filter: drop-shadow(0px 1px 2px rgba(0, 0, 0, 0.3));\n",
              "      fill: #FFFFFF;\n",
              "    }\n",
              "  </style>\n",
              "\n",
              "      <script>\n",
              "        const buttonEl =\n",
              "          document.querySelector('#df-92689eee-cf9a-4381-9193-49f46828423a button.colab-df-convert');\n",
              "        buttonEl.style.display =\n",
              "          google.colab.kernel.accessAllowed ? 'block' : 'none';\n",
              "\n",
              "        async function convertToInteractive(key) {\n",
              "          const element = document.querySelector('#df-92689eee-cf9a-4381-9193-49f46828423a');\n",
              "          const dataTable =\n",
              "            await google.colab.kernel.invokeFunction('convertToInteractive',\n",
              "                                                     [key], {});\n",
              "          if (!dataTable) return;\n",
              "\n",
              "          const docLinkHtml = 'Like what you see? Visit the ' +\n",
              "            '<a target=\"_blank\" href=https://colab.research.google.com/notebooks/data_table.ipynb>data table notebook</a>'\n",
              "            + ' to learn more about interactive tables.';\n",
              "          element.innerHTML = '';\n",
              "          dataTable['output_type'] = 'display_data';\n",
              "          await google.colab.output.renderOutput(dataTable, element);\n",
              "          const docLink = document.createElement('div');\n",
              "          docLink.innerHTML = docLinkHtml;\n",
              "          element.appendChild(docLink);\n",
              "        }\n",
              "      </script>\n",
              "    </div>\n",
              "  </div>\n",
              "  "
            ]
          },
          "metadata": {},
          "execution_count": 38
        }
      ],
      "source": [
        "ls.head()"
      ]
    },
    {
      "cell_type": "code",
      "execution_count": null,
      "metadata": {
        "id": "W7AvBZGGRL4A"
      },
      "outputs": [],
      "source": [
        "ls.drop(columns=\"amenities\" , inplace=True)"
      ]
    },
    {
      "cell_type": "markdown",
      "metadata": {
        "id": "FHlNZG9NNdB3"
      },
      "source": [
        "## Licence"
      ]
    },
    {
      "cell_type": "code",
      "execution_count": null,
      "metadata": {
        "id": "xydK91wcDDr5"
      },
      "outputs": [],
      "source": [
        "ls['license'] = ls['license'].str.replace(' ', '')"
      ]
    },
    {
      "cell_type": "code",
      "execution_count": null,
      "metadata": {
        "id": "I7gaa2_8ClM_",
        "colab": {
          "base_uri": "https://localhost:8080/",
          "height": 300
        },
        "outputId": "f8a14fd6-9043-4ac5-fa25-98cee29ffc17"
      },
      "outputs": [
        {
          "output_type": "execute_result",
          "data": {
            "text/plain": [
              "                   license have_license\n",
              "47                  Exempt       Exempt\n",
              "322   0363111A4F66221CA95C          Yes\n",
              "330   0363111A4F66221CA95C          Yes\n",
              "1218  Z2119657190000000000          Yes\n",
              "1344  Z211954032U000000000          Yes\n",
              "2302  Z2220787610000000000          Yes\n",
              "2763                Exempt       Exempt\n",
              "3375  Z211912212xxxxxxxxxx          Yes"
            ],
            "text/html": [
              "\n",
              "  <div id=\"df-c70201e4-9ca7-4a04-ba2e-7d6599407175\">\n",
              "    <div class=\"colab-df-container\">\n",
              "      <div>\n",
              "<style scoped>\n",
              "    .dataframe tbody tr th:only-of-type {\n",
              "        vertical-align: middle;\n",
              "    }\n",
              "\n",
              "    .dataframe tbody tr th {\n",
              "        vertical-align: top;\n",
              "    }\n",
              "\n",
              "    .dataframe thead th {\n",
              "        text-align: right;\n",
              "    }\n",
              "</style>\n",
              "<table border=\"1\" class=\"dataframe\">\n",
              "  <thead>\n",
              "    <tr style=\"text-align: right;\">\n",
              "      <th></th>\n",
              "      <th>license</th>\n",
              "      <th>have_license</th>\n",
              "    </tr>\n",
              "  </thead>\n",
              "  <tbody>\n",
              "    <tr>\n",
              "      <th>47</th>\n",
              "      <td>Exempt</td>\n",
              "      <td>Exempt</td>\n",
              "    </tr>\n",
              "    <tr>\n",
              "      <th>322</th>\n",
              "      <td>0363111A4F66221CA95C</td>\n",
              "      <td>Yes</td>\n",
              "    </tr>\n",
              "    <tr>\n",
              "      <th>330</th>\n",
              "      <td>0363111A4F66221CA95C</td>\n",
              "      <td>Yes</td>\n",
              "    </tr>\n",
              "    <tr>\n",
              "      <th>1218</th>\n",
              "      <td>Z2119657190000000000</td>\n",
              "      <td>Yes</td>\n",
              "    </tr>\n",
              "    <tr>\n",
              "      <th>1344</th>\n",
              "      <td>Z211954032U000000000</td>\n",
              "      <td>Yes</td>\n",
              "    </tr>\n",
              "    <tr>\n",
              "      <th>2302</th>\n",
              "      <td>Z2220787610000000000</td>\n",
              "      <td>Yes</td>\n",
              "    </tr>\n",
              "    <tr>\n",
              "      <th>2763</th>\n",
              "      <td>Exempt</td>\n",
              "      <td>Exempt</td>\n",
              "    </tr>\n",
              "    <tr>\n",
              "      <th>3375</th>\n",
              "      <td>Z211912212xxxxxxxxxx</td>\n",
              "      <td>Yes</td>\n",
              "    </tr>\n",
              "  </tbody>\n",
              "</table>\n",
              "</div>\n",
              "      <button class=\"colab-df-convert\" onclick=\"convertToInteractive('df-c70201e4-9ca7-4a04-ba2e-7d6599407175')\"\n",
              "              title=\"Convert this dataframe to an interactive table.\"\n",
              "              style=\"display:none;\">\n",
              "        \n",
              "  <svg xmlns=\"http://www.w3.org/2000/svg\" height=\"24px\"viewBox=\"0 0 24 24\"\n",
              "       width=\"24px\">\n",
              "    <path d=\"M0 0h24v24H0V0z\" fill=\"none\"/>\n",
              "    <path d=\"M18.56 5.44l.94 2.06.94-2.06 2.06-.94-2.06-.94-.94-2.06-.94 2.06-2.06.94zm-11 1L8.5 8.5l.94-2.06 2.06-.94-2.06-.94L8.5 2.5l-.94 2.06-2.06.94zm10 10l.94 2.06.94-2.06 2.06-.94-2.06-.94-.94-2.06-.94 2.06-2.06.94z\"/><path d=\"M17.41 7.96l-1.37-1.37c-.4-.4-.92-.59-1.43-.59-.52 0-1.04.2-1.43.59L10.3 9.45l-7.72 7.72c-.78.78-.78 2.05 0 2.83L4 21.41c.39.39.9.59 1.41.59.51 0 1.02-.2 1.41-.59l7.78-7.78 2.81-2.81c.8-.78.8-2.07 0-2.86zM5.41 20L4 18.59l7.72-7.72 1.47 1.35L5.41 20z\"/>\n",
              "  </svg>\n",
              "      </button>\n",
              "      \n",
              "  <style>\n",
              "    .colab-df-container {\n",
              "      display:flex;\n",
              "      flex-wrap:wrap;\n",
              "      gap: 12px;\n",
              "    }\n",
              "\n",
              "    .colab-df-convert {\n",
              "      background-color: #E8F0FE;\n",
              "      border: none;\n",
              "      border-radius: 50%;\n",
              "      cursor: pointer;\n",
              "      display: none;\n",
              "      fill: #1967D2;\n",
              "      height: 32px;\n",
              "      padding: 0 0 0 0;\n",
              "      width: 32px;\n",
              "    }\n",
              "\n",
              "    .colab-df-convert:hover {\n",
              "      background-color: #E2EBFA;\n",
              "      box-shadow: 0px 1px 2px rgba(60, 64, 67, 0.3), 0px 1px 3px 1px rgba(60, 64, 67, 0.15);\n",
              "      fill: #174EA6;\n",
              "    }\n",
              "\n",
              "    [theme=dark] .colab-df-convert {\n",
              "      background-color: #3B4455;\n",
              "      fill: #D2E3FC;\n",
              "    }\n",
              "\n",
              "    [theme=dark] .colab-df-convert:hover {\n",
              "      background-color: #434B5C;\n",
              "      box-shadow: 0px 1px 3px 1px rgba(0, 0, 0, 0.15);\n",
              "      filter: drop-shadow(0px 1px 2px rgba(0, 0, 0, 0.3));\n",
              "      fill: #FFFFFF;\n",
              "    }\n",
              "  </style>\n",
              "\n",
              "      <script>\n",
              "        const buttonEl =\n",
              "          document.querySelector('#df-c70201e4-9ca7-4a04-ba2e-7d6599407175 button.colab-df-convert');\n",
              "        buttonEl.style.display =\n",
              "          google.colab.kernel.accessAllowed ? 'block' : 'none';\n",
              "\n",
              "        async function convertToInteractive(key) {\n",
              "          const element = document.querySelector('#df-c70201e4-9ca7-4a04-ba2e-7d6599407175');\n",
              "          const dataTable =\n",
              "            await google.colab.kernel.invokeFunction('convertToInteractive',\n",
              "                                                     [key], {});\n",
              "          if (!dataTable) return;\n",
              "\n",
              "          const docLinkHtml = 'Like what you see? Visit the ' +\n",
              "            '<a target=\"_blank\" href=https://colab.research.google.com/notebooks/data_table.ipynb>data table notebook</a>'\n",
              "            + ' to learn more about interactive tables.';\n",
              "          element.innerHTML = '';\n",
              "          dataTable['output_type'] = 'display_data';\n",
              "          await google.colab.output.renderOutput(dataTable, element);\n",
              "          const docLink = document.createElement('div');\n",
              "          docLink.innerHTML = docLinkHtml;\n",
              "          element.appendChild(docLink);\n",
              "        }\n",
              "      </script>\n",
              "    </div>\n",
              "  </div>\n",
              "  "
            ]
          },
          "metadata": {},
          "execution_count": 41
        }
      ],
      "source": [
        "ls['have_license'] = ls['license'].fillna('No')\n",
        "\n",
        "ls['have_license'] = np.where(ls['license'].str.len() == 20, 'Yes', ls['have_license'])\n",
        "\n",
        "\n",
        "array = [1523635, 1570315,9356764,11175840,20024548, 32560952,680110471417251000,24786368,307497]\n",
        "\n",
        "ls[['license','have_license']].loc[ls['id'].isin(array)]"
      ]
    },
    {
      "cell_type": "code",
      "execution_count": null,
      "metadata": {
        "id": "c_yfPhHZ0E_O",
        "colab": {
          "base_uri": "https://localhost:8080/"
        },
        "outputId": "016020cd-fa85-40d8-fbf6-d5438b3f690c"
      },
      "outputs": [
        {
          "output_type": "execute_result",
          "data": {
            "text/plain": [
              "Yes       5844\n",
              "Exempt    1049\n",
              "0            2\n",
              "Name: have_license, dtype: int64"
            ]
          },
          "metadata": {},
          "execution_count": 42
        }
      ],
      "source": [
        "ls[\"have_license\"].value_counts()"
      ]
    },
    {
      "cell_type": "code",
      "execution_count": null,
      "metadata": {
        "id": "WAWZlXB-D5RN"
      },
      "outputs": [],
      "source": [
        "ls.drop(columns=\"license\" , inplace=True)"
      ]
    },
    {
      "cell_type": "markdown",
      "metadata": {
        "id": "sm0X0WL8ibl0"
      },
      "source": [
        "##Convert datatype\n",
        "\n",
        "---\n",
        "\n"
      ]
    },
    {
      "cell_type": "markdown",
      "metadata": {
        "id": "He026c7uQEXE"
      },
      "source": [
        "ข้อมูลเป็น Rate เป็น percent อยู่ ทำการกำจัด % ให้แปลงข้อมูลกลับมาเป้น int"
      ]
    },
    {
      "cell_type": "code",
      "execution_count": null,
      "metadata": {
        "id": "GH6XP6yWr8XH"
      },
      "outputs": [],
      "source": [
        "#ตัด % ออกและแปลงเลขให้เป็น int\n",
        "ls[\"host_acceptance_rate\"] = ls[\"host_acceptance_rate\"].str.replace(\"%\",\"\")\n",
        "ls[\"host_response_rate\"] = ls[\"host_response_rate\"].str.replace(\"%\",\"\")\n"
      ]
    },
    {
      "cell_type": "code",
      "execution_count": null,
      "metadata": {
        "id": "6KiKU0eaiPCx"
      },
      "outputs": [],
      "source": [
        "ls.host_acceptance_rate = ls.host_acceptance_rate.astype(\"int\")\n",
        "ls.host_response_rate = ls.host_response_rate.astype(\"int\")"
      ]
    },
    {
      "cell_type": "code",
      "execution_count": null,
      "metadata": {
        "id": "FuFP_dRiQ1yZ"
      },
      "outputs": [],
      "source": [
        "ls.bathrooms = ls.bathrooms.astype(\"float\")"
      ]
    },
    {
      "cell_type": "code",
      "execution_count": null,
      "metadata": {
        "id": "RmAnqO4Wi9_R",
        "colab": {
          "base_uri": "https://localhost:8080/"
        },
        "outputId": "01df9dda-df2e-4a78-e5ec-d6d885af4aa6"
      },
      "outputs": [
        {
          "output_type": "execute_result",
          "data": {
            "text/plain": [
              "0        $145.6\n",
              "1       $144.00\n",
              "2        $49.00\n",
              "3       $106.00\n",
              "4       $136.00\n",
              "         ...   \n",
              "6890    $300.00\n",
              "6891    $195.00\n",
              "6892    $449.00\n",
              "6893    $282.00\n",
              "6894    $200.00\n",
              "Name: price, Length: 6895, dtype: object"
            ]
          },
          "metadata": {},
          "execution_count": 47
        }
      ],
      "source": [
        "ls.price"
      ]
    },
    {
      "cell_type": "code",
      "execution_count": null,
      "metadata": {
        "id": "ek2MO1-BjIUy"
      },
      "outputs": [],
      "source": [
        "ls.price = ls.price.str.replace(r'[^0-9.]','',regex=True).astype('float64')"
      ]
    },
    {
      "cell_type": "markdown",
      "metadata": {
        "id": "N1yzdUQVQV3M"
      },
      "source": [
        "##Price to logprice"
      ]
    },
    {
      "cell_type": "code",
      "source": [
        "ls.price"
      ],
      "metadata": {
        "id": "xhuXIRQd1IUB",
        "colab": {
          "base_uri": "https://localhost:8080/"
        },
        "outputId": "e05b66eb-982a-4521-96fb-95ff869521a5"
      },
      "execution_count": null,
      "outputs": [
        {
          "output_type": "execute_result",
          "data": {
            "text/plain": [
              "0       145.6\n",
              "1       144.0\n",
              "2        49.0\n",
              "3       106.0\n",
              "4       136.0\n",
              "        ...  \n",
              "6890    300.0\n",
              "6891    195.0\n",
              "6892    449.0\n",
              "6893    282.0\n",
              "6894    200.0\n",
              "Name: price, Length: 6895, dtype: float64"
            ]
          },
          "metadata": {},
          "execution_count": 49
        }
      ]
    },
    {
      "cell_type": "code",
      "source": [
        "ls= ls[ls.price > 0]"
      ],
      "metadata": {
        "id": "ugf2KeXwARAY"
      },
      "execution_count": null,
      "outputs": []
    },
    {
      "cell_type": "code",
      "execution_count": null,
      "metadata": {
        "id": "7FQWY3mauloG"
      },
      "outputs": [],
      "source": [
        "from scipy.stats import norm"
      ]
    },
    {
      "cell_type": "code",
      "execution_count": null,
      "metadata": {
        "id": "ZbuEXZECuWT-",
        "colab": {
          "base_uri": "https://localhost:8080/",
          "height": 697
        },
        "outputId": "cab52431-e015-4f15-bdb5-acd1088276cd"
      },
      "outputs": [
        {
          "output_type": "stream",
          "name": "stderr",
          "text": [
            "/usr/local/lib/python3.7/dist-packages/seaborn/distributions.py:2619: FutureWarning: `distplot` is a deprecated function and will be removed in a future version. Please adapt your code to use either `displot` (a figure-level function with similar flexibility) or `histplot` (an axes-level function for histograms).\n",
            "  warnings.warn(msg, FutureWarning)\n"
          ]
        },
        {
          "output_type": "execute_result",
          "data": {
            "text/plain": [
              "Text(0.5, 1.0, 'Price Distribution Plot')"
            ]
          },
          "metadata": {},
          "execution_count": 52
        },
        {
          "output_type": "display_data",
          "data": {
            "text/plain": [
              "<Figure size 720x720 with 1 Axes>"
            ],
            "image/png": "[encoded data removed]"
          },
          "metadata": {
            "needs_background": "light"
          }
        }
      ],
      "source": [
        "plt.figure(figsize=(10,10))\n",
        "sns.distplot(ls['price'], fit=norm)\n",
        "plt.title(\"Price Distribution Plot\",size=15, weight='bold')"
      ]
    },
    {
      "cell_type": "code",
      "execution_count": null,
      "metadata": {
        "id": "-TTuNEBWuwd3"
      },
      "outputs": [],
      "source": [
        "ls['price'] = np.log(ls.price+1)"
      ]
    },
    {
      "cell_type": "code",
      "source": [
        "ls['price']"
      ],
      "metadata": {
        "id": "NZt6yXTn1SZB",
        "colab": {
          "base_uri": "https://localhost:8080/"
        },
        "outputId": "0d3dff88-c97c-4b56-bb3a-a2d2aa97401c"
      },
      "execution_count": null,
      "outputs": [
        {
          "output_type": "execute_result",
          "data": {
            "text/plain": [
              "0       4.987708\n",
              "1       4.976734\n",
              "2       3.912023\n",
              "3       4.672829\n",
              "4       4.919981\n",
              "          ...   \n",
              "6890    5.707110\n",
              "6891    5.278115\n",
              "6892    6.109248\n",
              "6893    5.645447\n",
              "6894    5.303305\n",
              "Name: price, Length: 6887, dtype: float64"
            ]
          },
          "metadata": {},
          "execution_count": 54
        }
      ]
    },
    {
      "cell_type": "code",
      "execution_count": null,
      "metadata": {
        "id": "4e2w7NhTu6U3",
        "colab": {
          "base_uri": "https://localhost:8080/",
          "height": 697
        },
        "outputId": "1c747b13-001c-49cf-e94b-6d2fbbb1b4c5"
      },
      "outputs": [
        {
          "output_type": "stream",
          "name": "stderr",
          "text": [
            "/usr/local/lib/python3.7/dist-packages/seaborn/distributions.py:2619: FutureWarning: `distplot` is a deprecated function and will be removed in a future version. Please adapt your code to use either `displot` (a figure-level function with similar flexibility) or `histplot` (an axes-level function for histograms).\n",
            "  warnings.warn(msg, FutureWarning)\n"
          ]
        },
        {
          "output_type": "execute_result",
          "data": {
            "text/plain": [
              "Text(0.5, 1.0, 'Log-Price Distribution Plot')"
            ]
          },
          "metadata": {},
          "execution_count": 55
        },
        {
          "output_type": "display_data",
          "data": {
            "text/plain": [
              "<Figure size 864x720 with 1 Axes>"
            ],
            "image/png": "[encoded data removed]"
          },
          "metadata": {
            "needs_background": "light"
          }
        }
      ],
      "source": [
        "plt.figure(figsize=(12,10))\n",
        "sns.distplot(ls['price'], fit=norm)\n",
        "plt.title(\"Log-Price Distribution Plot\",size=15, weight='bold')"
      ]
    },
    {
      "cell_type": "code",
      "source": [
        "#ls.price = np.exp(ls.price)-1"
      ],
      "metadata": {
        "id": "jNt-fhf35dy4"
      },
      "execution_count": null,
      "outputs": []
    },
    {
      "cell_type": "code",
      "source": [
        "#ls.price"
      ],
      "metadata": {
        "id": "KTTcXOI46E23"
      },
      "execution_count": null,
      "outputs": []
    },
    {
      "cell_type": "markdown",
      "metadata": {
        "id": "3urJ05ortPeo"
      },
      "source": [
        "##One hot and Ordinary hot"
      ]
    },
    {
      "cell_type": "code",
      "source": [
        "ls.tf=ls.copy()"
      ],
      "metadata": {
        "id": "yqiQVwXC7Ow_",
        "colab": {
          "base_uri": "https://localhost:8080/"
        },
        "outputId": "b0bf585d-f973-4601-9f35-cb4f8cc89968"
      },
      "execution_count": null,
      "outputs": [
        {
          "output_type": "stream",
          "name": "stderr",
          "text": [
            "/usr/local/lib/python3.7/dist-packages/ipykernel_launcher.py:1: UserWarning: Pandas doesn't allow columns to be created via a new attribute name - see https://pandas.pydata.org/pandas-docs/stable/indexing.html#attribute-access\n",
            "  \"\"\"Entry point for launching an IPython kernel.\n"
          ]
        }
      ]
    },
    {
      "cell_type": "code",
      "source": [
        "ls.tf.isnull().sum()"
      ],
      "metadata": {
        "id": "AHbC8Lb50Dof",
        "colab": {
          "base_uri": "https://localhost:8080/"
        },
        "outputId": "05d3db22-ce70-4eb8-e668-e082f610ee09"
      },
      "execution_count": null,
      "outputs": [
        {
          "output_type": "execute_result",
          "data": {
            "text/plain": [
              "id                                              0\n",
              "source                                          1\n",
              "host_response_time                              0\n",
              "host_response_rate                              0\n",
              "host_acceptance_rate                            0\n",
              "host_is_superhost                               0\n",
              "host_listings_count                             0\n",
              "host_total_listings_count                       0\n",
              "host_has_profile_pic                            0\n",
              "host_identity_verified                          0\n",
              "neighbourhood_cleansed                          1\n",
              "property_type                                   0\n",
              "room_type                                       0\n",
              "accommodates                                    0\n",
              "bedrooms                                        0\n",
              "beds                                            0\n",
              "price                                           0\n",
              "minimum_nights                                  0\n",
              "maximum_nights                                  0\n",
              "has_availability                                0\n",
              "availability_30                                 0\n",
              "availability_60                                 0\n",
              "availability_90                                 0\n",
              "availability_365                                0\n",
              "number_of_reviews                               0\n",
              "number_of_reviews_ltm                           0\n",
              "number_of_reviews_l30d                          0\n",
              "review_scores_rating                            0\n",
              "review_scores_accuracy                          0\n",
              "review_scores_cleanliness                       0\n",
              "review_scores_checkin                           0\n",
              "review_scores_communication                     0\n",
              "review_scores_location                          0\n",
              "review_scores_value                             0\n",
              "instant_bookable                                0\n",
              "calculated_host_listings_count                  0\n",
              "calculated_host_listings_count_entire_homes     0\n",
              "calculated_host_listings_count_private_rooms    0\n",
              "calculated_host_listings_count_shared_rooms     0\n",
              "reviews_per_month                               0\n",
              "last_review_month                               0\n",
              "last_review_day                                 0\n",
              "last_review_year                                0\n",
              "bathrooms                                       0\n",
              "bathrooms_type                                  0\n",
              "hot_water                                       0\n",
              "hair_dryer                                      0\n",
              "smoke_alarm                                     0\n",
              "bed_lines                                       0\n",
              "coffee_maker                                    0\n",
              "wifi                                            0\n",
              "Cable_TV                                        0\n",
              "Heating                                         0\n",
              "Bathtub                                         0\n",
              "Air_conditioning                                0\n",
              "count_amenities                                 0\n",
              "have_license                                    0\n",
              "dtype: int64"
            ]
          },
          "metadata": {},
          "execution_count": 59
        }
      ]
    },
    {
      "cell_type": "code",
      "execution_count": null,
      "metadata": {
        "id": "4xuEDPUTw9jS",
        "colab": {
          "base_uri": "https://localhost:8080/"
        },
        "outputId": "78696d87-2f04-41b8-e6ea-c6558c8aa180"
      },
      "outputs": [
        {
          "output_type": "stream",
          "name": "stdout",
          "text": [
            "<class 'pandas.core.frame.DataFrame'>\n",
            "Int64Index: 6887 entries, 0 to 6894\n",
            "Data columns (total 57 columns):\n",
            " #   Column                                        Non-Null Count  Dtype  \n",
            "---  ------                                        --------------  -----  \n",
            " 0   id                                            6887 non-null   float64\n",
            " 1   source                                        6886 non-null   object \n",
            " 2   host_response_time                            6887 non-null   object \n",
            " 3   host_response_rate                            6887 non-null   int64  \n",
            " 4   host_acceptance_rate                          6887 non-null   int64  \n",
            " 5   host_is_superhost                             6887 non-null   object \n",
            " 6   host_listings_count                           6887 non-null   int64  \n",
            " 7   host_total_listings_count                     6887 non-null   int64  \n",
            " 8   host_has_profile_pic                          6887 non-null   object \n",
            " 9   host_identity_verified                        6887 non-null   object \n",
            " 10  neighbourhood_cleansed                        6886 non-null   object \n",
            " 11  property_type                                 6887 non-null   object \n",
            " 12  room_type                                     6887 non-null   object \n",
            " 13  accommodates                                  6887 non-null   int64  \n",
            " 14  bedrooms                                      6887 non-null   float64\n",
            " 15  beds                                          6887 non-null   float64\n",
            " 16  price                                         6887 non-null   float64\n",
            " 17  minimum_nights                                6887 non-null   int64  \n",
            " 18  maximum_nights                                6887 non-null   int64  \n",
            " 19  has_availability                              6887 non-null   object \n",
            " 20  availability_30                               6887 non-null   int64  \n",
            " 21  availability_60                               6887 non-null   int64  \n",
            " 22  availability_90                               6887 non-null   int64  \n",
            " 23  availability_365                              6887 non-null   int64  \n",
            " 24  number_of_reviews                             6887 non-null   int64  \n",
            " 25  number_of_reviews_ltm                         6887 non-null   int64  \n",
            " 26  number_of_reviews_l30d                        6887 non-null   int64  \n",
            " 27  review_scores_rating                          6887 non-null   float64\n",
            " 28  review_scores_accuracy                        6887 non-null   float64\n",
            " 29  review_scores_cleanliness                     6887 non-null   float64\n",
            " 30  review_scores_checkin                         6887 non-null   float64\n",
            " 31  review_scores_communication                   6887 non-null   float64\n",
            " 32  review_scores_location                        6887 non-null   float64\n",
            " 33  review_scores_value                           6887 non-null   float64\n",
            " 34  instant_bookable                              6887 non-null   object \n",
            " 35  calculated_host_listings_count                6887 non-null   int64  \n",
            " 36  calculated_host_listings_count_entire_homes   6887 non-null   int64  \n",
            " 37  calculated_host_listings_count_private_rooms  6887 non-null   int64  \n",
            " 38  calculated_host_listings_count_shared_rooms   6887 non-null   int64  \n",
            " 39  reviews_per_month                             6887 non-null   float64\n",
            " 40  last_review_month                             6887 non-null   int64  \n",
            " 41  last_review_day                               6887 non-null   int64  \n",
            " 42  last_review_year                              6887 non-null   int64  \n",
            " 43  bathrooms                                     6887 non-null   float64\n",
            " 44  bathrooms_type                                6887 non-null   object \n",
            " 45  hot_water                                     6887 non-null   object \n",
            " 46  hair_dryer                                    6887 non-null   object \n",
            " 47  smoke_alarm                                   6887 non-null   object \n",
            " 48  bed_lines                                     6887 non-null   object \n",
            " 49  coffee_maker                                  6887 non-null   object \n",
            " 50  wifi                                          6887 non-null   object \n",
            " 51  Cable_TV                                      6887 non-null   object \n",
            " 52  Heating                                       6887 non-null   object \n",
            " 53  Bathtub                                       6887 non-null   object \n",
            " 54  Air_conditioning                              6887 non-null   object \n",
            " 55  count_amenities                               6887 non-null   int64  \n",
            " 56  have_license                                  6887 non-null   object \n",
            "dtypes: float64(13), int64(22), object(22)\n",
            "memory usage: 3.0+ MB\n"
          ]
        }
      ],
      "source": [
        "ls.tf.info()"
      ]
    },
    {
      "cell_type": "code",
      "source": [
        "ls.tf = ls.rename(columns={\n",
        "    'neighbourhood_cleansed':'neighbourhood',\n",
        "    })"
      ],
      "metadata": {
        "id": "0Y-vFNvLpv2A"
      },
      "execution_count": null,
      "outputs": []
    },
    {
      "cell_type": "code",
      "execution_count": null,
      "metadata": {
        "id": "BR4ith42TxBX"
      },
      "outputs": [],
      "source": [
        "ls.tf = pd.get_dummies(ls.tf, columns=['source'], dummy_na=False)\n",
        "ls.tf = pd.get_dummies(ls.tf, columns=['neighbourhood'], dummy_na=False)\n",
        "ls.tf = pd.get_dummies(ls.tf, columns=['property_type'], dummy_na=False)\n",
        "\n",
        "ls.tf = pd.get_dummies(ls.tf, columns=['room_type'], dummy_na=False)\n",
        "ls.tf = pd.get_dummies(ls.tf, columns=['bathrooms_type'], dummy_na=False)\n",
        "ls.tf = pd.get_dummies(ls.tf, columns=['have_license'], dummy_na=False)\n",
        "#HAVE LICENSE"
      ]
    },
    {
      "cell_type": "code",
      "execution_count": null,
      "metadata": {
        "id": "7pEtfXBpUq11"
      },
      "outputs": [],
      "source": [
        "#host_response_time\n",
        "list_map_host_response_time={'within an hour':1,'within a few hours':2, 'within a day':3, 'a few days or more':4}\n",
        "ls.tf[\"host_response_time\"] = ls.tf[\"host_response_time\"].map(list_map_host_response_time)"
      ]
    },
    {
      "cell_type": "code",
      "execution_count": null,
      "metadata": {
        "id": "-MhapykcXBiP"
      },
      "outputs": [],
      "source": [
        "ls.tf['host_is_superhost'] = ls.tf['host_is_superhost'].map({'f': 0, 't': 1})\n",
        "ls.tf['host_has_profile_pic'] = ls.tf['host_has_profile_pic'].map({'f': 0, 't': 1})\n",
        "ls.tf['host_identity_verified'] = ls.tf['host_identity_verified'].map({'f': 0, 't': 1})\n",
        "ls.tf['has_availability'] = ls.tf['has_availability'].map({'f': 0, 't': 1})\n",
        "ls.tf['instant_bookable'] = ls.tf['instant_bookable'].map({'f': 0, 't': 1, '0': 0})\n",
        "\n",
        "#profilepic and iden verif"
      ]
    },
    {
      "cell_type": "code",
      "execution_count": null,
      "metadata": {
        "id": "a1sUukiFhbo-"
      },
      "outputs": [],
      "source": [
        "ls.tf['hot_water'] = ls.tf['hot_water'].map({\"No\": 0, \"Hot water\": 1})\n",
        "ls.tf['hair_dryer'] = ls.tf['hair_dryer'].map({\"No\": 0, \"Hair dryer\": 1})\n",
        "ls.tf['smoke_alarm'] = ls.tf['smoke_alarm'].map({\"No\": 0, \"Smoke alarm\": 1})\n",
        "ls.tf['bed_lines'] = ls.tf['bed_lines'].map({\"No\": 0, \"Bed linens\": 1})\n",
        "ls.tf['coffee_maker'] = ls.tf['coffee_maker'].map({\"No\": 0, \"Coffee maker\": 1})\n",
        "\n",
        "#hot wa hair bedline"
      ]
    },
    {
      "cell_type": "code",
      "execution_count": null,
      "metadata": {
        "id": "fpcpmSBAFaXr"
      },
      "outputs": [],
      "source": [
        "ls.tf['wifi'] = ls.tf['wifi'].map({\"No\": 0, \"Wifi\": 1})\n",
        "ls.tf['Cable_TV'] = ls.tf['Cable_TV'].map({\"No\": 0, \"Cable TV\": 1})\n",
        "ls.tf['Heating'] = ls.tf['Heating'].map({\"No\": 0, \"Heating\": 1})\n",
        "ls.tf['Bathtub'] = ls.tf['Bathtub'].map({\"No\": 0, \"Bathtub\": 1})\n",
        "ls.tf['Air_conditioning'] = ls.tf['Air_conditioning'].map({\"No\": 0, \"Air conditioning\": 1})"
      ]
    },
    {
      "cell_type": "code",
      "execution_count": null,
      "metadata": {
        "id": "zeqO4JmCXyG3",
        "colab": {
          "base_uri": "https://localhost:8080/",
          "height": 317
        },
        "outputId": "1da181a1-5bbb-411f-addf-c8b7fc1dffc8"
      },
      "outputs": [
        {
          "output_type": "execute_result",
          "data": {
            "text/plain": [
              "           id  host_response_time  host_response_rate  host_acceptance_rate  \\\n",
              "0  12345678.0                 NaN                   0                     0   \n",
              "1   2780062.0                 1.0                 100                   100   \n",
              "2      2818.0                 1.0                 100                   100   \n",
              "3     20168.0                 1.0                 100                    98   \n",
              "4     27886.0                 1.0                 100                   100   \n",
              "\n",
              "   host_is_superhost  host_listings_count  host_total_listings_count  \\\n",
              "0                NaN                    0                          0   \n",
              "1                1.0                    1                          1   \n",
              "2                1.0                    1                          1   \n",
              "3                0.0                    5                          5   \n",
              "4                0.0                    1                          1   \n",
              "\n",
              "   host_has_profile_pic  host_identity_verified  accommodates  ...  \\\n",
              "0                   NaN                     NaN             0  ...   \n",
              "1                   1.0                     1.0             2  ...   \n",
              "2                   1.0                     1.0             2  ...   \n",
              "3                   1.0                     1.0             2  ...   \n",
              "4                   1.0                     1.0             2  ...   \n",
              "\n",
              "   room_type_0  room_type_Entire home/apt  room_type_Hotel room  \\\n",
              "0            1                          0                     0   \n",
              "1            0                          0                     0   \n",
              "2            0                          0                     0   \n",
              "3            0                          0                     0   \n",
              "4            0                          0                     0   \n",
              "\n",
              "   room_type_Private room  room_type_Shared room  bathrooms_type_private  \\\n",
              "0                       0                      0                       1   \n",
              "1                       1                      0                       1   \n",
              "2                       1                      0                       0   \n",
              "3                       1                      0                       1   \n",
              "4                       1                      0                       1   \n",
              "\n",
              "   bathrooms_type_shared  have_license_0  have_license_Exempt  \\\n",
              "0                      0               1                    0   \n",
              "1                      0               0                    0   \n",
              "2                      1               0                    0   \n",
              "3                      0               0                    0   \n",
              "4                      0               1                    0   \n",
              "\n",
              "   have_license_Yes  \n",
              "0                 0  \n",
              "1                 1  \n",
              "2                 1  \n",
              "3                 1  \n",
              "4                 0  \n",
              "\n",
              "[5 rows x 150 columns]"
            ],
            "text/html": [
              "\n",
              "  <div id=\"df-c1c19b6c-48b2-4784-b7c7-33dcfa79b0a5\">\n",
              "    <div class=\"colab-df-container\">\n",
              "      <div>\n",
              "<style scoped>\n",
              "    .dataframe tbody tr th:only-of-type {\n",
              "        vertical-align: middle;\n",
              "    }\n",
              "\n",
              "    .dataframe tbody tr th {\n",
              "        vertical-align: top;\n",
              "    }\n",
              "\n",
              "    .dataframe thead th {\n",
              "        text-align: right;\n",
              "    }\n",
              "</style>\n",
              "<table border=\"1\" class=\"dataframe\">\n",
              "  <thead>\n",
              "    <tr style=\"text-align: right;\">\n",
              "      <th></th>\n",
              "      <th>id</th>\n",
              "      <th>host_response_time</th>\n",
              "      <th>host_response_rate</th>\n",
              "      <th>host_acceptance_rate</th>\n",
              "      <th>host_is_superhost</th>\n",
              "      <th>host_listings_count</th>\n",
              "      <th>host_total_listings_count</th>\n",
              "      <th>host_has_profile_pic</th>\n",
              "      <th>host_identity_verified</th>\n",
              "      <th>accommodates</th>\n",
              "      <th>...</th>\n",
              "      <th>room_type_0</th>\n",
              "      <th>room_type_Entire home/apt</th>\n",
              "      <th>room_type_Hotel room</th>\n",
              "      <th>room_type_Private room</th>\n",
              "      <th>room_type_Shared room</th>\n",
              "      <th>bathrooms_type_private</th>\n",
              "      <th>bathrooms_type_shared</th>\n",
              "      <th>have_license_0</th>\n",
              "      <th>have_license_Exempt</th>\n",
              "      <th>have_license_Yes</th>\n",
              "    </tr>\n",
              "  </thead>\n",
              "  <tbody>\n",
              "    <tr>\n",
              "      <th>0</th>\n",
              "      <td>12345678.0</td>\n",
              "      <td>NaN</td>\n",
              "      <td>0</td>\n",
              "      <td>0</td>\n",
              "      <td>NaN</td>\n",
              "      <td>0</td>\n",
              "      <td>0</td>\n",
              "      <td>NaN</td>\n",
              "      <td>NaN</td>\n",
              "      <td>0</td>\n",
              "      <td>...</td>\n",
              "      <td>1</td>\n",
              "      <td>0</td>\n",
              "      <td>0</td>\n",
              "      <td>0</td>\n",
              "      <td>0</td>\n",
              "      <td>1</td>\n",
              "      <td>0</td>\n",
              "      <td>1</td>\n",
              "      <td>0</td>\n",
              "      <td>0</td>\n",
              "    </tr>\n",
              "    <tr>\n",
              "      <th>1</th>\n",
              "      <td>2780062.0</td>\n",
              "      <td>1.0</td>\n",
              "      <td>100</td>\n",
              "      <td>100</td>\n",
              "      <td>1.0</td>\n",
              "      <td>1</td>\n",
              "      <td>1</td>\n",
              "      <td>1.0</td>\n",
              "      <td>1.0</td>\n",
              "      <td>2</td>\n",
              "      <td>...</td>\n",
              "      <td>0</td>\n",
              "      <td>0</td>\n",
              "      <td>0</td>\n",
              "      <td>1</td>\n",
              "      <td>0</td>\n",
              "      <td>1</td>\n",
              "      <td>0</td>\n",
              "      <td>0</td>\n",
              "      <td>0</td>\n",
              "      <td>1</td>\n",
              "    </tr>\n",
              "    <tr>\n",
              "      <th>2</th>\n",
              "      <td>2818.0</td>\n",
              "      <td>1.0</td>\n",
              "      <td>100</td>\n",
              "      <td>100</td>\n",
              "      <td>1.0</td>\n",
              "      <td>1</td>\n",
              "      <td>1</td>\n",
              "      <td>1.0</td>\n",
              "      <td>1.0</td>\n",
              "      <td>2</td>\n",
              "      <td>...</td>\n",
              "      <td>0</td>\n",
              "      <td>0</td>\n",
              "      <td>0</td>\n",
              "      <td>1</td>\n",
              "      <td>0</td>\n",
              "      <td>0</td>\n",
              "      <td>1</td>\n",
              "      <td>0</td>\n",
              "      <td>0</td>\n",
              "      <td>1</td>\n",
              "    </tr>\n",
              "    <tr>\n",
              "      <th>3</th>\n",
              "      <td>20168.0</td>\n",
              "      <td>1.0</td>\n",
              "      <td>100</td>\n",
              "      <td>98</td>\n",
              "      <td>0.0</td>\n",
              "      <td>5</td>\n",
              "      <td>5</td>\n",
              "      <td>1.0</td>\n",
              "      <td>1.0</td>\n",
              "      <td>2</td>\n",
              "      <td>...</td>\n",
              "      <td>0</td>\n",
              "      <td>0</td>\n",
              "      <td>0</td>\n",
              "      <td>1</td>\n",
              "      <td>0</td>\n",
              "      <td>1</td>\n",
              "      <td>0</td>\n",
              "      <td>0</td>\n",
              "      <td>0</td>\n",
              "      <td>1</td>\n",
              "    </tr>\n",
              "    <tr>\n",
              "      <th>4</th>\n",
              "      <td>27886.0</td>\n",
              "      <td>1.0</td>\n",
              "      <td>100</td>\n",
              "      <td>100</td>\n",
              "      <td>0.0</td>\n",
              "      <td>1</td>\n",
              "      <td>1</td>\n",
              "      <td>1.0</td>\n",
              "      <td>1.0</td>\n",
              "      <td>2</td>\n",
              "      <td>...</td>\n",
              "      <td>0</td>\n",
              "      <td>0</td>\n",
              "      <td>0</td>\n",
              "      <td>1</td>\n",
              "      <td>0</td>\n",
              "      <td>1</td>\n",
              "      <td>0</td>\n",
              "      <td>1</td>\n",
              "      <td>0</td>\n",
              "      <td>0</td>\n",
              "    </tr>\n",
              "  </tbody>\n",
              "</table>\n",
              "<p>5 rows × 150 columns</p>\n",
              "</div>\n",
              "      <button class=\"colab-df-convert\" onclick=\"convertToInteractive('df-c1c19b6c-48b2-4784-b7c7-33dcfa79b0a5')\"\n",
              "              title=\"Convert this dataframe to an interactive table.\"\n",
              "              style=\"display:none;\">\n",
              "        \n",
              "  <svg xmlns=\"http://www.w3.org/2000/svg\" height=\"24px\"viewBox=\"0 0 24 24\"\n",
              "       width=\"24px\">\n",
              "    <path d=\"M0 0h24v24H0V0z\" fill=\"none\"/>\n",
              "    <path d=\"M18.56 5.44l.94 2.06.94-2.06 2.06-.94-2.06-.94-.94-2.06-.94 2.06-2.06.94zm-11 1L8.5 8.5l.94-2.06 2.06-.94-2.06-.94L8.5 2.5l-.94 2.06-2.06.94zm10 10l.94 2.06.94-2.06 2.06-.94-2.06-.94-.94-2.06-.94 2.06-2.06.94z\"/><path d=\"M17.41 7.96l-1.37-1.37c-.4-.4-.92-.59-1.43-.59-.52 0-1.04.2-1.43.59L10.3 9.45l-7.72 7.72c-.78.78-.78 2.05 0 2.83L4 21.41c.39.39.9.59 1.41.59.51 0 1.02-.2 1.41-.59l7.78-7.78 2.81-2.81c.8-.78.8-2.07 0-2.86zM5.41 20L4 18.59l7.72-7.72 1.47 1.35L5.41 20z\"/>\n",
              "  </svg>\n",
              "      </button>\n",
              "      \n",
              "  <style>\n",
              "    .colab-df-container {\n",
              "      display:flex;\n",
              "      flex-wrap:wrap;\n",
              "      gap: 12px;\n",
              "    }\n",
              "\n",
              "    .colab-df-convert {\n",
              "      background-color: #E8F0FE;\n",
              "      border: none;\n",
              "      border-radius: 50%;\n",
              "      cursor: pointer;\n",
              "      display: none;\n",
              "      fill: #1967D2;\n",
              "      height: 32px;\n",
              "      padding: 0 0 0 0;\n",
              "      width: 32px;\n",
              "    }\n",
              "\n",
              "    .colab-df-convert:hover {\n",
              "      background-color: #E2EBFA;\n",
              "      box-shadow: 0px 1px 2px rgba(60, 64, 67, 0.3), 0px 1px 3px 1px rgba(60, 64, 67, 0.15);\n",
              "      fill: #174EA6;\n",
              "    }\n",
              "\n",
              "    [theme=dark] .colab-df-convert {\n",
              "      background-color: #3B4455;\n",
              "      fill: #D2E3FC;\n",
              "    }\n",
              "\n",
              "    [theme=dark] .colab-df-convert:hover {\n",
              "      background-color: #434B5C;\n",
              "      box-shadow: 0px 1px 3px 1px rgba(0, 0, 0, 0.15);\n",
              "      filter: drop-shadow(0px 1px 2px rgba(0, 0, 0, 0.3));\n",
              "      fill: #FFFFFF;\n",
              "    }\n",
              "  </style>\n",
              "\n",
              "      <script>\n",
              "        const buttonEl =\n",
              "          document.querySelector('#df-c1c19b6c-48b2-4784-b7c7-33dcfa79b0a5 button.colab-df-convert');\n",
              "        buttonEl.style.display =\n",
              "          google.colab.kernel.accessAllowed ? 'block' : 'none';\n",
              "\n",
              "        async function convertToInteractive(key) {\n",
              "          const element = document.querySelector('#df-c1c19b6c-48b2-4784-b7c7-33dcfa79b0a5');\n",
              "          const dataTable =\n",
              "            await google.colab.kernel.invokeFunction('convertToInteractive',\n",
              "                                                     [key], {});\n",
              "          if (!dataTable) return;\n",
              "\n",
              "          const docLinkHtml = 'Like what you see? Visit the ' +\n",
              "            '<a target=\"_blank\" href=https://colab.research.google.com/notebooks/data_table.ipynb>data table notebook</a>'\n",
              "            + ' to learn more about interactive tables.';\n",
              "          element.innerHTML = '';\n",
              "          dataTable['output_type'] = 'display_data';\n",
              "          await google.colab.output.renderOutput(dataTable, element);\n",
              "          const docLink = document.createElement('div');\n",
              "          docLink.innerHTML = docLinkHtml;\n",
              "          element.appendChild(docLink);\n",
              "        }\n",
              "      </script>\n",
              "    </div>\n",
              "  </div>\n",
              "  "
            ]
          },
          "metadata": {},
          "execution_count": 67
        }
      ],
      "source": [
        "ls.tf.head()"
      ]
    },
    {
      "cell_type": "code",
      "source": [
        "fairprice = ls.tf[ls.tf[\"id\"]==2780062.0]\n",
        "fairprice"
      ],
      "metadata": {
        "id": "EqgTylogsLuC",
        "colab": {
          "base_uri": "https://localhost:8080/",
          "height": 223
        },
        "outputId": "3080a217-0ca3-43e8-eaa7-662d7d41fc7e"
      },
      "execution_count": null,
      "outputs": [
        {
          "output_type": "execute_result",
          "data": {
            "text/plain": [
              "            id  host_response_time  host_response_rate  host_acceptance_rate  \\\n",
              "1    2780062.0                 1.0                 100                   100   \n",
              "500  2780062.0                 1.0                 100                   100   \n",
              "\n",
              "     host_is_superhost  host_listings_count  host_total_listings_count  \\\n",
              "1                  1.0                    1                          1   \n",
              "500                1.0                    1                          2   \n",
              "\n",
              "     host_has_profile_pic  host_identity_verified  accommodates  ...  \\\n",
              "1                     1.0                     1.0             2  ...   \n",
              "500                   1.0                     1.0             2  ...   \n",
              "\n",
              "     room_type_0  room_type_Entire home/apt  room_type_Hotel room  \\\n",
              "1              0                          0                     0   \n",
              "500            0                          0                     0   \n",
              "\n",
              "     room_type_Private room  room_type_Shared room  bathrooms_type_private  \\\n",
              "1                         1                      0                       1   \n",
              "500                       1                      0                       1   \n",
              "\n",
              "     bathrooms_type_shared  have_license_0  have_license_Exempt  \\\n",
              "1                        0               0                    0   \n",
              "500                      0               0                    0   \n",
              "\n",
              "     have_license_Yes  \n",
              "1                   1  \n",
              "500                 1  \n",
              "\n",
              "[2 rows x 150 columns]"
            ],
            "text/html": [
              "\n",
              "  <div id=\"df-ca4689eb-cd4c-4f48-a073-be6160394303\">\n",
              "    <div class=\"colab-df-container\">\n",
              "      <div>\n",
              "<style scoped>\n",
              "    .dataframe tbody tr th:only-of-type {\n",
              "        vertical-align: middle;\n",
              "    }\n",
              "\n",
              "    .dataframe tbody tr th {\n",
              "        vertical-align: top;\n",
              "    }\n",
              "\n",
              "    .dataframe thead th {\n",
              "        text-align: right;\n",
              "    }\n",
              "</style>\n",
              "<table border=\"1\" class=\"dataframe\">\n",
              "  <thead>\n",
              "    <tr style=\"text-align: right;\">\n",
              "      <th></th>\n",
              "      <th>id</th>\n",
              "      <th>host_response_time</th>\n",
              "      <th>host_response_rate</th>\n",
              "      <th>host_acceptance_rate</th>\n",
              "      <th>host_is_superhost</th>\n",
              "      <th>host_listings_count</th>\n",
              "      <th>host_total_listings_count</th>\n",
              "      <th>host_has_profile_pic</th>\n",
              "      <th>host_identity_verified</th>\n",
              "      <th>accommodates</th>\n",
              "      <th>...</th>\n",
              "      <th>room_type_0</th>\n",
              "      <th>room_type_Entire home/apt</th>\n",
              "      <th>room_type_Hotel room</th>\n",
              "      <th>room_type_Private room</th>\n",
              "      <th>room_type_Shared room</th>\n",
              "      <th>bathrooms_type_private</th>\n",
              "      <th>bathrooms_type_shared</th>\n",
              "      <th>have_license_0</th>\n",
              "      <th>have_license_Exempt</th>\n",
              "      <th>have_license_Yes</th>\n",
              "    </tr>\n",
              "  </thead>\n",
              "  <tbody>\n",
              "    <tr>\n",
              "      <th>1</th>\n",
              "      <td>2780062.0</td>\n",
              "      <td>1.0</td>\n",
              "      <td>100</td>\n",
              "      <td>100</td>\n",
              "      <td>1.0</td>\n",
              "      <td>1</td>\n",
              "      <td>1</td>\n",
              "      <td>1.0</td>\n",
              "      <td>1.0</td>\n",
              "      <td>2</td>\n",
              "      <td>...</td>\n",
              "      <td>0</td>\n",
              "      <td>0</td>\n",
              "      <td>0</td>\n",
              "      <td>1</td>\n",
              "      <td>0</td>\n",
              "      <td>1</td>\n",
              "      <td>0</td>\n",
              "      <td>0</td>\n",
              "      <td>0</td>\n",
              "      <td>1</td>\n",
              "    </tr>\n",
              "    <tr>\n",
              "      <th>500</th>\n",
              "      <td>2780062.0</td>\n",
              "      <td>1.0</td>\n",
              "      <td>100</td>\n",
              "      <td>100</td>\n",
              "      <td>1.0</td>\n",
              "      <td>1</td>\n",
              "      <td>2</td>\n",
              "      <td>1.0</td>\n",
              "      <td>1.0</td>\n",
              "      <td>2</td>\n",
              "      <td>...</td>\n",
              "      <td>0</td>\n",
              "      <td>0</td>\n",
              "      <td>0</td>\n",
              "      <td>1</td>\n",
              "      <td>0</td>\n",
              "      <td>1</td>\n",
              "      <td>0</td>\n",
              "      <td>0</td>\n",
              "      <td>0</td>\n",
              "      <td>1</td>\n",
              "    </tr>\n",
              "  </tbody>\n",
              "</table>\n",
              "<p>2 rows × 150 columns</p>\n",
              "</div>\n",
              "      <button class=\"colab-df-convert\" onclick=\"convertToInteractive('df-ca4689eb-cd4c-4f48-a073-be6160394303')\"\n",
              "              title=\"Convert this dataframe to an interactive table.\"\n",
              "              style=\"display:none;\">\n",
              "        \n",
              "  <svg xmlns=\"http://www.w3.org/2000/svg\" height=\"24px\"viewBox=\"0 0 24 24\"\n",
              "       width=\"24px\">\n",
              "    <path d=\"M0 0h24v24H0V0z\" fill=\"none\"/>\n",
              "    <path d=\"M18.56 5.44l.94 2.06.94-2.06 2.06-.94-2.06-.94-.94-2.06-.94 2.06-2.06.94zm-11 1L8.5 8.5l.94-2.06 2.06-.94-2.06-.94L8.5 2.5l-.94 2.06-2.06.94zm10 10l.94 2.06.94-2.06 2.06-.94-2.06-.94-.94-2.06-.94 2.06-2.06.94z\"/><path d=\"M17.41 7.96l-1.37-1.37c-.4-.4-.92-.59-1.43-.59-.52 0-1.04.2-1.43.59L10.3 9.45l-7.72 7.72c-.78.78-.78 2.05 0 2.83L4 21.41c.39.39.9.59 1.41.59.51 0 1.02-.2 1.41-.59l7.78-7.78 2.81-2.81c.8-.78.8-2.07 0-2.86zM5.41 20L4 18.59l7.72-7.72 1.47 1.35L5.41 20z\"/>\n",
              "  </svg>\n",
              "      </button>\n",
              "      \n",
              "  <style>\n",
              "    .colab-df-container {\n",
              "      display:flex;\n",
              "      flex-wrap:wrap;\n",
              "      gap: 12px;\n",
              "    }\n",
              "\n",
              "    .colab-df-convert {\n",
              "      background-color: #E8F0FE;\n",
              "      border: none;\n",
              "      border-radius: 50%;\n",
              "      cursor: pointer;\n",
              "      display: none;\n",
              "      fill: #1967D2;\n",
              "      height: 32px;\n",
              "      padding: 0 0 0 0;\n",
              "      width: 32px;\n",
              "    }\n",
              "\n",
              "    .colab-df-convert:hover {\n",
              "      background-color: #E2EBFA;\n",
              "      box-shadow: 0px 1px 2px rgba(60, 64, 67, 0.3), 0px 1px 3px 1px rgba(60, 64, 67, 0.15);\n",
              "      fill: #174EA6;\n",
              "    }\n",
              "\n",
              "    [theme=dark] .colab-df-convert {\n",
              "      background-color: #3B4455;\n",
              "      fill: #D2E3FC;\n",
              "    }\n",
              "\n",
              "    [theme=dark] .colab-df-convert:hover {\n",
              "      background-color: #434B5C;\n",
              "      box-shadow: 0px 1px 3px 1px rgba(0, 0, 0, 0.15);\n",
              "      filter: drop-shadow(0px 1px 2px rgba(0, 0, 0, 0.3));\n",
              "      fill: #FFFFFF;\n",
              "    }\n",
              "  </style>\n",
              "\n",
              "      <script>\n",
              "        const buttonEl =\n",
              "          document.querySelector('#df-ca4689eb-cd4c-4f48-a073-be6160394303 button.colab-df-convert');\n",
              "        buttonEl.style.display =\n",
              "          google.colab.kernel.accessAllowed ? 'block' : 'none';\n",
              "\n",
              "        async function convertToInteractive(key) {\n",
              "          const element = document.querySelector('#df-ca4689eb-cd4c-4f48-a073-be6160394303');\n",
              "          const dataTable =\n",
              "            await google.colab.kernel.invokeFunction('convertToInteractive',\n",
              "                                                     [key], {});\n",
              "          if (!dataTable) return;\n",
              "\n",
              "          const docLinkHtml = 'Like what you see? Visit the ' +\n",
              "            '<a target=\"_blank\" href=https://colab.research.google.com/notebooks/data_table.ipynb>data table notebook</a>'\n",
              "            + ' to learn more about interactive tables.';\n",
              "          element.innerHTML = '';\n",
              "          dataTable['output_type'] = 'display_data';\n",
              "          await google.colab.output.renderOutput(dataTable, element);\n",
              "          const docLink = document.createElement('div');\n",
              "          docLink.innerHTML = docLinkHtml;\n",
              "          element.appendChild(docLink);\n",
              "        }\n",
              "      </script>\n",
              "    </div>\n",
              "  </div>\n",
              "  "
            ]
          },
          "metadata": {},
          "execution_count": 68
        }
      ]
    },
    {
      "cell_type": "code",
      "source": [
        "fairprice2 = ls.tf[ls.tf[\"id\"]==12345678.0]\n",
        "fairprice2"
      ],
      "metadata": {
        "id": "zYhaDlglnopP",
        "colab": {
          "base_uri": "https://localhost:8080/",
          "height": 191
        },
        "outputId": "c0b1d6b5-e163-4d8f-fd05-5f2d8f6de70c"
      },
      "execution_count": null,
      "outputs": [
        {
          "output_type": "execute_result",
          "data": {
            "text/plain": [
              "           id  host_response_time  host_response_rate  host_acceptance_rate  \\\n",
              "0  12345678.0                 NaN                   0                     0   \n",
              "\n",
              "   host_is_superhost  host_listings_count  host_total_listings_count  \\\n",
              "0                NaN                    0                          0   \n",
              "\n",
              "   host_has_profile_pic  host_identity_verified  accommodates  ...  \\\n",
              "0                   NaN                     NaN             0  ...   \n",
              "\n",
              "   room_type_0  room_type_Entire home/apt  room_type_Hotel room  \\\n",
              "0            1                          0                     0   \n",
              "\n",
              "   room_type_Private room  room_type_Shared room  bathrooms_type_private  \\\n",
              "0                       0                      0                       1   \n",
              "\n",
              "   bathrooms_type_shared  have_license_0  have_license_Exempt  \\\n",
              "0                      0               1                    0   \n",
              "\n",
              "   have_license_Yes  \n",
              "0                 0  \n",
              "\n",
              "[1 rows x 150 columns]"
            ],
            "text/html": [
              "\n",
              "  <div id=\"df-9a8241ea-7794-412f-aa83-55e7fcd3a65e\">\n",
              "    <div class=\"colab-df-container\">\n",
              "      <div>\n",
              "<style scoped>\n",
              "    .dataframe tbody tr th:only-of-type {\n",
              "        vertical-align: middle;\n",
              "    }\n",
              "\n",
              "    .dataframe tbody tr th {\n",
              "        vertical-align: top;\n",
              "    }\n",
              "\n",
              "    .dataframe thead th {\n",
              "        text-align: right;\n",
              "    }\n",
              "</style>\n",
              "<table border=\"1\" class=\"dataframe\">\n",
              "  <thead>\n",
              "    <tr style=\"text-align: right;\">\n",
              "      <th></th>\n",
              "      <th>id</th>\n",
              "      <th>host_response_time</th>\n",
              "      <th>host_response_rate</th>\n",
              "      <th>host_acceptance_rate</th>\n",
              "      <th>host_is_superhost</th>\n",
              "      <th>host_listings_count</th>\n",
              "      <th>host_total_listings_count</th>\n",
              "      <th>host_has_profile_pic</th>\n",
              "      <th>host_identity_verified</th>\n",
              "      <th>accommodates</th>\n",
              "      <th>...</th>\n",
              "      <th>room_type_0</th>\n",
              "      <th>room_type_Entire home/apt</th>\n",
              "      <th>room_type_Hotel room</th>\n",
              "      <th>room_type_Private room</th>\n",
              "      <th>room_type_Shared room</th>\n",
              "      <th>bathrooms_type_private</th>\n",
              "      <th>bathrooms_type_shared</th>\n",
              "      <th>have_license_0</th>\n",
              "      <th>have_license_Exempt</th>\n",
              "      <th>have_license_Yes</th>\n",
              "    </tr>\n",
              "  </thead>\n",
              "  <tbody>\n",
              "    <tr>\n",
              "      <th>0</th>\n",
              "      <td>12345678.0</td>\n",
              "      <td>NaN</td>\n",
              "      <td>0</td>\n",
              "      <td>0</td>\n",
              "      <td>NaN</td>\n",
              "      <td>0</td>\n",
              "      <td>0</td>\n",
              "      <td>NaN</td>\n",
              "      <td>NaN</td>\n",
              "      <td>0</td>\n",
              "      <td>...</td>\n",
              "      <td>1</td>\n",
              "      <td>0</td>\n",
              "      <td>0</td>\n",
              "      <td>0</td>\n",
              "      <td>0</td>\n",
              "      <td>1</td>\n",
              "      <td>0</td>\n",
              "      <td>1</td>\n",
              "      <td>0</td>\n",
              "      <td>0</td>\n",
              "    </tr>\n",
              "  </tbody>\n",
              "</table>\n",
              "<p>1 rows × 150 columns</p>\n",
              "</div>\n",
              "      <button class=\"colab-df-convert\" onclick=\"convertToInteractive('df-9a8241ea-7794-412f-aa83-55e7fcd3a65e')\"\n",
              "              title=\"Convert this dataframe to an interactive table.\"\n",
              "              style=\"display:none;\">\n",
              "        \n",
              "  <svg xmlns=\"http://www.w3.org/2000/svg\" height=\"24px\"viewBox=\"0 0 24 24\"\n",
              "       width=\"24px\">\n",
              "    <path d=\"M0 0h24v24H0V0z\" fill=\"none\"/>\n",
              "    <path d=\"M18.56 5.44l.94 2.06.94-2.06 2.06-.94-2.06-.94-.94-2.06-.94 2.06-2.06.94zm-11 1L8.5 8.5l.94-2.06 2.06-.94-2.06-.94L8.5 2.5l-.94 2.06-2.06.94zm10 10l.94 2.06.94-2.06 2.06-.94-2.06-.94-.94-2.06-.94 2.06-2.06.94z\"/><path d=\"M17.41 7.96l-1.37-1.37c-.4-.4-.92-.59-1.43-.59-.52 0-1.04.2-1.43.59L10.3 9.45l-7.72 7.72c-.78.78-.78 2.05 0 2.83L4 21.41c.39.39.9.59 1.41.59.51 0 1.02-.2 1.41-.59l7.78-7.78 2.81-2.81c.8-.78.8-2.07 0-2.86zM5.41 20L4 18.59l7.72-7.72 1.47 1.35L5.41 20z\"/>\n",
              "  </svg>\n",
              "      </button>\n",
              "      \n",
              "  <style>\n",
              "    .colab-df-container {\n",
              "      display:flex;\n",
              "      flex-wrap:wrap;\n",
              "      gap: 12px;\n",
              "    }\n",
              "\n",
              "    .colab-df-convert {\n",
              "      background-color: #E8F0FE;\n",
              "      border: none;\n",
              "      border-radius: 50%;\n",
              "      cursor: pointer;\n",
              "      display: none;\n",
              "      fill: #1967D2;\n",
              "      height: 32px;\n",
              "      padding: 0 0 0 0;\n",
              "      width: 32px;\n",
              "    }\n",
              "\n",
              "    .colab-df-convert:hover {\n",
              "      background-color: #E2EBFA;\n",
              "      box-shadow: 0px 1px 2px rgba(60, 64, 67, 0.3), 0px 1px 3px 1px rgba(60, 64, 67, 0.15);\n",
              "      fill: #174EA6;\n",
              "    }\n",
              "\n",
              "    [theme=dark] .colab-df-convert {\n",
              "      background-color: #3B4455;\n",
              "      fill: #D2E3FC;\n",
              "    }\n",
              "\n",
              "    [theme=dark] .colab-df-convert:hover {\n",
              "      background-color: #434B5C;\n",
              "      box-shadow: 0px 1px 3px 1px rgba(0, 0, 0, 0.15);\n",
              "      filter: drop-shadow(0px 1px 2px rgba(0, 0, 0, 0.3));\n",
              "      fill: #FFFFFF;\n",
              "    }\n",
              "  </style>\n",
              "\n",
              "      <script>\n",
              "        const buttonEl =\n",
              "          document.querySelector('#df-9a8241ea-7794-412f-aa83-55e7fcd3a65e button.colab-df-convert');\n",
              "        buttonEl.style.display =\n",
              "          google.colab.kernel.accessAllowed ? 'block' : 'none';\n",
              "\n",
              "        async function convertToInteractive(key) {\n",
              "          const element = document.querySelector('#df-9a8241ea-7794-412f-aa83-55e7fcd3a65e');\n",
              "          const dataTable =\n",
              "            await google.colab.kernel.invokeFunction('convertToInteractive',\n",
              "                                                     [key], {});\n",
              "          if (!dataTable) return;\n",
              "\n",
              "          const docLinkHtml = 'Like what you see? Visit the ' +\n",
              "            '<a target=\"_blank\" href=https://colab.research.google.com/notebooks/data_table.ipynb>data table notebook</a>'\n",
              "            + ' to learn more about interactive tables.';\n",
              "          element.innerHTML = '';\n",
              "          dataTable['output_type'] = 'display_data';\n",
              "          await google.colab.output.renderOutput(dataTable, element);\n",
              "          const docLink = document.createElement('div');\n",
              "          docLink.innerHTML = docLinkHtml;\n",
              "          element.appendChild(docLink);\n",
              "        }\n",
              "      </script>\n",
              "    </div>\n",
              "  </div>\n",
              "  "
            ]
          },
          "metadata": {},
          "execution_count": 69
        }
      ]
    },
    {
      "cell_type": "code",
      "source": [
        "ls.tf = ls.tf.drop(labels=[0,1], axis=0)"
      ],
      "metadata": {
        "id": "RoG1Mce-vSOg"
      },
      "execution_count": null,
      "outputs": []
    },
    {
      "cell_type": "code",
      "source": [
        "ls.tf.drop(columns=\"id\" , inplace=True)"
      ],
      "metadata": {
        "id": "8r7dW61urwZL"
      },
      "execution_count": null,
      "outputs": []
    },
    {
      "cell_type": "code",
      "source": [
        "fairprice.drop(columns=\"id\" , inplace=True)\n",
        "fairprice2.drop(columns=\"id\" , inplace=True)"
      ],
      "metadata": {
        "id": "FRa6Y_z4rx8u"
      },
      "execution_count": null,
      "outputs": []
    },
    {
      "cell_type": "code",
      "source": [
        "fairprice = fairprice.drop(labels=[1], axis=0)"
      ],
      "metadata": {
        "id": "mI-wYIeWr7TX"
      },
      "execution_count": null,
      "outputs": []
    },
    {
      "cell_type": "code",
      "source": [
        "fairprice2.head()"
      ],
      "metadata": {
        "id": "sJy4plfln1P7",
        "colab": {
          "base_uri": "https://localhost:8080/",
          "height": 191
        },
        "outputId": "650fe3d8-258e-4344-be3d-f1792762cfa1"
      },
      "execution_count": null,
      "outputs": [
        {
          "output_type": "execute_result",
          "data": {
            "text/plain": [
              "   host_response_time  host_response_rate  host_acceptance_rate  \\\n",
              "0                 NaN                   0                     0   \n",
              "\n",
              "   host_is_superhost  host_listings_count  host_total_listings_count  \\\n",
              "0                NaN                    0                          0   \n",
              "\n",
              "   host_has_profile_pic  host_identity_verified  accommodates  bedrooms  ...  \\\n",
              "0                   NaN                     NaN             0       1.0  ...   \n",
              "\n",
              "   room_type_0  room_type_Entire home/apt  room_type_Hotel room  \\\n",
              "0            1                          0                     0   \n",
              "\n",
              "   room_type_Private room  room_type_Shared room  bathrooms_type_private  \\\n",
              "0                       0                      0                       1   \n",
              "\n",
              "   bathrooms_type_shared  have_license_0  have_license_Exempt  \\\n",
              "0                      0               1                    0   \n",
              "\n",
              "   have_license_Yes  \n",
              "0                 0  \n",
              "\n",
              "[1 rows x 149 columns]"
            ],
            "text/html": [
              "\n",
              "  <div id=\"df-84d0e450-a026-4c5f-840a-464a4abd2b85\">\n",
              "    <div class=\"colab-df-container\">\n",
              "      <div>\n",
              "<style scoped>\n",
              "    .dataframe tbody tr th:only-of-type {\n",
              "        vertical-align: middle;\n",
              "    }\n",
              "\n",
              "    .dataframe tbody tr th {\n",
              "        vertical-align: top;\n",
              "    }\n",
              "\n",
              "    .dataframe thead th {\n",
              "        text-align: right;\n",
              "    }\n",
              "</style>\n",
              "<table border=\"1\" class=\"dataframe\">\n",
              "  <thead>\n",
              "    <tr style=\"text-align: right;\">\n",
              "      <th></th>\n",
              "      <th>host_response_time</th>\n",
              "      <th>host_response_rate</th>\n",
              "      <th>host_acceptance_rate</th>\n",
              "      <th>host_is_superhost</th>\n",
              "      <th>host_listings_count</th>\n",
              "      <th>host_total_listings_count</th>\n",
              "      <th>host_has_profile_pic</th>\n",
              "      <th>host_identity_verified</th>\n",
              "      <th>accommodates</th>\n",
              "      <th>bedrooms</th>\n",
              "      <th>...</th>\n",
              "      <th>room_type_0</th>\n",
              "      <th>room_type_Entire home/apt</th>\n",
              "      <th>room_type_Hotel room</th>\n",
              "      <th>room_type_Private room</th>\n",
              "      <th>room_type_Shared room</th>\n",
              "      <th>bathrooms_type_private</th>\n",
              "      <th>bathrooms_type_shared</th>\n",
              "      <th>have_license_0</th>\n",
              "      <th>have_license_Exempt</th>\n",
              "      <th>have_license_Yes</th>\n",
              "    </tr>\n",
              "  </thead>\n",
              "  <tbody>\n",
              "    <tr>\n",
              "      <th>0</th>\n",
              "      <td>NaN</td>\n",
              "      <td>0</td>\n",
              "      <td>0</td>\n",
              "      <td>NaN</td>\n",
              "      <td>0</td>\n",
              "      <td>0</td>\n",
              "      <td>NaN</td>\n",
              "      <td>NaN</td>\n",
              "      <td>0</td>\n",
              "      <td>1.0</td>\n",
              "      <td>...</td>\n",
              "      <td>1</td>\n",
              "      <td>0</td>\n",
              "      <td>0</td>\n",
              "      <td>0</td>\n",
              "      <td>0</td>\n",
              "      <td>1</td>\n",
              "      <td>0</td>\n",
              "      <td>1</td>\n",
              "      <td>0</td>\n",
              "      <td>0</td>\n",
              "    </tr>\n",
              "  </tbody>\n",
              "</table>\n",
              "<p>1 rows × 149 columns</p>\n",
              "</div>\n",
              "      <button class=\"colab-df-convert\" onclick=\"convertToInteractive('df-84d0e450-a026-4c5f-840a-464a4abd2b85')\"\n",
              "              title=\"Convert this dataframe to an interactive table.\"\n",
              "              style=\"display:none;\">\n",
              "        \n",
              "  <svg xmlns=\"http://www.w3.org/2000/svg\" height=\"24px\"viewBox=\"0 0 24 24\"\n",
              "       width=\"24px\">\n",
              "    <path d=\"M0 0h24v24H0V0z\" fill=\"none\"/>\n",
              "    <path d=\"M18.56 5.44l.94 2.06.94-2.06 2.06-.94-2.06-.94-.94-2.06-.94 2.06-2.06.94zm-11 1L8.5 8.5l.94-2.06 2.06-.94-2.06-.94L8.5 2.5l-.94 2.06-2.06.94zm10 10l.94 2.06.94-2.06 2.06-.94-2.06-.94-.94-2.06-.94 2.06-2.06.94z\"/><path d=\"M17.41 7.96l-1.37-1.37c-.4-.4-.92-.59-1.43-.59-.52 0-1.04.2-1.43.59L10.3 9.45l-7.72 7.72c-.78.78-.78 2.05 0 2.83L4 21.41c.39.39.9.59 1.41.59.51 0 1.02-.2 1.41-.59l7.78-7.78 2.81-2.81c.8-.78.8-2.07 0-2.86zM5.41 20L4 18.59l7.72-7.72 1.47 1.35L5.41 20z\"/>\n",
              "  </svg>\n",
              "      </button>\n",
              "      \n",
              "  <style>\n",
              "    .colab-df-container {\n",
              "      display:flex;\n",
              "      flex-wrap:wrap;\n",
              "      gap: 12px;\n",
              "    }\n",
              "\n",
              "    .colab-df-convert {\n",
              "      background-color: #E8F0FE;\n",
              "      border: none;\n",
              "      border-radius: 50%;\n",
              "      cursor: pointer;\n",
              "      display: none;\n",
              "      fill: #1967D2;\n",
              "      height: 32px;\n",
              "      padding: 0 0 0 0;\n",
              "      width: 32px;\n",
              "    }\n",
              "\n",
              "    .colab-df-convert:hover {\n",
              "      background-color: #E2EBFA;\n",
              "      box-shadow: 0px 1px 2px rgba(60, 64, 67, 0.3), 0px 1px 3px 1px rgba(60, 64, 67, 0.15);\n",
              "      fill: #174EA6;\n",
              "    }\n",
              "\n",
              "    [theme=dark] .colab-df-convert {\n",
              "      background-color: #3B4455;\n",
              "      fill: #D2E3FC;\n",
              "    }\n",
              "\n",
              "    [theme=dark] .colab-df-convert:hover {\n",
              "      background-color: #434B5C;\n",
              "      box-shadow: 0px 1px 3px 1px rgba(0, 0, 0, 0.15);\n",
              "      filter: drop-shadow(0px 1px 2px rgba(0, 0, 0, 0.3));\n",
              "      fill: #FFFFFF;\n",
              "    }\n",
              "  </style>\n",
              "\n",
              "      <script>\n",
              "        const buttonEl =\n",
              "          document.querySelector('#df-84d0e450-a026-4c5f-840a-464a4abd2b85 button.colab-df-convert');\n",
              "        buttonEl.style.display =\n",
              "          google.colab.kernel.accessAllowed ? 'block' : 'none';\n",
              "\n",
              "        async function convertToInteractive(key) {\n",
              "          const element = document.querySelector('#df-84d0e450-a026-4c5f-840a-464a4abd2b85');\n",
              "          const dataTable =\n",
              "            await google.colab.kernel.invokeFunction('convertToInteractive',\n",
              "                                                     [key], {});\n",
              "          if (!dataTable) return;\n",
              "\n",
              "          const docLinkHtml = 'Like what you see? Visit the ' +\n",
              "            '<a target=\"_blank\" href=https://colab.research.google.com/notebooks/data_table.ipynb>data table notebook</a>'\n",
              "            + ' to learn more about interactive tables.';\n",
              "          element.innerHTML = '';\n",
              "          dataTable['output_type'] = 'display_data';\n",
              "          await google.colab.output.renderOutput(dataTable, element);\n",
              "          const docLink = document.createElement('div');\n",
              "          docLink.innerHTML = docLinkHtml;\n",
              "          element.appendChild(docLink);\n",
              "        }\n",
              "      </script>\n",
              "    </div>\n",
              "  </div>\n",
              "  "
            ]
          },
          "metadata": {},
          "execution_count": 74
        }
      ]
    },
    {
      "cell_type": "markdown",
      "metadata": {
        "id": "Ob3FNjhurfnG"
      },
      "source": [
        "##X and Y"
      ]
    },
    {
      "cell_type": "code",
      "source": [
        "ls.tf.columns"
      ],
      "metadata": {
        "id": "0QtL6k4cu6yb",
        "colab": {
          "base_uri": "https://localhost:8080/"
        },
        "outputId": "70f9a89d-23f1-40dc-a187-0093f2550a70"
      },
      "execution_count": null,
      "outputs": [
        {
          "output_type": "execute_result",
          "data": {
            "text/plain": [
              "Index(['host_response_time', 'host_response_rate', 'host_acceptance_rate',\n",
              "       'host_is_superhost', 'host_listings_count', 'host_total_listings_count',\n",
              "       'host_has_profile_pic', 'host_identity_verified', 'accommodates',\n",
              "       'bedrooms',\n",
              "       ...\n",
              "       'room_type_0', 'room_type_Entire home/apt', 'room_type_Hotel room',\n",
              "       'room_type_Private room', 'room_type_Shared room',\n",
              "       'bathrooms_type_private', 'bathrooms_type_shared', 'have_license_0',\n",
              "       'have_license_Exempt', 'have_license_Yes'],\n",
              "      dtype='object', length=149)"
            ]
          },
          "metadata": {},
          "execution_count": 75
        }
      ]
    },
    {
      "cell_type": "code",
      "source": [
        "ls.tf.isnull().sum().sum()"
      ],
      "metadata": {
        "id": "UPtr4gCnwcRz",
        "colab": {
          "base_uri": "https://localhost:8080/"
        },
        "outputId": "dde5721c-98bb-4a0d-b8ff-e10e9bd7beee"
      },
      "execution_count": null,
      "outputs": [
        {
          "output_type": "execute_result",
          "data": {
            "text/plain": [
              "0"
            ]
          },
          "metadata": {},
          "execution_count": 76
        }
      ]
    },
    {
      "cell_type": "code",
      "source": [
        "ls_null = ls.tf.isnull().sum().sort_values(ascending = False)\n",
        "ls_null.loc[ls_null > 0]"
      ],
      "metadata": {
        "id": "depTe81xyR4X",
        "colab": {
          "base_uri": "https://localhost:8080/"
        },
        "outputId": "a03f4623-715a-488d-d7c3-ec307eaa685a"
      },
      "execution_count": null,
      "outputs": [
        {
          "output_type": "execute_result",
          "data": {
            "text/plain": [
              "Series([], dtype: int64)"
            ]
          },
          "metadata": {},
          "execution_count": 77
        }
      ]
    },
    {
      "cell_type": "code",
      "source": [],
      "metadata": {
        "id": "kOSjr8OhzJMU"
      },
      "execution_count": null,
      "outputs": []
    },
    {
      "cell_type": "code",
      "execution_count": null,
      "metadata": {
        "id": "q66O-gJ4c_5b"
      },
      "outputs": [],
      "source": [
        "x = ls.tf.drop('price',axis=1)\n",
        "y = ls.tf['price']"
      ]
    },
    {
      "cell_type": "markdown",
      "metadata": {
        "id": "7AKPvJofSQoO"
      },
      "source": [
        "##PCA or Normalization"
      ]
    },
    {
      "cell_type": "code",
      "source": [
        "x"
      ],
      "metadata": {
        "id": "OFwoDcXsxqWV",
        "colab": {
          "base_uri": "https://localhost:8080/"
        },
        "outputId": "4f1cb721-a33f-4120-b86b-df8f1d48e399"
      },
      "execution_count": null,
      "outputs": [
        {
          "output_type": "execute_result",
          "data": {
            "text/plain": [
              "      host_response_time  host_response_rate  host_acceptance_rate  \\\n",
              "2                    1.0                 100                   100   \n",
              "3                    1.0                 100                    98   \n",
              "4                    1.0                 100                   100   \n",
              "5                    1.0                 100                   100   \n",
              "6                    1.0                 100                   100   \n",
              "...                  ...                 ...                   ...   \n",
              "6890                 2.0                 100                   100   \n",
              "6891                 1.0                  67                    50   \n",
              "6892                 1.0                 100                   100   \n",
              "6893                 4.0                   0                     0   \n",
              "6894                 3.0                 100                    36   \n",
              "\n",
              "      host_is_superhost  host_listings_count  host_total_listings_count  \\\n",
              "2                   1.0                    1                          1   \n",
              "3                   0.0                    5                          5   \n",
              "4                   0.0                    1                          1   \n",
              "5                   1.0                    2                          2   \n",
              "6                   1.0                    2                          2   \n",
              "...                 ...                  ...                        ...   \n",
              "6890                0.0                    1                          2   \n",
              "6891                0.0                    1                          1   \n",
              "6892                0.0                    1                          1   \n",
              "6893                0.0                    1                          1   \n",
              "6894                0.0                    1                          1   \n",
              "\n",
              "      host_has_profile_pic  host_identity_verified  accommodates  bedrooms  \\\n",
              "2                      1.0                     1.0             2       1.0   \n",
              "3                      1.0                     1.0             2       1.0   \n",
              "4                      1.0                     1.0             2       1.0   \n",
              "5                      1.0                     1.0             2       1.0   \n",
              "6                      1.0                     1.0             1       1.0   \n",
              "...                    ...                     ...           ...       ...   \n",
              "6890                   1.0                     1.0             8       4.0   \n",
              "6891                   1.0                     0.0             6       4.0   \n",
              "6892                   1.0                     0.0             6       4.0   \n",
              "6893                   1.0                     0.0             6       5.0   \n",
              "6894                   1.0                     0.0             5       4.0   \n",
              "\n",
              "      ...  room_type_0  room_type_Entire home/apt  room_type_Hotel room  \\\n",
              "2     ...            0                          0                     0   \n",
              "3     ...            0                          0                     0   \n",
              "4     ...            0                          0                     0   \n",
              "5     ...            0                          0                     0   \n",
              "6     ...            0                          0                     0   \n",
              "...   ...          ...                        ...                   ...   \n",
              "6890  ...            0                          1                     0   \n",
              "6891  ...            0                          1                     0   \n",
              "6892  ...            0                          1                     0   \n",
              "6893  ...            0                          1                     0   \n",
              "6894  ...            0                          1                     0   \n",
              "\n",
              "      room_type_Private room  room_type_Shared room  bathrooms_type_private  \\\n",
              "2                          1                      0                       0   \n",
              "3                          1                      0                       1   \n",
              "4                          1                      0                       1   \n",
              "5                          1                      0                       0   \n",
              "6                          1                      0                       0   \n",
              "...                      ...                    ...                     ...   \n",
              "6890                       0                      0                       1   \n",
              "6891                       0                      0                       1   \n",
              "6892                       0                      0                       1   \n",
              "6893                       0                      0                       1   \n",
              "6894                       0                      0                       1   \n",
              "\n",
              "      bathrooms_type_shared  have_license_0  have_license_Exempt  \\\n",
              "2                         1               0                    0   \n",
              "3                         0               0                    0   \n",
              "4                         0               1                    0   \n",
              "5                         1               0                    0   \n",
              "6                         1               0                    0   \n",
              "...                     ...             ...                  ...   \n",
              "6890                      0               0                    1   \n",
              "6891                      0               0                    1   \n",
              "6892                      0               0                    1   \n",
              "6893                      0               0                    1   \n",
              "6894                      0               0                    1   \n",
              "\n",
              "      have_license_Yes  \n",
              "2                    1  \n",
              "3                    1  \n",
              "4                    0  \n",
              "5                    1  \n",
              "6                    1  \n",
              "...                ...  \n",
              "6890                 0  \n",
              "6891                 0  \n",
              "6892                 0  \n",
              "6893                 0  \n",
              "6894                 0  \n",
              "\n",
              "[6885 rows x 148 columns]"
            ],
            "text/html": [
              "\n",
              "  <div id=\"df-b6a8efe8-d241-4bfb-aec6-53a4c14159de\">\n",
              "    <div class=\"colab-df-container\">\n",
              "      <div>\n",
              "<style scoped>\n",
              "    .dataframe tbody tr th:only-of-type {\n",
              "        vertical-align: middle;\n",
              "    }\n",
              "\n",
              "    .dataframe tbody tr th {\n",
              "        vertical-align: top;\n",
              "    }\n",
              "\n",
              "    .dataframe thead th {\n",
              "        text-align: right;\n",
              "    }\n",
              "</style>\n",
              "<table border=\"1\" class=\"dataframe\">\n",
              "  <thead>\n",
              "    <tr style=\"text-align: right;\">\n",
              "      <th></th>\n",
              "      <th>host_response_time</th>\n",
              "      <th>host_response_rate</th>\n",
              "      <th>host_acceptance_rate</th>\n",
              "      <th>host_is_superhost</th>\n",
              "      <th>host_listings_count</th>\n",
              "      <th>host_total_listings_count</th>\n",
              "      <th>host_has_profile_pic</th>\n",
              "      <th>host_identity_verified</th>\n",
              "      <th>accommodates</th>\n",
              "      <th>bedrooms</th>\n",
              "      <th>...</th>\n",
              "      <th>room_type_0</th>\n",
              "      <th>room_type_Entire home/apt</th>\n",
              "      <th>room_type_Hotel room</th>\n",
              "      <th>room_type_Private room</th>\n",
              "      <th>room_type_Shared room</th>\n",
              "      <th>bathrooms_type_private</th>\n",
              "      <th>bathrooms_type_shared</th>\n",
              "      <th>have_license_0</th>\n",
              "      <th>have_license_Exempt</th>\n",
              "      <th>have_license_Yes</th>\n",
              "    </tr>\n",
              "  </thead>\n",
              "  <tbody>\n",
              "    <tr>\n",
              "      <th>2</th>\n",
              "      <td>1.0</td>\n",
              "      <td>100</td>\n",
              "      <td>100</td>\n",
              "      <td>1.0</td>\n",
              "      <td>1</td>\n",
              "      <td>1</td>\n",
              "      <td>1.0</td>\n",
              "      <td>1.0</td>\n",
              "      <td>2</td>\n",
              "      <td>1.0</td>\n",
              "      <td>...</td>\n",
              "      <td>0</td>\n",
              "      <td>0</td>\n",
              "      <td>0</td>\n",
              "      <td>1</td>\n",
              "      <td>0</td>\n",
              "      <td>0</td>\n",
              "      <td>1</td>\n",
              "      <td>0</td>\n",
              "      <td>0</td>\n",
              "      <td>1</td>\n",
              "    </tr>\n",
              "    <tr>\n",
              "      <th>3</th>\n",
              "      <td>1.0</td>\n",
              "      <td>100</td>\n",
              "      <td>98</td>\n",
              "      <td>0.0</td>\n",
              "      <td>5</td>\n",
              "      <td>5</td>\n",
              "      <td>1.0</td>\n",
              "      <td>1.0</td>\n",
              "      <td>2</td>\n",
              "      <td>1.0</td>\n",
              "      <td>...</td>\n",
              "      <td>0</td>\n",
              "      <td>0</td>\n",
              "      <td>0</td>\n",
              "      <td>1</td>\n",
              "      <td>0</td>\n",
              "      <td>1</td>\n",
              "      <td>0</td>\n",
              "      <td>0</td>\n",
              "      <td>0</td>\n",
              "      <td>1</td>\n",
              "    </tr>\n",
              "    <tr>\n",
              "      <th>4</th>\n",
              "      <td>1.0</td>\n",
              "      <td>100</td>\n",
              "      <td>100</td>\n",
              "      <td>0.0</td>\n",
              "      <td>1</td>\n",
              "      <td>1</td>\n",
              "      <td>1.0</td>\n",
              "      <td>1.0</td>\n",
              "      <td>2</td>\n",
              "      <td>1.0</td>\n",
              "      <td>...</td>\n",
              "      <td>0</td>\n",
              "      <td>0</td>\n",
              "      <td>0</td>\n",
              "      <td>1</td>\n",
              "      <td>0</td>\n",
              "      <td>1</td>\n",
              "      <td>0</td>\n",
              "      <td>1</td>\n",
              "      <td>0</td>\n",
              "      <td>0</td>\n",
              "    </tr>\n",
              "    <tr>\n",
              "      <th>5</th>\n",
              "      <td>1.0</td>\n",
              "      <td>100</td>\n",
              "      <td>100</td>\n",
              "      <td>1.0</td>\n",
              "      <td>2</td>\n",
              "      <td>2</td>\n",
              "      <td>1.0</td>\n",
              "      <td>1.0</td>\n",
              "      <td>2</td>\n",
              "      <td>1.0</td>\n",
              "      <td>...</td>\n",
              "      <td>0</td>\n",
              "      <td>0</td>\n",
              "      <td>0</td>\n",
              "      <td>1</td>\n",
              "      <td>0</td>\n",
              "      <td>0</td>\n",
              "      <td>1</td>\n",
              "      <td>0</td>\n",
              "      <td>0</td>\n",
              "      <td>1</td>\n",
              "    </tr>\n",
              "    <tr>\n",
              "      <th>6</th>\n",
              "      <td>1.0</td>\n",
              "      <td>100</td>\n",
              "      <td>100</td>\n",
              "      <td>1.0</td>\n",
              "      <td>2</td>\n",
              "      <td>2</td>\n",
              "      <td>1.0</td>\n",
              "      <td>1.0</td>\n",
              "      <td>1</td>\n",
              "      <td>1.0</td>\n",
              "      <td>...</td>\n",
              "      <td>0</td>\n",
              "      <td>0</td>\n",
              "      <td>0</td>\n",
              "      <td>1</td>\n",
              "      <td>0</td>\n",
              "      <td>0</td>\n",
              "      <td>1</td>\n",
              "      <td>0</td>\n",
              "      <td>0</td>\n",
              "      <td>1</td>\n",
              "    </tr>\n",
              "    <tr>\n",
              "      <th>...</th>\n",
              "      <td>...</td>\n",
              "      <td>...</td>\n",
              "      <td>...</td>\n",
              "      <td>...</td>\n",
              "      <td>...</td>\n",
              "      <td>...</td>\n",
              "      <td>...</td>\n",
              "      <td>...</td>\n",
              "      <td>...</td>\n",
              "      <td>...</td>\n",
              "      <td>...</td>\n",
              "      <td>...</td>\n",
              "      <td>...</td>\n",
              "      <td>...</td>\n",
              "      <td>...</td>\n",
              "      <td>...</td>\n",
              "      <td>...</td>\n",
              "      <td>...</td>\n",
              "      <td>...</td>\n",
              "      <td>...</td>\n",
              "      <td>...</td>\n",
              "    </tr>\n",
              "    <tr>\n",
              "      <th>6890</th>\n",
              "      <td>2.0</td>\n",
              "      <td>100</td>\n",
              "      <td>100</td>\n",
              "      <td>0.0</td>\n",
              "      <td>1</td>\n",
              "      <td>2</td>\n",
              "      <td>1.0</td>\n",
              "      <td>1.0</td>\n",
              "      <td>8</td>\n",
              "      <td>4.0</td>\n",
              "      <td>...</td>\n",
              "      <td>0</td>\n",
              "      <td>1</td>\n",
              "      <td>0</td>\n",
              "      <td>0</td>\n",
              "      <td>0</td>\n",
              "      <td>1</td>\n",
              "      <td>0</td>\n",
              "      <td>0</td>\n",
              "      <td>1</td>\n",
              "      <td>0</td>\n",
              "    </tr>\n",
              "    <tr>\n",
              "      <th>6891</th>\n",
              "      <td>1.0</td>\n",
              "      <td>67</td>\n",
              "      <td>50</td>\n",
              "      <td>0.0</td>\n",
              "      <td>1</td>\n",
              "      <td>1</td>\n",
              "      <td>1.0</td>\n",
              "      <td>0.0</td>\n",
              "      <td>6</td>\n",
              "      <td>4.0</td>\n",
              "      <td>...</td>\n",
              "      <td>0</td>\n",
              "      <td>1</td>\n",
              "      <td>0</td>\n",
              "      <td>0</td>\n",
              "      <td>0</td>\n",
              "      <td>1</td>\n",
              "      <td>0</td>\n",
              "      <td>0</td>\n",
              "      <td>1</td>\n",
              "      <td>0</td>\n",
              "    </tr>\n",
              "    <tr>\n",
              "      <th>6892</th>\n",
              "      <td>1.0</td>\n",
              "      <td>100</td>\n",
              "      <td>100</td>\n",
              "      <td>0.0</td>\n",
              "      <td>1</td>\n",
              "      <td>1</td>\n",
              "      <td>1.0</td>\n",
              "      <td>0.0</td>\n",
              "      <td>6</td>\n",
              "      <td>4.0</td>\n",
              "      <td>...</td>\n",
              "      <td>0</td>\n",
              "      <td>1</td>\n",
              "      <td>0</td>\n",
              "      <td>0</td>\n",
              "      <td>0</td>\n",
              "      <td>1</td>\n",
              "      <td>0</td>\n",
              "      <td>0</td>\n",
              "      <td>1</td>\n",
              "      <td>0</td>\n",
              "    </tr>\n",
              "    <tr>\n",
              "      <th>6893</th>\n",
              "      <td>4.0</td>\n",
              "      <td>0</td>\n",
              "      <td>0</td>\n",
              "      <td>0.0</td>\n",
              "      <td>1</td>\n",
              "      <td>1</td>\n",
              "      <td>1.0</td>\n",
              "      <td>0.0</td>\n",
              "      <td>6</td>\n",
              "      <td>5.0</td>\n",
              "      <td>...</td>\n",
              "      <td>0</td>\n",
              "      <td>1</td>\n",
              "      <td>0</td>\n",
              "      <td>0</td>\n",
              "      <td>0</td>\n",
              "      <td>1</td>\n",
              "      <td>0</td>\n",
              "      <td>0</td>\n",
              "      <td>1</td>\n",
              "      <td>0</td>\n",
              "    </tr>\n",
              "    <tr>\n",
              "      <th>6894</th>\n",
              "      <td>3.0</td>\n",
              "      <td>100</td>\n",
              "      <td>36</td>\n",
              "      <td>0.0</td>\n",
              "      <td>1</td>\n",
              "      <td>1</td>\n",
              "      <td>1.0</td>\n",
              "      <td>0.0</td>\n",
              "      <td>5</td>\n",
              "      <td>4.0</td>\n",
              "      <td>...</td>\n",
              "      <td>0</td>\n",
              "      <td>1</td>\n",
              "      <td>0</td>\n",
              "      <td>0</td>\n",
              "      <td>0</td>\n",
              "      <td>1</td>\n",
              "      <td>0</td>\n",
              "      <td>0</td>\n",
              "      <td>1</td>\n",
              "      <td>0</td>\n",
              "    </tr>\n",
              "  </tbody>\n",
              "</table>\n",
              "<p>6885 rows × 148 columns</p>\n",
              "</div>\n",
              "      <button class=\"colab-df-convert\" onclick=\"convertToInteractive('df-b6a8efe8-d241-4bfb-aec6-53a4c14159de')\"\n",
              "              title=\"Convert this dataframe to an interactive table.\"\n",
              "              style=\"display:none;\">\n",
              "        \n",
              "  <svg xmlns=\"http://www.w3.org/2000/svg\" height=\"24px\"viewBox=\"0 0 24 24\"\n",
              "       width=\"24px\">\n",
              "    <path d=\"M0 0h24v24H0V0z\" fill=\"none\"/>\n",
              "    <path d=\"M18.56 5.44l.94 2.06.94-2.06 2.06-.94-2.06-.94-.94-2.06-.94 2.06-2.06.94zm-11 1L8.5 8.5l.94-2.06 2.06-.94-2.06-.94L8.5 2.5l-.94 2.06-2.06.94zm10 10l.94 2.06.94-2.06 2.06-.94-2.06-.94-.94-2.06-.94 2.06-2.06.94z\"/><path d=\"M17.41 7.96l-1.37-1.37c-.4-.4-.92-.59-1.43-.59-.52 0-1.04.2-1.43.59L10.3 9.45l-7.72 7.72c-.78.78-.78 2.05 0 2.83L4 21.41c.39.39.9.59 1.41.59.51 0 1.02-.2 1.41-.59l7.78-7.78 2.81-2.81c.8-.78.8-2.07 0-2.86zM5.41 20L4 18.59l7.72-7.72 1.47 1.35L5.41 20z\"/>\n",
              "  </svg>\n",
              "      </button>\n",
              "      \n",
              "  <style>\n",
              "    .colab-df-container {\n",
              "      display:flex;\n",
              "      flex-wrap:wrap;\n",
              "      gap: 12px;\n",
              "    }\n",
              "\n",
              "    .colab-df-convert {\n",
              "      background-color: #E8F0FE;\n",
              "      border: none;\n",
              "      border-radius: 50%;\n",
              "      cursor: pointer;\n",
              "      display: none;\n",
              "      fill: #1967D2;\n",
              "      height: 32px;\n",
              "      padding: 0 0 0 0;\n",
              "      width: 32px;\n",
              "    }\n",
              "\n",
              "    .colab-df-convert:hover {\n",
              "      background-color: #E2EBFA;\n",
              "      box-shadow: 0px 1px 2px rgba(60, 64, 67, 0.3), 0px 1px 3px 1px rgba(60, 64, 67, 0.15);\n",
              "      fill: #174EA6;\n",
              "    }\n",
              "\n",
              "    [theme=dark] .colab-df-convert {\n",
              "      background-color: #3B4455;\n",
              "      fill: #D2E3FC;\n",
              "    }\n",
              "\n",
              "    [theme=dark] .colab-df-convert:hover {\n",
              "      background-color: #434B5C;\n",
              "      box-shadow: 0px 1px 3px 1px rgba(0, 0, 0, 0.15);\n",
              "      filter: drop-shadow(0px 1px 2px rgba(0, 0, 0, 0.3));\n",
              "      fill: #FFFFFF;\n",
              "    }\n",
              "  </style>\n",
              "\n",
              "      <script>\n",
              "        const buttonEl =\n",
              "          document.querySelector('#df-b6a8efe8-d241-4bfb-aec6-53a4c14159de button.colab-df-convert');\n",
              "        buttonEl.style.display =\n",
              "          google.colab.kernel.accessAllowed ? 'block' : 'none';\n",
              "\n",
              "        async function convertToInteractive(key) {\n",
              "          const element = document.querySelector('#df-b6a8efe8-d241-4bfb-aec6-53a4c14159de');\n",
              "          const dataTable =\n",
              "            await google.colab.kernel.invokeFunction('convertToInteractive',\n",
              "                                                     [key], {});\n",
              "          if (!dataTable) return;\n",
              "\n",
              "          const docLinkHtml = 'Like what you see? Visit the ' +\n",
              "            '<a target=\"_blank\" href=https://colab.research.google.com/notebooks/data_table.ipynb>data table notebook</a>'\n",
              "            + ' to learn more about interactive tables.';\n",
              "          element.innerHTML = '';\n",
              "          dataTable['output_type'] = 'display_data';\n",
              "          await google.colab.output.renderOutput(dataTable, element);\n",
              "          const docLink = document.createElement('div');\n",
              "          docLink.innerHTML = docLinkHtml;\n",
              "          element.appendChild(docLink);\n",
              "        }\n",
              "      </script>\n",
              "    </div>\n",
              "  </div>\n",
              "  "
            ]
          },
          "metadata": {},
          "execution_count": 79
        }
      ]
    },
    {
      "cell_type": "code",
      "source": [
        "from sklearn.preprocessing import StandardScaler\n",
        "# sc= StandardScaler()\n",
        "# x=sc.fit_transform(x)"
      ],
      "metadata": {
        "id": "cm81xmdgwdTx"
      },
      "execution_count": null,
      "outputs": []
    },
    {
      "cell_type": "code",
      "execution_count": null,
      "metadata": {
        "id": "4uyx7eJvVFZj",
        "colab": {
          "base_uri": "https://localhost:8080/"
        },
        "outputId": "786231cd-db9e-43ba-8c7e-740263bc2521"
      },
      "outputs": [
        {
          "output_type": "execute_result",
          "data": {
            "text/plain": [
              "      host_response_time  host_response_rate  host_acceptance_rate  \\\n",
              "2                    1.0                 100                   100   \n",
              "3                    1.0                 100                    98   \n",
              "4                    1.0                 100                   100   \n",
              "5                    1.0                 100                   100   \n",
              "6                    1.0                 100                   100   \n",
              "...                  ...                 ...                   ...   \n",
              "6890                 2.0                 100                   100   \n",
              "6891                 1.0                  67                    50   \n",
              "6892                 1.0                 100                   100   \n",
              "6893                 4.0                   0                     0   \n",
              "6894                 3.0                 100                    36   \n",
              "\n",
              "      host_is_superhost  host_listings_count  host_total_listings_count  \\\n",
              "2                   1.0                    1                          1   \n",
              "3                   0.0                    5                          5   \n",
              "4                   0.0                    1                          1   \n",
              "5                   1.0                    2                          2   \n",
              "6                   1.0                    2                          2   \n",
              "...                 ...                  ...                        ...   \n",
              "6890                0.0                    1                          2   \n",
              "6891                0.0                    1                          1   \n",
              "6892                0.0                    1                          1   \n",
              "6893                0.0                    1                          1   \n",
              "6894                0.0                    1                          1   \n",
              "\n",
              "      host_has_profile_pic  host_identity_verified  accommodates  bedrooms  \\\n",
              "2                      1.0                     1.0             2       1.0   \n",
              "3                      1.0                     1.0             2       1.0   \n",
              "4                      1.0                     1.0             2       1.0   \n",
              "5                      1.0                     1.0             2       1.0   \n",
              "6                      1.0                     1.0             1       1.0   \n",
              "...                    ...                     ...           ...       ...   \n",
              "6890                   1.0                     1.0             8       4.0   \n",
              "6891                   1.0                     0.0             6       4.0   \n",
              "6892                   1.0                     0.0             6       4.0   \n",
              "6893                   1.0                     0.0             6       5.0   \n",
              "6894                   1.0                     0.0             5       4.0   \n",
              "\n",
              "      ...  room_type_0  room_type_Entire home/apt  room_type_Hotel room  \\\n",
              "2     ...            0                          0                     0   \n",
              "3     ...            0                          0                     0   \n",
              "4     ...            0                          0                     0   \n",
              "5     ...            0                          0                     0   \n",
              "6     ...            0                          0                     0   \n",
              "...   ...          ...                        ...                   ...   \n",
              "6890  ...            0                          1                     0   \n",
              "6891  ...            0                          1                     0   \n",
              "6892  ...            0                          1                     0   \n",
              "6893  ...            0                          1                     0   \n",
              "6894  ...            0                          1                     0   \n",
              "\n",
              "      room_type_Private room  room_type_Shared room  bathrooms_type_private  \\\n",
              "2                          1                      0                       0   \n",
              "3                          1                      0                       1   \n",
              "4                          1                      0                       1   \n",
              "5                          1                      0                       0   \n",
              "6                          1                      0                       0   \n",
              "...                      ...                    ...                     ...   \n",
              "6890                       0                      0                       1   \n",
              "6891                       0                      0                       1   \n",
              "6892                       0                      0                       1   \n",
              "6893                       0                      0                       1   \n",
              "6894                       0                      0                       1   \n",
              "\n",
              "      bathrooms_type_shared  have_license_0  have_license_Exempt  \\\n",
              "2                         1               0                    0   \n",
              "3                         0               0                    0   \n",
              "4                         0               1                    0   \n",
              "5                         1               0                    0   \n",
              "6                         1               0                    0   \n",
              "...                     ...             ...                  ...   \n",
              "6890                      0               0                    1   \n",
              "6891                      0               0                    1   \n",
              "6892                      0               0                    1   \n",
              "6893                      0               0                    1   \n",
              "6894                      0               0                    1   \n",
              "\n",
              "      have_license_Yes  \n",
              "2                    1  \n",
              "3                    1  \n",
              "4                    0  \n",
              "5                    1  \n",
              "6                    1  \n",
              "...                ...  \n",
              "6890                 0  \n",
              "6891                 0  \n",
              "6892                 0  \n",
              "6893                 0  \n",
              "6894                 0  \n",
              "\n",
              "[6885 rows x 148 columns]"
            ],
            "text/html": [
              "\n",
              "  <div id=\"df-408782b0-a73c-46f6-ba6c-951b1015e104\">\n",
              "    <div class=\"colab-df-container\">\n",
              "      <div>\n",
              "<style scoped>\n",
              "    .dataframe tbody tr th:only-of-type {\n",
              "        vertical-align: middle;\n",
              "    }\n",
              "\n",
              "    .dataframe tbody tr th {\n",
              "        vertical-align: top;\n",
              "    }\n",
              "\n",
              "    .dataframe thead th {\n",
              "        text-align: right;\n",
              "    }\n",
              "</style>\n",
              "<table border=\"1\" class=\"dataframe\">\n",
              "  <thead>\n",
              "    <tr style=\"text-align: right;\">\n",
              "      <th></th>\n",
              "      <th>host_response_time</th>\n",
              "      <th>host_response_rate</th>\n",
              "      <th>host_acceptance_rate</th>\n",
              "      <th>host_is_superhost</th>\n",
              "      <th>host_listings_count</th>\n",
              "      <th>host_total_listings_count</th>\n",
              "      <th>host_has_profile_pic</th>\n",
              "      <th>host_identity_verified</th>\n",
              "      <th>accommodates</th>\n",
              "      <th>bedrooms</th>\n",
              "      <th>...</th>\n",
              "      <th>room_type_0</th>\n",
              "      <th>room_type_Entire home/apt</th>\n",
              "      <th>room_type_Hotel room</th>\n",
              "      <th>room_type_Private room</th>\n",
              "      <th>room_type_Shared room</th>\n",
              "      <th>bathrooms_type_private</th>\n",
              "      <th>bathrooms_type_shared</th>\n",
              "      <th>have_license_0</th>\n",
              "      <th>have_license_Exempt</th>\n",
              "      <th>have_license_Yes</th>\n",
              "    </tr>\n",
              "  </thead>\n",
              "  <tbody>\n",
              "    <tr>\n",
              "      <th>2</th>\n",
              "      <td>1.0</td>\n",
              "      <td>100</td>\n",
              "      <td>100</td>\n",
              "      <td>1.0</td>\n",
              "      <td>1</td>\n",
              "      <td>1</td>\n",
              "      <td>1.0</td>\n",
              "      <td>1.0</td>\n",
              "      <td>2</td>\n",
              "      <td>1.0</td>\n",
              "      <td>...</td>\n",
              "      <td>0</td>\n",
              "      <td>0</td>\n",
              "      <td>0</td>\n",
              "      <td>1</td>\n",
              "      <td>0</td>\n",
              "      <td>0</td>\n",
              "      <td>1</td>\n",
              "      <td>0</td>\n",
              "      <td>0</td>\n",
              "      <td>1</td>\n",
              "    </tr>\n",
              "    <tr>\n",
              "      <th>3</th>\n",
              "      <td>1.0</td>\n",
              "      <td>100</td>\n",
              "      <td>98</td>\n",
              "      <td>0.0</td>\n",
              "      <td>5</td>\n",
              "      <td>5</td>\n",
              "      <td>1.0</td>\n",
              "      <td>1.0</td>\n",
              "      <td>2</td>\n",
              "      <td>1.0</td>\n",
              "      <td>...</td>\n",
              "      <td>0</td>\n",
              "      <td>0</td>\n",
              "      <td>0</td>\n",
              "      <td>1</td>\n",
              "      <td>0</td>\n",
              "      <td>1</td>\n",
              "      <td>0</td>\n",
              "      <td>0</td>\n",
              "      <td>0</td>\n",
              "      <td>1</td>\n",
              "    </tr>\n",
              "    <tr>\n",
              "      <th>4</th>\n",
              "      <td>1.0</td>\n",
              "      <td>100</td>\n",
              "      <td>100</td>\n",
              "      <td>0.0</td>\n",
              "      <td>1</td>\n",
              "      <td>1</td>\n",
              "      <td>1.0</td>\n",
              "      <td>1.0</td>\n",
              "      <td>2</td>\n",
              "      <td>1.0</td>\n",
              "      <td>...</td>\n",
              "      <td>0</td>\n",
              "      <td>0</td>\n",
              "      <td>0</td>\n",
              "      <td>1</td>\n",
              "      <td>0</td>\n",
              "      <td>1</td>\n",
              "      <td>0</td>\n",
              "      <td>1</td>\n",
              "      <td>0</td>\n",
              "      <td>0</td>\n",
              "    </tr>\n",
              "    <tr>\n",
              "      <th>5</th>\n",
              "      <td>1.0</td>\n",
              "      <td>100</td>\n",
              "      <td>100</td>\n",
              "      <td>1.0</td>\n",
              "      <td>2</td>\n",
              "      <td>2</td>\n",
              "      <td>1.0</td>\n",
              "      <td>1.0</td>\n",
              "      <td>2</td>\n",
              "      <td>1.0</td>\n",
              "      <td>...</td>\n",
              "      <td>0</td>\n",
              "      <td>0</td>\n",
              "      <td>0</td>\n",
              "      <td>1</td>\n",
              "      <td>0</td>\n",
              "      <td>0</td>\n",
              "      <td>1</td>\n",
              "      <td>0</td>\n",
              "      <td>0</td>\n",
              "      <td>1</td>\n",
              "    </tr>\n",
              "    <tr>\n",
              "      <th>6</th>\n",
              "      <td>1.0</td>\n",
              "      <td>100</td>\n",
              "      <td>100</td>\n",
              "      <td>1.0</td>\n",
              "      <td>2</td>\n",
              "      <td>2</td>\n",
              "      <td>1.0</td>\n",
              "      <td>1.0</td>\n",
              "      <td>1</td>\n",
              "      <td>1.0</td>\n",
              "      <td>...</td>\n",
              "      <td>0</td>\n",
              "      <td>0</td>\n",
              "      <td>0</td>\n",
              "      <td>1</td>\n",
              "      <td>0</td>\n",
              "      <td>0</td>\n",
              "      <td>1</td>\n",
              "      <td>0</td>\n",
              "      <td>0</td>\n",
              "      <td>1</td>\n",
              "    </tr>\n",
              "    <tr>\n",
              "      <th>...</th>\n",
              "      <td>...</td>\n",
              "      <td>...</td>\n",
              "      <td>...</td>\n",
              "      <td>...</td>\n",
              "      <td>...</td>\n",
              "      <td>...</td>\n",
              "      <td>...</td>\n",
              "      <td>...</td>\n",
              "      <td>...</td>\n",
              "      <td>...</td>\n",
              "      <td>...</td>\n",
              "      <td>...</td>\n",
              "      <td>...</td>\n",
              "      <td>...</td>\n",
              "      <td>...</td>\n",
              "      <td>...</td>\n",
              "      <td>...</td>\n",
              "      <td>...</td>\n",
              "      <td>...</td>\n",
              "      <td>...</td>\n",
              "      <td>...</td>\n",
              "    </tr>\n",
              "    <tr>\n",
              "      <th>6890</th>\n",
              "      <td>2.0</td>\n",
              "      <td>100</td>\n",
              "      <td>100</td>\n",
              "      <td>0.0</td>\n",
              "      <td>1</td>\n",
              "      <td>2</td>\n",
              "      <td>1.0</td>\n",
              "      <td>1.0</td>\n",
              "      <td>8</td>\n",
              "      <td>4.0</td>\n",
              "      <td>...</td>\n",
              "      <td>0</td>\n",
              "      <td>1</td>\n",
              "      <td>0</td>\n",
              "      <td>0</td>\n",
              "      <td>0</td>\n",
              "      <td>1</td>\n",
              "      <td>0</td>\n",
              "      <td>0</td>\n",
              "      <td>1</td>\n",
              "      <td>0</td>\n",
              "    </tr>\n",
              "    <tr>\n",
              "      <th>6891</th>\n",
              "      <td>1.0</td>\n",
              "      <td>67</td>\n",
              "      <td>50</td>\n",
              "      <td>0.0</td>\n",
              "      <td>1</td>\n",
              "      <td>1</td>\n",
              "      <td>1.0</td>\n",
              "      <td>0.0</td>\n",
              "      <td>6</td>\n",
              "      <td>4.0</td>\n",
              "      <td>...</td>\n",
              "      <td>0</td>\n",
              "      <td>1</td>\n",
              "      <td>0</td>\n",
              "      <td>0</td>\n",
              "      <td>0</td>\n",
              "      <td>1</td>\n",
              "      <td>0</td>\n",
              "      <td>0</td>\n",
              "      <td>1</td>\n",
              "      <td>0</td>\n",
              "    </tr>\n",
              "    <tr>\n",
              "      <th>6892</th>\n",
              "      <td>1.0</td>\n",
              "      <td>100</td>\n",
              "      <td>100</td>\n",
              "      <td>0.0</td>\n",
              "      <td>1</td>\n",
              "      <td>1</td>\n",
              "      <td>1.0</td>\n",
              "      <td>0.0</td>\n",
              "      <td>6</td>\n",
              "      <td>4.0</td>\n",
              "      <td>...</td>\n",
              "      <td>0</td>\n",
              "      <td>1</td>\n",
              "      <td>0</td>\n",
              "      <td>0</td>\n",
              "      <td>0</td>\n",
              "      <td>1</td>\n",
              "      <td>0</td>\n",
              "      <td>0</td>\n",
              "      <td>1</td>\n",
              "      <td>0</td>\n",
              "    </tr>\n",
              "    <tr>\n",
              "      <th>6893</th>\n",
              "      <td>4.0</td>\n",
              "      <td>0</td>\n",
              "      <td>0</td>\n",
              "      <td>0.0</td>\n",
              "      <td>1</td>\n",
              "      <td>1</td>\n",
              "      <td>1.0</td>\n",
              "      <td>0.0</td>\n",
              "      <td>6</td>\n",
              "      <td>5.0</td>\n",
              "      <td>...</td>\n",
              "      <td>0</td>\n",
              "      <td>1</td>\n",
              "      <td>0</td>\n",
              "      <td>0</td>\n",
              "      <td>0</td>\n",
              "      <td>1</td>\n",
              "      <td>0</td>\n",
              "      <td>0</td>\n",
              "      <td>1</td>\n",
              "      <td>0</td>\n",
              "    </tr>\n",
              "    <tr>\n",
              "      <th>6894</th>\n",
              "      <td>3.0</td>\n",
              "      <td>100</td>\n",
              "      <td>36</td>\n",
              "      <td>0.0</td>\n",
              "      <td>1</td>\n",
              "      <td>1</td>\n",
              "      <td>1.0</td>\n",
              "      <td>0.0</td>\n",
              "      <td>5</td>\n",
              "      <td>4.0</td>\n",
              "      <td>...</td>\n",
              "      <td>0</td>\n",
              "      <td>1</td>\n",
              "      <td>0</td>\n",
              "      <td>0</td>\n",
              "      <td>0</td>\n",
              "      <td>1</td>\n",
              "      <td>0</td>\n",
              "      <td>0</td>\n",
              "      <td>1</td>\n",
              "      <td>0</td>\n",
              "    </tr>\n",
              "  </tbody>\n",
              "</table>\n",
              "<p>6885 rows × 148 columns</p>\n",
              "</div>\n",
              "      <button class=\"colab-df-convert\" onclick=\"convertToInteractive('df-408782b0-a73c-46f6-ba6c-951b1015e104')\"\n",
              "              title=\"Convert this dataframe to an interactive table.\"\n",
              "              style=\"display:none;\">\n",
              "        \n",
              "  <svg xmlns=\"http://www.w3.org/2000/svg\" height=\"24px\"viewBox=\"0 0 24 24\"\n",
              "       width=\"24px\">\n",
              "    <path d=\"M0 0h24v24H0V0z\" fill=\"none\"/>\n",
              "    <path d=\"M18.56 5.44l.94 2.06.94-2.06 2.06-.94-2.06-.94-.94-2.06-.94 2.06-2.06.94zm-11 1L8.5 8.5l.94-2.06 2.06-.94-2.06-.94L8.5 2.5l-.94 2.06-2.06.94zm10 10l.94 2.06.94-2.06 2.06-.94-2.06-.94-.94-2.06-.94 2.06-2.06.94z\"/><path d=\"M17.41 7.96l-1.37-1.37c-.4-.4-.92-.59-1.43-.59-.52 0-1.04.2-1.43.59L10.3 9.45l-7.72 7.72c-.78.78-.78 2.05 0 2.83L4 21.41c.39.39.9.59 1.41.59.51 0 1.02-.2 1.41-.59l7.78-7.78 2.81-2.81c.8-.78.8-2.07 0-2.86zM5.41 20L4 18.59l7.72-7.72 1.47 1.35L5.41 20z\"/>\n",
              "  </svg>\n",
              "      </button>\n",
              "      \n",
              "  <style>\n",
              "    .colab-df-container {\n",
              "      display:flex;\n",
              "      flex-wrap:wrap;\n",
              "      gap: 12px;\n",
              "    }\n",
              "\n",
              "    .colab-df-convert {\n",
              "      background-color: #E8F0FE;\n",
              "      border: none;\n",
              "      border-radius: 50%;\n",
              "      cursor: pointer;\n",
              "      display: none;\n",
              "      fill: #1967D2;\n",
              "      height: 32px;\n",
              "      padding: 0 0 0 0;\n",
              "      width: 32px;\n",
              "    }\n",
              "\n",
              "    .colab-df-convert:hover {\n",
              "      background-color: #E2EBFA;\n",
              "      box-shadow: 0px 1px 2px rgba(60, 64, 67, 0.3), 0px 1px 3px 1px rgba(60, 64, 67, 0.15);\n",
              "      fill: #174EA6;\n",
              "    }\n",
              "\n",
              "    [theme=dark] .colab-df-convert {\n",
              "      background-color: #3B4455;\n",
              "      fill: #D2E3FC;\n",
              "    }\n",
              "\n",
              "    [theme=dark] .colab-df-convert:hover {\n",
              "      background-color: #434B5C;\n",
              "      box-shadow: 0px 1px 3px 1px rgba(0, 0, 0, 0.15);\n",
              "      filter: drop-shadow(0px 1px 2px rgba(0, 0, 0, 0.3));\n",
              "      fill: #FFFFFF;\n",
              "    }\n",
              "  </style>\n",
              "\n",
              "      <script>\n",
              "        const buttonEl =\n",
              "          document.querySelector('#df-408782b0-a73c-46f6-ba6c-951b1015e104 button.colab-df-convert');\n",
              "        buttonEl.style.display =\n",
              "          google.colab.kernel.accessAllowed ? 'block' : 'none';\n",
              "\n",
              "        async function convertToInteractive(key) {\n",
              "          const element = document.querySelector('#df-408782b0-a73c-46f6-ba6c-951b1015e104');\n",
              "          const dataTable =\n",
              "            await google.colab.kernel.invokeFunction('convertToInteractive',\n",
              "                                                     [key], {});\n",
              "          if (!dataTable) return;\n",
              "\n",
              "          const docLinkHtml = 'Like what you see? Visit the ' +\n",
              "            '<a target=\"_blank\" href=https://colab.research.google.com/notebooks/data_table.ipynb>data table notebook</a>'\n",
              "            + ' to learn more about interactive tables.';\n",
              "          element.innerHTML = '';\n",
              "          dataTable['output_type'] = 'display_data';\n",
              "          await google.colab.output.renderOutput(dataTable, element);\n",
              "          const docLink = document.createElement('div');\n",
              "          docLink.innerHTML = docLinkHtml;\n",
              "          element.appendChild(docLink);\n",
              "        }\n",
              "      </script>\n",
              "    </div>\n",
              "  </div>\n",
              "  "
            ]
          },
          "metadata": {},
          "execution_count": 81
        }
      ],
      "source": [
        "x"
      ]
    },
    {
      "cell_type": "code",
      "execution_count": null,
      "metadata": {
        "id": "iqi73zw8Sn0A"
      },
      "outputs": [],
      "source": [
        "#from sklearn.decomposition import PCA\n",
        "#pca = PCA(n_components=50)\n",
        "#principalComponents = pca.fit_transform(x)\n",
        "#principalDf = pd.DataFrame(data = principalComponents\n",
        "#             , columns = ['principal component 1', 'principal component 2','principal component 3','principal component 4','principal component 5',\n",
        "#                          'principal component 6','principal component 7','principal component 8','principal component 9', 'principal component 10',\n",
        "#                          'principal component 11','principal component 12','principal component 13','principal component 14', 'principal component 15',\n",
        "#                          'principal component 16','principal component 17','principal component 18','principal component 19', 'principal component 20',\n",
        "#                          'principal component 21','principal component 22','principal component 23','principal component 24', 'principal component 25',\n",
        "#                          'principal component 26','principal component 27','principal component 28','principal component 29', 'principal component 30',\n",
        "#                          'principal component 31', 'principal component 32','principal component33','principal component 34','principal component 35',\n",
        "#                          'principal component 36','principal component 37','principal component 38','principal component 39', 'principal component 40',\n",
        "#                          'principal component 41','principal component 42','principal component 43','principal component 44', 'principal component 45',\n",
        "#                          'principal component 46','principal component 47','principal component 48','principal component 49', 'principal component 50',\n",
        "#                          ])\n",
        "\n",
        "\n",
        "\n",
        "\n",
        "\n"
      ]
    },
    {
      "cell_type": "code",
      "execution_count": null,
      "metadata": {
        "id": "z74XPvKUdcB6"
      },
      "outputs": [],
      "source": [
        "#principalDf"
      ]
    },
    {
      "cell_type": "markdown",
      "metadata": {
        "id": "be612wk5SeQ6"
      },
      "source": [
        "##Test Train Split"
      ]
    },
    {
      "cell_type": "code",
      "execution_count": null,
      "metadata": {
        "id": "eeW2GCuglCy8"
      },
      "outputs": [],
      "source": [
        "from sklearn.model_selection import train_test_split"
      ]
    },
    {
      "cell_type": "code",
      "execution_count": null,
      "metadata": {
        "id": "vqcy5fookt5r"
      },
      "outputs": [],
      "source": [
        "X_train, X_test, y_train, y_test = train_test_split(x, y, test_size=0.3, random_state=42)"
      ]
    },
    {
      "cell_type": "code",
      "execution_count": null,
      "metadata": {
        "id": "HeULpAetlM2f"
      },
      "outputs": [],
      "source": [
        "from sklearn.metrics import mean_squared_error, mean_absolute_error, r2_score\n",
        "from sklearn import *\n",
        "from sklearn.model_selection import cross_val_score"
      ]
    },
    {
      "cell_type": "markdown",
      "metadata": {
        "id": "vNtH3CTYSj-S"
      },
      "source": [
        "#MODEL"
      ]
    },
    {
      "cell_type": "markdown",
      "metadata": {
        "id": "78K3Q7CW1Jld"
      },
      "source": [
        "##Linear"
      ]
    },
    {
      "cell_type": "code",
      "execution_count": null,
      "metadata": {
        "id": "5Cg4qpk6y9YT",
        "colab": {
          "base_uri": "https://localhost:8080/"
        },
        "outputId": "1b56e4e8-9d9a-4b21-d239-06e52a2790b9"
      },
      "outputs": [
        {
          "output_type": "execute_result",
          "data": {
            "text/plain": [
              "array([0.64577564, 0.58087242, 0.54645063, 0.4875648 , 0.60484233])"
            ]
          },
          "metadata": {},
          "execution_count": 87
        }
      ],
      "source": [
        "from sklearn.linear_model import LinearRegression\n",
        "linear= LinearRegression()\n",
        "cvs_linear=cross_val_score(linear,X_train,y_train,cv=5,scoring='r2')\n",
        "cvs_linear"
      ]
    },
    {
      "cell_type": "code",
      "execution_count": null,
      "metadata": {
        "id": "0FezkDWRz-rW",
        "colab": {
          "base_uri": "https://localhost:8080/"
        },
        "outputId": "e3f76131-09be-419b-cc81-fca59931ac50"
      },
      "outputs": [
        {
          "output_type": "execute_result",
          "data": {
            "text/plain": [
              "0.5731011649449543"
            ]
          },
          "metadata": {},
          "execution_count": 88
        }
      ],
      "source": [
        "cvs_linear.mean()"
      ]
    },
    {
      "cell_type": "code",
      "execution_count": null,
      "metadata": {
        "id": "8rtjdxjG0csf"
      },
      "outputs": [],
      "source": [
        "linear.fit(X_train,y_train)\n",
        "linear_model_prediction = linear.predict(X_test)"
      ]
    },
    {
      "cell_type": "code",
      "execution_count": null,
      "metadata": {
        "id": "IG9acuuU01Ht",
        "colab": {
          "base_uri": "https://localhost:8080/"
        },
        "outputId": "3d1b2264-77cf-4541-d9dd-ba28c8478b2c"
      },
      "outputs": [
        {
          "output_type": "stream",
          "name": "stdout",
          "text": [
            "Mean Squared Error: 0.13912390878460523\n",
            "Mean Absolute Error: 0.2807274536725936\n",
            "Root Mean Absolute Error: 0.37299317525204834\n",
            "R2 score: 0.5909238754157011\n"
          ]
        }
      ],
      "source": [
        "linear_mse = metrics.mean_squared_error(y_test, linear_model_prediction)\n",
        "linear_mae = metrics.mean_absolute_error(y_test, linear_model_prediction)\n",
        "linear_rmse = np.sqrt(linear_mse)\n",
        "linear_r2 = metrics.r2_score(y_test, linear_model_prediction)\n",
        "\n",
        "print(\"Mean Squared Error: {}\".format(linear_mse))\n",
        "print(\"Mean Absolute Error: {}\".format(linear_mae))\n",
        "print(\"Root Mean Absolute Error: {}\".format(linear_rmse))\n",
        "print(\"R2 score: {}\".format(linear_r2))"
      ]
    },
    {
      "cell_type": "code",
      "execution_count": null,
      "metadata": {
        "id": "j5-5nDgd3697",
        "colab": {
          "base_uri": "https://localhost:8080/"
        },
        "outputId": "e9bc6462-89b0-467c-bd6c-d0a047dcc97b"
      },
      "outputs": [
        {
          "output_type": "stream",
          "name": "stderr",
          "text": [
            "/usr/local/lib/python3.7/dist-packages/statsmodels/tsa/tsatools.py:142: FutureWarning: In a future version of pandas all arguments of concat except for the argument 'objs' will be keyword-only\n",
            "  x = pd.concat(x[::order], 1)\n"
          ]
        },
        {
          "output_type": "execute_result",
          "data": {
            "text/plain": [
              "<class 'statsmodels.iolib.summary.Summary'>\n",
              "\"\"\"\n",
              "                            OLS Regression Results                            \n",
              "==============================================================================\n",
              "Dep. Variable:                  price   R-squared:                       0.617\n",
              "Model:                            OLS   Adj. R-squared:                  0.606\n",
              "Method:                 Least Squares   F-statistic:                     56.21\n",
              "Date:                Mon, 28 Nov 2022   Prob (F-statistic):               0.00\n",
              "Time:                        15:15:35   Log-Likelihood:                -1699.5\n",
              "No. Observations:                4819   AIC:                             3669.\n",
              "Df Residuals:                    4684   BIC:                             4544.\n",
              "Df Model:                         134                                         \n",
              "Covariance Type:            nonrobust                                         \n",
              "========================================================================================================================\n",
              "                                                           coef    std err          t      P>|t|      [0.025      0.975]\n",
              "------------------------------------------------------------------------------------------------------------------------\n",
              "host_response_time                                       0.0154      0.009      1.800      0.072      -0.001       0.032\n",
              "host_response_rate                                       0.0005      0.000      1.101      0.271      -0.000       0.001\n",
              "host_acceptance_rate                                     0.0003      0.000      1.281      0.200      -0.000       0.001\n",
              "host_is_superhost                                       -0.0365      0.016     -2.298      0.022      -0.068      -0.005\n",
              "host_listings_count                                     -0.0024      0.001     -2.872      0.004      -0.004      -0.001\n",
              "host_total_listings_count                                0.0007      0.000      2.336      0.020       0.000       0.001\n",
              "host_has_profile_pic                                     0.1005      0.062      1.633      0.102      -0.020       0.221\n",
              "host_identity_verified                                   0.0063      0.014      0.446      0.656      -0.021       0.034\n",
              "accommodates                                             0.1413      0.007     19.841      0.000       0.127       0.155\n",
              "bedrooms                                                 0.1115      0.011     10.484      0.000       0.091       0.132\n",
              "beds                                                    -0.0510      0.006     -7.877      0.000      -0.064      -0.038\n",
              "minimum_nights                                       -7.304e-05      0.000     -0.651      0.515      -0.000       0.000\n",
              "maximum_nights                                       -1.302e-06   1.06e-05     -0.123      0.902    -2.2e-05    1.94e-05\n",
              "has_availability                                        -0.2317      0.102     -2.263      0.024      -0.432      -0.031\n",
              "availability_30                                          0.0076      0.002      3.127      0.002       0.003       0.012\n",
              "availability_60                                          0.0047      0.002      2.510      0.012       0.001       0.008\n",
              "availability_90                                          0.0003      0.001      0.345      0.730      -0.001       0.002\n",
              "availability_365                                         0.0003   7.07e-05      4.236      0.000       0.000       0.000\n",
              "number_of_reviews                                       -0.0009   8.51e-05    -10.079      0.000      -0.001      -0.001\n",
              "number_of_reviews_ltm                                    0.0004      0.001      0.767      0.443      -0.001       0.001\n",
              "number_of_reviews_l30d                                  -0.0135      0.004     -3.484      0.000      -0.021      -0.006\n",
              "review_scores_rating                                     0.0842      0.038      2.189      0.029       0.009       0.160\n",
              "review_scores_accuracy                                  -0.0297      0.039     -0.762      0.446      -0.106       0.047\n",
              "review_scores_cleanliness                                0.1099      0.024      4.586      0.000       0.063       0.157\n",
              "review_scores_checkin                                   -0.0295      0.038     -0.780      0.435      -0.104       0.045\n",
              "review_scores_communication                              0.0541      0.038      1.441      0.150      -0.019       0.128\n",
              "review_scores_location                                   0.1218      0.027      4.593      0.000       0.070       0.174\n",
              "review_scores_value                                     -0.1639      0.028     -5.936      0.000      -0.218      -0.110\n",
              "instant_bookable                                         0.0423      0.014      3.087      0.002       0.015       0.069\n",
              "calculated_host_listings_count                           0.0226      0.012      1.838      0.066      -0.002       0.047\n",
              "calculated_host_listings_count_entire_homes             -0.0116      0.013     -0.884      0.377      -0.037       0.014\n",
              "calculated_host_listings_count_private_rooms            -0.0176      0.013     -1.405      0.160      -0.042       0.007\n",
              "calculated_host_listings_count_shared_rooms              0.0059      0.025      0.241      0.809      -0.042       0.054\n",
              "reviews_per_month                                        0.0183      0.006      3.127      0.002       0.007       0.030\n",
              "last_review_month                                       -0.0001      0.003     -0.049      0.961      -0.005       0.005\n",
              "last_review_day                                         -0.0013      0.002     -0.579      0.562      -0.006       0.003\n",
              "last_review_year                                         0.0310      0.005      5.781      0.000       0.020       0.041\n",
              "bathrooms                                                0.0823      0.012      6.760      0.000       0.058       0.106\n",
              "hot_water                                               -0.0260      0.017     -1.532      0.126      -0.059       0.007\n",
              "hair_dryer                                               0.0160      0.013      1.190      0.234      -0.010       0.042\n",
              "smoke_alarm                                              0.0107      0.017      0.648      0.517      -0.022       0.043\n",
              "bed_lines                                               -0.0273      0.015     -1.836      0.066      -0.056       0.002\n",
              "coffee_maker                                            -0.0046      0.014     -0.317      0.751      -0.033       0.024\n",
              "wifi                                                    -0.0169      0.019     -0.876      0.381      -0.055       0.021\n",
              "Cable_TV                                                 0.0384      0.013      3.064      0.002       0.014       0.063\n",
              "Heating                                                 -0.0296      0.015     -2.038      0.042      -0.058      -0.001\n",
              "Bathtub                                                  0.0628      0.015      4.268      0.000       0.034       0.092\n",
              "Air_conditioning                                         0.0914      0.019      4.844      0.000       0.054       0.128\n",
              "count_amenities                                          0.0034      0.001      5.046      0.000       0.002       0.005\n",
              "source_0                                             -3.267e-13      6e-14     -5.447      0.000   -4.44e-13   -2.09e-13\n",
              "source_city scrape                                     -17.4456      3.218     -5.422      0.000     -23.754     -11.137\n",
              "source_previous scrape                                 -17.5502      3.215     -5.459      0.000     -23.853     -11.247\n",
              "neighbourhood_0                                      -3.171e-13   5.84e-14     -5.427      0.000   -4.32e-13   -2.03e-13\n",
              "neighbourhood_Bijlmer-Centrum                           -1.7751      0.296     -6.002      0.000      -2.355      -1.195\n",
              "neighbourhood_Bijlmer-Oost                              -1.7201      0.302     -5.692      0.000      -2.313      -1.128\n",
              "neighbourhood_Bos en Lommer                             -1.5231      0.294     -5.177      0.000      -2.100      -0.946\n",
              "neighbourhood_Buitenveldert - Zuidas                    -1.6501      0.294     -5.604      0.000      -2.227      -1.073\n",
              "neighbourhood_Centrum-Oost                              -1.2602      0.293     -4.300      0.000      -1.835      -0.686\n",
              "neighbourhood_Centrum-West                              -1.2270      0.293     -4.186      0.000      -1.802      -0.652\n",
              "neighbourhood_De Aker - Nieuw Sloten                    -1.6833      0.296     -5.686      0.000      -2.264      -1.103\n",
              "neighbourhood_De Baarsjes - Oud-West                    -1.3935      0.293     -4.761      0.000      -1.967      -0.820\n",
              "neighbourhood_De Pijp - Rivierenbuurt                   -1.3497      0.293     -4.601      0.000      -1.925      -0.775\n",
              "neighbourhood_Gaasperdam - Driemond                     -2.0092      0.296     -6.779      0.000      -2.590      -1.428\n",
              "neighbourhood_Geuzenveld - Slotermeer                   -1.6645      0.295     -5.634      0.000      -2.244      -1.085\n",
              "neighbourhood_IJburg - Zeeburgereiland                  -1.6626      0.293     -5.671      0.000      -2.237      -1.088\n",
              "neighbourhood_Noord-Oost                                -1.8553      0.293     -6.326      0.000      -2.430      -1.280\n",
              "neighbourhood_Noord-West                                -1.7810      0.295     -6.046      0.000      -2.359      -1.204\n",
              "neighbourhood_Oostelijk Havengebied - Indische Buurt    -1.5123      0.294     -5.147      0.000      -2.088      -0.936\n",
              "neighbourhood_Osdorp                                    -1.7343      0.297     -5.847      0.000      -2.316      -1.153\n",
              "neighbourhood_Oud-Noord                                 -1.6127      0.294     -5.490      0.000      -2.189      -1.037\n",
              "neighbourhood_Oud-Oost                                  -1.4773      0.293     -5.040      0.000      -2.052      -0.903\n",
              "neighbourhood_Slotervaart                               -1.6456      0.295     -5.580      0.000      -2.224      -1.067\n",
              "neighbourhood_Watergraafsmeer                           -1.6113      0.293     -5.499      0.000      -2.186      -1.037\n",
              "neighbourhood_Westerpark                                -1.4224      0.293     -4.852      0.000      -1.997      -0.848\n",
              "neighbourhood_Zuid                                      -1.4250      0.293     -4.861      0.000      -2.000      -0.850\n",
              "property_type_0                                      -2.456e-13   4.53e-14     -5.426      0.000   -3.34e-13   -1.57e-13\n",
              "property_type_Barn                                      -0.3485      0.237     -1.469      0.142      -0.814       0.117\n",
              "property_type_Boat                                      -0.5518      0.138     -4.002      0.000      -0.822      -0.281\n",
              "property_type_Camper/RV                                 -0.8832      0.278     -3.182      0.001      -1.427      -0.339\n",
              "property_type_Cave                                       0.4527      0.373      1.215      0.224      -0.278       1.183\n",
              "property_type_Entire bungalow                           -0.6480      0.370     -1.752      0.080      -1.373       0.077\n",
              "property_type_Entire cabin                              -0.6387      0.203     -3.150      0.002      -1.036      -0.241\n",
              "property_type_Entire chalet                             -0.6084      0.206     -2.950      0.003      -1.013      -0.204\n",
              "property_type_Entire condo                              -0.4844      0.130     -3.724      0.000      -0.740      -0.229\n",
              "property_type_Entire cottage                            -0.3842      0.184     -2.088      0.037      -0.745      -0.024\n",
              "property_type_Entire guest suite                        -0.7300      0.141     -5.167      0.000      -1.007      -0.453\n",
              "property_type_Entire guesthouse                         -0.4882      0.145     -3.374      0.001      -0.772      -0.205\n",
              "property_type_Entire home                               -0.5224      0.130     -4.018      0.000      -0.777      -0.267\n",
              "property_type_Entire home/apt                         -6.55e-14    1.2e-14     -5.478      0.000   -8.89e-14   -4.21e-14\n",
              "property_type_Entire loft                               -0.4591      0.132     -3.474      0.001      -0.718      -0.200\n",
              "property_type_Entire place                              -0.6713      0.183     -3.678      0.000      -1.029      -0.313\n",
              "property_type_Entire rental unit                        -0.5784      0.128     -4.501      0.000      -0.830      -0.326\n",
              "property_type_Entire serviced apartment                 -0.4854      0.136     -3.580      0.000      -0.751      -0.220\n",
              "property_type_Entire townhouse                          -0.5116      0.132     -3.867      0.000      -0.771      -0.252\n",
              "property_type_Entire vacation home                      -0.5802      0.161     -3.613      0.000      -0.895      -0.265\n",
              "property_type_Entire villa                              -0.2298      0.147     -1.565      0.118      -0.518       0.058\n",
              "property_type_Farm stay                                 -0.3430      0.217     -1.581      0.114      -0.768       0.082\n",
              "property_type_Houseboat                                 -0.4015      0.133     -3.011      0.003      -0.663      -0.140\n",
              "property_type_Private room                              -0.5972      0.187     -3.202      0.001      -0.963      -0.232\n",
              "property_type_Private room in bed and breakfast         -0.5974      0.125     -4.798      0.000      -0.842      -0.353\n",
              "property_type_Private room in boat                      -0.6538      0.135     -4.859      0.000      -0.918      -0.390\n",
              "property_type_Private room in bungalow                  -1.3022      0.368     -3.539      0.000      -2.024      -0.581\n",
              "property_type_Private room in cabin                     -0.7995      0.367     -2.181      0.029      -1.518      -0.081\n",
              "property_type_Private room in casa particular           -0.7940      0.165     -4.816      0.000      -1.117      -0.471\n",
              "property_type_Private room in condo                     -0.7273      0.128     -5.666      0.000      -0.979      -0.476\n",
              "property_type_Private room in earthen home              -0.4071      0.370     -1.100      0.271      -1.133       0.318\n",
              "property_type_Private room in farm stay                 -0.9296      0.237     -3.921      0.000      -1.394      -0.465\n",
              "property_type_Private room in guest suite               -0.6994      0.130     -5.365      0.000      -0.955      -0.444\n",
              "property_type_Private room in guesthouse                -0.5025      0.159     -3.165      0.002      -0.814      -0.191\n",
              "property_type_Private room in home                      -0.6176      0.127     -4.874      0.000      -0.866      -0.369\n",
              "property_type_Private room in hostel                    -0.1497      0.156     -0.959      0.338      -0.456       0.156\n",
              "property_type_Private room in houseboat                 -0.5921      0.130     -4.543      0.000      -0.848      -0.337\n",
              "property_type_Private room in island                    -1.1810      0.367     -3.217      0.001      -1.901      -0.461\n",
              "property_type_Private room in loft                      -0.6309      0.137     -4.606      0.000      -0.899      -0.362\n",
              "property_type_Private room in nature lodge              -0.2951      0.366     -0.807      0.420      -1.012       0.422\n",
              "property_type_Private room in rental unit               -0.6834      0.124     -5.510      0.000      -0.927      -0.440\n",
              "property_type_Private room in serviced apartment         0.0445      0.165      0.269      0.788      -0.280       0.369\n",
              "property_type_Private room in tiny home                 -0.4048      0.273     -1.482      0.138      -0.940       0.131\n",
              "property_type_Private room in townhouse                 -0.6953      0.130     -5.355      0.000      -0.950      -0.441\n",
              "property_type_Private room in villa                     -0.6146      0.198     -3.106      0.002      -1.003      -0.227\n",
              "property_type_Room in aparthotel                        -0.4412      0.126     -3.501      0.000      -0.688      -0.194\n",
              "property_type_Room in bed and breakfast                 -0.2283      0.186     -1.230      0.219      -0.592       0.136\n",
              "property_type_Room in boutique hotel                    -0.2217      0.128     -1.732      0.083      -0.473       0.029\n",
              "property_type_Room in casa particular                 3.026e-17   9.37e-17      0.323      0.747   -1.53e-16    2.14e-16\n",
              "property_type_Room in hostel                            -0.4474      0.207     -2.166      0.030      -0.852      -0.042\n",
              "property_type_Room in hotel                             -0.2397      0.130     -1.841      0.066      -0.495       0.016\n",
              "property_type_Room in serviced apartment                -0.0910      0.250     -0.364      0.716      -0.581       0.399\n",
              "property_type_Shared room in bed and breakfast          -1.2809      0.417     -3.075      0.002      -2.098      -0.464\n",
              "property_type_Shared room in boat                       -0.9779      0.410     -2.382      0.017      -1.783      -0.173\n",
              "property_type_Shared room in home                       -1.5417      0.339     -4.544      0.000      -2.207      -0.877\n",
              "property_type_Shared room in hostel                     -1.7764      0.284     -6.248      0.000      -2.334      -1.219\n",
              "property_type_Shared room in houseboat                  -0.8204      0.321     -2.560      0.011      -1.449      -0.192\n",
              "property_type_Shared room in rental unit                -1.7160      0.337     -5.098      0.000      -2.376      -1.056\n",
              "property_type_Tent                                      -0.7274      0.370     -1.964      0.050      -1.454      -0.001\n",
              "property_type_Tiny home                                 -0.7451      0.167     -4.466      0.000      -1.072      -0.418\n",
              "property_type_Tower                                     -0.1463      0.277     -0.528      0.597      -0.690       0.397\n",
              "property_type_Windmill                                   0.3310      0.369      0.896      0.370      -0.393       1.055\n",
              "property_type_Yurt                                            0          0        nan        nan           0           0\n",
              "room_type_0                                                   0          0        nan        nan           0           0\n",
              "room_type_Entire home/apt                               -8.8150      1.649     -5.345      0.000     -12.048      -5.582\n",
              "room_type_Hotel room                                    -9.1051      1.654     -5.506      0.000     -12.347      -5.863\n",
              "room_type_Private room                                  -8.9624      1.649     -5.437      0.000     -12.194      -5.730\n",
              "room_type_Shared room                                   -8.1133      1.493     -5.434      0.000     -11.041      -5.186\n",
              "bathrooms_type_private                                 -17.3835      3.216     -5.405      0.000     -23.689     -11.078\n",
              "bathrooms_type_shared                                  -17.6123      3.217     -5.475      0.000     -23.918     -11.306\n",
              "have_license_0                                          -8.7066      1.731     -5.031      0.000     -12.099      -5.314\n",
              "have_license_Exempt                                    -13.2122      2.365     -5.588      0.000     -17.848      -8.577\n",
              "have_license_Yes                                       -13.0770      2.365     -5.530      0.000     -17.713      -8.441\n",
              "==============================================================================\n",
              "Omnibus:                      566.814   Durbin-Watson:                   2.015\n",
              "Prob(Omnibus):                  0.000   Jarque-Bera (JB):             5686.735\n",
              "Skew:                           0.084   Prob(JB):                         0.00\n",
              "Kurtosis:                       8.319   Cond. No.                     1.24e+19\n",
              "==============================================================================\n",
              "\n",
              "Notes:\n",
              "[1] Standard Errors assume that the covariance matrix of the errors is correctly specified.\n",
              "[2] The smallest eigenvalue is 1.36e-28. This might indicate that there are\n",
              "strong multicollinearity problems or that the design matrix is singular.\n",
              "\"\"\""
            ],
            "text/html": [
              "<table class=\"simpletable\">\n",
              "<caption>OLS Regression Results</caption>\n",
              "<tr>\n",
              "  <th>Dep. Variable:</th>          <td>price</td>      <th>  R-squared:         </th> <td>   0.617</td>\n",
              "</tr>\n",
              "<tr>\n",
              "  <th>Model:</th>                   <td>OLS</td>       <th>  Adj. R-squared:    </th> <td>   0.606</td>\n",
              "</tr>\n",
              "<tr>\n",
              "  <th>Method:</th>             <td>Least Squares</td>  <th>  F-statistic:       </th> <td>   56.21</td>\n",
              "</tr>\n",
              "<tr>\n",
              "  <th>Date:</th>             <td>Mon, 28 Nov 2022</td> <th>  Prob (F-statistic):</th>  <td>  0.00</td> \n",
              "</tr>\n",
              "<tr>\n",
              "  <th>Time:</th>                 <td>15:15:35</td>     <th>  Log-Likelihood:    </th> <td> -1699.5</td>\n",
              "</tr>\n",
              "<tr>\n",
              "  <th>No. Observations:</th>      <td>  4819</td>      <th>  AIC:               </th> <td>   3669.</td>\n",
              "</tr>\n",
              "<tr>\n",
              "  <th>Df Residuals:</th>          <td>  4684</td>      <th>  BIC:               </th> <td>   4544.</td>\n",
              "</tr>\n",
              "<tr>\n",
              "  <th>Df Model:</th>              <td>   134</td>      <th>                     </th>     <td> </td>   \n",
              "</tr>\n",
              "<tr>\n",
              "  <th>Covariance Type:</th>      <td>nonrobust</td>    <th>                     </th>     <td> </td>   \n",
              "</tr>\n",
              "</table>\n",
              "<table class=\"simpletable\">\n",
              "<tr>\n",
              "                            <td></td>                              <th>coef</th>     <th>std err</th>      <th>t</th>      <th>P>|t|</th>  <th>[0.025</th>    <th>0.975]</th>  \n",
              "</tr>\n",
              "<tr>\n",
              "  <th>host_response_time</th>                                   <td>    0.0154</td> <td>    0.009</td> <td>    1.800</td> <td> 0.072</td> <td>   -0.001</td> <td>    0.032</td>\n",
              "</tr>\n",
              "<tr>\n",
              "  <th>host_response_rate</th>                                   <td>    0.0005</td> <td>    0.000</td> <td>    1.101</td> <td> 0.271</td> <td>   -0.000</td> <td>    0.001</td>\n",
              "</tr>\n",
              "<tr>\n",
              "  <th>host_acceptance_rate</th>                                 <td>    0.0003</td> <td>    0.000</td> <td>    1.281</td> <td> 0.200</td> <td>   -0.000</td> <td>    0.001</td>\n",
              "</tr>\n",
              "<tr>\n",
              "  <th>host_is_superhost</th>                                    <td>   -0.0365</td> <td>    0.016</td> <td>   -2.298</td> <td> 0.022</td> <td>   -0.068</td> <td>   -0.005</td>\n",
              "</tr>\n",
              "<tr>\n",
              "  <th>host_listings_count</th>                                  <td>   -0.0024</td> <td>    0.001</td> <td>   -2.872</td> <td> 0.004</td> <td>   -0.004</td> <td>   -0.001</td>\n",
              "</tr>\n",
              "<tr>\n",
              "  <th>host_total_listings_count</th>                            <td>    0.0007</td> <td>    0.000</td> <td>    2.336</td> <td> 0.020</td> <td>    0.000</td> <td>    0.001</td>\n",
              "</tr>\n",
              "<tr>\n",
              "  <th>host_has_profile_pic</th>                                 <td>    0.1005</td> <td>    0.062</td> <td>    1.633</td> <td> 0.102</td> <td>   -0.020</td> <td>    0.221</td>\n",
              "</tr>\n",
              "<tr>\n",
              "  <th>host_identity_verified</th>                               <td>    0.0063</td> <td>    0.014</td> <td>    0.446</td> <td> 0.656</td> <td>   -0.021</td> <td>    0.034</td>\n",
              "</tr>\n",
              "<tr>\n",
              "  <th>accommodates</th>                                         <td>    0.1413</td> <td>    0.007</td> <td>   19.841</td> <td> 0.000</td> <td>    0.127</td> <td>    0.155</td>\n",
              "</tr>\n",
              "<tr>\n",
              "  <th>bedrooms</th>                                             <td>    0.1115</td> <td>    0.011</td> <td>   10.484</td> <td> 0.000</td> <td>    0.091</td> <td>    0.132</td>\n",
              "</tr>\n",
              "<tr>\n",
              "  <th>beds</th>                                                 <td>   -0.0510</td> <td>    0.006</td> <td>   -7.877</td> <td> 0.000</td> <td>   -0.064</td> <td>   -0.038</td>\n",
              "</tr>\n",
              "<tr>\n",
              "  <th>minimum_nights</th>                                       <td>-7.304e-05</td> <td>    0.000</td> <td>   -0.651</td> <td> 0.515</td> <td>   -0.000</td> <td>    0.000</td>\n",
              "</tr>\n",
              "<tr>\n",
              "  <th>maximum_nights</th>                                       <td>-1.302e-06</td> <td> 1.06e-05</td> <td>   -0.123</td> <td> 0.902</td> <td> -2.2e-05</td> <td> 1.94e-05</td>\n",
              "</tr>\n",
              "<tr>\n",
              "  <th>has_availability</th>                                     <td>   -0.2317</td> <td>    0.102</td> <td>   -2.263</td> <td> 0.024</td> <td>   -0.432</td> <td>   -0.031</td>\n",
              "</tr>\n",
              "<tr>\n",
              "  <th>availability_30</th>                                      <td>    0.0076</td> <td>    0.002</td> <td>    3.127</td> <td> 0.002</td> <td>    0.003</td> <td>    0.012</td>\n",
              "</tr>\n",
              "<tr>\n",
              "  <th>availability_60</th>                                      <td>    0.0047</td> <td>    0.002</td> <td>    2.510</td> <td> 0.012</td> <td>    0.001</td> <td>    0.008</td>\n",
              "</tr>\n",
              "<tr>\n",
              "  <th>availability_90</th>                                      <td>    0.0003</td> <td>    0.001</td> <td>    0.345</td> <td> 0.730</td> <td>   -0.001</td> <td>    0.002</td>\n",
              "</tr>\n",
              "<tr>\n",
              "  <th>availability_365</th>                                     <td>    0.0003</td> <td> 7.07e-05</td> <td>    4.236</td> <td> 0.000</td> <td>    0.000</td> <td>    0.000</td>\n",
              "</tr>\n",
              "<tr>\n",
              "  <th>number_of_reviews</th>                                    <td>   -0.0009</td> <td> 8.51e-05</td> <td>  -10.079</td> <td> 0.000</td> <td>   -0.001</td> <td>   -0.001</td>\n",
              "</tr>\n",
              "<tr>\n",
              "  <th>number_of_reviews_ltm</th>                                <td>    0.0004</td> <td>    0.001</td> <td>    0.767</td> <td> 0.443</td> <td>   -0.001</td> <td>    0.001</td>\n",
              "</tr>\n",
              "<tr>\n",
              "  <th>number_of_reviews_l30d</th>                               <td>   -0.0135</td> <td>    0.004</td> <td>   -3.484</td> <td> 0.000</td> <td>   -0.021</td> <td>   -0.006</td>\n",
              "</tr>\n",
              "<tr>\n",
              "  <th>review_scores_rating</th>                                 <td>    0.0842</td> <td>    0.038</td> <td>    2.189</td> <td> 0.029</td> <td>    0.009</td> <td>    0.160</td>\n",
              "</tr>\n",
              "<tr>\n",
              "  <th>review_scores_accuracy</th>                               <td>   -0.0297</td> <td>    0.039</td> <td>   -0.762</td> <td> 0.446</td> <td>   -0.106</td> <td>    0.047</td>\n",
              "</tr>\n",
              "<tr>\n",
              "  <th>review_scores_cleanliness</th>                            <td>    0.1099</td> <td>    0.024</td> <td>    4.586</td> <td> 0.000</td> <td>    0.063</td> <td>    0.157</td>\n",
              "</tr>\n",
              "<tr>\n",
              "  <th>review_scores_checkin</th>                                <td>   -0.0295</td> <td>    0.038</td> <td>   -0.780</td> <td> 0.435</td> <td>   -0.104</td> <td>    0.045</td>\n",
              "</tr>\n",
              "<tr>\n",
              "  <th>review_scores_communication</th>                          <td>    0.0541</td> <td>    0.038</td> <td>    1.441</td> <td> 0.150</td> <td>   -0.019</td> <td>    0.128</td>\n",
              "</tr>\n",
              "<tr>\n",
              "  <th>review_scores_location</th>                               <td>    0.1218</td> <td>    0.027</td> <td>    4.593</td> <td> 0.000</td> <td>    0.070</td> <td>    0.174</td>\n",
              "</tr>\n",
              "<tr>\n",
              "  <th>review_scores_value</th>                                  <td>   -0.1639</td> <td>    0.028</td> <td>   -5.936</td> <td> 0.000</td> <td>   -0.218</td> <td>   -0.110</td>\n",
              "</tr>\n",
              "<tr>\n",
              "  <th>instant_bookable</th>                                     <td>    0.0423</td> <td>    0.014</td> <td>    3.087</td> <td> 0.002</td> <td>    0.015</td> <td>    0.069</td>\n",
              "</tr>\n",
              "<tr>\n",
              "  <th>calculated_host_listings_count</th>                       <td>    0.0226</td> <td>    0.012</td> <td>    1.838</td> <td> 0.066</td> <td>   -0.002</td> <td>    0.047</td>\n",
              "</tr>\n",
              "<tr>\n",
              "  <th>calculated_host_listings_count_entire_homes</th>          <td>   -0.0116</td> <td>    0.013</td> <td>   -0.884</td> <td> 0.377</td> <td>   -0.037</td> <td>    0.014</td>\n",
              "</tr>\n",
              "<tr>\n",
              "  <th>calculated_host_listings_count_private_rooms</th>         <td>   -0.0176</td> <td>    0.013</td> <td>   -1.405</td> <td> 0.160</td> <td>   -0.042</td> <td>    0.007</td>\n",
              "</tr>\n",
              "<tr>\n",
              "  <th>calculated_host_listings_count_shared_rooms</th>          <td>    0.0059</td> <td>    0.025</td> <td>    0.241</td> <td> 0.809</td> <td>   -0.042</td> <td>    0.054</td>\n",
              "</tr>\n",
              "<tr>\n",
              "  <th>reviews_per_month</th>                                    <td>    0.0183</td> <td>    0.006</td> <td>    3.127</td> <td> 0.002</td> <td>    0.007</td> <td>    0.030</td>\n",
              "</tr>\n",
              "<tr>\n",
              "  <th>last_review_month</th>                                    <td>   -0.0001</td> <td>    0.003</td> <td>   -0.049</td> <td> 0.961</td> <td>   -0.005</td> <td>    0.005</td>\n",
              "</tr>\n",
              "<tr>\n",
              "  <th>last_review_day</th>                                      <td>   -0.0013</td> <td>    0.002</td> <td>   -0.579</td> <td> 0.562</td> <td>   -0.006</td> <td>    0.003</td>\n",
              "</tr>\n",
              "<tr>\n",
              "  <th>last_review_year</th>                                     <td>    0.0310</td> <td>    0.005</td> <td>    5.781</td> <td> 0.000</td> <td>    0.020</td> <td>    0.041</td>\n",
              "</tr>\n",
              "<tr>\n",
              "  <th>bathrooms</th>                                            <td>    0.0823</td> <td>    0.012</td> <td>    6.760</td> <td> 0.000</td> <td>    0.058</td> <td>    0.106</td>\n",
              "</tr>\n",
              "<tr>\n",
              "  <th>hot_water</th>                                            <td>   -0.0260</td> <td>    0.017</td> <td>   -1.532</td> <td> 0.126</td> <td>   -0.059</td> <td>    0.007</td>\n",
              "</tr>\n",
              "<tr>\n",
              "  <th>hair_dryer</th>                                           <td>    0.0160</td> <td>    0.013</td> <td>    1.190</td> <td> 0.234</td> <td>   -0.010</td> <td>    0.042</td>\n",
              "</tr>\n",
              "<tr>\n",
              "  <th>smoke_alarm</th>                                          <td>    0.0107</td> <td>    0.017</td> <td>    0.648</td> <td> 0.517</td> <td>   -0.022</td> <td>    0.043</td>\n",
              "</tr>\n",
              "<tr>\n",
              "  <th>bed_lines</th>                                            <td>   -0.0273</td> <td>    0.015</td> <td>   -1.836</td> <td> 0.066</td> <td>   -0.056</td> <td>    0.002</td>\n",
              "</tr>\n",
              "<tr>\n",
              "  <th>coffee_maker</th>                                         <td>   -0.0046</td> <td>    0.014</td> <td>   -0.317</td> <td> 0.751</td> <td>   -0.033</td> <td>    0.024</td>\n",
              "</tr>\n",
              "<tr>\n",
              "  <th>wifi</th>                                                 <td>   -0.0169</td> <td>    0.019</td> <td>   -0.876</td> <td> 0.381</td> <td>   -0.055</td> <td>    0.021</td>\n",
              "</tr>\n",
              "<tr>\n",
              "  <th>Cable_TV</th>                                             <td>    0.0384</td> <td>    0.013</td> <td>    3.064</td> <td> 0.002</td> <td>    0.014</td> <td>    0.063</td>\n",
              "</tr>\n",
              "<tr>\n",
              "  <th>Heating</th>                                              <td>   -0.0296</td> <td>    0.015</td> <td>   -2.038</td> <td> 0.042</td> <td>   -0.058</td> <td>   -0.001</td>\n",
              "</tr>\n",
              "<tr>\n",
              "  <th>Bathtub</th>                                              <td>    0.0628</td> <td>    0.015</td> <td>    4.268</td> <td> 0.000</td> <td>    0.034</td> <td>    0.092</td>\n",
              "</tr>\n",
              "<tr>\n",
              "  <th>Air_conditioning</th>                                     <td>    0.0914</td> <td>    0.019</td> <td>    4.844</td> <td> 0.000</td> <td>    0.054</td> <td>    0.128</td>\n",
              "</tr>\n",
              "<tr>\n",
              "  <th>count_amenities</th>                                      <td>    0.0034</td> <td>    0.001</td> <td>    5.046</td> <td> 0.000</td> <td>    0.002</td> <td>    0.005</td>\n",
              "</tr>\n",
              "<tr>\n",
              "  <th>source_0</th>                                             <td>-3.267e-13</td> <td>    6e-14</td> <td>   -5.447</td> <td> 0.000</td> <td>-4.44e-13</td> <td>-2.09e-13</td>\n",
              "</tr>\n",
              "<tr>\n",
              "  <th>source_city scrape</th>                                   <td>  -17.4456</td> <td>    3.218</td> <td>   -5.422</td> <td> 0.000</td> <td>  -23.754</td> <td>  -11.137</td>\n",
              "</tr>\n",
              "<tr>\n",
              "  <th>source_previous scrape</th>                               <td>  -17.5502</td> <td>    3.215</td> <td>   -5.459</td> <td> 0.000</td> <td>  -23.853</td> <td>  -11.247</td>\n",
              "</tr>\n",
              "<tr>\n",
              "  <th>neighbourhood_0</th>                                      <td>-3.171e-13</td> <td> 5.84e-14</td> <td>   -5.427</td> <td> 0.000</td> <td>-4.32e-13</td> <td>-2.03e-13</td>\n",
              "</tr>\n",
              "<tr>\n",
              "  <th>neighbourhood_Bijlmer-Centrum</th>                        <td>   -1.7751</td> <td>    0.296</td> <td>   -6.002</td> <td> 0.000</td> <td>   -2.355</td> <td>   -1.195</td>\n",
              "</tr>\n",
              "<tr>\n",
              "  <th>neighbourhood_Bijlmer-Oost</th>                           <td>   -1.7201</td> <td>    0.302</td> <td>   -5.692</td> <td> 0.000</td> <td>   -2.313</td> <td>   -1.128</td>\n",
              "</tr>\n",
              "<tr>\n",
              "  <th>neighbourhood_Bos en Lommer</th>                          <td>   -1.5231</td> <td>    0.294</td> <td>   -5.177</td> <td> 0.000</td> <td>   -2.100</td> <td>   -0.946</td>\n",
              "</tr>\n",
              "<tr>\n",
              "  <th>neighbourhood_Buitenveldert - Zuidas</th>                 <td>   -1.6501</td> <td>    0.294</td> <td>   -5.604</td> <td> 0.000</td> <td>   -2.227</td> <td>   -1.073</td>\n",
              "</tr>\n",
              "<tr>\n",
              "  <th>neighbourhood_Centrum-Oost</th>                           <td>   -1.2602</td> <td>    0.293</td> <td>   -4.300</td> <td> 0.000</td> <td>   -1.835</td> <td>   -0.686</td>\n",
              "</tr>\n",
              "<tr>\n",
              "  <th>neighbourhood_Centrum-West</th>                           <td>   -1.2270</td> <td>    0.293</td> <td>   -4.186</td> <td> 0.000</td> <td>   -1.802</td> <td>   -0.652</td>\n",
              "</tr>\n",
              "<tr>\n",
              "  <th>neighbourhood_De Aker - Nieuw Sloten</th>                 <td>   -1.6833</td> <td>    0.296</td> <td>   -5.686</td> <td> 0.000</td> <td>   -2.264</td> <td>   -1.103</td>\n",
              "</tr>\n",
              "<tr>\n",
              "  <th>neighbourhood_De Baarsjes - Oud-West</th>                 <td>   -1.3935</td> <td>    0.293</td> <td>   -4.761</td> <td> 0.000</td> <td>   -1.967</td> <td>   -0.820</td>\n",
              "</tr>\n",
              "<tr>\n",
              "  <th>neighbourhood_De Pijp - Rivierenbuurt</th>                <td>   -1.3497</td> <td>    0.293</td> <td>   -4.601</td> <td> 0.000</td> <td>   -1.925</td> <td>   -0.775</td>\n",
              "</tr>\n",
              "<tr>\n",
              "  <th>neighbourhood_Gaasperdam - Driemond</th>                  <td>   -2.0092</td> <td>    0.296</td> <td>   -6.779</td> <td> 0.000</td> <td>   -2.590</td> <td>   -1.428</td>\n",
              "</tr>\n",
              "<tr>\n",
              "  <th>neighbourhood_Geuzenveld - Slotermeer</th>                <td>   -1.6645</td> <td>    0.295</td> <td>   -5.634</td> <td> 0.000</td> <td>   -2.244</td> <td>   -1.085</td>\n",
              "</tr>\n",
              "<tr>\n",
              "  <th>neighbourhood_IJburg - Zeeburgereiland</th>               <td>   -1.6626</td> <td>    0.293</td> <td>   -5.671</td> <td> 0.000</td> <td>   -2.237</td> <td>   -1.088</td>\n",
              "</tr>\n",
              "<tr>\n",
              "  <th>neighbourhood_Noord-Oost</th>                             <td>   -1.8553</td> <td>    0.293</td> <td>   -6.326</td> <td> 0.000</td> <td>   -2.430</td> <td>   -1.280</td>\n",
              "</tr>\n",
              "<tr>\n",
              "  <th>neighbourhood_Noord-West</th>                             <td>   -1.7810</td> <td>    0.295</td> <td>   -6.046</td> <td> 0.000</td> <td>   -2.359</td> <td>   -1.204</td>\n",
              "</tr>\n",
              "<tr>\n",
              "  <th>neighbourhood_Oostelijk Havengebied - Indische Buurt</th> <td>   -1.5123</td> <td>    0.294</td> <td>   -5.147</td> <td> 0.000</td> <td>   -2.088</td> <td>   -0.936</td>\n",
              "</tr>\n",
              "<tr>\n",
              "  <th>neighbourhood_Osdorp</th>                                 <td>   -1.7343</td> <td>    0.297</td> <td>   -5.847</td> <td> 0.000</td> <td>   -2.316</td> <td>   -1.153</td>\n",
              "</tr>\n",
              "<tr>\n",
              "  <th>neighbourhood_Oud-Noord</th>                              <td>   -1.6127</td> <td>    0.294</td> <td>   -5.490</td> <td> 0.000</td> <td>   -2.189</td> <td>   -1.037</td>\n",
              "</tr>\n",
              "<tr>\n",
              "  <th>neighbourhood_Oud-Oost</th>                               <td>   -1.4773</td> <td>    0.293</td> <td>   -5.040</td> <td> 0.000</td> <td>   -2.052</td> <td>   -0.903</td>\n",
              "</tr>\n",
              "<tr>\n",
              "  <th>neighbourhood_Slotervaart</th>                            <td>   -1.6456</td> <td>    0.295</td> <td>   -5.580</td> <td> 0.000</td> <td>   -2.224</td> <td>   -1.067</td>\n",
              "</tr>\n",
              "<tr>\n",
              "  <th>neighbourhood_Watergraafsmeer</th>                        <td>   -1.6113</td> <td>    0.293</td> <td>   -5.499</td> <td> 0.000</td> <td>   -2.186</td> <td>   -1.037</td>\n",
              "</tr>\n",
              "<tr>\n",
              "  <th>neighbourhood_Westerpark</th>                             <td>   -1.4224</td> <td>    0.293</td> <td>   -4.852</td> <td> 0.000</td> <td>   -1.997</td> <td>   -0.848</td>\n",
              "</tr>\n",
              "<tr>\n",
              "  <th>neighbourhood_Zuid</th>                                   <td>   -1.4250</td> <td>    0.293</td> <td>   -4.861</td> <td> 0.000</td> <td>   -2.000</td> <td>   -0.850</td>\n",
              "</tr>\n",
              "<tr>\n",
              "  <th>property_type_0</th>                                      <td>-2.456e-13</td> <td> 4.53e-14</td> <td>   -5.426</td> <td> 0.000</td> <td>-3.34e-13</td> <td>-1.57e-13</td>\n",
              "</tr>\n",
              "<tr>\n",
              "  <th>property_type_Barn</th>                                   <td>   -0.3485</td> <td>    0.237</td> <td>   -1.469</td> <td> 0.142</td> <td>   -0.814</td> <td>    0.117</td>\n",
              "</tr>\n",
              "<tr>\n",
              "  <th>property_type_Boat</th>                                   <td>   -0.5518</td> <td>    0.138</td> <td>   -4.002</td> <td> 0.000</td> <td>   -0.822</td> <td>   -0.281</td>\n",
              "</tr>\n",
              "<tr>\n",
              "  <th>property_type_Camper/RV</th>                              <td>   -0.8832</td> <td>    0.278</td> <td>   -3.182</td> <td> 0.001</td> <td>   -1.427</td> <td>   -0.339</td>\n",
              "</tr>\n",
              "<tr>\n",
              "  <th>property_type_Cave</th>                                   <td>    0.4527</td> <td>    0.373</td> <td>    1.215</td> <td> 0.224</td> <td>   -0.278</td> <td>    1.183</td>\n",
              "</tr>\n",
              "<tr>\n",
              "  <th>property_type_Entire bungalow</th>                        <td>   -0.6480</td> <td>    0.370</td> <td>   -1.752</td> <td> 0.080</td> <td>   -1.373</td> <td>    0.077</td>\n",
              "</tr>\n",
              "<tr>\n",
              "  <th>property_type_Entire cabin</th>                           <td>   -0.6387</td> <td>    0.203</td> <td>   -3.150</td> <td> 0.002</td> <td>   -1.036</td> <td>   -0.241</td>\n",
              "</tr>\n",
              "<tr>\n",
              "  <th>property_type_Entire chalet</th>                          <td>   -0.6084</td> <td>    0.206</td> <td>   -2.950</td> <td> 0.003</td> <td>   -1.013</td> <td>   -0.204</td>\n",
              "</tr>\n",
              "<tr>\n",
              "  <th>property_type_Entire condo</th>                           <td>   -0.4844</td> <td>    0.130</td> <td>   -3.724</td> <td> 0.000</td> <td>   -0.740</td> <td>   -0.229</td>\n",
              "</tr>\n",
              "<tr>\n",
              "  <th>property_type_Entire cottage</th>                         <td>   -0.3842</td> <td>    0.184</td> <td>   -2.088</td> <td> 0.037</td> <td>   -0.745</td> <td>   -0.024</td>\n",
              "</tr>\n",
              "<tr>\n",
              "  <th>property_type_Entire guest suite</th>                     <td>   -0.7300</td> <td>    0.141</td> <td>   -5.167</td> <td> 0.000</td> <td>   -1.007</td> <td>   -0.453</td>\n",
              "</tr>\n",
              "<tr>\n",
              "  <th>property_type_Entire guesthouse</th>                      <td>   -0.4882</td> <td>    0.145</td> <td>   -3.374</td> <td> 0.001</td> <td>   -0.772</td> <td>   -0.205</td>\n",
              "</tr>\n",
              "<tr>\n",
              "  <th>property_type_Entire home</th>                            <td>   -0.5224</td> <td>    0.130</td> <td>   -4.018</td> <td> 0.000</td> <td>   -0.777</td> <td>   -0.267</td>\n",
              "</tr>\n",
              "<tr>\n",
              "  <th>property_type_Entire home/apt</th>                        <td> -6.55e-14</td> <td>  1.2e-14</td> <td>   -5.478</td> <td> 0.000</td> <td>-8.89e-14</td> <td>-4.21e-14</td>\n",
              "</tr>\n",
              "<tr>\n",
              "  <th>property_type_Entire loft</th>                            <td>   -0.4591</td> <td>    0.132</td> <td>   -3.474</td> <td> 0.001</td> <td>   -0.718</td> <td>   -0.200</td>\n",
              "</tr>\n",
              "<tr>\n",
              "  <th>property_type_Entire place</th>                           <td>   -0.6713</td> <td>    0.183</td> <td>   -3.678</td> <td> 0.000</td> <td>   -1.029</td> <td>   -0.313</td>\n",
              "</tr>\n",
              "<tr>\n",
              "  <th>property_type_Entire rental unit</th>                     <td>   -0.5784</td> <td>    0.128</td> <td>   -4.501</td> <td> 0.000</td> <td>   -0.830</td> <td>   -0.326</td>\n",
              "</tr>\n",
              "<tr>\n",
              "  <th>property_type_Entire serviced apartment</th>              <td>   -0.4854</td> <td>    0.136</td> <td>   -3.580</td> <td> 0.000</td> <td>   -0.751</td> <td>   -0.220</td>\n",
              "</tr>\n",
              "<tr>\n",
              "  <th>property_type_Entire townhouse</th>                       <td>   -0.5116</td> <td>    0.132</td> <td>   -3.867</td> <td> 0.000</td> <td>   -0.771</td> <td>   -0.252</td>\n",
              "</tr>\n",
              "<tr>\n",
              "  <th>property_type_Entire vacation home</th>                   <td>   -0.5802</td> <td>    0.161</td> <td>   -3.613</td> <td> 0.000</td> <td>   -0.895</td> <td>   -0.265</td>\n",
              "</tr>\n",
              "<tr>\n",
              "  <th>property_type_Entire villa</th>                           <td>   -0.2298</td> <td>    0.147</td> <td>   -1.565</td> <td> 0.118</td> <td>   -0.518</td> <td>    0.058</td>\n",
              "</tr>\n",
              "<tr>\n",
              "  <th>property_type_Farm stay</th>                              <td>   -0.3430</td> <td>    0.217</td> <td>   -1.581</td> <td> 0.114</td> <td>   -0.768</td> <td>    0.082</td>\n",
              "</tr>\n",
              "<tr>\n",
              "  <th>property_type_Houseboat</th>                              <td>   -0.4015</td> <td>    0.133</td> <td>   -3.011</td> <td> 0.003</td> <td>   -0.663</td> <td>   -0.140</td>\n",
              "</tr>\n",
              "<tr>\n",
              "  <th>property_type_Private room</th>                           <td>   -0.5972</td> <td>    0.187</td> <td>   -3.202</td> <td> 0.001</td> <td>   -0.963</td> <td>   -0.232</td>\n",
              "</tr>\n",
              "<tr>\n",
              "  <th>property_type_Private room in bed and breakfast</th>      <td>   -0.5974</td> <td>    0.125</td> <td>   -4.798</td> <td> 0.000</td> <td>   -0.842</td> <td>   -0.353</td>\n",
              "</tr>\n",
              "<tr>\n",
              "  <th>property_type_Private room in boat</th>                   <td>   -0.6538</td> <td>    0.135</td> <td>   -4.859</td> <td> 0.000</td> <td>   -0.918</td> <td>   -0.390</td>\n",
              "</tr>\n",
              "<tr>\n",
              "  <th>property_type_Private room in bungalow</th>               <td>   -1.3022</td> <td>    0.368</td> <td>   -3.539</td> <td> 0.000</td> <td>   -2.024</td> <td>   -0.581</td>\n",
              "</tr>\n",
              "<tr>\n",
              "  <th>property_type_Private room in cabin</th>                  <td>   -0.7995</td> <td>    0.367</td> <td>   -2.181</td> <td> 0.029</td> <td>   -1.518</td> <td>   -0.081</td>\n",
              "</tr>\n",
              "<tr>\n",
              "  <th>property_type_Private room in casa particular</th>        <td>   -0.7940</td> <td>    0.165</td> <td>   -4.816</td> <td> 0.000</td> <td>   -1.117</td> <td>   -0.471</td>\n",
              "</tr>\n",
              "<tr>\n",
              "  <th>property_type_Private room in condo</th>                  <td>   -0.7273</td> <td>    0.128</td> <td>   -5.666</td> <td> 0.000</td> <td>   -0.979</td> <td>   -0.476</td>\n",
              "</tr>\n",
              "<tr>\n",
              "  <th>property_type_Private room in earthen home</th>           <td>   -0.4071</td> <td>    0.370</td> <td>   -1.100</td> <td> 0.271</td> <td>   -1.133</td> <td>    0.318</td>\n",
              "</tr>\n",
              "<tr>\n",
              "  <th>property_type_Private room in farm stay</th>              <td>   -0.9296</td> <td>    0.237</td> <td>   -3.921</td> <td> 0.000</td> <td>   -1.394</td> <td>   -0.465</td>\n",
              "</tr>\n",
              "<tr>\n",
              "  <th>property_type_Private room in guest suite</th>            <td>   -0.6994</td> <td>    0.130</td> <td>   -5.365</td> <td> 0.000</td> <td>   -0.955</td> <td>   -0.444</td>\n",
              "</tr>\n",
              "<tr>\n",
              "  <th>property_type_Private room in guesthouse</th>             <td>   -0.5025</td> <td>    0.159</td> <td>   -3.165</td> <td> 0.002</td> <td>   -0.814</td> <td>   -0.191</td>\n",
              "</tr>\n",
              "<tr>\n",
              "  <th>property_type_Private room in home</th>                   <td>   -0.6176</td> <td>    0.127</td> <td>   -4.874</td> <td> 0.000</td> <td>   -0.866</td> <td>   -0.369</td>\n",
              "</tr>\n",
              "<tr>\n",
              "  <th>property_type_Private room in hostel</th>                 <td>   -0.1497</td> <td>    0.156</td> <td>   -0.959</td> <td> 0.338</td> <td>   -0.456</td> <td>    0.156</td>\n",
              "</tr>\n",
              "<tr>\n",
              "  <th>property_type_Private room in houseboat</th>              <td>   -0.5921</td> <td>    0.130</td> <td>   -4.543</td> <td> 0.000</td> <td>   -0.848</td> <td>   -0.337</td>\n",
              "</tr>\n",
              "<tr>\n",
              "  <th>property_type_Private room in island</th>                 <td>   -1.1810</td> <td>    0.367</td> <td>   -3.217</td> <td> 0.001</td> <td>   -1.901</td> <td>   -0.461</td>\n",
              "</tr>\n",
              "<tr>\n",
              "  <th>property_type_Private room in loft</th>                   <td>   -0.6309</td> <td>    0.137</td> <td>   -4.606</td> <td> 0.000</td> <td>   -0.899</td> <td>   -0.362</td>\n",
              "</tr>\n",
              "<tr>\n",
              "  <th>property_type_Private room in nature lodge</th>           <td>   -0.2951</td> <td>    0.366</td> <td>   -0.807</td> <td> 0.420</td> <td>   -1.012</td> <td>    0.422</td>\n",
              "</tr>\n",
              "<tr>\n",
              "  <th>property_type_Private room in rental unit</th>            <td>   -0.6834</td> <td>    0.124</td> <td>   -5.510</td> <td> 0.000</td> <td>   -0.927</td> <td>   -0.440</td>\n",
              "</tr>\n",
              "<tr>\n",
              "  <th>property_type_Private room in serviced apartment</th>     <td>    0.0445</td> <td>    0.165</td> <td>    0.269</td> <td> 0.788</td> <td>   -0.280</td> <td>    0.369</td>\n",
              "</tr>\n",
              "<tr>\n",
              "  <th>property_type_Private room in tiny home</th>              <td>   -0.4048</td> <td>    0.273</td> <td>   -1.482</td> <td> 0.138</td> <td>   -0.940</td> <td>    0.131</td>\n",
              "</tr>\n",
              "<tr>\n",
              "  <th>property_type_Private room in townhouse</th>              <td>   -0.6953</td> <td>    0.130</td> <td>   -5.355</td> <td> 0.000</td> <td>   -0.950</td> <td>   -0.441</td>\n",
              "</tr>\n",
              "<tr>\n",
              "  <th>property_type_Private room in villa</th>                  <td>   -0.6146</td> <td>    0.198</td> <td>   -3.106</td> <td> 0.002</td> <td>   -1.003</td> <td>   -0.227</td>\n",
              "</tr>\n",
              "<tr>\n",
              "  <th>property_type_Room in aparthotel</th>                     <td>   -0.4412</td> <td>    0.126</td> <td>   -3.501</td> <td> 0.000</td> <td>   -0.688</td> <td>   -0.194</td>\n",
              "</tr>\n",
              "<tr>\n",
              "  <th>property_type_Room in bed and breakfast</th>              <td>   -0.2283</td> <td>    0.186</td> <td>   -1.230</td> <td> 0.219</td> <td>   -0.592</td> <td>    0.136</td>\n",
              "</tr>\n",
              "<tr>\n",
              "  <th>property_type_Room in boutique hotel</th>                 <td>   -0.2217</td> <td>    0.128</td> <td>   -1.732</td> <td> 0.083</td> <td>   -0.473</td> <td>    0.029</td>\n",
              "</tr>\n",
              "<tr>\n",
              "  <th>property_type_Room in casa particular</th>                <td> 3.026e-17</td> <td> 9.37e-17</td> <td>    0.323</td> <td> 0.747</td> <td>-1.53e-16</td> <td> 2.14e-16</td>\n",
              "</tr>\n",
              "<tr>\n",
              "  <th>property_type_Room in hostel</th>                         <td>   -0.4474</td> <td>    0.207</td> <td>   -2.166</td> <td> 0.030</td> <td>   -0.852</td> <td>   -0.042</td>\n",
              "</tr>\n",
              "<tr>\n",
              "  <th>property_type_Room in hotel</th>                          <td>   -0.2397</td> <td>    0.130</td> <td>   -1.841</td> <td> 0.066</td> <td>   -0.495</td> <td>    0.016</td>\n",
              "</tr>\n",
              "<tr>\n",
              "  <th>property_type_Room in serviced apartment</th>             <td>   -0.0910</td> <td>    0.250</td> <td>   -0.364</td> <td> 0.716</td> <td>   -0.581</td> <td>    0.399</td>\n",
              "</tr>\n",
              "<tr>\n",
              "  <th>property_type_Shared room in bed and breakfast</th>       <td>   -1.2809</td> <td>    0.417</td> <td>   -3.075</td> <td> 0.002</td> <td>   -2.098</td> <td>   -0.464</td>\n",
              "</tr>\n",
              "<tr>\n",
              "  <th>property_type_Shared room in boat</th>                    <td>   -0.9779</td> <td>    0.410</td> <td>   -2.382</td> <td> 0.017</td> <td>   -1.783</td> <td>   -0.173</td>\n",
              "</tr>\n",
              "<tr>\n",
              "  <th>property_type_Shared room in home</th>                    <td>   -1.5417</td> <td>    0.339</td> <td>   -4.544</td> <td> 0.000</td> <td>   -2.207</td> <td>   -0.877</td>\n",
              "</tr>\n",
              "<tr>\n",
              "  <th>property_type_Shared room in hostel</th>                  <td>   -1.7764</td> <td>    0.284</td> <td>   -6.248</td> <td> 0.000</td> <td>   -2.334</td> <td>   -1.219</td>\n",
              "</tr>\n",
              "<tr>\n",
              "  <th>property_type_Shared room in houseboat</th>               <td>   -0.8204</td> <td>    0.321</td> <td>   -2.560</td> <td> 0.011</td> <td>   -1.449</td> <td>   -0.192</td>\n",
              "</tr>\n",
              "<tr>\n",
              "  <th>property_type_Shared room in rental unit</th>             <td>   -1.7160</td> <td>    0.337</td> <td>   -5.098</td> <td> 0.000</td> <td>   -2.376</td> <td>   -1.056</td>\n",
              "</tr>\n",
              "<tr>\n",
              "  <th>property_type_Tent</th>                                   <td>   -0.7274</td> <td>    0.370</td> <td>   -1.964</td> <td> 0.050</td> <td>   -1.454</td> <td>   -0.001</td>\n",
              "</tr>\n",
              "<tr>\n",
              "  <th>property_type_Tiny home</th>                              <td>   -0.7451</td> <td>    0.167</td> <td>   -4.466</td> <td> 0.000</td> <td>   -1.072</td> <td>   -0.418</td>\n",
              "</tr>\n",
              "<tr>\n",
              "  <th>property_type_Tower</th>                                  <td>   -0.1463</td> <td>    0.277</td> <td>   -0.528</td> <td> 0.597</td> <td>   -0.690</td> <td>    0.397</td>\n",
              "</tr>\n",
              "<tr>\n",
              "  <th>property_type_Windmill</th>                               <td>    0.3310</td> <td>    0.369</td> <td>    0.896</td> <td> 0.370</td> <td>   -0.393</td> <td>    1.055</td>\n",
              "</tr>\n",
              "<tr>\n",
              "  <th>property_type_Yurt</th>                                   <td>         0</td> <td>        0</td> <td>      nan</td> <td>   nan</td> <td>        0</td> <td>        0</td>\n",
              "</tr>\n",
              "<tr>\n",
              "  <th>room_type_0</th>                                          <td>         0</td> <td>        0</td> <td>      nan</td> <td>   nan</td> <td>        0</td> <td>        0</td>\n",
              "</tr>\n",
              "<tr>\n",
              "  <th>room_type_Entire home/apt</th>                            <td>   -8.8150</td> <td>    1.649</td> <td>   -5.345</td> <td> 0.000</td> <td>  -12.048</td> <td>   -5.582</td>\n",
              "</tr>\n",
              "<tr>\n",
              "  <th>room_type_Hotel room</th>                                 <td>   -9.1051</td> <td>    1.654</td> <td>   -5.506</td> <td> 0.000</td> <td>  -12.347</td> <td>   -5.863</td>\n",
              "</tr>\n",
              "<tr>\n",
              "  <th>room_type_Private room</th>                               <td>   -8.9624</td> <td>    1.649</td> <td>   -5.437</td> <td> 0.000</td> <td>  -12.194</td> <td>   -5.730</td>\n",
              "</tr>\n",
              "<tr>\n",
              "  <th>room_type_Shared room</th>                                <td>   -8.1133</td> <td>    1.493</td> <td>   -5.434</td> <td> 0.000</td> <td>  -11.041</td> <td>   -5.186</td>\n",
              "</tr>\n",
              "<tr>\n",
              "  <th>bathrooms_type_private</th>                               <td>  -17.3835</td> <td>    3.216</td> <td>   -5.405</td> <td> 0.000</td> <td>  -23.689</td> <td>  -11.078</td>\n",
              "</tr>\n",
              "<tr>\n",
              "  <th>bathrooms_type_shared</th>                                <td>  -17.6123</td> <td>    3.217</td> <td>   -5.475</td> <td> 0.000</td> <td>  -23.918</td> <td>  -11.306</td>\n",
              "</tr>\n",
              "<tr>\n",
              "  <th>have_license_0</th>                                       <td>   -8.7066</td> <td>    1.731</td> <td>   -5.031</td> <td> 0.000</td> <td>  -12.099</td> <td>   -5.314</td>\n",
              "</tr>\n",
              "<tr>\n",
              "  <th>have_license_Exempt</th>                                  <td>  -13.2122</td> <td>    2.365</td> <td>   -5.588</td> <td> 0.000</td> <td>  -17.848</td> <td>   -8.577</td>\n",
              "</tr>\n",
              "<tr>\n",
              "  <th>have_license_Yes</th>                                     <td>  -13.0770</td> <td>    2.365</td> <td>   -5.530</td> <td> 0.000</td> <td>  -17.713</td> <td>   -8.441</td>\n",
              "</tr>\n",
              "</table>\n",
              "<table class=\"simpletable\">\n",
              "<tr>\n",
              "  <th>Omnibus:</th>       <td>566.814</td> <th>  Durbin-Watson:     </th> <td>   2.015</td>\n",
              "</tr>\n",
              "<tr>\n",
              "  <th>Prob(Omnibus):</th> <td> 0.000</td>  <th>  Jarque-Bera (JB):  </th> <td>5686.735</td>\n",
              "</tr>\n",
              "<tr>\n",
              "  <th>Skew:</th>          <td> 0.084</td>  <th>  Prob(JB):          </th> <td>    0.00</td>\n",
              "</tr>\n",
              "<tr>\n",
              "  <th>Kurtosis:</th>      <td> 8.319</td>  <th>  Cond. No.          </th> <td>1.24e+19</td>\n",
              "</tr>\n",
              "</table><br/><br/>Notes:<br/>[1] Standard Errors assume that the covariance matrix of the errors is correctly specified.<br/>[2] The smallest eigenvalue is 1.36e-28. This might indicate that there are<br/>strong multicollinearity problems or that the design matrix is singular."
            ]
          },
          "metadata": {},
          "execution_count": 91
        }
      ],
      "source": [
        "import statsmodels.api as sm\n",
        "X_lin = sm.add_constant(X_train)\n",
        "est =sm.OLS(y_train,X_train).fit()\n",
        "est.summary()"
      ]
    },
    {
      "cell_type": "markdown",
      "metadata": {
        "id": "i5T_gVHu1Om-"
      },
      "source": [
        "##Ridge"
      ]
    },
    {
      "cell_type": "code",
      "execution_count": null,
      "metadata": {
        "id": "WmafZTn_1Re1",
        "colab": {
          "base_uri": "https://localhost:8080/"
        },
        "outputId": "701ae977-27cc-4fc2-dd1e-aadce2ede2c5"
      },
      "outputs": [
        {
          "output_type": "execute_result",
          "data": {
            "text/plain": [
              "array([0.64577594, 0.58089808, 0.54646973, 0.48756948, 0.60484052])"
            ]
          },
          "metadata": {},
          "execution_count": 92
        }
      ],
      "source": [
        "from sklearn.linear_model import Ridge\n",
        "ridge= Ridge(alpha=0.001)\n",
        "cvs_ridge=cross_val_score(ridge,X_train,y_train,cv=5,scoring='r2')\n",
        "cvs_ridge"
      ]
    },
    {
      "cell_type": "code",
      "execution_count": null,
      "metadata": {
        "id": "HrEH3qRe1tGl",
        "colab": {
          "base_uri": "https://localhost:8080/"
        },
        "outputId": "7ae89335-d06f-4ee1-e519-803c40e28187"
      },
      "outputs": [
        {
          "output_type": "execute_result",
          "data": {
            "text/plain": [
              "0.5731107501879643"
            ]
          },
          "metadata": {},
          "execution_count": 93
        }
      ],
      "source": [
        "cvs_ridge.mean()"
      ]
    },
    {
      "cell_type": "code",
      "execution_count": null,
      "metadata": {
        "id": "1lUrL8SJ11gS"
      },
      "outputs": [],
      "source": [
        "ridge.fit(X_train,y_train)\n",
        "ridge_model_prediction = ridge.predict(X_test)"
      ]
    },
    {
      "cell_type": "code",
      "execution_count": null,
      "metadata": {
        "id": "o5bwEf6z2L6-",
        "colab": {
          "base_uri": "https://localhost:8080/"
        },
        "outputId": "c9c52f65-4a51-4869-9734-c88c01037ae9"
      },
      "outputs": [
        {
          "output_type": "stream",
          "name": "stdout",
          "text": [
            "Mean Squared Error: 0.1391243933716038\n",
            "Mean Absolute Error: 0.2807297954282096\n",
            "Root Mean Absolute Error: 0.37299382484379523\n",
            "R2 score: 0.590922450549385\n"
          ]
        }
      ],
      "source": [
        "ridge_mse_best = metrics.mean_squared_error(y_test, ridge_model_prediction)\n",
        "ridge_mae_best = metrics.mean_absolute_error(y_test, ridge_model_prediction)\n",
        "ridge_rmse_best = np.sqrt(ridge_mse_best)\n",
        "ridge_r2_best = metrics.r2_score(y_test, ridge_model_prediction)\n",
        "\n",
        "print(\"Mean Squared Error: {}\".format(ridge_mse_best))\n",
        "print(\"Mean Absolute Error: {}\".format(ridge_mae_best))\n",
        "print(\"Root Mean Absolute Error: {}\".format(ridge_rmse_best))\n",
        "print(\"R2 score: {}\".format(ridge_r2_best))"
      ]
    },
    {
      "cell_type": "markdown",
      "metadata": {
        "id": "QKcVGV2U2knA"
      },
      "source": [
        "##Lasso"
      ]
    },
    {
      "cell_type": "code",
      "execution_count": null,
      "metadata": {
        "id": "XP0kKroL2o3A",
        "colab": {
          "base_uri": "https://localhost:8080/"
        },
        "outputId": "f56d3cce-e65e-48df-a056-80c9edbab5cf"
      },
      "outputs": [
        {
          "output_type": "execute_result",
          "data": {
            "text/plain": [
              "array([0.63915858, 0.57961731, 0.54080282, 0.4848642 , 0.58521757])"
            ]
          },
          "metadata": {},
          "execution_count": 96
        }
      ],
      "source": [
        "from sklearn.linear_model import Lasso\n",
        "lasso= Lasso(alpha=0.001)\n",
        "cvs_lasso=cross_val_score(lasso,X_train,y_train,cv=5,scoring='r2')\n",
        "cvs_lasso"
      ]
    },
    {
      "cell_type": "code",
      "execution_count": null,
      "metadata": {
        "id": "v21093Nq3khs",
        "colab": {
          "base_uri": "https://localhost:8080/"
        },
        "outputId": "fc6601b7-5a88-4bf6-92ac-48773c14361e"
      },
      "outputs": [
        {
          "output_type": "execute_result",
          "data": {
            "text/plain": [
              "0.5659320959808599"
            ]
          },
          "metadata": {},
          "execution_count": 97
        }
      ],
      "source": [
        "cvs_lasso.mean()"
      ]
    },
    {
      "cell_type": "code",
      "execution_count": null,
      "metadata": {
        "id": "W4XpUSAV3n1f"
      },
      "outputs": [],
      "source": [
        "lasso.fit(X_train,y_train)\n",
        "lasso_model_prediction = lasso.predict(X_test)"
      ]
    },
    {
      "cell_type": "code",
      "execution_count": null,
      "metadata": {
        "id": "LnK065Qx4Xfm",
        "colab": {
          "base_uri": "https://localhost:8080/"
        },
        "outputId": "5a8fdecd-0649-493c-b21a-ac6bd05cb8fa"
      },
      "outputs": [
        {
          "output_type": "stream",
          "name": "stdout",
          "text": [
            "Mean Squared Error: 0.14462043367692873\n",
            "Mean Absolute Error: 0.2858372013277752\n",
            "Root Mean Absolute Error: 0.3802899337044418\n",
            "R2 score: 0.5747620444171629\n"
          ]
        }
      ],
      "source": [
        "lasso_mse_best = metrics.mean_squared_error(y_test, lasso_model_prediction)\n",
        "lasso_mae_best = metrics.mean_absolute_error(y_test, lasso_model_prediction)\n",
        "lasso_rmse_best = np.sqrt(lasso_mse_best)\n",
        "lasso_r2_best = metrics.r2_score(y_test, lasso_model_prediction)\n",
        "\n",
        "print(\"Mean Squared Error: {}\".format(lasso_mse_best))\n",
        "print(\"Mean Absolute Error: {}\".format(lasso_mae_best))\n",
        "print(\"Root Mean Absolute Error: {}\".format(lasso_rmse_best))\n",
        "print(\"R2 score: {}\".format(lasso_r2_best))"
      ]
    },
    {
      "cell_type": "markdown",
      "metadata": {
        "id": "Hqc9fDSX40Ro"
      },
      "source": [
        "##XGBoost"
      ]
    },
    {
      "cell_type": "code",
      "execution_count": null,
      "metadata": {
        "id": "NQvw5AIR40AR",
        "colab": {
          "base_uri": "https://localhost:8080/"
        },
        "outputId": "2fe97431-9004-4453-a690-c71d00a783aa"
      },
      "outputs": [
        {
          "output_type": "stream",
          "name": "stdout",
          "text": [
            "[15:15:36] WARNING: /workspace/src/objective/regression_obj.cu:152: reg:linear is now deprecated in favor of reg:squarederror.\n",
            "[15:15:41] WARNING: /workspace/src/objective/regression_obj.cu:152: reg:linear is now deprecated in favor of reg:squarederror.\n",
            "[15:15:46] WARNING: /workspace/src/objective/regression_obj.cu:152: reg:linear is now deprecated in favor of reg:squarederror.\n",
            "[15:15:51] WARNING: /workspace/src/objective/regression_obj.cu:152: reg:linear is now deprecated in favor of reg:squarederror.\n",
            "[15:15:56] WARNING: /workspace/src/objective/regression_obj.cu:152: reg:linear is now deprecated in favor of reg:squarederror.\n"
          ]
        },
        {
          "output_type": "execute_result",
          "data": {
            "text/plain": [
              "array([0.66456399, 0.62794925, 0.58827633, 0.60426251, 0.64302844])"
            ]
          },
          "metadata": {},
          "execution_count": 100
        }
      ],
      "source": [
        "import xgboost as xgb\n",
        "xgb=xgb.XGBRegressor(objective=\"reg:linear\",learning_rate=0.1,n_estimators=400)\n",
        "cvs_xgb=cross_val_score(xgb,X_train,y_train,cv=5,scoring='r2')\n",
        "cvs_xgb"
      ]
    },
    {
      "cell_type": "code",
      "execution_count": null,
      "metadata": {
        "id": "6smeqXGb7aIP",
        "colab": {
          "base_uri": "https://localhost:8080/"
        },
        "outputId": "fa34c3b9-8011-4294-e101-2bd69aad25c3"
      },
      "outputs": [
        {
          "output_type": "execute_result",
          "data": {
            "text/plain": [
              "0.6256161041961394"
            ]
          },
          "metadata": {},
          "execution_count": 101
        }
      ],
      "source": [
        "cvs_xgb.mean()"
      ]
    },
    {
      "cell_type": "code",
      "execution_count": null,
      "metadata": {
        "id": "1WlFby-Y7b9G",
        "colab": {
          "base_uri": "https://localhost:8080/"
        },
        "outputId": "6f4b1651-a3e7-43af-ed96-0009ce1e7f74"
      },
      "outputs": [
        {
          "output_type": "stream",
          "name": "stdout",
          "text": [
            "[15:16:02] WARNING: /workspace/src/objective/regression_obj.cu:152: reg:linear is now deprecated in favor of reg:squarederror.\n"
          ]
        }
      ],
      "source": [
        "xgb.fit(X_train,y_train)\n",
        "xgb_model_prediction = xgb.predict(X_test)"
      ]
    },
    {
      "cell_type": "code",
      "execution_count": null,
      "metadata": {
        "id": "ta8NRyhK7yA3",
        "colab": {
          "base_uri": "https://localhost:8080/"
        },
        "outputId": "587899c8-c724-4069-e228-704618312147"
      },
      "outputs": [
        {
          "output_type": "stream",
          "name": "stdout",
          "text": [
            "Mean Squared Error: 0.12460372468138184\n",
            "Mean Absolute Error: 0.2636403918053328\n",
            "Root Mean Absolute Error: 0.3529925277982267\n",
            "R2 score: 0.6336186263976721\n"
          ]
        }
      ],
      "source": [
        "xgb_mse_best = metrics.mean_squared_error(y_test, xgb_model_prediction)\n",
        "xgb_mae_best = metrics.mean_absolute_error(y_test, xgb_model_prediction)\n",
        "xgb_rmse_best = np.sqrt(xgb_mse_best)\n",
        "xgb_r2_best = metrics.r2_score(y_test, xgb_model_prediction)\n",
        "\n",
        "print(\"Mean Squared Error: {}\".format(xgb_mse_best))\n",
        "print(\"Mean Absolute Error: {}\".format(xgb_mae_best))\n",
        "print(\"Root Mean Absolute Error: {}\".format(xgb_rmse_best))\n",
        "print(\"R2 score: {}\".format(xgb_r2_best))"
      ]
    },
    {
      "cell_type": "markdown",
      "source": [
        "\n",
        "\n",
        "##Gradient"
      ],
      "metadata": {
        "id": "C7YK4ai3fPJm"
      }
    },
    {
      "cell_type": "code",
      "source": [
        "from sklearn.ensemble import GradientBoostingRegressor\n",
        "gdb=GradientBoostingRegressor(n_estimators=100)\n",
        "cvs_gdb=cross_val_score(gdb,X_train,y_train,cv=5,scoring='r2')\n",
        "cvs_gdb"
      ],
      "metadata": {
        "id": "5hyIFaLbcT3A",
        "colab": {
          "base_uri": "https://localhost:8080/"
        },
        "outputId": "b89bb47a-477b-425d-ee30-ea7b510baa4c"
      },
      "execution_count": null,
      "outputs": [
        {
          "output_type": "execute_result",
          "data": {
            "text/plain": [
              "array([0.63762328, 0.58927133, 0.5544633 , 0.56886905, 0.59545484])"
            ]
          },
          "metadata": {},
          "execution_count": 104
        }
      ]
    },
    {
      "cell_type": "code",
      "source": [
        "cvs_gdb.mean()"
      ],
      "metadata": {
        "id": "WmIH_bOdc6h-",
        "colab": {
          "base_uri": "https://localhost:8080/"
        },
        "outputId": "4cb17086-d4ab-4a98-9768-c24ec7d0e5b0"
      },
      "execution_count": null,
      "outputs": [
        {
          "output_type": "execute_result",
          "data": {
            "text/plain": [
              "0.5891363617224187"
            ]
          },
          "metadata": {},
          "execution_count": 105
        }
      ]
    },
    {
      "cell_type": "code",
      "source": [
        "gdb.fit(X_train,y_train)\n",
        "gdb_model_prediction = gdb.predict(X_test)"
      ],
      "metadata": {
        "id": "MWmQRA-AdERA"
      },
      "execution_count": null,
      "outputs": []
    },
    {
      "cell_type": "code",
      "source": [
        "gdb_mse_best = metrics.mean_squared_error(y_test, gdb_model_prediction)\n",
        "gdb_mae_best = metrics.mean_absolute_error(y_test, gdb_model_prediction)\n",
        "gdb_rmse_best = np.sqrt(gdb_mse_best)\n",
        "gdb_r2_best = metrics.r2_score(y_test, gdb_model_prediction)\n",
        "\n",
        "print(\"Mean Squared Error: {}\".format(gdb_mse_best))\n",
        "print(\"Mean Absolute Error: {}\".format(gdb_mae_best))\n",
        "print(\"Root Mean Absolute Error: {}\".format(gdb_rmse_best))\n",
        "print(\"R2 score: {}\".format(gdb_r2_best))"
      ],
      "metadata": {
        "id": "MkAo8njidIMh",
        "colab": {
          "base_uri": "https://localhost:8080/"
        },
        "outputId": "b898c6a8-9f9d-43f7-a6c4-1d96d05f94a7"
      },
      "execution_count": null,
      "outputs": [
        {
          "output_type": "stream",
          "name": "stdout",
          "text": [
            "Mean Squared Error: 0.14040306225423982\n",
            "Mean Absolute Error: 0.28413290511789824\n",
            "Root Mean Absolute Error: 0.3747039661576053\n",
            "R2 score: 0.5871626876466252\n"
          ]
        }
      ]
    },
    {
      "cell_type": "markdown",
      "source": [
        "##Random Forest"
      ],
      "metadata": {
        "id": "7N26kOgS6p_V"
      }
    },
    {
      "cell_type": "code",
      "source": [
        "from sklearn.ensemble import RandomForestRegressor\n",
        "rf=RandomForestRegressor(n_estimators=80, random_state=42)\n",
        "rf_gdb=cross_val_score(rf,X_train,y_train,cv=5,scoring='r2')\n",
        "rf_gdb"
      ],
      "metadata": {
        "id": "8z4_QP096LeJ",
        "colab": {
          "base_uri": "https://localhost:8080/"
        },
        "outputId": "fb48bfdb-9d6f-4608-ea3e-74c13afc05ef"
      },
      "execution_count": null,
      "outputs": [
        {
          "output_type": "execute_result",
          "data": {
            "text/plain": [
              "array([0.60842084, 0.54907026, 0.50246785, 0.5362923 , 0.5140004 ])"
            ]
          },
          "metadata": {},
          "execution_count": 108
        }
      ]
    },
    {
      "cell_type": "code",
      "source": [
        "rf_gdb.mean()"
      ],
      "metadata": {
        "id": "Hz81fYcZ6J2D",
        "colab": {
          "base_uri": "https://localhost:8080/"
        },
        "outputId": "0af6d652-a2fa-421b-99be-0e939d999e32"
      },
      "execution_count": null,
      "outputs": [
        {
          "output_type": "execute_result",
          "data": {
            "text/plain": [
              "0.5420503288644785"
            ]
          },
          "metadata": {},
          "execution_count": 109
        }
      ]
    },
    {
      "cell_type": "code",
      "source": [
        "rf.fit(X_train,y_train)\n",
        "rf_model_prediction = rf.predict(X_test)"
      ],
      "metadata": {
        "id": "ok_EDzmP6wHB"
      },
      "execution_count": null,
      "outputs": []
    },
    {
      "cell_type": "code",
      "source": [
        "rf_mse_best = metrics.mean_squared_error(y_test, rf_model_prediction)\n",
        "rf_mae_best = metrics.mean_absolute_error(y_test, rf_model_prediction)\n",
        "rf_rmse_best = np.sqrt(rf_mse_best)\n",
        "rf_r2_best = metrics.r2_score(y_test, rf_model_prediction)\n",
        "\n",
        "print(\"Mean Squared Error: {}\".format(rf_mse_best))\n",
        "print(\"Mean Absolute Error: {}\".format(rf_mae_best))\n",
        "print(\"Root Mean Absolute Error: {}\".format(rf_rmse_best))\n",
        "print(\"R2 score: {}\".format(rf_r2_best))"
      ],
      "metadata": {
        "id": "-m163kLu6906",
        "colab": {
          "base_uri": "https://localhost:8080/"
        },
        "outputId": "a04a985b-fd0e-4b08-d84d-51877e42aaf1"
      },
      "execution_count": null,
      "outputs": [
        {
          "output_type": "stream",
          "name": "stdout",
          "text": [
            "Mean Squared Error: 0.15361698016988942\n",
            "Mean Absolute Error: 0.2950121948221137\n",
            "Root Mean Absolute Error: 0.3919400211382979\n",
            "R2 score: 0.5483088459257325\n"
          ]
        }
      ]
    },
    {
      "cell_type": "markdown",
      "source": [
        "##EVAL"
      ],
      "metadata": {
        "id": "4hKxxXX52F_U"
      }
    },
    {
      "cell_type": "code",
      "source": [
        "model_eval = pd.DataFrame({'Model': ['Linear Regression','Ridge Regression', 'Lasso Regression', 'XGboost' , 'Gradient'],\n",
        "                           'MSE': [linear_rmse,ridge_mse_best,lasso_mse_best,xgb_mse_best, gdb_mse_best],\n",
        "                           'MAE': [linear_mae,ridge_mae_best,lasso_mae_best, xgb_mae_best, gdb_mae_best],\n",
        "                           'RMAE': [linear_rmse, ridge_rmse_best,lasso_rmse_best, xgb_rmse_best, gdb_rmse_best],\n",
        "                           'R2': [linear_r2,ridge_r2_best,lasso_r2_best,xgb_r2_best,gdb_r2_best]})\n",
        "model_eval"
      ],
      "metadata": {
        "id": "gFC8N0IB1klO",
        "colab": {
          "base_uri": "https://localhost:8080/"
        },
        "outputId": "a8c0e9ed-337b-4d42-f402-a25eb1e56bc5"
      },
      "execution_count": null,
      "outputs": [
        {
          "output_type": "execute_result",
          "data": {
            "text/plain": [
              "               Model       MSE       MAE      RMAE        R2\n",
              "0  Linear Regression  0.372993  0.280727  0.372993  0.590924\n",
              "1   Ridge Regression  0.139124  0.280730  0.372994  0.590922\n",
              "2   Lasso Regression  0.144620  0.285837  0.380290  0.574762\n",
              "3            XGboost  0.124604  0.263640  0.352993  0.633619\n",
              "4           Gradient  0.140403  0.284133  0.374704  0.587163"
            ],
            "text/html": [
              "\n",
              "  <div id=\"df-99f3c424-59f8-43ba-95c1-d72bb9818f1c\">\n",
              "    <div class=\"colab-df-container\">\n",
              "      <div>\n",
              "<style scoped>\n",
              "    .dataframe tbody tr th:only-of-type {\n",
              "        vertical-align: middle;\n",
              "    }\n",
              "\n",
              "    .dataframe tbody tr th {\n",
              "        vertical-align: top;\n",
              "    }\n",
              "\n",
              "    .dataframe thead th {\n",
              "        text-align: right;\n",
              "    }\n",
              "</style>\n",
              "<table border=\"1\" class=\"dataframe\">\n",
              "  <thead>\n",
              "    <tr style=\"text-align: right;\">\n",
              "      <th></th>\n",
              "      <th>Model</th>\n",
              "      <th>MSE</th>\n",
              "      <th>MAE</th>\n",
              "      <th>RMAE</th>\n",
              "      <th>R2</th>\n",
              "    </tr>\n",
              "  </thead>\n",
              "  <tbody>\n",
              "    <tr>\n",
              "      <th>0</th>\n",
              "      <td>Linear Regression</td>\n",
              "      <td>0.372993</td>\n",
              "      <td>0.280727</td>\n",
              "      <td>0.372993</td>\n",
              "      <td>0.590924</td>\n",
              "    </tr>\n",
              "    <tr>\n",
              "      <th>1</th>\n",
              "      <td>Ridge Regression</td>\n",
              "      <td>0.139124</td>\n",
              "      <td>0.280730</td>\n",
              "      <td>0.372994</td>\n",
              "      <td>0.590922</td>\n",
              "    </tr>\n",
              "    <tr>\n",
              "      <th>2</th>\n",
              "      <td>Lasso Regression</td>\n",
              "      <td>0.144620</td>\n",
              "      <td>0.285837</td>\n",
              "      <td>0.380290</td>\n",
              "      <td>0.574762</td>\n",
              "    </tr>\n",
              "    <tr>\n",
              "      <th>3</th>\n",
              "      <td>XGboost</td>\n",
              "      <td>0.124604</td>\n",
              "      <td>0.263640</td>\n",
              "      <td>0.352993</td>\n",
              "      <td>0.633619</td>\n",
              "    </tr>\n",
              "    <tr>\n",
              "      <th>4</th>\n",
              "      <td>Gradient</td>\n",
              "      <td>0.140403</td>\n",
              "      <td>0.284133</td>\n",
              "      <td>0.374704</td>\n",
              "      <td>0.587163</td>\n",
              "    </tr>\n",
              "  </tbody>\n",
              "</table>\n",
              "</div>\n",
              "      <button class=\"colab-df-convert\" onclick=\"convertToInteractive('df-99f3c424-59f8-43ba-95c1-d72bb9818f1c')\"\n",
              "              title=\"Convert this dataframe to an interactive table.\"\n",
              "              style=\"display:none;\">\n",
              "        \n",
              "  <svg xmlns=\"http://www.w3.org/2000/svg\" height=\"24px\"viewBox=\"0 0 24 24\"\n",
              "       width=\"24px\">\n",
              "    <path d=\"M0 0h24v24H0V0z\" fill=\"none\"/>\n",
              "    <path d=\"M18.56 5.44l.94 2.06.94-2.06 2.06-.94-2.06-.94-.94-2.06-.94 2.06-2.06.94zm-11 1L8.5 8.5l.94-2.06 2.06-.94-2.06-.94L8.5 2.5l-.94 2.06-2.06.94zm10 10l.94 2.06.94-2.06 2.06-.94-2.06-.94-.94-2.06-.94 2.06-2.06.94z\"/><path d=\"M17.41 7.96l-1.37-1.37c-.4-.4-.92-.59-1.43-.59-.52 0-1.04.2-1.43.59L10.3 9.45l-7.72 7.72c-.78.78-.78 2.05 0 2.83L4 21.41c.39.39.9.59 1.41.59.51 0 1.02-.2 1.41-.59l7.78-7.78 2.81-2.81c.8-.78.8-2.07 0-2.86zM5.41 20L4 18.59l7.72-7.72 1.47 1.35L5.41 20z\"/>\n",
              "  </svg>\n",
              "      </button>\n",
              "      \n",
              "  <style>\n",
              "    .colab-df-container {\n",
              "      display:flex;\n",
              "      flex-wrap:wrap;\n",
              "      gap: 12px;\n",
              "    }\n",
              "\n",
              "    .colab-df-convert {\n",
              "      background-color: #E8F0FE;\n",
              "      border: none;\n",
              "      border-radius: 50%;\n",
              "      cursor: pointer;\n",
              "      display: none;\n",
              "      fill: #1967D2;\n",
              "      height: 32px;\n",
              "      padding: 0 0 0 0;\n",
              "      width: 32px;\n",
              "    }\n",
              "\n",
              "    .colab-df-convert:hover {\n",
              "      background-color: #E2EBFA;\n",
              "      box-shadow: 0px 1px 2px rgba(60, 64, 67, 0.3), 0px 1px 3px 1px rgba(60, 64, 67, 0.15);\n",
              "      fill: #174EA6;\n",
              "    }\n",
              "\n",
              "    [theme=dark] .colab-df-convert {\n",
              "      background-color: #3B4455;\n",
              "      fill: #D2E3FC;\n",
              "    }\n",
              "\n",
              "    [theme=dark] .colab-df-convert:hover {\n",
              "      background-color: #434B5C;\n",
              "      box-shadow: 0px 1px 3px 1px rgba(0, 0, 0, 0.15);\n",
              "      filter: drop-shadow(0px 1px 2px rgba(0, 0, 0, 0.3));\n",
              "      fill: #FFFFFF;\n",
              "    }\n",
              "  </style>\n",
              "\n",
              "      <script>\n",
              "        const buttonEl =\n",
              "          document.querySelector('#df-99f3c424-59f8-43ba-95c1-d72bb9818f1c button.colab-df-convert');\n",
              "        buttonEl.style.display =\n",
              "          google.colab.kernel.accessAllowed ? 'block' : 'none';\n",
              "\n",
              "        async function convertToInteractive(key) {\n",
              "          const element = document.querySelector('#df-99f3c424-59f8-43ba-95c1-d72bb9818f1c');\n",
              "          const dataTable =\n",
              "            await google.colab.kernel.invokeFunction('convertToInteractive',\n",
              "                                                     [key], {});\n",
              "          if (!dataTable) return;\n",
              "\n",
              "          const docLinkHtml = 'Like what you see? Visit the ' +\n",
              "            '<a target=\"_blank\" href=https://colab.research.google.com/notebooks/data_table.ipynb>data table notebook</a>'\n",
              "            + ' to learn more about interactive tables.';\n",
              "          element.innerHTML = '';\n",
              "          dataTable['output_type'] = 'display_data';\n",
              "          await google.colab.output.renderOutput(dataTable, element);\n",
              "          const docLink = document.createElement('div');\n",
              "          docLink.innerHTML = docLinkHtml;\n",
              "          element.appendChild(docLink);\n",
              "        }\n",
              "      </script>\n",
              "    </div>\n",
              "  </div>\n",
              "  "
            ]
          },
          "metadata": {},
          "execution_count": 112
        }
      ]
    },
    {
      "cell_type": "markdown",
      "source": [
        "##Fair price"
      ],
      "metadata": {
        "id": "zHWXd5aA59Q9"
      }
    },
    {
      "cell_type": "code",
      "source": [
        "x = fairprice.drop('price',axis=1)\n",
        "y = fairprice['price']"
      ],
      "metadata": {
        "id": "odjMz0kjwmgb"
      },
      "execution_count": null,
      "outputs": []
    },
    {
      "cell_type": "code",
      "source": [
        "from sklearn.preprocessing import StandardScaler\n",
        "# sc= StandardScaler()\n",
        "# x=sc.fit_transform(x)"
      ],
      "metadata": {
        "id": "kgkPRaJ8wjFa"
      },
      "execution_count": null,
      "outputs": []
    },
    {
      "cell_type": "code",
      "source": [
        "fair_prediction_xgb = xgb.predict(x)"
      ],
      "metadata": {
        "id": "LxdbJeKjwcGn"
      },
      "execution_count": null,
      "outputs": []
    },
    {
      "cell_type": "code",
      "source": [
        "fair_prediction_xgb"
      ],
      "metadata": {
        "id": "5RoVM6Lhw2K2",
        "colab": {
          "base_uri": "https://localhost:8080/"
        },
        "outputId": "a98d6a0b-ffb6-44ce-ea9b-d8bcb03105c8"
      },
      "execution_count": null,
      "outputs": [
        {
          "output_type": "execute_result",
          "data": {
            "text/plain": [
              "array([4.961637], dtype=float32)"
            ]
          },
          "metadata": {},
          "execution_count": 116
        }
      ]
    },
    {
      "cell_type": "code",
      "source": [
        "col=['logprice']\n",
        "prc = pd.DataFrame(fair_prediction_xgb,columns=col)"
      ],
      "metadata": {
        "id": "-Exsu_uYw90a"
      },
      "execution_count": null,
      "outputs": []
    },
    {
      "cell_type": "code",
      "source": [
        "prc[\"price\"] = np.exp(prc.logprice)-1"
      ],
      "metadata": {
        "id": "Xjr3zR7hxC6d"
      },
      "execution_count": null,
      "outputs": []
    },
    {
      "cell_type": "code",
      "source": [
        "prc"
      ],
      "metadata": {
        "id": "9KWBFhF3xEG0",
        "colab": {
          "base_uri": "https://localhost:8080/",
          "height": 81
        },
        "outputId": "f4da51b1-cc92-46a2-d1cb-e4bf409dff00"
      },
      "execution_count": null,
      "outputs": [
        {
          "output_type": "execute_result",
          "data": {
            "text/plain": [
              "   logprice       price\n",
              "0  4.961637  141.827408"
            ],
            "text/html": [
              "\n",
              "  <div id=\"df-78b8ea8a-99eb-4828-bc21-c3594bba7601\">\n",
              "    <div class=\"colab-df-container\">\n",
              "      <div>\n",
              "<style scoped>\n",
              "    .dataframe tbody tr th:only-of-type {\n",
              "        vertical-align: middle;\n",
              "    }\n",
              "\n",
              "    .dataframe tbody tr th {\n",
              "        vertical-align: top;\n",
              "    }\n",
              "\n",
              "    .dataframe thead th {\n",
              "        text-align: right;\n",
              "    }\n",
              "</style>\n",
              "<table border=\"1\" class=\"dataframe\">\n",
              "  <thead>\n",
              "    <tr style=\"text-align: right;\">\n",
              "      <th></th>\n",
              "      <th>logprice</th>\n",
              "      <th>price</th>\n",
              "    </tr>\n",
              "  </thead>\n",
              "  <tbody>\n",
              "    <tr>\n",
              "      <th>0</th>\n",
              "      <td>4.961637</td>\n",
              "      <td>141.827408</td>\n",
              "    </tr>\n",
              "  </tbody>\n",
              "</table>\n",
              "</div>\n",
              "      <button class=\"colab-df-convert\" onclick=\"convertToInteractive('df-78b8ea8a-99eb-4828-bc21-c3594bba7601')\"\n",
              "              title=\"Convert this dataframe to an interactive table.\"\n",
              "              style=\"display:none;\">\n",
              "        \n",
              "  <svg xmlns=\"http://www.w3.org/2000/svg\" height=\"24px\"viewBox=\"0 0 24 24\"\n",
              "       width=\"24px\">\n",
              "    <path d=\"M0 0h24v24H0V0z\" fill=\"none\"/>\n",
              "    <path d=\"M18.56 5.44l.94 2.06.94-2.06 2.06-.94-2.06-.94-.94-2.06-.94 2.06-2.06.94zm-11 1L8.5 8.5l.94-2.06 2.06-.94-2.06-.94L8.5 2.5l-.94 2.06-2.06.94zm10 10l.94 2.06.94-2.06 2.06-.94-2.06-.94-.94-2.06-.94 2.06-2.06.94z\"/><path d=\"M17.41 7.96l-1.37-1.37c-.4-.4-.92-.59-1.43-.59-.52 0-1.04.2-1.43.59L10.3 9.45l-7.72 7.72c-.78.78-.78 2.05 0 2.83L4 21.41c.39.39.9.59 1.41.59.51 0 1.02-.2 1.41-.59l7.78-7.78 2.81-2.81c.8-.78.8-2.07 0-2.86zM5.41 20L4 18.59l7.72-7.72 1.47 1.35L5.41 20z\"/>\n",
              "  </svg>\n",
              "      </button>\n",
              "      \n",
              "  <style>\n",
              "    .colab-df-container {\n",
              "      display:flex;\n",
              "      flex-wrap:wrap;\n",
              "      gap: 12px;\n",
              "    }\n",
              "\n",
              "    .colab-df-convert {\n",
              "      background-color: #E8F0FE;\n",
              "      border: none;\n",
              "      border-radius: 50%;\n",
              "      cursor: pointer;\n",
              "      display: none;\n",
              "      fill: #1967D2;\n",
              "      height: 32px;\n",
              "      padding: 0 0 0 0;\n",
              "      width: 32px;\n",
              "    }\n",
              "\n",
              "    .colab-df-convert:hover {\n",
              "      background-color: #E2EBFA;\n",
              "      box-shadow: 0px 1px 2px rgba(60, 64, 67, 0.3), 0px 1px 3px 1px rgba(60, 64, 67, 0.15);\n",
              "      fill: #174EA6;\n",
              "    }\n",
              "\n",
              "    [theme=dark] .colab-df-convert {\n",
              "      background-color: #3B4455;\n",
              "      fill: #D2E3FC;\n",
              "    }\n",
              "\n",
              "    [theme=dark] .colab-df-convert:hover {\n",
              "      background-color: #434B5C;\n",
              "      box-shadow: 0px 1px 3px 1px rgba(0, 0, 0, 0.15);\n",
              "      filter: drop-shadow(0px 1px 2px rgba(0, 0, 0, 0.3));\n",
              "      fill: #FFFFFF;\n",
              "    }\n",
              "  </style>\n",
              "\n",
              "      <script>\n",
              "        const buttonEl =\n",
              "          document.querySelector('#df-78b8ea8a-99eb-4828-bc21-c3594bba7601 button.colab-df-convert');\n",
              "        buttonEl.style.display =\n",
              "          google.colab.kernel.accessAllowed ? 'block' : 'none';\n",
              "\n",
              "        async function convertToInteractive(key) {\n",
              "          const element = document.querySelector('#df-78b8ea8a-99eb-4828-bc21-c3594bba7601');\n",
              "          const dataTable =\n",
              "            await google.colab.kernel.invokeFunction('convertToInteractive',\n",
              "                                                     [key], {});\n",
              "          if (!dataTable) return;\n",
              "\n",
              "          const docLinkHtml = 'Like what you see? Visit the ' +\n",
              "            '<a target=\"_blank\" href=https://colab.research.google.com/notebooks/data_table.ipynb>data table notebook</a>'\n",
              "            + ' to learn more about interactive tables.';\n",
              "          element.innerHTML = '';\n",
              "          dataTable['output_type'] = 'display_data';\n",
              "          await google.colab.output.renderOutput(dataTable, element);\n",
              "          const docLink = document.createElement('div');\n",
              "          docLink.innerHTML = docLinkHtml;\n",
              "          element.appendChild(docLink);\n",
              "        }\n",
              "      </script>\n",
              "    </div>\n",
              "  </div>\n",
              "  "
            ]
          },
          "metadata": {},
          "execution_count": 119
        }
      ]
    },
    {
      "cell_type": "markdown",
      "source": [
        "##Fair price 2"
      ],
      "metadata": {
        "id": "17mTO_wr1O85"
      }
    },
    {
      "cell_type": "code",
      "source": [
        "x = fairprice2.drop('price',axis=1)\n",
        "y = fairprice2['price']"
      ],
      "metadata": {
        "id": "BO58XvOh1VdB"
      },
      "execution_count": null,
      "outputs": []
    },
    {
      "cell_type": "code",
      "source": [
        "fair_prediction_xgb = xgb.predict(x)"
      ],
      "metadata": {
        "id": "eCHHOIbf1bux"
      },
      "execution_count": null,
      "outputs": []
    },
    {
      "cell_type": "code",
      "source": [
        "fair_prediction_xgb"
      ],
      "metadata": {
        "id": "NSZZtskh1eHc",
        "colab": {
          "base_uri": "https://localhost:8080/"
        },
        "outputId": "18fea735-d2d9-44ac-cf70-7e4eed2e3326"
      },
      "execution_count": null,
      "outputs": [
        {
          "output_type": "execute_result",
          "data": {
            "text/plain": [
              "array([4.6993384], dtype=float32)"
            ]
          },
          "metadata": {},
          "execution_count": 122
        }
      ]
    },
    {
      "cell_type": "code",
      "source": [
        "col=['logprice']\n",
        "prc = pd.DataFrame(fair_prediction_xgb,columns=col)"
      ],
      "metadata": {
        "id": "68bmVG481gfm"
      },
      "execution_count": null,
      "outputs": []
    },
    {
      "cell_type": "code",
      "source": [
        "prc[\"price\"] = np.exp(prc.logprice)-1"
      ],
      "metadata": {
        "id": "AfOeF7XT1icL"
      },
      "execution_count": null,
      "outputs": []
    },
    {
      "cell_type": "code",
      "source": [
        "prc"
      ],
      "metadata": {
        "id": "7q2LcXwu1jeJ",
        "colab": {
          "base_uri": "https://localhost:8080/",
          "height": 81
        },
        "outputId": "9c665a79-d9b8-40c7-eca0-53aaeb57374b"
      },
      "execution_count": null,
      "outputs": [
        {
          "output_type": "execute_result",
          "data": {
            "text/plain": [
              "   logprice       price\n",
              "0  4.699338  108.874458"
            ],
            "text/html": [
              "\n",
              "  <div id=\"df-2cbfc4ab-bd68-4bdd-a53e-6a3722fa9aef\">\n",
              "    <div class=\"colab-df-container\">\n",
              "      <div>\n",
              "<style scoped>\n",
              "    .dataframe tbody tr th:only-of-type {\n",
              "        vertical-align: middle;\n",
              "    }\n",
              "\n",
              "    .dataframe tbody tr th {\n",
              "        vertical-align: top;\n",
              "    }\n",
              "\n",
              "    .dataframe thead th {\n",
              "        text-align: right;\n",
              "    }\n",
              "</style>\n",
              "<table border=\"1\" class=\"dataframe\">\n",
              "  <thead>\n",
              "    <tr style=\"text-align: right;\">\n",
              "      <th></th>\n",
              "      <th>logprice</th>\n",
              "      <th>price</th>\n",
              "    </tr>\n",
              "  </thead>\n",
              "  <tbody>\n",
              "    <tr>\n",
              "      <th>0</th>\n",
              "      <td>4.699338</td>\n",
              "      <td>108.874458</td>\n",
              "    </tr>\n",
              "  </tbody>\n",
              "</table>\n",
              "</div>\n",
              "      <button class=\"colab-df-convert\" onclick=\"convertToInteractive('df-2cbfc4ab-bd68-4bdd-a53e-6a3722fa9aef')\"\n",
              "              title=\"Convert this dataframe to an interactive table.\"\n",
              "              style=\"display:none;\">\n",
              "        \n",
              "  <svg xmlns=\"http://www.w3.org/2000/svg\" height=\"24px\"viewBox=\"0 0 24 24\"\n",
              "       width=\"24px\">\n",
              "    <path d=\"M0 0h24v24H0V0z\" fill=\"none\"/>\n",
              "    <path d=\"M18.56 5.44l.94 2.06.94-2.06 2.06-.94-2.06-.94-.94-2.06-.94 2.06-2.06.94zm-11 1L8.5 8.5l.94-2.06 2.06-.94-2.06-.94L8.5 2.5l-.94 2.06-2.06.94zm10 10l.94 2.06.94-2.06 2.06-.94-2.06-.94-.94-2.06-.94 2.06-2.06.94z\"/><path d=\"M17.41 7.96l-1.37-1.37c-.4-.4-.92-.59-1.43-.59-.52 0-1.04.2-1.43.59L10.3 9.45l-7.72 7.72c-.78.78-.78 2.05 0 2.83L4 21.41c.39.39.9.59 1.41.59.51 0 1.02-.2 1.41-.59l7.78-7.78 2.81-2.81c.8-.78.8-2.07 0-2.86zM5.41 20L4 18.59l7.72-7.72 1.47 1.35L5.41 20z\"/>\n",
              "  </svg>\n",
              "      </button>\n",
              "      \n",
              "  <style>\n",
              "    .colab-df-container {\n",
              "      display:flex;\n",
              "      flex-wrap:wrap;\n",
              "      gap: 12px;\n",
              "    }\n",
              "\n",
              "    .colab-df-convert {\n",
              "      background-color: #E8F0FE;\n",
              "      border: none;\n",
              "      border-radius: 50%;\n",
              "      cursor: pointer;\n",
              "      display: none;\n",
              "      fill: #1967D2;\n",
              "      height: 32px;\n",
              "      padding: 0 0 0 0;\n",
              "      width: 32px;\n",
              "    }\n",
              "\n",
              "    .colab-df-convert:hover {\n",
              "      background-color: #E2EBFA;\n",
              "      box-shadow: 0px 1px 2px rgba(60, 64, 67, 0.3), 0px 1px 3px 1px rgba(60, 64, 67, 0.15);\n",
              "      fill: #174EA6;\n",
              "    }\n",
              "\n",
              "    [theme=dark] .colab-df-convert {\n",
              "      background-color: #3B4455;\n",
              "      fill: #D2E3FC;\n",
              "    }\n",
              "\n",
              "    [theme=dark] .colab-df-convert:hover {\n",
              "      background-color: #434B5C;\n",
              "      box-shadow: 0px 1px 3px 1px rgba(0, 0, 0, 0.15);\n",
              "      filter: drop-shadow(0px 1px 2px rgba(0, 0, 0, 0.3));\n",
              "      fill: #FFFFFF;\n",
              "    }\n",
              "  </style>\n",
              "\n",
              "      <script>\n",
              "        const buttonEl =\n",
              "          document.querySelector('#df-2cbfc4ab-bd68-4bdd-a53e-6a3722fa9aef button.colab-df-convert');\n",
              "        buttonEl.style.display =\n",
              "          google.colab.kernel.accessAllowed ? 'block' : 'none';\n",
              "\n",
              "        async function convertToInteractive(key) {\n",
              "          const element = document.querySelector('#df-2cbfc4ab-bd68-4bdd-a53e-6a3722fa9aef');\n",
              "          const dataTable =\n",
              "            await google.colab.kernel.invokeFunction('convertToInteractive',\n",
              "                                                     [key], {});\n",
              "          if (!dataTable) return;\n",
              "\n",
              "          const docLinkHtml = 'Like what you see? Visit the ' +\n",
              "            '<a target=\"_blank\" href=https://colab.research.google.com/notebooks/data_table.ipynb>data table notebook</a>'\n",
              "            + ' to learn more about interactive tables.';\n",
              "          element.innerHTML = '';\n",
              "          dataTable['output_type'] = 'display_data';\n",
              "          await google.colab.output.renderOutput(dataTable, element);\n",
              "          const docLink = document.createElement('div');\n",
              "          docLink.innerHTML = docLinkHtml;\n",
              "          element.appendChild(docLink);\n",
              "        }\n",
              "      </script>\n",
              "    </div>\n",
              "  </div>\n",
              "  "
            ]
          },
          "metadata": {},
          "execution_count": 125
        }
      ]
    }
  ],
  "metadata": {
    "colab": {
      "collapsed_sections": [
        "1VcP1w9tjq-e",
        "fV8ZtcCBBDaN",
        "J12usjGpL_ZL",
        "Ws_kl-KgMv7R",
        "O_3k3BZ8hmdR",
        "Ob3FNjhurfnG",
        "7AKPvJofSQoO",
        "be612wk5SeQ6",
        "78K3Q7CW1Jld",
        "i5T_gVHu1Om-",
        "QKcVGV2U2knA",
        "Hqc9fDSX40Ro",
        "C7YK4ai3fPJm",
        "7N26kOgS6p_V",
        "4hKxxXX52F_U"
      ],
      "provenance": []
    },
    "kernelspec": {
      "display_name": "Python 3",
      "name": "python3"
    },
    "language_info": {
      "name": "python"
    }
  },
  "nbformat": 4,
  "nbformat_minor": 0
}