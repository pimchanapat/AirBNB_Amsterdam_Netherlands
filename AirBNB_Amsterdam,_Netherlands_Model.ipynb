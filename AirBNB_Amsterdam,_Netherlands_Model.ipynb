{
  "nbformat": 4,
  "nbformat_minor": 0,
  "metadata": {
    "colab": {
      "provenance": [],
      "machine_shape": "hm",
      "collapsed_sections": [
        "6k0B6llbUPpG",
        "U_a4X7gG9_B8",
        "eHe590u5UUUY",
        "5ai7QXFaVr81",
        "MC2ySj38UudL",
        "x9YpovzXGipk",
        "Pwt0dWmQG0bB",
        "n3oX8JDtDZcq",
        "RiWYDYc2hHn6",
        "264MkCEGhLXP",
        "OeJ2fKujok7x",
        "xbkAE0I8xXoM",
        "0XAA-zjtxY9J",
        "77wvwPsnxl4Y",
        "7NGj-RL8jsh9",
        "6kiZ5LplvG4a",
        "lKkp6FtHwvns",
        "Z5O_5UZl3jCJ",
        "nkrKo5iodEgR"
      ]
    },
    "kernelspec": {
      "name": "python3",
      "display_name": "Python 3"
    },
    "language_info": {
      "name": "python"
    },
    "accelerator": "GPU",
    "gpuClass": "standard"
  },
  "cells": [
    {
      "cell_type": "markdown",
      "source": [
        "# 1. Import Library and Data"
      ],
      "metadata": {
        "id": "xIvhPU_Lfx7u"
      }
    },
    {
      "cell_type": "code",
      "execution_count": null,
      "metadata": {
        "id": "39h0Fyqq_7yW"
      },
      "outputs": [],
      "source": [
        "import pandas as pd\n",
        "import numpy as np\n",
        "import seaborn as sns\n",
        "import matplotlib.pyplot as plt"
      ]
    },
    {
      "cell_type": "code",
      "source": [
        "from google.colab import drive\n",
        "drive.mount('/content/drive')"
      ],
      "metadata": {
        "colab": {
          "base_uri": "https://localhost:8080/"
        },
        "id": "Ujt7Foz2AJOL",
        "outputId": "cb9925f3-daea-4913-a4c9-99a59e159a28"
      },
      "execution_count": null,
      "outputs": [
        {
          "output_type": "stream",
          "name": "stdout",
          "text": [
            "Mounted at /content/drive\n"
          ]
        }
      ]
    },
    {
      "cell_type": "code",
      "source": [
        "#Pim\n",
        "#calendar= \"/content/drive/MyDrive/KDAI/Semester 2 1/Data Mining & Business Analytics/AirBNB/calendar070922.csv\"\n",
        "#listing = \"/content/drive/MyDrive/KDAI/Semester 2 1/Data Mining & Business Analytics/AirBNB/listingszip070922.csv\"\n",
        "#neighbour = \"/content/drive/MyDrive/AIrBNB/neighbourhoods.csv\"\n",
        "#neighbourjson = \"/content/drive/MyDrive/AIrBNB/neighbourhoods.geojson\"\n",
        "#review = \"/content/drive/MyDrive/AIrBNB/reviewszip.csv\"\n",
        "\n",
        "#cd=pd.read_csv(calendar)\n",
        "#bls=pd.read_csv(listing)\n",
        "#nb=pd.read_csv(neighbour)\n",
        "#rv=pd.read_csv(review)\n",
        "\n",
        "# Pim\n",
        "lszDec21 = pd.read_csv('/content/drive/MyDrive/KDAI/Semester 2 1/Data Mining & Business Analytics/AirBNB/listingszip_Dec21.csv')\n",
        "lszMar22 = pd.read_csv('/content/drive/MyDrive/KDAI/Semester 2 1/Data Mining & Business Analytics/AirBNB/listingszip_Mar22.csv')\n",
        "lszJun22 = pd.read_csv('/content/drive/MyDrive/KDAI/Semester 2 1/Data Mining & Business Analytics/AirBNB/listingszip_Jun22.csv')\n",
        "lszSep22 = pd.read_csv('/content/drive/MyDrive/KDAI/Semester 2 1/Data Mining & Business Analytics/AirBNB/listingszip_Sep22.csv')\n",
        "\n",
        "# calzDec21 = pd.read_csv('/content/drive/MyDrive/KDAI/Semester 2 1/Data Mining & Business Analytics/AirBNB/calendarzip_Dec21.csv')\n",
        "# calzMar22 = pd.read_csv('/content/drive/MyDrive/KDAI/Semester 2 1/Data Mining & Business Analytics/AirBNB/calendarzip_Mar22.csv')\n",
        "# calzJun22 = pd.read_csv('/content/drive/MyDrive/KDAI/Semester 2 1/Data Mining & Business Analytics/AirBNB/calendarzip_Jun22.csv')\n",
        "# calzSep22 = pd.read_csv('/content/drive/MyDrive/KDAI/Semester 2 1/Data Mining & Business Analytics/AirBNB/calendarzip_Sep22.csv')"
      ],
      "metadata": {
        "id": "u93OSboeAOoJ"
      },
      "execution_count": null,
      "outputs": []
    },
    {
      "cell_type": "markdown",
      "source": [
        "## Merge files"
      ],
      "metadata": {
        "id": "OHTrJKoDy1EK"
      }
    },
    {
      "cell_type": "markdown",
      "source": [
        "### Listings Zip"
      ],
      "metadata": {
        "id": "6k0B6llbUPpG"
      }
    },
    {
      "cell_type": "code",
      "source": [
        "merged_ls = [lszDec21, lszMar22, lszJun22, lszSep22]\n",
        "\n",
        "listings = pd.concat(merged_ls)\n",
        "listings.shape"
      ],
      "metadata": {
        "colab": {
          "base_uri": "https://localhost:8080/"
        },
        "id": "bEKCf7Iyzop1",
        "outputId": "da245059-426e-49f0-8e98-32610303413f"
      },
      "execution_count": null,
      "outputs": [
        {
          "output_type": "execute_result",
          "data": {
            "text/plain": [
              "(24354, 75)"
            ]
          },
          "metadata": {},
          "execution_count": 4
        }
      ]
    },
    {
      "cell_type": "code",
      "source": [
        "# listings.columns"
      ],
      "metadata": {
        "id": "eUux8NSiAgnm"
      },
      "execution_count": null,
      "outputs": []
    },
    {
      "cell_type": "markdown",
      "source": [
        "#### Drop duplicated data"
      ],
      "metadata": {
        "id": "U_a4X7gG9_B8"
      }
    },
    {
      "cell_type": "markdown",
      "source": [
        "**After merging, it's seem some lists have more than 1 record, means the same list but not the latest information.**"
      ],
      "metadata": {
        "id": "zlre7_eN0hil"
      }
    },
    {
      "cell_type": "code",
      "source": [
        "# listings[['id']].value_counts()"
      ],
      "metadata": {
        "id": "2s_zm8YJ1DUJ"
      },
      "execution_count": null,
      "outputs": []
    },
    {
      "cell_type": "code",
      "source": [
        "# listings[['id','last_scraped']].sort_values(['id','last_scraped'])"
      ],
      "metadata": {
        "id": "_0iCShex0Boc"
      },
      "execution_count": null,
      "outputs": []
    },
    {
      "cell_type": "code",
      "source": [
        "listings = listings.sort_values(['id','last_scraped']).drop_duplicates('id', keep='last')\n",
        "# listings.shape"
      ],
      "metadata": {
        "id": "uUHEHUnj-ZF4"
      },
      "execution_count": null,
      "outputs": []
    },
    {
      "cell_type": "code",
      "source": [
        "listings[['id','last_scraped']].sort_values(['id','last_scraped'])"
      ],
      "metadata": {
        "colab": {
          "base_uri": "https://localhost:8080/"
        },
        "id": "2irNF3P7NPPX",
        "outputId": "4deef44c-69d1-4e89-8938-3c3d9ff34589"
      },
      "execution_count": null,
      "outputs": [
        {
          "output_type": "execute_result",
          "data": {
            "text/plain": [
              "                      id last_scraped\n",
              "0                   2818   2022-09-07\n",
              "1                  20168   2022-09-07\n",
              "2                  27886   2022-09-07\n",
              "3                  28871   2022-09-07\n",
              "4                  29051   2022-09-07\n",
              "...                  ...          ...\n",
              "6388  709813617447029862   2022-09-07\n",
              "6389  709852157993854015   2022-09-07\n",
              "6390  709864107711873246   2022-09-07\n",
              "6391  709907213897529402   2022-09-07\n",
              "6392  709986109543860789   2022-09-07\n",
              "\n",
              "[8241 rows x 2 columns]"
            ],
            "text/html": [
              "\n",
              "  <div id=\"df-9ebc9712-e514-4469-8bdf-f348a6fc7b14\">\n",
              "    <div class=\"colab-df-container\">\n",
              "      <div>\n",
              "<style scoped>\n",
              "    .dataframe tbody tr th:only-of-type {\n",
              "        vertical-align: middle;\n",
              "    }\n",
              "\n",
              "    .dataframe tbody tr th {\n",
              "        vertical-align: top;\n",
              "    }\n",
              "\n",
              "    .dataframe thead th {\n",
              "        text-align: right;\n",
              "    }\n",
              "</style>\n",
              "<table border=\"1\" class=\"dataframe\">\n",
              "  <thead>\n",
              "    <tr style=\"text-align: right;\">\n",
              "      <th></th>\n",
              "      <th>id</th>\n",
              "      <th>last_scraped</th>\n",
              "    </tr>\n",
              "  </thead>\n",
              "  <tbody>\n",
              "    <tr>\n",
              "      <th>0</th>\n",
              "      <td>2818</td>\n",
              "      <td>2022-09-07</td>\n",
              "    </tr>\n",
              "    <tr>\n",
              "      <th>1</th>\n",
              "      <td>20168</td>\n",
              "      <td>2022-09-07</td>\n",
              "    </tr>\n",
              "    <tr>\n",
              "      <th>2</th>\n",
              "      <td>27886</td>\n",
              "      <td>2022-09-07</td>\n",
              "    </tr>\n",
              "    <tr>\n",
              "      <th>3</th>\n",
              "      <td>28871</td>\n",
              "      <td>2022-09-07</td>\n",
              "    </tr>\n",
              "    <tr>\n",
              "      <th>4</th>\n",
              "      <td>29051</td>\n",
              "      <td>2022-09-07</td>\n",
              "    </tr>\n",
              "    <tr>\n",
              "      <th>...</th>\n",
              "      <td>...</td>\n",
              "      <td>...</td>\n",
              "    </tr>\n",
              "    <tr>\n",
              "      <th>6388</th>\n",
              "      <td>709813617447029862</td>\n",
              "      <td>2022-09-07</td>\n",
              "    </tr>\n",
              "    <tr>\n",
              "      <th>6389</th>\n",
              "      <td>709852157993854015</td>\n",
              "      <td>2022-09-07</td>\n",
              "    </tr>\n",
              "    <tr>\n",
              "      <th>6390</th>\n",
              "      <td>709864107711873246</td>\n",
              "      <td>2022-09-07</td>\n",
              "    </tr>\n",
              "    <tr>\n",
              "      <th>6391</th>\n",
              "      <td>709907213897529402</td>\n",
              "      <td>2022-09-07</td>\n",
              "    </tr>\n",
              "    <tr>\n",
              "      <th>6392</th>\n",
              "      <td>709986109543860789</td>\n",
              "      <td>2022-09-07</td>\n",
              "    </tr>\n",
              "  </tbody>\n",
              "</table>\n",
              "<p>8241 rows × 2 columns</p>\n",
              "</div>\n",
              "      <button class=\"colab-df-convert\" onclick=\"convertToInteractive('df-9ebc9712-e514-4469-8bdf-f348a6fc7b14')\"\n",
              "              title=\"Convert this dataframe to an interactive table.\"\n",
              "              style=\"display:none;\">\n",
              "        \n",
              "  <svg xmlns=\"http://www.w3.org/2000/svg\" height=\"24px\"viewBox=\"0 0 24 24\"\n",
              "       width=\"24px\">\n",
              "    <path d=\"M0 0h24v24H0V0z\" fill=\"none\"/>\n",
              "    <path d=\"M18.56 5.44l.94 2.06.94-2.06 2.06-.94-2.06-.94-.94-2.06-.94 2.06-2.06.94zm-11 1L8.5 8.5l.94-2.06 2.06-.94-2.06-.94L8.5 2.5l-.94 2.06-2.06.94zm10 10l.94 2.06.94-2.06 2.06-.94-2.06-.94-.94-2.06-.94 2.06-2.06.94z\"/><path d=\"M17.41 7.96l-1.37-1.37c-.4-.4-.92-.59-1.43-.59-.52 0-1.04.2-1.43.59L10.3 9.45l-7.72 7.72c-.78.78-.78 2.05 0 2.83L4 21.41c.39.39.9.59 1.41.59.51 0 1.02-.2 1.41-.59l7.78-7.78 2.81-2.81c.8-.78.8-2.07 0-2.86zM5.41 20L4 18.59l7.72-7.72 1.47 1.35L5.41 20z\"/>\n",
              "  </svg>\n",
              "      </button>\n",
              "      \n",
              "  <style>\n",
              "    .colab-df-container {\n",
              "      display:flex;\n",
              "      flex-wrap:wrap;\n",
              "      gap: 12px;\n",
              "    }\n",
              "\n",
              "    .colab-df-convert {\n",
              "      background-color: #E8F0FE;\n",
              "      border: none;\n",
              "      border-radius: 50%;\n",
              "      cursor: pointer;\n",
              "      display: none;\n",
              "      fill: #1967D2;\n",
              "      height: 32px;\n",
              "      padding: 0 0 0 0;\n",
              "      width: 32px;\n",
              "    }\n",
              "\n",
              "    .colab-df-convert:hover {\n",
              "      background-color: #E2EBFA;\n",
              "      box-shadow: 0px 1px 2px rgba(60, 64, 67, 0.3), 0px 1px 3px 1px rgba(60, 64, 67, 0.15);\n",
              "      fill: #174EA6;\n",
              "    }\n",
              "\n",
              "    [theme=dark] .colab-df-convert {\n",
              "      background-color: #3B4455;\n",
              "      fill: #D2E3FC;\n",
              "    }\n",
              "\n",
              "    [theme=dark] .colab-df-convert:hover {\n",
              "      background-color: #434B5C;\n",
              "      box-shadow: 0px 1px 3px 1px rgba(0, 0, 0, 0.15);\n",
              "      filter: drop-shadow(0px 1px 2px rgba(0, 0, 0, 0.3));\n",
              "      fill: #FFFFFF;\n",
              "    }\n",
              "  </style>\n",
              "\n",
              "      <script>\n",
              "        const buttonEl =\n",
              "          document.querySelector('#df-9ebc9712-e514-4469-8bdf-f348a6fc7b14 button.colab-df-convert');\n",
              "        buttonEl.style.display =\n",
              "          google.colab.kernel.accessAllowed ? 'block' : 'none';\n",
              "\n",
              "        async function convertToInteractive(key) {\n",
              "          const element = document.querySelector('#df-9ebc9712-e514-4469-8bdf-f348a6fc7b14');\n",
              "          const dataTable =\n",
              "            await google.colab.kernel.invokeFunction('convertToInteractive',\n",
              "                                                     [key], {});\n",
              "          if (!dataTable) return;\n",
              "\n",
              "          const docLinkHtml = 'Like what you see? Visit the ' +\n",
              "            '<a target=\"_blank\" href=https://colab.research.google.com/notebooks/data_table.ipynb>data table notebook</a>'\n",
              "            + ' to learn more about interactive tables.';\n",
              "          element.innerHTML = '';\n",
              "          dataTable['output_type'] = 'display_data';\n",
              "          await google.colab.output.renderOutput(dataTable, element);\n",
              "          const docLink = document.createElement('div');\n",
              "          docLink.innerHTML = docLinkHtml;\n",
              "          element.appendChild(docLink);\n",
              "        }\n",
              "      </script>\n",
              "    </div>\n",
              "  </div>\n",
              "  "
            ]
          },
          "metadata": {},
          "execution_count": 9
        }
      ]
    },
    {
      "cell_type": "markdown",
      "source": [
        "**Duplicated data is gone!!**"
      ],
      "metadata": {
        "id": "cIYel7Yq-kZB"
      }
    },
    {
      "cell_type": "code",
      "source": [
        "# listings[['id']].value_counts()"
      ],
      "metadata": {
        "id": "Hel-SylY-hD_"
      },
      "execution_count": null,
      "outputs": []
    },
    {
      "cell_type": "code",
      "source": [
        "# listings[['id','last_scraped']].sort_values(['id','last_scraped'])"
      ],
      "metadata": {
        "id": "q7m1eO9fWEZS"
      },
      "execution_count": null,
      "outputs": []
    },
    {
      "cell_type": "markdown",
      "source": [
        "### Calendar Zip"
      ],
      "metadata": {
        "id": "eHe590u5UUUY"
      }
    },
    {
      "cell_type": "code",
      "source": [
        "# merged_cal = [calzDec21, calzMar22, calzJun22, calzSep22]\n",
        "\n",
        "# calendar = pd.concat(merged_cal)\n",
        "# calendar.shape"
      ],
      "metadata": {
        "colab": {
          "base_uri": "https://localhost:8080/"
        },
        "id": "x_oJRcStUa_I",
        "outputId": "ed9fec7e-67a3-4fbc-abd7-dbc14f62d989"
      },
      "execution_count": null,
      "outputs": [
        {
          "output_type": "execute_result",
          "data": {
            "text/plain": [
              "(8886286, 7)"
            ]
          },
          "metadata": {},
          "execution_count": 13
        }
      ]
    },
    {
      "cell_type": "code",
      "source": [
        "# calendar.columns"
      ],
      "metadata": {
        "colab": {
          "base_uri": "https://localhost:8080/"
        },
        "id": "8VWeAuPdUgjM",
        "outputId": "7421ae8a-49d6-45d8-c0a4-19b794f8f90b"
      },
      "execution_count": null,
      "outputs": [
        {
          "output_type": "execute_result",
          "data": {
            "text/plain": [
              "Index(['listing_id', 'date', 'available', 'price', 'adjusted_price',\n",
              "       'minimum_nights', 'maximum_nights'],\n",
              "      dtype='object')"
            ]
          },
          "metadata": {},
          "execution_count": 14
        }
      ]
    },
    {
      "cell_type": "markdown",
      "source": [
        "#### Drop duplicated data"
      ],
      "metadata": {
        "id": "5ai7QXFaVr81"
      }
    },
    {
      "cell_type": "code",
      "source": [
        "# calendar[['listing_id', 'date']].value_counts()"
      ],
      "metadata": {
        "colab": {
          "base_uri": "https://localhost:8080/"
        },
        "id": "ojhWIy46Vkdd",
        "outputId": "92b7792e-1fc1-4577-bba4-6c52832a7e3a"
      },
      "execution_count": null,
      "outputs": [
        {
          "output_type": "execute_result",
          "data": {
            "text/plain": [
              "listing_id          date      \n",
              "49904641            2022-11-03    4\n",
              "1928474             2022-12-01    4\n",
              "26265461            2022-09-23    4\n",
              "                    2022-09-22    4\n",
              "                    2022-09-21    4\n",
              "                                 ..\n",
              "29350903            2023-08-03    1\n",
              "                    2023-08-04    1\n",
              "                    2023-08-05    1\n",
              "                    2023-08-06    1\n",
              "709986109543860789  2023-09-06    1\n",
              "Length: 4506119, dtype: int64"
            ]
          },
          "metadata": {},
          "execution_count": 15
        }
      ]
    },
    {
      "cell_type": "code",
      "source": [
        "# calendar[['listing_id', 'date']].sort_values(['listing_id', 'date'])"
      ],
      "metadata": {
        "colab": {
          "base_uri": "https://localhost:8080/",
          "height": 424
        },
        "id": "GP4LsxYEVoTm",
        "outputId": "4340a418-4a73-452e-a6b1-9dfdd0224083"
      },
      "execution_count": null,
      "outputs": [
        {
          "output_type": "execute_result",
          "data": {
            "text/plain": [
              "                 listing_id        date\n",
              "50                     2818  2021-12-06\n",
              "51                     2818  2021-12-07\n",
              "52                     2818  2021-12-08\n",
              "53                     2818  2021-12-09\n",
              "54                     2818  2021-12-10\n",
              "...                     ...         ...\n",
              "1907846  709986109543860789  2023-09-02\n",
              "1907847  709986109543860789  2023-09-03\n",
              "1907848  709986109543860789  2023-09-04\n",
              "1907849  709986109543860789  2023-09-05\n",
              "1907850  709986109543860789  2023-09-06\n",
              "\n",
              "[8886286 rows x 2 columns]"
            ],
            "text/html": [
              "\n",
              "  <div id=\"df-9d9eec8e-d20a-4f10-8e9d-89e1cc32f68a\">\n",
              "    <div class=\"colab-df-container\">\n",
              "      <div>\n",
              "<style scoped>\n",
              "    .dataframe tbody tr th:only-of-type {\n",
              "        vertical-align: middle;\n",
              "    }\n",
              "\n",
              "    .dataframe tbody tr th {\n",
              "        vertical-align: top;\n",
              "    }\n",
              "\n",
              "    .dataframe thead th {\n",
              "        text-align: right;\n",
              "    }\n",
              "</style>\n",
              "<table border=\"1\" class=\"dataframe\">\n",
              "  <thead>\n",
              "    <tr style=\"text-align: right;\">\n",
              "      <th></th>\n",
              "      <th>listing_id</th>\n",
              "      <th>date</th>\n",
              "    </tr>\n",
              "  </thead>\n",
              "  <tbody>\n",
              "    <tr>\n",
              "      <th>50</th>\n",
              "      <td>2818</td>\n",
              "      <td>2021-12-06</td>\n",
              "    </tr>\n",
              "    <tr>\n",
              "      <th>51</th>\n",
              "      <td>2818</td>\n",
              "      <td>2021-12-07</td>\n",
              "    </tr>\n",
              "    <tr>\n",
              "      <th>52</th>\n",
              "      <td>2818</td>\n",
              "      <td>2021-12-08</td>\n",
              "    </tr>\n",
              "    <tr>\n",
              "      <th>53</th>\n",
              "      <td>2818</td>\n",
              "      <td>2021-12-09</td>\n",
              "    </tr>\n",
              "    <tr>\n",
              "      <th>54</th>\n",
              "      <td>2818</td>\n",
              "      <td>2021-12-10</td>\n",
              "    </tr>\n",
              "    <tr>\n",
              "      <th>...</th>\n",
              "      <td>...</td>\n",
              "      <td>...</td>\n",
              "    </tr>\n",
              "    <tr>\n",
              "      <th>1907846</th>\n",
              "      <td>709986109543860789</td>\n",
              "      <td>2023-09-02</td>\n",
              "    </tr>\n",
              "    <tr>\n",
              "      <th>1907847</th>\n",
              "      <td>709986109543860789</td>\n",
              "      <td>2023-09-03</td>\n",
              "    </tr>\n",
              "    <tr>\n",
              "      <th>1907848</th>\n",
              "      <td>709986109543860789</td>\n",
              "      <td>2023-09-04</td>\n",
              "    </tr>\n",
              "    <tr>\n",
              "      <th>1907849</th>\n",
              "      <td>709986109543860789</td>\n",
              "      <td>2023-09-05</td>\n",
              "    </tr>\n",
              "    <tr>\n",
              "      <th>1907850</th>\n",
              "      <td>709986109543860789</td>\n",
              "      <td>2023-09-06</td>\n",
              "    </tr>\n",
              "  </tbody>\n",
              "</table>\n",
              "<p>8886286 rows × 2 columns</p>\n",
              "</div>\n",
              "      <button class=\"colab-df-convert\" onclick=\"convertToInteractive('df-9d9eec8e-d20a-4f10-8e9d-89e1cc32f68a')\"\n",
              "              title=\"Convert this dataframe to an interactive table.\"\n",
              "              style=\"display:none;\">\n",
              "        \n",
              "  <svg xmlns=\"http://www.w3.org/2000/svg\" height=\"24px\"viewBox=\"0 0 24 24\"\n",
              "       width=\"24px\">\n",
              "    <path d=\"M0 0h24v24H0V0z\" fill=\"none\"/>\n",
              "    <path d=\"M18.56 5.44l.94 2.06.94-2.06 2.06-.94-2.06-.94-.94-2.06-.94 2.06-2.06.94zm-11 1L8.5 8.5l.94-2.06 2.06-.94-2.06-.94L8.5 2.5l-.94 2.06-2.06.94zm10 10l.94 2.06.94-2.06 2.06-.94-2.06-.94-.94-2.06-.94 2.06-2.06.94z\"/><path d=\"M17.41 7.96l-1.37-1.37c-.4-.4-.92-.59-1.43-.59-.52 0-1.04.2-1.43.59L10.3 9.45l-7.72 7.72c-.78.78-.78 2.05 0 2.83L4 21.41c.39.39.9.59 1.41.59.51 0 1.02-.2 1.41-.59l7.78-7.78 2.81-2.81c.8-.78.8-2.07 0-2.86zM5.41 20L4 18.59l7.72-7.72 1.47 1.35L5.41 20z\"/>\n",
              "  </svg>\n",
              "      </button>\n",
              "      \n",
              "  <style>\n",
              "    .colab-df-container {\n",
              "      display:flex;\n",
              "      flex-wrap:wrap;\n",
              "      gap: 12px;\n",
              "    }\n",
              "\n",
              "    .colab-df-convert {\n",
              "      background-color: #E8F0FE;\n",
              "      border: none;\n",
              "      border-radius: 50%;\n",
              "      cursor: pointer;\n",
              "      display: none;\n",
              "      fill: #1967D2;\n",
              "      height: 32px;\n",
              "      padding: 0 0 0 0;\n",
              "      width: 32px;\n",
              "    }\n",
              "\n",
              "    .colab-df-convert:hover {\n",
              "      background-color: #E2EBFA;\n",
              "      box-shadow: 0px 1px 2px rgba(60, 64, 67, 0.3), 0px 1px 3px 1px rgba(60, 64, 67, 0.15);\n",
              "      fill: #174EA6;\n",
              "    }\n",
              "\n",
              "    [theme=dark] .colab-df-convert {\n",
              "      background-color: #3B4455;\n",
              "      fill: #D2E3FC;\n",
              "    }\n",
              "\n",
              "    [theme=dark] .colab-df-convert:hover {\n",
              "      background-color: #434B5C;\n",
              "      box-shadow: 0px 1px 3px 1px rgba(0, 0, 0, 0.15);\n",
              "      filter: drop-shadow(0px 1px 2px rgba(0, 0, 0, 0.3));\n",
              "      fill: #FFFFFF;\n",
              "    }\n",
              "  </style>\n",
              "\n",
              "      <script>\n",
              "        const buttonEl =\n",
              "          document.querySelector('#df-9d9eec8e-d20a-4f10-8e9d-89e1cc32f68a button.colab-df-convert');\n",
              "        buttonEl.style.display =\n",
              "          google.colab.kernel.accessAllowed ? 'block' : 'none';\n",
              "\n",
              "        async function convertToInteractive(key) {\n",
              "          const element = document.querySelector('#df-9d9eec8e-d20a-4f10-8e9d-89e1cc32f68a');\n",
              "          const dataTable =\n",
              "            await google.colab.kernel.invokeFunction('convertToInteractive',\n",
              "                                                     [key], {});\n",
              "          if (!dataTable) return;\n",
              "\n",
              "          const docLinkHtml = 'Like what you see? Visit the ' +\n",
              "            '<a target=\"_blank\" href=https://colab.research.google.com/notebooks/data_table.ipynb>data table notebook</a>'\n",
              "            + ' to learn more about interactive tables.';\n",
              "          element.innerHTML = '';\n",
              "          dataTable['output_type'] = 'display_data';\n",
              "          await google.colab.output.renderOutput(dataTable, element);\n",
              "          const docLink = document.createElement('div');\n",
              "          docLink.innerHTML = docLinkHtml;\n",
              "          element.appendChild(docLink);\n",
              "        }\n",
              "      </script>\n",
              "    </div>\n",
              "  </div>\n",
              "  "
            ]
          },
          "metadata": {},
          "execution_count": 16
        }
      ]
    },
    {
      "cell_type": "code",
      "source": [
        "# calendar = calendar.sort_values(['listing_id', 'date']).drop_duplicates(['listing_id', 'date'], keep='last')\n",
        "# calendar.shape"
      ],
      "metadata": {
        "colab": {
          "base_uri": "https://localhost:8080/"
        },
        "id": "9-dkzvttWHmd",
        "outputId": "1efc2807-12e3-4f22-a1c2-f741a993d451"
      },
      "execution_count": null,
      "outputs": [
        {
          "output_type": "execute_result",
          "data": {
            "text/plain": [
              "(4506119, 7)"
            ]
          },
          "metadata": {},
          "execution_count": 17
        }
      ]
    },
    {
      "cell_type": "code",
      "source": [
        "# calendar[['listing_id', 'date']].sort_values(['listing_id', 'date'])"
      ],
      "metadata": {
        "colab": {
          "base_uri": "https://localhost:8080/",
          "height": 424
        },
        "id": "iWGLz8wYWL6U",
        "outputId": "bfc17f99-1f97-4c4a-e44e-86b715e5b0bf"
      },
      "execution_count": null,
      "outputs": [
        {
          "output_type": "execute_result",
          "data": {
            "text/plain": [
              "                 listing_id        date\n",
              "50                     2818  2021-12-06\n",
              "51                     2818  2021-12-07\n",
              "52                     2818  2021-12-08\n",
              "53                     2818  2021-12-09\n",
              "54                     2818  2021-12-10\n",
              "...                     ...         ...\n",
              "1907846  709986109543860789  2023-09-02\n",
              "1907847  709986109543860789  2023-09-03\n",
              "1907848  709986109543860789  2023-09-04\n",
              "1907849  709986109543860789  2023-09-05\n",
              "1907850  709986109543860789  2023-09-06\n",
              "\n",
              "[4506119 rows x 2 columns]"
            ],
            "text/html": [
              "\n",
              "  <div id=\"df-cfba49a0-e66a-4f71-8f7b-4cf4f4fcaf98\">\n",
              "    <div class=\"colab-df-container\">\n",
              "      <div>\n",
              "<style scoped>\n",
              "    .dataframe tbody tr th:only-of-type {\n",
              "        vertical-align: middle;\n",
              "    }\n",
              "\n",
              "    .dataframe tbody tr th {\n",
              "        vertical-align: top;\n",
              "    }\n",
              "\n",
              "    .dataframe thead th {\n",
              "        text-align: right;\n",
              "    }\n",
              "</style>\n",
              "<table border=\"1\" class=\"dataframe\">\n",
              "  <thead>\n",
              "    <tr style=\"text-align: right;\">\n",
              "      <th></th>\n",
              "      <th>listing_id</th>\n",
              "      <th>date</th>\n",
              "    </tr>\n",
              "  </thead>\n",
              "  <tbody>\n",
              "    <tr>\n",
              "      <th>50</th>\n",
              "      <td>2818</td>\n",
              "      <td>2021-12-06</td>\n",
              "    </tr>\n",
              "    <tr>\n",
              "      <th>51</th>\n",
              "      <td>2818</td>\n",
              "      <td>2021-12-07</td>\n",
              "    </tr>\n",
              "    <tr>\n",
              "      <th>52</th>\n",
              "      <td>2818</td>\n",
              "      <td>2021-12-08</td>\n",
              "    </tr>\n",
              "    <tr>\n",
              "      <th>53</th>\n",
              "      <td>2818</td>\n",
              "      <td>2021-12-09</td>\n",
              "    </tr>\n",
              "    <tr>\n",
              "      <th>54</th>\n",
              "      <td>2818</td>\n",
              "      <td>2021-12-10</td>\n",
              "    </tr>\n",
              "    <tr>\n",
              "      <th>...</th>\n",
              "      <td>...</td>\n",
              "      <td>...</td>\n",
              "    </tr>\n",
              "    <tr>\n",
              "      <th>1907846</th>\n",
              "      <td>709986109543860789</td>\n",
              "      <td>2023-09-02</td>\n",
              "    </tr>\n",
              "    <tr>\n",
              "      <th>1907847</th>\n",
              "      <td>709986109543860789</td>\n",
              "      <td>2023-09-03</td>\n",
              "    </tr>\n",
              "    <tr>\n",
              "      <th>1907848</th>\n",
              "      <td>709986109543860789</td>\n",
              "      <td>2023-09-04</td>\n",
              "    </tr>\n",
              "    <tr>\n",
              "      <th>1907849</th>\n",
              "      <td>709986109543860789</td>\n",
              "      <td>2023-09-05</td>\n",
              "    </tr>\n",
              "    <tr>\n",
              "      <th>1907850</th>\n",
              "      <td>709986109543860789</td>\n",
              "      <td>2023-09-06</td>\n",
              "    </tr>\n",
              "  </tbody>\n",
              "</table>\n",
              "<p>4506119 rows × 2 columns</p>\n",
              "</div>\n",
              "      <button class=\"colab-df-convert\" onclick=\"convertToInteractive('df-cfba49a0-e66a-4f71-8f7b-4cf4f4fcaf98')\"\n",
              "              title=\"Convert this dataframe to an interactive table.\"\n",
              "              style=\"display:none;\">\n",
              "        \n",
              "  <svg xmlns=\"http://www.w3.org/2000/svg\" height=\"24px\"viewBox=\"0 0 24 24\"\n",
              "       width=\"24px\">\n",
              "    <path d=\"M0 0h24v24H0V0z\" fill=\"none\"/>\n",
              "    <path d=\"M18.56 5.44l.94 2.06.94-2.06 2.06-.94-2.06-.94-.94-2.06-.94 2.06-2.06.94zm-11 1L8.5 8.5l.94-2.06 2.06-.94-2.06-.94L8.5 2.5l-.94 2.06-2.06.94zm10 10l.94 2.06.94-2.06 2.06-.94-2.06-.94-.94-2.06-.94 2.06-2.06.94z\"/><path d=\"M17.41 7.96l-1.37-1.37c-.4-.4-.92-.59-1.43-.59-.52 0-1.04.2-1.43.59L10.3 9.45l-7.72 7.72c-.78.78-.78 2.05 0 2.83L4 21.41c.39.39.9.59 1.41.59.51 0 1.02-.2 1.41-.59l7.78-7.78 2.81-2.81c.8-.78.8-2.07 0-2.86zM5.41 20L4 18.59l7.72-7.72 1.47 1.35L5.41 20z\"/>\n",
              "  </svg>\n",
              "      </button>\n",
              "      \n",
              "  <style>\n",
              "    .colab-df-container {\n",
              "      display:flex;\n",
              "      flex-wrap:wrap;\n",
              "      gap: 12px;\n",
              "    }\n",
              "\n",
              "    .colab-df-convert {\n",
              "      background-color: #E8F0FE;\n",
              "      border: none;\n",
              "      border-radius: 50%;\n",
              "      cursor: pointer;\n",
              "      display: none;\n",
              "      fill: #1967D2;\n",
              "      height: 32px;\n",
              "      padding: 0 0 0 0;\n",
              "      width: 32px;\n",
              "    }\n",
              "\n",
              "    .colab-df-convert:hover {\n",
              "      background-color: #E2EBFA;\n",
              "      box-shadow: 0px 1px 2px rgba(60, 64, 67, 0.3), 0px 1px 3px 1px rgba(60, 64, 67, 0.15);\n",
              "      fill: #174EA6;\n",
              "    }\n",
              "\n",
              "    [theme=dark] .colab-df-convert {\n",
              "      background-color: #3B4455;\n",
              "      fill: #D2E3FC;\n",
              "    }\n",
              "\n",
              "    [theme=dark] .colab-df-convert:hover {\n",
              "      background-color: #434B5C;\n",
              "      box-shadow: 0px 1px 3px 1px rgba(0, 0, 0, 0.15);\n",
              "      filter: drop-shadow(0px 1px 2px rgba(0, 0, 0, 0.3));\n",
              "      fill: #FFFFFF;\n",
              "    }\n",
              "  </style>\n",
              "\n",
              "      <script>\n",
              "        const buttonEl =\n",
              "          document.querySelector('#df-cfba49a0-e66a-4f71-8f7b-4cf4f4fcaf98 button.colab-df-convert');\n",
              "        buttonEl.style.display =\n",
              "          google.colab.kernel.accessAllowed ? 'block' : 'none';\n",
              "\n",
              "        async function convertToInteractive(key) {\n",
              "          const element = document.querySelector('#df-cfba49a0-e66a-4f71-8f7b-4cf4f4fcaf98');\n",
              "          const dataTable =\n",
              "            await google.colab.kernel.invokeFunction('convertToInteractive',\n",
              "                                                     [key], {});\n",
              "          if (!dataTable) return;\n",
              "\n",
              "          const docLinkHtml = 'Like what you see? Visit the ' +\n",
              "            '<a target=\"_blank\" href=https://colab.research.google.com/notebooks/data_table.ipynb>data table notebook</a>'\n",
              "            + ' to learn more about interactive tables.';\n",
              "          element.innerHTML = '';\n",
              "          dataTable['output_type'] = 'display_data';\n",
              "          await google.colab.output.renderOutput(dataTable, element);\n",
              "          const docLink = document.createElement('div');\n",
              "          docLink.innerHTML = docLinkHtml;\n",
              "          element.appendChild(docLink);\n",
              "        }\n",
              "      </script>\n",
              "    </div>\n",
              "  </div>\n",
              "  "
            ]
          },
          "metadata": {},
          "execution_count": 18
        }
      ]
    },
    {
      "cell_type": "code",
      "source": [
        "calzSep22.rename(columns={'listing_id': 'id'}, inplace=True)"
      ],
      "metadata": {
        "id": "eNbz_4Kgcgwg"
      },
      "execution_count": null,
      "outputs": []
    },
    {
      "cell_type": "code",
      "source": [
        "calzSep22.columns"
      ],
      "metadata": {
        "colab": {
          "base_uri": "https://localhost:8080/"
        },
        "id": "gdU6m7wFW9qm",
        "outputId": "45430cf6-a23e-4b99-ca76-6423c3974b6d"
      },
      "execution_count": null,
      "outputs": [
        {
          "output_type": "execute_result",
          "data": {
            "text/plain": [
              "Index(['id', 'date', 'available', 'price', 'adjusted_price', 'minimum_nights',\n",
              "       'maximum_nights'],\n",
              "      dtype='object')"
            ]
          },
          "metadata": {},
          "execution_count": 38
        }
      ]
    },
    {
      "cell_type": "markdown",
      "source": [
        "### Listings + Calendar"
      ],
      "metadata": {
        "id": "MC2ySj38UudL"
      }
    },
    {
      "cell_type": "code",
      "source": [
        "target_columns = ['id','neighbourhood_cleansed','latitude','longitude', 'room_type', 'accommodates','bathrooms_text', 'bedrooms', 'beds', 'amenities','license', 'instant_bookable']\n",
        "\n",
        "data = pd.merge(calzSep22[['id', 'price', 'date', 'minimum_nights']], lszSep22[target_columns], on='id', how='left')\n",
        "data.head()"
      ],
      "metadata": {
        "colab": {
          "base_uri": "https://localhost:8080/",
          "height": 617
        },
        "id": "XZAHoTFxTENn",
        "outputId": "3eac6786-f4b3-4eb2-db04-d290b623f9cd"
      },
      "execution_count": null,
      "outputs": [
        {
          "output_type": "execute_result",
          "data": {
            "text/plain": [
              "     id   price        date  minimum_nights  \\\n",
              "0  2818  $49.00  2022-09-07             3.0   \n",
              "1  2818  $49.00  2022-09-08             3.0   \n",
              "2  2818  $49.00  2022-09-09             3.0   \n",
              "3  2818  $49.00  2022-09-10             3.0   \n",
              "4  2818  $49.00  2022-09-11             3.0   \n",
              "\n",
              "                   neighbourhood_cleansed  latitude  longitude     room_type  \\\n",
              "0  Oostelijk Havengebied - Indische Buurt  52.36435    4.94358  Private room   \n",
              "1  Oostelijk Havengebied - Indische Buurt  52.36435    4.94358  Private room   \n",
              "2  Oostelijk Havengebied - Indische Buurt  52.36435    4.94358  Private room   \n",
              "3  Oostelijk Havengebied - Indische Buurt  52.36435    4.94358  Private room   \n",
              "4  Oostelijk Havengebied - Indische Buurt  52.36435    4.94358  Private room   \n",
              "\n",
              "   accommodates    bathrooms_text  bedrooms  beds  \\\n",
              "0             2  1.5 shared baths       1.0   2.0   \n",
              "1             2  1.5 shared baths       1.0   2.0   \n",
              "2             2  1.5 shared baths       1.0   2.0   \n",
              "3             2  1.5 shared baths       1.0   2.0   \n",
              "4             2  1.5 shared baths       1.0   2.0   \n",
              "\n",
              "                                           amenities  \\\n",
              "0  [\"Fire extinguisher\", \"Private entrance\", \"Lau...   \n",
              "1  [\"Fire extinguisher\", \"Private entrance\", \"Lau...   \n",
              "2  [\"Fire extinguisher\", \"Private entrance\", \"Lau...   \n",
              "3  [\"Fire extinguisher\", \"Private entrance\", \"Lau...   \n",
              "4  [\"Fire extinguisher\", \"Private entrance\", \"Lau...   \n",
              "\n",
              "                    license instant_bookable  \n",
              "0  0363 5F3A 5684 6750 D14D                t  \n",
              "1  0363 5F3A 5684 6750 D14D                t  \n",
              "2  0363 5F3A 5684 6750 D14D                t  \n",
              "3  0363 5F3A 5684 6750 D14D                t  \n",
              "4  0363 5F3A 5684 6750 D14D                t  "
            ],
            "text/html": [
              "\n",
              "  <div id=\"df-b3aa910a-ba17-4ff6-a416-9e0e6b77a509\">\n",
              "    <div class=\"colab-df-container\">\n",
              "      <div>\n",
              "<style scoped>\n",
              "    .dataframe tbody tr th:only-of-type {\n",
              "        vertical-align: middle;\n",
              "    }\n",
              "\n",
              "    .dataframe tbody tr th {\n",
              "        vertical-align: top;\n",
              "    }\n",
              "\n",
              "    .dataframe thead th {\n",
              "        text-align: right;\n",
              "    }\n",
              "</style>\n",
              "<table border=\"1\" class=\"dataframe\">\n",
              "  <thead>\n",
              "    <tr style=\"text-align: right;\">\n",
              "      <th></th>\n",
              "      <th>id</th>\n",
              "      <th>price</th>\n",
              "      <th>date</th>\n",
              "      <th>minimum_nights</th>\n",
              "      <th>neighbourhood_cleansed</th>\n",
              "      <th>latitude</th>\n",
              "      <th>longitude</th>\n",
              "      <th>room_type</th>\n",
              "      <th>accommodates</th>\n",
              "      <th>bathrooms_text</th>\n",
              "      <th>bedrooms</th>\n",
              "      <th>beds</th>\n",
              "      <th>amenities</th>\n",
              "      <th>license</th>\n",
              "      <th>instant_bookable</th>\n",
              "    </tr>\n",
              "  </thead>\n",
              "  <tbody>\n",
              "    <tr>\n",
              "      <th>0</th>\n",
              "      <td>2818</td>\n",
              "      <td>$49.00</td>\n",
              "      <td>2022-09-07</td>\n",
              "      <td>3.0</td>\n",
              "      <td>Oostelijk Havengebied - Indische Buurt</td>\n",
              "      <td>52.36435</td>\n",
              "      <td>4.94358</td>\n",
              "      <td>Private room</td>\n",
              "      <td>2</td>\n",
              "      <td>1.5 shared baths</td>\n",
              "      <td>1.0</td>\n",
              "      <td>2.0</td>\n",
              "      <td>[\"Fire extinguisher\", \"Private entrance\", \"Lau...</td>\n",
              "      <td>0363 5F3A 5684 6750 D14D</td>\n",
              "      <td>t</td>\n",
              "    </tr>\n",
              "    <tr>\n",
              "      <th>1</th>\n",
              "      <td>2818</td>\n",
              "      <td>$49.00</td>\n",
              "      <td>2022-09-08</td>\n",
              "      <td>3.0</td>\n",
              "      <td>Oostelijk Havengebied - Indische Buurt</td>\n",
              "      <td>52.36435</td>\n",
              "      <td>4.94358</td>\n",
              "      <td>Private room</td>\n",
              "      <td>2</td>\n",
              "      <td>1.5 shared baths</td>\n",
              "      <td>1.0</td>\n",
              "      <td>2.0</td>\n",
              "      <td>[\"Fire extinguisher\", \"Private entrance\", \"Lau...</td>\n",
              "      <td>0363 5F3A 5684 6750 D14D</td>\n",
              "      <td>t</td>\n",
              "    </tr>\n",
              "    <tr>\n",
              "      <th>2</th>\n",
              "      <td>2818</td>\n",
              "      <td>$49.00</td>\n",
              "      <td>2022-09-09</td>\n",
              "      <td>3.0</td>\n",
              "      <td>Oostelijk Havengebied - Indische Buurt</td>\n",
              "      <td>52.36435</td>\n",
              "      <td>4.94358</td>\n",
              "      <td>Private room</td>\n",
              "      <td>2</td>\n",
              "      <td>1.5 shared baths</td>\n",
              "      <td>1.0</td>\n",
              "      <td>2.0</td>\n",
              "      <td>[\"Fire extinguisher\", \"Private entrance\", \"Lau...</td>\n",
              "      <td>0363 5F3A 5684 6750 D14D</td>\n",
              "      <td>t</td>\n",
              "    </tr>\n",
              "    <tr>\n",
              "      <th>3</th>\n",
              "      <td>2818</td>\n",
              "      <td>$49.00</td>\n",
              "      <td>2022-09-10</td>\n",
              "      <td>3.0</td>\n",
              "      <td>Oostelijk Havengebied - Indische Buurt</td>\n",
              "      <td>52.36435</td>\n",
              "      <td>4.94358</td>\n",
              "      <td>Private room</td>\n",
              "      <td>2</td>\n",
              "      <td>1.5 shared baths</td>\n",
              "      <td>1.0</td>\n",
              "      <td>2.0</td>\n",
              "      <td>[\"Fire extinguisher\", \"Private entrance\", \"Lau...</td>\n",
              "      <td>0363 5F3A 5684 6750 D14D</td>\n",
              "      <td>t</td>\n",
              "    </tr>\n",
              "    <tr>\n",
              "      <th>4</th>\n",
              "      <td>2818</td>\n",
              "      <td>$49.00</td>\n",
              "      <td>2022-09-11</td>\n",
              "      <td>3.0</td>\n",
              "      <td>Oostelijk Havengebied - Indische Buurt</td>\n",
              "      <td>52.36435</td>\n",
              "      <td>4.94358</td>\n",
              "      <td>Private room</td>\n",
              "      <td>2</td>\n",
              "      <td>1.5 shared baths</td>\n",
              "      <td>1.0</td>\n",
              "      <td>2.0</td>\n",
              "      <td>[\"Fire extinguisher\", \"Private entrance\", \"Lau...</td>\n",
              "      <td>0363 5F3A 5684 6750 D14D</td>\n",
              "      <td>t</td>\n",
              "    </tr>\n",
              "  </tbody>\n",
              "</table>\n",
              "</div>\n",
              "      <button class=\"colab-df-convert\" onclick=\"convertToInteractive('df-b3aa910a-ba17-4ff6-a416-9e0e6b77a509')\"\n",
              "              title=\"Convert this dataframe to an interactive table.\"\n",
              "              style=\"display:none;\">\n",
              "        \n",
              "  <svg xmlns=\"http://www.w3.org/2000/svg\" height=\"24px\"viewBox=\"0 0 24 24\"\n",
              "       width=\"24px\">\n",
              "    <path d=\"M0 0h24v24H0V0z\" fill=\"none\"/>\n",
              "    <path d=\"M18.56 5.44l.94 2.06.94-2.06 2.06-.94-2.06-.94-.94-2.06-.94 2.06-2.06.94zm-11 1L8.5 8.5l.94-2.06 2.06-.94-2.06-.94L8.5 2.5l-.94 2.06-2.06.94zm10 10l.94 2.06.94-2.06 2.06-.94-2.06-.94-.94-2.06-.94 2.06-2.06.94z\"/><path d=\"M17.41 7.96l-1.37-1.37c-.4-.4-.92-.59-1.43-.59-.52 0-1.04.2-1.43.59L10.3 9.45l-7.72 7.72c-.78.78-.78 2.05 0 2.83L4 21.41c.39.39.9.59 1.41.59.51 0 1.02-.2 1.41-.59l7.78-7.78 2.81-2.81c.8-.78.8-2.07 0-2.86zM5.41 20L4 18.59l7.72-7.72 1.47 1.35L5.41 20z\"/>\n",
              "  </svg>\n",
              "      </button>\n",
              "      \n",
              "  <style>\n",
              "    .colab-df-container {\n",
              "      display:flex;\n",
              "      flex-wrap:wrap;\n",
              "      gap: 12px;\n",
              "    }\n",
              "\n",
              "    .colab-df-convert {\n",
              "      background-color: #E8F0FE;\n",
              "      border: none;\n",
              "      border-radius: 50%;\n",
              "      cursor: pointer;\n",
              "      display: none;\n",
              "      fill: #1967D2;\n",
              "      height: 32px;\n",
              "      padding: 0 0 0 0;\n",
              "      width: 32px;\n",
              "    }\n",
              "\n",
              "    .colab-df-convert:hover {\n",
              "      background-color: #E2EBFA;\n",
              "      box-shadow: 0px 1px 2px rgba(60, 64, 67, 0.3), 0px 1px 3px 1px rgba(60, 64, 67, 0.15);\n",
              "      fill: #174EA6;\n",
              "    }\n",
              "\n",
              "    [theme=dark] .colab-df-convert {\n",
              "      background-color: #3B4455;\n",
              "      fill: #D2E3FC;\n",
              "    }\n",
              "\n",
              "    [theme=dark] .colab-df-convert:hover {\n",
              "      background-color: #434B5C;\n",
              "      box-shadow: 0px 1px 3px 1px rgba(0, 0, 0, 0.15);\n",
              "      filter: drop-shadow(0px 1px 2px rgba(0, 0, 0, 0.3));\n",
              "      fill: #FFFFFF;\n",
              "    }\n",
              "  </style>\n",
              "\n",
              "      <script>\n",
              "        const buttonEl =\n",
              "          document.querySelector('#df-b3aa910a-ba17-4ff6-a416-9e0e6b77a509 button.colab-df-convert');\n",
              "        buttonEl.style.display =\n",
              "          google.colab.kernel.accessAllowed ? 'block' : 'none';\n",
              "\n",
              "        async function convertToInteractive(key) {\n",
              "          const element = document.querySelector('#df-b3aa910a-ba17-4ff6-a416-9e0e6b77a509');\n",
              "          const dataTable =\n",
              "            await google.colab.kernel.invokeFunction('convertToInteractive',\n",
              "                                                     [key], {});\n",
              "          if (!dataTable) return;\n",
              "\n",
              "          const docLinkHtml = 'Like what you see? Visit the ' +\n",
              "            '<a target=\"_blank\" href=https://colab.research.google.com/notebooks/data_table.ipynb>data table notebook</a>'\n",
              "            + ' to learn more about interactive tables.';\n",
              "          element.innerHTML = '';\n",
              "          dataTable['output_type'] = 'display_data';\n",
              "          await google.colab.output.renderOutput(dataTable, element);\n",
              "          const docLink = document.createElement('div');\n",
              "          docLink.innerHTML = docLinkHtml;\n",
              "          element.appendChild(docLink);\n",
              "        }\n",
              "      </script>\n",
              "    </div>\n",
              "  </div>\n",
              "  "
            ]
          },
          "metadata": {},
          "execution_count": 39
        }
      ]
    },
    {
      "cell_type": "markdown",
      "source": [
        "# 2. Data Preparation"
      ],
      "metadata": {
        "id": "NBfHuQQWHGB6"
      }
    },
    {
      "cell_type": "markdown",
      "source": [
        "## 2.2 Drop unimportant features"
      ],
      "metadata": {
        "id": "HjhCHh5SHfaJ"
      }
    },
    {
      "cell_type": "code",
      "source": [
        "# listings = data.copy()"
      ],
      "metadata": {
        "id": "oBW3SQzYddEh"
      },
      "execution_count": null,
      "outputs": []
    },
    {
      "cell_type": "code",
      "source": [
        "listings.head()"
      ],
      "metadata": {
        "colab": {
          "base_uri": "https://localhost:8080/",
          "height": 647
        },
        "id": "DcVRriu2CTCU",
        "outputId": "bff36504-f0a7-45c2-ef7c-deb455538f55"
      },
      "execution_count": null,
      "outputs": [
        {
          "output_type": "execute_result",
          "data": {
            "text/plain": [
              "      id                         listing_url       scrape_id last_scraped  \\\n",
              "0   2818   https://www.airbnb.com/rooms/2818  20220907151523   2022-09-07   \n",
              "1  20168  https://www.airbnb.com/rooms/20168  20220907151523   2022-09-07   \n",
              "2  27886  https://www.airbnb.com/rooms/27886  20220907151523   2022-09-07   \n",
              "3  28871  https://www.airbnb.com/rooms/28871  20220907151523   2022-09-07   \n",
              "4  29051  https://www.airbnb.com/rooms/29051  20220907151523   2022-09-07   \n",
              "\n",
              "                                                name  \\\n",
              "0           Quiet Garden View Room & Super Fast WiFi   \n",
              "1       Studio with private bathroom in the centre 1   \n",
              "2  Romantic, stylish B&B houseboat in canal district   \n",
              "3                            Comfortable double room   \n",
              "4                            Comfortable single room   \n",
              "\n",
              "                                         description  \\\n",
              "0  Quiet Garden View Room & Super Fast WiFi<br />...   \n",
              "1  17th century Dutch townhouse in the heart of t...   \n",
              "2  Stylish and romantic houseboat on fantastic hi...   \n",
              "3  <b>The space</b><br />In a monumental house ri...   \n",
              "4  This room can also accomodate 2 people.  For a...   \n",
              "\n",
              "                               neighborhood_overview  \\\n",
              "0  Indische Buurt (\"Indies Neighborhood\") is a ne...   \n",
              "1  Located just in between famous central canals....   \n",
              "2         Central, quiet, safe, clean and beautiful.   \n",
              "3       Flower market , Leidseplein , Rembrantsplein   \n",
              "4  the street is quite lively especially on weeke...   \n",
              "\n",
              "                                         picture_url  host_id  \\\n",
              "0  https://a0.muscache.com/pictures/10272854/8dcc...     3159   \n",
              "1  https://a0.muscache.com/pictures/69979628/fd6a...    59484   \n",
              "2  https://a0.muscache.com/pictures/02c2da9d-660e...    97647   \n",
              "3  https://a0.muscache.com/pictures/160889/362340...   124245   \n",
              "4  https://a0.muscache.com/pictures/162009/bd6be2...   124245   \n",
              "\n",
              "                                   host_url  ... review_scores_location  \\\n",
              "0    https://www.airbnb.com/users/show/3159  ...                   4.69   \n",
              "1   https://www.airbnb.com/users/show/59484  ...                   4.87   \n",
              "2   https://www.airbnb.com/users/show/97647  ...                   4.89   \n",
              "3  https://www.airbnb.com/users/show/124245  ...                   4.96   \n",
              "4  https://www.airbnb.com/users/show/124245  ...                   4.87   \n",
              "\n",
              "  review_scores_value                   license instant_bookable  \\\n",
              "0                4.82  0363 5F3A 5684 6750 D14D                t   \n",
              "1                4.49  0363 CBB3 2C10 0C2A 1E29                t   \n",
              "2                4.79  0363 974D 4986 7411 88D8                t   \n",
              "3                4.83  0363 607B EA74 0BD8 2F6F                f   \n",
              "4                4.77  0363 607B EA74 0BD8 2F6F                f   \n",
              "\n",
              "  calculated_host_listings_count calculated_host_listings_count_entire_homes  \\\n",
              "0                              1                                           0   \n",
              "1                              2                                           0   \n",
              "2                              1                                           0   \n",
              "3                              2                                           0   \n",
              "4                              2                                           0   \n",
              "\n",
              "  calculated_host_listings_count_private_rooms  \\\n",
              "0                                            1   \n",
              "1                                            2   \n",
              "2                                            1   \n",
              "3                                            2   \n",
              "4                                            2   \n",
              "\n",
              "  calculated_host_listings_count_shared_rooms reviews_per_month  \\\n",
              "0                                           0              1.86   \n",
              "1                                           0              2.22   \n",
              "2                                           0              1.78   \n",
              "3                                           0              2.92   \n",
              "4                                           0              4.16   \n",
              "\n",
              "            source  \n",
              "0      city scrape  \n",
              "1  previous scrape  \n",
              "2      city scrape  \n",
              "3      city scrape  \n",
              "4      city scrape  \n",
              "\n",
              "[5 rows x 75 columns]"
            ],
            "text/html": [
              "\n",
              "  <div id=\"df-d88ed50a-48b5-4041-bc6c-62dd79ce4903\">\n",
              "    <div class=\"colab-df-container\">\n",
              "      <div>\n",
              "<style scoped>\n",
              "    .dataframe tbody tr th:only-of-type {\n",
              "        vertical-align: middle;\n",
              "    }\n",
              "\n",
              "    .dataframe tbody tr th {\n",
              "        vertical-align: top;\n",
              "    }\n",
              "\n",
              "    .dataframe thead th {\n",
              "        text-align: right;\n",
              "    }\n",
              "</style>\n",
              "<table border=\"1\" class=\"dataframe\">\n",
              "  <thead>\n",
              "    <tr style=\"text-align: right;\">\n",
              "      <th></th>\n",
              "      <th>id</th>\n",
              "      <th>listing_url</th>\n",
              "      <th>scrape_id</th>\n",
              "      <th>last_scraped</th>\n",
              "      <th>name</th>\n",
              "      <th>description</th>\n",
              "      <th>neighborhood_overview</th>\n",
              "      <th>picture_url</th>\n",
              "      <th>host_id</th>\n",
              "      <th>host_url</th>\n",
              "      <th>...</th>\n",
              "      <th>review_scores_location</th>\n",
              "      <th>review_scores_value</th>\n",
              "      <th>license</th>\n",
              "      <th>instant_bookable</th>\n",
              "      <th>calculated_host_listings_count</th>\n",
              "      <th>calculated_host_listings_count_entire_homes</th>\n",
              "      <th>calculated_host_listings_count_private_rooms</th>\n",
              "      <th>calculated_host_listings_count_shared_rooms</th>\n",
              "      <th>reviews_per_month</th>\n",
              "      <th>source</th>\n",
              "    </tr>\n",
              "  </thead>\n",
              "  <tbody>\n",
              "    <tr>\n",
              "      <th>0</th>\n",
              "      <td>2818</td>\n",
              "      <td>https://www.airbnb.com/rooms/2818</td>\n",
              "      <td>20220907151523</td>\n",
              "      <td>2022-09-07</td>\n",
              "      <td>Quiet Garden View Room &amp; Super Fast WiFi</td>\n",
              "      <td>Quiet Garden View Room &amp; Super Fast WiFi&lt;br /&gt;...</td>\n",
              "      <td>Indische Buurt (\"Indies Neighborhood\") is a ne...</td>\n",
              "      <td>https://a0.muscache.com/pictures/10272854/8dcc...</td>\n",
              "      <td>3159</td>\n",
              "      <td>https://www.airbnb.com/users/show/3159</td>\n",
              "      <td>...</td>\n",
              "      <td>4.69</td>\n",
              "      <td>4.82</td>\n",
              "      <td>0363 5F3A 5684 6750 D14D</td>\n",
              "      <td>t</td>\n",
              "      <td>1</td>\n",
              "      <td>0</td>\n",
              "      <td>1</td>\n",
              "      <td>0</td>\n",
              "      <td>1.86</td>\n",
              "      <td>city scrape</td>\n",
              "    </tr>\n",
              "    <tr>\n",
              "      <th>1</th>\n",
              "      <td>20168</td>\n",
              "      <td>https://www.airbnb.com/rooms/20168</td>\n",
              "      <td>20220907151523</td>\n",
              "      <td>2022-09-07</td>\n",
              "      <td>Studio with private bathroom in the centre 1</td>\n",
              "      <td>17th century Dutch townhouse in the heart of t...</td>\n",
              "      <td>Located just in between famous central canals....</td>\n",
              "      <td>https://a0.muscache.com/pictures/69979628/fd6a...</td>\n",
              "      <td>59484</td>\n",
              "      <td>https://www.airbnb.com/users/show/59484</td>\n",
              "      <td>...</td>\n",
              "      <td>4.87</td>\n",
              "      <td>4.49</td>\n",
              "      <td>0363 CBB3 2C10 0C2A 1E29</td>\n",
              "      <td>t</td>\n",
              "      <td>2</td>\n",
              "      <td>0</td>\n",
              "      <td>2</td>\n",
              "      <td>0</td>\n",
              "      <td>2.22</td>\n",
              "      <td>previous scrape</td>\n",
              "    </tr>\n",
              "    <tr>\n",
              "      <th>2</th>\n",
              "      <td>27886</td>\n",
              "      <td>https://www.airbnb.com/rooms/27886</td>\n",
              "      <td>20220907151523</td>\n",
              "      <td>2022-09-07</td>\n",
              "      <td>Romantic, stylish B&amp;B houseboat in canal district</td>\n",
              "      <td>Stylish and romantic houseboat on fantastic hi...</td>\n",
              "      <td>Central, quiet, safe, clean and beautiful.</td>\n",
              "      <td>https://a0.muscache.com/pictures/02c2da9d-660e...</td>\n",
              "      <td>97647</td>\n",
              "      <td>https://www.airbnb.com/users/show/97647</td>\n",
              "      <td>...</td>\n",
              "      <td>4.89</td>\n",
              "      <td>4.79</td>\n",
              "      <td>0363 974D 4986 7411 88D8</td>\n",
              "      <td>t</td>\n",
              "      <td>1</td>\n",
              "      <td>0</td>\n",
              "      <td>1</td>\n",
              "      <td>0</td>\n",
              "      <td>1.78</td>\n",
              "      <td>city scrape</td>\n",
              "    </tr>\n",
              "    <tr>\n",
              "      <th>3</th>\n",
              "      <td>28871</td>\n",
              "      <td>https://www.airbnb.com/rooms/28871</td>\n",
              "      <td>20220907151523</td>\n",
              "      <td>2022-09-07</td>\n",
              "      <td>Comfortable double room</td>\n",
              "      <td>&lt;b&gt;The space&lt;/b&gt;&lt;br /&gt;In a monumental house ri...</td>\n",
              "      <td>Flower market , Leidseplein , Rembrantsplein</td>\n",
              "      <td>https://a0.muscache.com/pictures/160889/362340...</td>\n",
              "      <td>124245</td>\n",
              "      <td>https://www.airbnb.com/users/show/124245</td>\n",
              "      <td>...</td>\n",
              "      <td>4.96</td>\n",
              "      <td>4.83</td>\n",
              "      <td>0363 607B EA74 0BD8 2F6F</td>\n",
              "      <td>f</td>\n",
              "      <td>2</td>\n",
              "      <td>0</td>\n",
              "      <td>2</td>\n",
              "      <td>0</td>\n",
              "      <td>2.92</td>\n",
              "      <td>city scrape</td>\n",
              "    </tr>\n",
              "    <tr>\n",
              "      <th>4</th>\n",
              "      <td>29051</td>\n",
              "      <td>https://www.airbnb.com/rooms/29051</td>\n",
              "      <td>20220907151523</td>\n",
              "      <td>2022-09-07</td>\n",
              "      <td>Comfortable single room</td>\n",
              "      <td>This room can also accomodate 2 people.  For a...</td>\n",
              "      <td>the street is quite lively especially on weeke...</td>\n",
              "      <td>https://a0.muscache.com/pictures/162009/bd6be2...</td>\n",
              "      <td>124245</td>\n",
              "      <td>https://www.airbnb.com/users/show/124245</td>\n",
              "      <td>...</td>\n",
              "      <td>4.87</td>\n",
              "      <td>4.77</td>\n",
              "      <td>0363 607B EA74 0BD8 2F6F</td>\n",
              "      <td>f</td>\n",
              "      <td>2</td>\n",
              "      <td>0</td>\n",
              "      <td>2</td>\n",
              "      <td>0</td>\n",
              "      <td>4.16</td>\n",
              "      <td>city scrape</td>\n",
              "    </tr>\n",
              "  </tbody>\n",
              "</table>\n",
              "<p>5 rows × 75 columns</p>\n",
              "</div>\n",
              "      <button class=\"colab-df-convert\" onclick=\"convertToInteractive('df-d88ed50a-48b5-4041-bc6c-62dd79ce4903')\"\n",
              "              title=\"Convert this dataframe to an interactive table.\"\n",
              "              style=\"display:none;\">\n",
              "        \n",
              "  <svg xmlns=\"http://www.w3.org/2000/svg\" height=\"24px\"viewBox=\"0 0 24 24\"\n",
              "       width=\"24px\">\n",
              "    <path d=\"M0 0h24v24H0V0z\" fill=\"none\"/>\n",
              "    <path d=\"M18.56 5.44l.94 2.06.94-2.06 2.06-.94-2.06-.94-.94-2.06-.94 2.06-2.06.94zm-11 1L8.5 8.5l.94-2.06 2.06-.94-2.06-.94L8.5 2.5l-.94 2.06-2.06.94zm10 10l.94 2.06.94-2.06 2.06-.94-2.06-.94-.94-2.06-.94 2.06-2.06.94z\"/><path d=\"M17.41 7.96l-1.37-1.37c-.4-.4-.92-.59-1.43-.59-.52 0-1.04.2-1.43.59L10.3 9.45l-7.72 7.72c-.78.78-.78 2.05 0 2.83L4 21.41c.39.39.9.59 1.41.59.51 0 1.02-.2 1.41-.59l7.78-7.78 2.81-2.81c.8-.78.8-2.07 0-2.86zM5.41 20L4 18.59l7.72-7.72 1.47 1.35L5.41 20z\"/>\n",
              "  </svg>\n",
              "      </button>\n",
              "      \n",
              "  <style>\n",
              "    .colab-df-container {\n",
              "      display:flex;\n",
              "      flex-wrap:wrap;\n",
              "      gap: 12px;\n",
              "    }\n",
              "\n",
              "    .colab-df-convert {\n",
              "      background-color: #E8F0FE;\n",
              "      border: none;\n",
              "      border-radius: 50%;\n",
              "      cursor: pointer;\n",
              "      display: none;\n",
              "      fill: #1967D2;\n",
              "      height: 32px;\n",
              "      padding: 0 0 0 0;\n",
              "      width: 32px;\n",
              "    }\n",
              "\n",
              "    .colab-df-convert:hover {\n",
              "      background-color: #E2EBFA;\n",
              "      box-shadow: 0px 1px 2px rgba(60, 64, 67, 0.3), 0px 1px 3px 1px rgba(60, 64, 67, 0.15);\n",
              "      fill: #174EA6;\n",
              "    }\n",
              "\n",
              "    [theme=dark] .colab-df-convert {\n",
              "      background-color: #3B4455;\n",
              "      fill: #D2E3FC;\n",
              "    }\n",
              "\n",
              "    [theme=dark] .colab-df-convert:hover {\n",
              "      background-color: #434B5C;\n",
              "      box-shadow: 0px 1px 3px 1px rgba(0, 0, 0, 0.15);\n",
              "      filter: drop-shadow(0px 1px 2px rgba(0, 0, 0, 0.3));\n",
              "      fill: #FFFFFF;\n",
              "    }\n",
              "  </style>\n",
              "\n",
              "      <script>\n",
              "        const buttonEl =\n",
              "          document.querySelector('#df-d88ed50a-48b5-4041-bc6c-62dd79ce4903 button.colab-df-convert');\n",
              "        buttonEl.style.display =\n",
              "          google.colab.kernel.accessAllowed ? 'block' : 'none';\n",
              "\n",
              "        async function convertToInteractive(key) {\n",
              "          const element = document.querySelector('#df-d88ed50a-48b5-4041-bc6c-62dd79ce4903');\n",
              "          const dataTable =\n",
              "            await google.colab.kernel.invokeFunction('convertToInteractive',\n",
              "                                                     [key], {});\n",
              "          if (!dataTable) return;\n",
              "\n",
              "          const docLinkHtml = 'Like what you see? Visit the ' +\n",
              "            '<a target=\"_blank\" href=https://colab.research.google.com/notebooks/data_table.ipynb>data table notebook</a>'\n",
              "            + ' to learn more about interactive tables.';\n",
              "          element.innerHTML = '';\n",
              "          dataTable['output_type'] = 'display_data';\n",
              "          await google.colab.output.renderOutput(dataTable, element);\n",
              "          const docLink = document.createElement('div');\n",
              "          docLink.innerHTML = docLinkHtml;\n",
              "          element.appendChild(docLink);\n",
              "        }\n",
              "      </script>\n",
              "    </div>\n",
              "  </div>\n",
              "  "
            ]
          },
          "metadata": {},
          "execution_count": 13
        }
      ]
    },
    {
      "cell_type": "code",
      "source": [
        "# Blank column\n",
        "listings.drop(columns=\"bathrooms\" , inplace=True)\n",
        "listings.drop(columns=\"neighbourhood_group_cleansed\" , inplace=True)\n",
        "listings.drop(columns=\"calendar_updated\" , inplace=True)"
      ],
      "metadata": {
        "id": "EQtBRk4aAvMY"
      },
      "execution_count": null,
      "outputs": []
    },
    {
      "cell_type": "code",
      "source": [
        "# Unqiue value\n",
        "listings.drop(columns=\"listing_url\" , inplace=True)\n",
        "listings.drop(columns=\"picture_url\" , inplace=True)\n",
        "listings.drop(columns=\"host_url\" , inplace=True)\n",
        "listings.drop(columns=\"host_thumbnail_url\" , inplace=True)\n",
        "listings.drop(columns=\"host_picture_url\" , inplace=True)\n",
        "# No Reference\n",
        "listings.drop(columns=\"minimum_minimum_nights\" , inplace=True)\n",
        "listings.drop(columns=\"maximum_minimum_nights\" , inplace=True)\n",
        "listings.drop(columns=\"minimum_maximum_nights\" , inplace=True)\n",
        "listings.drop(columns=\"maximum_maximum_nights\" , inplace=True)"
      ],
      "metadata": {
        "id": "48EFD91lAzzq"
      },
      "execution_count": null,
      "outputs": []
    },
    {
      "cell_type": "code",
      "source": [
        "listings.drop(columns=\"description\" , inplace=True)\n",
        "listings.drop(columns=\"name\" , inplace=True)\n",
        "listings.drop(columns=\"neighborhood_overview\" , inplace=True)\n",
        "listings.drop(columns=\"host_about\" , inplace=True)\n",
        "listings.drop(columns=\"scrape_id\" , inplace=True)\n",
        "listings.drop(columns=\"host_name\" , inplace=True)\n",
        "listings.drop(columns=\"last_scraped\" , inplace=True)\n",
        "listings.drop(columns=\"calendar_last_scraped\" , inplace=True)\n",
        "listings.drop(columns=\"first_review\" , inplace=True)\n",
        "listings.drop(columns=\"host_verifications\" , inplace=True) # use 'host_identity_verified'\n",
        "listings.drop(columns=\"minimum_nights_avg_ntm\" , inplace=True)\n",
        "listings.drop(columns=\"maximum_nights_avg_ntm\" , inplace=True)"
      ],
      "metadata": {
        "id": "yI3aAIB7Bf1n"
      },
      "execution_count": null,
      "outputs": []
    },
    {
      "cell_type": "code",
      "source": [
        "listings.drop(columns=\"host_neighbourhood\" , inplace=True) # 'host_location' is more important\n",
        "listings.drop(columns=\"neighbourhood\" , inplace=True) # use 'neighbourhood_cleansed'"
      ],
      "metadata": {
        "id": "09GN15y8BOHz"
      },
      "execution_count": null,
      "outputs": []
    },
    {
      "cell_type": "code",
      "source": [
        "# 'calculated_host_listings_count' is overall\n",
        "listings.drop(columns=\"calculated_host_listings_count_entire_homes\" , inplace=True)\n",
        "listings.drop(columns=\"calculated_host_listings_count_private_rooms\" , inplace=True)\n",
        "listings.drop(columns=\"calculated_host_listings_count_shared_rooms\" , inplace=True)"
      ],
      "metadata": {
        "id": "2rgUdfF4B355"
      },
      "execution_count": null,
      "outputs": []
    },
    {
      "cell_type": "code",
      "source": [
        "listings.drop(columns=\"property_type\" , inplace=True) # use 'room_type'"
      ],
      "metadata": {
        "id": "QXZ1fLHLagdv"
      },
      "execution_count": null,
      "outputs": []
    },
    {
      "cell_type": "markdown",
      "source": [
        "**Drop 30 features**"
      ],
      "metadata": {
        "id": "KGCzvEakL_E2"
      }
    },
    {
      "cell_type": "code",
      "source": [
        "listings.shape"
      ],
      "metadata": {
        "colab": {
          "base_uri": "https://localhost:8080/"
        },
        "id": "iSvfvEgLBg1X",
        "outputId": "3b62e306-8fb9-43ea-aaa9-22264d277a05"
      },
      "execution_count": null,
      "outputs": [
        {
          "output_type": "execute_result",
          "data": {
            "text/plain": [
              "(8241, 45)"
            ]
          },
          "metadata": {},
          "execution_count": 20
        }
      ]
    },
    {
      "cell_type": "code",
      "source": [
        "listings.head()"
      ],
      "metadata": {
        "colab": {
          "base_uri": "https://localhost:8080/",
          "height": 647
        },
        "id": "CXpcqG4IApAf",
        "outputId": "9a3b0e26-8725-42f8-e1b0-d0dc7d4918d1"
      },
      "execution_count": null,
      "outputs": [
        {
          "output_type": "execute_result",
          "data": {
            "text/plain": [
              "      id  host_id  host_since           host_location host_response_time  \\\n",
              "0   2818     3159  2008-09-24  Amsterdam, Netherlands     within an hour   \n",
              "1  20168    59484  2009-12-02  Amsterdam, Netherlands     within an hour   \n",
              "2  27886    97647  2010-03-23  Amsterdam, Netherlands     within an hour   \n",
              "3  28871   124245  2010-05-13  Amsterdam, Netherlands     within an hour   \n",
              "4  29051   124245  2010-05-13  Amsterdam, Netherlands     within an hour   \n",
              "\n",
              "  host_response_rate host_acceptance_rate host_is_superhost  \\\n",
              "0               100%                 100%                 t   \n",
              "1               100%                  98%                 f   \n",
              "2               100%                 100%                 f   \n",
              "3               100%                 100%                 t   \n",
              "4               100%                 100%                 t   \n",
              "\n",
              "   host_listings_count  host_total_listings_count  ...  \\\n",
              "0                    1                          1  ...   \n",
              "1                    5                          5  ...   \n",
              "2                    1                          1  ...   \n",
              "3                    2                          2  ...   \n",
              "4                    2                          2  ...   \n",
              "\n",
              "  review_scores_cleanliness review_scores_checkin review_scores_communication  \\\n",
              "0                      5.00                  4.97                        4.98   \n",
              "1                      4.79                  4.63                        4.62   \n",
              "2                      4.95                  4.95                        4.92   \n",
              "3                      4.89                  4.96                        4.94   \n",
              "4                      4.84                  4.92                        4.92   \n",
              "\n",
              "   review_scores_location  review_scores_value                   license  \\\n",
              "0                    4.69                 4.82  0363 5F3A 5684 6750 D14D   \n",
              "1                    4.87                 4.49  0363 CBB3 2C10 0C2A 1E29   \n",
              "2                    4.89                 4.79  0363 974D 4986 7411 88D8   \n",
              "3                    4.96                 4.83  0363 607B EA74 0BD8 2F6F   \n",
              "4                    4.87                 4.77  0363 607B EA74 0BD8 2F6F   \n",
              "\n",
              "   instant_bookable calculated_host_listings_count  reviews_per_month  \\\n",
              "0                 t                              1               1.86   \n",
              "1                 t                              2               2.22   \n",
              "2                 t                              1               1.78   \n",
              "3                 f                              2               2.92   \n",
              "4                 f                              2               4.16   \n",
              "\n",
              "            source  \n",
              "0      city scrape  \n",
              "1  previous scrape  \n",
              "2      city scrape  \n",
              "3      city scrape  \n",
              "4      city scrape  \n",
              "\n",
              "[5 rows x 45 columns]"
            ],
            "text/html": [
              "\n",
              "  <div id=\"df-48438558-5361-418b-8a94-ba69c2b83b20\">\n",
              "    <div class=\"colab-df-container\">\n",
              "      <div>\n",
              "<style scoped>\n",
              "    .dataframe tbody tr th:only-of-type {\n",
              "        vertical-align: middle;\n",
              "    }\n",
              "\n",
              "    .dataframe tbody tr th {\n",
              "        vertical-align: top;\n",
              "    }\n",
              "\n",
              "    .dataframe thead th {\n",
              "        text-align: right;\n",
              "    }\n",
              "</style>\n",
              "<table border=\"1\" class=\"dataframe\">\n",
              "  <thead>\n",
              "    <tr style=\"text-align: right;\">\n",
              "      <th></th>\n",
              "      <th>id</th>\n",
              "      <th>host_id</th>\n",
              "      <th>host_since</th>\n",
              "      <th>host_location</th>\n",
              "      <th>host_response_time</th>\n",
              "      <th>host_response_rate</th>\n",
              "      <th>host_acceptance_rate</th>\n",
              "      <th>host_is_superhost</th>\n",
              "      <th>host_listings_count</th>\n",
              "      <th>host_total_listings_count</th>\n",
              "      <th>...</th>\n",
              "      <th>review_scores_cleanliness</th>\n",
              "      <th>review_scores_checkin</th>\n",
              "      <th>review_scores_communication</th>\n",
              "      <th>review_scores_location</th>\n",
              "      <th>review_scores_value</th>\n",
              "      <th>license</th>\n",
              "      <th>instant_bookable</th>\n",
              "      <th>calculated_host_listings_count</th>\n",
              "      <th>reviews_per_month</th>\n",
              "      <th>source</th>\n",
              "    </tr>\n",
              "  </thead>\n",
              "  <tbody>\n",
              "    <tr>\n",
              "      <th>0</th>\n",
              "      <td>2818</td>\n",
              "      <td>3159</td>\n",
              "      <td>2008-09-24</td>\n",
              "      <td>Amsterdam, Netherlands</td>\n",
              "      <td>within an hour</td>\n",
              "      <td>100%</td>\n",
              "      <td>100%</td>\n",
              "      <td>t</td>\n",
              "      <td>1</td>\n",
              "      <td>1</td>\n",
              "      <td>...</td>\n",
              "      <td>5.00</td>\n",
              "      <td>4.97</td>\n",
              "      <td>4.98</td>\n",
              "      <td>4.69</td>\n",
              "      <td>4.82</td>\n",
              "      <td>0363 5F3A 5684 6750 D14D</td>\n",
              "      <td>t</td>\n",
              "      <td>1</td>\n",
              "      <td>1.86</td>\n",
              "      <td>city scrape</td>\n",
              "    </tr>\n",
              "    <tr>\n",
              "      <th>1</th>\n",
              "      <td>20168</td>\n",
              "      <td>59484</td>\n",
              "      <td>2009-12-02</td>\n",
              "      <td>Amsterdam, Netherlands</td>\n",
              "      <td>within an hour</td>\n",
              "      <td>100%</td>\n",
              "      <td>98%</td>\n",
              "      <td>f</td>\n",
              "      <td>5</td>\n",
              "      <td>5</td>\n",
              "      <td>...</td>\n",
              "      <td>4.79</td>\n",
              "      <td>4.63</td>\n",
              "      <td>4.62</td>\n",
              "      <td>4.87</td>\n",
              "      <td>4.49</td>\n",
              "      <td>0363 CBB3 2C10 0C2A 1E29</td>\n",
              "      <td>t</td>\n",
              "      <td>2</td>\n",
              "      <td>2.22</td>\n",
              "      <td>previous scrape</td>\n",
              "    </tr>\n",
              "    <tr>\n",
              "      <th>2</th>\n",
              "      <td>27886</td>\n",
              "      <td>97647</td>\n",
              "      <td>2010-03-23</td>\n",
              "      <td>Amsterdam, Netherlands</td>\n",
              "      <td>within an hour</td>\n",
              "      <td>100%</td>\n",
              "      <td>100%</td>\n",
              "      <td>f</td>\n",
              "      <td>1</td>\n",
              "      <td>1</td>\n",
              "      <td>...</td>\n",
              "      <td>4.95</td>\n",
              "      <td>4.95</td>\n",
              "      <td>4.92</td>\n",
              "      <td>4.89</td>\n",
              "      <td>4.79</td>\n",
              "      <td>0363 974D 4986 7411 88D8</td>\n",
              "      <td>t</td>\n",
              "      <td>1</td>\n",
              "      <td>1.78</td>\n",
              "      <td>city scrape</td>\n",
              "    </tr>\n",
              "    <tr>\n",
              "      <th>3</th>\n",
              "      <td>28871</td>\n",
              "      <td>124245</td>\n",
              "      <td>2010-05-13</td>\n",
              "      <td>Amsterdam, Netherlands</td>\n",
              "      <td>within an hour</td>\n",
              "      <td>100%</td>\n",
              "      <td>100%</td>\n",
              "      <td>t</td>\n",
              "      <td>2</td>\n",
              "      <td>2</td>\n",
              "      <td>...</td>\n",
              "      <td>4.89</td>\n",
              "      <td>4.96</td>\n",
              "      <td>4.94</td>\n",
              "      <td>4.96</td>\n",
              "      <td>4.83</td>\n",
              "      <td>0363 607B EA74 0BD8 2F6F</td>\n",
              "      <td>f</td>\n",
              "      <td>2</td>\n",
              "      <td>2.92</td>\n",
              "      <td>city scrape</td>\n",
              "    </tr>\n",
              "    <tr>\n",
              "      <th>4</th>\n",
              "      <td>29051</td>\n",
              "      <td>124245</td>\n",
              "      <td>2010-05-13</td>\n",
              "      <td>Amsterdam, Netherlands</td>\n",
              "      <td>within an hour</td>\n",
              "      <td>100%</td>\n",
              "      <td>100%</td>\n",
              "      <td>t</td>\n",
              "      <td>2</td>\n",
              "      <td>2</td>\n",
              "      <td>...</td>\n",
              "      <td>4.84</td>\n",
              "      <td>4.92</td>\n",
              "      <td>4.92</td>\n",
              "      <td>4.87</td>\n",
              "      <td>4.77</td>\n",
              "      <td>0363 607B EA74 0BD8 2F6F</td>\n",
              "      <td>f</td>\n",
              "      <td>2</td>\n",
              "      <td>4.16</td>\n",
              "      <td>city scrape</td>\n",
              "    </tr>\n",
              "  </tbody>\n",
              "</table>\n",
              "<p>5 rows × 45 columns</p>\n",
              "</div>\n",
              "      <button class=\"colab-df-convert\" onclick=\"convertToInteractive('df-48438558-5361-418b-8a94-ba69c2b83b20')\"\n",
              "              title=\"Convert this dataframe to an interactive table.\"\n",
              "              style=\"display:none;\">\n",
              "        \n",
              "  <svg xmlns=\"http://www.w3.org/2000/svg\" height=\"24px\"viewBox=\"0 0 24 24\"\n",
              "       width=\"24px\">\n",
              "    <path d=\"M0 0h24v24H0V0z\" fill=\"none\"/>\n",
              "    <path d=\"M18.56 5.44l.94 2.06.94-2.06 2.06-.94-2.06-.94-.94-2.06-.94 2.06-2.06.94zm-11 1L8.5 8.5l.94-2.06 2.06-.94-2.06-.94L8.5 2.5l-.94 2.06-2.06.94zm10 10l.94 2.06.94-2.06 2.06-.94-2.06-.94-.94-2.06-.94 2.06-2.06.94z\"/><path d=\"M17.41 7.96l-1.37-1.37c-.4-.4-.92-.59-1.43-.59-.52 0-1.04.2-1.43.59L10.3 9.45l-7.72 7.72c-.78.78-.78 2.05 0 2.83L4 21.41c.39.39.9.59 1.41.59.51 0 1.02-.2 1.41-.59l7.78-7.78 2.81-2.81c.8-.78.8-2.07 0-2.86zM5.41 20L4 18.59l7.72-7.72 1.47 1.35L5.41 20z\"/>\n",
              "  </svg>\n",
              "      </button>\n",
              "      \n",
              "  <style>\n",
              "    .colab-df-container {\n",
              "      display:flex;\n",
              "      flex-wrap:wrap;\n",
              "      gap: 12px;\n",
              "    }\n",
              "\n",
              "    .colab-df-convert {\n",
              "      background-color: #E8F0FE;\n",
              "      border: none;\n",
              "      border-radius: 50%;\n",
              "      cursor: pointer;\n",
              "      display: none;\n",
              "      fill: #1967D2;\n",
              "      height: 32px;\n",
              "      padding: 0 0 0 0;\n",
              "      width: 32px;\n",
              "    }\n",
              "\n",
              "    .colab-df-convert:hover {\n",
              "      background-color: #E2EBFA;\n",
              "      box-shadow: 0px 1px 2px rgba(60, 64, 67, 0.3), 0px 1px 3px 1px rgba(60, 64, 67, 0.15);\n",
              "      fill: #174EA6;\n",
              "    }\n",
              "\n",
              "    [theme=dark] .colab-df-convert {\n",
              "      background-color: #3B4455;\n",
              "      fill: #D2E3FC;\n",
              "    }\n",
              "\n",
              "    [theme=dark] .colab-df-convert:hover {\n",
              "      background-color: #434B5C;\n",
              "      box-shadow: 0px 1px 3px 1px rgba(0, 0, 0, 0.15);\n",
              "      filter: drop-shadow(0px 1px 2px rgba(0, 0, 0, 0.3));\n",
              "      fill: #FFFFFF;\n",
              "    }\n",
              "  </style>\n",
              "\n",
              "      <script>\n",
              "        const buttonEl =\n",
              "          document.querySelector('#df-48438558-5361-418b-8a94-ba69c2b83b20 button.colab-df-convert');\n",
              "        buttonEl.style.display =\n",
              "          google.colab.kernel.accessAllowed ? 'block' : 'none';\n",
              "\n",
              "        async function convertToInteractive(key) {\n",
              "          const element = document.querySelector('#df-48438558-5361-418b-8a94-ba69c2b83b20');\n",
              "          const dataTable =\n",
              "            await google.colab.kernel.invokeFunction('convertToInteractive',\n",
              "                                                     [key], {});\n",
              "          if (!dataTable) return;\n",
              "\n",
              "          const docLinkHtml = 'Like what you see? Visit the ' +\n",
              "            '<a target=\"_blank\" href=https://colab.research.google.com/notebooks/data_table.ipynb>data table notebook</a>'\n",
              "            + ' to learn more about interactive tables.';\n",
              "          element.innerHTML = '';\n",
              "          dataTable['output_type'] = 'display_data';\n",
              "          await google.colab.output.renderOutput(dataTable, element);\n",
              "          const docLink = document.createElement('div');\n",
              "          docLink.innerHTML = docLinkHtml;\n",
              "          element.appendChild(docLink);\n",
              "        }\n",
              "      </script>\n",
              "    </div>\n",
              "  </div>\n",
              "  "
            ]
          },
          "metadata": {},
          "execution_count": 21
        }
      ]
    },
    {
      "cell_type": "code",
      "source": [
        "listings.describe()"
      ],
      "metadata": {
        "colab": {
          "base_uri": "https://localhost:8080/",
          "height": 394
        },
        "id": "HVRLF1scCGBq",
        "outputId": "fa8ec24c-9d2b-4b68-9465-09acfbafcc46"
      },
      "execution_count": null,
      "outputs": [
        {
          "output_type": "execute_result",
          "data": {
            "text/plain": [
              "                 id       host_id  host_listings_count  \\\n",
              "count  8.241000e+03  8.241000e+03          8241.000000   \n",
              "mean   9.455284e+16  1.013613e+08             3.170368   \n",
              "std    2.278913e+17  1.301759e+08            27.209835   \n",
              "min    2.818000e+03  3.159000e+03             0.000000   \n",
              "25%    1.489044e+07  9.678732e+06             1.000000   \n",
              "50%    3.223467e+07  3.560931e+07             1.000000   \n",
              "75%    5.043223e+07  1.517597e+08             2.000000   \n",
              "max    7.099861e+17  4.783754e+08          1926.000000   \n",
              "\n",
              "       host_total_listings_count     latitude    longitude  accommodates  \\\n",
              "count                8241.000000  8241.000000  8241.000000   8241.000000   \n",
              "mean                    4.899041    52.365778     4.892250      2.988836   \n",
              "std                    36.045989     0.021770     0.041648      1.482297   \n",
              "min                     0.000000    52.268010     4.742430      0.000000   \n",
              "25%                     1.000000    52.355070     4.867110      2.000000   \n",
              "50%                     1.000000    52.365890     4.888640      2.000000   \n",
              "75%                     3.000000    52.376660     4.910709      4.000000   \n",
              "max                  1926.000000    52.442340     5.074204     16.000000   \n",
              "\n",
              "          bedrooms         beds  minimum_nights  ...  number_of_reviews_l30d  \\\n",
              "count  7830.000000  8091.000000     8241.000000  ...             8241.000000   \n",
              "mean      1.602682     1.960697        5.312947  ...                1.114428   \n",
              "std       0.940492     1.637006       40.377803  ...                2.738150   \n",
              "min       1.000000     1.000000        1.000000  ...                0.000000   \n",
              "25%       1.000000     1.000000        2.000000  ...                0.000000   \n",
              "50%       1.000000     1.000000        3.000000  ...                0.000000   \n",
              "75%       2.000000     2.000000        4.000000  ...                1.000000   \n",
              "max      17.000000    34.000000     1001.000000  ...              126.000000   \n",
              "\n",
              "       review_scores_rating  review_scores_accuracy  \\\n",
              "count            7337.00000             7329.000000   \n",
              "mean                4.79356                4.827877   \n",
              "std                 0.33805                0.282028   \n",
              "min                 0.00000                1.000000   \n",
              "25%                 4.73000                4.770000   \n",
              "50%                 4.88000                4.910000   \n",
              "75%                 5.00000                5.000000   \n",
              "max                 5.00000                5.000000   \n",
              "\n",
              "       review_scores_cleanliness  review_scores_checkin  \\\n",
              "count                7328.000000            7329.000000   \n",
              "mean                    4.740826               4.866533   \n",
              "std                     0.352946               0.265795   \n",
              "min                     1.000000               1.000000   \n",
              "25%                     4.640000               4.830000   \n",
              "50%                     4.850000               4.950000   \n",
              "75%                     5.000000               5.000000   \n",
              "max                     5.000000               5.000000   \n",
              "\n",
              "       review_scores_communication  review_scores_location  \\\n",
              "count                  7329.000000             7329.000000   \n",
              "mean                      4.872068                4.773194   \n",
              "std                       0.273677                0.274590   \n",
              "min                       1.000000                1.000000   \n",
              "25%                       4.860000                4.670000   \n",
              "50%                       4.970000                4.840000   \n",
              "75%                       5.000000                5.000000   \n",
              "max                       5.000000                5.000000   \n",
              "\n",
              "       review_scores_value  calculated_host_listings_count  reviews_per_month  \n",
              "count          7329.000000                     8241.000000        7337.000000  \n",
              "mean              4.636968                        2.086883           1.268371  \n",
              "std               0.334934                        2.994732           2.217496  \n",
              "min               1.000000                        1.000000           0.010000  \n",
              "25%               4.500000                        1.000000           0.290000  \n",
              "50%               4.690000                        1.000000           0.630000  \n",
              "75%               4.830000                        2.000000           1.570000  \n",
              "max               5.000000                       22.000000         104.110000  \n",
              "\n",
              "[8 rows x 27 columns]"
            ],
            "text/html": [
              "\n",
              "  <div id=\"df-caed8b73-8f36-476c-bac6-f50677656c65\">\n",
              "    <div class=\"colab-df-container\">\n",
              "      <div>\n",
              "<style scoped>\n",
              "    .dataframe tbody tr th:only-of-type {\n",
              "        vertical-align: middle;\n",
              "    }\n",
              "\n",
              "    .dataframe tbody tr th {\n",
              "        vertical-align: top;\n",
              "    }\n",
              "\n",
              "    .dataframe thead th {\n",
              "        text-align: right;\n",
              "    }\n",
              "</style>\n",
              "<table border=\"1\" class=\"dataframe\">\n",
              "  <thead>\n",
              "    <tr style=\"text-align: right;\">\n",
              "      <th></th>\n",
              "      <th>id</th>\n",
              "      <th>host_id</th>\n",
              "      <th>host_listings_count</th>\n",
              "      <th>host_total_listings_count</th>\n",
              "      <th>latitude</th>\n",
              "      <th>longitude</th>\n",
              "      <th>accommodates</th>\n",
              "      <th>bedrooms</th>\n",
              "      <th>beds</th>\n",
              "      <th>minimum_nights</th>\n",
              "      <th>...</th>\n",
              "      <th>number_of_reviews_l30d</th>\n",
              "      <th>review_scores_rating</th>\n",
              "      <th>review_scores_accuracy</th>\n",
              "      <th>review_scores_cleanliness</th>\n",
              "      <th>review_scores_checkin</th>\n",
              "      <th>review_scores_communication</th>\n",
              "      <th>review_scores_location</th>\n",
              "      <th>review_scores_value</th>\n",
              "      <th>calculated_host_listings_count</th>\n",
              "      <th>reviews_per_month</th>\n",
              "    </tr>\n",
              "  </thead>\n",
              "  <tbody>\n",
              "    <tr>\n",
              "      <th>count</th>\n",
              "      <td>8.241000e+03</td>\n",
              "      <td>8.241000e+03</td>\n",
              "      <td>8241.000000</td>\n",
              "      <td>8241.000000</td>\n",
              "      <td>8241.000000</td>\n",
              "      <td>8241.000000</td>\n",
              "      <td>8241.000000</td>\n",
              "      <td>7830.000000</td>\n",
              "      <td>8091.000000</td>\n",
              "      <td>8241.000000</td>\n",
              "      <td>...</td>\n",
              "      <td>8241.000000</td>\n",
              "      <td>7337.00000</td>\n",
              "      <td>7329.000000</td>\n",
              "      <td>7328.000000</td>\n",
              "      <td>7329.000000</td>\n",
              "      <td>7329.000000</td>\n",
              "      <td>7329.000000</td>\n",
              "      <td>7329.000000</td>\n",
              "      <td>8241.000000</td>\n",
              "      <td>7337.000000</td>\n",
              "    </tr>\n",
              "    <tr>\n",
              "      <th>mean</th>\n",
              "      <td>9.455284e+16</td>\n",
              "      <td>1.013613e+08</td>\n",
              "      <td>3.170368</td>\n",
              "      <td>4.899041</td>\n",
              "      <td>52.365778</td>\n",
              "      <td>4.892250</td>\n",
              "      <td>2.988836</td>\n",
              "      <td>1.602682</td>\n",
              "      <td>1.960697</td>\n",
              "      <td>5.312947</td>\n",
              "      <td>...</td>\n",
              "      <td>1.114428</td>\n",
              "      <td>4.79356</td>\n",
              "      <td>4.827877</td>\n",
              "      <td>4.740826</td>\n",
              "      <td>4.866533</td>\n",
              "      <td>4.872068</td>\n",
              "      <td>4.773194</td>\n",
              "      <td>4.636968</td>\n",
              "      <td>2.086883</td>\n",
              "      <td>1.268371</td>\n",
              "    </tr>\n",
              "    <tr>\n",
              "      <th>std</th>\n",
              "      <td>2.278913e+17</td>\n",
              "      <td>1.301759e+08</td>\n",
              "      <td>27.209835</td>\n",
              "      <td>36.045989</td>\n",
              "      <td>0.021770</td>\n",
              "      <td>0.041648</td>\n",
              "      <td>1.482297</td>\n",
              "      <td>0.940492</td>\n",
              "      <td>1.637006</td>\n",
              "      <td>40.377803</td>\n",
              "      <td>...</td>\n",
              "      <td>2.738150</td>\n",
              "      <td>0.33805</td>\n",
              "      <td>0.282028</td>\n",
              "      <td>0.352946</td>\n",
              "      <td>0.265795</td>\n",
              "      <td>0.273677</td>\n",
              "      <td>0.274590</td>\n",
              "      <td>0.334934</td>\n",
              "      <td>2.994732</td>\n",
              "      <td>2.217496</td>\n",
              "    </tr>\n",
              "    <tr>\n",
              "      <th>min</th>\n",
              "      <td>2.818000e+03</td>\n",
              "      <td>3.159000e+03</td>\n",
              "      <td>0.000000</td>\n",
              "      <td>0.000000</td>\n",
              "      <td>52.268010</td>\n",
              "      <td>4.742430</td>\n",
              "      <td>0.000000</td>\n",
              "      <td>1.000000</td>\n",
              "      <td>1.000000</td>\n",
              "      <td>1.000000</td>\n",
              "      <td>...</td>\n",
              "      <td>0.000000</td>\n",
              "      <td>0.00000</td>\n",
              "      <td>1.000000</td>\n",
              "      <td>1.000000</td>\n",
              "      <td>1.000000</td>\n",
              "      <td>1.000000</td>\n",
              "      <td>1.000000</td>\n",
              "      <td>1.000000</td>\n",
              "      <td>1.000000</td>\n",
              "      <td>0.010000</td>\n",
              "    </tr>\n",
              "    <tr>\n",
              "      <th>25%</th>\n",
              "      <td>1.489044e+07</td>\n",
              "      <td>9.678732e+06</td>\n",
              "      <td>1.000000</td>\n",
              "      <td>1.000000</td>\n",
              "      <td>52.355070</td>\n",
              "      <td>4.867110</td>\n",
              "      <td>2.000000</td>\n",
              "      <td>1.000000</td>\n",
              "      <td>1.000000</td>\n",
              "      <td>2.000000</td>\n",
              "      <td>...</td>\n",
              "      <td>0.000000</td>\n",
              "      <td>4.73000</td>\n",
              "      <td>4.770000</td>\n",
              "      <td>4.640000</td>\n",
              "      <td>4.830000</td>\n",
              "      <td>4.860000</td>\n",
              "      <td>4.670000</td>\n",
              "      <td>4.500000</td>\n",
              "      <td>1.000000</td>\n",
              "      <td>0.290000</td>\n",
              "    </tr>\n",
              "    <tr>\n",
              "      <th>50%</th>\n",
              "      <td>3.223467e+07</td>\n",
              "      <td>3.560931e+07</td>\n",
              "      <td>1.000000</td>\n",
              "      <td>1.000000</td>\n",
              "      <td>52.365890</td>\n",
              "      <td>4.888640</td>\n",
              "      <td>2.000000</td>\n",
              "      <td>1.000000</td>\n",
              "      <td>1.000000</td>\n",
              "      <td>3.000000</td>\n",
              "      <td>...</td>\n",
              "      <td>0.000000</td>\n",
              "      <td>4.88000</td>\n",
              "      <td>4.910000</td>\n",
              "      <td>4.850000</td>\n",
              "      <td>4.950000</td>\n",
              "      <td>4.970000</td>\n",
              "      <td>4.840000</td>\n",
              "      <td>4.690000</td>\n",
              "      <td>1.000000</td>\n",
              "      <td>0.630000</td>\n",
              "    </tr>\n",
              "    <tr>\n",
              "      <th>75%</th>\n",
              "      <td>5.043223e+07</td>\n",
              "      <td>1.517597e+08</td>\n",
              "      <td>2.000000</td>\n",
              "      <td>3.000000</td>\n",
              "      <td>52.376660</td>\n",
              "      <td>4.910709</td>\n",
              "      <td>4.000000</td>\n",
              "      <td>2.000000</td>\n",
              "      <td>2.000000</td>\n",
              "      <td>4.000000</td>\n",
              "      <td>...</td>\n",
              "      <td>1.000000</td>\n",
              "      <td>5.00000</td>\n",
              "      <td>5.000000</td>\n",
              "      <td>5.000000</td>\n",
              "      <td>5.000000</td>\n",
              "      <td>5.000000</td>\n",
              "      <td>5.000000</td>\n",
              "      <td>4.830000</td>\n",
              "      <td>2.000000</td>\n",
              "      <td>1.570000</td>\n",
              "    </tr>\n",
              "    <tr>\n",
              "      <th>max</th>\n",
              "      <td>7.099861e+17</td>\n",
              "      <td>4.783754e+08</td>\n",
              "      <td>1926.000000</td>\n",
              "      <td>1926.000000</td>\n",
              "      <td>52.442340</td>\n",
              "      <td>5.074204</td>\n",
              "      <td>16.000000</td>\n",
              "      <td>17.000000</td>\n",
              "      <td>34.000000</td>\n",
              "      <td>1001.000000</td>\n",
              "      <td>...</td>\n",
              "      <td>126.000000</td>\n",
              "      <td>5.00000</td>\n",
              "      <td>5.000000</td>\n",
              "      <td>5.000000</td>\n",
              "      <td>5.000000</td>\n",
              "      <td>5.000000</td>\n",
              "      <td>5.000000</td>\n",
              "      <td>5.000000</td>\n",
              "      <td>22.000000</td>\n",
              "      <td>104.110000</td>\n",
              "    </tr>\n",
              "  </tbody>\n",
              "</table>\n",
              "<p>8 rows × 27 columns</p>\n",
              "</div>\n",
              "      <button class=\"colab-df-convert\" onclick=\"convertToInteractive('df-caed8b73-8f36-476c-bac6-f50677656c65')\"\n",
              "              title=\"Convert this dataframe to an interactive table.\"\n",
              "              style=\"display:none;\">\n",
              "        \n",
              "  <svg xmlns=\"http://www.w3.org/2000/svg\" height=\"24px\"viewBox=\"0 0 24 24\"\n",
              "       width=\"24px\">\n",
              "    <path d=\"M0 0h24v24H0V0z\" fill=\"none\"/>\n",
              "    <path d=\"M18.56 5.44l.94 2.06.94-2.06 2.06-.94-2.06-.94-.94-2.06-.94 2.06-2.06.94zm-11 1L8.5 8.5l.94-2.06 2.06-.94-2.06-.94L8.5 2.5l-.94 2.06-2.06.94zm10 10l.94 2.06.94-2.06 2.06-.94-2.06-.94-.94-2.06-.94 2.06-2.06.94z\"/><path d=\"M17.41 7.96l-1.37-1.37c-.4-.4-.92-.59-1.43-.59-.52 0-1.04.2-1.43.59L10.3 9.45l-7.72 7.72c-.78.78-.78 2.05 0 2.83L4 21.41c.39.39.9.59 1.41.59.51 0 1.02-.2 1.41-.59l7.78-7.78 2.81-2.81c.8-.78.8-2.07 0-2.86zM5.41 20L4 18.59l7.72-7.72 1.47 1.35L5.41 20z\"/>\n",
              "  </svg>\n",
              "      </button>\n",
              "      \n",
              "  <style>\n",
              "    .colab-df-container {\n",
              "      display:flex;\n",
              "      flex-wrap:wrap;\n",
              "      gap: 12px;\n",
              "    }\n",
              "\n",
              "    .colab-df-convert {\n",
              "      background-color: #E8F0FE;\n",
              "      border: none;\n",
              "      border-radius: 50%;\n",
              "      cursor: pointer;\n",
              "      display: none;\n",
              "      fill: #1967D2;\n",
              "      height: 32px;\n",
              "      padding: 0 0 0 0;\n",
              "      width: 32px;\n",
              "    }\n",
              "\n",
              "    .colab-df-convert:hover {\n",
              "      background-color: #E2EBFA;\n",
              "      box-shadow: 0px 1px 2px rgba(60, 64, 67, 0.3), 0px 1px 3px 1px rgba(60, 64, 67, 0.15);\n",
              "      fill: #174EA6;\n",
              "    }\n",
              "\n",
              "    [theme=dark] .colab-df-convert {\n",
              "      background-color: #3B4455;\n",
              "      fill: #D2E3FC;\n",
              "    }\n",
              "\n",
              "    [theme=dark] .colab-df-convert:hover {\n",
              "      background-color: #434B5C;\n",
              "      box-shadow: 0px 1px 3px 1px rgba(0, 0, 0, 0.15);\n",
              "      filter: drop-shadow(0px 1px 2px rgba(0, 0, 0, 0.3));\n",
              "      fill: #FFFFFF;\n",
              "    }\n",
              "  </style>\n",
              "\n",
              "      <script>\n",
              "        const buttonEl =\n",
              "          document.querySelector('#df-caed8b73-8f36-476c-bac6-f50677656c65 button.colab-df-convert');\n",
              "        buttonEl.style.display =\n",
              "          google.colab.kernel.accessAllowed ? 'block' : 'none';\n",
              "\n",
              "        async function convertToInteractive(key) {\n",
              "          const element = document.querySelector('#df-caed8b73-8f36-476c-bac6-f50677656c65');\n",
              "          const dataTable =\n",
              "            await google.colab.kernel.invokeFunction('convertToInteractive',\n",
              "                                                     [key], {});\n",
              "          if (!dataTable) return;\n",
              "\n",
              "          const docLinkHtml = 'Like what you see? Visit the ' +\n",
              "            '<a target=\"_blank\" href=https://colab.research.google.com/notebooks/data_table.ipynb>data table notebook</a>'\n",
              "            + ' to learn more about interactive tables.';\n",
              "          element.innerHTML = '';\n",
              "          dataTable['output_type'] = 'display_data';\n",
              "          await google.colab.output.renderOutput(dataTable, element);\n",
              "          const docLink = document.createElement('div');\n",
              "          docLink.innerHTML = docLinkHtml;\n",
              "          element.appendChild(docLink);\n",
              "        }\n",
              "      </script>\n",
              "    </div>\n",
              "  </div>\n",
              "  "
            ]
          },
          "metadata": {},
          "execution_count": 22
        }
      ]
    },
    {
      "cell_type": "markdown",
      "source": [
        "### Convert the incorrect data type to the correct data type"
      ],
      "metadata": {
        "id": "cJDJWSvjqWp5"
      }
    },
    {
      "cell_type": "code",
      "source": [
        "listings.info()"
      ],
      "metadata": {
        "colab": {
          "base_uri": "https://localhost:8080/"
        },
        "id": "cWFhhqgFPp4E",
        "outputId": "208b0208-9d08-4b98-fb74-8c2b44a6b8d6"
      },
      "execution_count": null,
      "outputs": [
        {
          "output_type": "stream",
          "name": "stdout",
          "text": [
            "<class 'pandas.core.frame.DataFrame'>\n",
            "Int64Index: 8241 entries, 0 to 6392\n",
            "Data columns (total 45 columns):\n",
            " #   Column                          Non-Null Count  Dtype  \n",
            "---  ------                          --------------  -----  \n",
            " 0   id                              8241 non-null   int64  \n",
            " 1   host_id                         8241 non-null   int64  \n",
            " 2   host_since                      8241 non-null   object \n",
            " 3   host_location                   7469 non-null   object \n",
            " 4   host_response_time              6327 non-null   object \n",
            " 5   host_response_rate              6327 non-null   object \n",
            " 6   host_acceptance_rate            7230 non-null   object \n",
            " 7   host_is_superhost               8233 non-null   object \n",
            " 8   host_listings_count             8241 non-null   int64  \n",
            " 9   host_total_listings_count       8241 non-null   int64  \n",
            " 10  host_has_profile_pic            8241 non-null   object \n",
            " 11  host_identity_verified          8241 non-null   object \n",
            " 12  neighbourhood_cleansed          8241 non-null   object \n",
            " 13  latitude                        8241 non-null   float64\n",
            " 14  longitude                       8241 non-null   float64\n",
            " 15  room_type                       8241 non-null   object \n",
            " 16  accommodates                    8241 non-null   int64  \n",
            " 17  bathrooms_text                  8222 non-null   object \n",
            " 18  bedrooms                        7830 non-null   float64\n",
            " 19  beds                            8091 non-null   float64\n",
            " 20  amenities                       8241 non-null   object \n",
            " 21  price                           8241 non-null   object \n",
            " 22  minimum_nights                  8241 non-null   int64  \n",
            " 23  maximum_nights                  8241 non-null   int64  \n",
            " 24  has_availability                8241 non-null   object \n",
            " 25  availability_30                 8241 non-null   int64  \n",
            " 26  availability_60                 8241 non-null   int64  \n",
            " 27  availability_90                 8241 non-null   int64  \n",
            " 28  availability_365                8241 non-null   int64  \n",
            " 29  number_of_reviews               8241 non-null   int64  \n",
            " 30  number_of_reviews_ltm           8241 non-null   int64  \n",
            " 31  number_of_reviews_l30d          8241 non-null   int64  \n",
            " 32  last_review                     7337 non-null   object \n",
            " 33  review_scores_rating            7337 non-null   float64\n",
            " 34  review_scores_accuracy          7329 non-null   float64\n",
            " 35  review_scores_cleanliness       7328 non-null   float64\n",
            " 36  review_scores_checkin           7329 non-null   float64\n",
            " 37  review_scores_communication     7329 non-null   float64\n",
            " 38  review_scores_location          7329 non-null   float64\n",
            " 39  review_scores_value             7329 non-null   float64\n",
            " 40  license                         7711 non-null   object \n",
            " 41  instant_bookable                8241 non-null   object \n",
            " 42  calculated_host_listings_count  8241 non-null   int64  \n",
            " 43  reviews_per_month               7337 non-null   float64\n",
            " 44  source                          6893 non-null   object \n",
            "dtypes: float64(12), int64(15), object(18)\n",
            "memory usage: 2.9+ MB\n"
          ]
        }
      ]
    },
    {
      "cell_type": "markdown",
      "source": [
        "**Transform features before converting data type to float**"
      ],
      "metadata": {
        "id": "PvqDpx3XwlMu"
      }
    },
    {
      "cell_type": "code",
      "source": [
        "listings[['price']]"
      ],
      "metadata": {
        "colab": {
          "base_uri": "https://localhost:8080/"
        },
        "id": "ztsA12UkwleT",
        "outputId": "3493997a-798e-4570-8d22-0988cdc33fdd"
      },
      "execution_count": null,
      "outputs": [
        {
          "output_type": "execute_result",
          "data": {
            "text/plain": [
              "        price\n",
              "0      $49.00\n",
              "1     $106.00\n",
              "2     $136.00\n",
              "3      $75.00\n",
              "4      $55.00\n",
              "...       ...\n",
              "6388  $175.00\n",
              "6389  $630.00\n",
              "6390  $375.00\n",
              "6391  $244.00\n",
              "6392  $428.00\n",
              "\n",
              "[8241 rows x 1 columns]"
            ],
            "text/html": [
              "\n",
              "  <div id=\"df-9cc73edd-a978-4e0d-9f7b-724dcf2c0ac9\">\n",
              "    <div class=\"colab-df-container\">\n",
              "      <div>\n",
              "<style scoped>\n",
              "    .dataframe tbody tr th:only-of-type {\n",
              "        vertical-align: middle;\n",
              "    }\n",
              "\n",
              "    .dataframe tbody tr th {\n",
              "        vertical-align: top;\n",
              "    }\n",
              "\n",
              "    .dataframe thead th {\n",
              "        text-align: right;\n",
              "    }\n",
              "</style>\n",
              "<table border=\"1\" class=\"dataframe\">\n",
              "  <thead>\n",
              "    <tr style=\"text-align: right;\">\n",
              "      <th></th>\n",
              "      <th>price</th>\n",
              "    </tr>\n",
              "  </thead>\n",
              "  <tbody>\n",
              "    <tr>\n",
              "      <th>0</th>\n",
              "      <td>$49.00</td>\n",
              "    </tr>\n",
              "    <tr>\n",
              "      <th>1</th>\n",
              "      <td>$106.00</td>\n",
              "    </tr>\n",
              "    <tr>\n",
              "      <th>2</th>\n",
              "      <td>$136.00</td>\n",
              "    </tr>\n",
              "    <tr>\n",
              "      <th>3</th>\n",
              "      <td>$75.00</td>\n",
              "    </tr>\n",
              "    <tr>\n",
              "      <th>4</th>\n",
              "      <td>$55.00</td>\n",
              "    </tr>\n",
              "    <tr>\n",
              "      <th>...</th>\n",
              "      <td>...</td>\n",
              "    </tr>\n",
              "    <tr>\n",
              "      <th>6388</th>\n",
              "      <td>$175.00</td>\n",
              "    </tr>\n",
              "    <tr>\n",
              "      <th>6389</th>\n",
              "      <td>$630.00</td>\n",
              "    </tr>\n",
              "    <tr>\n",
              "      <th>6390</th>\n",
              "      <td>$375.00</td>\n",
              "    </tr>\n",
              "    <tr>\n",
              "      <th>6391</th>\n",
              "      <td>$244.00</td>\n",
              "    </tr>\n",
              "    <tr>\n",
              "      <th>6392</th>\n",
              "      <td>$428.00</td>\n",
              "    </tr>\n",
              "  </tbody>\n",
              "</table>\n",
              "<p>8241 rows × 1 columns</p>\n",
              "</div>\n",
              "      <button class=\"colab-df-convert\" onclick=\"convertToInteractive('df-9cc73edd-a978-4e0d-9f7b-724dcf2c0ac9')\"\n",
              "              title=\"Convert this dataframe to an interactive table.\"\n",
              "              style=\"display:none;\">\n",
              "        \n",
              "  <svg xmlns=\"http://www.w3.org/2000/svg\" height=\"24px\"viewBox=\"0 0 24 24\"\n",
              "       width=\"24px\">\n",
              "    <path d=\"M0 0h24v24H0V0z\" fill=\"none\"/>\n",
              "    <path d=\"M18.56 5.44l.94 2.06.94-2.06 2.06-.94-2.06-.94-.94-2.06-.94 2.06-2.06.94zm-11 1L8.5 8.5l.94-2.06 2.06-.94-2.06-.94L8.5 2.5l-.94 2.06-2.06.94zm10 10l.94 2.06.94-2.06 2.06-.94-2.06-.94-.94-2.06-.94 2.06-2.06.94z\"/><path d=\"M17.41 7.96l-1.37-1.37c-.4-.4-.92-.59-1.43-.59-.52 0-1.04.2-1.43.59L10.3 9.45l-7.72 7.72c-.78.78-.78 2.05 0 2.83L4 21.41c.39.39.9.59 1.41.59.51 0 1.02-.2 1.41-.59l7.78-7.78 2.81-2.81c.8-.78.8-2.07 0-2.86zM5.41 20L4 18.59l7.72-7.72 1.47 1.35L5.41 20z\"/>\n",
              "  </svg>\n",
              "      </button>\n",
              "      \n",
              "  <style>\n",
              "    .colab-df-container {\n",
              "      display:flex;\n",
              "      flex-wrap:wrap;\n",
              "      gap: 12px;\n",
              "    }\n",
              "\n",
              "    .colab-df-convert {\n",
              "      background-color: #E8F0FE;\n",
              "      border: none;\n",
              "      border-radius: 50%;\n",
              "      cursor: pointer;\n",
              "      display: none;\n",
              "      fill: #1967D2;\n",
              "      height: 32px;\n",
              "      padding: 0 0 0 0;\n",
              "      width: 32px;\n",
              "    }\n",
              "\n",
              "    .colab-df-convert:hover {\n",
              "      background-color: #E2EBFA;\n",
              "      box-shadow: 0px 1px 2px rgba(60, 64, 67, 0.3), 0px 1px 3px 1px rgba(60, 64, 67, 0.15);\n",
              "      fill: #174EA6;\n",
              "    }\n",
              "\n",
              "    [theme=dark] .colab-df-convert {\n",
              "      background-color: #3B4455;\n",
              "      fill: #D2E3FC;\n",
              "    }\n",
              "\n",
              "    [theme=dark] .colab-df-convert:hover {\n",
              "      background-color: #434B5C;\n",
              "      box-shadow: 0px 1px 3px 1px rgba(0, 0, 0, 0.15);\n",
              "      filter: drop-shadow(0px 1px 2px rgba(0, 0, 0, 0.3));\n",
              "      fill: #FFFFFF;\n",
              "    }\n",
              "  </style>\n",
              "\n",
              "      <script>\n",
              "        const buttonEl =\n",
              "          document.querySelector('#df-9cc73edd-a978-4e0d-9f7b-724dcf2c0ac9 button.colab-df-convert');\n",
              "        buttonEl.style.display =\n",
              "          google.colab.kernel.accessAllowed ? 'block' : 'none';\n",
              "\n",
              "        async function convertToInteractive(key) {\n",
              "          const element = document.querySelector('#df-9cc73edd-a978-4e0d-9f7b-724dcf2c0ac9');\n",
              "          const dataTable =\n",
              "            await google.colab.kernel.invokeFunction('convertToInteractive',\n",
              "                                                     [key], {});\n",
              "          if (!dataTable) return;\n",
              "\n",
              "          const docLinkHtml = 'Like what you see? Visit the ' +\n",
              "            '<a target=\"_blank\" href=https://colab.research.google.com/notebooks/data_table.ipynb>data table notebook</a>'\n",
              "            + ' to learn more about interactive tables.';\n",
              "          element.innerHTML = '';\n",
              "          dataTable['output_type'] = 'display_data';\n",
              "          await google.colab.output.renderOutput(dataTable, element);\n",
              "          const docLink = document.createElement('div');\n",
              "          docLink.innerHTML = docLinkHtml;\n",
              "          element.appendChild(docLink);\n",
              "        }\n",
              "      </script>\n",
              "    </div>\n",
              "  </div>\n",
              "  "
            ]
          },
          "metadata": {},
          "execution_count": 24
        }
      ]
    },
    {
      "cell_type": "code",
      "source": [
        "# Remove $ and %\n",
        "listings[['host_response_rate','host_acceptance_rate','price']] = listings[['host_response_rate','host_acceptance_rate','price']].replace('\\%|\\$|\\,','', regex=True)\n",
        "listings[['host_response_rate','host_acceptance_rate','price']]"
      ],
      "metadata": {
        "colab": {
          "base_uri": "https://localhost:8080/"
        },
        "id": "LoeZGlFGvTZ-",
        "outputId": "00461ad5-d683-445b-94dd-33c0685c048d"
      },
      "execution_count": null,
      "outputs": [
        {
          "output_type": "execute_result",
          "data": {
            "text/plain": [
              "     host_response_rate host_acceptance_rate   price\n",
              "0                   100                  100   49.00\n",
              "1                   100                   98  106.00\n",
              "2                   100                  100  136.00\n",
              "3                   100                  100   75.00\n",
              "4                   100                  100   55.00\n",
              "...                 ...                  ...     ...\n",
              "6388                NaN                  NaN  175.00\n",
              "6389                NaN                  NaN  630.00\n",
              "6390                NaN                  NaN  375.00\n",
              "6391                NaN                  NaN  244.00\n",
              "6392                100                   71  428.00\n",
              "\n",
              "[8241 rows x 3 columns]"
            ],
            "text/html": [
              "\n",
              "  <div id=\"df-a1c1deb5-f781-4832-b4b1-cab24c2127ad\">\n",
              "    <div class=\"colab-df-container\">\n",
              "      <div>\n",
              "<style scoped>\n",
              "    .dataframe tbody tr th:only-of-type {\n",
              "        vertical-align: middle;\n",
              "    }\n",
              "\n",
              "    .dataframe tbody tr th {\n",
              "        vertical-align: top;\n",
              "    }\n",
              "\n",
              "    .dataframe thead th {\n",
              "        text-align: right;\n",
              "    }\n",
              "</style>\n",
              "<table border=\"1\" class=\"dataframe\">\n",
              "  <thead>\n",
              "    <tr style=\"text-align: right;\">\n",
              "      <th></th>\n",
              "      <th>host_response_rate</th>\n",
              "      <th>host_acceptance_rate</th>\n",
              "      <th>price</th>\n",
              "    </tr>\n",
              "  </thead>\n",
              "  <tbody>\n",
              "    <tr>\n",
              "      <th>0</th>\n",
              "      <td>100</td>\n",
              "      <td>100</td>\n",
              "      <td>49.00</td>\n",
              "    </tr>\n",
              "    <tr>\n",
              "      <th>1</th>\n",
              "      <td>100</td>\n",
              "      <td>98</td>\n",
              "      <td>106.00</td>\n",
              "    </tr>\n",
              "    <tr>\n",
              "      <th>2</th>\n",
              "      <td>100</td>\n",
              "      <td>100</td>\n",
              "      <td>136.00</td>\n",
              "    </tr>\n",
              "    <tr>\n",
              "      <th>3</th>\n",
              "      <td>100</td>\n",
              "      <td>100</td>\n",
              "      <td>75.00</td>\n",
              "    </tr>\n",
              "    <tr>\n",
              "      <th>4</th>\n",
              "      <td>100</td>\n",
              "      <td>100</td>\n",
              "      <td>55.00</td>\n",
              "    </tr>\n",
              "    <tr>\n",
              "      <th>...</th>\n",
              "      <td>...</td>\n",
              "      <td>...</td>\n",
              "      <td>...</td>\n",
              "    </tr>\n",
              "    <tr>\n",
              "      <th>6388</th>\n",
              "      <td>NaN</td>\n",
              "      <td>NaN</td>\n",
              "      <td>175.00</td>\n",
              "    </tr>\n",
              "    <tr>\n",
              "      <th>6389</th>\n",
              "      <td>NaN</td>\n",
              "      <td>NaN</td>\n",
              "      <td>630.00</td>\n",
              "    </tr>\n",
              "    <tr>\n",
              "      <th>6390</th>\n",
              "      <td>NaN</td>\n",
              "      <td>NaN</td>\n",
              "      <td>375.00</td>\n",
              "    </tr>\n",
              "    <tr>\n",
              "      <th>6391</th>\n",
              "      <td>NaN</td>\n",
              "      <td>NaN</td>\n",
              "      <td>244.00</td>\n",
              "    </tr>\n",
              "    <tr>\n",
              "      <th>6392</th>\n",
              "      <td>100</td>\n",
              "      <td>71</td>\n",
              "      <td>428.00</td>\n",
              "    </tr>\n",
              "  </tbody>\n",
              "</table>\n",
              "<p>8241 rows × 3 columns</p>\n",
              "</div>\n",
              "      <button class=\"colab-df-convert\" onclick=\"convertToInteractive('df-a1c1deb5-f781-4832-b4b1-cab24c2127ad')\"\n",
              "              title=\"Convert this dataframe to an interactive table.\"\n",
              "              style=\"display:none;\">\n",
              "        \n",
              "  <svg xmlns=\"http://www.w3.org/2000/svg\" height=\"24px\"viewBox=\"0 0 24 24\"\n",
              "       width=\"24px\">\n",
              "    <path d=\"M0 0h24v24H0V0z\" fill=\"none\"/>\n",
              "    <path d=\"M18.56 5.44l.94 2.06.94-2.06 2.06-.94-2.06-.94-.94-2.06-.94 2.06-2.06.94zm-11 1L8.5 8.5l.94-2.06 2.06-.94-2.06-.94L8.5 2.5l-.94 2.06-2.06.94zm10 10l.94 2.06.94-2.06 2.06-.94-2.06-.94-.94-2.06-.94 2.06-2.06.94z\"/><path d=\"M17.41 7.96l-1.37-1.37c-.4-.4-.92-.59-1.43-.59-.52 0-1.04.2-1.43.59L10.3 9.45l-7.72 7.72c-.78.78-.78 2.05 0 2.83L4 21.41c.39.39.9.59 1.41.59.51 0 1.02-.2 1.41-.59l7.78-7.78 2.81-2.81c.8-.78.8-2.07 0-2.86zM5.41 20L4 18.59l7.72-7.72 1.47 1.35L5.41 20z\"/>\n",
              "  </svg>\n",
              "      </button>\n",
              "      \n",
              "  <style>\n",
              "    .colab-df-container {\n",
              "      display:flex;\n",
              "      flex-wrap:wrap;\n",
              "      gap: 12px;\n",
              "    }\n",
              "\n",
              "    .colab-df-convert {\n",
              "      background-color: #E8F0FE;\n",
              "      border: none;\n",
              "      border-radius: 50%;\n",
              "      cursor: pointer;\n",
              "      display: none;\n",
              "      fill: #1967D2;\n",
              "      height: 32px;\n",
              "      padding: 0 0 0 0;\n",
              "      width: 32px;\n",
              "    }\n",
              "\n",
              "    .colab-df-convert:hover {\n",
              "      background-color: #E2EBFA;\n",
              "      box-shadow: 0px 1px 2px rgba(60, 64, 67, 0.3), 0px 1px 3px 1px rgba(60, 64, 67, 0.15);\n",
              "      fill: #174EA6;\n",
              "    }\n",
              "\n",
              "    [theme=dark] .colab-df-convert {\n",
              "      background-color: #3B4455;\n",
              "      fill: #D2E3FC;\n",
              "    }\n",
              "\n",
              "    [theme=dark] .colab-df-convert:hover {\n",
              "      background-color: #434B5C;\n",
              "      box-shadow: 0px 1px 3px 1px rgba(0, 0, 0, 0.15);\n",
              "      filter: drop-shadow(0px 1px 2px rgba(0, 0, 0, 0.3));\n",
              "      fill: #FFFFFF;\n",
              "    }\n",
              "  </style>\n",
              "\n",
              "      <script>\n",
              "        const buttonEl =\n",
              "          document.querySelector('#df-a1c1deb5-f781-4832-b4b1-cab24c2127ad button.colab-df-convert');\n",
              "        buttonEl.style.display =\n",
              "          google.colab.kernel.accessAllowed ? 'block' : 'none';\n",
              "\n",
              "        async function convertToInteractive(key) {\n",
              "          const element = document.querySelector('#df-a1c1deb5-f781-4832-b4b1-cab24c2127ad');\n",
              "          const dataTable =\n",
              "            await google.colab.kernel.invokeFunction('convertToInteractive',\n",
              "                                                     [key], {});\n",
              "          if (!dataTable) return;\n",
              "\n",
              "          const docLinkHtml = 'Like what you see? Visit the ' +\n",
              "            '<a target=\"_blank\" href=https://colab.research.google.com/notebooks/data_table.ipynb>data table notebook</a>'\n",
              "            + ' to learn more about interactive tables.';\n",
              "          element.innerHTML = '';\n",
              "          dataTable['output_type'] = 'display_data';\n",
              "          await google.colab.output.renderOutput(dataTable, element);\n",
              "          const docLink = document.createElement('div');\n",
              "          docLink.innerHTML = docLinkHtml;\n",
              "          element.appendChild(docLink);\n",
              "        }\n",
              "      </script>\n",
              "    </div>\n",
              "  </div>\n",
              "  "
            ]
          },
          "metadata": {},
          "execution_count": 25
        }
      ]
    },
    {
      "cell_type": "code",
      "source": [
        "# Convert to date time\n",
        "listings[['host_since','last_review']] = listings[['host_since','last_review']].apply(pd.to_datetime, errors='coerce')\n",
        "\n",
        "# Convert to string\n",
        "listings[['id','host_id']] = listings[['id','host_id']].astype('string')\n",
        "\n",
        "# Convert to float\n",
        "listings[['host_response_rate','host_acceptance_rate','price']] = listings[['host_response_rate','host_acceptance_rate','price']].astype('float')"
      ],
      "metadata": {
        "id": "0yzuRGg5rsOJ"
      },
      "execution_count": null,
      "outputs": []
    },
    {
      "cell_type": "code",
      "source": [
        "# Transform features before converting data type to float\n",
        "listings[['host_response_rate','host_acceptance_rate']] = listings[['host_response_rate','host_acceptance_rate']] / 100\n",
        "\n",
        "listings[['host_response_rate','host_acceptance_rate','price']]"
      ],
      "metadata": {
        "colab": {
          "base_uri": "https://localhost:8080/"
        },
        "id": "r2SYM4cT2DG5",
        "outputId": "829120c3-992f-4120-92d9-4d61717ef147"
      },
      "execution_count": null,
      "outputs": [
        {
          "output_type": "execute_result",
          "data": {
            "text/plain": [
              "      host_response_rate  host_acceptance_rate  price\n",
              "0                    1.0                  1.00   49.0\n",
              "1                    1.0                  0.98  106.0\n",
              "2                    1.0                  1.00  136.0\n",
              "3                    1.0                  1.00   75.0\n",
              "4                    1.0                  1.00   55.0\n",
              "...                  ...                   ...    ...\n",
              "6388                 NaN                   NaN  175.0\n",
              "6389                 NaN                   NaN  630.0\n",
              "6390                 NaN                   NaN  375.0\n",
              "6391                 NaN                   NaN  244.0\n",
              "6392                 1.0                  0.71  428.0\n",
              "\n",
              "[8241 rows x 3 columns]"
            ],
            "text/html": [
              "\n",
              "  <div id=\"df-b67a9f43-02cf-4148-abff-aa6544ae2ea4\">\n",
              "    <div class=\"colab-df-container\">\n",
              "      <div>\n",
              "<style scoped>\n",
              "    .dataframe tbody tr th:only-of-type {\n",
              "        vertical-align: middle;\n",
              "    }\n",
              "\n",
              "    .dataframe tbody tr th {\n",
              "        vertical-align: top;\n",
              "    }\n",
              "\n",
              "    .dataframe thead th {\n",
              "        text-align: right;\n",
              "    }\n",
              "</style>\n",
              "<table border=\"1\" class=\"dataframe\">\n",
              "  <thead>\n",
              "    <tr style=\"text-align: right;\">\n",
              "      <th></th>\n",
              "      <th>host_response_rate</th>\n",
              "      <th>host_acceptance_rate</th>\n",
              "      <th>price</th>\n",
              "    </tr>\n",
              "  </thead>\n",
              "  <tbody>\n",
              "    <tr>\n",
              "      <th>0</th>\n",
              "      <td>1.0</td>\n",
              "      <td>1.00</td>\n",
              "      <td>49.0</td>\n",
              "    </tr>\n",
              "    <tr>\n",
              "      <th>1</th>\n",
              "      <td>1.0</td>\n",
              "      <td>0.98</td>\n",
              "      <td>106.0</td>\n",
              "    </tr>\n",
              "    <tr>\n",
              "      <th>2</th>\n",
              "      <td>1.0</td>\n",
              "      <td>1.00</td>\n",
              "      <td>136.0</td>\n",
              "    </tr>\n",
              "    <tr>\n",
              "      <th>3</th>\n",
              "      <td>1.0</td>\n",
              "      <td>1.00</td>\n",
              "      <td>75.0</td>\n",
              "    </tr>\n",
              "    <tr>\n",
              "      <th>4</th>\n",
              "      <td>1.0</td>\n",
              "      <td>1.00</td>\n",
              "      <td>55.0</td>\n",
              "    </tr>\n",
              "    <tr>\n",
              "      <th>...</th>\n",
              "      <td>...</td>\n",
              "      <td>...</td>\n",
              "      <td>...</td>\n",
              "    </tr>\n",
              "    <tr>\n",
              "      <th>6388</th>\n",
              "      <td>NaN</td>\n",
              "      <td>NaN</td>\n",
              "      <td>175.0</td>\n",
              "    </tr>\n",
              "    <tr>\n",
              "      <th>6389</th>\n",
              "      <td>NaN</td>\n",
              "      <td>NaN</td>\n",
              "      <td>630.0</td>\n",
              "    </tr>\n",
              "    <tr>\n",
              "      <th>6390</th>\n",
              "      <td>NaN</td>\n",
              "      <td>NaN</td>\n",
              "      <td>375.0</td>\n",
              "    </tr>\n",
              "    <tr>\n",
              "      <th>6391</th>\n",
              "      <td>NaN</td>\n",
              "      <td>NaN</td>\n",
              "      <td>244.0</td>\n",
              "    </tr>\n",
              "    <tr>\n",
              "      <th>6392</th>\n",
              "      <td>1.0</td>\n",
              "      <td>0.71</td>\n",
              "      <td>428.0</td>\n",
              "    </tr>\n",
              "  </tbody>\n",
              "</table>\n",
              "<p>8241 rows × 3 columns</p>\n",
              "</div>\n",
              "      <button class=\"colab-df-convert\" onclick=\"convertToInteractive('df-b67a9f43-02cf-4148-abff-aa6544ae2ea4')\"\n",
              "              title=\"Convert this dataframe to an interactive table.\"\n",
              "              style=\"display:none;\">\n",
              "        \n",
              "  <svg xmlns=\"http://www.w3.org/2000/svg\" height=\"24px\"viewBox=\"0 0 24 24\"\n",
              "       width=\"24px\">\n",
              "    <path d=\"M0 0h24v24H0V0z\" fill=\"none\"/>\n",
              "    <path d=\"M18.56 5.44l.94 2.06.94-2.06 2.06-.94-2.06-.94-.94-2.06-.94 2.06-2.06.94zm-11 1L8.5 8.5l.94-2.06 2.06-.94-2.06-.94L8.5 2.5l-.94 2.06-2.06.94zm10 10l.94 2.06.94-2.06 2.06-.94-2.06-.94-.94-2.06-.94 2.06-2.06.94z\"/><path d=\"M17.41 7.96l-1.37-1.37c-.4-.4-.92-.59-1.43-.59-.52 0-1.04.2-1.43.59L10.3 9.45l-7.72 7.72c-.78.78-.78 2.05 0 2.83L4 21.41c.39.39.9.59 1.41.59.51 0 1.02-.2 1.41-.59l7.78-7.78 2.81-2.81c.8-.78.8-2.07 0-2.86zM5.41 20L4 18.59l7.72-7.72 1.47 1.35L5.41 20z\"/>\n",
              "  </svg>\n",
              "      </button>\n",
              "      \n",
              "  <style>\n",
              "    .colab-df-container {\n",
              "      display:flex;\n",
              "      flex-wrap:wrap;\n",
              "      gap: 12px;\n",
              "    }\n",
              "\n",
              "    .colab-df-convert {\n",
              "      background-color: #E8F0FE;\n",
              "      border: none;\n",
              "      border-radius: 50%;\n",
              "      cursor: pointer;\n",
              "      display: none;\n",
              "      fill: #1967D2;\n",
              "      height: 32px;\n",
              "      padding: 0 0 0 0;\n",
              "      width: 32px;\n",
              "    }\n",
              "\n",
              "    .colab-df-convert:hover {\n",
              "      background-color: #E2EBFA;\n",
              "      box-shadow: 0px 1px 2px rgba(60, 64, 67, 0.3), 0px 1px 3px 1px rgba(60, 64, 67, 0.15);\n",
              "      fill: #174EA6;\n",
              "    }\n",
              "\n",
              "    [theme=dark] .colab-df-convert {\n",
              "      background-color: #3B4455;\n",
              "      fill: #D2E3FC;\n",
              "    }\n",
              "\n",
              "    [theme=dark] .colab-df-convert:hover {\n",
              "      background-color: #434B5C;\n",
              "      box-shadow: 0px 1px 3px 1px rgba(0, 0, 0, 0.15);\n",
              "      filter: drop-shadow(0px 1px 2px rgba(0, 0, 0, 0.3));\n",
              "      fill: #FFFFFF;\n",
              "    }\n",
              "  </style>\n",
              "\n",
              "      <script>\n",
              "        const buttonEl =\n",
              "          document.querySelector('#df-b67a9f43-02cf-4148-abff-aa6544ae2ea4 button.colab-df-convert');\n",
              "        buttonEl.style.display =\n",
              "          google.colab.kernel.accessAllowed ? 'block' : 'none';\n",
              "\n",
              "        async function convertToInteractive(key) {\n",
              "          const element = document.querySelector('#df-b67a9f43-02cf-4148-abff-aa6544ae2ea4');\n",
              "          const dataTable =\n",
              "            await google.colab.kernel.invokeFunction('convertToInteractive',\n",
              "                                                     [key], {});\n",
              "          if (!dataTable) return;\n",
              "\n",
              "          const docLinkHtml = 'Like what you see? Visit the ' +\n",
              "            '<a target=\"_blank\" href=https://colab.research.google.com/notebooks/data_table.ipynb>data table notebook</a>'\n",
              "            + ' to learn more about interactive tables.';\n",
              "          element.innerHTML = '';\n",
              "          dataTable['output_type'] = 'display_data';\n",
              "          await google.colab.output.renderOutput(dataTable, element);\n",
              "          const docLink = document.createElement('div');\n",
              "          docLink.innerHTML = docLinkHtml;\n",
              "          element.appendChild(docLink);\n",
              "        }\n",
              "      </script>\n",
              "    </div>\n",
              "  </div>\n",
              "  "
            ]
          },
          "metadata": {},
          "execution_count": 27
        }
      ]
    },
    {
      "cell_type": "markdown",
      "source": [
        "**Datatype after converting**"
      ],
      "metadata": {
        "id": "PiWsDOoM3IMu"
      }
    },
    {
      "cell_type": "code",
      "source": [
        "listings.info()"
      ],
      "metadata": {
        "colab": {
          "base_uri": "https://localhost:8080/"
        },
        "id": "HHbAJO4q3NUi",
        "outputId": "9b8a7d60-b5f2-4109-aceb-178fda824de5"
      },
      "execution_count": null,
      "outputs": [
        {
          "output_type": "stream",
          "name": "stdout",
          "text": [
            "<class 'pandas.core.frame.DataFrame'>\n",
            "Int64Index: 8241 entries, 0 to 6392\n",
            "Data columns (total 45 columns):\n",
            " #   Column                          Non-Null Count  Dtype         \n",
            "---  ------                          --------------  -----         \n",
            " 0   id                              8241 non-null   string        \n",
            " 1   host_id                         8241 non-null   string        \n",
            " 2   host_since                      8241 non-null   datetime64[ns]\n",
            " 3   host_location                   7469 non-null   object        \n",
            " 4   host_response_time              6327 non-null   object        \n",
            " 5   host_response_rate              6327 non-null   float64       \n",
            " 6   host_acceptance_rate            7230 non-null   float64       \n",
            " 7   host_is_superhost               8233 non-null   object        \n",
            " 8   host_listings_count             8241 non-null   int64         \n",
            " 9   host_total_listings_count       8241 non-null   int64         \n",
            " 10  host_has_profile_pic            8241 non-null   object        \n",
            " 11  host_identity_verified          8241 non-null   object        \n",
            " 12  neighbourhood_cleansed          8241 non-null   object        \n",
            " 13  latitude                        8241 non-null   float64       \n",
            " 14  longitude                       8241 non-null   float64       \n",
            " 15  room_type                       8241 non-null   object        \n",
            " 16  accommodates                    8241 non-null   int64         \n",
            " 17  bathrooms_text                  8222 non-null   object        \n",
            " 18  bedrooms                        7830 non-null   float64       \n",
            " 19  beds                            8091 non-null   float64       \n",
            " 20  amenities                       8241 non-null   object        \n",
            " 21  price                           8241 non-null   float64       \n",
            " 22  minimum_nights                  8241 non-null   int64         \n",
            " 23  maximum_nights                  8241 non-null   int64         \n",
            " 24  has_availability                8241 non-null   object        \n",
            " 25  availability_30                 8241 non-null   int64         \n",
            " 26  availability_60                 8241 non-null   int64         \n",
            " 27  availability_90                 8241 non-null   int64         \n",
            " 28  availability_365                8241 non-null   int64         \n",
            " 29  number_of_reviews               8241 non-null   int64         \n",
            " 30  number_of_reviews_ltm           8241 non-null   int64         \n",
            " 31  number_of_reviews_l30d          8241 non-null   int64         \n",
            " 32  last_review                     7337 non-null   datetime64[ns]\n",
            " 33  review_scores_rating            7337 non-null   float64       \n",
            " 34  review_scores_accuracy          7329 non-null   float64       \n",
            " 35  review_scores_cleanliness       7328 non-null   float64       \n",
            " 36  review_scores_checkin           7329 non-null   float64       \n",
            " 37  review_scores_communication     7329 non-null   float64       \n",
            " 38  review_scores_location          7329 non-null   float64       \n",
            " 39  review_scores_value             7329 non-null   float64       \n",
            " 40  license                         7711 non-null   object        \n",
            " 41  instant_bookable                8241 non-null   object        \n",
            " 42  calculated_host_listings_count  8241 non-null   int64         \n",
            " 43  reviews_per_month               7337 non-null   float64       \n",
            " 44  source                          6893 non-null   object        \n",
            "dtypes: datetime64[ns](2), float64(15), int64(13), object(13), string(2)\n",
            "memory usage: 2.9+ MB\n"
          ]
        }
      ]
    },
    {
      "cell_type": "markdown",
      "source": [
        "## 2.3 Data Cleaning"
      ],
      "metadata": {
        "id": "7HHtnP4XIY_h"
      }
    },
    {
      "cell_type": "markdown",
      "source": [
        "### 2.3.1 Deal with Missing values"
      ],
      "metadata": {
        "id": "x9YpovzXGipk"
      }
    },
    {
      "cell_type": "markdown",
      "source": [
        "**19 features have missing values**"
      ],
      "metadata": {
        "id": "BhdbUmkAM3y0"
      }
    },
    {
      "cell_type": "code",
      "source": [
        "listings_null = listings.isnull().sum().sort_values(ascending = False)\n",
        "listings_null.loc[listings_null > 0]"
      ],
      "metadata": {
        "colab": {
          "base_uri": "https://localhost:8080/"
        },
        "id": "iOKzQgq0uaFF",
        "outputId": "a7b5ed91-2b90-47d0-cb73-ff94ad03f4d1"
      },
      "execution_count": null,
      "outputs": [
        {
          "output_type": "execute_result",
          "data": {
            "text/plain": [
              "host_response_time             1914\n",
              "host_response_rate             1914\n",
              "source                         1348\n",
              "host_acceptance_rate           1011\n",
              "review_scores_cleanliness       913\n",
              "review_scores_value             912\n",
              "review_scores_accuracy          912\n",
              "review_scores_checkin           912\n",
              "review_scores_location          912\n",
              "review_scores_communication     912\n",
              "reviews_per_month               904\n",
              "review_scores_rating            904\n",
              "last_review                     904\n",
              "host_location                   772\n",
              "license                         530\n",
              "bedrooms                        411\n",
              "beds                            150\n",
              "bathrooms_text                   19\n",
              "host_is_superhost                 8\n",
              "dtype: int64"
            ]
          },
          "metadata": {},
          "execution_count": 29
        }
      ]
    },
    {
      "cell_type": "markdown",
      "source": [
        "**bathrooms_text**"
      ],
      "metadata": {
        "id": "m1TRF8tQ7Mna"
      }
    },
    {
      "cell_type": "code",
      "source": [
        "listings['bathrooms_text'].value_counts()"
      ],
      "metadata": {
        "colab": {
          "base_uri": "https://localhost:8080/"
        },
        "id": "9eSBqZPY7UjX",
        "outputId": "4d2875f0-3bbb-48b4-88cd-bf837890113f"
      },
      "execution_count": null,
      "outputs": [
        {
          "output_type": "execute_result",
          "data": {
            "text/plain": [
              "1 bath               3390\n",
              "1.5 baths            2267\n",
              "1 private bath        973\n",
              "2 baths               477\n",
              "1 shared bath         420\n",
              "1.5 shared baths      239\n",
              "2.5 baths             198\n",
              "3 baths                99\n",
              "3.5 baths              31\n",
              "0 baths                21\n",
              "0 shared baths         18\n",
              "Shared half-bath       17\n",
              "2 shared baths         16\n",
              "3 shared baths         13\n",
              "Half-bath               9\n",
              "4.5 baths               8\n",
              "3.5 shared baths        7\n",
              "5 baths                 5\n",
              "4 baths                 4\n",
              "Private half-bath       4\n",
              "5.5 baths               2\n",
              "4 shared baths          2\n",
              "2.5 shared baths        1\n",
              "17 baths                1\n",
              "Name: bathrooms_text, dtype: int64"
            ]
          },
          "metadata": {},
          "execution_count": 30
        }
      ]
    },
    {
      "cell_type": "code",
      "source": [
        "# Replace bathrooms_text with mode\n",
        "listings['bathrooms_text'] = listings['bathrooms_text'].fillna('1 bath')"
      ],
      "metadata": {
        "id": "qO-MrlXk-obO"
      },
      "execution_count": null,
      "outputs": []
    },
    {
      "cell_type": "code",
      "source": [
        "listings['bathrooms_text'].value_counts()"
      ],
      "metadata": {
        "colab": {
          "base_uri": "https://localhost:8080/"
        },
        "id": "R7LfeYuS-4IW",
        "outputId": "3af0ec6f-8f2f-496b-d46e-d278a9d39e8d"
      },
      "execution_count": null,
      "outputs": [
        {
          "output_type": "execute_result",
          "data": {
            "text/plain": [
              "1 bath               3409\n",
              "1.5 baths            2267\n",
              "1 private bath        973\n",
              "2 baths               477\n",
              "1 shared bath         420\n",
              "1.5 shared baths      239\n",
              "2.5 baths             198\n",
              "3 baths                99\n",
              "3.5 baths              31\n",
              "0 baths                21\n",
              "0 shared baths         18\n",
              "Shared half-bath       17\n",
              "2 shared baths         16\n",
              "3 shared baths         13\n",
              "Half-bath               9\n",
              "4.5 baths               8\n",
              "3.5 shared baths        7\n",
              "5 baths                 5\n",
              "4 baths                 4\n",
              "Private half-bath       4\n",
              "5.5 baths               2\n",
              "4 shared baths          2\n",
              "2.5 shared baths        1\n",
              "17 baths                1\n",
              "Name: bathrooms_text, dtype: int64"
            ]
          },
          "metadata": {},
          "execution_count": 32
        }
      ]
    },
    {
      "cell_type": "markdown",
      "source": [
        "**source**"
      ],
      "metadata": {
        "id": "X0VfXbBR9X_B"
      }
    },
    {
      "cell_type": "code",
      "source": [
        "listings['source'].value_counts()"
      ],
      "metadata": {
        "colab": {
          "base_uri": "https://localhost:8080/"
        },
        "id": "KcBZics67gm9",
        "outputId": "104ab2bc-19c4-429b-d4f5-287c95b10b06"
      },
      "execution_count": null,
      "outputs": [
        {
          "output_type": "execute_result",
          "data": {
            "text/plain": [
              "city scrape        4332\n",
              "previous scrape    2561\n",
              "Name: source, dtype: int64"
            ]
          },
          "metadata": {},
          "execution_count": 33
        }
      ]
    },
    {
      "cell_type": "code",
      "source": [
        "# Replace source with mode\n",
        "listings['source'] = listings['source'].fillna('city scrape')"
      ],
      "metadata": {
        "id": "-mAjNr-l-vHc"
      },
      "execution_count": null,
      "outputs": []
    },
    {
      "cell_type": "code",
      "source": [
        "listings['source'].value_counts()"
      ],
      "metadata": {
        "colab": {
          "base_uri": "https://localhost:8080/"
        },
        "id": "d2d0qRTc--4J",
        "outputId": "4352185f-e7ca-4cbc-fe7c-65e599dec838"
      },
      "execution_count": null,
      "outputs": [
        {
          "output_type": "execute_result",
          "data": {
            "text/plain": [
              "city scrape        5680\n",
              "previous scrape    2561\n",
              "Name: source, dtype: int64"
            ]
          },
          "metadata": {},
          "execution_count": 35
        }
      ]
    },
    {
      "cell_type": "markdown",
      "source": [
        "**These columns have missing values because there have been no reviews since the residences joined Airbnb.**"
      ],
      "metadata": {
        "id": "vy3bACn5_kzn"
      }
    },
    {
      "cell_type": "markdown",
      "source": [
        "**last_review**"
      ],
      "metadata": {
        "id": "L_KRlcm99Z58"
      }
    },
    {
      "cell_type": "code",
      "source": [
        "IDs = ['2818','917955','1658094','2553485','2606957','2754846']\n",
        "\n",
        "listings[['host_since','last_review']].loc[listings['id'].isin(IDs)]"
      ],
      "metadata": {
        "colab": {
          "base_uri": "https://localhost:8080/",
          "height": 238
        },
        "id": "6f4O7I5s924X",
        "outputId": "0696c8b0-6e31-4b38-d67f-f88f7e9f4137"
      },
      "execution_count": null,
      "outputs": [
        {
          "output_type": "execute_result",
          "data": {
            "text/plain": [
              "    host_since last_review\n",
              "0   2008-09-24  2022-08-30\n",
              "189 2011-05-15         NaT\n",
              "345 2013-09-12         NaT\n",
              "468 2014-03-12         NaT\n",
              "472 2012-09-06         NaT\n",
              "494 2014-04-04         NaT"
            ],
            "text/html": [
              "\n",
              "  <div id=\"df-064804db-f6e3-4771-b3de-cd43e463a34e\">\n",
              "    <div class=\"colab-df-container\">\n",
              "      <div>\n",
              "<style scoped>\n",
              "    .dataframe tbody tr th:only-of-type {\n",
              "        vertical-align: middle;\n",
              "    }\n",
              "\n",
              "    .dataframe tbody tr th {\n",
              "        vertical-align: top;\n",
              "    }\n",
              "\n",
              "    .dataframe thead th {\n",
              "        text-align: right;\n",
              "    }\n",
              "</style>\n",
              "<table border=\"1\" class=\"dataframe\">\n",
              "  <thead>\n",
              "    <tr style=\"text-align: right;\">\n",
              "      <th></th>\n",
              "      <th>host_since</th>\n",
              "      <th>last_review</th>\n",
              "    </tr>\n",
              "  </thead>\n",
              "  <tbody>\n",
              "    <tr>\n",
              "      <th>0</th>\n",
              "      <td>2008-09-24</td>\n",
              "      <td>2022-08-30</td>\n",
              "    </tr>\n",
              "    <tr>\n",
              "      <th>189</th>\n",
              "      <td>2011-05-15</td>\n",
              "      <td>NaT</td>\n",
              "    </tr>\n",
              "    <tr>\n",
              "      <th>345</th>\n",
              "      <td>2013-09-12</td>\n",
              "      <td>NaT</td>\n",
              "    </tr>\n",
              "    <tr>\n",
              "      <th>468</th>\n",
              "      <td>2014-03-12</td>\n",
              "      <td>NaT</td>\n",
              "    </tr>\n",
              "    <tr>\n",
              "      <th>472</th>\n",
              "      <td>2012-09-06</td>\n",
              "      <td>NaT</td>\n",
              "    </tr>\n",
              "    <tr>\n",
              "      <th>494</th>\n",
              "      <td>2014-04-04</td>\n",
              "      <td>NaT</td>\n",
              "    </tr>\n",
              "  </tbody>\n",
              "</table>\n",
              "</div>\n",
              "      <button class=\"colab-df-convert\" onclick=\"convertToInteractive('df-064804db-f6e3-4771-b3de-cd43e463a34e')\"\n",
              "              title=\"Convert this dataframe to an interactive table.\"\n",
              "              style=\"display:none;\">\n",
              "        \n",
              "  <svg xmlns=\"http://www.w3.org/2000/svg\" height=\"24px\"viewBox=\"0 0 24 24\"\n",
              "       width=\"24px\">\n",
              "    <path d=\"M0 0h24v24H0V0z\" fill=\"none\"/>\n",
              "    <path d=\"M18.56 5.44l.94 2.06.94-2.06 2.06-.94-2.06-.94-.94-2.06-.94 2.06-2.06.94zm-11 1L8.5 8.5l.94-2.06 2.06-.94-2.06-.94L8.5 2.5l-.94 2.06-2.06.94zm10 10l.94 2.06.94-2.06 2.06-.94-2.06-.94-.94-2.06-.94 2.06-2.06.94z\"/><path d=\"M17.41 7.96l-1.37-1.37c-.4-.4-.92-.59-1.43-.59-.52 0-1.04.2-1.43.59L10.3 9.45l-7.72 7.72c-.78.78-.78 2.05 0 2.83L4 21.41c.39.39.9.59 1.41.59.51 0 1.02-.2 1.41-.59l7.78-7.78 2.81-2.81c.8-.78.8-2.07 0-2.86zM5.41 20L4 18.59l7.72-7.72 1.47 1.35L5.41 20z\"/>\n",
              "  </svg>\n",
              "      </button>\n",
              "      \n",
              "  <style>\n",
              "    .colab-df-container {\n",
              "      display:flex;\n",
              "      flex-wrap:wrap;\n",
              "      gap: 12px;\n",
              "    }\n",
              "\n",
              "    .colab-df-convert {\n",
              "      background-color: #E8F0FE;\n",
              "      border: none;\n",
              "      border-radius: 50%;\n",
              "      cursor: pointer;\n",
              "      display: none;\n",
              "      fill: #1967D2;\n",
              "      height: 32px;\n",
              "      padding: 0 0 0 0;\n",
              "      width: 32px;\n",
              "    }\n",
              "\n",
              "    .colab-df-convert:hover {\n",
              "      background-color: #E2EBFA;\n",
              "      box-shadow: 0px 1px 2px rgba(60, 64, 67, 0.3), 0px 1px 3px 1px rgba(60, 64, 67, 0.15);\n",
              "      fill: #174EA6;\n",
              "    }\n",
              "\n",
              "    [theme=dark] .colab-df-convert {\n",
              "      background-color: #3B4455;\n",
              "      fill: #D2E3FC;\n",
              "    }\n",
              "\n",
              "    [theme=dark] .colab-df-convert:hover {\n",
              "      background-color: #434B5C;\n",
              "      box-shadow: 0px 1px 3px 1px rgba(0, 0, 0, 0.15);\n",
              "      filter: drop-shadow(0px 1px 2px rgba(0, 0, 0, 0.3));\n",
              "      fill: #FFFFFF;\n",
              "    }\n",
              "  </style>\n",
              "\n",
              "      <script>\n",
              "        const buttonEl =\n",
              "          document.querySelector('#df-064804db-f6e3-4771-b3de-cd43e463a34e button.colab-df-convert');\n",
              "        buttonEl.style.display =\n",
              "          google.colab.kernel.accessAllowed ? 'block' : 'none';\n",
              "\n",
              "        async function convertToInteractive(key) {\n",
              "          const element = document.querySelector('#df-064804db-f6e3-4771-b3de-cd43e463a34e');\n",
              "          const dataTable =\n",
              "            await google.colab.kernel.invokeFunction('convertToInteractive',\n",
              "                                                     [key], {});\n",
              "          if (!dataTable) return;\n",
              "\n",
              "          const docLinkHtml = 'Like what you see? Visit the ' +\n",
              "            '<a target=\"_blank\" href=https://colab.research.google.com/notebooks/data_table.ipynb>data table notebook</a>'\n",
              "            + ' to learn more about interactive tables.';\n",
              "          element.innerHTML = '';\n",
              "          dataTable['output_type'] = 'display_data';\n",
              "          await google.colab.output.renderOutput(dataTable, element);\n",
              "          const docLink = document.createElement('div');\n",
              "          docLink.innerHTML = docLinkHtml;\n",
              "          element.appendChild(docLink);\n",
              "        }\n",
              "      </script>\n",
              "    </div>\n",
              "  </div>\n",
              "  "
            ]
          },
          "metadata": {},
          "execution_count": 36
        }
      ]
    },
    {
      "cell_type": "code",
      "source": [
        "# Replace last_review with host_since\n",
        "listings['last_review'] = listings['last_review'].fillna(listings['host_since'])\n",
        "listings[['host_since','last_review']].loc[listings['id'].isin(IDs)]"
      ],
      "metadata": {
        "colab": {
          "base_uri": "https://localhost:8080/",
          "height": 238
        },
        "id": "uzdefTmW_Uhk",
        "outputId": "5d038cf1-a6a3-4811-e040-6282ac13a39f"
      },
      "execution_count": null,
      "outputs": [
        {
          "output_type": "execute_result",
          "data": {
            "text/plain": [
              "    host_since last_review\n",
              "0   2008-09-24  2022-08-30\n",
              "189 2011-05-15  2011-05-15\n",
              "345 2013-09-12  2013-09-12\n",
              "468 2014-03-12  2014-03-12\n",
              "472 2012-09-06  2012-09-06\n",
              "494 2014-04-04  2014-04-04"
            ],
            "text/html": [
              "\n",
              "  <div id=\"df-029d2619-40d9-4ddc-a945-578afdb30340\">\n",
              "    <div class=\"colab-df-container\">\n",
              "      <div>\n",
              "<style scoped>\n",
              "    .dataframe tbody tr th:only-of-type {\n",
              "        vertical-align: middle;\n",
              "    }\n",
              "\n",
              "    .dataframe tbody tr th {\n",
              "        vertical-align: top;\n",
              "    }\n",
              "\n",
              "    .dataframe thead th {\n",
              "        text-align: right;\n",
              "    }\n",
              "</style>\n",
              "<table border=\"1\" class=\"dataframe\">\n",
              "  <thead>\n",
              "    <tr style=\"text-align: right;\">\n",
              "      <th></th>\n",
              "      <th>host_since</th>\n",
              "      <th>last_review</th>\n",
              "    </tr>\n",
              "  </thead>\n",
              "  <tbody>\n",
              "    <tr>\n",
              "      <th>0</th>\n",
              "      <td>2008-09-24</td>\n",
              "      <td>2022-08-30</td>\n",
              "    </tr>\n",
              "    <tr>\n",
              "      <th>189</th>\n",
              "      <td>2011-05-15</td>\n",
              "      <td>2011-05-15</td>\n",
              "    </tr>\n",
              "    <tr>\n",
              "      <th>345</th>\n",
              "      <td>2013-09-12</td>\n",
              "      <td>2013-09-12</td>\n",
              "    </tr>\n",
              "    <tr>\n",
              "      <th>468</th>\n",
              "      <td>2014-03-12</td>\n",
              "      <td>2014-03-12</td>\n",
              "    </tr>\n",
              "    <tr>\n",
              "      <th>472</th>\n",
              "      <td>2012-09-06</td>\n",
              "      <td>2012-09-06</td>\n",
              "    </tr>\n",
              "    <tr>\n",
              "      <th>494</th>\n",
              "      <td>2014-04-04</td>\n",
              "      <td>2014-04-04</td>\n",
              "    </tr>\n",
              "  </tbody>\n",
              "</table>\n",
              "</div>\n",
              "      <button class=\"colab-df-convert\" onclick=\"convertToInteractive('df-029d2619-40d9-4ddc-a945-578afdb30340')\"\n",
              "              title=\"Convert this dataframe to an interactive table.\"\n",
              "              style=\"display:none;\">\n",
              "        \n",
              "  <svg xmlns=\"http://www.w3.org/2000/svg\" height=\"24px\"viewBox=\"0 0 24 24\"\n",
              "       width=\"24px\">\n",
              "    <path d=\"M0 0h24v24H0V0z\" fill=\"none\"/>\n",
              "    <path d=\"M18.56 5.44l.94 2.06.94-2.06 2.06-.94-2.06-.94-.94-2.06-.94 2.06-2.06.94zm-11 1L8.5 8.5l.94-2.06 2.06-.94-2.06-.94L8.5 2.5l-.94 2.06-2.06.94zm10 10l.94 2.06.94-2.06 2.06-.94-2.06-.94-.94-2.06-.94 2.06-2.06.94z\"/><path d=\"M17.41 7.96l-1.37-1.37c-.4-.4-.92-.59-1.43-.59-.52 0-1.04.2-1.43.59L10.3 9.45l-7.72 7.72c-.78.78-.78 2.05 0 2.83L4 21.41c.39.39.9.59 1.41.59.51 0 1.02-.2 1.41-.59l7.78-7.78 2.81-2.81c.8-.78.8-2.07 0-2.86zM5.41 20L4 18.59l7.72-7.72 1.47 1.35L5.41 20z\"/>\n",
              "  </svg>\n",
              "      </button>\n",
              "      \n",
              "  <style>\n",
              "    .colab-df-container {\n",
              "      display:flex;\n",
              "      flex-wrap:wrap;\n",
              "      gap: 12px;\n",
              "    }\n",
              "\n",
              "    .colab-df-convert {\n",
              "      background-color: #E8F0FE;\n",
              "      border: none;\n",
              "      border-radius: 50%;\n",
              "      cursor: pointer;\n",
              "      display: none;\n",
              "      fill: #1967D2;\n",
              "      height: 32px;\n",
              "      padding: 0 0 0 0;\n",
              "      width: 32px;\n",
              "    }\n",
              "\n",
              "    .colab-df-convert:hover {\n",
              "      background-color: #E2EBFA;\n",
              "      box-shadow: 0px 1px 2px rgba(60, 64, 67, 0.3), 0px 1px 3px 1px rgba(60, 64, 67, 0.15);\n",
              "      fill: #174EA6;\n",
              "    }\n",
              "\n",
              "    [theme=dark] .colab-df-convert {\n",
              "      background-color: #3B4455;\n",
              "      fill: #D2E3FC;\n",
              "    }\n",
              "\n",
              "    [theme=dark] .colab-df-convert:hover {\n",
              "      background-color: #434B5C;\n",
              "      box-shadow: 0px 1px 3px 1px rgba(0, 0, 0, 0.15);\n",
              "      filter: drop-shadow(0px 1px 2px rgba(0, 0, 0, 0.3));\n",
              "      fill: #FFFFFF;\n",
              "    }\n",
              "  </style>\n",
              "\n",
              "      <script>\n",
              "        const buttonEl =\n",
              "          document.querySelector('#df-029d2619-40d9-4ddc-a945-578afdb30340 button.colab-df-convert');\n",
              "        buttonEl.style.display =\n",
              "          google.colab.kernel.accessAllowed ? 'block' : 'none';\n",
              "\n",
              "        async function convertToInteractive(key) {\n",
              "          const element = document.querySelector('#df-029d2619-40d9-4ddc-a945-578afdb30340');\n",
              "          const dataTable =\n",
              "            await google.colab.kernel.invokeFunction('convertToInteractive',\n",
              "                                                     [key], {});\n",
              "          if (!dataTable) return;\n",
              "\n",
              "          const docLinkHtml = 'Like what you see? Visit the ' +\n",
              "            '<a target=\"_blank\" href=https://colab.research.google.com/notebooks/data_table.ipynb>data table notebook</a>'\n",
              "            + ' to learn more about interactive tables.';\n",
              "          element.innerHTML = '';\n",
              "          dataTable['output_type'] = 'display_data';\n",
              "          await google.colab.output.renderOutput(dataTable, element);\n",
              "          const docLink = document.createElement('div');\n",
              "          docLink.innerHTML = docLinkHtml;\n",
              "          element.appendChild(docLink);\n",
              "        }\n",
              "      </script>\n",
              "    </div>\n",
              "  </div>\n",
              "  "
            ]
          },
          "metadata": {},
          "execution_count": 37
        }
      ]
    },
    {
      "cell_type": "code",
      "source": [
        "null_cols = ['review_scores_cleanliness','review_scores_value','review_scores_accuracy','review_scores_checkin',\n",
        "             'review_scores_location','review_scores_communication','review_scores_rating','reviews_per_month',\n",
        "             'host_response_rate','host_acceptance_rate']\n",
        "\n",
        "listings[null_cols].loc[listings['id'].isin(IDs)]"
      ],
      "metadata": {
        "colab": {
          "base_uri": "https://localhost:8080/",
          "height": 302
        },
        "id": "U4fDR5gwAEhS",
        "outputId": "aa0e8fdb-b3da-47ce-80ee-c6fb6ad91805"
      },
      "execution_count": null,
      "outputs": [
        {
          "output_type": "execute_result",
          "data": {
            "text/plain": [
              "     review_scores_cleanliness  review_scores_value  review_scores_accuracy  \\\n",
              "0                          5.0                 4.82                    4.94   \n",
              "189                        NaN                  NaN                     NaN   \n",
              "345                        NaN                  NaN                     NaN   \n",
              "468                        NaN                  NaN                     NaN   \n",
              "472                        NaN                  NaN                     NaN   \n",
              "494                        NaN                  NaN                     NaN   \n",
              "\n",
              "     review_scores_checkin  review_scores_location  \\\n",
              "0                     4.97                    4.69   \n",
              "189                    NaN                     NaN   \n",
              "345                    NaN                     NaN   \n",
              "468                    NaN                     NaN   \n",
              "472                    NaN                     NaN   \n",
              "494                    NaN                     NaN   \n",
              "\n",
              "     review_scores_communication  review_scores_rating  reviews_per_month  \\\n",
              "0                           4.98                  4.89               1.86   \n",
              "189                          NaN                   NaN                NaN   \n",
              "345                          NaN                   NaN                NaN   \n",
              "468                          NaN                   NaN                NaN   \n",
              "472                          NaN                   NaN                NaN   \n",
              "494                          NaN                   NaN                NaN   \n",
              "\n",
              "     host_response_rate  host_acceptance_rate  \n",
              "0                  1.00                   1.0  \n",
              "189                 NaN                   NaN  \n",
              "345                 NaN                   0.0  \n",
              "468                 NaN                   NaN  \n",
              "472                0.22                   0.0  \n",
              "494                1.00                   1.0  "
            ],
            "text/html": [
              "\n",
              "  <div id=\"df-45ccaeba-3cc0-4933-ae6f-706f2b483e92\">\n",
              "    <div class=\"colab-df-container\">\n",
              "      <div>\n",
              "<style scoped>\n",
              "    .dataframe tbody tr th:only-of-type {\n",
              "        vertical-align: middle;\n",
              "    }\n",
              "\n",
              "    .dataframe tbody tr th {\n",
              "        vertical-align: top;\n",
              "    }\n",
              "\n",
              "    .dataframe thead th {\n",
              "        text-align: right;\n",
              "    }\n",
              "</style>\n",
              "<table border=\"1\" class=\"dataframe\">\n",
              "  <thead>\n",
              "    <tr style=\"text-align: right;\">\n",
              "      <th></th>\n",
              "      <th>review_scores_cleanliness</th>\n",
              "      <th>review_scores_value</th>\n",
              "      <th>review_scores_accuracy</th>\n",
              "      <th>review_scores_checkin</th>\n",
              "      <th>review_scores_location</th>\n",
              "      <th>review_scores_communication</th>\n",
              "      <th>review_scores_rating</th>\n",
              "      <th>reviews_per_month</th>\n",
              "      <th>host_response_rate</th>\n",
              "      <th>host_acceptance_rate</th>\n",
              "    </tr>\n",
              "  </thead>\n",
              "  <tbody>\n",
              "    <tr>\n",
              "      <th>0</th>\n",
              "      <td>5.0</td>\n",
              "      <td>4.82</td>\n",
              "      <td>4.94</td>\n",
              "      <td>4.97</td>\n",
              "      <td>4.69</td>\n",
              "      <td>4.98</td>\n",
              "      <td>4.89</td>\n",
              "      <td>1.86</td>\n",
              "      <td>1.00</td>\n",
              "      <td>1.0</td>\n",
              "    </tr>\n",
              "    <tr>\n",
              "      <th>189</th>\n",
              "      <td>NaN</td>\n",
              "      <td>NaN</td>\n",
              "      <td>NaN</td>\n",
              "      <td>NaN</td>\n",
              "      <td>NaN</td>\n",
              "      <td>NaN</td>\n",
              "      <td>NaN</td>\n",
              "      <td>NaN</td>\n",
              "      <td>NaN</td>\n",
              "      <td>NaN</td>\n",
              "    </tr>\n",
              "    <tr>\n",
              "      <th>345</th>\n",
              "      <td>NaN</td>\n",
              "      <td>NaN</td>\n",
              "      <td>NaN</td>\n",
              "      <td>NaN</td>\n",
              "      <td>NaN</td>\n",
              "      <td>NaN</td>\n",
              "      <td>NaN</td>\n",
              "      <td>NaN</td>\n",
              "      <td>NaN</td>\n",
              "      <td>0.0</td>\n",
              "    </tr>\n",
              "    <tr>\n",
              "      <th>468</th>\n",
              "      <td>NaN</td>\n",
              "      <td>NaN</td>\n",
              "      <td>NaN</td>\n",
              "      <td>NaN</td>\n",
              "      <td>NaN</td>\n",
              "      <td>NaN</td>\n",
              "      <td>NaN</td>\n",
              "      <td>NaN</td>\n",
              "      <td>NaN</td>\n",
              "      <td>NaN</td>\n",
              "    </tr>\n",
              "    <tr>\n",
              "      <th>472</th>\n",
              "      <td>NaN</td>\n",
              "      <td>NaN</td>\n",
              "      <td>NaN</td>\n",
              "      <td>NaN</td>\n",
              "      <td>NaN</td>\n",
              "      <td>NaN</td>\n",
              "      <td>NaN</td>\n",
              "      <td>NaN</td>\n",
              "      <td>0.22</td>\n",
              "      <td>0.0</td>\n",
              "    </tr>\n",
              "    <tr>\n",
              "      <th>494</th>\n",
              "      <td>NaN</td>\n",
              "      <td>NaN</td>\n",
              "      <td>NaN</td>\n",
              "      <td>NaN</td>\n",
              "      <td>NaN</td>\n",
              "      <td>NaN</td>\n",
              "      <td>NaN</td>\n",
              "      <td>NaN</td>\n",
              "      <td>1.00</td>\n",
              "      <td>1.0</td>\n",
              "    </tr>\n",
              "  </tbody>\n",
              "</table>\n",
              "</div>\n",
              "      <button class=\"colab-df-convert\" onclick=\"convertToInteractive('df-45ccaeba-3cc0-4933-ae6f-706f2b483e92')\"\n",
              "              title=\"Convert this dataframe to an interactive table.\"\n",
              "              style=\"display:none;\">\n",
              "        \n",
              "  <svg xmlns=\"http://www.w3.org/2000/svg\" height=\"24px\"viewBox=\"0 0 24 24\"\n",
              "       width=\"24px\">\n",
              "    <path d=\"M0 0h24v24H0V0z\" fill=\"none\"/>\n",
              "    <path d=\"M18.56 5.44l.94 2.06.94-2.06 2.06-.94-2.06-.94-.94-2.06-.94 2.06-2.06.94zm-11 1L8.5 8.5l.94-2.06 2.06-.94-2.06-.94L8.5 2.5l-.94 2.06-2.06.94zm10 10l.94 2.06.94-2.06 2.06-.94-2.06-.94-.94-2.06-.94 2.06-2.06.94z\"/><path d=\"M17.41 7.96l-1.37-1.37c-.4-.4-.92-.59-1.43-.59-.52 0-1.04.2-1.43.59L10.3 9.45l-7.72 7.72c-.78.78-.78 2.05 0 2.83L4 21.41c.39.39.9.59 1.41.59.51 0 1.02-.2 1.41-.59l7.78-7.78 2.81-2.81c.8-.78.8-2.07 0-2.86zM5.41 20L4 18.59l7.72-7.72 1.47 1.35L5.41 20z\"/>\n",
              "  </svg>\n",
              "      </button>\n",
              "      \n",
              "  <style>\n",
              "    .colab-df-container {\n",
              "      display:flex;\n",
              "      flex-wrap:wrap;\n",
              "      gap: 12px;\n",
              "    }\n",
              "\n",
              "    .colab-df-convert {\n",
              "      background-color: #E8F0FE;\n",
              "      border: none;\n",
              "      border-radius: 50%;\n",
              "      cursor: pointer;\n",
              "      display: none;\n",
              "      fill: #1967D2;\n",
              "      height: 32px;\n",
              "      padding: 0 0 0 0;\n",
              "      width: 32px;\n",
              "    }\n",
              "\n",
              "    .colab-df-convert:hover {\n",
              "      background-color: #E2EBFA;\n",
              "      box-shadow: 0px 1px 2px rgba(60, 64, 67, 0.3), 0px 1px 3px 1px rgba(60, 64, 67, 0.15);\n",
              "      fill: #174EA6;\n",
              "    }\n",
              "\n",
              "    [theme=dark] .colab-df-convert {\n",
              "      background-color: #3B4455;\n",
              "      fill: #D2E3FC;\n",
              "    }\n",
              "\n",
              "    [theme=dark] .colab-df-convert:hover {\n",
              "      background-color: #434B5C;\n",
              "      box-shadow: 0px 1px 3px 1px rgba(0, 0, 0, 0.15);\n",
              "      filter: drop-shadow(0px 1px 2px rgba(0, 0, 0, 0.3));\n",
              "      fill: #FFFFFF;\n",
              "    }\n",
              "  </style>\n",
              "\n",
              "      <script>\n",
              "        const buttonEl =\n",
              "          document.querySelector('#df-45ccaeba-3cc0-4933-ae6f-706f2b483e92 button.colab-df-convert');\n",
              "        buttonEl.style.display =\n",
              "          google.colab.kernel.accessAllowed ? 'block' : 'none';\n",
              "\n",
              "        async function convertToInteractive(key) {\n",
              "          const element = document.querySelector('#df-45ccaeba-3cc0-4933-ae6f-706f2b483e92');\n",
              "          const dataTable =\n",
              "            await google.colab.kernel.invokeFunction('convertToInteractive',\n",
              "                                                     [key], {});\n",
              "          if (!dataTable) return;\n",
              "\n",
              "          const docLinkHtml = 'Like what you see? Visit the ' +\n",
              "            '<a target=\"_blank\" href=https://colab.research.google.com/notebooks/data_table.ipynb>data table notebook</a>'\n",
              "            + ' to learn more about interactive tables.';\n",
              "          element.innerHTML = '';\n",
              "          dataTable['output_type'] = 'display_data';\n",
              "          await google.colab.output.renderOutput(dataTable, element);\n",
              "          const docLink = document.createElement('div');\n",
              "          docLink.innerHTML = docLinkHtml;\n",
              "          element.appendChild(docLink);\n",
              "        }\n",
              "      </script>\n",
              "    </div>\n",
              "  </div>\n",
              "  "
            ]
          },
          "metadata": {},
          "execution_count": 38
        }
      ]
    },
    {
      "cell_type": "code",
      "source": [
        "# Replace these columns with 0\n",
        "listings[null_cols] = listings[null_cols].fillna(0)\n",
        "listings[null_cols].loc[listings['id'].isin(IDs)]"
      ],
      "metadata": {
        "colab": {
          "base_uri": "https://localhost:8080/",
          "height": 302
        },
        "id": "bRJR2ZagCNDW",
        "outputId": "446d5ebb-f6f5-4105-908e-2aa490917a1d"
      },
      "execution_count": null,
      "outputs": [
        {
          "output_type": "execute_result",
          "data": {
            "text/plain": [
              "     review_scores_cleanliness  review_scores_value  review_scores_accuracy  \\\n",
              "0                          5.0                 4.82                    4.94   \n",
              "189                        0.0                 0.00                    0.00   \n",
              "345                        0.0                 0.00                    0.00   \n",
              "468                        0.0                 0.00                    0.00   \n",
              "472                        0.0                 0.00                    0.00   \n",
              "494                        0.0                 0.00                    0.00   \n",
              "\n",
              "     review_scores_checkin  review_scores_location  \\\n",
              "0                     4.97                    4.69   \n",
              "189                   0.00                    0.00   \n",
              "345                   0.00                    0.00   \n",
              "468                   0.00                    0.00   \n",
              "472                   0.00                    0.00   \n",
              "494                   0.00                    0.00   \n",
              "\n",
              "     review_scores_communication  review_scores_rating  reviews_per_month  \\\n",
              "0                           4.98                  4.89               1.86   \n",
              "189                         0.00                  0.00               0.00   \n",
              "345                         0.00                  0.00               0.00   \n",
              "468                         0.00                  0.00               0.00   \n",
              "472                         0.00                  0.00               0.00   \n",
              "494                         0.00                  0.00               0.00   \n",
              "\n",
              "     host_response_rate  host_acceptance_rate  \n",
              "0                  1.00                   1.0  \n",
              "189                0.00                   0.0  \n",
              "345                0.00                   0.0  \n",
              "468                0.00                   0.0  \n",
              "472                0.22                   0.0  \n",
              "494                1.00                   1.0  "
            ],
            "text/html": [
              "\n",
              "  <div id=\"df-43273828-ab1a-4203-bd62-d368956a54f2\">\n",
              "    <div class=\"colab-df-container\">\n",
              "      <div>\n",
              "<style scoped>\n",
              "    .dataframe tbody tr th:only-of-type {\n",
              "        vertical-align: middle;\n",
              "    }\n",
              "\n",
              "    .dataframe tbody tr th {\n",
              "        vertical-align: top;\n",
              "    }\n",
              "\n",
              "    .dataframe thead th {\n",
              "        text-align: right;\n",
              "    }\n",
              "</style>\n",
              "<table border=\"1\" class=\"dataframe\">\n",
              "  <thead>\n",
              "    <tr style=\"text-align: right;\">\n",
              "      <th></th>\n",
              "      <th>review_scores_cleanliness</th>\n",
              "      <th>review_scores_value</th>\n",
              "      <th>review_scores_accuracy</th>\n",
              "      <th>review_scores_checkin</th>\n",
              "      <th>review_scores_location</th>\n",
              "      <th>review_scores_communication</th>\n",
              "      <th>review_scores_rating</th>\n",
              "      <th>reviews_per_month</th>\n",
              "      <th>host_response_rate</th>\n",
              "      <th>host_acceptance_rate</th>\n",
              "    </tr>\n",
              "  </thead>\n",
              "  <tbody>\n",
              "    <tr>\n",
              "      <th>0</th>\n",
              "      <td>5.0</td>\n",
              "      <td>4.82</td>\n",
              "      <td>4.94</td>\n",
              "      <td>4.97</td>\n",
              "      <td>4.69</td>\n",
              "      <td>4.98</td>\n",
              "      <td>4.89</td>\n",
              "      <td>1.86</td>\n",
              "      <td>1.00</td>\n",
              "      <td>1.0</td>\n",
              "    </tr>\n",
              "    <tr>\n",
              "      <th>189</th>\n",
              "      <td>0.0</td>\n",
              "      <td>0.00</td>\n",
              "      <td>0.00</td>\n",
              "      <td>0.00</td>\n",
              "      <td>0.00</td>\n",
              "      <td>0.00</td>\n",
              "      <td>0.00</td>\n",
              "      <td>0.00</td>\n",
              "      <td>0.00</td>\n",
              "      <td>0.0</td>\n",
              "    </tr>\n",
              "    <tr>\n",
              "      <th>345</th>\n",
              "      <td>0.0</td>\n",
              "      <td>0.00</td>\n",
              "      <td>0.00</td>\n",
              "      <td>0.00</td>\n",
              "      <td>0.00</td>\n",
              "      <td>0.00</td>\n",
              "      <td>0.00</td>\n",
              "      <td>0.00</td>\n",
              "      <td>0.00</td>\n",
              "      <td>0.0</td>\n",
              "    </tr>\n",
              "    <tr>\n",
              "      <th>468</th>\n",
              "      <td>0.0</td>\n",
              "      <td>0.00</td>\n",
              "      <td>0.00</td>\n",
              "      <td>0.00</td>\n",
              "      <td>0.00</td>\n",
              "      <td>0.00</td>\n",
              "      <td>0.00</td>\n",
              "      <td>0.00</td>\n",
              "      <td>0.00</td>\n",
              "      <td>0.0</td>\n",
              "    </tr>\n",
              "    <tr>\n",
              "      <th>472</th>\n",
              "      <td>0.0</td>\n",
              "      <td>0.00</td>\n",
              "      <td>0.00</td>\n",
              "      <td>0.00</td>\n",
              "      <td>0.00</td>\n",
              "      <td>0.00</td>\n",
              "      <td>0.00</td>\n",
              "      <td>0.00</td>\n",
              "      <td>0.22</td>\n",
              "      <td>0.0</td>\n",
              "    </tr>\n",
              "    <tr>\n",
              "      <th>494</th>\n",
              "      <td>0.0</td>\n",
              "      <td>0.00</td>\n",
              "      <td>0.00</td>\n",
              "      <td>0.00</td>\n",
              "      <td>0.00</td>\n",
              "      <td>0.00</td>\n",
              "      <td>0.00</td>\n",
              "      <td>0.00</td>\n",
              "      <td>1.00</td>\n",
              "      <td>1.0</td>\n",
              "    </tr>\n",
              "  </tbody>\n",
              "</table>\n",
              "</div>\n",
              "      <button class=\"colab-df-convert\" onclick=\"convertToInteractive('df-43273828-ab1a-4203-bd62-d368956a54f2')\"\n",
              "              title=\"Convert this dataframe to an interactive table.\"\n",
              "              style=\"display:none;\">\n",
              "        \n",
              "  <svg xmlns=\"http://www.w3.org/2000/svg\" height=\"24px\"viewBox=\"0 0 24 24\"\n",
              "       width=\"24px\">\n",
              "    <path d=\"M0 0h24v24H0V0z\" fill=\"none\"/>\n",
              "    <path d=\"M18.56 5.44l.94 2.06.94-2.06 2.06-.94-2.06-.94-.94-2.06-.94 2.06-2.06.94zm-11 1L8.5 8.5l.94-2.06 2.06-.94-2.06-.94L8.5 2.5l-.94 2.06-2.06.94zm10 10l.94 2.06.94-2.06 2.06-.94-2.06-.94-.94-2.06-.94 2.06-2.06.94z\"/><path d=\"M17.41 7.96l-1.37-1.37c-.4-.4-.92-.59-1.43-.59-.52 0-1.04.2-1.43.59L10.3 9.45l-7.72 7.72c-.78.78-.78 2.05 0 2.83L4 21.41c.39.39.9.59 1.41.59.51 0 1.02-.2 1.41-.59l7.78-7.78 2.81-2.81c.8-.78.8-2.07 0-2.86zM5.41 20L4 18.59l7.72-7.72 1.47 1.35L5.41 20z\"/>\n",
              "  </svg>\n",
              "      </button>\n",
              "      \n",
              "  <style>\n",
              "    .colab-df-container {\n",
              "      display:flex;\n",
              "      flex-wrap:wrap;\n",
              "      gap: 12px;\n",
              "    }\n",
              "\n",
              "    .colab-df-convert {\n",
              "      background-color: #E8F0FE;\n",
              "      border: none;\n",
              "      border-radius: 50%;\n",
              "      cursor: pointer;\n",
              "      display: none;\n",
              "      fill: #1967D2;\n",
              "      height: 32px;\n",
              "      padding: 0 0 0 0;\n",
              "      width: 32px;\n",
              "    }\n",
              "\n",
              "    .colab-df-convert:hover {\n",
              "      background-color: #E2EBFA;\n",
              "      box-shadow: 0px 1px 2px rgba(60, 64, 67, 0.3), 0px 1px 3px 1px rgba(60, 64, 67, 0.15);\n",
              "      fill: #174EA6;\n",
              "    }\n",
              "\n",
              "    [theme=dark] .colab-df-convert {\n",
              "      background-color: #3B4455;\n",
              "      fill: #D2E3FC;\n",
              "    }\n",
              "\n",
              "    [theme=dark] .colab-df-convert:hover {\n",
              "      background-color: #434B5C;\n",
              "      box-shadow: 0px 1px 3px 1px rgba(0, 0, 0, 0.15);\n",
              "      filter: drop-shadow(0px 1px 2px rgba(0, 0, 0, 0.3));\n",
              "      fill: #FFFFFF;\n",
              "    }\n",
              "  </style>\n",
              "\n",
              "      <script>\n",
              "        const buttonEl =\n",
              "          document.querySelector('#df-43273828-ab1a-4203-bd62-d368956a54f2 button.colab-df-convert');\n",
              "        buttonEl.style.display =\n",
              "          google.colab.kernel.accessAllowed ? 'block' : 'none';\n",
              "\n",
              "        async function convertToInteractive(key) {\n",
              "          const element = document.querySelector('#df-43273828-ab1a-4203-bd62-d368956a54f2');\n",
              "          const dataTable =\n",
              "            await google.colab.kernel.invokeFunction('convertToInteractive',\n",
              "                                                     [key], {});\n",
              "          if (!dataTable) return;\n",
              "\n",
              "          const docLinkHtml = 'Like what you see? Visit the ' +\n",
              "            '<a target=\"_blank\" href=https://colab.research.google.com/notebooks/data_table.ipynb>data table notebook</a>'\n",
              "            + ' to learn more about interactive tables.';\n",
              "          element.innerHTML = '';\n",
              "          dataTable['output_type'] = 'display_data';\n",
              "          await google.colab.output.renderOutput(dataTable, element);\n",
              "          const docLink = document.createElement('div');\n",
              "          docLink.innerHTML = docLinkHtml;\n",
              "          element.appendChild(docLink);\n",
              "        }\n",
              "      </script>\n",
              "    </div>\n",
              "  </div>\n",
              "  "
            ]
          },
          "metadata": {},
          "execution_count": 39
        }
      ]
    },
    {
      "cell_type": "markdown",
      "source": [
        "**bedrooms & beds**"
      ],
      "metadata": {
        "id": "4E8fbP-9HW3m"
      }
    },
    {
      "cell_type": "code",
      "source": [
        "IDs_2 = ['307497','1047746','5707655','6297430']\n",
        "\n",
        "listings[['id','bedrooms','beds']].loc[listings['id'].isin(IDs_2)]"
      ],
      "metadata": {
        "colab": {
          "base_uri": "https://localhost:8080/",
          "height": 175
        },
        "id": "DbKqZF__Iw-1",
        "outputId": "67042103-8da8-48c5-a736-63b21a80e0a5"
      },
      "execution_count": null,
      "outputs": [
        {
          "output_type": "execute_result",
          "data": {
            "text/plain": [
              "          id  bedrooms  beds\n",
              "45    307497      10.0   NaN\n",
              "228  1047746       3.0   NaN\n",
              "844  5707655       NaN   NaN\n",
              "914  6297430       NaN   NaN"
            ],
            "text/html": [
              "\n",
              "  <div id=\"df-c6d70cee-98f6-4452-b324-40ab49b65bd0\">\n",
              "    <div class=\"colab-df-container\">\n",
              "      <div>\n",
              "<style scoped>\n",
              "    .dataframe tbody tr th:only-of-type {\n",
              "        vertical-align: middle;\n",
              "    }\n",
              "\n",
              "    .dataframe tbody tr th {\n",
              "        vertical-align: top;\n",
              "    }\n",
              "\n",
              "    .dataframe thead th {\n",
              "        text-align: right;\n",
              "    }\n",
              "</style>\n",
              "<table border=\"1\" class=\"dataframe\">\n",
              "  <thead>\n",
              "    <tr style=\"text-align: right;\">\n",
              "      <th></th>\n",
              "      <th>id</th>\n",
              "      <th>bedrooms</th>\n",
              "      <th>beds</th>\n",
              "    </tr>\n",
              "  </thead>\n",
              "  <tbody>\n",
              "    <tr>\n",
              "      <th>45</th>\n",
              "      <td>307497</td>\n",
              "      <td>10.0</td>\n",
              "      <td>NaN</td>\n",
              "    </tr>\n",
              "    <tr>\n",
              "      <th>228</th>\n",
              "      <td>1047746</td>\n",
              "      <td>3.0</td>\n",
              "      <td>NaN</td>\n",
              "    </tr>\n",
              "    <tr>\n",
              "      <th>844</th>\n",
              "      <td>5707655</td>\n",
              "      <td>NaN</td>\n",
              "      <td>NaN</td>\n",
              "    </tr>\n",
              "    <tr>\n",
              "      <th>914</th>\n",
              "      <td>6297430</td>\n",
              "      <td>NaN</td>\n",
              "      <td>NaN</td>\n",
              "    </tr>\n",
              "  </tbody>\n",
              "</table>\n",
              "</div>\n",
              "      <button class=\"colab-df-convert\" onclick=\"convertToInteractive('df-c6d70cee-98f6-4452-b324-40ab49b65bd0')\"\n",
              "              title=\"Convert this dataframe to an interactive table.\"\n",
              "              style=\"display:none;\">\n",
              "        \n",
              "  <svg xmlns=\"http://www.w3.org/2000/svg\" height=\"24px\"viewBox=\"0 0 24 24\"\n",
              "       width=\"24px\">\n",
              "    <path d=\"M0 0h24v24H0V0z\" fill=\"none\"/>\n",
              "    <path d=\"M18.56 5.44l.94 2.06.94-2.06 2.06-.94-2.06-.94-.94-2.06-.94 2.06-2.06.94zm-11 1L8.5 8.5l.94-2.06 2.06-.94-2.06-.94L8.5 2.5l-.94 2.06-2.06.94zm10 10l.94 2.06.94-2.06 2.06-.94-2.06-.94-.94-2.06-.94 2.06-2.06.94z\"/><path d=\"M17.41 7.96l-1.37-1.37c-.4-.4-.92-.59-1.43-.59-.52 0-1.04.2-1.43.59L10.3 9.45l-7.72 7.72c-.78.78-.78 2.05 0 2.83L4 21.41c.39.39.9.59 1.41.59.51 0 1.02-.2 1.41-.59l7.78-7.78 2.81-2.81c.8-.78.8-2.07 0-2.86zM5.41 20L4 18.59l7.72-7.72 1.47 1.35L5.41 20z\"/>\n",
              "  </svg>\n",
              "      </button>\n",
              "      \n",
              "  <style>\n",
              "    .colab-df-container {\n",
              "      display:flex;\n",
              "      flex-wrap:wrap;\n",
              "      gap: 12px;\n",
              "    }\n",
              "\n",
              "    .colab-df-convert {\n",
              "      background-color: #E8F0FE;\n",
              "      border: none;\n",
              "      border-radius: 50%;\n",
              "      cursor: pointer;\n",
              "      display: none;\n",
              "      fill: #1967D2;\n",
              "      height: 32px;\n",
              "      padding: 0 0 0 0;\n",
              "      width: 32px;\n",
              "    }\n",
              "\n",
              "    .colab-df-convert:hover {\n",
              "      background-color: #E2EBFA;\n",
              "      box-shadow: 0px 1px 2px rgba(60, 64, 67, 0.3), 0px 1px 3px 1px rgba(60, 64, 67, 0.15);\n",
              "      fill: #174EA6;\n",
              "    }\n",
              "\n",
              "    [theme=dark] .colab-df-convert {\n",
              "      background-color: #3B4455;\n",
              "      fill: #D2E3FC;\n",
              "    }\n",
              "\n",
              "    [theme=dark] .colab-df-convert:hover {\n",
              "      background-color: #434B5C;\n",
              "      box-shadow: 0px 1px 3px 1px rgba(0, 0, 0, 0.15);\n",
              "      filter: drop-shadow(0px 1px 2px rgba(0, 0, 0, 0.3));\n",
              "      fill: #FFFFFF;\n",
              "    }\n",
              "  </style>\n",
              "\n",
              "      <script>\n",
              "        const buttonEl =\n",
              "          document.querySelector('#df-c6d70cee-98f6-4452-b324-40ab49b65bd0 button.colab-df-convert');\n",
              "        buttonEl.style.display =\n",
              "          google.colab.kernel.accessAllowed ? 'block' : 'none';\n",
              "\n",
              "        async function convertToInteractive(key) {\n",
              "          const element = document.querySelector('#df-c6d70cee-98f6-4452-b324-40ab49b65bd0');\n",
              "          const dataTable =\n",
              "            await google.colab.kernel.invokeFunction('convertToInteractive',\n",
              "                                                     [key], {});\n",
              "          if (!dataTable) return;\n",
              "\n",
              "          const docLinkHtml = 'Like what you see? Visit the ' +\n",
              "            '<a target=\"_blank\" href=https://colab.research.google.com/notebooks/data_table.ipynb>data table notebook</a>'\n",
              "            + ' to learn more about interactive tables.';\n",
              "          element.innerHTML = '';\n",
              "          dataTable['output_type'] = 'display_data';\n",
              "          await google.colab.output.renderOutput(dataTable, element);\n",
              "          const docLink = document.createElement('div');\n",
              "          docLink.innerHTML = docLinkHtml;\n",
              "          element.appendChild(docLink);\n",
              "        }\n",
              "      </script>\n",
              "    </div>\n",
              "  </div>\n",
              "  "
            ]
          },
          "metadata": {},
          "execution_count": 40
        }
      ]
    },
    {
      "cell_type": "code",
      "source": [
        "# Replace bedrooms with 0\n",
        "listings['bedrooms'] = listings['bedrooms'].fillna(0)"
      ],
      "metadata": {
        "id": "JhRxRaqmHXgR"
      },
      "execution_count": null,
      "outputs": []
    },
    {
      "cell_type": "code",
      "source": [
        "# Replace beds with bedrooms\n",
        "listings['beds'] = listings['beds'].fillna(listings['bedrooms'])\n",
        "\n",
        "listings[['id','bedrooms','beds']].loc[listings['id'].isin(IDs_2)]"
      ],
      "metadata": {
        "colab": {
          "base_uri": "https://localhost:8080/",
          "height": 175
        },
        "id": "cAFEZ29hIcxA",
        "outputId": "4f20df93-b737-4b8e-9bbc-8648cd0a706e"
      },
      "execution_count": null,
      "outputs": [
        {
          "output_type": "execute_result",
          "data": {
            "text/plain": [
              "          id  bedrooms  beds\n",
              "45    307497      10.0  10.0\n",
              "228  1047746       3.0   3.0\n",
              "844  5707655       0.0   0.0\n",
              "914  6297430       0.0   0.0"
            ],
            "text/html": [
              "\n",
              "  <div id=\"df-95ba057d-053c-43e0-9cf7-f00121536802\">\n",
              "    <div class=\"colab-df-container\">\n",
              "      <div>\n",
              "<style scoped>\n",
              "    .dataframe tbody tr th:only-of-type {\n",
              "        vertical-align: middle;\n",
              "    }\n",
              "\n",
              "    .dataframe tbody tr th {\n",
              "        vertical-align: top;\n",
              "    }\n",
              "\n",
              "    .dataframe thead th {\n",
              "        text-align: right;\n",
              "    }\n",
              "</style>\n",
              "<table border=\"1\" class=\"dataframe\">\n",
              "  <thead>\n",
              "    <tr style=\"text-align: right;\">\n",
              "      <th></th>\n",
              "      <th>id</th>\n",
              "      <th>bedrooms</th>\n",
              "      <th>beds</th>\n",
              "    </tr>\n",
              "  </thead>\n",
              "  <tbody>\n",
              "    <tr>\n",
              "      <th>45</th>\n",
              "      <td>307497</td>\n",
              "      <td>10.0</td>\n",
              "      <td>10.0</td>\n",
              "    </tr>\n",
              "    <tr>\n",
              "      <th>228</th>\n",
              "      <td>1047746</td>\n",
              "      <td>3.0</td>\n",
              "      <td>3.0</td>\n",
              "    </tr>\n",
              "    <tr>\n",
              "      <th>844</th>\n",
              "      <td>5707655</td>\n",
              "      <td>0.0</td>\n",
              "      <td>0.0</td>\n",
              "    </tr>\n",
              "    <tr>\n",
              "      <th>914</th>\n",
              "      <td>6297430</td>\n",
              "      <td>0.0</td>\n",
              "      <td>0.0</td>\n",
              "    </tr>\n",
              "  </tbody>\n",
              "</table>\n",
              "</div>\n",
              "      <button class=\"colab-df-convert\" onclick=\"convertToInteractive('df-95ba057d-053c-43e0-9cf7-f00121536802')\"\n",
              "              title=\"Convert this dataframe to an interactive table.\"\n",
              "              style=\"display:none;\">\n",
              "        \n",
              "  <svg xmlns=\"http://www.w3.org/2000/svg\" height=\"24px\"viewBox=\"0 0 24 24\"\n",
              "       width=\"24px\">\n",
              "    <path d=\"M0 0h24v24H0V0z\" fill=\"none\"/>\n",
              "    <path d=\"M18.56 5.44l.94 2.06.94-2.06 2.06-.94-2.06-.94-.94-2.06-.94 2.06-2.06.94zm-11 1L8.5 8.5l.94-2.06 2.06-.94-2.06-.94L8.5 2.5l-.94 2.06-2.06.94zm10 10l.94 2.06.94-2.06 2.06-.94-2.06-.94-.94-2.06-.94 2.06-2.06.94z\"/><path d=\"M17.41 7.96l-1.37-1.37c-.4-.4-.92-.59-1.43-.59-.52 0-1.04.2-1.43.59L10.3 9.45l-7.72 7.72c-.78.78-.78 2.05 0 2.83L4 21.41c.39.39.9.59 1.41.59.51 0 1.02-.2 1.41-.59l7.78-7.78 2.81-2.81c.8-.78.8-2.07 0-2.86zM5.41 20L4 18.59l7.72-7.72 1.47 1.35L5.41 20z\"/>\n",
              "  </svg>\n",
              "      </button>\n",
              "      \n",
              "  <style>\n",
              "    .colab-df-container {\n",
              "      display:flex;\n",
              "      flex-wrap:wrap;\n",
              "      gap: 12px;\n",
              "    }\n",
              "\n",
              "    .colab-df-convert {\n",
              "      background-color: #E8F0FE;\n",
              "      border: none;\n",
              "      border-radius: 50%;\n",
              "      cursor: pointer;\n",
              "      display: none;\n",
              "      fill: #1967D2;\n",
              "      height: 32px;\n",
              "      padding: 0 0 0 0;\n",
              "      width: 32px;\n",
              "    }\n",
              "\n",
              "    .colab-df-convert:hover {\n",
              "      background-color: #E2EBFA;\n",
              "      box-shadow: 0px 1px 2px rgba(60, 64, 67, 0.3), 0px 1px 3px 1px rgba(60, 64, 67, 0.15);\n",
              "      fill: #174EA6;\n",
              "    }\n",
              "\n",
              "    [theme=dark] .colab-df-convert {\n",
              "      background-color: #3B4455;\n",
              "      fill: #D2E3FC;\n",
              "    }\n",
              "\n",
              "    [theme=dark] .colab-df-convert:hover {\n",
              "      background-color: #434B5C;\n",
              "      box-shadow: 0px 1px 3px 1px rgba(0, 0, 0, 0.15);\n",
              "      filter: drop-shadow(0px 1px 2px rgba(0, 0, 0, 0.3));\n",
              "      fill: #FFFFFF;\n",
              "    }\n",
              "  </style>\n",
              "\n",
              "      <script>\n",
              "        const buttonEl =\n",
              "          document.querySelector('#df-95ba057d-053c-43e0-9cf7-f00121536802 button.colab-df-convert');\n",
              "        buttonEl.style.display =\n",
              "          google.colab.kernel.accessAllowed ? 'block' : 'none';\n",
              "\n",
              "        async function convertToInteractive(key) {\n",
              "          const element = document.querySelector('#df-95ba057d-053c-43e0-9cf7-f00121536802');\n",
              "          const dataTable =\n",
              "            await google.colab.kernel.invokeFunction('convertToInteractive',\n",
              "                                                     [key], {});\n",
              "          if (!dataTable) return;\n",
              "\n",
              "          const docLinkHtml = 'Like what you see? Visit the ' +\n",
              "            '<a target=\"_blank\" href=https://colab.research.google.com/notebooks/data_table.ipynb>data table notebook</a>'\n",
              "            + ' to learn more about interactive tables.';\n",
              "          element.innerHTML = '';\n",
              "          dataTable['output_type'] = 'display_data';\n",
              "          await google.colab.output.renderOutput(dataTable, element);\n",
              "          const docLink = document.createElement('div');\n",
              "          docLink.innerHTML = docLinkHtml;\n",
              "          element.appendChild(docLink);\n",
              "        }\n",
              "      </script>\n",
              "    </div>\n",
              "  </div>\n",
              "  "
            ]
          },
          "metadata": {},
          "execution_count": 42
        }
      ]
    },
    {
      "cell_type": "markdown",
      "source": [
        "**host_is_superhost**"
      ],
      "metadata": {
        "id": "u-mVJy2X_kvD"
      }
    },
    {
      "cell_type": "code",
      "source": [
        "# Replace host_is_superhost with False\n",
        "listings['host_is_superhost'] = listings['host_is_superhost'].fillna('f')"
      ],
      "metadata": {
        "id": "R3beSqTmGo5r"
      },
      "execution_count": null,
      "outputs": []
    },
    {
      "cell_type": "markdown",
      "source": [
        "**host_response_rate and host_acceptance_rate**"
      ],
      "metadata": {
        "id": "Q6O6-VolKUEm"
      }
    },
    {
      "cell_type": "code",
      "source": [
        "# Replace host_response_rate and host_acceptance_rate with 0\n",
        "listings[['host_response_rate','host_acceptance_rate']] = listings[['host_response_rate','host_acceptance_rate']].fillna(0)"
      ],
      "metadata": {
        "id": "7uLztUMmLg9e"
      },
      "execution_count": null,
      "outputs": []
    },
    {
      "cell_type": "markdown",
      "source": [
        "**host_response_time**"
      ],
      "metadata": {
        "id": "7rXTECXEKk96"
      }
    },
    {
      "cell_type": "code",
      "source": [
        "# Replace host_response_time with No Information\n",
        "listings['host_response_time'] = listings['host_response_time'].fillna('No Info')"
      ],
      "metadata": {
        "id": "L60mMsfGLs3Q"
      },
      "execution_count": null,
      "outputs": []
    },
    {
      "cell_type": "markdown",
      "source": [
        "**host_location**"
      ],
      "metadata": {
        "id": "vhzyDFjSKkMM"
      }
    },
    {
      "cell_type": "code",
      "source": [
        "listings['host_location'].value_counts()"
      ],
      "metadata": {
        "colab": {
          "base_uri": "https://localhost:8080/"
        },
        "id": "mztDNPygMlK-",
        "outputId": "73b1ea2b-eb6f-4703-e370-46d1f800018f"
      },
      "execution_count": null,
      "outputs": [
        {
          "output_type": "execute_result",
          "data": {
            "text/plain": [
              "Amsterdam, Netherlands                       5375\n",
              "Amsterdam, North Holland, Netherlands         720\n",
              "Netherlands                                   231\n",
              "NL                                            195\n",
              "Amsterdam, North Holland, The Netherlands     137\n",
              "                                             ... \n",
              "Aachen, North Rhine-Westphalia, Germany         1\n",
              "Marbella, Andalusia, Spain                      1\n",
              "Bussum, North Holland, Netherlands              1\n",
              "Kemijärvi, Finland                              1\n",
              "Porto, Portugal                                 1\n",
              "Name: host_location, Length: 252, dtype: int64"
            ]
          },
          "metadata": {},
          "execution_count": 46
        }
      ]
    },
    {
      "cell_type": "code",
      "source": [
        "# Replace host_location with mode\n",
        "listings['host_location'] = listings['host_location'].fillna('Amsterdam, Netherlands')\n",
        "listings['host_location'].value_counts()"
      ],
      "metadata": {
        "colab": {
          "base_uri": "https://localhost:8080/"
        },
        "id": "4jpjorxxMuWm",
        "outputId": "93a076e2-2697-4776-f6ea-c78dac754f40"
      },
      "execution_count": null,
      "outputs": [
        {
          "output_type": "execute_result",
          "data": {
            "text/plain": [
              "Amsterdam, Netherlands                       6147\n",
              "Amsterdam, North Holland, Netherlands         720\n",
              "Netherlands                                   231\n",
              "NL                                            195\n",
              "Amsterdam, North Holland, The Netherlands     137\n",
              "                                             ... \n",
              "Aachen, North Rhine-Westphalia, Germany         1\n",
              "Marbella, Andalusia, Spain                      1\n",
              "Bussum, North Holland, Netherlands              1\n",
              "Kemijärvi, Finland                              1\n",
              "Porto, Portugal                                 1\n",
              "Name: host_location, Length: 252, dtype: int64"
            ]
          },
          "metadata": {},
          "execution_count": 47
        }
      ]
    },
    {
      "cell_type": "markdown",
      "source": [
        "**license**"
      ],
      "metadata": {
        "id": "HvTSRqyQKj6O"
      }
    },
    {
      "cell_type": "code",
      "source": [
        "listings['license'] = listings['license'].str.replace(' ', '')"
      ],
      "metadata": {
        "id": "IWJm9gbsRUaK"
      },
      "execution_count": null,
      "outputs": []
    },
    {
      "cell_type": "code",
      "source": [
        "listings[['license']].sort_values(['license']).value_counts()"
      ],
      "metadata": {
        "colab": {
          "base_uri": "https://localhost:8080/"
        },
        "id": "pzKnjxFKM5Jo",
        "outputId": "3526bba6-6e11-41ab-a851-baece7b04946"
      },
      "execution_count": null,
      "outputs": [
        {
          "output_type": "execute_result",
          "data": {
            "text/plain": [
              "license             \n",
              "Exempt                  867\n",
              "036378AD8875790E3C05     12\n",
              "ABCD1234AB1289EFA0F9     11\n",
              "036366EF20D743B61576      9\n",
              "0363621055B54B4E8B5E      6\n",
              "                       ... \n",
              "03635AB2F0568A294C62      1\n",
              "03635AAFF3F875453CB0      1\n",
              "03635A9C070029FC5811      1\n",
              "03635A9601BD4A9DA4F3      1\n",
              "Z2220787610000000000      1\n",
              "Length: 6210, dtype: int64"
            ]
          },
          "metadata": {},
          "execution_count": 49
        }
      ]
    },
    {
      "cell_type": "code",
      "source": [
        "# Replace license with No License\n",
        "listings['license'] = listings['license'].fillna('No License')\n",
        "\n",
        "listings[['license']].sort_values(['license']).value_counts()"
      ],
      "metadata": {
        "colab": {
          "base_uri": "https://localhost:8080/"
        },
        "id": "uXQwDCdnUWo8",
        "outputId": "61bef732-9cb4-45c8-f0c7-4186d42ddad9"
      },
      "execution_count": null,
      "outputs": [
        {
          "output_type": "execute_result",
          "data": {
            "text/plain": [
              "license             \n",
              "Exempt                  867\n",
              "No License              530\n",
              "036378AD8875790E3C05     12\n",
              "ABCD1234AB1289EFA0F9     11\n",
              "036366EF20D743B61576      9\n",
              "                       ... \n",
              "03635AD674097FD2FADC      1\n",
              "03635AB2F0568A294C62      1\n",
              "03635AAFF3F875453CB0      1\n",
              "03635A9C070029FC5811      1\n",
              "Z2220787610000000000      1\n",
              "Length: 6211, dtype: int64"
            ]
          },
          "metadata": {},
          "execution_count": 50
        }
      ]
    },
    {
      "cell_type": "markdown",
      "source": [
        "**minimum_nights**"
      ],
      "metadata": {
        "id": "BErNUAEEfF0M"
      }
    },
    {
      "cell_type": "code",
      "source": [
        "# Replace 'minimum_nights' with 0\n",
        "listings['minimum_nights'] = listings['minimum_nights'].fillna(0)"
      ],
      "metadata": {
        "id": "7ykwJFB_fIEZ"
      },
      "execution_count": null,
      "outputs": []
    },
    {
      "cell_type": "markdown",
      "source": [
        "**Price has value '0', not make sense**"
      ],
      "metadata": {
        "id": "bsGh4eHnTifr"
      }
    },
    {
      "cell_type": "code",
      "source": [
        "# Replace 'prices' with 0\n",
        "listings['price'] = listings['price'].fillna(0)"
      ],
      "metadata": {
        "id": "f-cHAl8Pihn3"
      },
      "execution_count": null,
      "outputs": []
    },
    {
      "cell_type": "code",
      "source": [
        "# Drop rows that price = 0\n",
        "listings = listings.drop(listings[listings[\"price\"] == 0].index)"
      ],
      "metadata": {
        "id": "fk2GMPhIVFmy"
      },
      "execution_count": null,
      "outputs": []
    },
    {
      "cell_type": "code",
      "source": [
        "listings[\"price\"].sort_values()"
      ],
      "metadata": {
        "colab": {
          "base_uri": "https://localhost:8080/"
        },
        "id": "1XuIV8qMTht9",
        "outputId": "eb802052-c078-46ca-b04d-99bcae102f69"
      },
      "execution_count": null,
      "outputs": [
        {
          "output_type": "execute_result",
          "data": {
            "text/plain": [
              "6461      15.0\n",
              "6464      15.0\n",
              "5015      15.0\n",
              "2865      21.0\n",
              "5317      25.0\n",
              "         ...  \n",
              "4411    6477.0\n",
              "4410    6477.0\n",
              "1400    6603.0\n",
              "3925    7900.0\n",
              "85      8812.0\n",
              "Name: price, Length: 8228, dtype: float64"
            ]
          },
          "metadata": {},
          "execution_count": 54
        }
      ]
    },
    {
      "cell_type": "code",
      "source": [
        "listings.isnull().sum()"
      ],
      "metadata": {
        "colab": {
          "base_uri": "https://localhost:8080/"
        },
        "id": "nPXaDhaMU2sQ",
        "outputId": "f25e6e32-1434-4590-ef76-654ce151219f"
      },
      "execution_count": null,
      "outputs": [
        {
          "output_type": "execute_result",
          "data": {
            "text/plain": [
              "id                                0\n",
              "host_id                           0\n",
              "host_since                        0\n",
              "host_location                     0\n",
              "host_response_time                0\n",
              "host_response_rate                0\n",
              "host_acceptance_rate              0\n",
              "host_is_superhost                 0\n",
              "host_listings_count               0\n",
              "host_total_listings_count         0\n",
              "host_has_profile_pic              0\n",
              "host_identity_verified            0\n",
              "neighbourhood_cleansed            0\n",
              "latitude                          0\n",
              "longitude                         0\n",
              "room_type                         0\n",
              "accommodates                      0\n",
              "bathrooms_text                    0\n",
              "bedrooms                          0\n",
              "beds                              0\n",
              "amenities                         0\n",
              "price                             0\n",
              "minimum_nights                    0\n",
              "maximum_nights                    0\n",
              "has_availability                  0\n",
              "availability_30                   0\n",
              "availability_60                   0\n",
              "availability_90                   0\n",
              "availability_365                  0\n",
              "number_of_reviews                 0\n",
              "number_of_reviews_ltm             0\n",
              "number_of_reviews_l30d            0\n",
              "last_review                       0\n",
              "review_scores_rating              0\n",
              "review_scores_accuracy            0\n",
              "review_scores_cleanliness         0\n",
              "review_scores_checkin             0\n",
              "review_scores_communication       0\n",
              "review_scores_location            0\n",
              "review_scores_value               0\n",
              "license                           0\n",
              "instant_bookable                  0\n",
              "calculated_host_listings_count    0\n",
              "reviews_per_month                 0\n",
              "source                            0\n",
              "dtype: int64"
            ]
          },
          "metadata": {},
          "execution_count": 55
        }
      ]
    },
    {
      "cell_type": "markdown",
      "source": [
        "### 2.3.2 Detect Outliers"
      ],
      "metadata": {
        "id": "Pwt0dWmQG0bB"
      }
    },
    {
      "cell_type": "code",
      "source": [
        "check_outliers = listings.select_dtypes(include=['float','int']).columns\n",
        "check_outliers"
      ],
      "metadata": {
        "colab": {
          "base_uri": "https://localhost:8080/"
        },
        "id": "NNgAqJqFNvS7",
        "outputId": "e8ce8ed6-ff1b-4381-c1b1-b103bfa8784e"
      },
      "execution_count": null,
      "outputs": [
        {
          "output_type": "execute_result",
          "data": {
            "text/plain": [
              "Index(['host_response_rate', 'host_acceptance_rate', 'host_listings_count',\n",
              "       'host_total_listings_count', 'latitude', 'longitude', 'accommodates',\n",
              "       'bedrooms', 'beds', 'price', 'minimum_nights', 'maximum_nights',\n",
              "       'availability_30', 'availability_60', 'availability_90',\n",
              "       'availability_365', 'number_of_reviews', 'number_of_reviews_ltm',\n",
              "       'number_of_reviews_l30d', 'review_scores_rating',\n",
              "       'review_scores_accuracy', 'review_scores_cleanliness',\n",
              "       'review_scores_checkin', 'review_scores_communication',\n",
              "       'review_scores_location', 'review_scores_value',\n",
              "       'calculated_host_listings_count', 'reviews_per_month'],\n",
              "      dtype='object')"
            ]
          },
          "metadata": {},
          "execution_count": 56
        }
      ]
    },
    {
      "cell_type": "code",
      "source": [
        "plt.figure(figsize=(30,25))\n",
        "for i in enumerate(check_outliers):\n",
        "    plt.subplot(5,10,i[0]+1)\n",
        "    sns.boxplot(listings[i[1]])"
      ],
      "metadata": {
        "colab": {
          "base_uri": "https://localhost:8080/",
          "height": 1000
        },
        "id": "4wNnbxgCicEz",
        "outputId": "f73ae1d4-bf98-4097-eb05-7654c17d1fae"
      },
      "execution_count": null,
      "outputs": [
        {
          "output_type": "stream",
          "name": "stderr",
          "text": [
            "/usr/local/lib/python3.7/dist-packages/seaborn/_decorators.py:43: FutureWarning: Pass the following variable as a keyword arg: x. From version 0.12, the only valid positional argument will be `data`, and passing other arguments without an explicit keyword will result in an error or misinterpretation.\n",
            "  FutureWarning\n",
            "/usr/local/lib/python3.7/dist-packages/seaborn/_decorators.py:43: FutureWarning: Pass the following variable as a keyword arg: x. From version 0.12, the only valid positional argument will be `data`, and passing other arguments without an explicit keyword will result in an error or misinterpretation.\n",
            "  FutureWarning\n",
            "/usr/local/lib/python3.7/dist-packages/seaborn/_decorators.py:43: FutureWarning: Pass the following variable as a keyword arg: x. From version 0.12, the only valid positional argument will be `data`, and passing other arguments without an explicit keyword will result in an error or misinterpretation.\n",
            "  FutureWarning\n",
            "/usr/local/lib/python3.7/dist-packages/seaborn/_decorators.py:43: FutureWarning: Pass the following variable as a keyword arg: x. From version 0.12, the only valid positional argument will be `data`, and passing other arguments without an explicit keyword will result in an error or misinterpretation.\n",
            "  FutureWarning\n",
            "/usr/local/lib/python3.7/dist-packages/seaborn/_decorators.py:43: FutureWarning: Pass the following variable as a keyword arg: x. From version 0.12, the only valid positional argument will be `data`, and passing other arguments without an explicit keyword will result in an error or misinterpretation.\n",
            "  FutureWarning\n",
            "/usr/local/lib/python3.7/dist-packages/seaborn/_decorators.py:43: FutureWarning: Pass the following variable as a keyword arg: x. From version 0.12, the only valid positional argument will be `data`, and passing other arguments without an explicit keyword will result in an error or misinterpretation.\n",
            "  FutureWarning\n",
            "/usr/local/lib/python3.7/dist-packages/seaborn/_decorators.py:43: FutureWarning: Pass the following variable as a keyword arg: x. From version 0.12, the only valid positional argument will be `data`, and passing other arguments without an explicit keyword will result in an error or misinterpretation.\n",
            "  FutureWarning\n",
            "/usr/local/lib/python3.7/dist-packages/seaborn/_decorators.py:43: FutureWarning: Pass the following variable as a keyword arg: x. From version 0.12, the only valid positional argument will be `data`, and passing other arguments without an explicit keyword will result in an error or misinterpretation.\n",
            "  FutureWarning\n",
            "/usr/local/lib/python3.7/dist-packages/seaborn/_decorators.py:43: FutureWarning: Pass the following variable as a keyword arg: x. From version 0.12, the only valid positional argument will be `data`, and passing other arguments without an explicit keyword will result in an error or misinterpretation.\n",
            "  FutureWarning\n",
            "/usr/local/lib/python3.7/dist-packages/seaborn/_decorators.py:43: FutureWarning: Pass the following variable as a keyword arg: x. From version 0.12, the only valid positional argument will be `data`, and passing other arguments without an explicit keyword will result in an error or misinterpretation.\n",
            "  FutureWarning\n",
            "/usr/local/lib/python3.7/dist-packages/seaborn/_decorators.py:43: FutureWarning: Pass the following variable as a keyword arg: x. From version 0.12, the only valid positional argument will be `data`, and passing other arguments without an explicit keyword will result in an error or misinterpretation.\n",
            "  FutureWarning\n",
            "/usr/local/lib/python3.7/dist-packages/seaborn/_decorators.py:43: FutureWarning: Pass the following variable as a keyword arg: x. From version 0.12, the only valid positional argument will be `data`, and passing other arguments without an explicit keyword will result in an error or misinterpretation.\n",
            "  FutureWarning\n",
            "/usr/local/lib/python3.7/dist-packages/seaborn/_decorators.py:43: FutureWarning: Pass the following variable as a keyword arg: x. From version 0.12, the only valid positional argument will be `data`, and passing other arguments without an explicit keyword will result in an error or misinterpretation.\n",
            "  FutureWarning\n",
            "/usr/local/lib/python3.7/dist-packages/seaborn/_decorators.py:43: FutureWarning: Pass the following variable as a keyword arg: x. From version 0.12, the only valid positional argument will be `data`, and passing other arguments without an explicit keyword will result in an error or misinterpretation.\n",
            "  FutureWarning\n",
            "/usr/local/lib/python3.7/dist-packages/seaborn/_decorators.py:43: FutureWarning: Pass the following variable as a keyword arg: x. From version 0.12, the only valid positional argument will be `data`, and passing other arguments without an explicit keyword will result in an error or misinterpretation.\n",
            "  FutureWarning\n",
            "/usr/local/lib/python3.7/dist-packages/seaborn/_decorators.py:43: FutureWarning: Pass the following variable as a keyword arg: x. From version 0.12, the only valid positional argument will be `data`, and passing other arguments without an explicit keyword will result in an error or misinterpretation.\n",
            "  FutureWarning\n",
            "/usr/local/lib/python3.7/dist-packages/seaborn/_decorators.py:43: FutureWarning: Pass the following variable as a keyword arg: x. From version 0.12, the only valid positional argument will be `data`, and passing other arguments without an explicit keyword will result in an error or misinterpretation.\n",
            "  FutureWarning\n",
            "/usr/local/lib/python3.7/dist-packages/seaborn/_decorators.py:43: FutureWarning: Pass the following variable as a keyword arg: x. From version 0.12, the only valid positional argument will be `data`, and passing other arguments without an explicit keyword will result in an error or misinterpretation.\n",
            "  FutureWarning\n",
            "/usr/local/lib/python3.7/dist-packages/seaborn/_decorators.py:43: FutureWarning: Pass the following variable as a keyword arg: x. From version 0.12, the only valid positional argument will be `data`, and passing other arguments without an explicit keyword will result in an error or misinterpretation.\n",
            "  FutureWarning\n",
            "/usr/local/lib/python3.7/dist-packages/seaborn/_decorators.py:43: FutureWarning: Pass the following variable as a keyword arg: x. From version 0.12, the only valid positional argument will be `data`, and passing other arguments without an explicit keyword will result in an error or misinterpretation.\n",
            "  FutureWarning\n",
            "/usr/local/lib/python3.7/dist-packages/seaborn/_decorators.py:43: FutureWarning: Pass the following variable as a keyword arg: x. From version 0.12, the only valid positional argument will be `data`, and passing other arguments without an explicit keyword will result in an error or misinterpretation.\n",
            "  FutureWarning\n",
            "/usr/local/lib/python3.7/dist-packages/seaborn/_decorators.py:43: FutureWarning: Pass the following variable as a keyword arg: x. From version 0.12, the only valid positional argument will be `data`, and passing other arguments without an explicit keyword will result in an error or misinterpretation.\n",
            "  FutureWarning\n",
            "/usr/local/lib/python3.7/dist-packages/seaborn/_decorators.py:43: FutureWarning: Pass the following variable as a keyword arg: x. From version 0.12, the only valid positional argument will be `data`, and passing other arguments without an explicit keyword will result in an error or misinterpretation.\n",
            "  FutureWarning\n",
            "/usr/local/lib/python3.7/dist-packages/seaborn/_decorators.py:43: FutureWarning: Pass the following variable as a keyword arg: x. From version 0.12, the only valid positional argument will be `data`, and passing other arguments without an explicit keyword will result in an error or misinterpretation.\n",
            "  FutureWarning\n",
            "/usr/local/lib/python3.7/dist-packages/seaborn/_decorators.py:43: FutureWarning: Pass the following variable as a keyword arg: x. From version 0.12, the only valid positional argument will be `data`, and passing other arguments without an explicit keyword will result in an error or misinterpretation.\n",
            "  FutureWarning\n",
            "/usr/local/lib/python3.7/dist-packages/seaborn/_decorators.py:43: FutureWarning: Pass the following variable as a keyword arg: x. From version 0.12, the only valid positional argument will be `data`, and passing other arguments without an explicit keyword will result in an error or misinterpretation.\n",
            "  FutureWarning\n",
            "/usr/local/lib/python3.7/dist-packages/seaborn/_decorators.py:43: FutureWarning: Pass the following variable as a keyword arg: x. From version 0.12, the only valid positional argument will be `data`, and passing other arguments without an explicit keyword will result in an error or misinterpretation.\n",
            "  FutureWarning\n",
            "/usr/local/lib/python3.7/dist-packages/seaborn/_decorators.py:43: FutureWarning: Pass the following variable as a keyword arg: x. From version 0.12, the only valid positional argument will be `data`, and passing other arguments without an explicit keyword will result in an error or misinterpretation.\n",
            "  FutureWarning\n"
          ]
        },
        {
          "output_type": "display_data",
          "data": {
            "text/plain": [
              "<Figure size 2160x1800 with 28 Axes>"
            ],
            "image/png": "[encoded data removed]"
          },
          "metadata": {
            "needs_background": "light"
          }
        }
      ]
    },
    {
      "cell_type": "code",
      "source": [
        "outlier = ['host_listings_count','host_total_listings_count', 'accommodates','bedrooms', 'beds', 'minimum_nights',\n",
        "       'availability_30', 'availability_60', 'availability_90', 'number_of_reviews','number_of_reviews_ltm',\n",
        "       'number_of_reviews_l30d','review_scores_rating','review_scores_accuracy','review_scores_cleanliness',\n",
        "       'review_scores_checkin','review_scores_communication', 'review_scores_location','review_scores_value',\n",
        "       'calculated_host_listings_count','reviews_per_month']"
      ],
      "metadata": {
        "id": "fsx51buu_8--"
      },
      "execution_count": null,
      "outputs": []
    },
    {
      "cell_type": "code",
      "source": [
        "plt.figure(figsize=(30,20))\n",
        "for i in enumerate(outlier):\n",
        "    plt.subplot(4,10,i[0]+1)\n",
        "    sns.boxplot(listings[i[1]])"
      ],
      "metadata": {
        "colab": {
          "base_uri": "https://localhost:8080/",
          "height": 1000
        },
        "id": "_RFVD1tRAGui",
        "outputId": "bb2ad147-8764-401c-ddb7-5dcc045bd37a"
      },
      "execution_count": null,
      "outputs": [
        {
          "output_type": "stream",
          "name": "stderr",
          "text": [
            "/usr/local/lib/python3.7/dist-packages/seaborn/_decorators.py:43: FutureWarning: Pass the following variable as a keyword arg: x. From version 0.12, the only valid positional argument will be `data`, and passing other arguments without an explicit keyword will result in an error or misinterpretation.\n",
            "  FutureWarning\n",
            "/usr/local/lib/python3.7/dist-packages/seaborn/_decorators.py:43: FutureWarning: Pass the following variable as a keyword arg: x. From version 0.12, the only valid positional argument will be `data`, and passing other arguments without an explicit keyword will result in an error or misinterpretation.\n",
            "  FutureWarning\n",
            "/usr/local/lib/python3.7/dist-packages/seaborn/_decorators.py:43: FutureWarning: Pass the following variable as a keyword arg: x. From version 0.12, the only valid positional argument will be `data`, and passing other arguments without an explicit keyword will result in an error or misinterpretation.\n",
            "  FutureWarning\n",
            "/usr/local/lib/python3.7/dist-packages/seaborn/_decorators.py:43: FutureWarning: Pass the following variable as a keyword arg: x. From version 0.12, the only valid positional argument will be `data`, and passing other arguments without an explicit keyword will result in an error or misinterpretation.\n",
            "  FutureWarning\n",
            "/usr/local/lib/python3.7/dist-packages/seaborn/_decorators.py:43: FutureWarning: Pass the following variable as a keyword arg: x. From version 0.12, the only valid positional argument will be `data`, and passing other arguments without an explicit keyword will result in an error or misinterpretation.\n",
            "  FutureWarning\n",
            "/usr/local/lib/python3.7/dist-packages/seaborn/_decorators.py:43: FutureWarning: Pass the following variable as a keyword arg: x. From version 0.12, the only valid positional argument will be `data`, and passing other arguments without an explicit keyword will result in an error or misinterpretation.\n",
            "  FutureWarning\n",
            "/usr/local/lib/python3.7/dist-packages/seaborn/_decorators.py:43: FutureWarning: Pass the following variable as a keyword arg: x. From version 0.12, the only valid positional argument will be `data`, and passing other arguments without an explicit keyword will result in an error or misinterpretation.\n",
            "  FutureWarning\n",
            "/usr/local/lib/python3.7/dist-packages/seaborn/_decorators.py:43: FutureWarning: Pass the following variable as a keyword arg: x. From version 0.12, the only valid positional argument will be `data`, and passing other arguments without an explicit keyword will result in an error or misinterpretation.\n",
            "  FutureWarning\n",
            "/usr/local/lib/python3.7/dist-packages/seaborn/_decorators.py:43: FutureWarning: Pass the following variable as a keyword arg: x. From version 0.12, the only valid positional argument will be `data`, and passing other arguments without an explicit keyword will result in an error or misinterpretation.\n",
            "  FutureWarning\n",
            "/usr/local/lib/python3.7/dist-packages/seaborn/_decorators.py:43: FutureWarning: Pass the following variable as a keyword arg: x. From version 0.12, the only valid positional argument will be `data`, and passing other arguments without an explicit keyword will result in an error or misinterpretation.\n",
            "  FutureWarning\n",
            "/usr/local/lib/python3.7/dist-packages/seaborn/_decorators.py:43: FutureWarning: Pass the following variable as a keyword arg: x. From version 0.12, the only valid positional argument will be `data`, and passing other arguments without an explicit keyword will result in an error or misinterpretation.\n",
            "  FutureWarning\n",
            "/usr/local/lib/python3.7/dist-packages/seaborn/_decorators.py:43: FutureWarning: Pass the following variable as a keyword arg: x. From version 0.12, the only valid positional argument will be `data`, and passing other arguments without an explicit keyword will result in an error or misinterpretation.\n",
            "  FutureWarning\n",
            "/usr/local/lib/python3.7/dist-packages/seaborn/_decorators.py:43: FutureWarning: Pass the following variable as a keyword arg: x. From version 0.12, the only valid positional argument will be `data`, and passing other arguments without an explicit keyword will result in an error or misinterpretation.\n",
            "  FutureWarning\n",
            "/usr/local/lib/python3.7/dist-packages/seaborn/_decorators.py:43: FutureWarning: Pass the following variable as a keyword arg: x. From version 0.12, the only valid positional argument will be `data`, and passing other arguments without an explicit keyword will result in an error or misinterpretation.\n",
            "  FutureWarning\n",
            "/usr/local/lib/python3.7/dist-packages/seaborn/_decorators.py:43: FutureWarning: Pass the following variable as a keyword arg: x. From version 0.12, the only valid positional argument will be `data`, and passing other arguments without an explicit keyword will result in an error or misinterpretation.\n",
            "  FutureWarning\n",
            "/usr/local/lib/python3.7/dist-packages/seaborn/_decorators.py:43: FutureWarning: Pass the following variable as a keyword arg: x. From version 0.12, the only valid positional argument will be `data`, and passing other arguments without an explicit keyword will result in an error or misinterpretation.\n",
            "  FutureWarning\n",
            "/usr/local/lib/python3.7/dist-packages/seaborn/_decorators.py:43: FutureWarning: Pass the following variable as a keyword arg: x. From version 0.12, the only valid positional argument will be `data`, and passing other arguments without an explicit keyword will result in an error or misinterpretation.\n",
            "  FutureWarning\n",
            "/usr/local/lib/python3.7/dist-packages/seaborn/_decorators.py:43: FutureWarning: Pass the following variable as a keyword arg: x. From version 0.12, the only valid positional argument will be `data`, and passing other arguments without an explicit keyword will result in an error or misinterpretation.\n",
            "  FutureWarning\n",
            "/usr/local/lib/python3.7/dist-packages/seaborn/_decorators.py:43: FutureWarning: Pass the following variable as a keyword arg: x. From version 0.12, the only valid positional argument will be `data`, and passing other arguments without an explicit keyword will result in an error or misinterpretation.\n",
            "  FutureWarning\n",
            "/usr/local/lib/python3.7/dist-packages/seaborn/_decorators.py:43: FutureWarning: Pass the following variable as a keyword arg: x. From version 0.12, the only valid positional argument will be `data`, and passing other arguments without an explicit keyword will result in an error or misinterpretation.\n",
            "  FutureWarning\n",
            "/usr/local/lib/python3.7/dist-packages/seaborn/_decorators.py:43: FutureWarning: Pass the following variable as a keyword arg: x. From version 0.12, the only valid positional argument will be `data`, and passing other arguments without an explicit keyword will result in an error or misinterpretation.\n",
            "  FutureWarning\n"
          ]
        },
        {
          "output_type": "display_data",
          "data": {
            "text/plain": [
              "<Figure size 2160x1440 with 21 Axes>"
            ],
            "image/png": "[encoded data removed]"
          },
          "metadata": {
            "needs_background": "light"
          }
        }
      ]
    },
    {
      "cell_type": "code",
      "source": [
        "up = ['host_listings_count','host_total_listings_count', 'accommodates','bedrooms', 'beds', 'minimum_nights',\n",
        "       'availability_30', 'availability_60', 'availability_90', 'number_of_reviews','number_of_reviews_ltm',\n",
        "       'number_of_reviews_l30d','calculated_host_listings_count','reviews_per_month']"
      ],
      "metadata": {
        "id": "AzNvvsiUAdYf"
      },
      "execution_count": null,
      "outputs": []
    },
    {
      "cell_type": "code",
      "source": [
        "for i in enumerate(up):\n",
        "    q1 = listings[i[1]].quantile(.10)\n",
        "    q3 = listings[i[1]].quantile(.90)\n",
        "    iqr=q3-q1\n",
        "    upper=q3+(1.5*iqr)\n",
        "    lower=q1-(1.5*iqr)\n",
        "    filter_upper=listings[i[1]]>upper\n",
        "    print(filter_upper.value_counts())\n",
        "    listings.drop(listings[filter_upper].index , inplace=True)"
      ],
      "metadata": {
        "colab": {
          "base_uri": "https://localhost:8080/"
        },
        "id": "-fbhlOplAndI",
        "outputId": "59bc0d02-db65-4d83-c541-01db4aa96b52"
      },
      "execution_count": null,
      "outputs": [
        {
          "output_type": "stream",
          "name": "stdout",
          "text": [
            "False    7924\n",
            "True      304\n",
            "Name: host_listings_count, dtype: int64\n",
            "False    7639\n",
            "True      140\n",
            "Name: host_total_listings_count, dtype: int64\n",
            "False    7539\n",
            "True       71\n",
            "Name: accommodates, dtype: int64\n",
            "False    7510\n",
            "Name: bedrooms, dtype: int64\n",
            "False    7506\n",
            "True        4\n",
            "Name: beds, dtype: int64\n",
            "False    7242\n",
            "True      264\n",
            "Name: minimum_nights, dtype: int64\n",
            "False    7136\n",
            "Name: availability_30, dtype: int64\n",
            "False    7136\n",
            "Name: availability_60, dtype: int64\n",
            "False    7136\n",
            "Name: availability_90, dtype: int64\n",
            "False    6940\n",
            "True      196\n",
            "Name: number_of_reviews, dtype: int64\n",
            "False    6828\n",
            "True       89\n",
            "Name: number_of_reviews_ltm, dtype: int64\n",
            "False    6766\n",
            "True       48\n",
            "Name: number_of_reviews_l30d, dtype: int64\n",
            "False    6573\n",
            "True      179\n",
            "Name: calculated_host_listings_count, dtype: int64\n",
            "False    6462\n",
            "True       21\n",
            "Name: reviews_per_month, dtype: int64\n"
          ]
        }
      ]
    },
    {
      "cell_type": "code",
      "source": [
        "plt.figure(figsize=(30,20))\n",
        "for i in enumerate(outlier):\n",
        "    plt.subplot(4,10,i[0]+1)\n",
        "    sns.boxplot(listings[i[1]])"
      ],
      "metadata": {
        "colab": {
          "base_uri": "https://localhost:8080/",
          "height": 1000
        },
        "id": "X4jyfCQ0Ao3Q",
        "outputId": "5a5a518a-782e-4419-ccb5-83a610399a34"
      },
      "execution_count": null,
      "outputs": [
        {
          "output_type": "stream",
          "name": "stderr",
          "text": [
            "/usr/local/lib/python3.7/dist-packages/seaborn/_decorators.py:43: FutureWarning: Pass the following variable as a keyword arg: x. From version 0.12, the only valid positional argument will be `data`, and passing other arguments without an explicit keyword will result in an error or misinterpretation.\n",
            "  FutureWarning\n",
            "/usr/local/lib/python3.7/dist-packages/seaborn/_decorators.py:43: FutureWarning: Pass the following variable as a keyword arg: x. From version 0.12, the only valid positional argument will be `data`, and passing other arguments without an explicit keyword will result in an error or misinterpretation.\n",
            "  FutureWarning\n",
            "/usr/local/lib/python3.7/dist-packages/seaborn/_decorators.py:43: FutureWarning: Pass the following variable as a keyword arg: x. From version 0.12, the only valid positional argument will be `data`, and passing other arguments without an explicit keyword will result in an error or misinterpretation.\n",
            "  FutureWarning\n",
            "/usr/local/lib/python3.7/dist-packages/seaborn/_decorators.py:43: FutureWarning: Pass the following variable as a keyword arg: x. From version 0.12, the only valid positional argument will be `data`, and passing other arguments without an explicit keyword will result in an error or misinterpretation.\n",
            "  FutureWarning\n",
            "/usr/local/lib/python3.7/dist-packages/seaborn/_decorators.py:43: FutureWarning: Pass the following variable as a keyword arg: x. From version 0.12, the only valid positional argument will be `data`, and passing other arguments without an explicit keyword will result in an error or misinterpretation.\n",
            "  FutureWarning\n",
            "/usr/local/lib/python3.7/dist-packages/seaborn/_decorators.py:43: FutureWarning: Pass the following variable as a keyword arg: x. From version 0.12, the only valid positional argument will be `data`, and passing other arguments without an explicit keyword will result in an error or misinterpretation.\n",
            "  FutureWarning\n",
            "/usr/local/lib/python3.7/dist-packages/seaborn/_decorators.py:43: FutureWarning: Pass the following variable as a keyword arg: x. From version 0.12, the only valid positional argument will be `data`, and passing other arguments without an explicit keyword will result in an error or misinterpretation.\n",
            "  FutureWarning\n",
            "/usr/local/lib/python3.7/dist-packages/seaborn/_decorators.py:43: FutureWarning: Pass the following variable as a keyword arg: x. From version 0.12, the only valid positional argument will be `data`, and passing other arguments without an explicit keyword will result in an error or misinterpretation.\n",
            "  FutureWarning\n",
            "/usr/local/lib/python3.7/dist-packages/seaborn/_decorators.py:43: FutureWarning: Pass the following variable as a keyword arg: x. From version 0.12, the only valid positional argument will be `data`, and passing other arguments without an explicit keyword will result in an error or misinterpretation.\n",
            "  FutureWarning\n",
            "/usr/local/lib/python3.7/dist-packages/seaborn/_decorators.py:43: FutureWarning: Pass the following variable as a keyword arg: x. From version 0.12, the only valid positional argument will be `data`, and passing other arguments without an explicit keyword will result in an error or misinterpretation.\n",
            "  FutureWarning\n",
            "/usr/local/lib/python3.7/dist-packages/seaborn/_decorators.py:43: FutureWarning: Pass the following variable as a keyword arg: x. From version 0.12, the only valid positional argument will be `data`, and passing other arguments without an explicit keyword will result in an error or misinterpretation.\n",
            "  FutureWarning\n",
            "/usr/local/lib/python3.7/dist-packages/seaborn/_decorators.py:43: FutureWarning: Pass the following variable as a keyword arg: x. From version 0.12, the only valid positional argument will be `data`, and passing other arguments without an explicit keyword will result in an error or misinterpretation.\n",
            "  FutureWarning\n",
            "/usr/local/lib/python3.7/dist-packages/seaborn/_decorators.py:43: FutureWarning: Pass the following variable as a keyword arg: x. From version 0.12, the only valid positional argument will be `data`, and passing other arguments without an explicit keyword will result in an error or misinterpretation.\n",
            "  FutureWarning\n",
            "/usr/local/lib/python3.7/dist-packages/seaborn/_decorators.py:43: FutureWarning: Pass the following variable as a keyword arg: x. From version 0.12, the only valid positional argument will be `data`, and passing other arguments without an explicit keyword will result in an error or misinterpretation.\n",
            "  FutureWarning\n",
            "/usr/local/lib/python3.7/dist-packages/seaborn/_decorators.py:43: FutureWarning: Pass the following variable as a keyword arg: x. From version 0.12, the only valid positional argument will be `data`, and passing other arguments without an explicit keyword will result in an error or misinterpretation.\n",
            "  FutureWarning\n",
            "/usr/local/lib/python3.7/dist-packages/seaborn/_decorators.py:43: FutureWarning: Pass the following variable as a keyword arg: x. From version 0.12, the only valid positional argument will be `data`, and passing other arguments without an explicit keyword will result in an error or misinterpretation.\n",
            "  FutureWarning\n",
            "/usr/local/lib/python3.7/dist-packages/seaborn/_decorators.py:43: FutureWarning: Pass the following variable as a keyword arg: x. From version 0.12, the only valid positional argument will be `data`, and passing other arguments without an explicit keyword will result in an error or misinterpretation.\n",
            "  FutureWarning\n",
            "/usr/local/lib/python3.7/dist-packages/seaborn/_decorators.py:43: FutureWarning: Pass the following variable as a keyword arg: x. From version 0.12, the only valid positional argument will be `data`, and passing other arguments without an explicit keyword will result in an error or misinterpretation.\n",
            "  FutureWarning\n",
            "/usr/local/lib/python3.7/dist-packages/seaborn/_decorators.py:43: FutureWarning: Pass the following variable as a keyword arg: x. From version 0.12, the only valid positional argument will be `data`, and passing other arguments without an explicit keyword will result in an error or misinterpretation.\n",
            "  FutureWarning\n",
            "/usr/local/lib/python3.7/dist-packages/seaborn/_decorators.py:43: FutureWarning: Pass the following variable as a keyword arg: x. From version 0.12, the only valid positional argument will be `data`, and passing other arguments without an explicit keyword will result in an error or misinterpretation.\n",
            "  FutureWarning\n",
            "/usr/local/lib/python3.7/dist-packages/seaborn/_decorators.py:43: FutureWarning: Pass the following variable as a keyword arg: x. From version 0.12, the only valid positional argument will be `data`, and passing other arguments without an explicit keyword will result in an error or misinterpretation.\n",
            "  FutureWarning\n"
          ]
        },
        {
          "output_type": "display_data",
          "data": {
            "text/plain": [
              "<Figure size 2160x1440 with 21 Axes>"
            ],
            "image/png": "[encoded data removed]"
          },
          "metadata": {
            "needs_background": "light"
          }
        }
      ]
    },
    {
      "cell_type": "code",
      "source": [
        "down = ['review_scores_rating', 'review_scores_accuracy','review_scores_cleanliness', 'review_scores_checkin',\n",
        "       'review_scores_communication', 'review_scores_location','review_scores_value']"
      ],
      "metadata": {
        "id": "GaXBFoyiArdf"
      },
      "execution_count": null,
      "outputs": []
    },
    {
      "cell_type": "code",
      "source": [
        "for i in enumerate(down):\n",
        "    q1 = listings[i[1]].quantile(.10)\n",
        "    q3 = listings[i[1]].quantile(.90)\n",
        "    iqr=q3-q1\n",
        "    upper=q3+(1.5*iqr)\n",
        "    lower=q1-(1.5*iqr)\n",
        "    filter_lower=listings[i[1]]<lower\n",
        "    print(filter_lower.value_counts())\n",
        "    listings.drop(listings[filter_lower].index , inplace=True)"
      ],
      "metadata": {
        "colab": {
          "base_uri": "https://localhost:8080/"
        },
        "id": "3NzftLg0AsXN",
        "outputId": "fa67cd13-8c46-4172-93c4-932e092973ad"
      },
      "execution_count": null,
      "outputs": [
        {
          "output_type": "stream",
          "name": "stdout",
          "text": [
            "False    6455\n",
            "Name: review_scores_rating, dtype: int64\n",
            "False    6455\n",
            "Name: review_scores_accuracy, dtype: int64\n",
            "False    6455\n",
            "Name: review_scores_cleanliness, dtype: int64\n",
            "False    6455\n",
            "Name: review_scores_checkin, dtype: int64\n",
            "False    6455\n",
            "Name: review_scores_communication, dtype: int64\n",
            "False    6455\n",
            "Name: review_scores_location, dtype: int64\n",
            "False    6455\n",
            "Name: review_scores_value, dtype: int64\n"
          ]
        }
      ]
    },
    {
      "cell_type": "code",
      "source": [
        "plt.figure(figsize=(30,20))\n",
        "for i in enumerate(outlier):\n",
        "    plt.subplot(4,10,i[0]+1)\n",
        "    sns.boxplot(listings[i[1]])"
      ],
      "metadata": {
        "colab": {
          "base_uri": "https://localhost:8080/",
          "height": 1000
        },
        "id": "hPLO5eQyAsQb",
        "outputId": "b5737c26-3e38-4660-bee2-d2d7ab57b24d"
      },
      "execution_count": null,
      "outputs": [
        {
          "output_type": "stream",
          "name": "stderr",
          "text": [
            "/usr/local/lib/python3.7/dist-packages/seaborn/_decorators.py:43: FutureWarning: Pass the following variable as a keyword arg: x. From version 0.12, the only valid positional argument will be `data`, and passing other arguments without an explicit keyword will result in an error or misinterpretation.\n",
            "  FutureWarning\n",
            "/usr/local/lib/python3.7/dist-packages/seaborn/_decorators.py:43: FutureWarning: Pass the following variable as a keyword arg: x. From version 0.12, the only valid positional argument will be `data`, and passing other arguments without an explicit keyword will result in an error or misinterpretation.\n",
            "  FutureWarning\n",
            "/usr/local/lib/python3.7/dist-packages/seaborn/_decorators.py:43: FutureWarning: Pass the following variable as a keyword arg: x. From version 0.12, the only valid positional argument will be `data`, and passing other arguments without an explicit keyword will result in an error or misinterpretation.\n",
            "  FutureWarning\n",
            "/usr/local/lib/python3.7/dist-packages/seaborn/_decorators.py:43: FutureWarning: Pass the following variable as a keyword arg: x. From version 0.12, the only valid positional argument will be `data`, and passing other arguments without an explicit keyword will result in an error or misinterpretation.\n",
            "  FutureWarning\n",
            "/usr/local/lib/python3.7/dist-packages/seaborn/_decorators.py:43: FutureWarning: Pass the following variable as a keyword arg: x. From version 0.12, the only valid positional argument will be `data`, and passing other arguments without an explicit keyword will result in an error or misinterpretation.\n",
            "  FutureWarning\n",
            "/usr/local/lib/python3.7/dist-packages/seaborn/_decorators.py:43: FutureWarning: Pass the following variable as a keyword arg: x. From version 0.12, the only valid positional argument will be `data`, and passing other arguments without an explicit keyword will result in an error or misinterpretation.\n",
            "  FutureWarning\n",
            "/usr/local/lib/python3.7/dist-packages/seaborn/_decorators.py:43: FutureWarning: Pass the following variable as a keyword arg: x. From version 0.12, the only valid positional argument will be `data`, and passing other arguments without an explicit keyword will result in an error or misinterpretation.\n",
            "  FutureWarning\n",
            "/usr/local/lib/python3.7/dist-packages/seaborn/_decorators.py:43: FutureWarning: Pass the following variable as a keyword arg: x. From version 0.12, the only valid positional argument will be `data`, and passing other arguments without an explicit keyword will result in an error or misinterpretation.\n",
            "  FutureWarning\n",
            "/usr/local/lib/python3.7/dist-packages/seaborn/_decorators.py:43: FutureWarning: Pass the following variable as a keyword arg: x. From version 0.12, the only valid positional argument will be `data`, and passing other arguments without an explicit keyword will result in an error or misinterpretation.\n",
            "  FutureWarning\n",
            "/usr/local/lib/python3.7/dist-packages/seaborn/_decorators.py:43: FutureWarning: Pass the following variable as a keyword arg: x. From version 0.12, the only valid positional argument will be `data`, and passing other arguments without an explicit keyword will result in an error or misinterpretation.\n",
            "  FutureWarning\n",
            "/usr/local/lib/python3.7/dist-packages/seaborn/_decorators.py:43: FutureWarning: Pass the following variable as a keyword arg: x. From version 0.12, the only valid positional argument will be `data`, and passing other arguments without an explicit keyword will result in an error or misinterpretation.\n",
            "  FutureWarning\n",
            "/usr/local/lib/python3.7/dist-packages/seaborn/_decorators.py:43: FutureWarning: Pass the following variable as a keyword arg: x. From version 0.12, the only valid positional argument will be `data`, and passing other arguments without an explicit keyword will result in an error or misinterpretation.\n",
            "  FutureWarning\n",
            "/usr/local/lib/python3.7/dist-packages/seaborn/_decorators.py:43: FutureWarning: Pass the following variable as a keyword arg: x. From version 0.12, the only valid positional argument will be `data`, and passing other arguments without an explicit keyword will result in an error or misinterpretation.\n",
            "  FutureWarning\n",
            "/usr/local/lib/python3.7/dist-packages/seaborn/_decorators.py:43: FutureWarning: Pass the following variable as a keyword arg: x. From version 0.12, the only valid positional argument will be `data`, and passing other arguments without an explicit keyword will result in an error or misinterpretation.\n",
            "  FutureWarning\n",
            "/usr/local/lib/python3.7/dist-packages/seaborn/_decorators.py:43: FutureWarning: Pass the following variable as a keyword arg: x. From version 0.12, the only valid positional argument will be `data`, and passing other arguments without an explicit keyword will result in an error or misinterpretation.\n",
            "  FutureWarning\n",
            "/usr/local/lib/python3.7/dist-packages/seaborn/_decorators.py:43: FutureWarning: Pass the following variable as a keyword arg: x. From version 0.12, the only valid positional argument will be `data`, and passing other arguments without an explicit keyword will result in an error or misinterpretation.\n",
            "  FutureWarning\n",
            "/usr/local/lib/python3.7/dist-packages/seaborn/_decorators.py:43: FutureWarning: Pass the following variable as a keyword arg: x. From version 0.12, the only valid positional argument will be `data`, and passing other arguments without an explicit keyword will result in an error or misinterpretation.\n",
            "  FutureWarning\n",
            "/usr/local/lib/python3.7/dist-packages/seaborn/_decorators.py:43: FutureWarning: Pass the following variable as a keyword arg: x. From version 0.12, the only valid positional argument will be `data`, and passing other arguments without an explicit keyword will result in an error or misinterpretation.\n",
            "  FutureWarning\n",
            "/usr/local/lib/python3.7/dist-packages/seaborn/_decorators.py:43: FutureWarning: Pass the following variable as a keyword arg: x. From version 0.12, the only valid positional argument will be `data`, and passing other arguments without an explicit keyword will result in an error or misinterpretation.\n",
            "  FutureWarning\n",
            "/usr/local/lib/python3.7/dist-packages/seaborn/_decorators.py:43: FutureWarning: Pass the following variable as a keyword arg: x. From version 0.12, the only valid positional argument will be `data`, and passing other arguments without an explicit keyword will result in an error or misinterpretation.\n",
            "  FutureWarning\n",
            "/usr/local/lib/python3.7/dist-packages/seaborn/_decorators.py:43: FutureWarning: Pass the following variable as a keyword arg: x. From version 0.12, the only valid positional argument will be `data`, and passing other arguments without an explicit keyword will result in an error or misinterpretation.\n",
            "  FutureWarning\n"
          ]
        },
        {
          "output_type": "display_data",
          "data": {
            "text/plain": [
              "<Figure size 2160x1440 with 21 Axes>"
            ],
            "image/png": "[encoded data removed]"
          },
          "metadata": {
            "needs_background": "light"
          }
        }
      ]
    },
    {
      "cell_type": "markdown",
      "source": [
        "## 2.4 Feature Engineering"
      ],
      "metadata": {
        "id": "GnfKPYL-nXtK"
      }
    },
    {
      "cell_type": "code",
      "source": [
        "df_listings = listings.copy() # Create new dataframe\n",
        "#df_listings.drop(columns=\"date\" , inplace=True).head()"
      ],
      "metadata": {
        "id": "EhLrLtlLxaiB"
      },
      "execution_count": null,
      "outputs": []
    },
    {
      "cell_type": "code",
      "source": [
        "drop_cols = ['host_id', 'host_since', 'host_location', 'host_response_time',\n",
        "       'host_response_rate', 'host_acceptance_rate', 'host_is_superhost',\n",
        "       'host_listings_count', 'host_total_listings_count',\n",
        "       'host_has_profile_pic', 'host_identity_verified',\n",
        "        'latitude', 'longitude', 'bathrooms_text', 'bedrooms', 'beds',\n",
        "       'maximum_nights', 'has_availability',\n",
        "       'availability_30', 'availability_60', 'availability_90',\n",
        "       'availability_365', 'number_of_reviews', 'number_of_reviews_ltm',\n",
        "       'number_of_reviews_l30d', 'last_review', 'review_scores_rating',\n",
        "       'review_scores_accuracy', 'review_scores_cleanliness',\n",
        "       'review_scores_checkin', 'review_scores_communication',\n",
        "       'review_scores_location', 'review_scores_value',\n",
        "       'calculated_host_listings_count',\n",
        "       'reviews_per_month', 'source']"
      ],
      "metadata": {
        "id": "GBnqhZMwRf7N"
      },
      "execution_count": null,
      "outputs": []
    },
    {
      "cell_type": "code",
      "source": [
        "df_listings.drop(columns=drop_cols , inplace=True)\n",
        "df_listings.head()"
      ],
      "metadata": {
        "colab": {
          "base_uri": "https://localhost:8080/",
          "height": 206
        },
        "id": "s_P2yhzelAd5",
        "outputId": "fa8eb1aa-49ff-48f0-e4c5-68314d9baf92"
      },
      "execution_count": null,
      "outputs": [
        {
          "output_type": "execute_result",
          "data": {
            "text/plain": [
              "      id                  neighbourhood_cleansed        room_type  \\\n",
              "0   2818  Oostelijk Havengebied - Indische Buurt     Private room   \n",
              "2  27886                            Centrum-West     Private room   \n",
              "5  44391                            Centrum-Oost  Entire home/apt   \n",
              "8  49790                  De Baarsjes - Oud-West  Entire home/apt   \n",
              "9  55621                 De Pijp - Rivierenbuurt  Entire home/apt   \n",
              "\n",
              "   accommodates                                          amenities  price  \\\n",
              "0             2  [\"Fire extinguisher\", \"Private entrance\", \"Lau...   49.0   \n",
              "2             2  [\"Safe\", \"Fire extinguisher\", \"Hp neutral, eco...  136.0   \n",
              "5             4  [\"Microwave\", \"Private entrance\", \"Oven\", \"Pat...  240.0   \n",
              "8             4  [\"Shampoo\", \"Essentials\", \"Dryer\", \"Cable TV\",...  250.0   \n",
              "9             4  [\"Hair dryer\", \"Stove\", \"Washer\", \"Dishes and ...  222.0   \n",
              "\n",
              "   minimum_nights               license instant_bookable  \n",
              "0               3  03635F3A56846750D14D                t  \n",
              "2               2  0363974D4986741188D8                t  \n",
              "5               3  0363E76EF06AC1DD172C                f  \n",
              "8               3  036345740059C89C0671                f  \n",
              "9               3  0363CA777271E2DF1B5E                f  "
            ],
            "text/html": [
              "\n",
              "  <div id=\"df-e02e23c3-a53d-463c-8cb3-b03c7356bba6\">\n",
              "    <div class=\"colab-df-container\">\n",
              "      <div>\n",
              "<style scoped>\n",
              "    .dataframe tbody tr th:only-of-type {\n",
              "        vertical-align: middle;\n",
              "    }\n",
              "\n",
              "    .dataframe tbody tr th {\n",
              "        vertical-align: top;\n",
              "    }\n",
              "\n",
              "    .dataframe thead th {\n",
              "        text-align: right;\n",
              "    }\n",
              "</style>\n",
              "<table border=\"1\" class=\"dataframe\">\n",
              "  <thead>\n",
              "    <tr style=\"text-align: right;\">\n",
              "      <th></th>\n",
              "      <th>id</th>\n",
              "      <th>neighbourhood_cleansed</th>\n",
              "      <th>room_type</th>\n",
              "      <th>accommodates</th>\n",
              "      <th>amenities</th>\n",
              "      <th>price</th>\n",
              "      <th>minimum_nights</th>\n",
              "      <th>license</th>\n",
              "      <th>instant_bookable</th>\n",
              "    </tr>\n",
              "  </thead>\n",
              "  <tbody>\n",
              "    <tr>\n",
              "      <th>0</th>\n",
              "      <td>2818</td>\n",
              "      <td>Oostelijk Havengebied - Indische Buurt</td>\n",
              "      <td>Private room</td>\n",
              "      <td>2</td>\n",
              "      <td>[\"Fire extinguisher\", \"Private entrance\", \"Lau...</td>\n",
              "      <td>49.0</td>\n",
              "      <td>3</td>\n",
              "      <td>03635F3A56846750D14D</td>\n",
              "      <td>t</td>\n",
              "    </tr>\n",
              "    <tr>\n",
              "      <th>2</th>\n",
              "      <td>27886</td>\n",
              "      <td>Centrum-West</td>\n",
              "      <td>Private room</td>\n",
              "      <td>2</td>\n",
              "      <td>[\"Safe\", \"Fire extinguisher\", \"Hp neutral, eco...</td>\n",
              "      <td>136.0</td>\n",
              "      <td>2</td>\n",
              "      <td>0363974D4986741188D8</td>\n",
              "      <td>t</td>\n",
              "    </tr>\n",
              "    <tr>\n",
              "      <th>5</th>\n",
              "      <td>44391</td>\n",
              "      <td>Centrum-Oost</td>\n",
              "      <td>Entire home/apt</td>\n",
              "      <td>4</td>\n",
              "      <td>[\"Microwave\", \"Private entrance\", \"Oven\", \"Pat...</td>\n",
              "      <td>240.0</td>\n",
              "      <td>3</td>\n",
              "      <td>0363E76EF06AC1DD172C</td>\n",
              "      <td>f</td>\n",
              "    </tr>\n",
              "    <tr>\n",
              "      <th>8</th>\n",
              "      <td>49790</td>\n",
              "      <td>De Baarsjes - Oud-West</td>\n",
              "      <td>Entire home/apt</td>\n",
              "      <td>4</td>\n",
              "      <td>[\"Shampoo\", \"Essentials\", \"Dryer\", \"Cable TV\",...</td>\n",
              "      <td>250.0</td>\n",
              "      <td>3</td>\n",
              "      <td>036345740059C89C0671</td>\n",
              "      <td>f</td>\n",
              "    </tr>\n",
              "    <tr>\n",
              "      <th>9</th>\n",
              "      <td>55621</td>\n",
              "      <td>De Pijp - Rivierenbuurt</td>\n",
              "      <td>Entire home/apt</td>\n",
              "      <td>4</td>\n",
              "      <td>[\"Hair dryer\", \"Stove\", \"Washer\", \"Dishes and ...</td>\n",
              "      <td>222.0</td>\n",
              "      <td>3</td>\n",
              "      <td>0363CA777271E2DF1B5E</td>\n",
              "      <td>f</td>\n",
              "    </tr>\n",
              "  </tbody>\n",
              "</table>\n",
              "</div>\n",
              "      <button class=\"colab-df-convert\" onclick=\"convertToInteractive('df-e02e23c3-a53d-463c-8cb3-b03c7356bba6')\"\n",
              "              title=\"Convert this dataframe to an interactive table.\"\n",
              "              style=\"display:none;\">\n",
              "        \n",
              "  <svg xmlns=\"http://www.w3.org/2000/svg\" height=\"24px\"viewBox=\"0 0 24 24\"\n",
              "       width=\"24px\">\n",
              "    <path d=\"M0 0h24v24H0V0z\" fill=\"none\"/>\n",
              "    <path d=\"M18.56 5.44l.94 2.06.94-2.06 2.06-.94-2.06-.94-.94-2.06-.94 2.06-2.06.94zm-11 1L8.5 8.5l.94-2.06 2.06-.94-2.06-.94L8.5 2.5l-.94 2.06-2.06.94zm10 10l.94 2.06.94-2.06 2.06-.94-2.06-.94-.94-2.06-.94 2.06-2.06.94z\"/><path d=\"M17.41 7.96l-1.37-1.37c-.4-.4-.92-.59-1.43-.59-.52 0-1.04.2-1.43.59L10.3 9.45l-7.72 7.72c-.78.78-.78 2.05 0 2.83L4 21.41c.39.39.9.59 1.41.59.51 0 1.02-.2 1.41-.59l7.78-7.78 2.81-2.81c.8-.78.8-2.07 0-2.86zM5.41 20L4 18.59l7.72-7.72 1.47 1.35L5.41 20z\"/>\n",
              "  </svg>\n",
              "      </button>\n",
              "      \n",
              "  <style>\n",
              "    .colab-df-container {\n",
              "      display:flex;\n",
              "      flex-wrap:wrap;\n",
              "      gap: 12px;\n",
              "    }\n",
              "\n",
              "    .colab-df-convert {\n",
              "      background-color: #E8F0FE;\n",
              "      border: none;\n",
              "      border-radius: 50%;\n",
              "      cursor: pointer;\n",
              "      display: none;\n",
              "      fill: #1967D2;\n",
              "      height: 32px;\n",
              "      padding: 0 0 0 0;\n",
              "      width: 32px;\n",
              "    }\n",
              "\n",
              "    .colab-df-convert:hover {\n",
              "      background-color: #E2EBFA;\n",
              "      box-shadow: 0px 1px 2px rgba(60, 64, 67, 0.3), 0px 1px 3px 1px rgba(60, 64, 67, 0.15);\n",
              "      fill: #174EA6;\n",
              "    }\n",
              "\n",
              "    [theme=dark] .colab-df-convert {\n",
              "      background-color: #3B4455;\n",
              "      fill: #D2E3FC;\n",
              "    }\n",
              "\n",
              "    [theme=dark] .colab-df-convert:hover {\n",
              "      background-color: #434B5C;\n",
              "      box-shadow: 0px 1px 3px 1px rgba(0, 0, 0, 0.15);\n",
              "      filter: drop-shadow(0px 1px 2px rgba(0, 0, 0, 0.3));\n",
              "      fill: #FFFFFF;\n",
              "    }\n",
              "  </style>\n",
              "\n",
              "      <script>\n",
              "        const buttonEl =\n",
              "          document.querySelector('#df-e02e23c3-a53d-463c-8cb3-b03c7356bba6 button.colab-df-convert');\n",
              "        buttonEl.style.display =\n",
              "          google.colab.kernel.accessAllowed ? 'block' : 'none';\n",
              "\n",
              "        async function convertToInteractive(key) {\n",
              "          const element = document.querySelector('#df-e02e23c3-a53d-463c-8cb3-b03c7356bba6');\n",
              "          const dataTable =\n",
              "            await google.colab.kernel.invokeFunction('convertToInteractive',\n",
              "                                                     [key], {});\n",
              "          if (!dataTable) return;\n",
              "\n",
              "          const docLinkHtml = 'Like what you see? Visit the ' +\n",
              "            '<a target=\"_blank\" href=https://colab.research.google.com/notebooks/data_table.ipynb>data table notebook</a>'\n",
              "            + ' to learn more about interactive tables.';\n",
              "          element.innerHTML = '';\n",
              "          dataTable['output_type'] = 'display_data';\n",
              "          await google.colab.output.renderOutput(dataTable, element);\n",
              "          const docLink = document.createElement('div');\n",
              "          docLink.innerHTML = docLinkHtml;\n",
              "          element.appendChild(docLink);\n",
              "        }\n",
              "      </script>\n",
              "    </div>\n",
              "  </div>\n",
              "  "
            ]
          },
          "metadata": {},
          "execution_count": 106
        }
      ]
    },
    {
      "cell_type": "markdown",
      "source": [
        "### Price to logprice"
      ],
      "metadata": {
        "id": "n3oX8JDtDZcq"
      }
    },
    {
      "cell_type": "code",
      "source": [
        "from scipy.stats import norm\n",
        "\n",
        "plt.figure(figsize=(10,10))\n",
        "sns.distplot(df_listings['price'], fit=norm)\n",
        "plt.title(\"Price Distribution Plot\",size=15, weight='bold')"
      ],
      "metadata": {
        "colab": {
          "base_uri": "https://localhost:8080/"
        },
        "id": "o6Y1olMdDmck",
        "outputId": "993cc7bf-125a-4f52-9f55-f4299e0bdee0"
      },
      "execution_count": null,
      "outputs": [
        {
          "output_type": "stream",
          "name": "stderr",
          "text": [
            "/usr/local/lib/python3.7/dist-packages/seaborn/distributions.py:2619: FutureWarning: `distplot` is a deprecated function and will be removed in a future version. Please adapt your code to use either `displot` (a figure-level function with similar flexibility) or `histplot` (an axes-level function for histograms).\n",
            "  warnings.warn(msg, FutureWarning)\n"
          ]
        },
        {
          "output_type": "execute_result",
          "data": {
            "text/plain": [
              "Text(0.5, 1.0, 'Price Distribution Plot')"
            ]
          },
          "metadata": {},
          "execution_count": 107
        },
        {
          "output_type": "display_data",
          "data": {
            "text/plain": [
              "<Figure size 720x720 with 1 Axes>"
            ],
            "image/png": "[encoded data removed]"
          },
          "metadata": {
            "needs_background": "light"
          }
        }
      ]
    },
    {
      "cell_type": "code",
      "source": [
        "df_listings['price_log'] = np.log(df_listings.price+1)"
      ],
      "metadata": {
        "id": "GQ_2zNIZDrvT"
      },
      "execution_count": null,
      "outputs": []
    },
    {
      "cell_type": "code",
      "source": [
        "plt.figure(figsize=(12,10))\n",
        "sns.distplot(df_listings['price_log'], fit=norm)\n",
        "plt.title(\"Log-Price Distribution Plot\",size=15, weight='bold')"
      ],
      "metadata": {
        "colab": {
          "base_uri": "https://localhost:8080/"
        },
        "id": "-_RnJS_jDul1",
        "outputId": "6b30f496-4c1f-4e87-cb94-1d00a39f0c2b"
      },
      "execution_count": null,
      "outputs": [
        {
          "output_type": "stream",
          "name": "stderr",
          "text": [
            "/usr/local/lib/python3.7/dist-packages/seaborn/distributions.py:2619: FutureWarning: `distplot` is a deprecated function and will be removed in a future version. Please adapt your code to use either `displot` (a figure-level function with similar flexibility) or `histplot` (an axes-level function for histograms).\n",
            "  warnings.warn(msg, FutureWarning)\n"
          ]
        },
        {
          "output_type": "execute_result",
          "data": {
            "text/plain": [
              "Text(0.5, 1.0, 'Log-Price Distribution Plot')"
            ]
          },
          "metadata": {},
          "execution_count": 109
        },
        {
          "output_type": "display_data",
          "data": {
            "text/plain": [
              "<Figure size 864x720 with 1 Axes>"
            ],
            "image/png": "[encoded data removed]"
          },
          "metadata": {
            "needs_background": "light"
          }
        }
      ]
    },
    {
      "cell_type": "code",
      "source": [
        "df_listings.drop(columns=\"price\" , inplace=True)"
      ],
      "metadata": {
        "id": "92FTVdSIDwA6"
      },
      "execution_count": null,
      "outputs": []
    },
    {
      "cell_type": "code",
      "source": [
        "df_listings.head()"
      ],
      "metadata": {
        "colab": {
          "base_uri": "https://localhost:8080/"
        },
        "id": "0za09WGgVnbw",
        "outputId": "3f755faa-c544-44f9-b32e-597302acf6d0"
      },
      "execution_count": null,
      "outputs": [
        {
          "output_type": "execute_result",
          "data": {
            "text/plain": [
              "      id                  neighbourhood_cleansed        room_type  \\\n",
              "0   2818  Oostelijk Havengebied - Indische Buurt     Private room   \n",
              "2  27886                            Centrum-West     Private room   \n",
              "5  44391                            Centrum-Oost  Entire home/apt   \n",
              "8  49790                  De Baarsjes - Oud-West  Entire home/apt   \n",
              "9  55621                 De Pijp - Rivierenbuurt  Entire home/apt   \n",
              "\n",
              "   accommodates                                          amenities  \\\n",
              "0             2  [\"Fire extinguisher\", \"Private entrance\", \"Lau...   \n",
              "2             2  [\"Safe\", \"Fire extinguisher\", \"Hp neutral, eco...   \n",
              "5             4  [\"Microwave\", \"Private entrance\", \"Oven\", \"Pat...   \n",
              "8             4  [\"Shampoo\", \"Essentials\", \"Dryer\", \"Cable TV\",...   \n",
              "9             4  [\"Hair dryer\", \"Stove\", \"Washer\", \"Dishes and ...   \n",
              "\n",
              "   minimum_nights               license instant_bookable  price_log  \n",
              "0               3  03635F3A56846750D14D                t   3.912023  \n",
              "2               2  0363974D4986741188D8                t   4.919981  \n",
              "5               3  0363E76EF06AC1DD172C                f   5.484797  \n",
              "8               3  036345740059C89C0671                f   5.525453  \n",
              "9               3  0363CA777271E2DF1B5E                f   5.407172  "
            ],
            "text/html": [
              "\n",
              "  <div id=\"df-87471670-471e-4d61-9eac-76e81c2c4d34\">\n",
              "    <div class=\"colab-df-container\">\n",
              "      <div>\n",
              "<style scoped>\n",
              "    .dataframe tbody tr th:only-of-type {\n",
              "        vertical-align: middle;\n",
              "    }\n",
              "\n",
              "    .dataframe tbody tr th {\n",
              "        vertical-align: top;\n",
              "    }\n",
              "\n",
              "    .dataframe thead th {\n",
              "        text-align: right;\n",
              "    }\n",
              "</style>\n",
              "<table border=\"1\" class=\"dataframe\">\n",
              "  <thead>\n",
              "    <tr style=\"text-align: right;\">\n",
              "      <th></th>\n",
              "      <th>id</th>\n",
              "      <th>neighbourhood_cleansed</th>\n",
              "      <th>room_type</th>\n",
              "      <th>accommodates</th>\n",
              "      <th>amenities</th>\n",
              "      <th>minimum_nights</th>\n",
              "      <th>license</th>\n",
              "      <th>instant_bookable</th>\n",
              "      <th>price_log</th>\n",
              "    </tr>\n",
              "  </thead>\n",
              "  <tbody>\n",
              "    <tr>\n",
              "      <th>0</th>\n",
              "      <td>2818</td>\n",
              "      <td>Oostelijk Havengebied - Indische Buurt</td>\n",
              "      <td>Private room</td>\n",
              "      <td>2</td>\n",
              "      <td>[\"Fire extinguisher\", \"Private entrance\", \"Lau...</td>\n",
              "      <td>3</td>\n",
              "      <td>03635F3A56846750D14D</td>\n",
              "      <td>t</td>\n",
              "      <td>3.912023</td>\n",
              "    </tr>\n",
              "    <tr>\n",
              "      <th>2</th>\n",
              "      <td>27886</td>\n",
              "      <td>Centrum-West</td>\n",
              "      <td>Private room</td>\n",
              "      <td>2</td>\n",
              "      <td>[\"Safe\", \"Fire extinguisher\", \"Hp neutral, eco...</td>\n",
              "      <td>2</td>\n",
              "      <td>0363974D4986741188D8</td>\n",
              "      <td>t</td>\n",
              "      <td>4.919981</td>\n",
              "    </tr>\n",
              "    <tr>\n",
              "      <th>5</th>\n",
              "      <td>44391</td>\n",
              "      <td>Centrum-Oost</td>\n",
              "      <td>Entire home/apt</td>\n",
              "      <td>4</td>\n",
              "      <td>[\"Microwave\", \"Private entrance\", \"Oven\", \"Pat...</td>\n",
              "      <td>3</td>\n",
              "      <td>0363E76EF06AC1DD172C</td>\n",
              "      <td>f</td>\n",
              "      <td>5.484797</td>\n",
              "    </tr>\n",
              "    <tr>\n",
              "      <th>8</th>\n",
              "      <td>49790</td>\n",
              "      <td>De Baarsjes - Oud-West</td>\n",
              "      <td>Entire home/apt</td>\n",
              "      <td>4</td>\n",
              "      <td>[\"Shampoo\", \"Essentials\", \"Dryer\", \"Cable TV\",...</td>\n",
              "      <td>3</td>\n",
              "      <td>036345740059C89C0671</td>\n",
              "      <td>f</td>\n",
              "      <td>5.525453</td>\n",
              "    </tr>\n",
              "    <tr>\n",
              "      <th>9</th>\n",
              "      <td>55621</td>\n",
              "      <td>De Pijp - Rivierenbuurt</td>\n",
              "      <td>Entire home/apt</td>\n",
              "      <td>4</td>\n",
              "      <td>[\"Hair dryer\", \"Stove\", \"Washer\", \"Dishes and ...</td>\n",
              "      <td>3</td>\n",
              "      <td>0363CA777271E2DF1B5E</td>\n",
              "      <td>f</td>\n",
              "      <td>5.407172</td>\n",
              "    </tr>\n",
              "  </tbody>\n",
              "</table>\n",
              "</div>\n",
              "      <button class=\"colab-df-convert\" onclick=\"convertToInteractive('df-87471670-471e-4d61-9eac-76e81c2c4d34')\"\n",
              "              title=\"Convert this dataframe to an interactive table.\"\n",
              "              style=\"display:none;\">\n",
              "        \n",
              "  <svg xmlns=\"http://www.w3.org/2000/svg\" height=\"24px\"viewBox=\"0 0 24 24\"\n",
              "       width=\"24px\">\n",
              "    <path d=\"M0 0h24v24H0V0z\" fill=\"none\"/>\n",
              "    <path d=\"M18.56 5.44l.94 2.06.94-2.06 2.06-.94-2.06-.94-.94-2.06-.94 2.06-2.06.94zm-11 1L8.5 8.5l.94-2.06 2.06-.94-2.06-.94L8.5 2.5l-.94 2.06-2.06.94zm10 10l.94 2.06.94-2.06 2.06-.94-2.06-.94-.94-2.06-.94 2.06-2.06.94z\"/><path d=\"M17.41 7.96l-1.37-1.37c-.4-.4-.92-.59-1.43-.59-.52 0-1.04.2-1.43.59L10.3 9.45l-7.72 7.72c-.78.78-.78 2.05 0 2.83L4 21.41c.39.39.9.59 1.41.59.51 0 1.02-.2 1.41-.59l7.78-7.78 2.81-2.81c.8-.78.8-2.07 0-2.86zM5.41 20L4 18.59l7.72-7.72 1.47 1.35L5.41 20z\"/>\n",
              "  </svg>\n",
              "      </button>\n",
              "      \n",
              "  <style>\n",
              "    .colab-df-container {\n",
              "      display:flex;\n",
              "      flex-wrap:wrap;\n",
              "      gap: 12px;\n",
              "    }\n",
              "\n",
              "    .colab-df-convert {\n",
              "      background-color: #E8F0FE;\n",
              "      border: none;\n",
              "      border-radius: 50%;\n",
              "      cursor: pointer;\n",
              "      display: none;\n",
              "      fill: #1967D2;\n",
              "      height: 32px;\n",
              "      padding: 0 0 0 0;\n",
              "      width: 32px;\n",
              "    }\n",
              "\n",
              "    .colab-df-convert:hover {\n",
              "      background-color: #E2EBFA;\n",
              "      box-shadow: 0px 1px 2px rgba(60, 64, 67, 0.3), 0px 1px 3px 1px rgba(60, 64, 67, 0.15);\n",
              "      fill: #174EA6;\n",
              "    }\n",
              "\n",
              "    [theme=dark] .colab-df-convert {\n",
              "      background-color: #3B4455;\n",
              "      fill: #D2E3FC;\n",
              "    }\n",
              "\n",
              "    [theme=dark] .colab-df-convert:hover {\n",
              "      background-color: #434B5C;\n",
              "      box-shadow: 0px 1px 3px 1px rgba(0, 0, 0, 0.15);\n",
              "      filter: drop-shadow(0px 1px 2px rgba(0, 0, 0, 0.3));\n",
              "      fill: #FFFFFF;\n",
              "    }\n",
              "  </style>\n",
              "\n",
              "      <script>\n",
              "        const buttonEl =\n",
              "          document.querySelector('#df-87471670-471e-4d61-9eac-76e81c2c4d34 button.colab-df-convert');\n",
              "        buttonEl.style.display =\n",
              "          google.colab.kernel.accessAllowed ? 'block' : 'none';\n",
              "\n",
              "        async function convertToInteractive(key) {\n",
              "          const element = document.querySelector('#df-87471670-471e-4d61-9eac-76e81c2c4d34');\n",
              "          const dataTable =\n",
              "            await google.colab.kernel.invokeFunction('convertToInteractive',\n",
              "                                                     [key], {});\n",
              "          if (!dataTable) return;\n",
              "\n",
              "          const docLinkHtml = 'Like what you see? Visit the ' +\n",
              "            '<a target=\"_blank\" href=https://colab.research.google.com/notebooks/data_table.ipynb>data table notebook</a>'\n",
              "            + ' to learn more about interactive tables.';\n",
              "          element.innerHTML = '';\n",
              "          dataTable['output_type'] = 'display_data';\n",
              "          await google.colab.output.renderOutput(dataTable, element);\n",
              "          const docLink = document.createElement('div');\n",
              "          docLink.innerHTML = docLinkHtml;\n",
              "          element.appendChild(docLink);\n",
              "        }\n",
              "      </script>\n",
              "    </div>\n",
              "  </div>\n",
              "  "
            ]
          },
          "metadata": {},
          "execution_count": 111
        }
      ]
    },
    {
      "cell_type": "code",
      "source": [
        "df_listings['price_log'].describe()"
      ],
      "metadata": {
        "colab": {
          "base_uri": "https://localhost:8080/"
        },
        "id": "s9zV_HcvbqH0",
        "outputId": "4940b7e3-ae3f-4825-a0b2-36892b76e6d1"
      },
      "execution_count": null,
      "outputs": [
        {
          "output_type": "execute_result",
          "data": {
            "text/plain": [
              "count    6455.000000\n",
              "mean        5.199718\n",
              "std         0.553762\n",
              "min         3.091042\n",
              "25%         4.836282\n",
              "50%         5.192957\n",
              "75%         5.525453\n",
              "max         9.083983\n",
              "Name: price_log, dtype: float64"
            ]
          },
          "metadata": {},
          "execution_count": 112
        }
      ]
    },
    {
      "cell_type": "markdown",
      "source": [
        "### host_location"
      ],
      "metadata": {
        "id": "RiWYDYc2hHn6"
      }
    },
    {
      "cell_type": "code",
      "source": [
        "# df_listings['host_location'].value_counts()"
      ],
      "metadata": {
        "id": "j6z_nwZMyT3W"
      },
      "execution_count": null,
      "outputs": []
    },
    {
      "cell_type": "markdown",
      "source": [
        "**Create new feature \"isAmsterdam\"**"
      ],
      "metadata": {
        "id": "HzjZRn-6RLmA"
      }
    },
    {
      "cell_type": "code",
      "source": [
        "# import re # Regular Expression\n",
        "\n",
        "# df_listings['isAmsterdam'] = df_listings['host_location'].str.extract(r'(Amsterdam)')\n",
        "# df_listings['isAmsterdam'] = df_listings['isAmsterdam'].str.replace(r'Amsterdam', '1', regex=True)\n",
        "# df_listings['isAmsterdam'] = df_listings['isAmsterdam'].fillna(0)"
      ],
      "metadata": {
        "id": "joSs4QD70MrG"
      },
      "execution_count": null,
      "outputs": []
    },
    {
      "cell_type": "markdown",
      "source": [
        "**Drop \"host_location\" column**"
      ],
      "metadata": {
        "id": "S6qwZvnRRhxc"
      }
    },
    {
      "cell_type": "code",
      "source": [
        "# df_listings = df_listings.drop(['host_location'], axis=1)\n",
        "# df_listings.head()"
      ],
      "metadata": {
        "id": "6Hmdik66Q5vl"
      },
      "execution_count": null,
      "outputs": []
    },
    {
      "cell_type": "markdown",
      "source": [
        "### bathrooms_text"
      ],
      "metadata": {
        "id": "264MkCEGhLXP"
      }
    },
    {
      "cell_type": "markdown",
      "source": [
        "**Explore \"bathrooms_text\" column**"
      ],
      "metadata": {
        "id": "RGKV2289S_Jx"
      }
    },
    {
      "cell_type": "code",
      "source": [
        "array = ['308028', '12392592','10564421','291752']\n",
        "df_listings[['id','bathrooms_text']].loc[df_listings['id'].isin(array)]"
      ],
      "metadata": {
        "colab": {
          "base_uri": "https://localhost:8080/",
          "height": 424
        },
        "id": "zbYhLIVACOG3",
        "outputId": "b6d89979-940b-4f53-a8b1-7d49234e692a"
      },
      "execution_count": null,
      "outputs": [
        {
          "output_type": "execute_result",
          "data": {
            "text/plain": [
              "               id     bathrooms_text\n",
              "222285   10564421          Half-bath\n",
              "222286   10564421          Half-bath\n",
              "222287   10564421          Half-bath\n",
              "222288   10564421          Half-bath\n",
              "222289   10564421          Half-bath\n",
              "...           ...                ...\n",
              "2503891    308028  Private half-bath\n",
              "2503892    308028  Private half-bath\n",
              "2503893    308028  Private half-bath\n",
              "2503894    308028  Private half-bath\n",
              "2503895    308028  Private half-bath\n",
              "\n",
              "[1460 rows x 2 columns]"
            ],
            "text/html": [
              "\n",
              "  <div id=\"df-e0c17f70-380c-45b7-b6e7-966c7a65de42\">\n",
              "    <div class=\"colab-df-container\">\n",
              "      <div>\n",
              "<style scoped>\n",
              "    .dataframe tbody tr th:only-of-type {\n",
              "        vertical-align: middle;\n",
              "    }\n",
              "\n",
              "    .dataframe tbody tr th {\n",
              "        vertical-align: top;\n",
              "    }\n",
              "\n",
              "    .dataframe thead th {\n",
              "        text-align: right;\n",
              "    }\n",
              "</style>\n",
              "<table border=\"1\" class=\"dataframe\">\n",
              "  <thead>\n",
              "    <tr style=\"text-align: right;\">\n",
              "      <th></th>\n",
              "      <th>id</th>\n",
              "      <th>bathrooms_text</th>\n",
              "    </tr>\n",
              "  </thead>\n",
              "  <tbody>\n",
              "    <tr>\n",
              "      <th>222285</th>\n",
              "      <td>10564421</td>\n",
              "      <td>Half-bath</td>\n",
              "    </tr>\n",
              "    <tr>\n",
              "      <th>222286</th>\n",
              "      <td>10564421</td>\n",
              "      <td>Half-bath</td>\n",
              "    </tr>\n",
              "    <tr>\n",
              "      <th>222287</th>\n",
              "      <td>10564421</td>\n",
              "      <td>Half-bath</td>\n",
              "    </tr>\n",
              "    <tr>\n",
              "      <th>222288</th>\n",
              "      <td>10564421</td>\n",
              "      <td>Half-bath</td>\n",
              "    </tr>\n",
              "    <tr>\n",
              "      <th>222289</th>\n",
              "      <td>10564421</td>\n",
              "      <td>Half-bath</td>\n",
              "    </tr>\n",
              "    <tr>\n",
              "      <th>...</th>\n",
              "      <td>...</td>\n",
              "      <td>...</td>\n",
              "    </tr>\n",
              "    <tr>\n",
              "      <th>2503891</th>\n",
              "      <td>308028</td>\n",
              "      <td>Private half-bath</td>\n",
              "    </tr>\n",
              "    <tr>\n",
              "      <th>2503892</th>\n",
              "      <td>308028</td>\n",
              "      <td>Private half-bath</td>\n",
              "    </tr>\n",
              "    <tr>\n",
              "      <th>2503893</th>\n",
              "      <td>308028</td>\n",
              "      <td>Private half-bath</td>\n",
              "    </tr>\n",
              "    <tr>\n",
              "      <th>2503894</th>\n",
              "      <td>308028</td>\n",
              "      <td>Private half-bath</td>\n",
              "    </tr>\n",
              "    <tr>\n",
              "      <th>2503895</th>\n",
              "      <td>308028</td>\n",
              "      <td>Private half-bath</td>\n",
              "    </tr>\n",
              "  </tbody>\n",
              "</table>\n",
              "<p>1460 rows × 2 columns</p>\n",
              "</div>\n",
              "      <button class=\"colab-df-convert\" onclick=\"convertToInteractive('df-e0c17f70-380c-45b7-b6e7-966c7a65de42')\"\n",
              "              title=\"Convert this dataframe to an interactive table.\"\n",
              "              style=\"display:none;\">\n",
              "        \n",
              "  <svg xmlns=\"http://www.w3.org/2000/svg\" height=\"24px\"viewBox=\"0 0 24 24\"\n",
              "       width=\"24px\">\n",
              "    <path d=\"M0 0h24v24H0V0z\" fill=\"none\"/>\n",
              "    <path d=\"M18.56 5.44l.94 2.06.94-2.06 2.06-.94-2.06-.94-.94-2.06-.94 2.06-2.06.94zm-11 1L8.5 8.5l.94-2.06 2.06-.94-2.06-.94L8.5 2.5l-.94 2.06-2.06.94zm10 10l.94 2.06.94-2.06 2.06-.94-2.06-.94-.94-2.06-.94 2.06-2.06.94z\"/><path d=\"M17.41 7.96l-1.37-1.37c-.4-.4-.92-.59-1.43-.59-.52 0-1.04.2-1.43.59L10.3 9.45l-7.72 7.72c-.78.78-.78 2.05 0 2.83L4 21.41c.39.39.9.59 1.41.59.51 0 1.02-.2 1.41-.59l7.78-7.78 2.81-2.81c.8-.78.8-2.07 0-2.86zM5.41 20L4 18.59l7.72-7.72 1.47 1.35L5.41 20z\"/>\n",
              "  </svg>\n",
              "      </button>\n",
              "      \n",
              "  <style>\n",
              "    .colab-df-container {\n",
              "      display:flex;\n",
              "      flex-wrap:wrap;\n",
              "      gap: 12px;\n",
              "    }\n",
              "\n",
              "    .colab-df-convert {\n",
              "      background-color: #E8F0FE;\n",
              "      border: none;\n",
              "      border-radius: 50%;\n",
              "      cursor: pointer;\n",
              "      display: none;\n",
              "      fill: #1967D2;\n",
              "      height: 32px;\n",
              "      padding: 0 0 0 0;\n",
              "      width: 32px;\n",
              "    }\n",
              "\n",
              "    .colab-df-convert:hover {\n",
              "      background-color: #E2EBFA;\n",
              "      box-shadow: 0px 1px 2px rgba(60, 64, 67, 0.3), 0px 1px 3px 1px rgba(60, 64, 67, 0.15);\n",
              "      fill: #174EA6;\n",
              "    }\n",
              "\n",
              "    [theme=dark] .colab-df-convert {\n",
              "      background-color: #3B4455;\n",
              "      fill: #D2E3FC;\n",
              "    }\n",
              "\n",
              "    [theme=dark] .colab-df-convert:hover {\n",
              "      background-color: #434B5C;\n",
              "      box-shadow: 0px 1px 3px 1px rgba(0, 0, 0, 0.15);\n",
              "      filter: drop-shadow(0px 1px 2px rgba(0, 0, 0, 0.3));\n",
              "      fill: #FFFFFF;\n",
              "    }\n",
              "  </style>\n",
              "\n",
              "      <script>\n",
              "        const buttonEl =\n",
              "          document.querySelector('#df-e0c17f70-380c-45b7-b6e7-966c7a65de42 button.colab-df-convert');\n",
              "        buttonEl.style.display =\n",
              "          google.colab.kernel.accessAllowed ? 'block' : 'none';\n",
              "\n",
              "        async function convertToInteractive(key) {\n",
              "          const element = document.querySelector('#df-e0c17f70-380c-45b7-b6e7-966c7a65de42');\n",
              "          const dataTable =\n",
              "            await google.colab.kernel.invokeFunction('convertToInteractive',\n",
              "                                                     [key], {});\n",
              "          if (!dataTable) return;\n",
              "\n",
              "          const docLinkHtml = 'Like what you see? Visit the ' +\n",
              "            '<a target=\"_blank\" href=https://colab.research.google.com/notebooks/data_table.ipynb>data table notebook</a>'\n",
              "            + ' to learn more about interactive tables.';\n",
              "          element.innerHTML = '';\n",
              "          dataTable['output_type'] = 'display_data';\n",
              "          await google.colab.output.renderOutput(dataTable, element);\n",
              "          const docLink = document.createElement('div');\n",
              "          docLink.innerHTML = docLinkHtml;\n",
              "          element.appendChild(docLink);\n",
              "        }\n",
              "      </script>\n",
              "    </div>\n",
              "  </div>\n",
              "  "
            ]
          },
          "metadata": {},
          "execution_count": 146
        }
      ]
    },
    {
      "cell_type": "markdown",
      "source": [
        "**Replace text \"Half/half\" to 0.5**"
      ],
      "metadata": {
        "id": "2ptDK_ApYo2x"
      }
    },
    {
      "cell_type": "code",
      "source": [
        "df_listings['bathrooms_text'] = df_listings['bathrooms_text'].str.replace(r'Half|half', '0.5', regex=True)\n",
        "\n",
        "#df_listings[['id','bathrooms_text']].loc[df_listings['id'].isin(array)]"
      ],
      "metadata": {
        "id": "o58U1SisAtAb"
      },
      "execution_count": null,
      "outputs": []
    },
    {
      "cell_type": "markdown",
      "source": [
        "**Create new feature \"bathrooms\"**"
      ],
      "metadata": {
        "id": "Uzh5PWxbcPVQ"
      }
    },
    {
      "cell_type": "code",
      "source": [
        "df_listings['bathrooms'] = df_listings['bathrooms_text'].str.extract(r'([\\d]*[.][\\d]+|[\\d]+)').astype('float')\n",
        "#df_listings['bathrooms'] = df_listings['bathrooms'].astype('float')\n",
        "df_listings[['id','bathrooms_text','bathrooms']].loc[df_listings['id'].isin(array)]"
      ],
      "metadata": {
        "colab": {
          "base_uri": "https://localhost:8080/",
          "height": 424
        },
        "id": "HjtixQW_5rzk",
        "outputId": "e9604a1d-00bb-4d8e-f16a-9f3b54091e99"
      },
      "execution_count": null,
      "outputs": [
        {
          "output_type": "execute_result",
          "data": {
            "text/plain": [
              "               id    bathrooms_text  bathrooms\n",
              "222285   10564421          0.5-bath        0.5\n",
              "222286   10564421          0.5-bath        0.5\n",
              "222287   10564421          0.5-bath        0.5\n",
              "222288   10564421          0.5-bath        0.5\n",
              "222289   10564421          0.5-bath        0.5\n",
              "...           ...               ...        ...\n",
              "2503891    308028  Private 0.5-bath        0.5\n",
              "2503892    308028  Private 0.5-bath        0.5\n",
              "2503893    308028  Private 0.5-bath        0.5\n",
              "2503894    308028  Private 0.5-bath        0.5\n",
              "2503895    308028  Private 0.5-bath        0.5\n",
              "\n",
              "[1460 rows x 3 columns]"
            ],
            "text/html": [
              "\n",
              "  <div id=\"df-f6e7dac0-7bcb-4c32-8ec2-dbeb7c43c8bf\">\n",
              "    <div class=\"colab-df-container\">\n",
              "      <div>\n",
              "<style scoped>\n",
              "    .dataframe tbody tr th:only-of-type {\n",
              "        vertical-align: middle;\n",
              "    }\n",
              "\n",
              "    .dataframe tbody tr th {\n",
              "        vertical-align: top;\n",
              "    }\n",
              "\n",
              "    .dataframe thead th {\n",
              "        text-align: right;\n",
              "    }\n",
              "</style>\n",
              "<table border=\"1\" class=\"dataframe\">\n",
              "  <thead>\n",
              "    <tr style=\"text-align: right;\">\n",
              "      <th></th>\n",
              "      <th>id</th>\n",
              "      <th>bathrooms_text</th>\n",
              "      <th>bathrooms</th>\n",
              "    </tr>\n",
              "  </thead>\n",
              "  <tbody>\n",
              "    <tr>\n",
              "      <th>222285</th>\n",
              "      <td>10564421</td>\n",
              "      <td>0.5-bath</td>\n",
              "      <td>0.5</td>\n",
              "    </tr>\n",
              "    <tr>\n",
              "      <th>222286</th>\n",
              "      <td>10564421</td>\n",
              "      <td>0.5-bath</td>\n",
              "      <td>0.5</td>\n",
              "    </tr>\n",
              "    <tr>\n",
              "      <th>222287</th>\n",
              "      <td>10564421</td>\n",
              "      <td>0.5-bath</td>\n",
              "      <td>0.5</td>\n",
              "    </tr>\n",
              "    <tr>\n",
              "      <th>222288</th>\n",
              "      <td>10564421</td>\n",
              "      <td>0.5-bath</td>\n",
              "      <td>0.5</td>\n",
              "    </tr>\n",
              "    <tr>\n",
              "      <th>222289</th>\n",
              "      <td>10564421</td>\n",
              "      <td>0.5-bath</td>\n",
              "      <td>0.5</td>\n",
              "    </tr>\n",
              "    <tr>\n",
              "      <th>...</th>\n",
              "      <td>...</td>\n",
              "      <td>...</td>\n",
              "      <td>...</td>\n",
              "    </tr>\n",
              "    <tr>\n",
              "      <th>2503891</th>\n",
              "      <td>308028</td>\n",
              "      <td>Private 0.5-bath</td>\n",
              "      <td>0.5</td>\n",
              "    </tr>\n",
              "    <tr>\n",
              "      <th>2503892</th>\n",
              "      <td>308028</td>\n",
              "      <td>Private 0.5-bath</td>\n",
              "      <td>0.5</td>\n",
              "    </tr>\n",
              "    <tr>\n",
              "      <th>2503893</th>\n",
              "      <td>308028</td>\n",
              "      <td>Private 0.5-bath</td>\n",
              "      <td>0.5</td>\n",
              "    </tr>\n",
              "    <tr>\n",
              "      <th>2503894</th>\n",
              "      <td>308028</td>\n",
              "      <td>Private 0.5-bath</td>\n",
              "      <td>0.5</td>\n",
              "    </tr>\n",
              "    <tr>\n",
              "      <th>2503895</th>\n",
              "      <td>308028</td>\n",
              "      <td>Private 0.5-bath</td>\n",
              "      <td>0.5</td>\n",
              "    </tr>\n",
              "  </tbody>\n",
              "</table>\n",
              "<p>1460 rows × 3 columns</p>\n",
              "</div>\n",
              "      <button class=\"colab-df-convert\" onclick=\"convertToInteractive('df-f6e7dac0-7bcb-4c32-8ec2-dbeb7c43c8bf')\"\n",
              "              title=\"Convert this dataframe to an interactive table.\"\n",
              "              style=\"display:none;\">\n",
              "        \n",
              "  <svg xmlns=\"http://www.w3.org/2000/svg\" height=\"24px\"viewBox=\"0 0 24 24\"\n",
              "       width=\"24px\">\n",
              "    <path d=\"M0 0h24v24H0V0z\" fill=\"none\"/>\n",
              "    <path d=\"M18.56 5.44l.94 2.06.94-2.06 2.06-.94-2.06-.94-.94-2.06-.94 2.06-2.06.94zm-11 1L8.5 8.5l.94-2.06 2.06-.94-2.06-.94L8.5 2.5l-.94 2.06-2.06.94zm10 10l.94 2.06.94-2.06 2.06-.94-2.06-.94-.94-2.06-.94 2.06-2.06.94z\"/><path d=\"M17.41 7.96l-1.37-1.37c-.4-.4-.92-.59-1.43-.59-.52 0-1.04.2-1.43.59L10.3 9.45l-7.72 7.72c-.78.78-.78 2.05 0 2.83L4 21.41c.39.39.9.59 1.41.59.51 0 1.02-.2 1.41-.59l7.78-7.78 2.81-2.81c.8-.78.8-2.07 0-2.86zM5.41 20L4 18.59l7.72-7.72 1.47 1.35L5.41 20z\"/>\n",
              "  </svg>\n",
              "      </button>\n",
              "      \n",
              "  <style>\n",
              "    .colab-df-container {\n",
              "      display:flex;\n",
              "      flex-wrap:wrap;\n",
              "      gap: 12px;\n",
              "    }\n",
              "\n",
              "    .colab-df-convert {\n",
              "      background-color: #E8F0FE;\n",
              "      border: none;\n",
              "      border-radius: 50%;\n",
              "      cursor: pointer;\n",
              "      display: none;\n",
              "      fill: #1967D2;\n",
              "      height: 32px;\n",
              "      padding: 0 0 0 0;\n",
              "      width: 32px;\n",
              "    }\n",
              "\n",
              "    .colab-df-convert:hover {\n",
              "      background-color: #E2EBFA;\n",
              "      box-shadow: 0px 1px 2px rgba(60, 64, 67, 0.3), 0px 1px 3px 1px rgba(60, 64, 67, 0.15);\n",
              "      fill: #174EA6;\n",
              "    }\n",
              "\n",
              "    [theme=dark] .colab-df-convert {\n",
              "      background-color: #3B4455;\n",
              "      fill: #D2E3FC;\n",
              "    }\n",
              "\n",
              "    [theme=dark] .colab-df-convert:hover {\n",
              "      background-color: #434B5C;\n",
              "      box-shadow: 0px 1px 3px 1px rgba(0, 0, 0, 0.15);\n",
              "      filter: drop-shadow(0px 1px 2px rgba(0, 0, 0, 0.3));\n",
              "      fill: #FFFFFF;\n",
              "    }\n",
              "  </style>\n",
              "\n",
              "      <script>\n",
              "        const buttonEl =\n",
              "          document.querySelector('#df-f6e7dac0-7bcb-4c32-8ec2-dbeb7c43c8bf button.colab-df-convert');\n",
              "        buttonEl.style.display =\n",
              "          google.colab.kernel.accessAllowed ? 'block' : 'none';\n",
              "\n",
              "        async function convertToInteractive(key) {\n",
              "          const element = document.querySelector('#df-f6e7dac0-7bcb-4c32-8ec2-dbeb7c43c8bf');\n",
              "          const dataTable =\n",
              "            await google.colab.kernel.invokeFunction('convertToInteractive',\n",
              "                                                     [key], {});\n",
              "          if (!dataTable) return;\n",
              "\n",
              "          const docLinkHtml = 'Like what you see? Visit the ' +\n",
              "            '<a target=\"_blank\" href=https://colab.research.google.com/notebooks/data_table.ipynb>data table notebook</a>'\n",
              "            + ' to learn more about interactive tables.';\n",
              "          element.innerHTML = '';\n",
              "          dataTable['output_type'] = 'display_data';\n",
              "          await google.colab.output.renderOutput(dataTable, element);\n",
              "          const docLink = document.createElement('div');\n",
              "          docLink.innerHTML = docLinkHtml;\n",
              "          element.appendChild(docLink);\n",
              "        }\n",
              "      </script>\n",
              "    </div>\n",
              "  </div>\n",
              "  "
            ]
          },
          "metadata": {},
          "execution_count": 148
        }
      ]
    },
    {
      "cell_type": "markdown",
      "source": [
        "**Create new feature \"bathrooms_type\"**"
      ],
      "metadata": {
        "id": "GdGI0jEScnug"
      }
    },
    {
      "cell_type": "code",
      "source": [
        "df_listings['bathrooms_type'] = df_listings['bathrooms_text'].str.extract(r'(Private|private|Shared|shared)')\n",
        "\n",
        "df_listings[['id','bathrooms_text','bathrooms','bathrooms_type']].loc[df_listings['id'].isin(array)]"
      ],
      "metadata": {
        "colab": {
          "base_uri": "https://localhost:8080/",
          "height": 424
        },
        "id": "zuVh04f9KYwY",
        "outputId": "53d3ae68-bb2e-4561-daf0-ad6cadb32519"
      },
      "execution_count": null,
      "outputs": [
        {
          "output_type": "execute_result",
          "data": {
            "text/plain": [
              "               id    bathrooms_text  bathrooms bathrooms_type\n",
              "222285   10564421          0.5-bath        0.5            NaN\n",
              "222286   10564421          0.5-bath        0.5            NaN\n",
              "222287   10564421          0.5-bath        0.5            NaN\n",
              "222288   10564421          0.5-bath        0.5            NaN\n",
              "222289   10564421          0.5-bath        0.5            NaN\n",
              "...           ...               ...        ...            ...\n",
              "2503891    308028  Private 0.5-bath        0.5        Private\n",
              "2503892    308028  Private 0.5-bath        0.5        Private\n",
              "2503893    308028  Private 0.5-bath        0.5        Private\n",
              "2503894    308028  Private 0.5-bath        0.5        Private\n",
              "2503895    308028  Private 0.5-bath        0.5        Private\n",
              "\n",
              "[1460 rows x 4 columns]"
            ],
            "text/html": [
              "\n",
              "  <div id=\"df-7f552f28-f947-4b54-88a8-c6c8b7e91a11\">\n",
              "    <div class=\"colab-df-container\">\n",
              "      <div>\n",
              "<style scoped>\n",
              "    .dataframe tbody tr th:only-of-type {\n",
              "        vertical-align: middle;\n",
              "    }\n",
              "\n",
              "    .dataframe tbody tr th {\n",
              "        vertical-align: top;\n",
              "    }\n",
              "\n",
              "    .dataframe thead th {\n",
              "        text-align: right;\n",
              "    }\n",
              "</style>\n",
              "<table border=\"1\" class=\"dataframe\">\n",
              "  <thead>\n",
              "    <tr style=\"text-align: right;\">\n",
              "      <th></th>\n",
              "      <th>id</th>\n",
              "      <th>bathrooms_text</th>\n",
              "      <th>bathrooms</th>\n",
              "      <th>bathrooms_type</th>\n",
              "    </tr>\n",
              "  </thead>\n",
              "  <tbody>\n",
              "    <tr>\n",
              "      <th>222285</th>\n",
              "      <td>10564421</td>\n",
              "      <td>0.5-bath</td>\n",
              "      <td>0.5</td>\n",
              "      <td>NaN</td>\n",
              "    </tr>\n",
              "    <tr>\n",
              "      <th>222286</th>\n",
              "      <td>10564421</td>\n",
              "      <td>0.5-bath</td>\n",
              "      <td>0.5</td>\n",
              "      <td>NaN</td>\n",
              "    </tr>\n",
              "    <tr>\n",
              "      <th>222287</th>\n",
              "      <td>10564421</td>\n",
              "      <td>0.5-bath</td>\n",
              "      <td>0.5</td>\n",
              "      <td>NaN</td>\n",
              "    </tr>\n",
              "    <tr>\n",
              "      <th>222288</th>\n",
              "      <td>10564421</td>\n",
              "      <td>0.5-bath</td>\n",
              "      <td>0.5</td>\n",
              "      <td>NaN</td>\n",
              "    </tr>\n",
              "    <tr>\n",
              "      <th>222289</th>\n",
              "      <td>10564421</td>\n",
              "      <td>0.5-bath</td>\n",
              "      <td>0.5</td>\n",
              "      <td>NaN</td>\n",
              "    </tr>\n",
              "    <tr>\n",
              "      <th>...</th>\n",
              "      <td>...</td>\n",
              "      <td>...</td>\n",
              "      <td>...</td>\n",
              "      <td>...</td>\n",
              "    </tr>\n",
              "    <tr>\n",
              "      <th>2503891</th>\n",
              "      <td>308028</td>\n",
              "      <td>Private 0.5-bath</td>\n",
              "      <td>0.5</td>\n",
              "      <td>Private</td>\n",
              "    </tr>\n",
              "    <tr>\n",
              "      <th>2503892</th>\n",
              "      <td>308028</td>\n",
              "      <td>Private 0.5-bath</td>\n",
              "      <td>0.5</td>\n",
              "      <td>Private</td>\n",
              "    </tr>\n",
              "    <tr>\n",
              "      <th>2503893</th>\n",
              "      <td>308028</td>\n",
              "      <td>Private 0.5-bath</td>\n",
              "      <td>0.5</td>\n",
              "      <td>Private</td>\n",
              "    </tr>\n",
              "    <tr>\n",
              "      <th>2503894</th>\n",
              "      <td>308028</td>\n",
              "      <td>Private 0.5-bath</td>\n",
              "      <td>0.5</td>\n",
              "      <td>Private</td>\n",
              "    </tr>\n",
              "    <tr>\n",
              "      <th>2503895</th>\n",
              "      <td>308028</td>\n",
              "      <td>Private 0.5-bath</td>\n",
              "      <td>0.5</td>\n",
              "      <td>Private</td>\n",
              "    </tr>\n",
              "  </tbody>\n",
              "</table>\n",
              "<p>1460 rows × 4 columns</p>\n",
              "</div>\n",
              "      <button class=\"colab-df-convert\" onclick=\"convertToInteractive('df-7f552f28-f947-4b54-88a8-c6c8b7e91a11')\"\n",
              "              title=\"Convert this dataframe to an interactive table.\"\n",
              "              style=\"display:none;\">\n",
              "        \n",
              "  <svg xmlns=\"http://www.w3.org/2000/svg\" height=\"24px\"viewBox=\"0 0 24 24\"\n",
              "       width=\"24px\">\n",
              "    <path d=\"M0 0h24v24H0V0z\" fill=\"none\"/>\n",
              "    <path d=\"M18.56 5.44l.94 2.06.94-2.06 2.06-.94-2.06-.94-.94-2.06-.94 2.06-2.06.94zm-11 1L8.5 8.5l.94-2.06 2.06-.94-2.06-.94L8.5 2.5l-.94 2.06-2.06.94zm10 10l.94 2.06.94-2.06 2.06-.94-2.06-.94-.94-2.06-.94 2.06-2.06.94z\"/><path d=\"M17.41 7.96l-1.37-1.37c-.4-.4-.92-.59-1.43-.59-.52 0-1.04.2-1.43.59L10.3 9.45l-7.72 7.72c-.78.78-.78 2.05 0 2.83L4 21.41c.39.39.9.59 1.41.59.51 0 1.02-.2 1.41-.59l7.78-7.78 2.81-2.81c.8-.78.8-2.07 0-2.86zM5.41 20L4 18.59l7.72-7.72 1.47 1.35L5.41 20z\"/>\n",
              "  </svg>\n",
              "      </button>\n",
              "      \n",
              "  <style>\n",
              "    .colab-df-container {\n",
              "      display:flex;\n",
              "      flex-wrap:wrap;\n",
              "      gap: 12px;\n",
              "    }\n",
              "\n",
              "    .colab-df-convert {\n",
              "      background-color: #E8F0FE;\n",
              "      border: none;\n",
              "      border-radius: 50%;\n",
              "      cursor: pointer;\n",
              "      display: none;\n",
              "      fill: #1967D2;\n",
              "      height: 32px;\n",
              "      padding: 0 0 0 0;\n",
              "      width: 32px;\n",
              "    }\n",
              "\n",
              "    .colab-df-convert:hover {\n",
              "      background-color: #E2EBFA;\n",
              "      box-shadow: 0px 1px 2px rgba(60, 64, 67, 0.3), 0px 1px 3px 1px rgba(60, 64, 67, 0.15);\n",
              "      fill: #174EA6;\n",
              "    }\n",
              "\n",
              "    [theme=dark] .colab-df-convert {\n",
              "      background-color: #3B4455;\n",
              "      fill: #D2E3FC;\n",
              "    }\n",
              "\n",
              "    [theme=dark] .colab-df-convert:hover {\n",
              "      background-color: #434B5C;\n",
              "      box-shadow: 0px 1px 3px 1px rgba(0, 0, 0, 0.15);\n",
              "      filter: drop-shadow(0px 1px 2px rgba(0, 0, 0, 0.3));\n",
              "      fill: #FFFFFF;\n",
              "    }\n",
              "  </style>\n",
              "\n",
              "      <script>\n",
              "        const buttonEl =\n",
              "          document.querySelector('#df-7f552f28-f947-4b54-88a8-c6c8b7e91a11 button.colab-df-convert');\n",
              "        buttonEl.style.display =\n",
              "          google.colab.kernel.accessAllowed ? 'block' : 'none';\n",
              "\n",
              "        async function convertToInteractive(key) {\n",
              "          const element = document.querySelector('#df-7f552f28-f947-4b54-88a8-c6c8b7e91a11');\n",
              "          const dataTable =\n",
              "            await google.colab.kernel.invokeFunction('convertToInteractive',\n",
              "                                                     [key], {});\n",
              "          if (!dataTable) return;\n",
              "\n",
              "          const docLinkHtml = 'Like what you see? Visit the ' +\n",
              "            '<a target=\"_blank\" href=https://colab.research.google.com/notebooks/data_table.ipynb>data table notebook</a>'\n",
              "            + ' to learn more about interactive tables.';\n",
              "          element.innerHTML = '';\n",
              "          dataTable['output_type'] = 'display_data';\n",
              "          await google.colab.output.renderOutput(dataTable, element);\n",
              "          const docLink = document.createElement('div');\n",
              "          docLink.innerHTML = docLinkHtml;\n",
              "          element.appendChild(docLink);\n",
              "        }\n",
              "      </script>\n",
              "    </div>\n",
              "  </div>\n",
              "  "
            ]
          },
          "metadata": {},
          "execution_count": 149
        }
      ]
    },
    {
      "cell_type": "code",
      "source": [
        "df_listings['bathrooms_type'] = df_listings['bathrooms_type'].fillna('private')\n",
        "df_listings['bathrooms_type'] = df_listings['bathrooms_type'].str.replace(r'Private', 'private', regex=True)\n",
        "df_listings['bathrooms_type'] = df_listings['bathrooms_type'].str.replace(r'Shared', 'shared', regex=True)\n",
        "\n",
        "df_listings[['id','bathrooms_text','bathrooms','bathrooms_type']].loc[df_listings['id'].isin(array)]"
      ],
      "metadata": {
        "colab": {
          "base_uri": "https://localhost:8080/",
          "height": 424
        },
        "id": "gj0aeng_PszT",
        "outputId": "566a1aa6-6637-4357-ec87-32677f210b2f"
      },
      "execution_count": null,
      "outputs": [
        {
          "output_type": "execute_result",
          "data": {
            "text/plain": [
              "               id    bathrooms_text  bathrooms bathrooms_type\n",
              "222285   10564421          0.5-bath        0.5        private\n",
              "222286   10564421          0.5-bath        0.5        private\n",
              "222287   10564421          0.5-bath        0.5        private\n",
              "222288   10564421          0.5-bath        0.5        private\n",
              "222289   10564421          0.5-bath        0.5        private\n",
              "...           ...               ...        ...            ...\n",
              "2503891    308028  Private 0.5-bath        0.5        private\n",
              "2503892    308028  Private 0.5-bath        0.5        private\n",
              "2503893    308028  Private 0.5-bath        0.5        private\n",
              "2503894    308028  Private 0.5-bath        0.5        private\n",
              "2503895    308028  Private 0.5-bath        0.5        private\n",
              "\n",
              "[1460 rows x 4 columns]"
            ],
            "text/html": [
              "\n",
              "  <div id=\"df-6b8efc05-d0d0-473f-8546-81eadfac5239\">\n",
              "    <div class=\"colab-df-container\">\n",
              "      <div>\n",
              "<style scoped>\n",
              "    .dataframe tbody tr th:only-of-type {\n",
              "        vertical-align: middle;\n",
              "    }\n",
              "\n",
              "    .dataframe tbody tr th {\n",
              "        vertical-align: top;\n",
              "    }\n",
              "\n",
              "    .dataframe thead th {\n",
              "        text-align: right;\n",
              "    }\n",
              "</style>\n",
              "<table border=\"1\" class=\"dataframe\">\n",
              "  <thead>\n",
              "    <tr style=\"text-align: right;\">\n",
              "      <th></th>\n",
              "      <th>id</th>\n",
              "      <th>bathrooms_text</th>\n",
              "      <th>bathrooms</th>\n",
              "      <th>bathrooms_type</th>\n",
              "    </tr>\n",
              "  </thead>\n",
              "  <tbody>\n",
              "    <tr>\n",
              "      <th>222285</th>\n",
              "      <td>10564421</td>\n",
              "      <td>0.5-bath</td>\n",
              "      <td>0.5</td>\n",
              "      <td>private</td>\n",
              "    </tr>\n",
              "    <tr>\n",
              "      <th>222286</th>\n",
              "      <td>10564421</td>\n",
              "      <td>0.5-bath</td>\n",
              "      <td>0.5</td>\n",
              "      <td>private</td>\n",
              "    </tr>\n",
              "    <tr>\n",
              "      <th>222287</th>\n",
              "      <td>10564421</td>\n",
              "      <td>0.5-bath</td>\n",
              "      <td>0.5</td>\n",
              "      <td>private</td>\n",
              "    </tr>\n",
              "    <tr>\n",
              "      <th>222288</th>\n",
              "      <td>10564421</td>\n",
              "      <td>0.5-bath</td>\n",
              "      <td>0.5</td>\n",
              "      <td>private</td>\n",
              "    </tr>\n",
              "    <tr>\n",
              "      <th>222289</th>\n",
              "      <td>10564421</td>\n",
              "      <td>0.5-bath</td>\n",
              "      <td>0.5</td>\n",
              "      <td>private</td>\n",
              "    </tr>\n",
              "    <tr>\n",
              "      <th>...</th>\n",
              "      <td>...</td>\n",
              "      <td>...</td>\n",
              "      <td>...</td>\n",
              "      <td>...</td>\n",
              "    </tr>\n",
              "    <tr>\n",
              "      <th>2503891</th>\n",
              "      <td>308028</td>\n",
              "      <td>Private 0.5-bath</td>\n",
              "      <td>0.5</td>\n",
              "      <td>private</td>\n",
              "    </tr>\n",
              "    <tr>\n",
              "      <th>2503892</th>\n",
              "      <td>308028</td>\n",
              "      <td>Private 0.5-bath</td>\n",
              "      <td>0.5</td>\n",
              "      <td>private</td>\n",
              "    </tr>\n",
              "    <tr>\n",
              "      <th>2503893</th>\n",
              "      <td>308028</td>\n",
              "      <td>Private 0.5-bath</td>\n",
              "      <td>0.5</td>\n",
              "      <td>private</td>\n",
              "    </tr>\n",
              "    <tr>\n",
              "      <th>2503894</th>\n",
              "      <td>308028</td>\n",
              "      <td>Private 0.5-bath</td>\n",
              "      <td>0.5</td>\n",
              "      <td>private</td>\n",
              "    </tr>\n",
              "    <tr>\n",
              "      <th>2503895</th>\n",
              "      <td>308028</td>\n",
              "      <td>Private 0.5-bath</td>\n",
              "      <td>0.5</td>\n",
              "      <td>private</td>\n",
              "    </tr>\n",
              "  </tbody>\n",
              "</table>\n",
              "<p>1460 rows × 4 columns</p>\n",
              "</div>\n",
              "      <button class=\"colab-df-convert\" onclick=\"convertToInteractive('df-6b8efc05-d0d0-473f-8546-81eadfac5239')\"\n",
              "              title=\"Convert this dataframe to an interactive table.\"\n",
              "              style=\"display:none;\">\n",
              "        \n",
              "  <svg xmlns=\"http://www.w3.org/2000/svg\" height=\"24px\"viewBox=\"0 0 24 24\"\n",
              "       width=\"24px\">\n",
              "    <path d=\"M0 0h24v24H0V0z\" fill=\"none\"/>\n",
              "    <path d=\"M18.56 5.44l.94 2.06.94-2.06 2.06-.94-2.06-.94-.94-2.06-.94 2.06-2.06.94zm-11 1L8.5 8.5l.94-2.06 2.06-.94-2.06-.94L8.5 2.5l-.94 2.06-2.06.94zm10 10l.94 2.06.94-2.06 2.06-.94-2.06-.94-.94-2.06-.94 2.06-2.06.94z\"/><path d=\"M17.41 7.96l-1.37-1.37c-.4-.4-.92-.59-1.43-.59-.52 0-1.04.2-1.43.59L10.3 9.45l-7.72 7.72c-.78.78-.78 2.05 0 2.83L4 21.41c.39.39.9.59 1.41.59.51 0 1.02-.2 1.41-.59l7.78-7.78 2.81-2.81c.8-.78.8-2.07 0-2.86zM5.41 20L4 18.59l7.72-7.72 1.47 1.35L5.41 20z\"/>\n",
              "  </svg>\n",
              "      </button>\n",
              "      \n",
              "  <style>\n",
              "    .colab-df-container {\n",
              "      display:flex;\n",
              "      flex-wrap:wrap;\n",
              "      gap: 12px;\n",
              "    }\n",
              "\n",
              "    .colab-df-convert {\n",
              "      background-color: #E8F0FE;\n",
              "      border: none;\n",
              "      border-radius: 50%;\n",
              "      cursor: pointer;\n",
              "      display: none;\n",
              "      fill: #1967D2;\n",
              "      height: 32px;\n",
              "      padding: 0 0 0 0;\n",
              "      width: 32px;\n",
              "    }\n",
              "\n",
              "    .colab-df-convert:hover {\n",
              "      background-color: #E2EBFA;\n",
              "      box-shadow: 0px 1px 2px rgba(60, 64, 67, 0.3), 0px 1px 3px 1px rgba(60, 64, 67, 0.15);\n",
              "      fill: #174EA6;\n",
              "    }\n",
              "\n",
              "    [theme=dark] .colab-df-convert {\n",
              "      background-color: #3B4455;\n",
              "      fill: #D2E3FC;\n",
              "    }\n",
              "\n",
              "    [theme=dark] .colab-df-convert:hover {\n",
              "      background-color: #434B5C;\n",
              "      box-shadow: 0px 1px 3px 1px rgba(0, 0, 0, 0.15);\n",
              "      filter: drop-shadow(0px 1px 2px rgba(0, 0, 0, 0.3));\n",
              "      fill: #FFFFFF;\n",
              "    }\n",
              "  </style>\n",
              "\n",
              "      <script>\n",
              "        const buttonEl =\n",
              "          document.querySelector('#df-6b8efc05-d0d0-473f-8546-81eadfac5239 button.colab-df-convert');\n",
              "        buttonEl.style.display =\n",
              "          google.colab.kernel.accessAllowed ? 'block' : 'none';\n",
              "\n",
              "        async function convertToInteractive(key) {\n",
              "          const element = document.querySelector('#df-6b8efc05-d0d0-473f-8546-81eadfac5239');\n",
              "          const dataTable =\n",
              "            await google.colab.kernel.invokeFunction('convertToInteractive',\n",
              "                                                     [key], {});\n",
              "          if (!dataTable) return;\n",
              "\n",
              "          const docLinkHtml = 'Like what you see? Visit the ' +\n",
              "            '<a target=\"_blank\" href=https://colab.research.google.com/notebooks/data_table.ipynb>data table notebook</a>'\n",
              "            + ' to learn more about interactive tables.';\n",
              "          element.innerHTML = '';\n",
              "          dataTable['output_type'] = 'display_data';\n",
              "          await google.colab.output.renderOutput(dataTable, element);\n",
              "          const docLink = document.createElement('div');\n",
              "          docLink.innerHTML = docLinkHtml;\n",
              "          element.appendChild(docLink);\n",
              "        }\n",
              "      </script>\n",
              "    </div>\n",
              "  </div>\n",
              "  "
            ]
          },
          "metadata": {},
          "execution_count": 150
        }
      ]
    },
    {
      "cell_type": "markdown",
      "source": [
        "**Drop \"bathrooms_text\" column**"
      ],
      "metadata": {
        "id": "vcPF9wcnfl8Q"
      }
    },
    {
      "cell_type": "code",
      "source": [
        "df_listings = df_listings.drop(['bathrooms_text'], axis=1)\n",
        "\n",
        "df_listings.head()"
      ],
      "metadata": {
        "colab": {
          "base_uri": "https://localhost:8080/",
          "height": 617
        },
        "id": "mIeArbl57_xV",
        "outputId": "bcadd165-282f-42f9-f135-039d5581b103"
      },
      "execution_count": null,
      "outputs": [
        {
          "output_type": "execute_result",
          "data": {
            "text/plain": [
              "     id  minimum_nights                  neighbourhood_cleansed     room_type  \\\n",
              "0  2818             3.0  Oostelijk Havengebied - Indische Buurt  Private room   \n",
              "1  2818             3.0  Oostelijk Havengebied - Indische Buurt  Private room   \n",
              "2  2818             3.0  Oostelijk Havengebied - Indische Buurt  Private room   \n",
              "3  2818             3.0  Oostelijk Havengebied - Indische Buurt  Private room   \n",
              "4  2818             3.0  Oostelijk Havengebied - Indische Buurt  Private room   \n",
              "\n",
              "   accommodates  bedrooms  beds  \\\n",
              "0             2       1.0   2.0   \n",
              "1             2       1.0   2.0   \n",
              "2             2       1.0   2.0   \n",
              "3             2       1.0   2.0   \n",
              "4             2       1.0   2.0   \n",
              "\n",
              "                                           amenities               license  \\\n",
              "0  [\"Fire extinguisher\", \"Private entrance\", \"Lau...  03635F3A56846750D14D   \n",
              "1  [\"Fire extinguisher\", \"Private entrance\", \"Lau...  03635F3A56846750D14D   \n",
              "2  [\"Fire extinguisher\", \"Private entrance\", \"Lau...  03635F3A56846750D14D   \n",
              "3  [\"Fire extinguisher\", \"Private entrance\", \"Lau...  03635F3A56846750D14D   \n",
              "4  [\"Fire extinguisher\", \"Private entrance\", \"Lau...  03635F3A56846750D14D   \n",
              "\n",
              "  instant_bookable  price_log  bathrooms bathrooms_type  \n",
              "0                t   3.912023        1.5         shared  \n",
              "1                t   3.912023        1.5         shared  \n",
              "2                t   3.912023        1.5         shared  \n",
              "3                t   3.912023        1.5         shared  \n",
              "4                t   3.912023        1.5         shared  "
            ],
            "text/html": [
              "\n",
              "  <div id=\"df-c53106e8-b726-4dfe-8d4e-7deb3766ae34\">\n",
              "    <div class=\"colab-df-container\">\n",
              "      <div>\n",
              "<style scoped>\n",
              "    .dataframe tbody tr th:only-of-type {\n",
              "        vertical-align: middle;\n",
              "    }\n",
              "\n",
              "    .dataframe tbody tr th {\n",
              "        vertical-align: top;\n",
              "    }\n",
              "\n",
              "    .dataframe thead th {\n",
              "        text-align: right;\n",
              "    }\n",
              "</style>\n",
              "<table border=\"1\" class=\"dataframe\">\n",
              "  <thead>\n",
              "    <tr style=\"text-align: right;\">\n",
              "      <th></th>\n",
              "      <th>id</th>\n",
              "      <th>minimum_nights</th>\n",
              "      <th>neighbourhood_cleansed</th>\n",
              "      <th>room_type</th>\n",
              "      <th>accommodates</th>\n",
              "      <th>bedrooms</th>\n",
              "      <th>beds</th>\n",
              "      <th>amenities</th>\n",
              "      <th>license</th>\n",
              "      <th>instant_bookable</th>\n",
              "      <th>price_log</th>\n",
              "      <th>bathrooms</th>\n",
              "      <th>bathrooms_type</th>\n",
              "    </tr>\n",
              "  </thead>\n",
              "  <tbody>\n",
              "    <tr>\n",
              "      <th>0</th>\n",
              "      <td>2818</td>\n",
              "      <td>3.0</td>\n",
              "      <td>Oostelijk Havengebied - Indische Buurt</td>\n",
              "      <td>Private room</td>\n",
              "      <td>2</td>\n",
              "      <td>1.0</td>\n",
              "      <td>2.0</td>\n",
              "      <td>[\"Fire extinguisher\", \"Private entrance\", \"Lau...</td>\n",
              "      <td>03635F3A56846750D14D</td>\n",
              "      <td>t</td>\n",
              "      <td>3.912023</td>\n",
              "      <td>1.5</td>\n",
              "      <td>shared</td>\n",
              "    </tr>\n",
              "    <tr>\n",
              "      <th>1</th>\n",
              "      <td>2818</td>\n",
              "      <td>3.0</td>\n",
              "      <td>Oostelijk Havengebied - Indische Buurt</td>\n",
              "      <td>Private room</td>\n",
              "      <td>2</td>\n",
              "      <td>1.0</td>\n",
              "      <td>2.0</td>\n",
              "      <td>[\"Fire extinguisher\", \"Private entrance\", \"Lau...</td>\n",
              "      <td>03635F3A56846750D14D</td>\n",
              "      <td>t</td>\n",
              "      <td>3.912023</td>\n",
              "      <td>1.5</td>\n",
              "      <td>shared</td>\n",
              "    </tr>\n",
              "    <tr>\n",
              "      <th>2</th>\n",
              "      <td>2818</td>\n",
              "      <td>3.0</td>\n",
              "      <td>Oostelijk Havengebied - Indische Buurt</td>\n",
              "      <td>Private room</td>\n",
              "      <td>2</td>\n",
              "      <td>1.0</td>\n",
              "      <td>2.0</td>\n",
              "      <td>[\"Fire extinguisher\", \"Private entrance\", \"Lau...</td>\n",
              "      <td>03635F3A56846750D14D</td>\n",
              "      <td>t</td>\n",
              "      <td>3.912023</td>\n",
              "      <td>1.5</td>\n",
              "      <td>shared</td>\n",
              "    </tr>\n",
              "    <tr>\n",
              "      <th>3</th>\n",
              "      <td>2818</td>\n",
              "      <td>3.0</td>\n",
              "      <td>Oostelijk Havengebied - Indische Buurt</td>\n",
              "      <td>Private room</td>\n",
              "      <td>2</td>\n",
              "      <td>1.0</td>\n",
              "      <td>2.0</td>\n",
              "      <td>[\"Fire extinguisher\", \"Private entrance\", \"Lau...</td>\n",
              "      <td>03635F3A56846750D14D</td>\n",
              "      <td>t</td>\n",
              "      <td>3.912023</td>\n",
              "      <td>1.5</td>\n",
              "      <td>shared</td>\n",
              "    </tr>\n",
              "    <tr>\n",
              "      <th>4</th>\n",
              "      <td>2818</td>\n",
              "      <td>3.0</td>\n",
              "      <td>Oostelijk Havengebied - Indische Buurt</td>\n",
              "      <td>Private room</td>\n",
              "      <td>2</td>\n",
              "      <td>1.0</td>\n",
              "      <td>2.0</td>\n",
              "      <td>[\"Fire extinguisher\", \"Private entrance\", \"Lau...</td>\n",
              "      <td>03635F3A56846750D14D</td>\n",
              "      <td>t</td>\n",
              "      <td>3.912023</td>\n",
              "      <td>1.5</td>\n",
              "      <td>shared</td>\n",
              "    </tr>\n",
              "  </tbody>\n",
              "</table>\n",
              "</div>\n",
              "      <button class=\"colab-df-convert\" onclick=\"convertToInteractive('df-c53106e8-b726-4dfe-8d4e-7deb3766ae34')\"\n",
              "              title=\"Convert this dataframe to an interactive table.\"\n",
              "              style=\"display:none;\">\n",
              "        \n",
              "  <svg xmlns=\"http://www.w3.org/2000/svg\" height=\"24px\"viewBox=\"0 0 24 24\"\n",
              "       width=\"24px\">\n",
              "    <path d=\"M0 0h24v24H0V0z\" fill=\"none\"/>\n",
              "    <path d=\"M18.56 5.44l.94 2.06.94-2.06 2.06-.94-2.06-.94-.94-2.06-.94 2.06-2.06.94zm-11 1L8.5 8.5l.94-2.06 2.06-.94-2.06-.94L8.5 2.5l-.94 2.06-2.06.94zm10 10l.94 2.06.94-2.06 2.06-.94-2.06-.94-.94-2.06-.94 2.06-2.06.94z\"/><path d=\"M17.41 7.96l-1.37-1.37c-.4-.4-.92-.59-1.43-.59-.52 0-1.04.2-1.43.59L10.3 9.45l-7.72 7.72c-.78.78-.78 2.05 0 2.83L4 21.41c.39.39.9.59 1.41.59.51 0 1.02-.2 1.41-.59l7.78-7.78 2.81-2.81c.8-.78.8-2.07 0-2.86zM5.41 20L4 18.59l7.72-7.72 1.47 1.35L5.41 20z\"/>\n",
              "  </svg>\n",
              "      </button>\n",
              "      \n",
              "  <style>\n",
              "    .colab-df-container {\n",
              "      display:flex;\n",
              "      flex-wrap:wrap;\n",
              "      gap: 12px;\n",
              "    }\n",
              "\n",
              "    .colab-df-convert {\n",
              "      background-color: #E8F0FE;\n",
              "      border: none;\n",
              "      border-radius: 50%;\n",
              "      cursor: pointer;\n",
              "      display: none;\n",
              "      fill: #1967D2;\n",
              "      height: 32px;\n",
              "      padding: 0 0 0 0;\n",
              "      width: 32px;\n",
              "    }\n",
              "\n",
              "    .colab-df-convert:hover {\n",
              "      background-color: #E2EBFA;\n",
              "      box-shadow: 0px 1px 2px rgba(60, 64, 67, 0.3), 0px 1px 3px 1px rgba(60, 64, 67, 0.15);\n",
              "      fill: #174EA6;\n",
              "    }\n",
              "\n",
              "    [theme=dark] .colab-df-convert {\n",
              "      background-color: #3B4455;\n",
              "      fill: #D2E3FC;\n",
              "    }\n",
              "\n",
              "    [theme=dark] .colab-df-convert:hover {\n",
              "      background-color: #434B5C;\n",
              "      box-shadow: 0px 1px 3px 1px rgba(0, 0, 0, 0.15);\n",
              "      filter: drop-shadow(0px 1px 2px rgba(0, 0, 0, 0.3));\n",
              "      fill: #FFFFFF;\n",
              "    }\n",
              "  </style>\n",
              "\n",
              "      <script>\n",
              "        const buttonEl =\n",
              "          document.querySelector('#df-c53106e8-b726-4dfe-8d4e-7deb3766ae34 button.colab-df-convert');\n",
              "        buttonEl.style.display =\n",
              "          google.colab.kernel.accessAllowed ? 'block' : 'none';\n",
              "\n",
              "        async function convertToInteractive(key) {\n",
              "          const element = document.querySelector('#df-c53106e8-b726-4dfe-8d4e-7deb3766ae34');\n",
              "          const dataTable =\n",
              "            await google.colab.kernel.invokeFunction('convertToInteractive',\n",
              "                                                     [key], {});\n",
              "          if (!dataTable) return;\n",
              "\n",
              "          const docLinkHtml = 'Like what you see? Visit the ' +\n",
              "            '<a target=\"_blank\" href=https://colab.research.google.com/notebooks/data_table.ipynb>data table notebook</a>'\n",
              "            + ' to learn more about interactive tables.';\n",
              "          element.innerHTML = '';\n",
              "          dataTable['output_type'] = 'display_data';\n",
              "          await google.colab.output.renderOutput(dataTable, element);\n",
              "          const docLink = document.createElement('div');\n",
              "          docLink.innerHTML = docLinkHtml;\n",
              "          element.appendChild(docLink);\n",
              "        }\n",
              "      </script>\n",
              "    </div>\n",
              "  </div>\n",
              "  "
            ]
          },
          "metadata": {},
          "execution_count": 151
        }
      ]
    },
    {
      "cell_type": "markdown",
      "source": [
        "### license"
      ],
      "metadata": {
        "id": "OeJ2fKujok7x"
      }
    },
    {
      "cell_type": "markdown",
      "source": [
        "**Create new feature \"have_license\"**"
      ],
      "metadata": {
        "id": "rQE_neT9FUze"
      }
    },
    {
      "cell_type": "code",
      "source": [
        "df_listings.license[df_listings['license'].str.len() == 20].count"
      ],
      "metadata": {
        "colab": {
          "base_uri": "https://localhost:8080/"
        },
        "id": "dSO9f6b8ARcK",
        "outputId": "fceca48d-7394-4814-df47-90a3852aed2a"
      },
      "execution_count": null,
      "outputs": [
        {
          "output_type": "execute_result",
          "data": {
            "text/plain": [
              "<bound method Series.count of 0       03635F3A56846750D14D\n",
              "2       0363974D4986741188D8\n",
              "5       0363E76EF06AC1DD172C\n",
              "8       036345740059C89C0671\n",
              "9       0363CA777271E2DF1B5E\n",
              "                ...         \n",
              "6388    0363C41EBFE48751C2C5\n",
              "6389    45D4D4K456FJ45CS3D5S\n",
              "6390    Hsdh3642gr3557ytk6l8\n",
              "6391    03637EE7C59348F51285\n",
              "6392    036345B99EC7598E0450\n",
              "Name: license, Length: 5738, dtype: object>"
            ]
          },
          "metadata": {},
          "execution_count": 113
        }
      ]
    },
    {
      "cell_type": "code",
      "source": [
        "df_listings['have_license'] = np.where(df_listings['license'].str.len() == 20, 'Yes', df_listings['license'])\n",
        "df_listings['have_license'] = df_listings['have_license'].replace('No License', 'No')\n",
        "\n",
        "df_listings[['license','have_license']].sample(5)"
      ],
      "metadata": {
        "colab": {
          "base_uri": "https://localhost:8080/"
        },
        "id": "-bNB2Gyg6U5P",
        "outputId": "01ed2446-5e20-4a83-ab27-eeb725c4bd0f"
      },
      "execution_count": null,
      "outputs": [
        {
          "output_type": "execute_result",
          "data": {
            "text/plain": [
              "                   license have_license\n",
              "3646  0363AEE186B480051F31          Yes\n",
              "3466  03636CE2D112DEC5393B          Yes\n",
              "2695  0363DA99FB4D672D02C9          Yes\n",
              "2057  03639447E7824FFF2521          Yes\n",
              "1970  0363E3CACC4A5A1C9860          Yes"
            ],
            "text/html": [
              "\n",
              "  <div id=\"df-59a1ae75-32fa-4ee3-bd47-d4059742d540\">\n",
              "    <div class=\"colab-df-container\">\n",
              "      <div>\n",
              "<style scoped>\n",
              "    .dataframe tbody tr th:only-of-type {\n",
              "        vertical-align: middle;\n",
              "    }\n",
              "\n",
              "    .dataframe tbody tr th {\n",
              "        vertical-align: top;\n",
              "    }\n",
              "\n",
              "    .dataframe thead th {\n",
              "        text-align: right;\n",
              "    }\n",
              "</style>\n",
              "<table border=\"1\" class=\"dataframe\">\n",
              "  <thead>\n",
              "    <tr style=\"text-align: right;\">\n",
              "      <th></th>\n",
              "      <th>license</th>\n",
              "      <th>have_license</th>\n",
              "    </tr>\n",
              "  </thead>\n",
              "  <tbody>\n",
              "    <tr>\n",
              "      <th>3646</th>\n",
              "      <td>0363AEE186B480051F31</td>\n",
              "      <td>Yes</td>\n",
              "    </tr>\n",
              "    <tr>\n",
              "      <th>3466</th>\n",
              "      <td>03636CE2D112DEC5393B</td>\n",
              "      <td>Yes</td>\n",
              "    </tr>\n",
              "    <tr>\n",
              "      <th>2695</th>\n",
              "      <td>0363DA99FB4D672D02C9</td>\n",
              "      <td>Yes</td>\n",
              "    </tr>\n",
              "    <tr>\n",
              "      <th>2057</th>\n",
              "      <td>03639447E7824FFF2521</td>\n",
              "      <td>Yes</td>\n",
              "    </tr>\n",
              "    <tr>\n",
              "      <th>1970</th>\n",
              "      <td>0363E3CACC4A5A1C9860</td>\n",
              "      <td>Yes</td>\n",
              "    </tr>\n",
              "  </tbody>\n",
              "</table>\n",
              "</div>\n",
              "      <button class=\"colab-df-convert\" onclick=\"convertToInteractive('df-59a1ae75-32fa-4ee3-bd47-d4059742d540')\"\n",
              "              title=\"Convert this dataframe to an interactive table.\"\n",
              "              style=\"display:none;\">\n",
              "        \n",
              "  <svg xmlns=\"http://www.w3.org/2000/svg\" height=\"24px\"viewBox=\"0 0 24 24\"\n",
              "       width=\"24px\">\n",
              "    <path d=\"M0 0h24v24H0V0z\" fill=\"none\"/>\n",
              "    <path d=\"M18.56 5.44l.94 2.06.94-2.06 2.06-.94-2.06-.94-.94-2.06-.94 2.06-2.06.94zm-11 1L8.5 8.5l.94-2.06 2.06-.94-2.06-.94L8.5 2.5l-.94 2.06-2.06.94zm10 10l.94 2.06.94-2.06 2.06-.94-2.06-.94-.94-2.06-.94 2.06-2.06.94z\"/><path d=\"M17.41 7.96l-1.37-1.37c-.4-.4-.92-.59-1.43-.59-.52 0-1.04.2-1.43.59L10.3 9.45l-7.72 7.72c-.78.78-.78 2.05 0 2.83L4 21.41c.39.39.9.59 1.41.59.51 0 1.02-.2 1.41-.59l7.78-7.78 2.81-2.81c.8-.78.8-2.07 0-2.86zM5.41 20L4 18.59l7.72-7.72 1.47 1.35L5.41 20z\"/>\n",
              "  </svg>\n",
              "      </button>\n",
              "      \n",
              "  <style>\n",
              "    .colab-df-container {\n",
              "      display:flex;\n",
              "      flex-wrap:wrap;\n",
              "      gap: 12px;\n",
              "    }\n",
              "\n",
              "    .colab-df-convert {\n",
              "      background-color: #E8F0FE;\n",
              "      border: none;\n",
              "      border-radius: 50%;\n",
              "      cursor: pointer;\n",
              "      display: none;\n",
              "      fill: #1967D2;\n",
              "      height: 32px;\n",
              "      padding: 0 0 0 0;\n",
              "      width: 32px;\n",
              "    }\n",
              "\n",
              "    .colab-df-convert:hover {\n",
              "      background-color: #E2EBFA;\n",
              "      box-shadow: 0px 1px 2px rgba(60, 64, 67, 0.3), 0px 1px 3px 1px rgba(60, 64, 67, 0.15);\n",
              "      fill: #174EA6;\n",
              "    }\n",
              "\n",
              "    [theme=dark] .colab-df-convert {\n",
              "      background-color: #3B4455;\n",
              "      fill: #D2E3FC;\n",
              "    }\n",
              "\n",
              "    [theme=dark] .colab-df-convert:hover {\n",
              "      background-color: #434B5C;\n",
              "      box-shadow: 0px 1px 3px 1px rgba(0, 0, 0, 0.15);\n",
              "      filter: drop-shadow(0px 1px 2px rgba(0, 0, 0, 0.3));\n",
              "      fill: #FFFFFF;\n",
              "    }\n",
              "  </style>\n",
              "\n",
              "      <script>\n",
              "        const buttonEl =\n",
              "          document.querySelector('#df-59a1ae75-32fa-4ee3-bd47-d4059742d540 button.colab-df-convert');\n",
              "        buttonEl.style.display =\n",
              "          google.colab.kernel.accessAllowed ? 'block' : 'none';\n",
              "\n",
              "        async function convertToInteractive(key) {\n",
              "          const element = document.querySelector('#df-59a1ae75-32fa-4ee3-bd47-d4059742d540');\n",
              "          const dataTable =\n",
              "            await google.colab.kernel.invokeFunction('convertToInteractive',\n",
              "                                                     [key], {});\n",
              "          if (!dataTable) return;\n",
              "\n",
              "          const docLinkHtml = 'Like what you see? Visit the ' +\n",
              "            '<a target=\"_blank\" href=https://colab.research.google.com/notebooks/data_table.ipynb>data table notebook</a>'\n",
              "            + ' to learn more about interactive tables.';\n",
              "          element.innerHTML = '';\n",
              "          dataTable['output_type'] = 'display_data';\n",
              "          await google.colab.output.renderOutput(dataTable, element);\n",
              "          const docLink = document.createElement('div');\n",
              "          docLink.innerHTML = docLinkHtml;\n",
              "          element.appendChild(docLink);\n",
              "        }\n",
              "      </script>\n",
              "    </div>\n",
              "  </div>\n",
              "  "
            ]
          },
          "metadata": {},
          "execution_count": 114
        }
      ]
    },
    {
      "cell_type": "code",
      "source": [
        "df_listings[\"have_license\"].value_counts()"
      ],
      "metadata": {
        "colab": {
          "base_uri": "https://localhost:8080/"
        },
        "id": "JwOa0Cp-CfGS",
        "outputId": "3c07a6b5-b56a-4bf4-ac3f-d65ac0c78b03"
      },
      "execution_count": null,
      "outputs": [
        {
          "output_type": "execute_result",
          "data": {
            "text/plain": [
              "Yes       5738\n",
              "No         394\n",
              "Exempt     323\n",
              "Name: have_license, dtype: int64"
            ]
          },
          "metadata": {},
          "execution_count": 115
        }
      ]
    },
    {
      "cell_type": "markdown",
      "source": [
        "**Drop \"license\" column**"
      ],
      "metadata": {
        "id": "7NKgcnO1puhA"
      }
    },
    {
      "cell_type": "code",
      "source": [
        "df_listings = df_listings.drop(['license'], axis=1)"
      ],
      "metadata": {
        "id": "HMHjBeGdFIo_"
      },
      "execution_count": null,
      "outputs": []
    },
    {
      "cell_type": "code",
      "source": [
        "df_listings.head()"
      ],
      "metadata": {
        "colab": {
          "base_uri": "https://localhost:8080/"
        },
        "id": "ivTGe7EQp8ke",
        "outputId": "f8942f0c-5e79-4340-f114-4fc81248ab74"
      },
      "execution_count": null,
      "outputs": [
        {
          "output_type": "execute_result",
          "data": {
            "text/plain": [
              "      id                  neighbourhood_cleansed        room_type  \\\n",
              "0   2818  Oostelijk Havengebied - Indische Buurt     Private room   \n",
              "2  27886                            Centrum-West     Private room   \n",
              "5  44391                            Centrum-Oost  Entire home/apt   \n",
              "8  49790                  De Baarsjes - Oud-West  Entire home/apt   \n",
              "9  55621                 De Pijp - Rivierenbuurt  Entire home/apt   \n",
              "\n",
              "   accommodates                                          amenities  \\\n",
              "0             2  [\"Fire extinguisher\", \"Private entrance\", \"Lau...   \n",
              "2             2  [\"Safe\", \"Fire extinguisher\", \"Hp neutral, eco...   \n",
              "5             4  [\"Microwave\", \"Private entrance\", \"Oven\", \"Pat...   \n",
              "8             4  [\"Shampoo\", \"Essentials\", \"Dryer\", \"Cable TV\",...   \n",
              "9             4  [\"Hair dryer\", \"Stove\", \"Washer\", \"Dishes and ...   \n",
              "\n",
              "   minimum_nights instant_bookable  price_log have_license  \n",
              "0               3                t   3.912023          Yes  \n",
              "2               2                t   4.919981          Yes  \n",
              "5               3                f   5.484797          Yes  \n",
              "8               3                f   5.525453          Yes  \n",
              "9               3                f   5.407172          Yes  "
            ],
            "text/html": [
              "\n",
              "  <div id=\"df-e27b1572-9e77-4e57-9829-96f2c3fbb472\">\n",
              "    <div class=\"colab-df-container\">\n",
              "      <div>\n",
              "<style scoped>\n",
              "    .dataframe tbody tr th:only-of-type {\n",
              "        vertical-align: middle;\n",
              "    }\n",
              "\n",
              "    .dataframe tbody tr th {\n",
              "        vertical-align: top;\n",
              "    }\n",
              "\n",
              "    .dataframe thead th {\n",
              "        text-align: right;\n",
              "    }\n",
              "</style>\n",
              "<table border=\"1\" class=\"dataframe\">\n",
              "  <thead>\n",
              "    <tr style=\"text-align: right;\">\n",
              "      <th></th>\n",
              "      <th>id</th>\n",
              "      <th>neighbourhood_cleansed</th>\n",
              "      <th>room_type</th>\n",
              "      <th>accommodates</th>\n",
              "      <th>amenities</th>\n",
              "      <th>minimum_nights</th>\n",
              "      <th>instant_bookable</th>\n",
              "      <th>price_log</th>\n",
              "      <th>have_license</th>\n",
              "    </tr>\n",
              "  </thead>\n",
              "  <tbody>\n",
              "    <tr>\n",
              "      <th>0</th>\n",
              "      <td>2818</td>\n",
              "      <td>Oostelijk Havengebied - Indische Buurt</td>\n",
              "      <td>Private room</td>\n",
              "      <td>2</td>\n",
              "      <td>[\"Fire extinguisher\", \"Private entrance\", \"Lau...</td>\n",
              "      <td>3</td>\n",
              "      <td>t</td>\n",
              "      <td>3.912023</td>\n",
              "      <td>Yes</td>\n",
              "    </tr>\n",
              "    <tr>\n",
              "      <th>2</th>\n",
              "      <td>27886</td>\n",
              "      <td>Centrum-West</td>\n",
              "      <td>Private room</td>\n",
              "      <td>2</td>\n",
              "      <td>[\"Safe\", \"Fire extinguisher\", \"Hp neutral, eco...</td>\n",
              "      <td>2</td>\n",
              "      <td>t</td>\n",
              "      <td>4.919981</td>\n",
              "      <td>Yes</td>\n",
              "    </tr>\n",
              "    <tr>\n",
              "      <th>5</th>\n",
              "      <td>44391</td>\n",
              "      <td>Centrum-Oost</td>\n",
              "      <td>Entire home/apt</td>\n",
              "      <td>4</td>\n",
              "      <td>[\"Microwave\", \"Private entrance\", \"Oven\", \"Pat...</td>\n",
              "      <td>3</td>\n",
              "      <td>f</td>\n",
              "      <td>5.484797</td>\n",
              "      <td>Yes</td>\n",
              "    </tr>\n",
              "    <tr>\n",
              "      <th>8</th>\n",
              "      <td>49790</td>\n",
              "      <td>De Baarsjes - Oud-West</td>\n",
              "      <td>Entire home/apt</td>\n",
              "      <td>4</td>\n",
              "      <td>[\"Shampoo\", \"Essentials\", \"Dryer\", \"Cable TV\",...</td>\n",
              "      <td>3</td>\n",
              "      <td>f</td>\n",
              "      <td>5.525453</td>\n",
              "      <td>Yes</td>\n",
              "    </tr>\n",
              "    <tr>\n",
              "      <th>9</th>\n",
              "      <td>55621</td>\n",
              "      <td>De Pijp - Rivierenbuurt</td>\n",
              "      <td>Entire home/apt</td>\n",
              "      <td>4</td>\n",
              "      <td>[\"Hair dryer\", \"Stove\", \"Washer\", \"Dishes and ...</td>\n",
              "      <td>3</td>\n",
              "      <td>f</td>\n",
              "      <td>5.407172</td>\n",
              "      <td>Yes</td>\n",
              "    </tr>\n",
              "  </tbody>\n",
              "</table>\n",
              "</div>\n",
              "      <button class=\"colab-df-convert\" onclick=\"convertToInteractive('df-e27b1572-9e77-4e57-9829-96f2c3fbb472')\"\n",
              "              title=\"Convert this dataframe to an interactive table.\"\n",
              "              style=\"display:none;\">\n",
              "        \n",
              "  <svg xmlns=\"http://www.w3.org/2000/svg\" height=\"24px\"viewBox=\"0 0 24 24\"\n",
              "       width=\"24px\">\n",
              "    <path d=\"M0 0h24v24H0V0z\" fill=\"none\"/>\n",
              "    <path d=\"M18.56 5.44l.94 2.06.94-2.06 2.06-.94-2.06-.94-.94-2.06-.94 2.06-2.06.94zm-11 1L8.5 8.5l.94-2.06 2.06-.94-2.06-.94L8.5 2.5l-.94 2.06-2.06.94zm10 10l.94 2.06.94-2.06 2.06-.94-2.06-.94-.94-2.06-.94 2.06-2.06.94z\"/><path d=\"M17.41 7.96l-1.37-1.37c-.4-.4-.92-.59-1.43-.59-.52 0-1.04.2-1.43.59L10.3 9.45l-7.72 7.72c-.78.78-.78 2.05 0 2.83L4 21.41c.39.39.9.59 1.41.59.51 0 1.02-.2 1.41-.59l7.78-7.78 2.81-2.81c.8-.78.8-2.07 0-2.86zM5.41 20L4 18.59l7.72-7.72 1.47 1.35L5.41 20z\"/>\n",
              "  </svg>\n",
              "      </button>\n",
              "      \n",
              "  <style>\n",
              "    .colab-df-container {\n",
              "      display:flex;\n",
              "      flex-wrap:wrap;\n",
              "      gap: 12px;\n",
              "    }\n",
              "\n",
              "    .colab-df-convert {\n",
              "      background-color: #E8F0FE;\n",
              "      border: none;\n",
              "      border-radius: 50%;\n",
              "      cursor: pointer;\n",
              "      display: none;\n",
              "      fill: #1967D2;\n",
              "      height: 32px;\n",
              "      padding: 0 0 0 0;\n",
              "      width: 32px;\n",
              "    }\n",
              "\n",
              "    .colab-df-convert:hover {\n",
              "      background-color: #E2EBFA;\n",
              "      box-shadow: 0px 1px 2px rgba(60, 64, 67, 0.3), 0px 1px 3px 1px rgba(60, 64, 67, 0.15);\n",
              "      fill: #174EA6;\n",
              "    }\n",
              "\n",
              "    [theme=dark] .colab-df-convert {\n",
              "      background-color: #3B4455;\n",
              "      fill: #D2E3FC;\n",
              "    }\n",
              "\n",
              "    [theme=dark] .colab-df-convert:hover {\n",
              "      background-color: #434B5C;\n",
              "      box-shadow: 0px 1px 3px 1px rgba(0, 0, 0, 0.15);\n",
              "      filter: drop-shadow(0px 1px 2px rgba(0, 0, 0, 0.3));\n",
              "      fill: #FFFFFF;\n",
              "    }\n",
              "  </style>\n",
              "\n",
              "      <script>\n",
              "        const buttonEl =\n",
              "          document.querySelector('#df-e27b1572-9e77-4e57-9829-96f2c3fbb472 button.colab-df-convert');\n",
              "        buttonEl.style.display =\n",
              "          google.colab.kernel.accessAllowed ? 'block' : 'none';\n",
              "\n",
              "        async function convertToInteractive(key) {\n",
              "          const element = document.querySelector('#df-e27b1572-9e77-4e57-9829-96f2c3fbb472');\n",
              "          const dataTable =\n",
              "            await google.colab.kernel.invokeFunction('convertToInteractive',\n",
              "                                                     [key], {});\n",
              "          if (!dataTable) return;\n",
              "\n",
              "          const docLinkHtml = 'Like what you see? Visit the ' +\n",
              "            '<a target=\"_blank\" href=https://colab.research.google.com/notebooks/data_table.ipynb>data table notebook</a>'\n",
              "            + ' to learn more about interactive tables.';\n",
              "          element.innerHTML = '';\n",
              "          dataTable['output_type'] = 'display_data';\n",
              "          await google.colab.output.renderOutput(dataTable, element);\n",
              "          const docLink = document.createElement('div');\n",
              "          docLink.innerHTML = docLinkHtml;\n",
              "          element.appendChild(docLink);\n",
              "        }\n",
              "      </script>\n",
              "    </div>\n",
              "  </div>\n",
              "  "
            ]
          },
          "metadata": {},
          "execution_count": 117
        }
      ]
    },
    {
      "cell_type": "markdown",
      "source": [
        "### amenities (Not complete)"
      ],
      "metadata": {
        "id": "chAIBWkxFhS8"
      }
    },
    {
      "cell_type": "code",
      "source": [
        "df_listings[\"amenities\"] = df_listings[\"amenities\"].str.replace('(\\\")', '').str.lower()#.str.replace('\"', \"\")\n",
        "df_listings.head()"
      ],
      "metadata": {
        "colab": {
          "base_uri": "https://localhost:8080/",
          "height": 241
        },
        "id": "bbRoGjyy5_OW",
        "outputId": "9575b1ee-ade1-4f9b-e5dd-0093d2530c02"
      },
      "execution_count": null,
      "outputs": [
        {
          "output_type": "stream",
          "name": "stderr",
          "text": [
            "/usr/local/lib/python3.7/dist-packages/ipykernel_launcher.py:1: FutureWarning: The default value of regex will change from True to False in a future version.\n",
            "  \"\"\"Entry point for launching an IPython kernel.\n"
          ]
        },
        {
          "output_type": "execute_result",
          "data": {
            "text/plain": [
              "      id                  neighbourhood_cleansed        room_type  \\\n",
              "0   2818  Oostelijk Havengebied - Indische Buurt     Private room   \n",
              "2  27886                            Centrum-West     Private room   \n",
              "5  44391                            Centrum-Oost  Entire home/apt   \n",
              "8  49790                  De Baarsjes - Oud-West  Entire home/apt   \n",
              "9  55621                 De Pijp - Rivierenbuurt  Entire home/apt   \n",
              "\n",
              "   accommodates                                          amenities  \\\n",
              "0             2  [fire extinguisher, private entrance, laundrom...   \n",
              "2             2  [safe, fire extinguisher, hp neutral, eco frie...   \n",
              "5             4  [microwave, private entrance, oven, patio or b...   \n",
              "8             4  [shampoo, essentials, dryer, cable tv, first a...   \n",
              "9             4  [hair dryer, stove, washer, dishes and silverw...   \n",
              "\n",
              "   minimum_nights instant_bookable  price_log have_license  \n",
              "0               3                t   3.912023          Yes  \n",
              "2               2                t   4.919981          Yes  \n",
              "5               3                f   5.484797          Yes  \n",
              "8               3                f   5.525453          Yes  \n",
              "9               3                f   5.407172          Yes  "
            ],
            "text/html": [
              "\n",
              "  <div id=\"df-5da51cbd-0f86-4c23-88bf-b19ade5bf9ca\">\n",
              "    <div class=\"colab-df-container\">\n",
              "      <div>\n",
              "<style scoped>\n",
              "    .dataframe tbody tr th:only-of-type {\n",
              "        vertical-align: middle;\n",
              "    }\n",
              "\n",
              "    .dataframe tbody tr th {\n",
              "        vertical-align: top;\n",
              "    }\n",
              "\n",
              "    .dataframe thead th {\n",
              "        text-align: right;\n",
              "    }\n",
              "</style>\n",
              "<table border=\"1\" class=\"dataframe\">\n",
              "  <thead>\n",
              "    <tr style=\"text-align: right;\">\n",
              "      <th></th>\n",
              "      <th>id</th>\n",
              "      <th>neighbourhood_cleansed</th>\n",
              "      <th>room_type</th>\n",
              "      <th>accommodates</th>\n",
              "      <th>amenities</th>\n",
              "      <th>minimum_nights</th>\n",
              "      <th>instant_bookable</th>\n",
              "      <th>price_log</th>\n",
              "      <th>have_license</th>\n",
              "    </tr>\n",
              "  </thead>\n",
              "  <tbody>\n",
              "    <tr>\n",
              "      <th>0</th>\n",
              "      <td>2818</td>\n",
              "      <td>Oostelijk Havengebied - Indische Buurt</td>\n",
              "      <td>Private room</td>\n",
              "      <td>2</td>\n",
              "      <td>[fire extinguisher, private entrance, laundrom...</td>\n",
              "      <td>3</td>\n",
              "      <td>t</td>\n",
              "      <td>3.912023</td>\n",
              "      <td>Yes</td>\n",
              "    </tr>\n",
              "    <tr>\n",
              "      <th>2</th>\n",
              "      <td>27886</td>\n",
              "      <td>Centrum-West</td>\n",
              "      <td>Private room</td>\n",
              "      <td>2</td>\n",
              "      <td>[safe, fire extinguisher, hp neutral, eco frie...</td>\n",
              "      <td>2</td>\n",
              "      <td>t</td>\n",
              "      <td>4.919981</td>\n",
              "      <td>Yes</td>\n",
              "    </tr>\n",
              "    <tr>\n",
              "      <th>5</th>\n",
              "      <td>44391</td>\n",
              "      <td>Centrum-Oost</td>\n",
              "      <td>Entire home/apt</td>\n",
              "      <td>4</td>\n",
              "      <td>[microwave, private entrance, oven, patio or b...</td>\n",
              "      <td>3</td>\n",
              "      <td>f</td>\n",
              "      <td>5.484797</td>\n",
              "      <td>Yes</td>\n",
              "    </tr>\n",
              "    <tr>\n",
              "      <th>8</th>\n",
              "      <td>49790</td>\n",
              "      <td>De Baarsjes - Oud-West</td>\n",
              "      <td>Entire home/apt</td>\n",
              "      <td>4</td>\n",
              "      <td>[shampoo, essentials, dryer, cable tv, first a...</td>\n",
              "      <td>3</td>\n",
              "      <td>f</td>\n",
              "      <td>5.525453</td>\n",
              "      <td>Yes</td>\n",
              "    </tr>\n",
              "    <tr>\n",
              "      <th>9</th>\n",
              "      <td>55621</td>\n",
              "      <td>De Pijp - Rivierenbuurt</td>\n",
              "      <td>Entire home/apt</td>\n",
              "      <td>4</td>\n",
              "      <td>[hair dryer, stove, washer, dishes and silverw...</td>\n",
              "      <td>3</td>\n",
              "      <td>f</td>\n",
              "      <td>5.407172</td>\n",
              "      <td>Yes</td>\n",
              "    </tr>\n",
              "  </tbody>\n",
              "</table>\n",
              "</div>\n",
              "      <button class=\"colab-df-convert\" onclick=\"convertToInteractive('df-5da51cbd-0f86-4c23-88bf-b19ade5bf9ca')\"\n",
              "              title=\"Convert this dataframe to an interactive table.\"\n",
              "              style=\"display:none;\">\n",
              "        \n",
              "  <svg xmlns=\"http://www.w3.org/2000/svg\" height=\"24px\"viewBox=\"0 0 24 24\"\n",
              "       width=\"24px\">\n",
              "    <path d=\"M0 0h24v24H0V0z\" fill=\"none\"/>\n",
              "    <path d=\"M18.56 5.44l.94 2.06.94-2.06 2.06-.94-2.06-.94-.94-2.06-.94 2.06-2.06.94zm-11 1L8.5 8.5l.94-2.06 2.06-.94-2.06-.94L8.5 2.5l-.94 2.06-2.06.94zm10 10l.94 2.06.94-2.06 2.06-.94-2.06-.94-.94-2.06-.94 2.06-2.06.94z\"/><path d=\"M17.41 7.96l-1.37-1.37c-.4-.4-.92-.59-1.43-.59-.52 0-1.04.2-1.43.59L10.3 9.45l-7.72 7.72c-.78.78-.78 2.05 0 2.83L4 21.41c.39.39.9.59 1.41.59.51 0 1.02-.2 1.41-.59l7.78-7.78 2.81-2.81c.8-.78.8-2.07 0-2.86zM5.41 20L4 18.59l7.72-7.72 1.47 1.35L5.41 20z\"/>\n",
              "  </svg>\n",
              "      </button>\n",
              "      \n",
              "  <style>\n",
              "    .colab-df-container {\n",
              "      display:flex;\n",
              "      flex-wrap:wrap;\n",
              "      gap: 12px;\n",
              "    }\n",
              "\n",
              "    .colab-df-convert {\n",
              "      background-color: #E8F0FE;\n",
              "      border: none;\n",
              "      border-radius: 50%;\n",
              "      cursor: pointer;\n",
              "      display: none;\n",
              "      fill: #1967D2;\n",
              "      height: 32px;\n",
              "      padding: 0 0 0 0;\n",
              "      width: 32px;\n",
              "    }\n",
              "\n",
              "    .colab-df-convert:hover {\n",
              "      background-color: #E2EBFA;\n",
              "      box-shadow: 0px 1px 2px rgba(60, 64, 67, 0.3), 0px 1px 3px 1px rgba(60, 64, 67, 0.15);\n",
              "      fill: #174EA6;\n",
              "    }\n",
              "\n",
              "    [theme=dark] .colab-df-convert {\n",
              "      background-color: #3B4455;\n",
              "      fill: #D2E3FC;\n",
              "    }\n",
              "\n",
              "    [theme=dark] .colab-df-convert:hover {\n",
              "      background-color: #434B5C;\n",
              "      box-shadow: 0px 1px 3px 1px rgba(0, 0, 0, 0.15);\n",
              "      filter: drop-shadow(0px 1px 2px rgba(0, 0, 0, 0.3));\n",
              "      fill: #FFFFFF;\n",
              "    }\n",
              "  </style>\n",
              "\n",
              "      <script>\n",
              "        const buttonEl =\n",
              "          document.querySelector('#df-5da51cbd-0f86-4c23-88bf-b19ade5bf9ca button.colab-df-convert');\n",
              "        buttonEl.style.display =\n",
              "          google.colab.kernel.accessAllowed ? 'block' : 'none';\n",
              "\n",
              "        async function convertToInteractive(key) {\n",
              "          const element = document.querySelector('#df-5da51cbd-0f86-4c23-88bf-b19ade5bf9ca');\n",
              "          const dataTable =\n",
              "            await google.colab.kernel.invokeFunction('convertToInteractive',\n",
              "                                                     [key], {});\n",
              "          if (!dataTable) return;\n",
              "\n",
              "          const docLinkHtml = 'Like what you see? Visit the ' +\n",
              "            '<a target=\"_blank\" href=https://colab.research.google.com/notebooks/data_table.ipynb>data table notebook</a>'\n",
              "            + ' to learn more about interactive tables.';\n",
              "          element.innerHTML = '';\n",
              "          dataTable['output_type'] = 'display_data';\n",
              "          await google.colab.output.renderOutput(dataTable, element);\n",
              "          const docLink = document.createElement('div');\n",
              "          docLink.innerHTML = docLinkHtml;\n",
              "          element.appendChild(docLink);\n",
              "        }\n",
              "      </script>\n",
              "    </div>\n",
              "  </div>\n",
              "  "
            ]
          },
          "metadata": {},
          "execution_count": 118
        }
      ]
    },
    {
      "cell_type": "code",
      "source": [
        "# df_listings[\"amenities\"] = df_listings[\"amenities\"].str.lower() # Convert all strings to lowercase\n",
        "\n",
        "# df_listings[\"amenities\"].head()"
      ],
      "metadata": {
        "id": "wCofvS01QTJv",
        "colab": {
          "base_uri": "https://localhost:8080/"
        },
        "outputId": "296837ac-eb71-45c7-aa11-55c80f692ee1"
      },
      "execution_count": null,
      "outputs": [
        {
          "output_type": "execute_result",
          "data": {
            "text/plain": [
              "2    [\"safe\", \"fire extinguisher\", \"hp neutral, eco...\n",
              "5    [\"microwave\", \"private entrance\", \"oven\", \"pat...\n",
              "8    [\"shampoo\", \"essentials\", \"dryer\", \"cable tv\",...\n",
              "9    [\"hair dryer\", \"stove\", \"washer\", \"dishes and ...\n",
              "8    [\"fire extinguisher\", \"clothing storage: dress...\n",
              "Name: amenities, dtype: object"
            ]
          },
          "metadata": {},
          "execution_count": 183
        }
      ]
    },
    {
      "cell_type": "markdown",
      "source": [
        "**Create new feature \"count_amenities\"**"
      ],
      "metadata": {
        "id": "3e1UAYGmsGn4"
      }
    },
    {
      "cell_type": "code",
      "source": [
        "df_listings[\"amenities\"] = df_listings[\"amenities\"].apply(eval)"
      ],
      "metadata": {
        "id": "tIFC5P3BXaSG"
      },
      "execution_count": null,
      "outputs": []
    },
    {
      "cell_type": "code",
      "source": [
        "df_listings[\"count_amenities\"] = df_listings[\"amenities\"].str.len()\n",
        "\n",
        "df_listings[\"count_amenities\"].head()"
      ],
      "metadata": {
        "id": "PxcaS0-qTbvt",
        "colab": {
          "base_uri": "https://localhost:8080/"
        },
        "outputId": "a9d24f13-230d-423a-98e9-d6ea834b26f0"
      },
      "execution_count": null,
      "outputs": [
        {
          "output_type": "execute_result",
          "data": {
            "text/plain": [
              "2    44\n",
              "5    33\n",
              "8    16\n",
              "9    23\n",
              "8    46\n",
              "Name: count_amenities, dtype: int64"
            ]
          },
          "metadata": {},
          "execution_count": 185
        }
      ]
    },
    {
      "cell_type": "markdown",
      "source": [
        "**Create new feature have_amenities**"
      ],
      "metadata": {
        "id": "NaP5D_Pisndr"
      }
    },
    {
      "cell_type": "code",
      "source": [
        "# df_listings['hot_water'] = df_listings['amenities'].str.extract(r'(hot water)')\n",
        "# df_listings['hot_water'] = df_listings['hot_water'].fillna(\"No\")\n",
        "# df_listings['hot_water']\n",
        "\n",
        "# df_listings['hair_dryer'] = df_listings['amenities'].str.extract(r'(hair dryer)')\n",
        "# df_listings['hair_dryer'] = df_listings['hair_dryer'].fillna(\"No\")\n",
        "# df_listings['hair_dryer']\n",
        "\n",
        "# df_listings['smoke_alarm'] = df_listings['amenities'].str.extract(r'(smoke alarm)')\n",
        "# df_listings['smoke_alarm'] = df_listings['smoke_alarm'].fillna(\"No\")\n",
        "# df_listings['smoke_alarm']\n",
        "\n",
        "# df_listings['bed_lines'] = df_listings['amenities'].str.extract(r'(bed linens)')\n",
        "# df_listings['bed_lines'] = df_listings['bed_lines'].fillna(\"No\")\n",
        "# df_listings['bed_lines']\n",
        "\n",
        "# df_listings['coffee_maker'] = df_listings['amenities'].str.extract(r'(coffee maker)')\n",
        "# df_listings['coffee_maker'] = df_listings['coffee_maker'].fillna(\"No\")\n",
        "# df_listings['coffee_maker']\n",
        "\n",
        "# df_listings['wifi'] = df_listings['amenities'].str.extract(r'(wifi)')\n",
        "# df_listings['wifi'] = df_listings['wifi'].fillna(\"No\")\n",
        "# df_listings['wifi']\n",
        "\n",
        "# df_listings['Cable_TV'] = df_listings['amenities'].str.extract(r'(cable)')\n",
        "# df_listings['Cable_TV'] = df_listings['Cable_TV'].fillna(\"No\")\n",
        "# df_listings['Cable_TV']\n",
        "\n",
        "# df_listings['Heating'] = df_listings['amenities'].str.extract(r'(heating)')\n",
        "# df_listings['Heating'] = df_listings['Heating'].fillna(\"No\")\n",
        "# df_listings['Heating']\n",
        "\n",
        "\n",
        "# df_listings['Bathtub'] = df_listings['amenities'].str.extract(r'(bathtub)')\n",
        "# df_listings['Bathtub'] = df_listings['Bathtub'].fillna(\"No\")\n",
        "# df_listings['Bathtub']\n",
        "\n",
        "# df_listings['Air_conditioning'] = df_listings['amenities'].str.extract(r'(air conditioning)')\n",
        "# df_listings['Air_conditioning'] = df_listings['Air_conditioning'].fillna(\"No\")\n",
        "# df_listings['Air_conditioning']"
      ],
      "metadata": {
        "id": "BcsA1YUOtf9l"
      },
      "execution_count": null,
      "outputs": []
    },
    {
      "cell_type": "code",
      "source": [
        "#df_listings['have_hot_water'].sample(5)"
      ],
      "metadata": {
        "id": "-Ev7hDaGuIwv"
      },
      "execution_count": null,
      "outputs": []
    },
    {
      "cell_type": "markdown",
      "source": [
        "**Drop \"amenities\" column**"
      ],
      "metadata": {
        "id": "hOY2Wtp5sMh9"
      }
    },
    {
      "cell_type": "code",
      "source": [
        "df_listings = df_listings.drop(['amenities'], axis=1)\n",
        "df_listings.head()"
      ],
      "metadata": {
        "id": "OnPeteyOpHbq",
        "colab": {
          "base_uri": "https://localhost:8080/",
          "height": 357
        },
        "outputId": "5488ab75-36a9-44a2-c3f8-ca9e7dc01788"
      },
      "execution_count": null,
      "outputs": [
        {
          "output_type": "execute_result",
          "data": {
            "text/plain": [
              "      id   neighbourhood_cleansed        room_type  accommodates  \\\n",
              "2  27886             Centrum-West     Private room             2   \n",
              "5  44391             Centrum-Oost  Entire home/apt             4   \n",
              "8  49790   De Baarsjes - Oud-West  Entire home/apt             4   \n",
              "9  55621  De Pijp - Rivierenbuurt  Entire home/apt             4   \n",
              "8  55709             Centrum-Oost  Entire home/apt             2   \n",
              "\n",
              "   minimum_nights instant_bookable  price_log have_license  count_amenities  \n",
              "2               2                t   4.919981          Yes               44  \n",
              "5               3                f   5.484797          Yes               33  \n",
              "8               3                f   5.525453          Yes               16  \n",
              "9               3                f   5.407172          Yes               23  \n",
              "8               3                f   5.525453          Yes               46  "
            ],
            "text/html": [
              "\n",
              "  <div id=\"df-ba180d68-1806-4745-a673-5c97cf652fb1\">\n",
              "    <div class=\"colab-df-container\">\n",
              "      <div>\n",
              "<style scoped>\n",
              "    .dataframe tbody tr th:only-of-type {\n",
              "        vertical-align: middle;\n",
              "    }\n",
              "\n",
              "    .dataframe tbody tr th {\n",
              "        vertical-align: top;\n",
              "    }\n",
              "\n",
              "    .dataframe thead th {\n",
              "        text-align: right;\n",
              "    }\n",
              "</style>\n",
              "<table border=\"1\" class=\"dataframe\">\n",
              "  <thead>\n",
              "    <tr style=\"text-align: right;\">\n",
              "      <th></th>\n",
              "      <th>id</th>\n",
              "      <th>neighbourhood_cleansed</th>\n",
              "      <th>room_type</th>\n",
              "      <th>accommodates</th>\n",
              "      <th>minimum_nights</th>\n",
              "      <th>instant_bookable</th>\n",
              "      <th>price_log</th>\n",
              "      <th>have_license</th>\n",
              "      <th>count_amenities</th>\n",
              "    </tr>\n",
              "  </thead>\n",
              "  <tbody>\n",
              "    <tr>\n",
              "      <th>2</th>\n",
              "      <td>27886</td>\n",
              "      <td>Centrum-West</td>\n",
              "      <td>Private room</td>\n",
              "      <td>2</td>\n",
              "      <td>2</td>\n",
              "      <td>t</td>\n",
              "      <td>4.919981</td>\n",
              "      <td>Yes</td>\n",
              "      <td>44</td>\n",
              "    </tr>\n",
              "    <tr>\n",
              "      <th>5</th>\n",
              "      <td>44391</td>\n",
              "      <td>Centrum-Oost</td>\n",
              "      <td>Entire home/apt</td>\n",
              "      <td>4</td>\n",
              "      <td>3</td>\n",
              "      <td>f</td>\n",
              "      <td>5.484797</td>\n",
              "      <td>Yes</td>\n",
              "      <td>33</td>\n",
              "    </tr>\n",
              "    <tr>\n",
              "      <th>8</th>\n",
              "      <td>49790</td>\n",
              "      <td>De Baarsjes - Oud-West</td>\n",
              "      <td>Entire home/apt</td>\n",
              "      <td>4</td>\n",
              "      <td>3</td>\n",
              "      <td>f</td>\n",
              "      <td>5.525453</td>\n",
              "      <td>Yes</td>\n",
              "      <td>16</td>\n",
              "    </tr>\n",
              "    <tr>\n",
              "      <th>9</th>\n",
              "      <td>55621</td>\n",
              "      <td>De Pijp - Rivierenbuurt</td>\n",
              "      <td>Entire home/apt</td>\n",
              "      <td>4</td>\n",
              "      <td>3</td>\n",
              "      <td>f</td>\n",
              "      <td>5.407172</td>\n",
              "      <td>Yes</td>\n",
              "      <td>23</td>\n",
              "    </tr>\n",
              "    <tr>\n",
              "      <th>8</th>\n",
              "      <td>55709</td>\n",
              "      <td>Centrum-Oost</td>\n",
              "      <td>Entire home/apt</td>\n",
              "      <td>2</td>\n",
              "      <td>3</td>\n",
              "      <td>f</td>\n",
              "      <td>5.525453</td>\n",
              "      <td>Yes</td>\n",
              "      <td>46</td>\n",
              "    </tr>\n",
              "  </tbody>\n",
              "</table>\n",
              "</div>\n",
              "      <button class=\"colab-df-convert\" onclick=\"convertToInteractive('df-ba180d68-1806-4745-a673-5c97cf652fb1')\"\n",
              "              title=\"Convert this dataframe to an interactive table.\"\n",
              "              style=\"display:none;\">\n",
              "        \n",
              "  <svg xmlns=\"http://www.w3.org/2000/svg\" height=\"24px\"viewBox=\"0 0 24 24\"\n",
              "       width=\"24px\">\n",
              "    <path d=\"M0 0h24v24H0V0z\" fill=\"none\"/>\n",
              "    <path d=\"M18.56 5.44l.94 2.06.94-2.06 2.06-.94-2.06-.94-.94-2.06-.94 2.06-2.06.94zm-11 1L8.5 8.5l.94-2.06 2.06-.94-2.06-.94L8.5 2.5l-.94 2.06-2.06.94zm10 10l.94 2.06.94-2.06 2.06-.94-2.06-.94-.94-2.06-.94 2.06-2.06.94z\"/><path d=\"M17.41 7.96l-1.37-1.37c-.4-.4-.92-.59-1.43-.59-.52 0-1.04.2-1.43.59L10.3 9.45l-7.72 7.72c-.78.78-.78 2.05 0 2.83L4 21.41c.39.39.9.59 1.41.59.51 0 1.02-.2 1.41-.59l7.78-7.78 2.81-2.81c.8-.78.8-2.07 0-2.86zM5.41 20L4 18.59l7.72-7.72 1.47 1.35L5.41 20z\"/>\n",
              "  </svg>\n",
              "      </button>\n",
              "      \n",
              "  <style>\n",
              "    .colab-df-container {\n",
              "      display:flex;\n",
              "      flex-wrap:wrap;\n",
              "      gap: 12px;\n",
              "    }\n",
              "\n",
              "    .colab-df-convert {\n",
              "      background-color: #E8F0FE;\n",
              "      border: none;\n",
              "      border-radius: 50%;\n",
              "      cursor: pointer;\n",
              "      display: none;\n",
              "      fill: #1967D2;\n",
              "      height: 32px;\n",
              "      padding: 0 0 0 0;\n",
              "      width: 32px;\n",
              "    }\n",
              "\n",
              "    .colab-df-convert:hover {\n",
              "      background-color: #E2EBFA;\n",
              "      box-shadow: 0px 1px 2px rgba(60, 64, 67, 0.3), 0px 1px 3px 1px rgba(60, 64, 67, 0.15);\n",
              "      fill: #174EA6;\n",
              "    }\n",
              "\n",
              "    [theme=dark] .colab-df-convert {\n",
              "      background-color: #3B4455;\n",
              "      fill: #D2E3FC;\n",
              "    }\n",
              "\n",
              "    [theme=dark] .colab-df-convert:hover {\n",
              "      background-color: #434B5C;\n",
              "      box-shadow: 0px 1px 3px 1px rgba(0, 0, 0, 0.15);\n",
              "      filter: drop-shadow(0px 1px 2px rgba(0, 0, 0, 0.3));\n",
              "      fill: #FFFFFF;\n",
              "    }\n",
              "  </style>\n",
              "\n",
              "      <script>\n",
              "        const buttonEl =\n",
              "          document.querySelector('#df-ba180d68-1806-4745-a673-5c97cf652fb1 button.colab-df-convert');\n",
              "        buttonEl.style.display =\n",
              "          google.colab.kernel.accessAllowed ? 'block' : 'none';\n",
              "\n",
              "        async function convertToInteractive(key) {\n",
              "          const element = document.querySelector('#df-ba180d68-1806-4745-a673-5c97cf652fb1');\n",
              "          const dataTable =\n",
              "            await google.colab.kernel.invokeFunction('convertToInteractive',\n",
              "                                                     [key], {});\n",
              "          if (!dataTable) return;\n",
              "\n",
              "          const docLinkHtml = 'Like what you see? Visit the ' +\n",
              "            '<a target=\"_blank\" href=https://colab.research.google.com/notebooks/data_table.ipynb>data table notebook</a>'\n",
              "            + ' to learn more about interactive tables.';\n",
              "          element.innerHTML = '';\n",
              "          dataTable['output_type'] = 'display_data';\n",
              "          await google.colab.output.renderOutput(dataTable, element);\n",
              "          const docLink = document.createElement('div');\n",
              "          docLink.innerHTML = docLinkHtml;\n",
              "          element.appendChild(docLink);\n",
              "        }\n",
              "      </script>\n",
              "    </div>\n",
              "  </div>\n",
              "  "
            ]
          },
          "metadata": {},
          "execution_count": 186
        }
      ]
    },
    {
      "cell_type": "markdown",
      "source": [
        "### neighbourhood_cleansed"
      ],
      "metadata": {
        "id": "xbkAE0I8xXoM"
      }
    },
    {
      "cell_type": "code",
      "source": [
        "df_listings['neighbourhood_cleansed'].value_counts()"
      ],
      "metadata": {
        "colab": {
          "base_uri": "https://localhost:8080/"
        },
        "id": "t4xuy8EVxw78",
        "outputId": "0542b9eb-3ade-4825-f3eb-8bca4d4a49d6"
      },
      "execution_count": null,
      "outputs": [
        {
          "output_type": "execute_result",
          "data": {
            "text/plain": [
              "De Baarsjes - Oud-West                    966\n",
              "Centrum-West                              799\n",
              "De Pijp - Rivierenbuurt                   686\n",
              "Centrum-Oost                              535\n",
              "Westerpark                                434\n",
              "Zuid                                      407\n",
              "Oud-Oost                                  365\n",
              "Bos en Lommer                             304\n",
              "Oostelijk Havengebied - Indische Buurt    251\n",
              "Oud-Noord                                 240\n",
              "Watergraafsmeer                           235\n",
              "Noord-West                                185\n",
              "Noord-Oost                                178\n",
              "IJburg - Zeeburgereiland                  176\n",
              "Buitenveldert - Zuidas                    125\n",
              "Slotervaart                               121\n",
              "Geuzenveld - Slotermeer                   100\n",
              "Bijlmer-Centrum                            91\n",
              "Gaasperdam - Driemond                      87\n",
              "De Aker - Nieuw Sloten                     76\n",
              "Osdorp                                     55\n",
              "Bijlmer-Oost                               39\n",
              "Name: neighbourhood_cleansed, dtype: int64"
            ]
          },
          "metadata": {},
          "execution_count": 90
        }
      ]
    },
    {
      "cell_type": "markdown",
      "source": [
        "### property_type"
      ],
      "metadata": {
        "id": "0XAA-zjtxY9J"
      }
    },
    {
      "cell_type": "code",
      "source": [
        "#df_listings['property_type'].value_counts()"
      ],
      "metadata": {
        "id": "9eSU9W7pyDaA"
      },
      "execution_count": null,
      "outputs": []
    },
    {
      "cell_type": "code",
      "source": [
        "#df_listings['property_type'] = df_listings['property_type'].str.replace('<[A-Za-z]>', '').str.lower()\n",
        "#df_listings['property_type'].value_counts()"
      ],
      "metadata": {
        "id": "X6hGECy5ySvV"
      },
      "execution_count": null,
      "outputs": []
    },
    {
      "cell_type": "markdown",
      "source": [
        "### room_type"
      ],
      "metadata": {
        "id": "77wvwPsnxl4Y"
      }
    },
    {
      "cell_type": "code",
      "source": [
        "df_listings['room_type'].value_counts()"
      ],
      "metadata": {
        "colab": {
          "base_uri": "https://localhost:8080/"
        },
        "id": "gKbpRvZaz5o3",
        "outputId": "34d6c6a2-4128-436d-94a0-ad498033b719"
      },
      "execution_count": null,
      "outputs": [
        {
          "output_type": "execute_result",
          "data": {
            "text/plain": [
              "Entire home/apt    1700549\n",
              "Private room        666009\n",
              "Hotel room           24090\n",
              "Shared room          13140\n",
              "Name: room_type, dtype: int64"
            ]
          },
          "metadata": {},
          "execution_count": 166
        }
      ]
    },
    {
      "cell_type": "markdown",
      "source": [
        "### Grouping data"
      ],
      "metadata": {
        "id": "7NGj-RL8jsh9"
      }
    },
    {
      "cell_type": "code",
      "source": [
        "# df_listings.select_dtypes(include=['int','float']).head()"
      ],
      "metadata": {
        "colab": {
          "base_uri": "https://localhost:8080/",
          "height": 206
        },
        "id": "IK0p2lzekOuz",
        "outputId": "f280487e-741a-492d-c079-84efd65c5cb6"
      },
      "execution_count": null,
      "outputs": [
        {
          "output_type": "execute_result",
          "data": {
            "text/plain": [
              "   minimum_nights  accommodates  bedrooms  beds  price_log  bathrooms  \\\n",
              "0             3.0             2       1.0   2.0   3.912023        1.5   \n",
              "1             3.0             2       1.0   2.0   3.912023        1.5   \n",
              "2             3.0             2       1.0   2.0   3.912023        1.5   \n",
              "3             3.0             2       1.0   2.0   3.912023        1.5   \n",
              "4             3.0             2       1.0   2.0   3.912023        1.5   \n",
              "\n",
              "   count_amenities  \n",
              "0               40  \n",
              "1               40  \n",
              "2               40  \n",
              "3               40  \n",
              "4               40  "
            ],
            "text/html": [
              "\n",
              "  <div id=\"df-05c33369-7373-4896-bfa1-81d0b1f9bf77\">\n",
              "    <div class=\"colab-df-container\">\n",
              "      <div>\n",
              "<style scoped>\n",
              "    .dataframe tbody tr th:only-of-type {\n",
              "        vertical-align: middle;\n",
              "    }\n",
              "\n",
              "    .dataframe tbody tr th {\n",
              "        vertical-align: top;\n",
              "    }\n",
              "\n",
              "    .dataframe thead th {\n",
              "        text-align: right;\n",
              "    }\n",
              "</style>\n",
              "<table border=\"1\" class=\"dataframe\">\n",
              "  <thead>\n",
              "    <tr style=\"text-align: right;\">\n",
              "      <th></th>\n",
              "      <th>minimum_nights</th>\n",
              "      <th>accommodates</th>\n",
              "      <th>bedrooms</th>\n",
              "      <th>beds</th>\n",
              "      <th>price_log</th>\n",
              "      <th>bathrooms</th>\n",
              "      <th>count_amenities</th>\n",
              "    </tr>\n",
              "  </thead>\n",
              "  <tbody>\n",
              "    <tr>\n",
              "      <th>0</th>\n",
              "      <td>3.0</td>\n",
              "      <td>2</td>\n",
              "      <td>1.0</td>\n",
              "      <td>2.0</td>\n",
              "      <td>3.912023</td>\n",
              "      <td>1.5</td>\n",
              "      <td>40</td>\n",
              "    </tr>\n",
              "    <tr>\n",
              "      <th>1</th>\n",
              "      <td>3.0</td>\n",
              "      <td>2</td>\n",
              "      <td>1.0</td>\n",
              "      <td>2.0</td>\n",
              "      <td>3.912023</td>\n",
              "      <td>1.5</td>\n",
              "      <td>40</td>\n",
              "    </tr>\n",
              "    <tr>\n",
              "      <th>2</th>\n",
              "      <td>3.0</td>\n",
              "      <td>2</td>\n",
              "      <td>1.0</td>\n",
              "      <td>2.0</td>\n",
              "      <td>3.912023</td>\n",
              "      <td>1.5</td>\n",
              "      <td>40</td>\n",
              "    </tr>\n",
              "    <tr>\n",
              "      <th>3</th>\n",
              "      <td>3.0</td>\n",
              "      <td>2</td>\n",
              "      <td>1.0</td>\n",
              "      <td>2.0</td>\n",
              "      <td>3.912023</td>\n",
              "      <td>1.5</td>\n",
              "      <td>40</td>\n",
              "    </tr>\n",
              "    <tr>\n",
              "      <th>4</th>\n",
              "      <td>3.0</td>\n",
              "      <td>2</td>\n",
              "      <td>1.0</td>\n",
              "      <td>2.0</td>\n",
              "      <td>3.912023</td>\n",
              "      <td>1.5</td>\n",
              "      <td>40</td>\n",
              "    </tr>\n",
              "  </tbody>\n",
              "</table>\n",
              "</div>\n",
              "      <button class=\"colab-df-convert\" onclick=\"convertToInteractive('df-05c33369-7373-4896-bfa1-81d0b1f9bf77')\"\n",
              "              title=\"Convert this dataframe to an interactive table.\"\n",
              "              style=\"display:none;\">\n",
              "        \n",
              "  <svg xmlns=\"http://www.w3.org/2000/svg\" height=\"24px\"viewBox=\"0 0 24 24\"\n",
              "       width=\"24px\">\n",
              "    <path d=\"M0 0h24v24H0V0z\" fill=\"none\"/>\n",
              "    <path d=\"M18.56 5.44l.94 2.06.94-2.06 2.06-.94-2.06-.94-.94-2.06-.94 2.06-2.06.94zm-11 1L8.5 8.5l.94-2.06 2.06-.94-2.06-.94L8.5 2.5l-.94 2.06-2.06.94zm10 10l.94 2.06.94-2.06 2.06-.94-2.06-.94-.94-2.06-.94 2.06-2.06.94z\"/><path d=\"M17.41 7.96l-1.37-1.37c-.4-.4-.92-.59-1.43-.59-.52 0-1.04.2-1.43.59L10.3 9.45l-7.72 7.72c-.78.78-.78 2.05 0 2.83L4 21.41c.39.39.9.59 1.41.59.51 0 1.02-.2 1.41-.59l7.78-7.78 2.81-2.81c.8-.78.8-2.07 0-2.86zM5.41 20L4 18.59l7.72-7.72 1.47 1.35L5.41 20z\"/>\n",
              "  </svg>\n",
              "      </button>\n",
              "      \n",
              "  <style>\n",
              "    .colab-df-container {\n",
              "      display:flex;\n",
              "      flex-wrap:wrap;\n",
              "      gap: 12px;\n",
              "    }\n",
              "\n",
              "    .colab-df-convert {\n",
              "      background-color: #E8F0FE;\n",
              "      border: none;\n",
              "      border-radius: 50%;\n",
              "      cursor: pointer;\n",
              "      display: none;\n",
              "      fill: #1967D2;\n",
              "      height: 32px;\n",
              "      padding: 0 0 0 0;\n",
              "      width: 32px;\n",
              "    }\n",
              "\n",
              "    .colab-df-convert:hover {\n",
              "      background-color: #E2EBFA;\n",
              "      box-shadow: 0px 1px 2px rgba(60, 64, 67, 0.3), 0px 1px 3px 1px rgba(60, 64, 67, 0.15);\n",
              "      fill: #174EA6;\n",
              "    }\n",
              "\n",
              "    [theme=dark] .colab-df-convert {\n",
              "      background-color: #3B4455;\n",
              "      fill: #D2E3FC;\n",
              "    }\n",
              "\n",
              "    [theme=dark] .colab-df-convert:hover {\n",
              "      background-color: #434B5C;\n",
              "      box-shadow: 0px 1px 3px 1px rgba(0, 0, 0, 0.15);\n",
              "      filter: drop-shadow(0px 1px 2px rgba(0, 0, 0, 0.3));\n",
              "      fill: #FFFFFF;\n",
              "    }\n",
              "  </style>\n",
              "\n",
              "      <script>\n",
              "        const buttonEl =\n",
              "          document.querySelector('#df-05c33369-7373-4896-bfa1-81d0b1f9bf77 button.colab-df-convert');\n",
              "        buttonEl.style.display =\n",
              "          google.colab.kernel.accessAllowed ? 'block' : 'none';\n",
              "\n",
              "        async function convertToInteractive(key) {\n",
              "          const element = document.querySelector('#df-05c33369-7373-4896-bfa1-81d0b1f9bf77');\n",
              "          const dataTable =\n",
              "            await google.colab.kernel.invokeFunction('convertToInteractive',\n",
              "                                                     [key], {});\n",
              "          if (!dataTable) return;\n",
              "\n",
              "          const docLinkHtml = 'Like what you see? Visit the ' +\n",
              "            '<a target=\"_blank\" href=https://colab.research.google.com/notebooks/data_table.ipynb>data table notebook</a>'\n",
              "            + ' to learn more about interactive tables.';\n",
              "          element.innerHTML = '';\n",
              "          dataTable['output_type'] = 'display_data';\n",
              "          await google.colab.output.renderOutput(dataTable, element);\n",
              "          const docLink = document.createElement('div');\n",
              "          docLink.innerHTML = docLinkHtml;\n",
              "          element.appendChild(docLink);\n",
              "        }\n",
              "      </script>\n",
              "    </div>\n",
              "  </div>\n",
              "  "
            ]
          },
          "metadata": {},
          "execution_count": 167
        }
      ]
    },
    {
      "cell_type": "code",
      "source": [
        "# create a list of our conditions\n",
        "#conditions1 = [\n",
        "#    (df_listings['availability_30'] >= 1) & (df_listings['availability_30'] <= 5),\n",
        "#   (df_listings['availability_30'] >= 6) & (df_listings['availability_30'] <= 10),\n",
        "#    (df_listings['availability_30'] >= 11) & (df_listings['availability_30'] <= 15),\n",
        "#    (df_listings['availability_30'] >= 16) & (df_listings['availability_30'] <= 20),\n",
        "#    (df_listings['availability_30'] >= 21) & (df_listings['availability_30'] <= 25),\n",
        "#    (df_listings['availability_30'] == 0)]\n",
        "\n",
        "#values1 = [1, 2, 3, 4, 5,0]\n",
        "\n",
        "\n",
        "# df_listings['availability_30'] = df_listings['availability_30'] / 30\n",
        "# df_listings['availability_30'].head()"
      ],
      "metadata": {
        "id": "q2yQSCfjjy9I"
      },
      "execution_count": null,
      "outputs": []
    },
    {
      "cell_type": "code",
      "source": [
        "# create a list of our conditions\n",
        "#conditions2 = [\n",
        "#    (df_listings['availability_60'] >= 1) & (df_listings['availability_60'] <= 5),\n",
        "#    (df_listings['availability_60'] >= 6) & (df_listings['availability_60'] <= 10),\n",
        "#    (df_listings['availability_60'] >= 11) & (df_listings['availability_60'] <= 15),\n",
        "#    (df_listings['availability_60'] >= 16) & (df_listings['availability_60'] <= 20),\n",
        "#    (df_listings['availability_60'] >= 21) & (df_listings['availability_60'] <= 25),\n",
        "#    (df_listings['availability_60'] >= 26) & (df_listings['availability_60'] <= 30),\n",
        "#    (df_listings['availability_60'] >= 31) & (df_listings['availability_60'] <= 35),\n",
        "#    (df_listings['availability_60'] >= 36) & (df_listings['availability_60'] <= 40),\n",
        "#    (df_listings['availability_60'] >= 41) & (df_listings['availability_60'] <= 45),\n",
        "#    (df_listings['availability_60'] >= 46) & (df_listings['availability_60'] <= 50),\n",
        "#    (df_listings['availability_60'] >= 55) & (df_listings['availability_60'] <= 60),\n",
        "#    (df_listings['availability_60'] == 0)]\n",
        "\n",
        "#values2 = [1, 2, 3, 4, 5,6,7,8,9,10,11,0]\n",
        "\n",
        "#df_listings['availability_60'] = np.select(conditions2, values2)\n",
        "# df_listings['availability_60'] = df_listings['availability_60'] / 60\n",
        "# df_listings['availability_60'].head()"
      ],
      "metadata": {
        "id": "fccH_sakj3z9"
      },
      "execution_count": null,
      "outputs": []
    },
    {
      "cell_type": "code",
      "source": [
        "# create a list of our conditions\n",
        "#conditions3 = [\n",
        "#    (df_listings['availability_90'] >= 1) & (df_listings['availability_90'] <= 10),\n",
        "#    (df_listings['availability_90'] >= 11) & (df_listings['availability_90'] <= 20),\n",
        "#    (df_listings['availability_90'] >= 21) & (df_listings['availability_90'] <= 30),\n",
        "#    (df_listings['availability_90'] >= 31) & (df_listings['availability_90'] <= 40),\n",
        "#    (df_listings['availability_90'] >= 41) & (df_listings['availability_90'] <= 50),\n",
        "#    (df_listings['availability_90'] >= 51) & (df_listings['availability_90'] <= 60),\n",
        "#    (df_listings['availability_90'] >= 61) & (df_listings['availability_90'] <= 70),\n",
        "#    (df_listings['availability_90'] >= 71) & (df_listings['availability_90'] <= 80),\n",
        "#    (df_listings['availability_90'] >= 81) & (df_listings['availability_90'] <= 90),\n",
        "#    (df_listings['availability_90'] == 0)]\n",
        "\n",
        "#values3 = [1, 2, 3, 4, 5,6,7,8,9,0]\n",
        "\n",
        "#df_listings['availability_90'] = np.select(conditions3, values3)\n",
        "# df_listings['availability_90'] = df_listings['availability_90'] / 90\n",
        "# df_listings['availability_90'].head()"
      ],
      "metadata": {
        "id": "g7HPIZ90j5Zl"
      },
      "execution_count": null,
      "outputs": []
    },
    {
      "cell_type": "code",
      "source": [
        "# create a list of our conditions\n",
        "#conditions4 = [\n",
        "#    (df_listings['availability_365'] >= 1) & (df_listings['availability_365'] <= 60),\n",
        "#    (df_listings['availability_365'] >= 61) & (df_listings['availability_365'] <= 120),\n",
        "#    (df_listings['availability_365'] >= 121) & (df_listings['availability_365'] <= 180),\n",
        "#    (df_listings['availability_365'] >= 181) & (df_listings['availability_365'] <= 240),\n",
        "#    (df_listings['availability_365'] >= 241) & (df_listings['availability_365'] <= 300),\n",
        "#    (df_listings['availability_365'] >= 301) & (df_listings['availability_365'] <= 360),\n",
        "#    (df_listings['availability_365'] == 0)]\n",
        "\n",
        "#values4 = [1, 2, 3, 4, 5,6,0]\n",
        "\n",
        "#df_listings['availability_365'] = np.select(conditions4, values4)\n",
        "# df_listings['availability_365'] = df_listings['availability_365'] / 365\n",
        "# df_listings['availability_365'].head()"
      ],
      "metadata": {
        "id": "K_45QLTTj7E0"
      },
      "execution_count": null,
      "outputs": []
    },
    {
      "cell_type": "code",
      "source": [
        "# create a list of our conditions\n",
        "# conditions5 = [\n",
        "#     (df_listings['count_amenities'] >= 1) & (df_listings['count_amenities'] <= 10),\n",
        "#     #(df_listings['count_amenities'] >= 6) & (df_listings['count_amenities'] <= 10),\n",
        "#     (df_listings['count_amenities'] >= 11) & (df_listings['count_amenities'] <= 20),\n",
        "#     #(df_listings['count_amenities'] >= 16) & (df_listings['count_amenities'] <= 20),\n",
        "#     (df_listings['count_amenities'] >= 21) & (df_listings['count_amenities'] <= 30),\n",
        "#     #(df_listings['count_amenities'] >= 26) & (df_listings['count_amenities'] <= 30),\n",
        "#     (df_listings['count_amenities'] >= 31) & (df_listings['count_amenities'] <= 40),\n",
        "#     #(df_listings['count_amenities'] >= 36) & (df_listings['count_amenities'] <= 40),\n",
        "#     (df_listings['count_amenities'] >= 41) & (df_listings['count_amenities'] <= 50),\n",
        "#     #(df_listings['count_amenities'] >= 46) & (df_listings['count_amenities'] <= 50),\n",
        "#     (df_listings['count_amenities'] >= 51) & (df_listings['count_amenities'] <= 60),\n",
        "#     #(df_listings['count_amenities'] >= 56) & (df_listings['count_amenities'] <= 60),\n",
        "#     (df_listings['count_amenities'] >= 61) & (df_listings['count_amenities'] <= 70),\n",
        "#     #(df_listings['count_amenities'] >= 66) & (df_listings['count_amenities'] <= 70),\n",
        "#     (df_listings['count_amenities'] >= 71) & (df_listings['count_amenities'] <= 80),\n",
        "#     (df_listings['count_amenities'] == 0)]\n",
        "\n",
        "# values5 = ['1-10','11-20','21-30','31-40','41-50','51-60','61-70','71-80','None']\n",
        "\n",
        "# df_listings['count_amenities'] = np.select(conditions5, values5)\n",
        "# df_listings['count_amenities'].head()"
      ],
      "metadata": {
        "id": "eA4cFeZDj9w5"
      },
      "execution_count": null,
      "outputs": []
    },
    {
      "cell_type": "code",
      "source": [
        "# create a list of our conditions\n",
        "# conditions6 = [\n",
        "#     (df_listings['number_of_reviews'] >= 1) & (df_listings['number_of_reviews'] <= 20),\n",
        "#     (df_listings['number_of_reviews'] >= 21) & (df_listings['number_of_reviews'] <= 50),\n",
        "#     (df_listings['number_of_reviews'] >= 51) & (df_listings['number_of_reviews'] <= 100),\n",
        "#     (df_listings['number_of_reviews'] >= 101) & (df_listings['number_of_reviews'] <= 150),\n",
        "#     (df_listings['number_of_reviews'] >= 151) & (df_listings['number_of_reviews'] <= 200),\n",
        "#     (df_listings['number_of_reviews'] >= 201) & (df_listings['number_of_reviews'] <= 250),\n",
        "#     (df_listings['number_of_reviews'] >= 251) & (df_listings['number_of_reviews'] <= 300),\n",
        "#     (df_listings['number_of_reviews'] >= 301) & (df_listings['number_of_reviews'] <= 350),\n",
        "#     (df_listings['number_of_reviews'] == 0)]\n",
        "\n",
        "# values6 = ['1-20','21-50','51-100','101-150','151-200','201-250','251-300','301-350','None']\n",
        "\n",
        "# df_listings['number_of_reviews'] = np.select(conditions6, values6)\n",
        "# df_listings['number_of_reviews'].head()"
      ],
      "metadata": {
        "id": "KFODcw3Oj_0O"
      },
      "execution_count": null,
      "outputs": []
    },
    {
      "cell_type": "code",
      "source": [
        "# create a list of our conditions\n",
        "# conditions7 = [\n",
        "#     (df_listings['number_of_reviews_ltm'] >= 0) & (df_listings['number_of_reviews_ltm'] <= 10),\n",
        "#     (df_listings['number_of_reviews_ltm'] >= 11) & (df_listings['number_of_reviews_ltm'] <= 20),\n",
        "#     (df_listings['number_of_reviews_ltm'] >= 21) & (df_listings['number_of_reviews_ltm'] <= 30),\n",
        "#     (df_listings['number_of_reviews_ltm'] >= 31) & (df_listings['number_of_reviews_ltm'] <= 40),\n",
        "#     (df_listings['number_of_reviews_ltm'] >= 41) & (df_listings['number_of_reviews_ltm'] <= 50),\n",
        "#     (df_listings['number_of_reviews_ltm'] >= 51) & (df_listings['number_of_reviews_ltm'] <= 60),\n",
        "#     (df_listings['number_of_reviews_ltm'] >= 61) & (df_listings['number_of_reviews_ltm'] <= 70),\n",
        "#     (df_listings['number_of_reviews_ltm'] >= 71) & (df_listings['number_of_reviews_ltm'] <= 75)]\n",
        "\n",
        "# values7 = ['0-10','11-20','21-30','31-40','41-50','51-60','61-70','71-80']\n",
        "\n",
        "# df_listings['number_of_reviews_ltm'] = np.select(conditions7, values7)"
      ],
      "metadata": {
        "id": "hXLO0V8ZkBZR"
      },
      "execution_count": null,
      "outputs": []
    },
    {
      "cell_type": "code",
      "source": [
        "# create a list of our conditions\n",
        "# conditions8 = [\n",
        "#     (df_listings['review_scores_checkin'] <= 4.50),\n",
        "#     (df_listings['review_scores_checkin'] >= 4.51) & (df_listings['review_scores_checkin'] <= 4.60),\n",
        "#     (df_listings['review_scores_checkin'] >= 4.61) & (df_listings['review_scores_checkin'] <= 4.70),\n",
        "#     (df_listings['review_scores_checkin'] >= 4.71) & (df_listings['review_scores_checkin'] <= 4.80),\n",
        "#     (df_listings['review_scores_checkin'] >= 4.81) & (df_listings['review_scores_checkin'] <= 4.90),\n",
        "#     (df_listings['review_scores_checkin'] >= 4.91)]\n",
        "\n",
        "# values8 = ['less than or equal 4.50', '4.51-4.60', '4.61-4.70', '4.71-4.80', '4.81-4.90','greater than or equal 4.91']\n",
        "\n",
        "# df_listings['review_scores_checkin'] = np.select(conditions8, values8)"
      ],
      "metadata": {
        "id": "TMValyhikDjA"
      },
      "execution_count": null,
      "outputs": []
    },
    {
      "cell_type": "code",
      "source": [
        "# create a list of our conditions\n",
        "# conditions9 = [\n",
        "#     (df_listings['review_scores_cleanliness'] <= 4.50),\n",
        "#     (df_listings['review_scores_cleanliness'] >= 4.51) & (df_listings['review_scores_cleanliness'] <= 4.60),\n",
        "#     (df_listings['review_scores_cleanliness'] >= 4.61) & (df_listings['review_scores_cleanliness'] <= 4.70),\n",
        "#     (df_listings['review_scores_cleanliness'] >= 4.71) & (df_listings['review_scores_cleanliness'] <= 4.80),\n",
        "#     (df_listings['review_scores_cleanliness'] >= 4.81) & (df_listings['review_scores_cleanliness'] <= 4.90),\n",
        "#     (df_listings['review_scores_cleanliness'] >= 4.91)]\n",
        "\n",
        "# values9 = ['less than or equal 4.50', '4.51-4.60', '4.61-4.70', '4.71-4.80', '4.81-4.90','greater than or equal 4.91']\n",
        "\n",
        "# df_listings['review_scores_cleanliness'] = np.select(conditions9, values9)"
      ],
      "metadata": {
        "id": "C6NT1dLckFmY"
      },
      "execution_count": null,
      "outputs": []
    },
    {
      "cell_type": "code",
      "source": [
        "# create a list of our conditions\n",
        "# conditions10 = [\n",
        "#     (df_listings['review_scores_location'] <= 4.50),\n",
        "#     (df_listings['review_scores_location'] >= 4.51) & (df_listings['review_scores_location'] <= 4.60),\n",
        "#     (df_listings['review_scores_location'] >= 4.61) & (df_listings['review_scores_location'] <= 4.70),\n",
        "#     (df_listings['review_scores_location'] >= 4.71) & (df_listings['review_scores_location'] <= 4.80),\n",
        "#     (df_listings['review_scores_location'] >= 4.81) & (df_listings['review_scores_location'] <= 4.90),\n",
        "#     (df_listings['review_scores_location'] >= 4.91)]\n",
        "\n",
        "# values10 = ['less than or equal 4.50', '4.51-4.60', '4.61-4.70', '4.71-4.80', '4.81-4.90','greater than or equal 4.91']\n",
        "\n",
        "# df_listings['review_scores_location'] = np.select(conditions10, values10)"
      ],
      "metadata": {
        "id": "1LYx7W6HkHfA"
      },
      "execution_count": null,
      "outputs": []
    },
    {
      "cell_type": "code",
      "source": [
        "# create a list of our conditions\n",
        "# conditions11 = [\n",
        "#     (df_listings['review_scores_rating'] <= 4.50),\n",
        "#     (df_listings['review_scores_rating'] >= 4.51) & (df_listings['review_scores_rating'] <= 4.60),\n",
        "#     (df_listings['review_scores_rating'] >= 4.61) & (df_listings['review_scores_rating'] <= 4.70),\n",
        "#     (df_listings['review_scores_rating'] >= 4.71) & (df_listings['review_scores_rating'] <= 4.80),\n",
        "#     (df_listings['review_scores_rating'] >= 4.81) & (df_listings['review_scores_rating'] <= 4.90),\n",
        "#     (df_listings['review_scores_rating'] >= 4.91)]\n",
        "\n",
        "# values11 = ['less than or equal 4.50', '4.51-4.60', '4.61-4.70', '4.71-4.80', '4.81-4.90','greater than or equal 4.91']\n",
        "\n",
        "# df_listings['review_scores_rating'] = np.select(conditions11, values11)"
      ],
      "metadata": {
        "id": "gsjsJlTHkJUi"
      },
      "execution_count": null,
      "outputs": []
    },
    {
      "cell_type": "code",
      "source": [
        "# # create a list of our conditions\n",
        "# conditions12 = [\n",
        "#     (df_listings['accommodates'] == 0),\n",
        "#     (df_listings['accommodates'] >= 1) & (df_listings['accommodates'] <= 2),\n",
        "#     (df_listings['accommodates'] > 3)]\n",
        "# #    (df_listings['availability_30'] >= 16) & (df_listings['availability_30'] <= 20),\n",
        "# #    (df_listings['availability_30'] >= 21) & (df_listings['availability_30'] <= 25),\n",
        "# #    (df_listings['availability_30'] == 0)]\n",
        "\n",
        "# values12 = ['single', 'partner', 'group']\n",
        "\n",
        "# df_listings['accommodates'] = np.select(conditions12, values12)\n",
        "# df_listings['accommodates'].head()"
      ],
      "metadata": {
        "id": "3CpRz2uoCCQu"
      },
      "execution_count": null,
      "outputs": []
    },
    {
      "cell_type": "markdown",
      "source": [
        "## 2.5 One-hot & Encoding"
      ],
      "metadata": {
        "id": "eIfgLA9TyZ53"
      }
    },
    {
      "cell_type": "code",
      "source": [
        "df_listings.drop(columns=['id'] , inplace=True) #,'host_id','host_since','host_has_profile_pic','last_review','latitude','longitude'] , inplace=True)\n",
        "#df_listings_cat = df_listings.select_dtypes(include = 'object').copy()\n",
        "#df_listings_num = df_listings.select_dtypes(include = 'number').copy()"
      ],
      "metadata": {
        "id": "QfqhEy--iuO_"
      },
      "execution_count": null,
      "outputs": []
    },
    {
      "cell_type": "code",
      "source": [
        "df_listings.head()"
      ],
      "metadata": {
        "colab": {
          "base_uri": "https://localhost:8080/",
          "height": 357
        },
        "id": "5jnZ92j9I4xU",
        "outputId": "434a9ef1-cf60-457d-d857-f0ba12978bc4"
      },
      "execution_count": null,
      "outputs": [
        {
          "output_type": "execute_result",
          "data": {
            "text/plain": [
              "    neighbourhood_cleansed        room_type  accommodates  minimum_nights  \\\n",
              "2             Centrum-West     Private room             2               2   \n",
              "5             Centrum-Oost  Entire home/apt             4               3   \n",
              "8   De Baarsjes - Oud-West  Entire home/apt             4               3   \n",
              "9  De Pijp - Rivierenbuurt  Entire home/apt             4               3   \n",
              "8             Centrum-Oost  Entire home/apt             2               3   \n",
              "\n",
              "  instant_bookable  price_log have_license  count_amenities  \n",
              "2                t   4.919981          Yes               44  \n",
              "5                f   5.484797          Yes               33  \n",
              "8                f   5.525453          Yes               16  \n",
              "9                f   5.407172          Yes               23  \n",
              "8                f   5.525453          Yes               46  "
            ],
            "text/html": [
              "\n",
              "  <div id=\"df-97c199f9-8927-4b6b-994f-b64e9ca3a5ed\">\n",
              "    <div class=\"colab-df-container\">\n",
              "      <div>\n",
              "<style scoped>\n",
              "    .dataframe tbody tr th:only-of-type {\n",
              "        vertical-align: middle;\n",
              "    }\n",
              "\n",
              "    .dataframe tbody tr th {\n",
              "        vertical-align: top;\n",
              "    }\n",
              "\n",
              "    .dataframe thead th {\n",
              "        text-align: right;\n",
              "    }\n",
              "</style>\n",
              "<table border=\"1\" class=\"dataframe\">\n",
              "  <thead>\n",
              "    <tr style=\"text-align: right;\">\n",
              "      <th></th>\n",
              "      <th>neighbourhood_cleansed</th>\n",
              "      <th>room_type</th>\n",
              "      <th>accommodates</th>\n",
              "      <th>minimum_nights</th>\n",
              "      <th>instant_bookable</th>\n",
              "      <th>price_log</th>\n",
              "      <th>have_license</th>\n",
              "      <th>count_amenities</th>\n",
              "    </tr>\n",
              "  </thead>\n",
              "  <tbody>\n",
              "    <tr>\n",
              "      <th>2</th>\n",
              "      <td>Centrum-West</td>\n",
              "      <td>Private room</td>\n",
              "      <td>2</td>\n",
              "      <td>2</td>\n",
              "      <td>t</td>\n",
              "      <td>4.919981</td>\n",
              "      <td>Yes</td>\n",
              "      <td>44</td>\n",
              "    </tr>\n",
              "    <tr>\n",
              "      <th>5</th>\n",
              "      <td>Centrum-Oost</td>\n",
              "      <td>Entire home/apt</td>\n",
              "      <td>4</td>\n",
              "      <td>3</td>\n",
              "      <td>f</td>\n",
              "      <td>5.484797</td>\n",
              "      <td>Yes</td>\n",
              "      <td>33</td>\n",
              "    </tr>\n",
              "    <tr>\n",
              "      <th>8</th>\n",
              "      <td>De Baarsjes - Oud-West</td>\n",
              "      <td>Entire home/apt</td>\n",
              "      <td>4</td>\n",
              "      <td>3</td>\n",
              "      <td>f</td>\n",
              "      <td>5.525453</td>\n",
              "      <td>Yes</td>\n",
              "      <td>16</td>\n",
              "    </tr>\n",
              "    <tr>\n",
              "      <th>9</th>\n",
              "      <td>De Pijp - Rivierenbuurt</td>\n",
              "      <td>Entire home/apt</td>\n",
              "      <td>4</td>\n",
              "      <td>3</td>\n",
              "      <td>f</td>\n",
              "      <td>5.407172</td>\n",
              "      <td>Yes</td>\n",
              "      <td>23</td>\n",
              "    </tr>\n",
              "    <tr>\n",
              "      <th>8</th>\n",
              "      <td>Centrum-Oost</td>\n",
              "      <td>Entire home/apt</td>\n",
              "      <td>2</td>\n",
              "      <td>3</td>\n",
              "      <td>f</td>\n",
              "      <td>5.525453</td>\n",
              "      <td>Yes</td>\n",
              "      <td>46</td>\n",
              "    </tr>\n",
              "  </tbody>\n",
              "</table>\n",
              "</div>\n",
              "      <button class=\"colab-df-convert\" onclick=\"convertToInteractive('df-97c199f9-8927-4b6b-994f-b64e9ca3a5ed')\"\n",
              "              title=\"Convert this dataframe to an interactive table.\"\n",
              "              style=\"display:none;\">\n",
              "        \n",
              "  <svg xmlns=\"http://www.w3.org/2000/svg\" height=\"24px\"viewBox=\"0 0 24 24\"\n",
              "       width=\"24px\">\n",
              "    <path d=\"M0 0h24v24H0V0z\" fill=\"none\"/>\n",
              "    <path d=\"M18.56 5.44l.94 2.06.94-2.06 2.06-.94-2.06-.94-.94-2.06-.94 2.06-2.06.94zm-11 1L8.5 8.5l.94-2.06 2.06-.94-2.06-.94L8.5 2.5l-.94 2.06-2.06.94zm10 10l.94 2.06.94-2.06 2.06-.94-2.06-.94-.94-2.06-.94 2.06-2.06.94z\"/><path d=\"M17.41 7.96l-1.37-1.37c-.4-.4-.92-.59-1.43-.59-.52 0-1.04.2-1.43.59L10.3 9.45l-7.72 7.72c-.78.78-.78 2.05 0 2.83L4 21.41c.39.39.9.59 1.41.59.51 0 1.02-.2 1.41-.59l7.78-7.78 2.81-2.81c.8-.78.8-2.07 0-2.86zM5.41 20L4 18.59l7.72-7.72 1.47 1.35L5.41 20z\"/>\n",
              "  </svg>\n",
              "      </button>\n",
              "      \n",
              "  <style>\n",
              "    .colab-df-container {\n",
              "      display:flex;\n",
              "      flex-wrap:wrap;\n",
              "      gap: 12px;\n",
              "    }\n",
              "\n",
              "    .colab-df-convert {\n",
              "      background-color: #E8F0FE;\n",
              "      border: none;\n",
              "      border-radius: 50%;\n",
              "      cursor: pointer;\n",
              "      display: none;\n",
              "      fill: #1967D2;\n",
              "      height: 32px;\n",
              "      padding: 0 0 0 0;\n",
              "      width: 32px;\n",
              "    }\n",
              "\n",
              "    .colab-df-convert:hover {\n",
              "      background-color: #E2EBFA;\n",
              "      box-shadow: 0px 1px 2px rgba(60, 64, 67, 0.3), 0px 1px 3px 1px rgba(60, 64, 67, 0.15);\n",
              "      fill: #174EA6;\n",
              "    }\n",
              "\n",
              "    [theme=dark] .colab-df-convert {\n",
              "      background-color: #3B4455;\n",
              "      fill: #D2E3FC;\n",
              "    }\n",
              "\n",
              "    [theme=dark] .colab-df-convert:hover {\n",
              "      background-color: #434B5C;\n",
              "      box-shadow: 0px 1px 3px 1px rgba(0, 0, 0, 0.15);\n",
              "      filter: drop-shadow(0px 1px 2px rgba(0, 0, 0, 0.3));\n",
              "      fill: #FFFFFF;\n",
              "    }\n",
              "  </style>\n",
              "\n",
              "      <script>\n",
              "        const buttonEl =\n",
              "          document.querySelector('#df-97c199f9-8927-4b6b-994f-b64e9ca3a5ed button.colab-df-convert');\n",
              "        buttonEl.style.display =\n",
              "          google.colab.kernel.accessAllowed ? 'block' : 'none';\n",
              "\n",
              "        async function convertToInteractive(key) {\n",
              "          const element = document.querySelector('#df-97c199f9-8927-4b6b-994f-b64e9ca3a5ed');\n",
              "          const dataTable =\n",
              "            await google.colab.kernel.invokeFunction('convertToInteractive',\n",
              "                                                     [key], {});\n",
              "          if (!dataTable) return;\n",
              "\n",
              "          const docLinkHtml = 'Like what you see? Visit the ' +\n",
              "            '<a target=\"_blank\" href=https://colab.research.google.com/notebooks/data_table.ipynb>data table notebook</a>'\n",
              "            + ' to learn more about interactive tables.';\n",
              "          element.innerHTML = '';\n",
              "          dataTable['output_type'] = 'display_data';\n",
              "          await google.colab.output.renderOutput(dataTable, element);\n",
              "          const docLink = document.createElement('div');\n",
              "          docLink.innerHTML = docLinkHtml;\n",
              "          element.appendChild(docLink);\n",
              "        }\n",
              "      </script>\n",
              "    </div>\n",
              "  </div>\n",
              "  "
            ]
          },
          "metadata": {},
          "execution_count": 188
        }
      ]
    },
    {
      "cell_type": "code",
      "source": [
        "df_listings.columns"
      ],
      "metadata": {
        "colab": {
          "base_uri": "https://localhost:8080/"
        },
        "id": "YTlS6W2A37Jf",
        "outputId": "194f32f5-423b-4164-b59f-6de7eb542cfc"
      },
      "execution_count": null,
      "outputs": [
        {
          "output_type": "execute_result",
          "data": {
            "text/plain": [
              "Index(['neighbourhood_cleansed', 'room_type', 'accommodates', 'minimum_nights',\n",
              "       'instant_bookable', 'price_log', 'have_license', 'count_amenities'],\n",
              "      dtype='object')"
            ]
          },
          "metadata": {},
          "execution_count": 189
        }
      ]
    },
    {
      "cell_type": "code",
      "source": [
        "# df_listings['bathrooms'].value_counts()"
      ],
      "metadata": {
        "id": "98JQFOMe7WaV"
      },
      "execution_count": null,
      "outputs": []
    },
    {
      "cell_type": "code",
      "source": [
        "# df_listings['beds'].value_counts()"
      ],
      "metadata": {
        "id": "NklLdcpf7e7f"
      },
      "execution_count": null,
      "outputs": []
    },
    {
      "cell_type": "code",
      "source": [
        "# df_listings_fs = df_listings[['neighbourhood_cleansed', 'room_type','accommodates', 'minimum_nights','instant_bookable',\n",
        "#                               'price_log', 'bathrooms_type','have_license', 'count_amenities']]"
      ],
      "metadata": {
        "id": "GEybnnbl3_Mz"
      },
      "execution_count": null,
      "outputs": []
    },
    {
      "cell_type": "code",
      "source": [
        "df_listings.select_dtypes(include = 'object').columns"
      ],
      "metadata": {
        "colab": {
          "base_uri": "https://localhost:8080/"
        },
        "id": "hQseBPNRcT3A",
        "outputId": "40bc68ce-42ee-4a50-b2b8-d38179ff1db5"
      },
      "execution_count": null,
      "outputs": [
        {
          "output_type": "execute_result",
          "data": {
            "text/plain": [
              "Index(['neighbourhood_cleansed', 'room_type', 'instant_bookable',\n",
              "       'have_license'],\n",
              "      dtype='object')"
            ]
          },
          "metadata": {},
          "execution_count": 190
        }
      ]
    },
    {
      "cell_type": "code",
      "source": [
        "df_listings.select_dtypes(include = 'number').columns"
      ],
      "metadata": {
        "colab": {
          "base_uri": "https://localhost:8080/"
        },
        "id": "70pyG32xcYcL",
        "outputId": "d9b46c7d-3c5b-4054-ee8d-e50ba39b9ace"
      },
      "execution_count": null,
      "outputs": [
        {
          "output_type": "execute_result",
          "data": {
            "text/plain": [
              "Index(['minimum_nights', 'accommodates', 'bedrooms', 'beds', 'price_log',\n",
              "       'bathrooms', 'count_amenities'],\n",
              "      dtype='object')"
            ]
          },
          "metadata": {},
          "execution_count": 192
        }
      ]
    },
    {
      "cell_type": "code",
      "source": [
        "df_listings_dum = df_listings.copy()"
      ],
      "metadata": {
        "id": "WpGdWydUzZHd"
      },
      "execution_count": null,
      "outputs": []
    },
    {
      "cell_type": "code",
      "source": [
        "cols_cat = df_listings_dum.select_dtypes(include = 'object').columns\n",
        "cols_cat"
      ],
      "metadata": {
        "id": "7Jj9Sby72h09",
        "colab": {
          "base_uri": "https://localhost:8080/"
        },
        "outputId": "64a7ec0b-7514-48bf-ad01-4b76405cb445"
      },
      "execution_count": null,
      "outputs": [
        {
          "output_type": "execute_result",
          "data": {
            "text/plain": [
              "Index(['neighbourhood_cleansed', 'room_type', 'instant_bookable',\n",
              "       'have_license'],\n",
              "      dtype='object')"
            ]
          },
          "metadata": {},
          "execution_count": 192
        }
      ]
    },
    {
      "cell_type": "code",
      "source": [
        "df_listings_dum = pd.get_dummies(df_listings_dum, columns=['neighbourhood_cleansed', 'room_type','have_license'], dummy_na=False)"
      ],
      "metadata": {
        "id": "tr67oWMCc6aB"
      },
      "execution_count": null,
      "outputs": []
    },
    {
      "cell_type": "code",
      "source": [
        "df_listings_dum['instant_bookable'] = df_listings_dum['instant_bookable'].map({'f': 0, 't': 1})\n",
        "#df_listings_dum['host_identity_verified'] = df_listings_dum['host_identity_verified'].map({'f': 0, 't': 1})\n",
        "#df_listings_dum['has_availability'] = df_listings_dum['has_availability'].map({'f': 0, 't': 1})\n",
        "#df_listings_dum['instant_bookable'] = df_listings_dum['instant_bookable'].map({'f': 0, 't': 1})"
      ],
      "metadata": {
        "id": "LUHLB6h_zfJ0"
      },
      "execution_count": null,
      "outputs": []
    },
    {
      "cell_type": "code",
      "source": [
        "# df_listings_dum['hot_water'] = df_listings_dum['hot_water'].map({\"No\": 0, \"hot water\": 1})\n",
        "# df_listings_dum['hair_dryer'] = df_listings_dum['hair_dryer'].map({\"No\": 0, \"hair dryer\": 1})\n",
        "# df_listings_dum['smoke_alarm'] = df_listings_dum['smoke_alarm'].map({\"No\": 0, \"smoke alarm\": 1})\n",
        "# df_listings_dum['bed_lines'] = df_listings_dum['bed_lines'].map({\"No\": 0, \"bed linens\": 1})\n",
        "# df_listings_dum['coffee_maker'] = df_listings_dum['coffee_maker'].map({\"No\": 0, \"coffee maker\": 1})\n",
        "\n",
        "# df_listings_dum['wifi'] = df_listings_dum['wifi'].map({\"No\": 0, \"wifi\": 1})\n",
        "# df_listings_dum['Cable_TV'] = df_listings_dum['Cable_TV'].map({\"No\": 0, \"cable tv\": 1})\n",
        "# df_listings_dum['Heating'] = df_listings_dum['Heating'].map({\"No\": 0, \"heating\": 1})\n",
        "# df_listings_dum['Bathtub'] = df_listings_dum['Bathtub'].map({\"No\": 0, \"bathtub\": 1})\n",
        "# df_listings_dum['Air_conditioning'] = df_listings_dum['Air_conditioning'].map({\"No\": 0, \"air conditioning\": 1})"
      ],
      "metadata": {
        "id": "xhmMPiWnMHlT"
      },
      "execution_count": null,
      "outputs": []
    },
    {
      "cell_type": "code",
      "source": [
        "df_listings_dum.columns"
      ],
      "metadata": {
        "colab": {
          "base_uri": "https://localhost:8080/"
        },
        "id": "3k1W4BPaeWGq",
        "outputId": "3593649e-9658-48d7-fa21-39286aa03279"
      },
      "execution_count": null,
      "outputs": [
        {
          "output_type": "execute_result",
          "data": {
            "text/plain": [
              "Index(['accommodates', 'minimum_nights', 'instant_bookable', 'price_log',\n",
              "       'count_amenities', 'neighbourhood_cleansed_Bijlmer-Centrum',\n",
              "       'neighbourhood_cleansed_Bijlmer-Oost',\n",
              "       'neighbourhood_cleansed_Bos en Lommer',\n",
              "       'neighbourhood_cleansed_Buitenveldert - Zuidas',\n",
              "       'neighbourhood_cleansed_Centrum-Oost',\n",
              "       'neighbourhood_cleansed_Centrum-West',\n",
              "       'neighbourhood_cleansed_De Aker - Nieuw Sloten',\n",
              "       'neighbourhood_cleansed_De Baarsjes - Oud-West',\n",
              "       'neighbourhood_cleansed_De Pijp - Rivierenbuurt',\n",
              "       'neighbourhood_cleansed_Gaasperdam - Driemond',\n",
              "       'neighbourhood_cleansed_Geuzenveld - Slotermeer',\n",
              "       'neighbourhood_cleansed_IJburg - Zeeburgereiland',\n",
              "       'neighbourhood_cleansed_Noord-Oost',\n",
              "       'neighbourhood_cleansed_Noord-West',\n",
              "       'neighbourhood_cleansed_Oostelijk Havengebied - Indische Buurt',\n",
              "       'neighbourhood_cleansed_Osdorp', 'neighbourhood_cleansed_Oud-Noord',\n",
              "       'neighbourhood_cleansed_Oud-Oost', 'neighbourhood_cleansed_Slotervaart',\n",
              "       'neighbourhood_cleansed_Watergraafsmeer',\n",
              "       'neighbourhood_cleansed_Westerpark', 'neighbourhood_cleansed_Zuid',\n",
              "       'room_type_Entire home/apt', 'room_type_Hotel room',\n",
              "       'room_type_Private room', 'room_type_Shared room',\n",
              "       'have_license_Exempt', 'have_license_NoLicense', 'have_license_Yes'],\n",
              "      dtype='object')"
            ]
          },
          "metadata": {},
          "execution_count": 195
        }
      ]
    },
    {
      "cell_type": "code",
      "source": [
        "df_listings_dum"
      ],
      "metadata": {
        "colab": {
          "base_uri": "https://localhost:8080/",
          "height": 505
        },
        "id": "gUhfHiIbc-8H",
        "outputId": "17e2e857-d319-41bd-8daf-de04a88c9480"
      },
      "execution_count": null,
      "outputs": [
        {
          "output_type": "execute_result",
          "data": {
            "text/plain": [
              "      accommodates  minimum_nights  instant_bookable  price_log  \\\n",
              "2                2               2                 1   4.919981   \n",
              "5                4               3                 0   5.484797   \n",
              "8                4               3                 0   5.525453   \n",
              "9                4               3                 0   5.407172   \n",
              "8                2               3                 0   5.525453   \n",
              "...            ...             ...               ...        ...   \n",
              "6388             2               2                 1   5.170484   \n",
              "6389             6               4                 1   6.447306   \n",
              "6390             6               5                 1   5.929589   \n",
              "6391             3               2                 1   5.501258   \n",
              "6392             6               3                 0   6.061457   \n",
              "\n",
              "      count_amenities  neighbourhood_cleansed_Bijlmer-Centrum  \\\n",
              "2                  44                                       0   \n",
              "5                  33                                       0   \n",
              "8                  16                                       0   \n",
              "9                  23                                       0   \n",
              "8                  46                                       0   \n",
              "...               ...                                     ...   \n",
              "6388               20                                       0   \n",
              "6389               70                                       0   \n",
              "6390                9                                       0   \n",
              "6391               26                                       0   \n",
              "6392               41                                       0   \n",
              "\n",
              "      neighbourhood_cleansed_Bijlmer-Oost  \\\n",
              "2                                       0   \n",
              "5                                       0   \n",
              "8                                       0   \n",
              "9                                       0   \n",
              "8                                       0   \n",
              "...                                   ...   \n",
              "6388                                    0   \n",
              "6389                                    0   \n",
              "6390                                    0   \n",
              "6391                                    0   \n",
              "6392                                    0   \n",
              "\n",
              "      neighbourhood_cleansed_Bos en Lommer  \\\n",
              "2                                        0   \n",
              "5                                        0   \n",
              "8                                        0   \n",
              "9                                        0   \n",
              "8                                        0   \n",
              "...                                    ...   \n",
              "6388                                     0   \n",
              "6389                                     0   \n",
              "6390                                     0   \n",
              "6391                                     0   \n",
              "6392                                     0   \n",
              "\n",
              "      neighbourhood_cleansed_Buitenveldert - Zuidas  \\\n",
              "2                                                 0   \n",
              "5                                                 0   \n",
              "8                                                 0   \n",
              "9                                                 0   \n",
              "8                                                 0   \n",
              "...                                             ...   \n",
              "6388                                              0   \n",
              "6389                                              0   \n",
              "6390                                              0   \n",
              "6391                                              0   \n",
              "6392                                              0   \n",
              "\n",
              "      neighbourhood_cleansed_Centrum-Oost  ...  \\\n",
              "2                                       0  ...   \n",
              "5                                       1  ...   \n",
              "8                                       0  ...   \n",
              "9                                       0  ...   \n",
              "8                                       1  ...   \n",
              "...                                   ...  ...   \n",
              "6388                                    0  ...   \n",
              "6389                                    0  ...   \n",
              "6390                                    0  ...   \n",
              "6391                                    0  ...   \n",
              "6392                                    0  ...   \n",
              "\n",
              "      neighbourhood_cleansed_Watergraafsmeer  \\\n",
              "2                                          0   \n",
              "5                                          0   \n",
              "8                                          0   \n",
              "9                                          0   \n",
              "8                                          0   \n",
              "...                                      ...   \n",
              "6388                                       0   \n",
              "6389                                       0   \n",
              "6390                                       0   \n",
              "6391                                       0   \n",
              "6392                                       0   \n",
              "\n",
              "      neighbourhood_cleansed_Westerpark  neighbourhood_cleansed_Zuid  \\\n",
              "2                                     0                            0   \n",
              "5                                     0                            0   \n",
              "8                                     0                            0   \n",
              "9                                     0                            0   \n",
              "8                                     0                            0   \n",
              "...                                 ...                          ...   \n",
              "6388                                  1                            0   \n",
              "6389                                  0                            0   \n",
              "6390                                  0                            0   \n",
              "6391                                  0                            1   \n",
              "6392                                  0                            0   \n",
              "\n",
              "      room_type_Entire home/apt  room_type_Hotel room  room_type_Private room  \\\n",
              "2                             0                     0                       1   \n",
              "5                             1                     0                       0   \n",
              "8                             1                     0                       0   \n",
              "9                             1                     0                       0   \n",
              "8                             1                     0                       0   \n",
              "...                         ...                   ...                     ...   \n",
              "6388                          1                     0                       0   \n",
              "6389                          0                     0                       1   \n",
              "6390                          1                     0                       0   \n",
              "6391                          1                     0                       0   \n",
              "6392                          1                     0                       0   \n",
              "\n",
              "      room_type_Shared room  have_license_Exempt  have_license_NoLicense  \\\n",
              "2                         0                    0                       0   \n",
              "5                         0                    0                       0   \n",
              "8                         0                    0                       0   \n",
              "9                         0                    0                       0   \n",
              "8                         0                    0                       0   \n",
              "...                     ...                  ...                     ...   \n",
              "6388                      0                    0                       0   \n",
              "6389                      0                    0                       0   \n",
              "6390                      0                    0                       0   \n",
              "6391                      0                    0                       0   \n",
              "6392                      0                    0                       0   \n",
              "\n",
              "      have_license_Yes  \n",
              "2                    1  \n",
              "5                    1  \n",
              "8                    1  \n",
              "9                    1  \n",
              "8                    1  \n",
              "...                ...  \n",
              "6388                 1  \n",
              "6389                 1  \n",
              "6390                 1  \n",
              "6391                 1  \n",
              "6392                 1  \n",
              "\n",
              "[5627 rows x 34 columns]"
            ],
            "text/html": [
              "\n",
              "  <div id=\"df-ddd10825-88fa-46b7-aa81-e20504633edc\">\n",
              "    <div class=\"colab-df-container\">\n",
              "      <div>\n",
              "<style scoped>\n",
              "    .dataframe tbody tr th:only-of-type {\n",
              "        vertical-align: middle;\n",
              "    }\n",
              "\n",
              "    .dataframe tbody tr th {\n",
              "        vertical-align: top;\n",
              "    }\n",
              "\n",
              "    .dataframe thead th {\n",
              "        text-align: right;\n",
              "    }\n",
              "</style>\n",
              "<table border=\"1\" class=\"dataframe\">\n",
              "  <thead>\n",
              "    <tr style=\"text-align: right;\">\n",
              "      <th></th>\n",
              "      <th>accommodates</th>\n",
              "      <th>minimum_nights</th>\n",
              "      <th>instant_bookable</th>\n",
              "      <th>price_log</th>\n",
              "      <th>count_amenities</th>\n",
              "      <th>neighbourhood_cleansed_Bijlmer-Centrum</th>\n",
              "      <th>neighbourhood_cleansed_Bijlmer-Oost</th>\n",
              "      <th>neighbourhood_cleansed_Bos en Lommer</th>\n",
              "      <th>neighbourhood_cleansed_Buitenveldert - Zuidas</th>\n",
              "      <th>neighbourhood_cleansed_Centrum-Oost</th>\n",
              "      <th>...</th>\n",
              "      <th>neighbourhood_cleansed_Watergraafsmeer</th>\n",
              "      <th>neighbourhood_cleansed_Westerpark</th>\n",
              "      <th>neighbourhood_cleansed_Zuid</th>\n",
              "      <th>room_type_Entire home/apt</th>\n",
              "      <th>room_type_Hotel room</th>\n",
              "      <th>room_type_Private room</th>\n",
              "      <th>room_type_Shared room</th>\n",
              "      <th>have_license_Exempt</th>\n",
              "      <th>have_license_NoLicense</th>\n",
              "      <th>have_license_Yes</th>\n",
              "    </tr>\n",
              "  </thead>\n",
              "  <tbody>\n",
              "    <tr>\n",
              "      <th>2</th>\n",
              "      <td>2</td>\n",
              "      <td>2</td>\n",
              "      <td>1</td>\n",
              "      <td>4.919981</td>\n",
              "      <td>44</td>\n",
              "      <td>0</td>\n",
              "      <td>0</td>\n",
              "      <td>0</td>\n",
              "      <td>0</td>\n",
              "      <td>0</td>\n",
              "      <td>...</td>\n",
              "      <td>0</td>\n",
              "      <td>0</td>\n",
              "      <td>0</td>\n",
              "      <td>0</td>\n",
              "      <td>0</td>\n",
              "      <td>1</td>\n",
              "      <td>0</td>\n",
              "      <td>0</td>\n",
              "      <td>0</td>\n",
              "      <td>1</td>\n",
              "    </tr>\n",
              "    <tr>\n",
              "      <th>5</th>\n",
              "      <td>4</td>\n",
              "      <td>3</td>\n",
              "      <td>0</td>\n",
              "      <td>5.484797</td>\n",
              "      <td>33</td>\n",
              "      <td>0</td>\n",
              "      <td>0</td>\n",
              "      <td>0</td>\n",
              "      <td>0</td>\n",
              "      <td>1</td>\n",
              "      <td>...</td>\n",
              "      <td>0</td>\n",
              "      <td>0</td>\n",
              "      <td>0</td>\n",
              "      <td>1</td>\n",
              "      <td>0</td>\n",
              "      <td>0</td>\n",
              "      <td>0</td>\n",
              "      <td>0</td>\n",
              "      <td>0</td>\n",
              "      <td>1</td>\n",
              "    </tr>\n",
              "    <tr>\n",
              "      <th>8</th>\n",
              "      <td>4</td>\n",
              "      <td>3</td>\n",
              "      <td>0</td>\n",
              "      <td>5.525453</td>\n",
              "      <td>16</td>\n",
              "      <td>0</td>\n",
              "      <td>0</td>\n",
              "      <td>0</td>\n",
              "      <td>0</td>\n",
              "      <td>0</td>\n",
              "      <td>...</td>\n",
              "      <td>0</td>\n",
              "      <td>0</td>\n",
              "      <td>0</td>\n",
              "      <td>1</td>\n",
              "      <td>0</td>\n",
              "      <td>0</td>\n",
              "      <td>0</td>\n",
              "      <td>0</td>\n",
              "      <td>0</td>\n",
              "      <td>1</td>\n",
              "    </tr>\n",
              "    <tr>\n",
              "      <th>9</th>\n",
              "      <td>4</td>\n",
              "      <td>3</td>\n",
              "      <td>0</td>\n",
              "      <td>5.407172</td>\n",
              "      <td>23</td>\n",
              "      <td>0</td>\n",
              "      <td>0</td>\n",
              "      <td>0</td>\n",
              "      <td>0</td>\n",
              "      <td>0</td>\n",
              "      <td>...</td>\n",
              "      <td>0</td>\n",
              "      <td>0</td>\n",
              "      <td>0</td>\n",
              "      <td>1</td>\n",
              "      <td>0</td>\n",
              "      <td>0</td>\n",
              "      <td>0</td>\n",
              "      <td>0</td>\n",
              "      <td>0</td>\n",
              "      <td>1</td>\n",
              "    </tr>\n",
              "    <tr>\n",
              "      <th>8</th>\n",
              "      <td>2</td>\n",
              "      <td>3</td>\n",
              "      <td>0</td>\n",
              "      <td>5.525453</td>\n",
              "      <td>46</td>\n",
              "      <td>0</td>\n",
              "      <td>0</td>\n",
              "      <td>0</td>\n",
              "      <td>0</td>\n",
              "      <td>1</td>\n",
              "      <td>...</td>\n",
              "      <td>0</td>\n",
              "      <td>0</td>\n",
              "      <td>0</td>\n",
              "      <td>1</td>\n",
              "      <td>0</td>\n",
              "      <td>0</td>\n",
              "      <td>0</td>\n",
              "      <td>0</td>\n",
              "      <td>0</td>\n",
              "      <td>1</td>\n",
              "    </tr>\n",
              "    <tr>\n",
              "      <th>...</th>\n",
              "      <td>...</td>\n",
              "      <td>...</td>\n",
              "      <td>...</td>\n",
              "      <td>...</td>\n",
              "      <td>...</td>\n",
              "      <td>...</td>\n",
              "      <td>...</td>\n",
              "      <td>...</td>\n",
              "      <td>...</td>\n",
              "      <td>...</td>\n",
              "      <td>...</td>\n",
              "      <td>...</td>\n",
              "      <td>...</td>\n",
              "      <td>...</td>\n",
              "      <td>...</td>\n",
              "      <td>...</td>\n",
              "      <td>...</td>\n",
              "      <td>...</td>\n",
              "      <td>...</td>\n",
              "      <td>...</td>\n",
              "      <td>...</td>\n",
              "    </tr>\n",
              "    <tr>\n",
              "      <th>6388</th>\n",
              "      <td>2</td>\n",
              "      <td>2</td>\n",
              "      <td>1</td>\n",
              "      <td>5.170484</td>\n",
              "      <td>20</td>\n",
              "      <td>0</td>\n",
              "      <td>0</td>\n",
              "      <td>0</td>\n",
              "      <td>0</td>\n",
              "      <td>0</td>\n",
              "      <td>...</td>\n",
              "      <td>0</td>\n",
              "      <td>1</td>\n",
              "      <td>0</td>\n",
              "      <td>1</td>\n",
              "      <td>0</td>\n",
              "      <td>0</td>\n",
              "      <td>0</td>\n",
              "      <td>0</td>\n",
              "      <td>0</td>\n",
              "      <td>1</td>\n",
              "    </tr>\n",
              "    <tr>\n",
              "      <th>6389</th>\n",
              "      <td>6</td>\n",
              "      <td>4</td>\n",
              "      <td>1</td>\n",
              "      <td>6.447306</td>\n",
              "      <td>70</td>\n",
              "      <td>0</td>\n",
              "      <td>0</td>\n",
              "      <td>0</td>\n",
              "      <td>0</td>\n",
              "      <td>0</td>\n",
              "      <td>...</td>\n",
              "      <td>0</td>\n",
              "      <td>0</td>\n",
              "      <td>0</td>\n",
              "      <td>0</td>\n",
              "      <td>0</td>\n",
              "      <td>1</td>\n",
              "      <td>0</td>\n",
              "      <td>0</td>\n",
              "      <td>0</td>\n",
              "      <td>1</td>\n",
              "    </tr>\n",
              "    <tr>\n",
              "      <th>6390</th>\n",
              "      <td>6</td>\n",
              "      <td>5</td>\n",
              "      <td>1</td>\n",
              "      <td>5.929589</td>\n",
              "      <td>9</td>\n",
              "      <td>0</td>\n",
              "      <td>0</td>\n",
              "      <td>0</td>\n",
              "      <td>0</td>\n",
              "      <td>0</td>\n",
              "      <td>...</td>\n",
              "      <td>0</td>\n",
              "      <td>0</td>\n",
              "      <td>0</td>\n",
              "      <td>1</td>\n",
              "      <td>0</td>\n",
              "      <td>0</td>\n",
              "      <td>0</td>\n",
              "      <td>0</td>\n",
              "      <td>0</td>\n",
              "      <td>1</td>\n",
              "    </tr>\n",
              "    <tr>\n",
              "      <th>6391</th>\n",
              "      <td>3</td>\n",
              "      <td>2</td>\n",
              "      <td>1</td>\n",
              "      <td>5.501258</td>\n",
              "      <td>26</td>\n",
              "      <td>0</td>\n",
              "      <td>0</td>\n",
              "      <td>0</td>\n",
              "      <td>0</td>\n",
              "      <td>0</td>\n",
              "      <td>...</td>\n",
              "      <td>0</td>\n",
              "      <td>0</td>\n",
              "      <td>1</td>\n",
              "      <td>1</td>\n",
              "      <td>0</td>\n",
              "      <td>0</td>\n",
              "      <td>0</td>\n",
              "      <td>0</td>\n",
              "      <td>0</td>\n",
              "      <td>1</td>\n",
              "    </tr>\n",
              "    <tr>\n",
              "      <th>6392</th>\n",
              "      <td>6</td>\n",
              "      <td>3</td>\n",
              "      <td>0</td>\n",
              "      <td>6.061457</td>\n",
              "      <td>41</td>\n",
              "      <td>0</td>\n",
              "      <td>0</td>\n",
              "      <td>0</td>\n",
              "      <td>0</td>\n",
              "      <td>0</td>\n",
              "      <td>...</td>\n",
              "      <td>0</td>\n",
              "      <td>0</td>\n",
              "      <td>0</td>\n",
              "      <td>1</td>\n",
              "      <td>0</td>\n",
              "      <td>0</td>\n",
              "      <td>0</td>\n",
              "      <td>0</td>\n",
              "      <td>0</td>\n",
              "      <td>1</td>\n",
              "    </tr>\n",
              "  </tbody>\n",
              "</table>\n",
              "<p>5627 rows × 34 columns</p>\n",
              "</div>\n",
              "      <button class=\"colab-df-convert\" onclick=\"convertToInteractive('df-ddd10825-88fa-46b7-aa81-e20504633edc')\"\n",
              "              title=\"Convert this dataframe to an interactive table.\"\n",
              "              style=\"display:none;\">\n",
              "        \n",
              "  <svg xmlns=\"http://www.w3.org/2000/svg\" height=\"24px\"viewBox=\"0 0 24 24\"\n",
              "       width=\"24px\">\n",
              "    <path d=\"M0 0h24v24H0V0z\" fill=\"none\"/>\n",
              "    <path d=\"M18.56 5.44l.94 2.06.94-2.06 2.06-.94-2.06-.94-.94-2.06-.94 2.06-2.06.94zm-11 1L8.5 8.5l.94-2.06 2.06-.94-2.06-.94L8.5 2.5l-.94 2.06-2.06.94zm10 10l.94 2.06.94-2.06 2.06-.94-2.06-.94-.94-2.06-.94 2.06-2.06.94z\"/><path d=\"M17.41 7.96l-1.37-1.37c-.4-.4-.92-.59-1.43-.59-.52 0-1.04.2-1.43.59L10.3 9.45l-7.72 7.72c-.78.78-.78 2.05 0 2.83L4 21.41c.39.39.9.59 1.41.59.51 0 1.02-.2 1.41-.59l7.78-7.78 2.81-2.81c.8-.78.8-2.07 0-2.86zM5.41 20L4 18.59l7.72-7.72 1.47 1.35L5.41 20z\"/>\n",
              "  </svg>\n",
              "      </button>\n",
              "      \n",
              "  <style>\n",
              "    .colab-df-container {\n",
              "      display:flex;\n",
              "      flex-wrap:wrap;\n",
              "      gap: 12px;\n",
              "    }\n",
              "\n",
              "    .colab-df-convert {\n",
              "      background-color: #E8F0FE;\n",
              "      border: none;\n",
              "      border-radius: 50%;\n",
              "      cursor: pointer;\n",
              "      display: none;\n",
              "      fill: #1967D2;\n",
              "      height: 32px;\n",
              "      padding: 0 0 0 0;\n",
              "      width: 32px;\n",
              "    }\n",
              "\n",
              "    .colab-df-convert:hover {\n",
              "      background-color: #E2EBFA;\n",
              "      box-shadow: 0px 1px 2px rgba(60, 64, 67, 0.3), 0px 1px 3px 1px rgba(60, 64, 67, 0.15);\n",
              "      fill: #174EA6;\n",
              "    }\n",
              "\n",
              "    [theme=dark] .colab-df-convert {\n",
              "      background-color: #3B4455;\n",
              "      fill: #D2E3FC;\n",
              "    }\n",
              "\n",
              "    [theme=dark] .colab-df-convert:hover {\n",
              "      background-color: #434B5C;\n",
              "      box-shadow: 0px 1px 3px 1px rgba(0, 0, 0, 0.15);\n",
              "      filter: drop-shadow(0px 1px 2px rgba(0, 0, 0, 0.3));\n",
              "      fill: #FFFFFF;\n",
              "    }\n",
              "  </style>\n",
              "\n",
              "      <script>\n",
              "        const buttonEl =\n",
              "          document.querySelector('#df-ddd10825-88fa-46b7-aa81-e20504633edc button.colab-df-convert');\n",
              "        buttonEl.style.display =\n",
              "          google.colab.kernel.accessAllowed ? 'block' : 'none';\n",
              "\n",
              "        async function convertToInteractive(key) {\n",
              "          const element = document.querySelector('#df-ddd10825-88fa-46b7-aa81-e20504633edc');\n",
              "          const dataTable =\n",
              "            await google.colab.kernel.invokeFunction('convertToInteractive',\n",
              "                                                     [key], {});\n",
              "          if (!dataTable) return;\n",
              "\n",
              "          const docLinkHtml = 'Like what you see? Visit the ' +\n",
              "            '<a target=\"_blank\" href=https://colab.research.google.com/notebooks/data_table.ipynb>data table notebook</a>'\n",
              "            + ' to learn more about interactive tables.';\n",
              "          element.innerHTML = '';\n",
              "          dataTable['output_type'] = 'display_data';\n",
              "          await google.colab.output.renderOutput(dataTable, element);\n",
              "          const docLink = document.createElement('div');\n",
              "          docLink.innerHTML = docLinkHtml;\n",
              "          element.appendChild(docLink);\n",
              "        }\n",
              "      </script>\n",
              "    </div>\n",
              "  </div>\n",
              "  "
            ]
          },
          "metadata": {},
          "execution_count": 196
        }
      ]
    },
    {
      "cell_type": "code",
      "source": [
        "#df_listings_dum = pd.get_dummies(df_listings_dum, columns=['host_response_time'], dummy_na=False)\n",
        "#df_listings_dum = pd.get_dummies(df_listings_dum, columns=['neighbourhood_cleansed'], dummy_na=False)\n",
        "#df_listings_dum = pd.get_dummies(df_listings_dum, columns=['property_type'], dummy_na=False)\n",
        "#df_listings_dum = pd.get_dummies(df_listings_dum, columns=['room_type'], dummy_na=False)\n",
        "#df_listings_dum = pd.get_dummies(df_listings_dum, columns=['bathrooms_type'], dummy_na=False)\n",
        "#df_listings_dum = pd.get_dummies(df_listings_dum, columns=['source'], dummy_na=False)\n",
        "#df_listings_dum = pd.get_dummies(df_listings_dum, columns=['have_license'], dummy_na=False)\n",
        "#df_listings_dum = pd.get_dummies(df_listings_dum, columns=['host_identity_verified'], dummy_na=False)\n",
        "#df_listings_dum = pd.get_dummies(df_listings_dum, columns=['has_availability'], dummy_na=False)\n",
        "#df_listings_dum = pd.get_dummies(df_listings_dum, columns=['instant_bookable'], dummy_na=False)"
      ],
      "metadata": {
        "id": "hT8eBXl8zbai"
      },
      "execution_count": null,
      "outputs": []
    },
    {
      "cell_type": "code",
      "source": [
        "#df_listings_dum"
      ],
      "metadata": {
        "id": "DZTcWmTL3U5u"
      },
      "execution_count": null,
      "outputs": []
    },
    {
      "cell_type": "code",
      "source": [
        "#df_listings_dum.head()"
      ],
      "metadata": {
        "id": "AunAmi1h2SvA"
      },
      "execution_count": null,
      "outputs": []
    },
    {
      "cell_type": "code",
      "source": [
        "#cols_en = ['host_response_time','neighbourhood_cleansed','property_type','room_type','bathrooms_type','source',\n",
        " #          'have_license','host_is_superhost','host_identity_verified','has_availability','instant_bookable']\n",
        "\n",
        "# Encode Categorical Columns\n",
        "#le = LabelEncoder()\n",
        "#df_listings[cols_en] = df_listings[cols_en].apply(le.fit_transform)"
      ],
      "metadata": {
        "id": "t2ipDN1Tassn"
      },
      "execution_count": null,
      "outputs": []
    },
    {
      "cell_type": "code",
      "source": [
        "#df_listings"
      ],
      "metadata": {
        "id": "AO8LGd26Zc-Z"
      },
      "execution_count": null,
      "outputs": []
    },
    {
      "cell_type": "code",
      "source": [
        "#df_listings.info()"
      ],
      "metadata": {
        "id": "h5zv1vZFuZZP"
      },
      "execution_count": null,
      "outputs": []
    },
    {
      "cell_type": "markdown",
      "source": [
        "## Manual Feature Selection"
      ],
      "metadata": {
        "id": "6kiZ5LplvG4a"
      }
    },
    {
      "cell_type": "code",
      "source": [
        "#df_listings.columns"
      ],
      "metadata": {
        "id": "55Sr-kCYYn0f"
      },
      "execution_count": null,
      "outputs": []
    },
    {
      "cell_type": "code",
      "source": [
        "#df_listings['neighbourhood_cleansed'].value_counts()"
      ],
      "metadata": {
        "id": "Jg9NE6EdYy80"
      },
      "execution_count": null,
      "outputs": []
    },
    {
      "cell_type": "code",
      "source": [
        "#df_listings['room_type'].value_counts()"
      ],
      "metadata": {
        "id": "1iBr2mphZQTw"
      },
      "execution_count": null,
      "outputs": []
    },
    {
      "cell_type": "code",
      "source": [
        "#df_listings_fs1 = df_listings[['price_log','neighbourhood_cleansed','property_type','room_type','beds','minimum_nights','has_availability',\n",
        "#                              'review_scores_rating','instant_bookable','isAmsterdam','bathrooms','bathrooms_type',\n",
        "#                              'have_license','count_amenities']].copy()\n",
        "\n",
        "#df_listings_fs1.shape"
      ],
      "metadata": {
        "id": "y8MmE8-EZGDN"
      },
      "execution_count": null,
      "outputs": []
    },
    {
      "cell_type": "code",
      "source": [
        "#df_listings_fs = df_listings[['price_log','room_type','accommodates','bedrooms','beds','minimum_nights','has_availability',\n",
        "#                              'review_scores_rating','instant_bookable','isAmsterdam','bathrooms','bathrooms_type',\n",
        "#                              'have_license','count_amenities']].copy()\n",
        "\n",
        "#df_listings_fs.shape"
      ],
      "metadata": {
        "id": "UCnx7RhmvLdw"
      },
      "execution_count": null,
      "outputs": []
    },
    {
      "cell_type": "code",
      "source": [
        "#df_listings_fs.head()"
      ],
      "metadata": {
        "id": "5UCFPlqJ1ict"
      },
      "execution_count": null,
      "outputs": []
    },
    {
      "cell_type": "markdown",
      "source": [
        "## Correlation"
      ],
      "metadata": {
        "id": "lKkp6FtHwvns"
      }
    },
    {
      "cell_type": "code",
      "source": [
        "# cor = df_listings_dum.corr()\n",
        "# plt.figure(figsize=(30,20))\n",
        "# sns.heatmap(cor, cmap=plt.cm.CMRmap_r,annot=True)\n",
        "# plt.show()"
      ],
      "metadata": {
        "colab": {
          "base_uri": "https://localhost:8080/",
          "height": 380
        },
        "id": "aiyvzWNkjybb",
        "outputId": "ed7fd2d1-24da-45dd-c011-ebf0b1886888"
      },
      "execution_count": null,
      "outputs": [
        {
          "output_type": "error",
          "ename": "KeyboardInterrupt",
          "evalue": "ignored",
          "traceback": [
            "\u001b[0;31m---------------------------------------------------------------------------\u001b[0m",
            "\u001b[0;31mKeyboardInterrupt\u001b[0m                         Traceback (most recent call last)",
            "\u001b[0;32m<ipython-input-134-231f6ab2ff4d>\u001b[0m in \u001b[0;36m<module>\u001b[0;34m\u001b[0m\n\u001b[1;32m      2\u001b[0m \u001b[0mplt\u001b[0m\u001b[0;34m.\u001b[0m\u001b[0mfigure\u001b[0m\u001b[0;34m(\u001b[0m\u001b[0mfigsize\u001b[0m\u001b[0;34m=\u001b[0m\u001b[0;34m(\u001b[0m\u001b[0;36m30\u001b[0m\u001b[0;34m,\u001b[0m\u001b[0;36m20\u001b[0m\u001b[0;34m)\u001b[0m\u001b[0;34m)\u001b[0m\u001b[0;34m\u001b[0m\u001b[0;34m\u001b[0m\u001b[0m\n\u001b[1;32m      3\u001b[0m \u001b[0msns\u001b[0m\u001b[0;34m.\u001b[0m\u001b[0mheatmap\u001b[0m\u001b[0;34m(\u001b[0m\u001b[0mcor\u001b[0m\u001b[0;34m,\u001b[0m \u001b[0mcmap\u001b[0m\u001b[0;34m=\u001b[0m\u001b[0mplt\u001b[0m\u001b[0;34m.\u001b[0m\u001b[0mcm\u001b[0m\u001b[0;34m.\u001b[0m\u001b[0mCMRmap_r\u001b[0m\u001b[0;34m,\u001b[0m\u001b[0mannot\u001b[0m\u001b[0;34m=\u001b[0m\u001b[0;32mTrue\u001b[0m\u001b[0;34m)\u001b[0m\u001b[0;34m\u001b[0m\u001b[0;34m\u001b[0m\u001b[0m\n\u001b[0;32m----> 4\u001b[0;31m \u001b[0mplt\u001b[0m\u001b[0;34m.\u001b[0m\u001b[0mshow\u001b[0m\u001b[0;34m(\u001b[0m\u001b[0;34m)\u001b[0m\u001b[0;34m\u001b[0m\u001b[0;34m\u001b[0m\u001b[0m\n\u001b[0m",
            "\u001b[0;32m/usr/local/lib/python3.7/dist-packages/matplotlib/pyplot.py\u001b[0m in \u001b[0;36mshow\u001b[0;34m(*args, **kw)\u001b[0m\n\u001b[1;32m    270\u001b[0m     \"\"\"\n\u001b[1;32m    271\u001b[0m     \u001b[0;32mglobal\u001b[0m \u001b[0m_show\u001b[0m\u001b[0;34m\u001b[0m\u001b[0;34m\u001b[0m\u001b[0m\n\u001b[0;32m--> 272\u001b[0;31m     \u001b[0;32mreturn\u001b[0m \u001b[0m_show\u001b[0m\u001b[0;34m(\u001b[0m\u001b[0;34m*\u001b[0m\u001b[0margs\u001b[0m\u001b[0;34m,\u001b[0m \u001b[0;34m**\u001b[0m\u001b[0mkw\u001b[0m\u001b[0;34m)\u001b[0m\u001b[0;34m\u001b[0m\u001b[0;34m\u001b[0m\u001b[0m\n\u001b[0m\u001b[1;32m    273\u001b[0m \u001b[0;34m\u001b[0m\u001b[0m\n\u001b[1;32m    274\u001b[0m \u001b[0;34m\u001b[0m\u001b[0m\n",
            "\u001b[0;32m/usr/local/lib/python3.7/dist-packages/ipykernel/pylab/backend_inline.py\u001b[0m in \u001b[0;36mshow\u001b[0;34m(close, block)\u001b[0m\n\u001b[1;32m     41\u001b[0m             display(\n\u001b[1;32m     42\u001b[0m                 \u001b[0mfigure_manager\u001b[0m\u001b[0;34m.\u001b[0m\u001b[0mcanvas\u001b[0m\u001b[0;34m.\u001b[0m\u001b[0mfigure\u001b[0m\u001b[0;34m,\u001b[0m\u001b[0;34m\u001b[0m\u001b[0;34m\u001b[0m\u001b[0m\n\u001b[0;32m---> 43\u001b[0;31m                 \u001b[0mmetadata\u001b[0m\u001b[0;34m=\u001b[0m\u001b[0m_fetch_figure_metadata\u001b[0m\u001b[0;34m(\u001b[0m\u001b[0mfigure_manager\u001b[0m\u001b[0;34m.\u001b[0m\u001b[0mcanvas\u001b[0m\u001b[0;34m.\u001b[0m\u001b[0mfigure\u001b[0m\u001b[0;34m)\u001b[0m\u001b[0;34m\u001b[0m\u001b[0;34m\u001b[0m\u001b[0m\n\u001b[0m\u001b[1;32m     44\u001b[0m             )\n\u001b[1;32m     45\u001b[0m     \u001b[0;32mfinally\u001b[0m\u001b[0;34m:\u001b[0m\u001b[0;34m\u001b[0m\u001b[0;34m\u001b[0m\u001b[0m\n",
            "\u001b[0;32m/usr/local/lib/python3.7/dist-packages/IPython/core/display.py\u001b[0m in \u001b[0;36mdisplay\u001b[0;34m(include, exclude, metadata, transient, display_id, *objs, **kwargs)\u001b[0m\n\u001b[1;32m    311\u001b[0m             \u001b[0mpublish_display_data\u001b[0m\u001b[0;34m(\u001b[0m\u001b[0mdata\u001b[0m\u001b[0;34m=\u001b[0m\u001b[0mobj\u001b[0m\u001b[0;34m,\u001b[0m \u001b[0mmetadata\u001b[0m\u001b[0;34m=\u001b[0m\u001b[0mmetadata\u001b[0m\u001b[0;34m,\u001b[0m \u001b[0;34m**\u001b[0m\u001b[0mkwargs\u001b[0m\u001b[0;34m)\u001b[0m\u001b[0;34m\u001b[0m\u001b[0;34m\u001b[0m\u001b[0m\n\u001b[1;32m    312\u001b[0m         \u001b[0;32melse\u001b[0m\u001b[0;34m:\u001b[0m\u001b[0;34m\u001b[0m\u001b[0;34m\u001b[0m\u001b[0m\n\u001b[0;32m--> 313\u001b[0;31m             \u001b[0mformat_dict\u001b[0m\u001b[0;34m,\u001b[0m \u001b[0mmd_dict\u001b[0m \u001b[0;34m=\u001b[0m \u001b[0mformat\u001b[0m\u001b[0;34m(\u001b[0m\u001b[0mobj\u001b[0m\u001b[0;34m,\u001b[0m \u001b[0minclude\u001b[0m\u001b[0;34m=\u001b[0m\u001b[0minclude\u001b[0m\u001b[0;34m,\u001b[0m \u001b[0mexclude\u001b[0m\u001b[0;34m=\u001b[0m\u001b[0mexclude\u001b[0m\u001b[0;34m)\u001b[0m\u001b[0;34m\u001b[0m\u001b[0;34m\u001b[0m\u001b[0m\n\u001b[0m\u001b[1;32m    314\u001b[0m             \u001b[0;32mif\u001b[0m \u001b[0;32mnot\u001b[0m \u001b[0mformat_dict\u001b[0m\u001b[0;34m:\u001b[0m\u001b[0;34m\u001b[0m\u001b[0;34m\u001b[0m\u001b[0m\n\u001b[1;32m    315\u001b[0m                 \u001b[0;31m# nothing to display (e.g. _ipython_display_ took over)\u001b[0m\u001b[0;34m\u001b[0m\u001b[0;34m\u001b[0m\u001b[0;34m\u001b[0m\u001b[0m\n",
            "\u001b[0;32m/usr/local/lib/python3.7/dist-packages/IPython/core/formatters.py\u001b[0m in \u001b[0;36mformat\u001b[0;34m(self, obj, include, exclude)\u001b[0m\n\u001b[1;32m    178\u001b[0m             \u001b[0mmd\u001b[0m \u001b[0;34m=\u001b[0m \u001b[0;32mNone\u001b[0m\u001b[0;34m\u001b[0m\u001b[0;34m\u001b[0m\u001b[0m\n\u001b[1;32m    179\u001b[0m             \u001b[0;32mtry\u001b[0m\u001b[0;34m:\u001b[0m\u001b[0;34m\u001b[0m\u001b[0;34m\u001b[0m\u001b[0m\n\u001b[0;32m--> 180\u001b[0;31m                 \u001b[0mdata\u001b[0m \u001b[0;34m=\u001b[0m \u001b[0mformatter\u001b[0m\u001b[0;34m(\u001b[0m\u001b[0mobj\u001b[0m\u001b[0;34m)\u001b[0m\u001b[0;34m\u001b[0m\u001b[0;34m\u001b[0m\u001b[0m\n\u001b[0m\u001b[1;32m    181\u001b[0m             \u001b[0;32mexcept\u001b[0m\u001b[0;34m:\u001b[0m\u001b[0;34m\u001b[0m\u001b[0;34m\u001b[0m\u001b[0m\n\u001b[1;32m    182\u001b[0m                 \u001b[0;31m# FIXME: log the exception\u001b[0m\u001b[0;34m\u001b[0m\u001b[0;34m\u001b[0m\u001b[0;34m\u001b[0m\u001b[0m\n",
            "\u001b[0;32m<decorator-gen-2>\u001b[0m in \u001b[0;36m__call__\u001b[0;34m(self, obj)\u001b[0m\n",
            "\u001b[0;32m/usr/local/lib/python3.7/dist-packages/IPython/core/formatters.py\u001b[0m in \u001b[0;36mcatch_format_error\u001b[0;34m(method, self, *args, **kwargs)\u001b[0m\n\u001b[1;32m    222\u001b[0m     \u001b[0;34m\"\"\"show traceback on failed format call\"\"\"\u001b[0m\u001b[0;34m\u001b[0m\u001b[0;34m\u001b[0m\u001b[0m\n\u001b[1;32m    223\u001b[0m     \u001b[0;32mtry\u001b[0m\u001b[0;34m:\u001b[0m\u001b[0;34m\u001b[0m\u001b[0;34m\u001b[0m\u001b[0m\n\u001b[0;32m--> 224\u001b[0;31m         \u001b[0mr\u001b[0m \u001b[0;34m=\u001b[0m \u001b[0mmethod\u001b[0m\u001b[0;34m(\u001b[0m\u001b[0mself\u001b[0m\u001b[0;34m,\u001b[0m \u001b[0;34m*\u001b[0m\u001b[0margs\u001b[0m\u001b[0;34m,\u001b[0m \u001b[0;34m**\u001b[0m\u001b[0mkwargs\u001b[0m\u001b[0;34m)\u001b[0m\u001b[0;34m\u001b[0m\u001b[0;34m\u001b[0m\u001b[0m\n\u001b[0m\u001b[1;32m    225\u001b[0m     \u001b[0;32mexcept\u001b[0m \u001b[0mNotImplementedError\u001b[0m\u001b[0;34m:\u001b[0m\u001b[0;34m\u001b[0m\u001b[0;34m\u001b[0m\u001b[0m\n\u001b[1;32m    226\u001b[0m         \u001b[0;31m# don't warn on NotImplementedErrors\u001b[0m\u001b[0;34m\u001b[0m\u001b[0;34m\u001b[0m\u001b[0;34m\u001b[0m\u001b[0m\n",
            "\u001b[0;32m/usr/local/lib/python3.7/dist-packages/IPython/core/formatters.py\u001b[0m in \u001b[0;36m__call__\u001b[0;34m(self, obj)\u001b[0m\n\u001b[1;32m    339\u001b[0m                 \u001b[0;32mpass\u001b[0m\u001b[0;34m\u001b[0m\u001b[0;34m\u001b[0m\u001b[0m\n\u001b[1;32m    340\u001b[0m             \u001b[0;32melse\u001b[0m\u001b[0;34m:\u001b[0m\u001b[0;34m\u001b[0m\u001b[0;34m\u001b[0m\u001b[0m\n\u001b[0;32m--> 341\u001b[0;31m                 \u001b[0;32mreturn\u001b[0m \u001b[0mprinter\u001b[0m\u001b[0;34m(\u001b[0m\u001b[0mobj\u001b[0m\u001b[0;34m)\u001b[0m\u001b[0;34m\u001b[0m\u001b[0;34m\u001b[0m\u001b[0m\n\u001b[0m\u001b[1;32m    342\u001b[0m             \u001b[0;31m# Finally look for special method names\u001b[0m\u001b[0;34m\u001b[0m\u001b[0;34m\u001b[0m\u001b[0;34m\u001b[0m\u001b[0m\n\u001b[1;32m    343\u001b[0m             \u001b[0mmethod\u001b[0m \u001b[0;34m=\u001b[0m \u001b[0mget_real_method\u001b[0m\u001b[0;34m(\u001b[0m\u001b[0mobj\u001b[0m\u001b[0;34m,\u001b[0m \u001b[0mself\u001b[0m\u001b[0;34m.\u001b[0m\u001b[0mprint_method\u001b[0m\u001b[0;34m)\u001b[0m\u001b[0;34m\u001b[0m\u001b[0;34m\u001b[0m\u001b[0m\n",
            "\u001b[0;32m/usr/local/lib/python3.7/dist-packages/IPython/core/pylabtools.py\u001b[0m in \u001b[0;36m<lambda>\u001b[0;34m(fig)\u001b[0m\n\u001b[1;32m    242\u001b[0m \u001b[0;34m\u001b[0m\u001b[0m\n\u001b[1;32m    243\u001b[0m     \u001b[0;32mif\u001b[0m \u001b[0;34m'png'\u001b[0m \u001b[0;32min\u001b[0m \u001b[0mformats\u001b[0m\u001b[0;34m:\u001b[0m\u001b[0;34m\u001b[0m\u001b[0;34m\u001b[0m\u001b[0m\n\u001b[0;32m--> 244\u001b[0;31m         \u001b[0mpng_formatter\u001b[0m\u001b[0;34m.\u001b[0m\u001b[0mfor_type\u001b[0m\u001b[0;34m(\u001b[0m\u001b[0mFigure\u001b[0m\u001b[0;34m,\u001b[0m \u001b[0;32mlambda\u001b[0m \u001b[0mfig\u001b[0m\u001b[0;34m:\u001b[0m \u001b[0mprint_figure\u001b[0m\u001b[0;34m(\u001b[0m\u001b[0mfig\u001b[0m\u001b[0;34m,\u001b[0m \u001b[0;34m'png'\u001b[0m\u001b[0;34m,\u001b[0m \u001b[0;34m**\u001b[0m\u001b[0mkwargs\u001b[0m\u001b[0;34m)\u001b[0m\u001b[0;34m)\u001b[0m\u001b[0;34m\u001b[0m\u001b[0;34m\u001b[0m\u001b[0m\n\u001b[0m\u001b[1;32m    245\u001b[0m     \u001b[0;32mif\u001b[0m \u001b[0;34m'retina'\u001b[0m \u001b[0;32min\u001b[0m \u001b[0mformats\u001b[0m \u001b[0;32mor\u001b[0m \u001b[0;34m'png2x'\u001b[0m \u001b[0;32min\u001b[0m \u001b[0mformats\u001b[0m\u001b[0;34m:\u001b[0m\u001b[0;34m\u001b[0m\u001b[0;34m\u001b[0m\u001b[0m\n\u001b[1;32m    246\u001b[0m         \u001b[0mpng_formatter\u001b[0m\u001b[0;34m.\u001b[0m\u001b[0mfor_type\u001b[0m\u001b[0;34m(\u001b[0m\u001b[0mFigure\u001b[0m\u001b[0;34m,\u001b[0m \u001b[0;32mlambda\u001b[0m \u001b[0mfig\u001b[0m\u001b[0;34m:\u001b[0m \u001b[0mretina_figure\u001b[0m\u001b[0;34m(\u001b[0m\u001b[0mfig\u001b[0m\u001b[0;34m,\u001b[0m \u001b[0;34m**\u001b[0m\u001b[0mkwargs\u001b[0m\u001b[0;34m)\u001b[0m\u001b[0;34m)\u001b[0m\u001b[0;34m\u001b[0m\u001b[0;34m\u001b[0m\u001b[0m\n",
            "\u001b[0;32m/usr/local/lib/python3.7/dist-packages/IPython/core/pylabtools.py\u001b[0m in \u001b[0;36mprint_figure\u001b[0;34m(fig, fmt, bbox_inches, **kwargs)\u001b[0m\n\u001b[1;32m    126\u001b[0m \u001b[0;34m\u001b[0m\u001b[0m\n\u001b[1;32m    127\u001b[0m     \u001b[0mbytes_io\u001b[0m \u001b[0;34m=\u001b[0m \u001b[0mBytesIO\u001b[0m\u001b[0;34m(\u001b[0m\u001b[0;34m)\u001b[0m\u001b[0;34m\u001b[0m\u001b[0;34m\u001b[0m\u001b[0m\n\u001b[0;32m--> 128\u001b[0;31m     \u001b[0mfig\u001b[0m\u001b[0;34m.\u001b[0m\u001b[0mcanvas\u001b[0m\u001b[0;34m.\u001b[0m\u001b[0mprint_figure\u001b[0m\u001b[0;34m(\u001b[0m\u001b[0mbytes_io\u001b[0m\u001b[0;34m,\u001b[0m \u001b[0;34m**\u001b[0m\u001b[0mkw\u001b[0m\u001b[0;34m)\u001b[0m\u001b[0;34m\u001b[0m\u001b[0;34m\u001b[0m\u001b[0m\n\u001b[0m\u001b[1;32m    129\u001b[0m     \u001b[0mdata\u001b[0m \u001b[0;34m=\u001b[0m \u001b[0mbytes_io\u001b[0m\u001b[0;34m.\u001b[0m\u001b[0mgetvalue\u001b[0m\u001b[0;34m(\u001b[0m\u001b[0;34m)\u001b[0m\u001b[0;34m\u001b[0m\u001b[0;34m\u001b[0m\u001b[0m\n\u001b[1;32m    130\u001b[0m     \u001b[0;32mif\u001b[0m \u001b[0mfmt\u001b[0m \u001b[0;34m==\u001b[0m \u001b[0;34m'svg'\u001b[0m\u001b[0;34m:\u001b[0m\u001b[0;34m\u001b[0m\u001b[0;34m\u001b[0m\u001b[0m\n",
            "\u001b[0;32m/usr/local/lib/python3.7/dist-packages/matplotlib/backend_bases.py\u001b[0m in \u001b[0;36mprint_figure\u001b[0;34m(self, filename, dpi, facecolor, edgecolor, orientation, format, bbox_inches, **kwargs)\u001b[0m\n\u001b[1;32m   2098\u001b[0m                            else suppress())\n\u001b[1;32m   2099\u001b[0m                     \u001b[0;32mwith\u001b[0m \u001b[0mctx\u001b[0m\u001b[0;34m:\u001b[0m\u001b[0;34m\u001b[0m\u001b[0;34m\u001b[0m\u001b[0m\n\u001b[0;32m-> 2100\u001b[0;31m                         \u001b[0mself\u001b[0m\u001b[0;34m.\u001b[0m\u001b[0mfigure\u001b[0m\u001b[0;34m.\u001b[0m\u001b[0mdraw\u001b[0m\u001b[0;34m(\u001b[0m\u001b[0mrenderer\u001b[0m\u001b[0;34m)\u001b[0m\u001b[0;34m\u001b[0m\u001b[0;34m\u001b[0m\u001b[0m\n\u001b[0m\u001b[1;32m   2101\u001b[0m                     \u001b[0mbbox_artists\u001b[0m \u001b[0;34m=\u001b[0m \u001b[0mkwargs\u001b[0m\u001b[0;34m.\u001b[0m\u001b[0mpop\u001b[0m\u001b[0;34m(\u001b[0m\u001b[0;34m\"bbox_extra_artists\"\u001b[0m\u001b[0;34m,\u001b[0m \u001b[0;32mNone\u001b[0m\u001b[0;34m)\u001b[0m\u001b[0;34m\u001b[0m\u001b[0;34m\u001b[0m\u001b[0m\n\u001b[1;32m   2102\u001b[0m                     bbox_inches = self.figure.get_tightbbox(renderer,\n",
            "\u001b[0;32m/usr/local/lib/python3.7/dist-packages/matplotlib/artist.py\u001b[0m in \u001b[0;36mdraw_wrapper\u001b[0;34m(artist, renderer, *args, **kwargs)\u001b[0m\n\u001b[1;32m     36\u001b[0m                 \u001b[0mrenderer\u001b[0m\u001b[0;34m.\u001b[0m\u001b[0mstart_filter\u001b[0m\u001b[0;34m(\u001b[0m\u001b[0;34m)\u001b[0m\u001b[0;34m\u001b[0m\u001b[0;34m\u001b[0m\u001b[0m\n\u001b[1;32m     37\u001b[0m \u001b[0;34m\u001b[0m\u001b[0m\n\u001b[0;32m---> 38\u001b[0;31m             \u001b[0;32mreturn\u001b[0m \u001b[0mdraw\u001b[0m\u001b[0;34m(\u001b[0m\u001b[0martist\u001b[0m\u001b[0;34m,\u001b[0m \u001b[0mrenderer\u001b[0m\u001b[0;34m,\u001b[0m \u001b[0;34m*\u001b[0m\u001b[0margs\u001b[0m\u001b[0;34m,\u001b[0m \u001b[0;34m**\u001b[0m\u001b[0mkwargs\u001b[0m\u001b[0;34m)\u001b[0m\u001b[0;34m\u001b[0m\u001b[0;34m\u001b[0m\u001b[0m\n\u001b[0m\u001b[1;32m     39\u001b[0m         \u001b[0;32mfinally\u001b[0m\u001b[0;34m:\u001b[0m\u001b[0;34m\u001b[0m\u001b[0;34m\u001b[0m\u001b[0m\n\u001b[1;32m     40\u001b[0m             \u001b[0;32mif\u001b[0m \u001b[0martist\u001b[0m\u001b[0;34m.\u001b[0m\u001b[0mget_agg_filter\u001b[0m\u001b[0;34m(\u001b[0m\u001b[0;34m)\u001b[0m \u001b[0;32mis\u001b[0m \u001b[0;32mnot\u001b[0m \u001b[0;32mNone\u001b[0m\u001b[0;34m:\u001b[0m\u001b[0;34m\u001b[0m\u001b[0;34m\u001b[0m\u001b[0m\n",
            "\u001b[0;32m/usr/local/lib/python3.7/dist-packages/matplotlib/figure.py\u001b[0m in \u001b[0;36mdraw\u001b[0;34m(self, renderer)\u001b[0m\n\u001b[1;32m   1734\u001b[0m             \u001b[0mself\u001b[0m\u001b[0;34m.\u001b[0m\u001b[0mpatch\u001b[0m\u001b[0;34m.\u001b[0m\u001b[0mdraw\u001b[0m\u001b[0;34m(\u001b[0m\u001b[0mrenderer\u001b[0m\u001b[0;34m)\u001b[0m\u001b[0;34m\u001b[0m\u001b[0;34m\u001b[0m\u001b[0m\n\u001b[1;32m   1735\u001b[0m             mimage._draw_list_compositing_images(\n\u001b[0;32m-> 1736\u001b[0;31m                 renderer, self, artists, self.suppressComposite)\n\u001b[0m\u001b[1;32m   1737\u001b[0m \u001b[0;34m\u001b[0m\u001b[0m\n\u001b[1;32m   1738\u001b[0m             \u001b[0mrenderer\u001b[0m\u001b[0;34m.\u001b[0m\u001b[0mclose_group\u001b[0m\u001b[0;34m(\u001b[0m\u001b[0;34m'figure'\u001b[0m\u001b[0;34m)\u001b[0m\u001b[0;34m\u001b[0m\u001b[0;34m\u001b[0m\u001b[0m\n",
            "\u001b[0;32m/usr/local/lib/python3.7/dist-packages/matplotlib/image.py\u001b[0m in \u001b[0;36m_draw_list_compositing_images\u001b[0;34m(renderer, parent, artists, suppress_composite)\u001b[0m\n\u001b[1;32m    135\u001b[0m     \u001b[0;32mif\u001b[0m \u001b[0mnot_composite\u001b[0m \u001b[0;32mor\u001b[0m \u001b[0;32mnot\u001b[0m \u001b[0mhas_images\u001b[0m\u001b[0;34m:\u001b[0m\u001b[0;34m\u001b[0m\u001b[0;34m\u001b[0m\u001b[0m\n\u001b[1;32m    136\u001b[0m         \u001b[0;32mfor\u001b[0m \u001b[0ma\u001b[0m \u001b[0;32min\u001b[0m \u001b[0martists\u001b[0m\u001b[0;34m:\u001b[0m\u001b[0;34m\u001b[0m\u001b[0;34m\u001b[0m\u001b[0m\n\u001b[0;32m--> 137\u001b[0;31m             \u001b[0ma\u001b[0m\u001b[0;34m.\u001b[0m\u001b[0mdraw\u001b[0m\u001b[0;34m(\u001b[0m\u001b[0mrenderer\u001b[0m\u001b[0;34m)\u001b[0m\u001b[0;34m\u001b[0m\u001b[0;34m\u001b[0m\u001b[0m\n\u001b[0m\u001b[1;32m    138\u001b[0m     \u001b[0;32melse\u001b[0m\u001b[0;34m:\u001b[0m\u001b[0;34m\u001b[0m\u001b[0;34m\u001b[0m\u001b[0m\n\u001b[1;32m    139\u001b[0m         \u001b[0;31m# Composite any adjacent images together\u001b[0m\u001b[0;34m\u001b[0m\u001b[0;34m\u001b[0m\u001b[0;34m\u001b[0m\u001b[0m\n",
            "\u001b[0;32m/usr/local/lib/python3.7/dist-packages/matplotlib/artist.py\u001b[0m in \u001b[0;36mdraw_wrapper\u001b[0;34m(artist, renderer, *args, **kwargs)\u001b[0m\n\u001b[1;32m     36\u001b[0m                 \u001b[0mrenderer\u001b[0m\u001b[0;34m.\u001b[0m\u001b[0mstart_filter\u001b[0m\u001b[0;34m(\u001b[0m\u001b[0;34m)\u001b[0m\u001b[0;34m\u001b[0m\u001b[0;34m\u001b[0m\u001b[0m\n\u001b[1;32m     37\u001b[0m \u001b[0;34m\u001b[0m\u001b[0m\n\u001b[0;32m---> 38\u001b[0;31m             \u001b[0;32mreturn\u001b[0m \u001b[0mdraw\u001b[0m\u001b[0;34m(\u001b[0m\u001b[0martist\u001b[0m\u001b[0;34m,\u001b[0m \u001b[0mrenderer\u001b[0m\u001b[0;34m,\u001b[0m \u001b[0;34m*\u001b[0m\u001b[0margs\u001b[0m\u001b[0;34m,\u001b[0m \u001b[0;34m**\u001b[0m\u001b[0mkwargs\u001b[0m\u001b[0;34m)\u001b[0m\u001b[0;34m\u001b[0m\u001b[0;34m\u001b[0m\u001b[0m\n\u001b[0m\u001b[1;32m     39\u001b[0m         \u001b[0;32mfinally\u001b[0m\u001b[0;34m:\u001b[0m\u001b[0;34m\u001b[0m\u001b[0;34m\u001b[0m\u001b[0m\n\u001b[1;32m     40\u001b[0m             \u001b[0;32mif\u001b[0m \u001b[0martist\u001b[0m\u001b[0;34m.\u001b[0m\u001b[0mget_agg_filter\u001b[0m\u001b[0;34m(\u001b[0m\u001b[0;34m)\u001b[0m \u001b[0;32mis\u001b[0m \u001b[0;32mnot\u001b[0m \u001b[0;32mNone\u001b[0m\u001b[0;34m:\u001b[0m\u001b[0;34m\u001b[0m\u001b[0;34m\u001b[0m\u001b[0m\n",
            "\u001b[0;32m/usr/local/lib/python3.7/dist-packages/matplotlib/axes/_base.py\u001b[0m in \u001b[0;36mdraw\u001b[0;34m(self, renderer, inframe)\u001b[0m\n\u001b[1;32m   2628\u001b[0m             \u001b[0mrenderer\u001b[0m\u001b[0;34m.\u001b[0m\u001b[0mstop_rasterizing\u001b[0m\u001b[0;34m(\u001b[0m\u001b[0;34m)\u001b[0m\u001b[0;34m\u001b[0m\u001b[0;34m\u001b[0m\u001b[0m\n\u001b[1;32m   2629\u001b[0m \u001b[0;34m\u001b[0m\u001b[0m\n\u001b[0;32m-> 2630\u001b[0;31m         \u001b[0mmimage\u001b[0m\u001b[0;34m.\u001b[0m\u001b[0m_draw_list_compositing_images\u001b[0m\u001b[0;34m(\u001b[0m\u001b[0mrenderer\u001b[0m\u001b[0;34m,\u001b[0m \u001b[0mself\u001b[0m\u001b[0;34m,\u001b[0m \u001b[0martists\u001b[0m\u001b[0;34m)\u001b[0m\u001b[0;34m\u001b[0m\u001b[0;34m\u001b[0m\u001b[0m\n\u001b[0m\u001b[1;32m   2631\u001b[0m \u001b[0;34m\u001b[0m\u001b[0m\n\u001b[1;32m   2632\u001b[0m         \u001b[0mrenderer\u001b[0m\u001b[0;34m.\u001b[0m\u001b[0mclose_group\u001b[0m\u001b[0;34m(\u001b[0m\u001b[0;34m'axes'\u001b[0m\u001b[0;34m)\u001b[0m\u001b[0;34m\u001b[0m\u001b[0;34m\u001b[0m\u001b[0m\n",
            "\u001b[0;32m/usr/local/lib/python3.7/dist-packages/matplotlib/image.py\u001b[0m in \u001b[0;36m_draw_list_compositing_images\u001b[0;34m(renderer, parent, artists, suppress_composite)\u001b[0m\n\u001b[1;32m    135\u001b[0m     \u001b[0;32mif\u001b[0m \u001b[0mnot_composite\u001b[0m \u001b[0;32mor\u001b[0m \u001b[0;32mnot\u001b[0m \u001b[0mhas_images\u001b[0m\u001b[0;34m:\u001b[0m\u001b[0;34m\u001b[0m\u001b[0;34m\u001b[0m\u001b[0m\n\u001b[1;32m    136\u001b[0m         \u001b[0;32mfor\u001b[0m \u001b[0ma\u001b[0m \u001b[0;32min\u001b[0m \u001b[0martists\u001b[0m\u001b[0;34m:\u001b[0m\u001b[0;34m\u001b[0m\u001b[0;34m\u001b[0m\u001b[0m\n\u001b[0;32m--> 137\u001b[0;31m             \u001b[0ma\u001b[0m\u001b[0;34m.\u001b[0m\u001b[0mdraw\u001b[0m\u001b[0;34m(\u001b[0m\u001b[0mrenderer\u001b[0m\u001b[0;34m)\u001b[0m\u001b[0;34m\u001b[0m\u001b[0;34m\u001b[0m\u001b[0m\n\u001b[0m\u001b[1;32m    138\u001b[0m     \u001b[0;32melse\u001b[0m\u001b[0;34m:\u001b[0m\u001b[0;34m\u001b[0m\u001b[0;34m\u001b[0m\u001b[0m\n\u001b[1;32m    139\u001b[0m         \u001b[0;31m# Composite any adjacent images together\u001b[0m\u001b[0;34m\u001b[0m\u001b[0;34m\u001b[0m\u001b[0;34m\u001b[0m\u001b[0m\n",
            "\u001b[0;32m/usr/local/lib/python3.7/dist-packages/matplotlib/artist.py\u001b[0m in \u001b[0;36mdraw_wrapper\u001b[0;34m(artist, renderer, *args, **kwargs)\u001b[0m\n\u001b[1;32m     36\u001b[0m                 \u001b[0mrenderer\u001b[0m\u001b[0;34m.\u001b[0m\u001b[0mstart_filter\u001b[0m\u001b[0;34m(\u001b[0m\u001b[0;34m)\u001b[0m\u001b[0;34m\u001b[0m\u001b[0;34m\u001b[0m\u001b[0m\n\u001b[1;32m     37\u001b[0m \u001b[0;34m\u001b[0m\u001b[0m\n\u001b[0;32m---> 38\u001b[0;31m             \u001b[0;32mreturn\u001b[0m \u001b[0mdraw\u001b[0m\u001b[0;34m(\u001b[0m\u001b[0martist\u001b[0m\u001b[0;34m,\u001b[0m \u001b[0mrenderer\u001b[0m\u001b[0;34m,\u001b[0m \u001b[0;34m*\u001b[0m\u001b[0margs\u001b[0m\u001b[0;34m,\u001b[0m \u001b[0;34m**\u001b[0m\u001b[0mkwargs\u001b[0m\u001b[0;34m)\u001b[0m\u001b[0;34m\u001b[0m\u001b[0;34m\u001b[0m\u001b[0m\n\u001b[0m\u001b[1;32m     39\u001b[0m         \u001b[0;32mfinally\u001b[0m\u001b[0;34m:\u001b[0m\u001b[0;34m\u001b[0m\u001b[0;34m\u001b[0m\u001b[0m\n\u001b[1;32m     40\u001b[0m             \u001b[0;32mif\u001b[0m \u001b[0martist\u001b[0m\u001b[0;34m.\u001b[0m\u001b[0mget_agg_filter\u001b[0m\u001b[0;34m(\u001b[0m\u001b[0;34m)\u001b[0m \u001b[0;32mis\u001b[0m \u001b[0;32mnot\u001b[0m \u001b[0;32mNone\u001b[0m\u001b[0;34m:\u001b[0m\u001b[0;34m\u001b[0m\u001b[0;34m\u001b[0m\u001b[0m\n",
            "\u001b[0;32m/usr/local/lib/python3.7/dist-packages/matplotlib/text.py\u001b[0m in \u001b[0;36mdraw\u001b[0;34m(self, renderer)\u001b[0m\n\u001b[1;32m    683\u001b[0m \u001b[0;34m\u001b[0m\u001b[0m\n\u001b[1;32m    684\u001b[0m         \u001b[0;32mwith\u001b[0m \u001b[0m_wrap_text\u001b[0m\u001b[0;34m(\u001b[0m\u001b[0mself\u001b[0m\u001b[0;34m)\u001b[0m \u001b[0;32mas\u001b[0m \u001b[0mtextobj\u001b[0m\u001b[0;34m:\u001b[0m\u001b[0;34m\u001b[0m\u001b[0;34m\u001b[0m\u001b[0m\n\u001b[0;32m--> 685\u001b[0;31m             \u001b[0mbbox\u001b[0m\u001b[0;34m,\u001b[0m \u001b[0minfo\u001b[0m\u001b[0;34m,\u001b[0m \u001b[0mdescent\u001b[0m \u001b[0;34m=\u001b[0m \u001b[0mtextobj\u001b[0m\u001b[0;34m.\u001b[0m\u001b[0m_get_layout\u001b[0m\u001b[0;34m(\u001b[0m\u001b[0mrenderer\u001b[0m\u001b[0;34m)\u001b[0m\u001b[0;34m\u001b[0m\u001b[0;34m\u001b[0m\u001b[0m\n\u001b[0m\u001b[1;32m    686\u001b[0m             \u001b[0mtrans\u001b[0m \u001b[0;34m=\u001b[0m \u001b[0mtextobj\u001b[0m\u001b[0;34m.\u001b[0m\u001b[0mget_transform\u001b[0m\u001b[0;34m(\u001b[0m\u001b[0;34m)\u001b[0m\u001b[0;34m\u001b[0m\u001b[0;34m\u001b[0m\u001b[0m\n\u001b[1;32m    687\u001b[0m \u001b[0;34m\u001b[0m\u001b[0m\n",
            "\u001b[0;32m/usr/local/lib/python3.7/dist-packages/matplotlib/text.py\u001b[0m in \u001b[0;36m_get_layout\u001b[0;34m(self, renderer)\u001b[0m\n\u001b[1;32m    291\u001b[0m         _, lp_h, lp_d = renderer.get_text_width_height_descent(\n\u001b[1;32m    292\u001b[0m             \u001b[0;34m\"lp\"\u001b[0m\u001b[0;34m,\u001b[0m \u001b[0mself\u001b[0m\u001b[0;34m.\u001b[0m\u001b[0m_fontproperties\u001b[0m\u001b[0;34m,\u001b[0m\u001b[0;34m\u001b[0m\u001b[0;34m\u001b[0m\u001b[0m\n\u001b[0;32m--> 293\u001b[0;31m             ismath=\"TeX\" if self.get_usetex() else False)\n\u001b[0m\u001b[1;32m    294\u001b[0m         \u001b[0mmin_dy\u001b[0m \u001b[0;34m=\u001b[0m \u001b[0;34m(\u001b[0m\u001b[0mlp_h\u001b[0m \u001b[0;34m-\u001b[0m \u001b[0mlp_d\u001b[0m\u001b[0;34m)\u001b[0m \u001b[0;34m*\u001b[0m \u001b[0mself\u001b[0m\u001b[0;34m.\u001b[0m\u001b[0m_linespacing\u001b[0m\u001b[0;34m\u001b[0m\u001b[0;34m\u001b[0m\u001b[0m\n\u001b[1;32m    295\u001b[0m \u001b[0;34m\u001b[0m\u001b[0m\n",
            "\u001b[0;32m/usr/local/lib/python3.7/dist-packages/matplotlib/backends/backend_agg.py\u001b[0m in \u001b[0;36mget_text_width_height_descent\u001b[0;34m(self, s, prop, ismath)\u001b[0m\n\u001b[1;32m    211\u001b[0m \u001b[0;34m\u001b[0m\u001b[0m\n\u001b[1;32m    212\u001b[0m         \u001b[0mflags\u001b[0m \u001b[0;34m=\u001b[0m \u001b[0mget_hinting_flag\u001b[0m\u001b[0;34m(\u001b[0m\u001b[0;34m)\u001b[0m\u001b[0;34m\u001b[0m\u001b[0;34m\u001b[0m\u001b[0m\n\u001b[0;32m--> 213\u001b[0;31m         \u001b[0mfont\u001b[0m \u001b[0;34m=\u001b[0m \u001b[0mself\u001b[0m\u001b[0;34m.\u001b[0m\u001b[0m_get_agg_font\u001b[0m\u001b[0;34m(\u001b[0m\u001b[0mprop\u001b[0m\u001b[0;34m)\u001b[0m\u001b[0;34m\u001b[0m\u001b[0;34m\u001b[0m\u001b[0m\n\u001b[0m\u001b[1;32m    214\u001b[0m         \u001b[0mfont\u001b[0m\u001b[0;34m.\u001b[0m\u001b[0mset_text\u001b[0m\u001b[0;34m(\u001b[0m\u001b[0ms\u001b[0m\u001b[0;34m,\u001b[0m \u001b[0;36m0.0\u001b[0m\u001b[0;34m,\u001b[0m \u001b[0mflags\u001b[0m\u001b[0;34m=\u001b[0m\u001b[0mflags\u001b[0m\u001b[0;34m)\u001b[0m\u001b[0;34m\u001b[0m\u001b[0;34m\u001b[0m\u001b[0m\n\u001b[1;32m    215\u001b[0m         \u001b[0mw\u001b[0m\u001b[0;34m,\u001b[0m \u001b[0mh\u001b[0m \u001b[0;34m=\u001b[0m \u001b[0mfont\u001b[0m\u001b[0;34m.\u001b[0m\u001b[0mget_width_height\u001b[0m\u001b[0;34m(\u001b[0m\u001b[0;34m)\u001b[0m  \u001b[0;31m# width and height of unrotated string\u001b[0m\u001b[0;34m\u001b[0m\u001b[0;34m\u001b[0m\u001b[0m\n",
            "\u001b[0;32m/usr/local/lib/python3.7/dist-packages/matplotlib/backends/backend_agg.py\u001b[0m in \u001b[0;36m_get_agg_font\u001b[0;34m(self, prop)\u001b[0m\n\u001b[1;32m    248\u001b[0m         \u001b[0mfont\u001b[0m \u001b[0;34m=\u001b[0m \u001b[0mget_font\u001b[0m\u001b[0;34m(\u001b[0m\u001b[0mfname\u001b[0m\u001b[0;34m)\u001b[0m\u001b[0;34m\u001b[0m\u001b[0;34m\u001b[0m\u001b[0m\n\u001b[1;32m    249\u001b[0m \u001b[0;34m\u001b[0m\u001b[0m\n\u001b[0;32m--> 250\u001b[0;31m         \u001b[0mfont\u001b[0m\u001b[0;34m.\u001b[0m\u001b[0mclear\u001b[0m\u001b[0;34m(\u001b[0m\u001b[0;34m)\u001b[0m\u001b[0;34m\u001b[0m\u001b[0;34m\u001b[0m\u001b[0m\n\u001b[0m\u001b[1;32m    251\u001b[0m         \u001b[0msize\u001b[0m \u001b[0;34m=\u001b[0m \u001b[0mprop\u001b[0m\u001b[0;34m.\u001b[0m\u001b[0mget_size_in_points\u001b[0m\u001b[0;34m(\u001b[0m\u001b[0;34m)\u001b[0m\u001b[0;34m\u001b[0m\u001b[0;34m\u001b[0m\u001b[0m\n\u001b[1;32m    252\u001b[0m         \u001b[0mfont\u001b[0m\u001b[0;34m.\u001b[0m\u001b[0mset_size\u001b[0m\u001b[0;34m(\u001b[0m\u001b[0msize\u001b[0m\u001b[0;34m,\u001b[0m \u001b[0mself\u001b[0m\u001b[0;34m.\u001b[0m\u001b[0mdpi\u001b[0m\u001b[0;34m)\u001b[0m\u001b[0;34m\u001b[0m\u001b[0;34m\u001b[0m\u001b[0m\n",
            "\u001b[0;31mKeyboardInterrupt\u001b[0m: "
          ]
        }
      ]
    },
    {
      "cell_type": "markdown",
      "source": [
        "**Finding the correlated features**"
      ],
      "metadata": {
        "id": "eFv72N9r7Oqb"
      }
    },
    {
      "cell_type": "code",
      "source": [
        "# def correlation(dataset, threshold):\n",
        "#   col_corr = set()\n",
        "#   corr_matrix = dataset.corr()\n",
        "#   for i in range(len(corr_matrix.columns)):\n",
        "#     for j in range(i):\n",
        "#       if abs(corr_matrix.iloc[i, j]) > threshold:\n",
        "#         colname = corr_matrix.columns[i]\n",
        "#         col_corr.add(colname)\n",
        "#   return col_corr"
      ],
      "metadata": {
        "id": "MESHvkOk7HBB"
      },
      "execution_count": null,
      "outputs": []
    },
    {
      "cell_type": "markdown",
      "source": [
        "**Getting correlated features**"
      ],
      "metadata": {
        "id": "_g7QF-VR7SI3"
      }
    },
    {
      "cell_type": "code",
      "source": [
        "# corr_features = correlation(df_listings_dum, 0.7)\n",
        "# corr_features = list(corr_features)\n",
        "# corr_features"
      ],
      "metadata": {
        "colab": {
          "base_uri": "https://localhost:8080/"
        },
        "id": "hGr-Qw-i7UU_",
        "outputId": "ed41ce89-ad5b-47b8-af24-ae524446aa03"
      },
      "execution_count": null,
      "outputs": [
        {
          "output_type": "execute_result",
          "data": {
            "text/plain": [
              "['beds',\n",
              " 'instant_bookable_t',\n",
              " 'bathrooms_type_shared',\n",
              " 'bedrooms',\n",
              " 'room_type_Private room',\n",
              " 'have_license_Yes']"
            ]
          },
          "metadata": {},
          "execution_count": 115
        }
      ]
    },
    {
      "cell_type": "markdown",
      "source": [
        "**Removing correlated features**"
      ],
      "metadata": {
        "id": "Ff_HprFI7WtU"
      }
    },
    {
      "cell_type": "code",
      "source": [
        "#df_listings_fs_corr = df_listings_dum.copy()\n",
        "\n",
        "# for col in corr_features:\n",
        "#   del df_listings_dum[col]\n",
        "\n",
        "# df_listings_dum"
      ],
      "metadata": {
        "colab": {
          "base_uri": "https://localhost:8080/",
          "height": 505
        },
        "id": "Ly0h33jtkqTx",
        "outputId": "41f84716-4282-4b92-9da0-6756f3a31863"
      },
      "execution_count": null,
      "outputs": [
        {
          "output_type": "execute_result",
          "data": {
            "text/plain": [
              "         minimum_nights  accommodates  price_log  bathrooms  count_amenities  \\\n",
              "0                   3.0             2   4.248495        1.5               40   \n",
              "1                   3.0             2   4.094345        1.5               40   \n",
              "2                   3.0             2   4.094345        1.5               40   \n",
              "3                   3.0             2   4.094345        1.5               40   \n",
              "4                   3.0             2   4.094345        1.5               40   \n",
              "...                 ...           ...        ...        ...              ...   \n",
              "4506114             3.0             6   6.214608        1.0               41   \n",
              "4506115             3.0             6   5.991465        1.0               41   \n",
              "4506116             3.0             6   5.991465        1.0               41   \n",
              "4506117             3.0             6   5.991465        1.0               41   \n",
              "4506118             3.0             6   5.991465        1.0               41   \n",
              "\n",
              "         neighbourhood_cleansed_Bijlmer-Centrum  \\\n",
              "0                                             0   \n",
              "1                                             0   \n",
              "2                                             0   \n",
              "3                                             0   \n",
              "4                                             0   \n",
              "...                                         ...   \n",
              "4506114                                       0   \n",
              "4506115                                       0   \n",
              "4506116                                       0   \n",
              "4506117                                       0   \n",
              "4506118                                       0   \n",
              "\n",
              "         neighbourhood_cleansed_Bijlmer-Oost  \\\n",
              "0                                          0   \n",
              "1                                          0   \n",
              "2                                          0   \n",
              "3                                          0   \n",
              "4                                          0   \n",
              "...                                      ...   \n",
              "4506114                                    0   \n",
              "4506115                                    0   \n",
              "4506116                                    0   \n",
              "4506117                                    0   \n",
              "4506118                                    0   \n",
              "\n",
              "         neighbourhood_cleansed_Bos en Lommer  \\\n",
              "0                                           0   \n",
              "1                                           0   \n",
              "2                                           0   \n",
              "3                                           0   \n",
              "4                                           0   \n",
              "...                                       ...   \n",
              "4506114                                     0   \n",
              "4506115                                     0   \n",
              "4506116                                     0   \n",
              "4506117                                     0   \n",
              "4506118                                     0   \n",
              "\n",
              "         neighbourhood_cleansed_Buitenveldert - Zuidas  \\\n",
              "0                                                    0   \n",
              "1                                                    0   \n",
              "2                                                    0   \n",
              "3                                                    0   \n",
              "4                                                    0   \n",
              "...                                                ...   \n",
              "4506114                                              0   \n",
              "4506115                                              0   \n",
              "4506116                                              0   \n",
              "4506117                                              0   \n",
              "4506118                                              0   \n",
              "\n",
              "         neighbourhood_cleansed_Centrum-Oost  ...  \\\n",
              "0                                          0  ...   \n",
              "1                                          0  ...   \n",
              "2                                          0  ...   \n",
              "3                                          0  ...   \n",
              "4                                          0  ...   \n",
              "...                                      ...  ...   \n",
              "4506114                                    0  ...   \n",
              "4506115                                    0  ...   \n",
              "4506116                                    0  ...   \n",
              "4506117                                    0  ...   \n",
              "4506118                                    0  ...   \n",
              "\n",
              "         neighbourhood_cleansed_Watergraafsmeer  \\\n",
              "0                                             0   \n",
              "1                                             0   \n",
              "2                                             0   \n",
              "3                                             0   \n",
              "4                                             0   \n",
              "...                                         ...   \n",
              "4506114                                       0   \n",
              "4506115                                       0   \n",
              "4506116                                       0   \n",
              "4506117                                       0   \n",
              "4506118                                       0   \n",
              "\n",
              "         neighbourhood_cleansed_Westerpark  neighbourhood_cleansed_Zuid  \\\n",
              "0                                        0                            0   \n",
              "1                                        0                            0   \n",
              "2                                        0                            0   \n",
              "3                                        0                            0   \n",
              "4                                        0                            0   \n",
              "...                                    ...                          ...   \n",
              "4506114                                  0                            0   \n",
              "4506115                                  0                            0   \n",
              "4506116                                  0                            0   \n",
              "4506117                                  0                            0   \n",
              "4506118                                  0                            0   \n",
              "\n",
              "         room_type_Entire home/apt  room_type_Hotel room  \\\n",
              "0                                0                     0   \n",
              "1                                0                     0   \n",
              "2                                0                     0   \n",
              "3                                0                     0   \n",
              "4                                0                     0   \n",
              "...                            ...                   ...   \n",
              "4506114                          1                     0   \n",
              "4506115                          1                     0   \n",
              "4506116                          1                     0   \n",
              "4506117                          1                     0   \n",
              "4506118                          1                     0   \n",
              "\n",
              "         room_type_Shared room  instant_bookable_f  bathrooms_type_private  \\\n",
              "0                            0                   0                       0   \n",
              "1                            0                   0                       0   \n",
              "2                            0                   0                       0   \n",
              "3                            0                   0                       0   \n",
              "4                            0                   0                       0   \n",
              "...                        ...                 ...                     ...   \n",
              "4506114                      0                   1                       1   \n",
              "4506115                      0                   1                       1   \n",
              "4506116                      0                   1                       1   \n",
              "4506117                      0                   1                       1   \n",
              "4506118                      0                   1                       1   \n",
              "\n",
              "         have_license_Exempt  have_license_No  \n",
              "0                          0                0  \n",
              "1                          0                0  \n",
              "2                          0                0  \n",
              "3                          0                0  \n",
              "4                          0                0  \n",
              "...                      ...              ...  \n",
              "4506114                    0                0  \n",
              "4506115                    0                0  \n",
              "4506116                    0                0  \n",
              "4506117                    0                0  \n",
              "4506118                    0                0  \n",
              "\n",
              "[4315595 rows x 34 columns]"
            ],
            "text/html": [
              "\n",
              "  <div id=\"df-3f33b7ed-f86d-4e7c-94a4-70a9ba3068d7\">\n",
              "    <div class=\"colab-df-container\">\n",
              "      <div>\n",
              "<style scoped>\n",
              "    .dataframe tbody tr th:only-of-type {\n",
              "        vertical-align: middle;\n",
              "    }\n",
              "\n",
              "    .dataframe tbody tr th {\n",
              "        vertical-align: top;\n",
              "    }\n",
              "\n",
              "    .dataframe thead th {\n",
              "        text-align: right;\n",
              "    }\n",
              "</style>\n",
              "<table border=\"1\" class=\"dataframe\">\n",
              "  <thead>\n",
              "    <tr style=\"text-align: right;\">\n",
              "      <th></th>\n",
              "      <th>minimum_nights</th>\n",
              "      <th>accommodates</th>\n",
              "      <th>price_log</th>\n",
              "      <th>bathrooms</th>\n",
              "      <th>count_amenities</th>\n",
              "      <th>neighbourhood_cleansed_Bijlmer-Centrum</th>\n",
              "      <th>neighbourhood_cleansed_Bijlmer-Oost</th>\n",
              "      <th>neighbourhood_cleansed_Bos en Lommer</th>\n",
              "      <th>neighbourhood_cleansed_Buitenveldert - Zuidas</th>\n",
              "      <th>neighbourhood_cleansed_Centrum-Oost</th>\n",
              "      <th>...</th>\n",
              "      <th>neighbourhood_cleansed_Watergraafsmeer</th>\n",
              "      <th>neighbourhood_cleansed_Westerpark</th>\n",
              "      <th>neighbourhood_cleansed_Zuid</th>\n",
              "      <th>room_type_Entire home/apt</th>\n",
              "      <th>room_type_Hotel room</th>\n",
              "      <th>room_type_Shared room</th>\n",
              "      <th>instant_bookable_f</th>\n",
              "      <th>bathrooms_type_private</th>\n",
              "      <th>have_license_Exempt</th>\n",
              "      <th>have_license_No</th>\n",
              "    </tr>\n",
              "  </thead>\n",
              "  <tbody>\n",
              "    <tr>\n",
              "      <th>0</th>\n",
              "      <td>3.0</td>\n",
              "      <td>2</td>\n",
              "      <td>4.248495</td>\n",
              "      <td>1.5</td>\n",
              "      <td>40</td>\n",
              "      <td>0</td>\n",
              "      <td>0</td>\n",
              "      <td>0</td>\n",
              "      <td>0</td>\n",
              "      <td>0</td>\n",
              "      <td>...</td>\n",
              "      <td>0</td>\n",
              "      <td>0</td>\n",
              "      <td>0</td>\n",
              "      <td>0</td>\n",
              "      <td>0</td>\n",
              "      <td>0</td>\n",
              "      <td>0</td>\n",
              "      <td>0</td>\n",
              "      <td>0</td>\n",
              "      <td>0</td>\n",
              "    </tr>\n",
              "    <tr>\n",
              "      <th>1</th>\n",
              "      <td>3.0</td>\n",
              "      <td>2</td>\n",
              "      <td>4.094345</td>\n",
              "      <td>1.5</td>\n",
              "      <td>40</td>\n",
              "      <td>0</td>\n",
              "      <td>0</td>\n",
              "      <td>0</td>\n",
              "      <td>0</td>\n",
              "      <td>0</td>\n",
              "      <td>...</td>\n",
              "      <td>0</td>\n",
              "      <td>0</td>\n",
              "      <td>0</td>\n",
              "      <td>0</td>\n",
              "      <td>0</td>\n",
              "      <td>0</td>\n",
              "      <td>0</td>\n",
              "      <td>0</td>\n",
              "      <td>0</td>\n",
              "      <td>0</td>\n",
              "    </tr>\n",
              "    <tr>\n",
              "      <th>2</th>\n",
              "      <td>3.0</td>\n",
              "      <td>2</td>\n",
              "      <td>4.094345</td>\n",
              "      <td>1.5</td>\n",
              "      <td>40</td>\n",
              "      <td>0</td>\n",
              "      <td>0</td>\n",
              "      <td>0</td>\n",
              "      <td>0</td>\n",
              "      <td>0</td>\n",
              "      <td>...</td>\n",
              "      <td>0</td>\n",
              "      <td>0</td>\n",
              "      <td>0</td>\n",
              "      <td>0</td>\n",
              "      <td>0</td>\n",
              "      <td>0</td>\n",
              "      <td>0</td>\n",
              "      <td>0</td>\n",
              "      <td>0</td>\n",
              "      <td>0</td>\n",
              "    </tr>\n",
              "    <tr>\n",
              "      <th>3</th>\n",
              "      <td>3.0</td>\n",
              "      <td>2</td>\n",
              "      <td>4.094345</td>\n",
              "      <td>1.5</td>\n",
              "      <td>40</td>\n",
              "      <td>0</td>\n",
              "      <td>0</td>\n",
              "      <td>0</td>\n",
              "      <td>0</td>\n",
              "      <td>0</td>\n",
              "      <td>...</td>\n",
              "      <td>0</td>\n",
              "      <td>0</td>\n",
              "      <td>0</td>\n",
              "      <td>0</td>\n",
              "      <td>0</td>\n",
              "      <td>0</td>\n",
              "      <td>0</td>\n",
              "      <td>0</td>\n",
              "      <td>0</td>\n",
              "      <td>0</td>\n",
              "    </tr>\n",
              "    <tr>\n",
              "      <th>4</th>\n",
              "      <td>3.0</td>\n",
              "      <td>2</td>\n",
              "      <td>4.094345</td>\n",
              "      <td>1.5</td>\n",
              "      <td>40</td>\n",
              "      <td>0</td>\n",
              "      <td>0</td>\n",
              "      <td>0</td>\n",
              "      <td>0</td>\n",
              "      <td>0</td>\n",
              "      <td>...</td>\n",
              "      <td>0</td>\n",
              "      <td>0</td>\n",
              "      <td>0</td>\n",
              "      <td>0</td>\n",
              "      <td>0</td>\n",
              "      <td>0</td>\n",
              "      <td>0</td>\n",
              "      <td>0</td>\n",
              "      <td>0</td>\n",
              "      <td>0</td>\n",
              "    </tr>\n",
              "    <tr>\n",
              "      <th>...</th>\n",
              "      <td>...</td>\n",
              "      <td>...</td>\n",
              "      <td>...</td>\n",
              "      <td>...</td>\n",
              "      <td>...</td>\n",
              "      <td>...</td>\n",
              "      <td>...</td>\n",
              "      <td>...</td>\n",
              "      <td>...</td>\n",
              "      <td>...</td>\n",
              "      <td>...</td>\n",
              "      <td>...</td>\n",
              "      <td>...</td>\n",
              "      <td>...</td>\n",
              "      <td>...</td>\n",
              "      <td>...</td>\n",
              "      <td>...</td>\n",
              "      <td>...</td>\n",
              "      <td>...</td>\n",
              "      <td>...</td>\n",
              "      <td>...</td>\n",
              "    </tr>\n",
              "    <tr>\n",
              "      <th>4506114</th>\n",
              "      <td>3.0</td>\n",
              "      <td>6</td>\n",
              "      <td>6.214608</td>\n",
              "      <td>1.0</td>\n",
              "      <td>41</td>\n",
              "      <td>0</td>\n",
              "      <td>0</td>\n",
              "      <td>0</td>\n",
              "      <td>0</td>\n",
              "      <td>0</td>\n",
              "      <td>...</td>\n",
              "      <td>0</td>\n",
              "      <td>0</td>\n",
              "      <td>0</td>\n",
              "      <td>1</td>\n",
              "      <td>0</td>\n",
              "      <td>0</td>\n",
              "      <td>1</td>\n",
              "      <td>1</td>\n",
              "      <td>0</td>\n",
              "      <td>0</td>\n",
              "    </tr>\n",
              "    <tr>\n",
              "      <th>4506115</th>\n",
              "      <td>3.0</td>\n",
              "      <td>6</td>\n",
              "      <td>5.991465</td>\n",
              "      <td>1.0</td>\n",
              "      <td>41</td>\n",
              "      <td>0</td>\n",
              "      <td>0</td>\n",
              "      <td>0</td>\n",
              "      <td>0</td>\n",
              "      <td>0</td>\n",
              "      <td>...</td>\n",
              "      <td>0</td>\n",
              "      <td>0</td>\n",
              "      <td>0</td>\n",
              "      <td>1</td>\n",
              "      <td>0</td>\n",
              "      <td>0</td>\n",
              "      <td>1</td>\n",
              "      <td>1</td>\n",
              "      <td>0</td>\n",
              "      <td>0</td>\n",
              "    </tr>\n",
              "    <tr>\n",
              "      <th>4506116</th>\n",
              "      <td>3.0</td>\n",
              "      <td>6</td>\n",
              "      <td>5.991465</td>\n",
              "      <td>1.0</td>\n",
              "      <td>41</td>\n",
              "      <td>0</td>\n",
              "      <td>0</td>\n",
              "      <td>0</td>\n",
              "      <td>0</td>\n",
              "      <td>0</td>\n",
              "      <td>...</td>\n",
              "      <td>0</td>\n",
              "      <td>0</td>\n",
              "      <td>0</td>\n",
              "      <td>1</td>\n",
              "      <td>0</td>\n",
              "      <td>0</td>\n",
              "      <td>1</td>\n",
              "      <td>1</td>\n",
              "      <td>0</td>\n",
              "      <td>0</td>\n",
              "    </tr>\n",
              "    <tr>\n",
              "      <th>4506117</th>\n",
              "      <td>3.0</td>\n",
              "      <td>6</td>\n",
              "      <td>5.991465</td>\n",
              "      <td>1.0</td>\n",
              "      <td>41</td>\n",
              "      <td>0</td>\n",
              "      <td>0</td>\n",
              "      <td>0</td>\n",
              "      <td>0</td>\n",
              "      <td>0</td>\n",
              "      <td>...</td>\n",
              "      <td>0</td>\n",
              "      <td>0</td>\n",
              "      <td>0</td>\n",
              "      <td>1</td>\n",
              "      <td>0</td>\n",
              "      <td>0</td>\n",
              "      <td>1</td>\n",
              "      <td>1</td>\n",
              "      <td>0</td>\n",
              "      <td>0</td>\n",
              "    </tr>\n",
              "    <tr>\n",
              "      <th>4506118</th>\n",
              "      <td>3.0</td>\n",
              "      <td>6</td>\n",
              "      <td>5.991465</td>\n",
              "      <td>1.0</td>\n",
              "      <td>41</td>\n",
              "      <td>0</td>\n",
              "      <td>0</td>\n",
              "      <td>0</td>\n",
              "      <td>0</td>\n",
              "      <td>0</td>\n",
              "      <td>...</td>\n",
              "      <td>0</td>\n",
              "      <td>0</td>\n",
              "      <td>0</td>\n",
              "      <td>1</td>\n",
              "      <td>0</td>\n",
              "      <td>0</td>\n",
              "      <td>1</td>\n",
              "      <td>1</td>\n",
              "      <td>0</td>\n",
              "      <td>0</td>\n",
              "    </tr>\n",
              "  </tbody>\n",
              "</table>\n",
              "<p>4315595 rows × 34 columns</p>\n",
              "</div>\n",
              "      <button class=\"colab-df-convert\" onclick=\"convertToInteractive('df-3f33b7ed-f86d-4e7c-94a4-70a9ba3068d7')\"\n",
              "              title=\"Convert this dataframe to an interactive table.\"\n",
              "              style=\"display:none;\">\n",
              "        \n",
              "  <svg xmlns=\"http://www.w3.org/2000/svg\" height=\"24px\"viewBox=\"0 0 24 24\"\n",
              "       width=\"24px\">\n",
              "    <path d=\"M0 0h24v24H0V0z\" fill=\"none\"/>\n",
              "    <path d=\"M18.56 5.44l.94 2.06.94-2.06 2.06-.94-2.06-.94-.94-2.06-.94 2.06-2.06.94zm-11 1L8.5 8.5l.94-2.06 2.06-.94-2.06-.94L8.5 2.5l-.94 2.06-2.06.94zm10 10l.94 2.06.94-2.06 2.06-.94-2.06-.94-.94-2.06-.94 2.06-2.06.94z\"/><path d=\"M17.41 7.96l-1.37-1.37c-.4-.4-.92-.59-1.43-.59-.52 0-1.04.2-1.43.59L10.3 9.45l-7.72 7.72c-.78.78-.78 2.05 0 2.83L4 21.41c.39.39.9.59 1.41.59.51 0 1.02-.2 1.41-.59l7.78-7.78 2.81-2.81c.8-.78.8-2.07 0-2.86zM5.41 20L4 18.59l7.72-7.72 1.47 1.35L5.41 20z\"/>\n",
              "  </svg>\n",
              "      </button>\n",
              "      \n",
              "  <style>\n",
              "    .colab-df-container {\n",
              "      display:flex;\n",
              "      flex-wrap:wrap;\n",
              "      gap: 12px;\n",
              "    }\n",
              "\n",
              "    .colab-df-convert {\n",
              "      background-color: #E8F0FE;\n",
              "      border: none;\n",
              "      border-radius: 50%;\n",
              "      cursor: pointer;\n",
              "      display: none;\n",
              "      fill: #1967D2;\n",
              "      height: 32px;\n",
              "      padding: 0 0 0 0;\n",
              "      width: 32px;\n",
              "    }\n",
              "\n",
              "    .colab-df-convert:hover {\n",
              "      background-color: #E2EBFA;\n",
              "      box-shadow: 0px 1px 2px rgba(60, 64, 67, 0.3), 0px 1px 3px 1px rgba(60, 64, 67, 0.15);\n",
              "      fill: #174EA6;\n",
              "    }\n",
              "\n",
              "    [theme=dark] .colab-df-convert {\n",
              "      background-color: #3B4455;\n",
              "      fill: #D2E3FC;\n",
              "    }\n",
              "\n",
              "    [theme=dark] .colab-df-convert:hover {\n",
              "      background-color: #434B5C;\n",
              "      box-shadow: 0px 1px 3px 1px rgba(0, 0, 0, 0.15);\n",
              "      filter: drop-shadow(0px 1px 2px rgba(0, 0, 0, 0.3));\n",
              "      fill: #FFFFFF;\n",
              "    }\n",
              "  </style>\n",
              "\n",
              "      <script>\n",
              "        const buttonEl =\n",
              "          document.querySelector('#df-3f33b7ed-f86d-4e7c-94a4-70a9ba3068d7 button.colab-df-convert');\n",
              "        buttonEl.style.display =\n",
              "          google.colab.kernel.accessAllowed ? 'block' : 'none';\n",
              "\n",
              "        async function convertToInteractive(key) {\n",
              "          const element = document.querySelector('#df-3f33b7ed-f86d-4e7c-94a4-70a9ba3068d7');\n",
              "          const dataTable =\n",
              "            await google.colab.kernel.invokeFunction('convertToInteractive',\n",
              "                                                     [key], {});\n",
              "          if (!dataTable) return;\n",
              "\n",
              "          const docLinkHtml = 'Like what you see? Visit the ' +\n",
              "            '<a target=\"_blank\" href=https://colab.research.google.com/notebooks/data_table.ipynb>data table notebook</a>'\n",
              "            + ' to learn more about interactive tables.';\n",
              "          element.innerHTML = '';\n",
              "          dataTable['output_type'] = 'display_data';\n",
              "          await google.colab.output.renderOutput(dataTable, element);\n",
              "          const docLink = document.createElement('div');\n",
              "          docLink.innerHTML = docLinkHtml;\n",
              "          element.appendChild(docLink);\n",
              "        }\n",
              "      </script>\n",
              "    </div>\n",
              "  </div>\n",
              "  "
            ]
          },
          "metadata": {},
          "execution_count": 116
        }
      ]
    },
    {
      "cell_type": "markdown",
      "source": [
        "## 2.6 Standardization"
      ],
      "metadata": {
        "id": "DEqY6np_27O9"
      }
    },
    {
      "cell_type": "markdown",
      "source": [
        "**Spliting X and Y**"
      ],
      "metadata": {
        "id": "3XSiDeR-EwXT"
      }
    },
    {
      "cell_type": "code",
      "source": [
        "x = df_listings_dum.drop('price_log',axis=1)\n",
        "y = df_listings_dum['price_log']"
      ],
      "metadata": {
        "id": "NVkOMJbL5Wkr"
      },
      "execution_count": null,
      "outputs": []
    },
    {
      "cell_type": "code",
      "source": [
        "#df_listings = df_listings.reset_index()"
      ],
      "metadata": {
        "id": "T-A_tu7UCa3-"
      },
      "execution_count": null,
      "outputs": []
    },
    {
      "cell_type": "code",
      "source": [
        "#df_listings = df_listings[df_listings['price']=='desired_one']"
      ],
      "metadata": {
        "id": "70IUQgRKCTOf"
      },
      "execution_count": null,
      "outputs": []
    },
    {
      "cell_type": "code",
      "source": [
        "from sklearn.preprocessing import StandardScaler  # to standardize the features\n",
        "\n",
        "scalar = StandardScaler()\n",
        "scaled_x = pd.DataFrame(scalar.fit_transform(x)) #scaling the data\n",
        "scaled_x"
      ],
      "metadata": {
        "colab": {
          "base_uri": "https://localhost:8080/",
          "height": 488
        },
        "id": "J8As1oqH3TAU",
        "outputId": "f54f5073-33b6-4cf5-8bd1-6d6033b2c7fb"
      },
      "execution_count": null,
      "outputs": [
        {
          "output_type": "execute_result",
          "data": {
            "text/plain": [
              "            0         1         2         3         4         5         6   \\\n",
              "0    -0.826828 -0.631018  1.848458  1.109013 -0.114646 -0.080243 -0.230551   \n",
              "1     0.915378  0.018468 -0.540991  0.291913 -0.114646 -0.080243 -0.230551   \n",
              "2     0.915378  0.018468 -0.540991 -0.970878 -0.114646 -0.080243 -0.230551   \n",
              "3     0.915378  0.018468 -0.540991 -0.450905 -0.114646 -0.080243 -0.230551   \n",
              "4    -0.826828  0.018468 -0.540991  1.257576 -0.114646 -0.080243 -0.230551   \n",
              "...        ...       ...       ...       ...       ...       ...       ...   \n",
              "5622 -0.826828 -0.631018  1.848458 -0.673751 -0.114646 -0.080243 -0.230551   \n",
              "5623  2.657583  0.667953  1.848458  3.040339 -0.114646 -0.080243 -0.230551   \n",
              "5624  2.657583  1.317439  1.848458 -1.490850 -0.114646 -0.080243 -0.230551   \n",
              "5625  0.044275 -0.631018  1.848458 -0.228060 -0.114646 -0.080243 -0.230551   \n",
              "5626  2.657583  0.018468 -0.540991  0.886167 -0.114646 -0.080243 -0.230551   \n",
              "\n",
              "           7         8         9   ...        23        24        25  \\\n",
              "0    -0.13655 -0.290173  2.811313  ... -0.197379 -0.276260 -0.258321   \n",
              "1    -0.13655  3.446220 -0.355706  ... -0.197379 -0.276260 -0.258321   \n",
              "2    -0.13655 -0.290173 -0.355706  ... -0.197379 -0.276260 -0.258321   \n",
              "3    -0.13655 -0.290173 -0.355706  ... -0.197379 -0.276260 -0.258321   \n",
              "4    -0.13655  3.446220 -0.355706  ... -0.197379 -0.276260 -0.258321   \n",
              "...       ...       ...       ...  ...       ...       ...       ...   \n",
              "5622 -0.13655 -0.290173 -0.355706  ... -0.197379  3.619773 -0.258321   \n",
              "5623 -0.13655 -0.290173 -0.355706  ... -0.197379 -0.276260 -0.258321   \n",
              "5624 -0.13655 -0.290173  2.811313  ... -0.197379 -0.276260 -0.258321   \n",
              "5625 -0.13655 -0.290173 -0.355706  ... -0.197379 -0.276260  3.871149   \n",
              "5626 -0.13655 -0.290173 -0.355706  ... -0.197379 -0.276260 -0.258321   \n",
              "\n",
              "            26        27        28        29        30        31        32  \n",
              "0    -2.039032 -0.066803  2.076898 -0.035292 -0.148243 -0.246774  0.292685  \n",
              "1     0.490429 -0.066803 -0.481487 -0.035292 -0.148243 -0.246774  0.292685  \n",
              "2     0.490429 -0.066803 -0.481487 -0.035292 -0.148243 -0.246774  0.292685  \n",
              "3     0.490429 -0.066803 -0.481487 -0.035292 -0.148243 -0.246774  0.292685  \n",
              "4     0.490429 -0.066803 -0.481487 -0.035292 -0.148243 -0.246774  0.292685  \n",
              "...        ...       ...       ...       ...       ...       ...       ...  \n",
              "5622  0.490429 -0.066803 -0.481487 -0.035292 -0.148243 -0.246774  0.292685  \n",
              "5623 -2.039032 -0.066803  2.076898 -0.035292 -0.148243 -0.246774  0.292685  \n",
              "5624  0.490429 -0.066803 -0.481487 -0.035292 -0.148243 -0.246774  0.292685  \n",
              "5625  0.490429 -0.066803 -0.481487 -0.035292 -0.148243 -0.246774  0.292685  \n",
              "5626  0.490429 -0.066803 -0.481487 -0.035292 -0.148243 -0.246774  0.292685  \n",
              "\n",
              "[5627 rows x 33 columns]"
            ],
            "text/html": [
              "\n",
              "  <div id=\"df-f93c34ee-6b43-4eb1-b45a-c28c2c306d08\">\n",
              "    <div class=\"colab-df-container\">\n",
              "      <div>\n",
              "<style scoped>\n",
              "    .dataframe tbody tr th:only-of-type {\n",
              "        vertical-align: middle;\n",
              "    }\n",
              "\n",
              "    .dataframe tbody tr th {\n",
              "        vertical-align: top;\n",
              "    }\n",
              "\n",
              "    .dataframe thead th {\n",
              "        text-align: right;\n",
              "    }\n",
              "</style>\n",
              "<table border=\"1\" class=\"dataframe\">\n",
              "  <thead>\n",
              "    <tr style=\"text-align: right;\">\n",
              "      <th></th>\n",
              "      <th>0</th>\n",
              "      <th>1</th>\n",
              "      <th>2</th>\n",
              "      <th>3</th>\n",
              "      <th>4</th>\n",
              "      <th>5</th>\n",
              "      <th>6</th>\n",
              "      <th>7</th>\n",
              "      <th>8</th>\n",
              "      <th>9</th>\n",
              "      <th>...</th>\n",
              "      <th>23</th>\n",
              "      <th>24</th>\n",
              "      <th>25</th>\n",
              "      <th>26</th>\n",
              "      <th>27</th>\n",
              "      <th>28</th>\n",
              "      <th>29</th>\n",
              "      <th>30</th>\n",
              "      <th>31</th>\n",
              "      <th>32</th>\n",
              "    </tr>\n",
              "  </thead>\n",
              "  <tbody>\n",
              "    <tr>\n",
              "      <th>0</th>\n",
              "      <td>-0.826828</td>\n",
              "      <td>-0.631018</td>\n",
              "      <td>1.848458</td>\n",
              "      <td>1.109013</td>\n",
              "      <td>-0.114646</td>\n",
              "      <td>-0.080243</td>\n",
              "      <td>-0.230551</td>\n",
              "      <td>-0.13655</td>\n",
              "      <td>-0.290173</td>\n",
              "      <td>2.811313</td>\n",
              "      <td>...</td>\n",
              "      <td>-0.197379</td>\n",
              "      <td>-0.276260</td>\n",
              "      <td>-0.258321</td>\n",
              "      <td>-2.039032</td>\n",
              "      <td>-0.066803</td>\n",
              "      <td>2.076898</td>\n",
              "      <td>-0.035292</td>\n",
              "      <td>-0.148243</td>\n",
              "      <td>-0.246774</td>\n",
              "      <td>0.292685</td>\n",
              "    </tr>\n",
              "    <tr>\n",
              "      <th>1</th>\n",
              "      <td>0.915378</td>\n",
              "      <td>0.018468</td>\n",
              "      <td>-0.540991</td>\n",
              "      <td>0.291913</td>\n",
              "      <td>-0.114646</td>\n",
              "      <td>-0.080243</td>\n",
              "      <td>-0.230551</td>\n",
              "      <td>-0.13655</td>\n",
              "      <td>3.446220</td>\n",
              "      <td>-0.355706</td>\n",
              "      <td>...</td>\n",
              "      <td>-0.197379</td>\n",
              "      <td>-0.276260</td>\n",
              "      <td>-0.258321</td>\n",
              "      <td>0.490429</td>\n",
              "      <td>-0.066803</td>\n",
              "      <td>-0.481487</td>\n",
              "      <td>-0.035292</td>\n",
              "      <td>-0.148243</td>\n",
              "      <td>-0.246774</td>\n",
              "      <td>0.292685</td>\n",
              "    </tr>\n",
              "    <tr>\n",
              "      <th>2</th>\n",
              "      <td>0.915378</td>\n",
              "      <td>0.018468</td>\n",
              "      <td>-0.540991</td>\n",
              "      <td>-0.970878</td>\n",
              "      <td>-0.114646</td>\n",
              "      <td>-0.080243</td>\n",
              "      <td>-0.230551</td>\n",
              "      <td>-0.13655</td>\n",
              "      <td>-0.290173</td>\n",
              "      <td>-0.355706</td>\n",
              "      <td>...</td>\n",
              "      <td>-0.197379</td>\n",
              "      <td>-0.276260</td>\n",
              "      <td>-0.258321</td>\n",
              "      <td>0.490429</td>\n",
              "      <td>-0.066803</td>\n",
              "      <td>-0.481487</td>\n",
              "      <td>-0.035292</td>\n",
              "      <td>-0.148243</td>\n",
              "      <td>-0.246774</td>\n",
              "      <td>0.292685</td>\n",
              "    </tr>\n",
              "    <tr>\n",
              "      <th>3</th>\n",
              "      <td>0.915378</td>\n",
              "      <td>0.018468</td>\n",
              "      <td>-0.540991</td>\n",
              "      <td>-0.450905</td>\n",
              "      <td>-0.114646</td>\n",
              "      <td>-0.080243</td>\n",
              "      <td>-0.230551</td>\n",
              "      <td>-0.13655</td>\n",
              "      <td>-0.290173</td>\n",
              "      <td>-0.355706</td>\n",
              "      <td>...</td>\n",
              "      <td>-0.197379</td>\n",
              "      <td>-0.276260</td>\n",
              "      <td>-0.258321</td>\n",
              "      <td>0.490429</td>\n",
              "      <td>-0.066803</td>\n",
              "      <td>-0.481487</td>\n",
              "      <td>-0.035292</td>\n",
              "      <td>-0.148243</td>\n",
              "      <td>-0.246774</td>\n",
              "      <td>0.292685</td>\n",
              "    </tr>\n",
              "    <tr>\n",
              "      <th>4</th>\n",
              "      <td>-0.826828</td>\n",
              "      <td>0.018468</td>\n",
              "      <td>-0.540991</td>\n",
              "      <td>1.257576</td>\n",
              "      <td>-0.114646</td>\n",
              "      <td>-0.080243</td>\n",
              "      <td>-0.230551</td>\n",
              "      <td>-0.13655</td>\n",
              "      <td>3.446220</td>\n",
              "      <td>-0.355706</td>\n",
              "      <td>...</td>\n",
              "      <td>-0.197379</td>\n",
              "      <td>-0.276260</td>\n",
              "      <td>-0.258321</td>\n",
              "      <td>0.490429</td>\n",
              "      <td>-0.066803</td>\n",
              "      <td>-0.481487</td>\n",
              "      <td>-0.035292</td>\n",
              "      <td>-0.148243</td>\n",
              "      <td>-0.246774</td>\n",
              "      <td>0.292685</td>\n",
              "    </tr>\n",
              "    <tr>\n",
              "      <th>...</th>\n",
              "      <td>...</td>\n",
              "      <td>...</td>\n",
              "      <td>...</td>\n",
              "      <td>...</td>\n",
              "      <td>...</td>\n",
              "      <td>...</td>\n",
              "      <td>...</td>\n",
              "      <td>...</td>\n",
              "      <td>...</td>\n",
              "      <td>...</td>\n",
              "      <td>...</td>\n",
              "      <td>...</td>\n",
              "      <td>...</td>\n",
              "      <td>...</td>\n",
              "      <td>...</td>\n",
              "      <td>...</td>\n",
              "      <td>...</td>\n",
              "      <td>...</td>\n",
              "      <td>...</td>\n",
              "      <td>...</td>\n",
              "      <td>...</td>\n",
              "    </tr>\n",
              "    <tr>\n",
              "      <th>5622</th>\n",
              "      <td>-0.826828</td>\n",
              "      <td>-0.631018</td>\n",
              "      <td>1.848458</td>\n",
              "      <td>-0.673751</td>\n",
              "      <td>-0.114646</td>\n",
              "      <td>-0.080243</td>\n",
              "      <td>-0.230551</td>\n",
              "      <td>-0.13655</td>\n",
              "      <td>-0.290173</td>\n",
              "      <td>-0.355706</td>\n",
              "      <td>...</td>\n",
              "      <td>-0.197379</td>\n",
              "      <td>3.619773</td>\n",
              "      <td>-0.258321</td>\n",
              "      <td>0.490429</td>\n",
              "      <td>-0.066803</td>\n",
              "      <td>-0.481487</td>\n",
              "      <td>-0.035292</td>\n",
              "      <td>-0.148243</td>\n",
              "      <td>-0.246774</td>\n",
              "      <td>0.292685</td>\n",
              "    </tr>\n",
              "    <tr>\n",
              "      <th>5623</th>\n",
              "      <td>2.657583</td>\n",
              "      <td>0.667953</td>\n",
              "      <td>1.848458</td>\n",
              "      <td>3.040339</td>\n",
              "      <td>-0.114646</td>\n",
              "      <td>-0.080243</td>\n",
              "      <td>-0.230551</td>\n",
              "      <td>-0.13655</td>\n",
              "      <td>-0.290173</td>\n",
              "      <td>-0.355706</td>\n",
              "      <td>...</td>\n",
              "      <td>-0.197379</td>\n",
              "      <td>-0.276260</td>\n",
              "      <td>-0.258321</td>\n",
              "      <td>-2.039032</td>\n",
              "      <td>-0.066803</td>\n",
              "      <td>2.076898</td>\n",
              "      <td>-0.035292</td>\n",
              "      <td>-0.148243</td>\n",
              "      <td>-0.246774</td>\n",
              "      <td>0.292685</td>\n",
              "    </tr>\n",
              "    <tr>\n",
              "      <th>5624</th>\n",
              "      <td>2.657583</td>\n",
              "      <td>1.317439</td>\n",
              "      <td>1.848458</td>\n",
              "      <td>-1.490850</td>\n",
              "      <td>-0.114646</td>\n",
              "      <td>-0.080243</td>\n",
              "      <td>-0.230551</td>\n",
              "      <td>-0.13655</td>\n",
              "      <td>-0.290173</td>\n",
              "      <td>2.811313</td>\n",
              "      <td>...</td>\n",
              "      <td>-0.197379</td>\n",
              "      <td>-0.276260</td>\n",
              "      <td>-0.258321</td>\n",
              "      <td>0.490429</td>\n",
              "      <td>-0.066803</td>\n",
              "      <td>-0.481487</td>\n",
              "      <td>-0.035292</td>\n",
              "      <td>-0.148243</td>\n",
              "      <td>-0.246774</td>\n",
              "      <td>0.292685</td>\n",
              "    </tr>\n",
              "    <tr>\n",
              "      <th>5625</th>\n",
              "      <td>0.044275</td>\n",
              "      <td>-0.631018</td>\n",
              "      <td>1.848458</td>\n",
              "      <td>-0.228060</td>\n",
              "      <td>-0.114646</td>\n",
              "      <td>-0.080243</td>\n",
              "      <td>-0.230551</td>\n",
              "      <td>-0.13655</td>\n",
              "      <td>-0.290173</td>\n",
              "      <td>-0.355706</td>\n",
              "      <td>...</td>\n",
              "      <td>-0.197379</td>\n",
              "      <td>-0.276260</td>\n",
              "      <td>3.871149</td>\n",
              "      <td>0.490429</td>\n",
              "      <td>-0.066803</td>\n",
              "      <td>-0.481487</td>\n",
              "      <td>-0.035292</td>\n",
              "      <td>-0.148243</td>\n",
              "      <td>-0.246774</td>\n",
              "      <td>0.292685</td>\n",
              "    </tr>\n",
              "    <tr>\n",
              "      <th>5626</th>\n",
              "      <td>2.657583</td>\n",
              "      <td>0.018468</td>\n",
              "      <td>-0.540991</td>\n",
              "      <td>0.886167</td>\n",
              "      <td>-0.114646</td>\n",
              "      <td>-0.080243</td>\n",
              "      <td>-0.230551</td>\n",
              "      <td>-0.13655</td>\n",
              "      <td>-0.290173</td>\n",
              "      <td>-0.355706</td>\n",
              "      <td>...</td>\n",
              "      <td>-0.197379</td>\n",
              "      <td>-0.276260</td>\n",
              "      <td>-0.258321</td>\n",
              "      <td>0.490429</td>\n",
              "      <td>-0.066803</td>\n",
              "      <td>-0.481487</td>\n",
              "      <td>-0.035292</td>\n",
              "      <td>-0.148243</td>\n",
              "      <td>-0.246774</td>\n",
              "      <td>0.292685</td>\n",
              "    </tr>\n",
              "  </tbody>\n",
              "</table>\n",
              "<p>5627 rows × 33 columns</p>\n",
              "</div>\n",
              "      <button class=\"colab-df-convert\" onclick=\"convertToInteractive('df-f93c34ee-6b43-4eb1-b45a-c28c2c306d08')\"\n",
              "              title=\"Convert this dataframe to an interactive table.\"\n",
              "              style=\"display:none;\">\n",
              "        \n",
              "  <svg xmlns=\"http://www.w3.org/2000/svg\" height=\"24px\"viewBox=\"0 0 24 24\"\n",
              "       width=\"24px\">\n",
              "    <path d=\"M0 0h24v24H0V0z\" fill=\"none\"/>\n",
              "    <path d=\"M18.56 5.44l.94 2.06.94-2.06 2.06-.94-2.06-.94-.94-2.06-.94 2.06-2.06.94zm-11 1L8.5 8.5l.94-2.06 2.06-.94-2.06-.94L8.5 2.5l-.94 2.06-2.06.94zm10 10l.94 2.06.94-2.06 2.06-.94-2.06-.94-.94-2.06-.94 2.06-2.06.94z\"/><path d=\"M17.41 7.96l-1.37-1.37c-.4-.4-.92-.59-1.43-.59-.52 0-1.04.2-1.43.59L10.3 9.45l-7.72 7.72c-.78.78-.78 2.05 0 2.83L4 21.41c.39.39.9.59 1.41.59.51 0 1.02-.2 1.41-.59l7.78-7.78 2.81-2.81c.8-.78.8-2.07 0-2.86zM5.41 20L4 18.59l7.72-7.72 1.47 1.35L5.41 20z\"/>\n",
              "  </svg>\n",
              "      </button>\n",
              "      \n",
              "  <style>\n",
              "    .colab-df-container {\n",
              "      display:flex;\n",
              "      flex-wrap:wrap;\n",
              "      gap: 12px;\n",
              "    }\n",
              "\n",
              "    .colab-df-convert {\n",
              "      background-color: #E8F0FE;\n",
              "      border: none;\n",
              "      border-radius: 50%;\n",
              "      cursor: pointer;\n",
              "      display: none;\n",
              "      fill: #1967D2;\n",
              "      height: 32px;\n",
              "      padding: 0 0 0 0;\n",
              "      width: 32px;\n",
              "    }\n",
              "\n",
              "    .colab-df-convert:hover {\n",
              "      background-color: #E2EBFA;\n",
              "      box-shadow: 0px 1px 2px rgba(60, 64, 67, 0.3), 0px 1px 3px 1px rgba(60, 64, 67, 0.15);\n",
              "      fill: #174EA6;\n",
              "    }\n",
              "\n",
              "    [theme=dark] .colab-df-convert {\n",
              "      background-color: #3B4455;\n",
              "      fill: #D2E3FC;\n",
              "    }\n",
              "\n",
              "    [theme=dark] .colab-df-convert:hover {\n",
              "      background-color: #434B5C;\n",
              "      box-shadow: 0px 1px 3px 1px rgba(0, 0, 0, 0.15);\n",
              "      filter: drop-shadow(0px 1px 2px rgba(0, 0, 0, 0.3));\n",
              "      fill: #FFFFFF;\n",
              "    }\n",
              "  </style>\n",
              "\n",
              "      <script>\n",
              "        const buttonEl =\n",
              "          document.querySelector('#df-f93c34ee-6b43-4eb1-b45a-c28c2c306d08 button.colab-df-convert');\n",
              "        buttonEl.style.display =\n",
              "          google.colab.kernel.accessAllowed ? 'block' : 'none';\n",
              "\n",
              "        async function convertToInteractive(key) {\n",
              "          const element = document.querySelector('#df-f93c34ee-6b43-4eb1-b45a-c28c2c306d08');\n",
              "          const dataTable =\n",
              "            await google.colab.kernel.invokeFunction('convertToInteractive',\n",
              "                                                     [key], {});\n",
              "          if (!dataTable) return;\n",
              "\n",
              "          const docLinkHtml = 'Like what you see? Visit the ' +\n",
              "            '<a target=\"_blank\" href=https://colab.research.google.com/notebooks/data_table.ipynb>data table notebook</a>'\n",
              "            + ' to learn more about interactive tables.';\n",
              "          element.innerHTML = '';\n",
              "          dataTable['output_type'] = 'display_data';\n",
              "          await google.colab.output.renderOutput(dataTable, element);\n",
              "          const docLink = document.createElement('div');\n",
              "          docLink.innerHTML = docLinkHtml;\n",
              "          element.appendChild(docLink);\n",
              "        }\n",
              "      </script>\n",
              "    </div>\n",
              "  </div>\n",
              "  "
            ]
          },
          "metadata": {},
          "execution_count": 198
        }
      ]
    },
    {
      "cell_type": "markdown",
      "source": [
        "## 2.7 PCA"
      ],
      "metadata": {
        "id": "Z5O_5UZl3jCJ"
      }
    },
    {
      "cell_type": "code",
      "source": [
        "# from sklearn.decomposition import PCA  # to apply PCA\n",
        "\n",
        "#Taking no. of Principal Components as 3\n",
        "#pca = PCA(n_components = 10)\n",
        "#pca.fit(x)\n",
        "#data_pca = pca.transform(x)\n",
        "#data_pca = pd.DataFrame(data_pca,columns=['PC1','PC2','PC3','PC4','PC5','PC6','PC7','PC8','PC9','PC10'])\n",
        "#data_pca.head()"
      ],
      "metadata": {
        "id": "tzLV9b0E3cKG"
      },
      "execution_count": null,
      "outputs": []
    },
    {
      "cell_type": "markdown",
      "source": [
        "# 3. Modeling"
      ],
      "metadata": {
        "id": "93_U-PeVxL8L"
      }
    },
    {
      "cell_type": "markdown",
      "source": [
        "## 3.1 Spliting Training and Test dataset"
      ],
      "metadata": {
        "id": "BgLITniexmoM"
      }
    },
    {
      "cell_type": "code",
      "source": [
        "from sklearn.model_selection import train_test_split\n",
        "\n",
        "X_train, X_test, y_train, y_test = train_test_split(scaled_x, y, test_size=0.25, random_state=234) # scaled_x"
      ],
      "metadata": {
        "id": "N5rKGpUdxd9m"
      },
      "execution_count": null,
      "outputs": []
    },
    {
      "cell_type": "markdown",
      "source": [
        "## 3.2 Training Model"
      ],
      "metadata": {
        "id": "ueZHLcBdx05H"
      }
    },
    {
      "cell_type": "markdown",
      "source": [
        "### Linear Regression"
      ],
      "metadata": {
        "id": "ZMUkth17x_q-"
      }
    },
    {
      "cell_type": "code",
      "source": [
        "from sklearn.metrics import mean_squared_error, mean_absolute_error, r2_score\n",
        "from sklearn.model_selection import cross_val_score\n",
        "from sklearn import *"
      ],
      "metadata": {
        "id": "MsONp-avhvEi"
      },
      "execution_count": null,
      "outputs": []
    },
    {
      "cell_type": "code",
      "source": [
        "from sklearn.linear_model import LinearRegression\n",
        "\n",
        "ln = LinearRegression()\n",
        "# cvs_ln = cross_val_score(ln,X_train,y_train,cv=5,scoring='r2')\n",
        "# cvs_ln"
      ],
      "metadata": {
        "id": "AchpBPD4yDx7"
      },
      "execution_count": null,
      "outputs": []
    },
    {
      "cell_type": "code",
      "source": [
        "ln.fit(X_train,y_train)\n",
        "ln_pred = ln.predict(X_test)"
      ],
      "metadata": {
        "id": "FkvicwaRmiSa"
      },
      "execution_count": null,
      "outputs": []
    },
    {
      "cell_type": "code",
      "source": [
        "ln_mse = metrics.mean_squared_error(y_test, ln_pred)\n",
        "ln_mae = metrics.mean_absolute_error(y_test, ln_pred)\n",
        "ln_rmse = np.sqrt(ln_mse)\n",
        "ln_r2 = metrics.r2_score(y_test, ln_pred)\n",
        "\n",
        "print(\"Mean Squared Error: {}\".format(ln_mse))\n",
        "print(\"Mean Absolute Error: {}\".format(ln_mae))\n",
        "print(\"Root Mean Absolute Error: {}\".format(ln_rmse))\n",
        "print(\"R2 score: {}\".format(ln_r2))S"
      ],
      "metadata": {
        "colab": {
          "base_uri": "https://localhost:8080/"
        },
        "id": "4BUNZ4UZmkcN",
        "outputId": "aa02d8c4-16cc-4f03-c3f4-af427c99530c"
      },
      "execution_count": null,
      "outputs": [
        {
          "output_type": "stream",
          "name": "stdout",
          "text": [
            "Mean Squared Error: 0.17067147952580533\n",
            "Mean Absolute Error: 0.31761398319494405\n",
            "Root Mean Absolute Error: 0.41312404859292\n",
            "R2 score: 0.4090572951983644\n"
          ]
        }
      ]
    },
    {
      "cell_type": "markdown",
      "source": [
        "### Automatic feature selection by using featurewiz package"
      ],
      "metadata": {
        "id": "nkrKo5iodEgR"
      }
    },
    {
      "cell_type": "code",
      "source": [
        "#pip install featurewiz"
      ],
      "metadata": {
        "id": "UGQkMGHYNGAK"
      },
      "execution_count": null,
      "outputs": []
    },
    {
      "cell_type": "code",
      "source": [
        "# import pandas as pd\n",
        "# import numpy as np\n",
        "# import seaborn as sns\n",
        "# from sklearn.model_selection import train_test_split\n",
        "# from sklearn.preprocessing import StandardScaler\n",
        "# from sklearn.ensemble import RandomForestClassifier\n",
        "# from sklearn.linear_model import LogisticRegression\n",
        "# from sklearn.metrics import accuracy_score\n",
        "# from featurewiz import featurewiz"
      ],
      "metadata": {
        "id": "_E54q12BOWyC"
      },
      "execution_count": null,
      "outputs": []
    },
    {
      "cell_type": "code",
      "source": [
        "# X_scaled =  StandardScaler().fit_transform(x)"
      ],
      "metadata": {
        "id": "hPWirRIPNN1u"
      },
      "execution_count": null,
      "outputs": []
    },
    {
      "cell_type": "code",
      "source": [
        "# X_train, X_valid, y_train, y_valid = train_test_split(X_scaled,y,test_size = 0.2)"
      ],
      "metadata": {
        "id": "_CC1Qf0sNnSz"
      },
      "execution_count": null,
      "outputs": []
    },
    {
      "cell_type": "code",
      "source": [
        "# from sklearn.linear_model import LinearRegression\n",
        "# lg_model = LinearRegression()\n",
        "# lg_model.fit(X_train,y_train)"
      ],
      "metadata": {
        "id": "gp6Af71eOBay"
      },
      "execution_count": null,
      "outputs": []
    },
    {
      "cell_type": "code",
      "source": [
        "# lg_pred = lg_model.predict(X_valid)"
      ],
      "metadata": {
        "id": "2NWsp8-eOQ3a"
      },
      "execution_count": null,
      "outputs": []
    },
    {
      "cell_type": "code",
      "source": [
        "# lg_mse = metrics.mean_squared_error(y_valid, lg_pred)\n",
        "# lg_mae = metrics.mean_absolute_error(y_valid, lg_pred)\n",
        "# lgr_rmse = np.sqrt(lg_mse)\n",
        "# lg_r2 = metrics.r2_score(y_valid, lg_pred)\n",
        "\n",
        "# print(\"Mean Squared Error: {}\".format(lg_mse))\n",
        "# print(\"Mean Absolute Error: {}\".format(lg_mae))\n",
        "# print(\"Root Mean Absolute Error: {}\".format(lgr_rmse))\n",
        "# print(\"R2 score: {}\".format(lg_r2))"
      ],
      "metadata": {
        "id": "1HuXZ7dvOl24"
      },
      "execution_count": null,
      "outputs": []
    },
    {
      "cell_type": "code",
      "source": [
        "# automatic feature selection by using featurewiz package\n",
        "# target = 'price_log'\n",
        "\n",
        "# features, train = featurewiz(df_listings_dum, target, corr_limit=0.7, verbose=2, sep=\",\",\n",
        "# header=0,test_data=\"\", feature_engg=\"\", category_encoders=\"\")"
      ],
      "metadata": {
        "id": "pJR7YqkCPXxB"
      },
      "execution_count": null,
      "outputs": []
    },
    {
      "cell_type": "code",
      "source": [
        "# print(features)"
      ],
      "metadata": {
        "id": "CnN2JvtyPy-L"
      },
      "execution_count": null,
      "outputs": []
    },
    {
      "cell_type": "code",
      "source": [
        "#split data into feature and target\n",
        "# X_new = train.drop(['price_log'],axis=1)\n",
        "\n",
        "# y = train.price_log.values"
      ],
      "metadata": {
        "id": "pZCM8fNvP1pR"
      },
      "execution_count": null,
      "outputs": []
    },
    {
      "cell_type": "code",
      "source": [
        "# X_scaled =  StandardScaler().fit_transform(X_new)"
      ],
      "metadata": {
        "id": "OgLYdC7FQzeN"
      },
      "execution_count": null,
      "outputs": []
    },
    {
      "cell_type": "code",
      "source": [
        "# X_train, X_valid, y_train, y_valid = train_test_split(X_scaled,y,test_size = 0.2)"
      ],
      "metadata": {
        "id": "gRZ90pFTQ2cS"
      },
      "execution_count": null,
      "outputs": []
    },
    {
      "cell_type": "code",
      "source": [
        "# from sklearn.linear_model import LinearRegression\n",
        "# lg_model = LinearRegression()\n",
        "# lg_model.fit(X_train,y_train)"
      ],
      "metadata": {
        "id": "W7mKVrWuQ4x6"
      },
      "execution_count": null,
      "outputs": []
    },
    {
      "cell_type": "code",
      "source": [
        "# lg_pred = lg_model.predict(X_valid)"
      ],
      "metadata": {
        "id": "BSpK9OVeQ7ND"
      },
      "execution_count": null,
      "outputs": []
    },
    {
      "cell_type": "code",
      "source": [
        "# lg_mse = metrics.mean_squared_error(y_valid, lg_pred)\n",
        "# lg_mae = metrics.mean_absolute_error(y_valid, lg_pred)\n",
        "# lgr_rmse = np.sqrt(lg_mae)\n",
        "# lg_r2 = metrics.r2_score(y_valid, lg_pred)\n",
        "\n",
        "# print(\"Mean Squared Error: {}\".format(lg_mse))\n",
        "# print(\"Mean Absolute Error: {}\".format(lg_mae))\n",
        "# print(\"Root Mean Absolute Error: {}\".format(lgr_rmse))\n",
        "# print(\"R2 score: {}\".format(lg_r2))"
      ],
      "metadata": {
        "id": "lSCeaEY2Q9F8"
      },
      "execution_count": null,
      "outputs": []
    },
    {
      "cell_type": "markdown",
      "source": [
        "### Random Forest"
      ],
      "metadata": {
        "id": "xM6APeI8fh0p"
      }
    },
    {
      "cell_type": "code",
      "source": [
        "from sklearn.ensemble import RandomForestRegressor\n",
        "\n",
        "# model = RandomForestRegressor()\n",
        "\n",
        "# model.fit(X_train, y_train)\n",
        "\n",
        "# print(f'model score on training data: {model.score(X_train, y_train)}')\n",
        "# print(f'model score on testing data: {model.score(X_test, y_test)}')"
      ],
      "metadata": {
        "id": "15eeuWJ_fgIr"
      },
      "execution_count": null,
      "outputs": []
    },
    {
      "cell_type": "code",
      "source": [
        "# random Forest Model:\n",
        "\n",
        "ran = RandomForestRegressor(n_estimators=80, random_state=42)\n",
        "ran.fit(X_train, y_train)\n",
        "\n",
        "#Predict\n",
        "y_preds = ran.predict(X_test)\n",
        "\n",
        "print('Mean Absolute Error:', metrics.mean_absolute_error(y_test, y_preds))\n",
        "print('Mean Squared Error:', metrics.mean_squared_error(y_test, y_preds))\n",
        "print('Root Mean Squared Error:', np.sqrt(metrics.mean_squared_error(y_test, y_preds)))\n",
        "print('r2:', r2_score(y_test, y_preds))"
      ],
      "metadata": {
        "colab": {
          "base_uri": "https://localhost:8080/"
        },
        "id": "Kbgs7FUEHjUa",
        "outputId": "2f5e5c88-88e0-4e92-d97c-13e2dba26800"
      },
      "execution_count": null,
      "outputs": [
        {
          "output_type": "stream",
          "name": "stdout",
          "text": [
            "Mean Absolute Error: 0.34994942189048195\n",
            "Mean Squared Error: 0.20357129168740856\n",
            "Root Mean Squared Error: 0.4511887539460714\n",
            "r2: 0.29514310144870537\n"
          ]
        }
      ]
    },
    {
      "cell_type": "markdown",
      "source": [
        "### Ridge Regression"
      ],
      "metadata": {
        "id": "om-tRPqtHosn"
      }
    },
    {
      "cell_type": "code",
      "source": [
        "#Ridge Regression:\n",
        "\n",
        "from sklearn.linear_model import RidgeCV\n",
        "\n",
        "rid_model = RidgeCV(alphas=np.arange(0, 1, 0.10), cv=10, scoring='neg_mean_absolute_error')\n",
        "\n",
        "rid_model.fit(X_train, y_train)\n",
        "\n",
        "print('alpha: %f' % rid_model.alpha_)"
      ],
      "metadata": {
        "colab": {
          "base_uri": "https://localhost:8080/"
        },
        "id": "KQNfONdnHn9U",
        "outputId": "ae43c087-471d-40e5-cc22-57b643ee7864"
      },
      "execution_count": null,
      "outputs": [
        {
          "output_type": "stream",
          "name": "stdout",
          "text": [
            "alpha: 0.900000\n"
          ]
        }
      ]
    },
    {
      "cell_type": "code",
      "source": [
        "#ridge_model = Ridge(alpha=0.1)\n",
        "#ridge_model.fit(X_train, y_train)\n",
        "\n",
        "y_predict = rid_model.predict(X_test)\n",
        "np.sqrt(mean_squared_error(y_test, y_predict))"
      ],
      "metadata": {
        "colab": {
          "base_uri": "https://localhost:8080/"
        },
        "id": "qEGNOvdsHvIf",
        "outputId": "6d71e49c-81de-4a37-fde0-ea65010b8ca3"
      },
      "execution_count": null,
      "outputs": [
        {
          "output_type": "execute_result",
          "data": {
            "text/plain": [
              "0.4019028748373196"
            ]
          },
          "metadata": {},
          "execution_count": 207
        }
      ]
    },
    {
      "cell_type": "code",
      "source": [
        "print('Mean Absolute Error:', metrics.mean_absolute_error(y_test, y_predict))\n",
        "print('Mean Squared Error:', metrics.mean_squared_error(y_test, y_predict))\n",
        "print('Root Mean Squared Error:', np.sqrt(metrics.mean_squared_error(y_test, y_predict)))\n",
        "print('r2:', r2_score(y_test, y_predict))"
      ],
      "metadata": {
        "colab": {
          "base_uri": "https://localhost:8080/"
        },
        "id": "2kSrwsfSHwm8",
        "outputId": "758a22ff-6495-4420-f030-e23332bdeba8"
      },
      "execution_count": null,
      "outputs": [
        {
          "output_type": "stream",
          "name": "stdout",
          "text": [
            "Mean Absolute Error: 0.31553721714211963\n",
            "Mean Squared Error: 0.1615259208025022\n",
            "Root Mean Squared Error: 0.4019028748373196\n",
            "r2: 0.4504413887524047\n"
          ]
        }
      ]
    },
    {
      "cell_type": "markdown",
      "source": [
        "### Lasso"
      ],
      "metadata": {
        "id": "jBXomL9aHzpa"
      }
    },
    {
      "cell_type": "code",
      "source": [
        "from sklearn.linear_model import Lasso\n",
        "lasso= Lasso(alpha=0.001)\n",
        "cvs_lasso=cross_val_score(lasso,X_train,y_train,cv=5,scoring='r2')\n",
        "cvs_lasso"
      ],
      "metadata": {
        "colab": {
          "base_uri": "https://localhost:8080/"
        },
        "id": "eWOQ3IjAH2Ly",
        "outputId": "72072d32-8c5c-4b33-cac1-af79b9ba4d86"
      },
      "execution_count": null,
      "outputs": [
        {
          "output_type": "execute_result",
          "data": {
            "text/plain": [
              "array([0.42405058, 0.4195157 , 0.41384491, 0.37526486, 0.42577981])"
            ]
          },
          "metadata": {},
          "execution_count": 209
        }
      ]
    },
    {
      "cell_type": "code",
      "source": [
        "cvs_lasso.mean()"
      ],
      "metadata": {
        "colab": {
          "base_uri": "https://localhost:8080/"
        },
        "id": "0puXPRUTH3QE",
        "outputId": "30ef8e34-e6e1-4851-ce85-c6243bc18b47"
      },
      "execution_count": null,
      "outputs": [
        {
          "output_type": "execute_result",
          "data": {
            "text/plain": [
              "0.4116911721537929"
            ]
          },
          "metadata": {},
          "execution_count": 210
        }
      ]
    },
    {
      "cell_type": "code",
      "source": [
        "lasso.fit(X_train,y_train)\n",
        "lasso_model_prediction = lasso.predict(X_test)"
      ],
      "metadata": {
        "id": "6SbwqITiH4ir"
      },
      "execution_count": null,
      "outputs": []
    },
    {
      "cell_type": "code",
      "source": [
        "lasso_mse_best = metrics.mean_squared_error(y_test, lasso_model_prediction)\n",
        "lasso_mae_best = metrics.mean_absolute_error(y_test, lasso_model_prediction)\n",
        "lasso_rmse_best = np.sqrt(lasso_mse_best)\n",
        "lasso_r2_best = metrics.r2_score(y_test, lasso_model_prediction)\n",
        "\n",
        "print(\"Mean Squared Error: {}\".format(lasso_mse_best))\n",
        "print(\"Mean Absolute Error: {}\".format(lasso_mae_best))\n",
        "print(\"Root Mean Absolute Error: {}\".format(lasso_rmse_best))\n",
        "print(\"R2 score: {}\".format(lasso_r2_best))"
      ],
      "metadata": {
        "colab": {
          "base_uri": "https://localhost:8080/"
        },
        "id": "ov0t1iXlH5yV",
        "outputId": "03acba29-7d94-4361-c7c3-66409d0cef14"
      },
      "execution_count": null,
      "outputs": [
        {
          "output_type": "stream",
          "name": "stdout",
          "text": [
            "Mean Squared Error: 0.16169327656486707\n",
            "Mean Absolute Error: 0.3155324363744083\n",
            "Root Mean Absolute Error: 0.4021110251719879\n",
            "R2 score: 0.449871995308352\n"
          ]
        }
      ]
    },
    {
      "cell_type": "markdown",
      "source": [
        "### XGBoost"
      ],
      "metadata": {
        "id": "l_9-w3hLH7X3"
      }
    },
    {
      "cell_type": "code",
      "source": [
        "import xgboost as xgb\n",
        "xgb=xgb.XGBRegressor(objective=\"reg:linear\",learning_rate=0.1,n_estimators=400)\n",
        "# cvs_xgb=cross_val_score(xgb,X_train,y_train,cv=5,scoring='r2')\n",
        "# cvs_xgb"
      ],
      "metadata": {
        "id": "Zfnxc2_cH9U0"
      },
      "execution_count": null,
      "outputs": []
    },
    {
      "cell_type": "code",
      "source": [
        "# cvs_xgb.mean()"
      ],
      "metadata": {
        "id": "XpwIKj4AH-LJ"
      },
      "execution_count": null,
      "outputs": []
    },
    {
      "cell_type": "code",
      "source": [
        "xgb.fit(X_train,y_train)\n",
        "xgb_model_prediction = xgb.predict(X_test)"
      ],
      "metadata": {
        "colab": {
          "base_uri": "https://localhost:8080/"
        },
        "id": "0bOt2ohaH_6B",
        "outputId": "45cecfa9-112b-4606-8e32-ac458bf37505"
      },
      "execution_count": null,
      "outputs": [
        {
          "output_type": "stream",
          "name": "stdout",
          "text": [
            "[20:02:32] WARNING: /workspace/src/objective/regression_obj.cu:152: reg:linear is now deprecated in favor of reg:squarederror.\n"
          ]
        }
      ]
    },
    {
      "cell_type": "code",
      "source": [
        "xgb_mse_best = metrics.mean_squared_error(y_test, xgb_model_prediction)\n",
        "xgb_mae_best = metrics.mean_absolute_error(y_test, xgb_model_prediction)\n",
        "xgb_rmse_best = np.sqrt(xgb_mse_best)\n",
        "xgb_r2_best = metrics.r2_score(y_test, xgb_model_prediction)\n",
        "\n",
        "print(\"Mean Squared Error: {}\".format(xgb_mse_best))\n",
        "print(\"Mean Absolute Error: {}\".format(xgb_mae_best))\n",
        "print(\"Root Mean Absolute Error: {}\".format(xgb_rmse_best))\n",
        "print(\"R2 score: {}\".format(xgb_r2_best))"
      ],
      "metadata": {
        "colab": {
          "base_uri": "https://localhost:8080/"
        },
        "id": "3VZLhytvIBgC",
        "outputId": "fceb651c-6e04-4a9d-9cdf-18c70db51c76"
      },
      "execution_count": null,
      "outputs": [
        {
          "output_type": "stream",
          "name": "stdout",
          "text": [
            "Mean Squared Error: 0.16098462870637106\n",
            "Mean Absolute Error: 0.3134679304883953\n",
            "Root Mean Absolute Error: 0.4012288981446514\n",
            "R2 score: 0.4522830234024423\n"
          ]
        }
      ]
    },
    {
      "cell_type": "markdown",
      "source": [
        "### Gradient"
      ],
      "metadata": {
        "id": "BLFsg3x5IEyr"
      }
    },
    {
      "cell_type": "code",
      "source": [
        "from sklearn.ensemble import GradientBoostingRegressor\n",
        "gdb=GradientBoostingRegressor(n_estimators=100)\n",
        "# cvs_gdb=cross_val_score(gdb,X_train,y_train,cv=5,scoring='r2')\n",
        "# cvs_gdb"
      ],
      "metadata": {
        "id": "PgODF8icID0S"
      },
      "execution_count": null,
      "outputs": []
    },
    {
      "cell_type": "code",
      "source": [
        "# cvs_gdb.mean()"
      ],
      "metadata": {
        "id": "o_JGdyPMIITL"
      },
      "execution_count": null,
      "outputs": []
    },
    {
      "cell_type": "code",
      "source": [
        "gdb.fit(X_train,y_train)\n",
        "gdb_model_prediction = gdb.predict(X_test)"
      ],
      "metadata": {
        "id": "_nmw4UvWIJMl"
      },
      "execution_count": null,
      "outputs": []
    },
    {
      "cell_type": "code",
      "source": [
        "gdb_mse_best = metrics.mean_squared_error(y_test, gdb_model_prediction)\n",
        "gdb_mae_best = metrics.mean_absolute_error(y_test, gdb_model_prediction)\n",
        "gdb_rmse_best = np.sqrt(gdb_mse_best)\n",
        "gdb_r2_best = metrics.r2_score(y_test, gdb_model_prediction)\n",
        "\n",
        "print(\"Mean Squared Error: {}\".format(gdb_mse_best))\n",
        "print(\"Mean Absolute Error: {}\".format(gdb_mae_best))\n",
        "print(\"Root Mean Absolute Error: {}\".format(gdb_rmse_best))\n",
        "print(\"R2 score: {}\".format(gdb_r2_best))"
      ],
      "metadata": {
        "colab": {
          "base_uri": "https://localhost:8080/"
        },
        "id": "k27N5VLHIKvv",
        "outputId": "bb8fd3a8-2633-4d66-d6f9-ae4a2c09314f"
      },
      "execution_count": null,
      "outputs": [
        {
          "output_type": "stream",
          "name": "stdout",
          "text": [
            "Mean Squared Error: 0.16152443481091447\n",
            "Mean Absolute Error: 0.3126629302096471\n",
            "Root Mean Absolute Error: 0.4019010261381706\n",
            "R2 score: 0.45044644453211624\n"
          ]
        }
      ]
    },
    {
      "cell_type": "markdown",
      "source": [
        "### Ridge, Lasso, ElasticNet, Lightgbm and GradientBoosting"
      ],
      "metadata": {
        "id": "NL7k1OpPG2L4"
      }
    },
    {
      "cell_type": "code",
      "source": [
        "from sklearn.model_selection import KFold, cross_val_score\n",
        "from sklearn.metrics import mean_squared_error\n",
        "\n",
        "# Root Mean Squared Logarithmic Error ，RMSLE\n",
        "def rmsle(y, y_pred):\n",
        "    return np.sqrt(mean_squared_error(y, y_pred))\n",
        "\n",
        "#\n",
        "def cv_rmse(model):\n",
        "    rmse = np.sqrt(-cross_val_score(model, X_train, y_train, scoring=\"neg_mean_squared_error\", cv=10))\n",
        "    return (rmse)"
      ],
      "metadata": {
        "id": "WAxiu0oV_AUt"
      },
      "execution_count": null,
      "outputs": []
    },
    {
      "cell_type": "code",
      "source": [
        "from sklearn.linear_model import Lasso, Ridge, ElasticNet\n",
        "from sklearn.ensemble import GradientBoostingRegressor\n",
        "from xgboost import XGBRegressor\n",
        "from lightgbm import LGBMRegressor"
      ],
      "metadata": {
        "id": "PTdqvK9c_AHr"
      },
      "execution_count": null,
      "outputs": []
    },
    {
      "cell_type": "code",
      "source": [
        "#ridge\n",
        "ridge = Ridge()\n",
        "\n",
        "#lasso\n",
        "lasso = Lasso()\n",
        "\n",
        "#elastic net\n",
        "elasticnet = ElasticNet()\n",
        "\n",
        "#GradientBoosting\n",
        "gbr = GradientBoostingRegressor(n_estimators=3000)\n",
        "\n",
        "\n",
        "#lightgbm\n",
        "lightgbm = LGBMRegressor(\n",
        "    objective='regression',\n",
        "    num_leaves=4,\n",
        "    learning_rate=0.01,\n",
        "    n_estimators=5000)\n",
        "\n",
        "#xgboost（\n",
        "xgb = XGBRegressor(learning_rate=0.01,\n",
        "                   booster='gbtree',\n",
        "                   objective='reg:linear',\n",
        "                   eval_metric='rmse',\n",
        "                   max_depth=3,\n",
        "                   min_child_weight=0,\n",
        "                   n_estimators=3000)"
      ],
      "metadata": {
        "id": "jOHCRZV8_GAr"
      },
      "execution_count": null,
      "outputs": []
    },
    {
      "cell_type": "code",
      "source": [
        "print('TEST score')\n",
        "\n",
        "score = cv_rmse(ridge)\n",
        "print(\"Ridge score: {:.4f} ({:.4f})\\n\".format(score.mean(), score.std()) )\n",
        "\n",
        "score = cv_rmse(lasso)\n",
        "print(\"Lasso score: {:.4f} ({:.4f})\\n\".format(score.mean(), score.std()) )\n",
        "\n",
        "score = cv_rmse(elasticnet)\n",
        "print(\"ElasticNet score: {:.4f} ({:.4f})\\n\".format(score.mean(), score.std()))\n",
        "\n",
        "score = cv_rmse(lightgbm)\n",
        "print(\"Lightgbm score: {:.4f} ({:.4f})\\n\".format(score.mean(), score.std()))\n",
        "\n",
        "score = cv_rmse(gbr)\n",
        "print(\"GradientBoosting score: {:.4f} ({:.4f})\\n\".format(score.mean(), score.std()))\n",
        "\n",
        "score = cv_rmse(xgb)\n",
        "print(\"Xgboost score: {:.4f} ({:.4f})\\n\".format(score.mean(), score.std()))"
      ],
      "metadata": {
        "id": "qLc05XTo_Ive"
      },
      "execution_count": null,
      "outputs": []
    }
  ]
}